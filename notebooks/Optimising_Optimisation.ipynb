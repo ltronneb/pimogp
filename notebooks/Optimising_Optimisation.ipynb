{
 "cells": [
  {
   "cell_type": "markdown",
   "id": "d45a9ac4-a441-46a8-9570-6f1c82d72c6e",
   "metadata": {},
   "source": [
    "# Optimising the Optimisation\n",
    "In this notebook, I look at how many inducing points, latent functions and LMC components I need to train the prediction model to beat a simple baseline.\n",
    "\n",
    "I'll look at the ONeil dataset, in the LTO setting, using processed viability to predict the missing triplets. For comparison we use the simple Bliss non-interaction assumption.\n",
    "\n",
    "Focussing on a single cell line, and a subset of the drugs, I can quickly get a sense of how many latent functions I need and how many inducing points they need."
   ]
  },
  {
   "cell_type": "code",
   "execution_count": 243,
   "id": "0243a31b-7ad5-4807-aeb5-953632d6d827",
   "metadata": {},
   "outputs": [],
   "source": [
    "import torch\n",
    "import gpytorch\n",
    "import pimogp\n",
    "from pimogp.utils.utils import train_test_split_drugdata, prepdata\n",
    "from pimogp.utils.runModel import runmodel"
   ]
  },
  {
   "cell_type": "code",
   "execution_count": 308,
   "id": "855dec35-de1c-4b93-b9bd-55a33cbfeb0e",
   "metadata": {},
   "outputs": [],
   "source": [
    "# Set some parameters\n",
    "input_type = \"processed\"\n",
    "targets = \"fMean\"\n",
    "predtarget = \"viability\"\n",
    "dataset = \"ONeil\"\n",
    "#seed = 12\n",
    "seed = 42\n",
    "setting = \"LTO\"\n",
    "data, train, test, ids = train_test_split_drugdata(input_type=input_type,dataset=dataset,setting=setting,seed=seed)"
   ]
  },
  {
   "cell_type": "code",
   "execution_count": 309,
   "id": "fce5724a-0294-4d59-a889-ea5b742b1b01",
   "metadata": {},
   "outputs": [],
   "source": [
    "# Just subset the data here to see if the number of inducing points were the issue\n",
    "drugList = data[\"drugA\"].unique()[0:8]"
   ]
  },
  {
   "cell_type": "code",
   "execution_count": 310,
   "id": "8e0d162b-a113-4a47-bbef-cfdd32fc9173",
   "metadata": {},
   "outputs": [
    {
     "data": {
      "text/plain": [
       "array(['5-FU', 'ABT-888', 'AZD1775', 'BEZ-235', 'Bortezomib',\n",
       "       'Carboplatin', 'Cyclophosphamide', 'Dasatinib'], dtype=object)"
      ]
     },
     "execution_count": 310,
     "metadata": {},
     "output_type": "execute_result"
    }
   ],
   "source": [
    "drugList"
   ]
  },
  {
   "cell_type": "code",
   "execution_count": 311,
   "id": "47743739-898b-4396-b38a-83770b39e90d",
   "metadata": {},
   "outputs": [],
   "source": [
    "train = train[train['drugA'].isin(drugList)]\n",
    "train = train[train['drugB'].isin(drugList)]\n",
    "test = test[test['drugA'].isin(drugList)]\n",
    "test = test[test['drugB'].isin(drugList)]"
   ]
  },
  {
   "cell_type": "code",
   "execution_count": 312,
   "id": "e88b1aa0-ee29-4e9a-8869-a35ec9d9d0ee",
   "metadata": {},
   "outputs": [
    {
     "data": {
      "text/plain": [
       "array(['A2058', 'A2780', 'A375', 'A427', 'CAOV3', 'COLO320DM', 'DLD1',\n",
       "       'EFM192B', 'ES2', 'HCT116', 'HT144', 'HT29', 'KPL1', 'LNCAP',\n",
       "       'LOVO', 'MDAMB436', 'MSTO', 'NCIH1650', 'NCIH2122', 'NCIH23',\n",
       "       'NCIH460', 'NCIH520', 'OCUBM', 'OV90', 'OVCAR3', 'PA1', 'RKO',\n",
       "       'RPMI7951', 'SKMEL30', 'SKMES1', 'SKOV3', 'SW620', 'SW837', 'T47D',\n",
       "       'UACC62', 'UWB1289', 'UWB1289BRCA1', 'VCAP', 'ZR751'], dtype=object)"
      ]
     },
     "execution_count": 312,
     "metadata": {},
     "output_type": "execute_result"
    }
   ],
   "source": [
    "train['cell_line'].unique()"
   ]
  },
  {
   "cell_type": "code",
   "execution_count": null,
   "id": "bd25957a-d688-4e72-a6ef-f510fca011a8",
   "metadata": {},
   "outputs": [],
   "source": []
  },
  {
   "cell_type": "code",
   "execution_count": 313,
   "id": "c314a039-510f-4ce8-9892-c0a75722b927",
   "metadata": {},
   "outputs": [
    {
     "data": {
      "text/html": [
       "<div>\n",
       "<style scoped>\n",
       "    .dataframe tbody tr th:only-of-type {\n",
       "        vertical-align: middle;\n",
       "    }\n",
       "\n",
       "    .dataframe tbody tr th {\n",
       "        vertical-align: top;\n",
       "    }\n",
       "\n",
       "    .dataframe thead th {\n",
       "        text-align: right;\n",
       "    }\n",
       "</style>\n",
       "<table border=\"1\" class=\"dataframe\">\n",
       "  <thead>\n",
       "    <tr style=\"text-align: right;\">\n",
       "      <th></th>\n",
       "      <th>cell_line</th>\n",
       "      <th>drugA</th>\n",
       "      <th>drugB</th>\n",
       "      <th>drugA_conc</th>\n",
       "      <th>drugB_conc</th>\n",
       "      <th>GPMean</th>\n",
       "      <th>GPVar</th>\n",
       "      <th>fMean</th>\n",
       "      <th>fVar</th>\n",
       "      <th>p0Mean</th>\n",
       "      <th>...</th>\n",
       "      <th>Blatent_247</th>\n",
       "      <th>Blatent_248</th>\n",
       "      <th>Blatent_249</th>\n",
       "      <th>Blatent_250</th>\n",
       "      <th>Blatent_251</th>\n",
       "      <th>Blatent_252</th>\n",
       "      <th>Blatent_253</th>\n",
       "      <th>Blatent_254</th>\n",
       "      <th>Blatent_255</th>\n",
       "      <th>task_index</th>\n",
       "    </tr>\n",
       "  </thead>\n",
       "  <tbody>\n",
       "    <tr>\n",
       "      <th>100</th>\n",
       "      <td>A2058</td>\n",
       "      <td>5-FU</td>\n",
       "      <td>AZD1775</td>\n",
       "      <td>0.0</td>\n",
       "      <td>0.000000</td>\n",
       "      <td>-0.013604</td>\n",
       "      <td>1.045780</td>\n",
       "      <td>0.999671</td>\n",
       "      <td>0.000001</td>\n",
       "      <td>0.999978</td>\n",
       "      <td>...</td>\n",
       "      <td>-0.867724</td>\n",
       "      <td>0.220996</td>\n",
       "      <td>-1.960651</td>\n",
       "      <td>-0.487429</td>\n",
       "      <td>0.869697</td>\n",
       "      <td>-0.920439</td>\n",
       "      <td>-0.149276</td>\n",
       "      <td>-1.853996</td>\n",
       "      <td>0.769671</td>\n",
       "      <td>0</td>\n",
       "    </tr>\n",
       "    <tr>\n",
       "      <th>101</th>\n",
       "      <td>A2058</td>\n",
       "      <td>5-FU</td>\n",
       "      <td>AZD1775</td>\n",
       "      <td>0.0</td>\n",
       "      <td>0.111111</td>\n",
       "      <td>-0.019983</td>\n",
       "      <td>1.011360</td>\n",
       "      <td>0.999656</td>\n",
       "      <td>0.000004</td>\n",
       "      <td>0.999977</td>\n",
       "      <td>...</td>\n",
       "      <td>-0.867724</td>\n",
       "      <td>0.220996</td>\n",
       "      <td>-1.960651</td>\n",
       "      <td>-0.487429</td>\n",
       "      <td>0.869697</td>\n",
       "      <td>-0.920439</td>\n",
       "      <td>-0.149276</td>\n",
       "      <td>-1.853996</td>\n",
       "      <td>0.769671</td>\n",
       "      <td>0</td>\n",
       "    </tr>\n",
       "    <tr>\n",
       "      <th>102</th>\n",
       "      <td>A2058</td>\n",
       "      <td>5-FU</td>\n",
       "      <td>AZD1775</td>\n",
       "      <td>0.0</td>\n",
       "      <td>0.222222</td>\n",
       "      <td>-0.035324</td>\n",
       "      <td>0.974131</td>\n",
       "      <td>0.999599</td>\n",
       "      <td>0.000016</td>\n",
       "      <td>0.999961</td>\n",
       "      <td>...</td>\n",
       "      <td>-0.867724</td>\n",
       "      <td>0.220996</td>\n",
       "      <td>-1.960651</td>\n",
       "      <td>-0.487429</td>\n",
       "      <td>0.869697</td>\n",
       "      <td>-0.920439</td>\n",
       "      <td>-0.149276</td>\n",
       "      <td>-1.853996</td>\n",
       "      <td>0.769671</td>\n",
       "      <td>0</td>\n",
       "    </tr>\n",
       "    <tr>\n",
       "      <th>103</th>\n",
       "      <td>A2058</td>\n",
       "      <td>5-FU</td>\n",
       "      <td>AZD1775</td>\n",
       "      <td>0.0</td>\n",
       "      <td>0.333333</td>\n",
       "      <td>-0.055318</td>\n",
       "      <td>0.939041</td>\n",
       "      <td>0.999442</td>\n",
       "      <td>0.000015</td>\n",
       "      <td>0.999812</td>\n",
       "      <td>...</td>\n",
       "      <td>-0.867724</td>\n",
       "      <td>0.220996</td>\n",
       "      <td>-1.960651</td>\n",
       "      <td>-0.487429</td>\n",
       "      <td>0.869697</td>\n",
       "      <td>-0.920439</td>\n",
       "      <td>-0.149276</td>\n",
       "      <td>-1.853996</td>\n",
       "      <td>0.769671</td>\n",
       "      <td>0</td>\n",
       "    </tr>\n",
       "    <tr>\n",
       "      <th>104</th>\n",
       "      <td>A2058</td>\n",
       "      <td>5-FU</td>\n",
       "      <td>AZD1775</td>\n",
       "      <td>0.0</td>\n",
       "      <td>0.444444</td>\n",
       "      <td>-0.069008</td>\n",
       "      <td>0.890884</td>\n",
       "      <td>0.997371</td>\n",
       "      <td>0.000023</td>\n",
       "      <td>0.998224</td>\n",
       "      <td>...</td>\n",
       "      <td>-0.867724</td>\n",
       "      <td>0.220996</td>\n",
       "      <td>-1.960651</td>\n",
       "      <td>-0.487429</td>\n",
       "      <td>0.869697</td>\n",
       "      <td>-0.920439</td>\n",
       "      <td>-0.149276</td>\n",
       "      <td>-1.853996</td>\n",
       "      <td>0.769671</td>\n",
       "      <td>0</td>\n",
       "    </tr>\n",
       "    <tr>\n",
       "      <th>...</th>\n",
       "      <td>...</td>\n",
       "      <td>...</td>\n",
       "      <td>...</td>\n",
       "      <td>...</td>\n",
       "      <td>...</td>\n",
       "      <td>...</td>\n",
       "      <td>...</td>\n",
       "      <td>...</td>\n",
       "      <td>...</td>\n",
       "      <td>...</td>\n",
       "      <td>...</td>\n",
       "      <td>...</td>\n",
       "      <td>...</td>\n",
       "      <td>...</td>\n",
       "      <td>...</td>\n",
       "      <td>...</td>\n",
       "      <td>...</td>\n",
       "      <td>...</td>\n",
       "      <td>...</td>\n",
       "      <td>...</td>\n",
       "      <td>...</td>\n",
       "    </tr>\n",
       "    <tr>\n",
       "      <th>1845195</th>\n",
       "      <td>ZR751</td>\n",
       "      <td>Dasatinib</td>\n",
       "      <td>ABT-888</td>\n",
       "      <td>1.0</td>\n",
       "      <td>0.555556</td>\n",
       "      <td>3.443112</td>\n",
       "      <td>1.661789</td>\n",
       "      <td>0.984591</td>\n",
       "      <td>0.000214</td>\n",
       "      <td>0.783509</td>\n",
       "      <td>...</td>\n",
       "      <td>0.662791</td>\n",
       "      <td>-1.682107</td>\n",
       "      <td>1.526193</td>\n",
       "      <td>0.382505</td>\n",
       "      <td>0.153059</td>\n",
       "      <td>-0.730538</td>\n",
       "      <td>0.906373</td>\n",
       "      <td>-1.006274</td>\n",
       "      <td>0.163534</td>\n",
       "      <td>38</td>\n",
       "    </tr>\n",
       "    <tr>\n",
       "      <th>1845196</th>\n",
       "      <td>ZR751</td>\n",
       "      <td>Dasatinib</td>\n",
       "      <td>ABT-888</td>\n",
       "      <td>1.0</td>\n",
       "      <td>0.666667</td>\n",
       "      <td>3.744701</td>\n",
       "      <td>1.571065</td>\n",
       "      <td>0.988569</td>\n",
       "      <td>0.000113</td>\n",
       "      <td>0.781150</td>\n",
       "      <td>...</td>\n",
       "      <td>0.662791</td>\n",
       "      <td>-1.682107</td>\n",
       "      <td>1.526193</td>\n",
       "      <td>0.382505</td>\n",
       "      <td>0.153059</td>\n",
       "      <td>-0.730538</td>\n",
       "      <td>0.906373</td>\n",
       "      <td>-1.006274</td>\n",
       "      <td>0.163534</td>\n",
       "      <td>38</td>\n",
       "    </tr>\n",
       "    <tr>\n",
       "      <th>1845197</th>\n",
       "      <td>ZR751</td>\n",
       "      <td>Dasatinib</td>\n",
       "      <td>ABT-888</td>\n",
       "      <td>1.0</td>\n",
       "      <td>0.777778</td>\n",
       "      <td>3.806897</td>\n",
       "      <td>1.516839</td>\n",
       "      <td>0.989273</td>\n",
       "      <td>0.000093</td>\n",
       "      <td>0.778835</td>\n",
       "      <td>...</td>\n",
       "      <td>0.662791</td>\n",
       "      <td>-1.682107</td>\n",
       "      <td>1.526193</td>\n",
       "      <td>0.382505</td>\n",
       "      <td>0.153059</td>\n",
       "      <td>-0.730538</td>\n",
       "      <td>0.906373</td>\n",
       "      <td>-1.006274</td>\n",
       "      <td>0.163534</td>\n",
       "      <td>38</td>\n",
       "    </tr>\n",
       "    <tr>\n",
       "      <th>1845198</th>\n",
       "      <td>ZR751</td>\n",
       "      <td>Dasatinib</td>\n",
       "      <td>ABT-888</td>\n",
       "      <td>1.0</td>\n",
       "      <td>0.888889</td>\n",
       "      <td>3.623041</td>\n",
       "      <td>1.500429</td>\n",
       "      <td>0.986925</td>\n",
       "      <td>0.000128</td>\n",
       "      <td>0.776562</td>\n",
       "      <td>...</td>\n",
       "      <td>0.662791</td>\n",
       "      <td>-1.682107</td>\n",
       "      <td>1.526193</td>\n",
       "      <td>0.382505</td>\n",
       "      <td>0.153059</td>\n",
       "      <td>-0.730538</td>\n",
       "      <td>0.906373</td>\n",
       "      <td>-1.006274</td>\n",
       "      <td>0.163534</td>\n",
       "      <td>38</td>\n",
       "    </tr>\n",
       "    <tr>\n",
       "      <th>1845199</th>\n",
       "      <td>ZR751</td>\n",
       "      <td>Dasatinib</td>\n",
       "      <td>ABT-888</td>\n",
       "      <td>1.0</td>\n",
       "      <td>1.000000</td>\n",
       "      <td>3.206788</td>\n",
       "      <td>1.808212</td>\n",
       "      <td>0.977759</td>\n",
       "      <td>0.000488</td>\n",
       "      <td>0.774339</td>\n",
       "      <td>...</td>\n",
       "      <td>0.662791</td>\n",
       "      <td>-1.682107</td>\n",
       "      <td>1.526193</td>\n",
       "      <td>0.382505</td>\n",
       "      <td>0.153059</td>\n",
       "      <td>-0.730538</td>\n",
       "      <td>0.906373</td>\n",
       "      <td>-1.006274</td>\n",
       "      <td>0.163534</td>\n",
       "      <td>38</td>\n",
       "    </tr>\n",
       "  </tbody>\n",
       "</table>\n",
       "<p>77600 rows × 525 columns</p>\n",
       "</div>"
      ],
      "text/plain": [
       "        cell_line      drugA    drugB  drugA_conc  drugB_conc    GPMean  \\\n",
       "100         A2058       5-FU  AZD1775         0.0    0.000000 -0.013604   \n",
       "101         A2058       5-FU  AZD1775         0.0    0.111111 -0.019983   \n",
       "102         A2058       5-FU  AZD1775         0.0    0.222222 -0.035324   \n",
       "103         A2058       5-FU  AZD1775         0.0    0.333333 -0.055318   \n",
       "104         A2058       5-FU  AZD1775         0.0    0.444444 -0.069008   \n",
       "...           ...        ...      ...         ...         ...       ...   \n",
       "1845195     ZR751  Dasatinib  ABT-888         1.0    0.555556  3.443112   \n",
       "1845196     ZR751  Dasatinib  ABT-888         1.0    0.666667  3.744701   \n",
       "1845197     ZR751  Dasatinib  ABT-888         1.0    0.777778  3.806897   \n",
       "1845198     ZR751  Dasatinib  ABT-888         1.0    0.888889  3.623041   \n",
       "1845199     ZR751  Dasatinib  ABT-888         1.0    1.000000  3.206788   \n",
       "\n",
       "            GPVar     fMean      fVar    p0Mean  ...  Blatent_247  \\\n",
       "100      1.045780  0.999671  0.000001  0.999978  ...    -0.867724   \n",
       "101      1.011360  0.999656  0.000004  0.999977  ...    -0.867724   \n",
       "102      0.974131  0.999599  0.000016  0.999961  ...    -0.867724   \n",
       "103      0.939041  0.999442  0.000015  0.999812  ...    -0.867724   \n",
       "104      0.890884  0.997371  0.000023  0.998224  ...    -0.867724   \n",
       "...           ...       ...       ...       ...  ...          ...   \n",
       "1845195  1.661789  0.984591  0.000214  0.783509  ...     0.662791   \n",
       "1845196  1.571065  0.988569  0.000113  0.781150  ...     0.662791   \n",
       "1845197  1.516839  0.989273  0.000093  0.778835  ...     0.662791   \n",
       "1845198  1.500429  0.986925  0.000128  0.776562  ...     0.662791   \n",
       "1845199  1.808212  0.977759  0.000488  0.774339  ...     0.662791   \n",
       "\n",
       "         Blatent_248  Blatent_249  Blatent_250  Blatent_251  Blatent_252  \\\n",
       "100         0.220996    -1.960651    -0.487429     0.869697    -0.920439   \n",
       "101         0.220996    -1.960651    -0.487429     0.869697    -0.920439   \n",
       "102         0.220996    -1.960651    -0.487429     0.869697    -0.920439   \n",
       "103         0.220996    -1.960651    -0.487429     0.869697    -0.920439   \n",
       "104         0.220996    -1.960651    -0.487429     0.869697    -0.920439   \n",
       "...              ...          ...          ...          ...          ...   \n",
       "1845195    -1.682107     1.526193     0.382505     0.153059    -0.730538   \n",
       "1845196    -1.682107     1.526193     0.382505     0.153059    -0.730538   \n",
       "1845197    -1.682107     1.526193     0.382505     0.153059    -0.730538   \n",
       "1845198    -1.682107     1.526193     0.382505     0.153059    -0.730538   \n",
       "1845199    -1.682107     1.526193     0.382505     0.153059    -0.730538   \n",
       "\n",
       "         Blatent_253  Blatent_254  Blatent_255  task_index  \n",
       "100        -0.149276    -1.853996     0.769671           0  \n",
       "101        -0.149276    -1.853996     0.769671           0  \n",
       "102        -0.149276    -1.853996     0.769671           0  \n",
       "103        -0.149276    -1.853996     0.769671           0  \n",
       "104        -0.149276    -1.853996     0.769671           0  \n",
       "...              ...          ...          ...         ...  \n",
       "1845195     0.906373    -1.006274     0.163534          38  \n",
       "1845196     0.906373    -1.006274     0.163534          38  \n",
       "1845197     0.906373    -1.006274     0.163534          38  \n",
       "1845198     0.906373    -1.006274     0.163534          38  \n",
       "1845199     0.906373    -1.006274     0.163534          38  \n",
       "\n",
       "[77600 rows x 525 columns]"
      ]
     },
     "execution_count": 313,
     "metadata": {},
     "output_type": "execute_result"
    }
   ],
   "source": [
    "train"
   ]
  },
  {
   "cell_type": "code",
   "execution_count": 314,
   "id": "56d58562-2740-4d3d-b3a3-f3c7e6df1178",
   "metadata": {},
   "outputs": [],
   "source": [
    "# Will focus on a single cell line, A2058\n",
    "cell_line = np.array([\"A2058\"])\n",
    "train = train[train['cell_line'].isin(cell_line)]\n",
    "test = test[test['cell_line'].isin(cell_line)] \n",
    "y_train, X_train, train_indices, train_noise, train_weights = prepdata(train, targets, predtarget,num_latents=256)\n",
    "y_test, X_test, test_indices, test_noise, test_weights = prepdata(test, targets, predtarget,num_latents=256)"
   ]
  },
  {
   "cell_type": "code",
   "execution_count": 315,
   "id": "fd5365ae-4f2e-40ac-8e80-f77e08d6f589",
   "metadata": {},
   "outputs": [
    {
     "data": {
      "text/html": [
       "<div>\n",
       "<style scoped>\n",
       "    .dataframe tbody tr th:only-of-type {\n",
       "        vertical-align: middle;\n",
       "    }\n",
       "\n",
       "    .dataframe tbody tr th {\n",
       "        vertical-align: top;\n",
       "    }\n",
       "\n",
       "    .dataframe thead th {\n",
       "        text-align: right;\n",
       "    }\n",
       "</style>\n",
       "<table border=\"1\" class=\"dataframe\">\n",
       "  <thead>\n",
       "    <tr style=\"text-align: right;\">\n",
       "      <th></th>\n",
       "      <th>cell_line</th>\n",
       "      <th>drugA</th>\n",
       "      <th>drugB</th>\n",
       "      <th>drugA_conc</th>\n",
       "      <th>drugB_conc</th>\n",
       "      <th>GPMean</th>\n",
       "      <th>GPVar</th>\n",
       "      <th>fMean</th>\n",
       "      <th>fVar</th>\n",
       "      <th>p0Mean</th>\n",
       "      <th>...</th>\n",
       "      <th>Blatent_247</th>\n",
       "      <th>Blatent_248</th>\n",
       "      <th>Blatent_249</th>\n",
       "      <th>Blatent_250</th>\n",
       "      <th>Blatent_251</th>\n",
       "      <th>Blatent_252</th>\n",
       "      <th>Blatent_253</th>\n",
       "      <th>Blatent_254</th>\n",
       "      <th>Blatent_255</th>\n",
       "      <th>task_index</th>\n",
       "    </tr>\n",
       "  </thead>\n",
       "  <tbody>\n",
       "    <tr>\n",
       "      <th>100</th>\n",
       "      <td>A2058</td>\n",
       "      <td>5-FU</td>\n",
       "      <td>AZD1775</td>\n",
       "      <td>0.0</td>\n",
       "      <td>0.000000</td>\n",
       "      <td>-0.013604</td>\n",
       "      <td>1.045780</td>\n",
       "      <td>0.999671</td>\n",
       "      <td>0.000001</td>\n",
       "      <td>0.999978</td>\n",
       "      <td>...</td>\n",
       "      <td>-0.867724</td>\n",
       "      <td>0.220996</td>\n",
       "      <td>-1.960651</td>\n",
       "      <td>-0.487429</td>\n",
       "      <td>0.869697</td>\n",
       "      <td>-0.920439</td>\n",
       "      <td>-0.149276</td>\n",
       "      <td>-1.853996</td>\n",
       "      <td>0.769671</td>\n",
       "      <td>0</td>\n",
       "    </tr>\n",
       "    <tr>\n",
       "      <th>101</th>\n",
       "      <td>A2058</td>\n",
       "      <td>5-FU</td>\n",
       "      <td>AZD1775</td>\n",
       "      <td>0.0</td>\n",
       "      <td>0.111111</td>\n",
       "      <td>-0.019983</td>\n",
       "      <td>1.011360</td>\n",
       "      <td>0.999656</td>\n",
       "      <td>0.000004</td>\n",
       "      <td>0.999977</td>\n",
       "      <td>...</td>\n",
       "      <td>-0.867724</td>\n",
       "      <td>0.220996</td>\n",
       "      <td>-1.960651</td>\n",
       "      <td>-0.487429</td>\n",
       "      <td>0.869697</td>\n",
       "      <td>-0.920439</td>\n",
       "      <td>-0.149276</td>\n",
       "      <td>-1.853996</td>\n",
       "      <td>0.769671</td>\n",
       "      <td>0</td>\n",
       "    </tr>\n",
       "    <tr>\n",
       "      <th>102</th>\n",
       "      <td>A2058</td>\n",
       "      <td>5-FU</td>\n",
       "      <td>AZD1775</td>\n",
       "      <td>0.0</td>\n",
       "      <td>0.222222</td>\n",
       "      <td>-0.035324</td>\n",
       "      <td>0.974131</td>\n",
       "      <td>0.999599</td>\n",
       "      <td>0.000016</td>\n",
       "      <td>0.999961</td>\n",
       "      <td>...</td>\n",
       "      <td>-0.867724</td>\n",
       "      <td>0.220996</td>\n",
       "      <td>-1.960651</td>\n",
       "      <td>-0.487429</td>\n",
       "      <td>0.869697</td>\n",
       "      <td>-0.920439</td>\n",
       "      <td>-0.149276</td>\n",
       "      <td>-1.853996</td>\n",
       "      <td>0.769671</td>\n",
       "      <td>0</td>\n",
       "    </tr>\n",
       "    <tr>\n",
       "      <th>103</th>\n",
       "      <td>A2058</td>\n",
       "      <td>5-FU</td>\n",
       "      <td>AZD1775</td>\n",
       "      <td>0.0</td>\n",
       "      <td>0.333333</td>\n",
       "      <td>-0.055318</td>\n",
       "      <td>0.939041</td>\n",
       "      <td>0.999442</td>\n",
       "      <td>0.000015</td>\n",
       "      <td>0.999812</td>\n",
       "      <td>...</td>\n",
       "      <td>-0.867724</td>\n",
       "      <td>0.220996</td>\n",
       "      <td>-1.960651</td>\n",
       "      <td>-0.487429</td>\n",
       "      <td>0.869697</td>\n",
       "      <td>-0.920439</td>\n",
       "      <td>-0.149276</td>\n",
       "      <td>-1.853996</td>\n",
       "      <td>0.769671</td>\n",
       "      <td>0</td>\n",
       "    </tr>\n",
       "    <tr>\n",
       "      <th>104</th>\n",
       "      <td>A2058</td>\n",
       "      <td>5-FU</td>\n",
       "      <td>AZD1775</td>\n",
       "      <td>0.0</td>\n",
       "      <td>0.444444</td>\n",
       "      <td>-0.069008</td>\n",
       "      <td>0.890884</td>\n",
       "      <td>0.997371</td>\n",
       "      <td>0.000023</td>\n",
       "      <td>0.998224</td>\n",
       "      <td>...</td>\n",
       "      <td>-0.867724</td>\n",
       "      <td>0.220996</td>\n",
       "      <td>-1.960651</td>\n",
       "      <td>-0.487429</td>\n",
       "      <td>0.869697</td>\n",
       "      <td>-0.920439</td>\n",
       "      <td>-0.149276</td>\n",
       "      <td>-1.853996</td>\n",
       "      <td>0.769671</td>\n",
       "      <td>0</td>\n",
       "    </tr>\n",
       "    <tr>\n",
       "      <th>...</th>\n",
       "      <td>...</td>\n",
       "      <td>...</td>\n",
       "      <td>...</td>\n",
       "      <td>...</td>\n",
       "      <td>...</td>\n",
       "      <td>...</td>\n",
       "      <td>...</td>\n",
       "      <td>...</td>\n",
       "      <td>...</td>\n",
       "      <td>...</td>\n",
       "      <td>...</td>\n",
       "      <td>...</td>\n",
       "      <td>...</td>\n",
       "      <td>...</td>\n",
       "      <td>...</td>\n",
       "      <td>...</td>\n",
       "      <td>...</td>\n",
       "      <td>...</td>\n",
       "      <td>...</td>\n",
       "      <td>...</td>\n",
       "      <td>...</td>\n",
       "    </tr>\n",
       "    <tr>\n",
       "      <th>9895</th>\n",
       "      <td>A2058</td>\n",
       "      <td>Dasatinib</td>\n",
       "      <td>BEZ-235</td>\n",
       "      <td>1.0</td>\n",
       "      <td>0.555556</td>\n",
       "      <td>-0.217389</td>\n",
       "      <td>0.051958</td>\n",
       "      <td>0.613691</td>\n",
       "      <td>0.002073</td>\n",
       "      <td>0.657093</td>\n",
       "      <td>...</td>\n",
       "      <td>0.057487</td>\n",
       "      <td>-0.153078</td>\n",
       "      <td>0.363346</td>\n",
       "      <td>-0.644726</td>\n",
       "      <td>0.046863</td>\n",
       "      <td>0.677213</td>\n",
       "      <td>-0.725587</td>\n",
       "      <td>-1.103161</td>\n",
       "      <td>0.383720</td>\n",
       "      <td>0</td>\n",
       "    </tr>\n",
       "    <tr>\n",
       "      <th>9896</th>\n",
       "      <td>A2058</td>\n",
       "      <td>Dasatinib</td>\n",
       "      <td>BEZ-235</td>\n",
       "      <td>1.0</td>\n",
       "      <td>0.666667</td>\n",
       "      <td>-0.382824</td>\n",
       "      <td>0.041399</td>\n",
       "      <td>0.347756</td>\n",
       "      <td>0.001672</td>\n",
       "      <td>0.431926</td>\n",
       "      <td>...</td>\n",
       "      <td>0.057487</td>\n",
       "      <td>-0.153078</td>\n",
       "      <td>0.363346</td>\n",
       "      <td>-0.644726</td>\n",
       "      <td>0.046863</td>\n",
       "      <td>0.677213</td>\n",
       "      <td>-0.725587</td>\n",
       "      <td>-1.103161</td>\n",
       "      <td>0.383720</td>\n",
       "      <td>0</td>\n",
       "    </tr>\n",
       "    <tr>\n",
       "      <th>9897</th>\n",
       "      <td>A2058</td>\n",
       "      <td>Dasatinib</td>\n",
       "      <td>BEZ-235</td>\n",
       "      <td>1.0</td>\n",
       "      <td>0.777778</td>\n",
       "      <td>-0.516723</td>\n",
       "      <td>0.036972</td>\n",
       "      <td>0.178451</td>\n",
       "      <td>0.000625</td>\n",
       "      <td>0.263182</td>\n",
       "      <td>...</td>\n",
       "      <td>0.057487</td>\n",
       "      <td>-0.153078</td>\n",
       "      <td>0.363346</td>\n",
       "      <td>-0.644726</td>\n",
       "      <td>0.046863</td>\n",
       "      <td>0.677213</td>\n",
       "      <td>-0.725587</td>\n",
       "      <td>-1.103161</td>\n",
       "      <td>0.383720</td>\n",
       "      <td>0</td>\n",
       "    </tr>\n",
       "    <tr>\n",
       "      <th>9898</th>\n",
       "      <td>A2058</td>\n",
       "      <td>Dasatinib</td>\n",
       "      <td>BEZ-235</td>\n",
       "      <td>1.0</td>\n",
       "      <td>0.888889</td>\n",
       "      <td>-0.493489</td>\n",
       "      <td>0.043023</td>\n",
       "      <td>0.135293</td>\n",
       "      <td>0.000472</td>\n",
       "      <td>0.200840</td>\n",
       "      <td>...</td>\n",
       "      <td>0.057487</td>\n",
       "      <td>-0.153078</td>\n",
       "      <td>0.363346</td>\n",
       "      <td>-0.644726</td>\n",
       "      <td>0.046863</td>\n",
       "      <td>0.677213</td>\n",
       "      <td>-0.725587</td>\n",
       "      <td>-1.103161</td>\n",
       "      <td>0.383720</td>\n",
       "      <td>0</td>\n",
       "    </tr>\n",
       "    <tr>\n",
       "      <th>9899</th>\n",
       "      <td>A2058</td>\n",
       "      <td>Dasatinib</td>\n",
       "      <td>BEZ-235</td>\n",
       "      <td>1.0</td>\n",
       "      <td>1.000000</td>\n",
       "      <td>-0.383445</td>\n",
       "      <td>0.047669</td>\n",
       "      <td>0.134873</td>\n",
       "      <td>0.000497</td>\n",
       "      <td>0.182852</td>\n",
       "      <td>...</td>\n",
       "      <td>0.057487</td>\n",
       "      <td>-0.153078</td>\n",
       "      <td>0.363346</td>\n",
       "      <td>-0.644726</td>\n",
       "      <td>0.046863</td>\n",
       "      <td>0.677213</td>\n",
       "      <td>-0.725587</td>\n",
       "      <td>-1.103161</td>\n",
       "      <td>0.383720</td>\n",
       "      <td>0</td>\n",
       "    </tr>\n",
       "  </tbody>\n",
       "</table>\n",
       "<p>2000 rows × 525 columns</p>\n",
       "</div>"
      ],
      "text/plain": [
       "     cell_line      drugA    drugB  drugA_conc  drugB_conc    GPMean  \\\n",
       "100      A2058       5-FU  AZD1775         0.0    0.000000 -0.013604   \n",
       "101      A2058       5-FU  AZD1775         0.0    0.111111 -0.019983   \n",
       "102      A2058       5-FU  AZD1775         0.0    0.222222 -0.035324   \n",
       "103      A2058       5-FU  AZD1775         0.0    0.333333 -0.055318   \n",
       "104      A2058       5-FU  AZD1775         0.0    0.444444 -0.069008   \n",
       "...        ...        ...      ...         ...         ...       ...   \n",
       "9895     A2058  Dasatinib  BEZ-235         1.0    0.555556 -0.217389   \n",
       "9896     A2058  Dasatinib  BEZ-235         1.0    0.666667 -0.382824   \n",
       "9897     A2058  Dasatinib  BEZ-235         1.0    0.777778 -0.516723   \n",
       "9898     A2058  Dasatinib  BEZ-235         1.0    0.888889 -0.493489   \n",
       "9899     A2058  Dasatinib  BEZ-235         1.0    1.000000 -0.383445   \n",
       "\n",
       "         GPVar     fMean      fVar    p0Mean  ...  Blatent_247  Blatent_248  \\\n",
       "100   1.045780  0.999671  0.000001  0.999978  ...    -0.867724     0.220996   \n",
       "101   1.011360  0.999656  0.000004  0.999977  ...    -0.867724     0.220996   \n",
       "102   0.974131  0.999599  0.000016  0.999961  ...    -0.867724     0.220996   \n",
       "103   0.939041  0.999442  0.000015  0.999812  ...    -0.867724     0.220996   \n",
       "104   0.890884  0.997371  0.000023  0.998224  ...    -0.867724     0.220996   \n",
       "...        ...       ...       ...       ...  ...          ...          ...   \n",
       "9895  0.051958  0.613691  0.002073  0.657093  ...     0.057487    -0.153078   \n",
       "9896  0.041399  0.347756  0.001672  0.431926  ...     0.057487    -0.153078   \n",
       "9897  0.036972  0.178451  0.000625  0.263182  ...     0.057487    -0.153078   \n",
       "9898  0.043023  0.135293  0.000472  0.200840  ...     0.057487    -0.153078   \n",
       "9899  0.047669  0.134873  0.000497  0.182852  ...     0.057487    -0.153078   \n",
       "\n",
       "      Blatent_249  Blatent_250  Blatent_251  Blatent_252  Blatent_253  \\\n",
       "100     -1.960651    -0.487429     0.869697    -0.920439    -0.149276   \n",
       "101     -1.960651    -0.487429     0.869697    -0.920439    -0.149276   \n",
       "102     -1.960651    -0.487429     0.869697    -0.920439    -0.149276   \n",
       "103     -1.960651    -0.487429     0.869697    -0.920439    -0.149276   \n",
       "104     -1.960651    -0.487429     0.869697    -0.920439    -0.149276   \n",
       "...           ...          ...          ...          ...          ...   \n",
       "9895     0.363346    -0.644726     0.046863     0.677213    -0.725587   \n",
       "9896     0.363346    -0.644726     0.046863     0.677213    -0.725587   \n",
       "9897     0.363346    -0.644726     0.046863     0.677213    -0.725587   \n",
       "9898     0.363346    -0.644726     0.046863     0.677213    -0.725587   \n",
       "9899     0.363346    -0.644726     0.046863     0.677213    -0.725587   \n",
       "\n",
       "      Blatent_254  Blatent_255  task_index  \n",
       "100     -1.853996     0.769671           0  \n",
       "101     -1.853996     0.769671           0  \n",
       "102     -1.853996     0.769671           0  \n",
       "103     -1.853996     0.769671           0  \n",
       "104     -1.853996     0.769671           0  \n",
       "...           ...          ...         ...  \n",
       "9895    -1.103161     0.383720           0  \n",
       "9896    -1.103161     0.383720           0  \n",
       "9897    -1.103161     0.383720           0  \n",
       "9898    -1.103161     0.383720           0  \n",
       "9899    -1.103161     0.383720           0  \n",
       "\n",
       "[2000 rows x 525 columns]"
      ]
     },
     "execution_count": 315,
     "metadata": {},
     "output_type": "execute_result"
    }
   ],
   "source": [
    "train"
   ]
  },
  {
   "cell_type": "code",
   "execution_count": 316,
   "id": "1dcda5ae-6104-451c-884a-61400c344e5e",
   "metadata": {},
   "outputs": [
    {
     "data": {
      "text/plain": [
       "tensor([[ 0.0000,  0.0000, -1.5189,  ..., -0.1493, -1.8540,  0.7697],\n",
       "        [ 0.0000,  0.1111, -1.5189,  ..., -0.1493, -1.8540,  0.7697],\n",
       "        [ 0.0000,  0.2222, -1.5189,  ..., -0.1493, -1.8540,  0.7697],\n",
       "        [ 0.0000,  0.3333, -1.5189,  ..., -0.1493, -1.8540,  0.7697],\n",
       "        [ 0.0000,  0.4444, -1.5189,  ..., -0.1493, -1.8540,  0.7697]])"
      ]
     },
     "execution_count": 316,
     "metadata": {},
     "output_type": "execute_result"
    }
   ],
   "source": [
    "X_train[0:5]"
   ]
  },
  {
   "cell_type": "code",
   "execution_count": 317,
   "id": "af8dbd03-ce84-4053-8772-b90a3457559f",
   "metadata": {},
   "outputs": [
    {
     "data": {
      "text/plain": [
       "torch.Size([2000, 514])"
      ]
     },
     "execution_count": 317,
     "metadata": {},
     "output_type": "execute_result"
    }
   ],
   "source": [
    "X_train.shape"
   ]
  },
  {
   "cell_type": "code",
   "execution_count": 318,
   "id": "5460d433-f46e-419d-ab8e-674ed34c9ea9",
   "metadata": {},
   "outputs": [
    {
     "data": {
      "text/plain": [
       "torch.Size([500, 514])"
      ]
     },
     "execution_count": 318,
     "metadata": {},
     "output_type": "execute_result"
    }
   ],
   "source": [
    "X_test.shape"
   ]
  },
  {
   "cell_type": "code",
   "execution_count": 328,
   "id": "bc1785a5-9125-4700-abbf-2a2701169d32",
   "metadata": {},
   "outputs": [],
   "source": [
    "G = 1\n",
    "num_latents = 1\n",
    "num_inducing = 500\n",
    "batch_size = 32\n",
    "num_tasks = train_indices.max()+1\n",
    "num_epochs = 400\n",
    "initial_lr = 0.01\n",
    "num_drug_latents = 256"
   ]
  },
  {
   "cell_type": "code",
   "execution_count": 329,
   "id": "bb36ad5b-6d0d-4b06-938b-385baf764744",
   "metadata": {},
   "outputs": [
    {
     "data": {
      "text/plain": [
       "tensor([0, 0, 0,  ..., 0, 0, 0])"
      ]
     },
     "execution_count": 329,
     "metadata": {},
     "output_type": "execute_result"
    }
   ],
   "source": [
    "train_indices"
   ]
  },
  {
   "cell_type": "code",
   "execution_count": 330,
   "id": "f91460e7-ee5d-4baf-95a3-8835caef7930",
   "metadata": {},
   "outputs": [],
   "source": [
    "from torch.utils.data import TensorDataset,  DataLoader\n",
    "train_dataset = TensorDataset(X_train,y_train,train_noise,train_indices)\n",
    "train_loader = DataLoader(train_dataset,batch_size=batch_size,shuffle=True)\n",
    "\n",
    "# Define the permutation\n",
    "permutation = torch.cat([torch.tensor([1]), torch.tensor([0]),\n",
    "                             torch.linspace((2 + num_drug_latents), 1 + (2 * num_drug_latents), num_drug_latents), \n",
    "                         torch.linspace(2, 1 + num_drug_latents, num_drug_latents)]).long()\n"
   ]
  },
  {
   "cell_type": "code",
   "execution_count": 331,
   "id": "bfa488ba-c751-4641-a7cd-9edd4951becb",
   "metadata": {},
   "outputs": [],
   "source": [
    "from torch import Tensor\n",
    "from typing import Literal\n",
    "from pimogp.kernels.permutation_invariant_rbf import PermutationInvariantRBFKernel\n",
    "from pimogp.variational.permutation_invariant_variational_strategy import PermutationInvariantVariationalStrategy\n",
    "from botorch.models.utils.inducing_point_allocators import GreedyVarianceReduction\n",
    "\n",
    "class TestModel(gpytorch.models.ApproximateGP):\n",
    "    r\"\"\"\n",
    "    DrugComboModelICM_NC is the model for drug combination prediction that utilizes drug covariates, but\n",
    "    no cell line covariates\n",
    "\n",
    "    It wraps a PermutationInvariantVariationalStrategy in an LMCVariationalStrategy for a multi-output GP.\n",
    "    The parameters of the LMC are learned \"free-form\" as opposed to making use of cell line information\n",
    "\n",
    "    :param permutation: A Tensor giving the permutation the function should be invariant to\n",
    "    :param conc_dims: The dimensions of the data input that corresponds to the drug concentrations\n",
    "    :param drug_covar_dims: The dimension of the data input that corresponds to the drug covariates\n",
    "    :param num_tasks: The number of tasks / outputs / cell lines\n",
    "    :param num_latents: The number of latent functions in the LMC\n",
    "    :param num_inducing: The number of inducing points per latent\n",
    "    :param sample_inducing_from: A Tensor to sample inducing points from, usually this would be the training inputs\n",
    "    :param inducing_weights: A vector of weights used in sampling of the inducing points\n",
    "    :param vardistr: The variational distribution to use, mf=MeanField (Default), \"nat\"=Natural, \"chol\"=Cholesky\n",
    "    \"\"\"\n",
    "\n",
    "    def __init__(self, permutation: Tensor,\n",
    "                 num_tasks: int,\n",
    "                 num_latents: int,\n",
    "                 num_inducing: int,\n",
    "                 inducing_weights,\n",
    "                 sample_inducing_from: Tensor,\n",
    "                 ):\n",
    "\n",
    "        \n",
    "        covar_module = gpytorch.kernels.ScaleKernel(PermutationInvariantRBFKernel(permutation=permutation,permute_forward=True,\n",
    "                                                     ard_num_dims=514))\n",
    "\n",
    "        # Initialise the lengthscales\n",
    "        div = torch.zeros([514])\n",
    "        div[0:2] = 2.0\n",
    "        div[2:] = 2.0\n",
    "        lengthscales_init = sample_inducing_from.var(dim=0).sqrt().div(div)\n",
    "        covar_module.base_kernel.lengthscale = lengthscales_init\n",
    "\n",
    "\n",
    "        # Sample inducing points\n",
    "        #p = inducing_weights.div(inducing_weights.sum())\n",
    "        #idx = p.multinomial(num_samples=num_inducing * num_latents, replacement=False).reshape(num_latents,\n",
    "        #                                                                                       num_inducing)\n",
    "        #inducing_points = sample_inducing_from[idx]\n",
    "\n",
    "        ind_allocator = GreedyVarianceReduction()\n",
    "        inducing_points = torch.empty((0, num_inducing, sample_inducing_from.size(1)))\n",
    "        for i in range(num_latents):\n",
    "            sample = ind_allocator.allocate_inducing_points(sample_inducing_from, covar_module,\n",
    "                                                num_inducing=num_inducing, input_batch_shape=torch.Size([]))\n",
    "            inducing_points = torch.cat((inducing_points, sample.unsqueeze(0)), dim=0)\n",
    "            matches = (sample_inducing_from.unsqueeze(1) == sample).all(dim=2)\n",
    "            row_matches = matches.any(dim=1)\n",
    "            sample_inducing_from = sample_inducing_from[~row_matches]\n",
    "        #inducing_points = ind_allocator.allocate_inducing_points(sample_inducing_from,\n",
    "        #                                                         covar_module,num_inducing=num_inducing,\n",
    "        #                                                         input_batch_shape=torch.Size([num_latents]))\n",
    "\n",
    "        # Now turn of the permutation forward\n",
    "        #covar_module.permute_forward = False\n",
    "        \n",
    "        # Variational distribution\n",
    "        variational_distribution = gpytorch.variational.NaturalVariationalDistribution(\n",
    "            inducing_points.size(-2), batch_shape=torch.Size([num_latents])\n",
    "            )\n",
    "\n",
    "        # Variational Strategy\n",
    "        variational_strategy = gpytorch.variational.LMCVariationalStrategy(\n",
    "            gpytorch.variational.VariationalStrategy(\n",
    "            #PermutationInvariantVariationalStrategy(\n",
    "                self, inducing_points, variational_distribution,\n",
    "                #permutation,\n",
    "                learn_inducing_locations=True),\n",
    "            num_tasks=num_tasks, num_latents=num_latents, latent_dim=-1)\n",
    "\n",
    "        super(TestModel, self).__init__(variational_strategy)\n",
    "\n",
    "        # Store permutation here\n",
    "        \n",
    "\n",
    "        # Mean and covariance modules\n",
    "        # Standard zero-mean\n",
    "        self.mean_module = gpytorch.means.ConstantMean()\n",
    "        # Covar over the concentrations, simple RBF\n",
    "        #self.covar_module_concentrations = covar_module_concentrations\n",
    "        # Covar over the drugs, RBF + ARD\n",
    "        #self.covar_module_drugs = covar_module_drugs\n",
    "        self.covar_module = covar_module\n",
    "\n",
    "\n",
    "\n",
    "    def forward(self, x):\n",
    "        mean_x = self.mean_module(x)\n",
    "        # Final covariance is a simple product.\n",
    "        #covar_x = self.covar_module_concentrations(x) * self.covar_module_drugs(x)\n",
    "        covar_x = self.covar_module(x)\n",
    "        return gpytorch.distributions.MultivariateNormal(mean_x, covar_x)"
   ]
  },
  {
   "cell_type": "code",
   "execution_count": 332,
   "id": "2227a5bd-c991-467e-b0d9-92b3239b274a",
   "metadata": {
    "scrolled": true
   },
   "outputs": [
    {
     "name": "stdout",
     "output_type": "stream",
     "text": [
      "Index 0 given to:  (0, 1)\n",
      "Index 1 given to:  (2, 258)\n",
      "Index 2 given to:  (3, 259)\n",
      "Index 3 given to:  (4, 260)\n",
      "Index 4 given to:  (5, 261)\n",
      "Index 5 given to:  (6, 262)\n",
      "Index 6 given to:  (7, 263)\n",
      "Index 7 given to:  (8, 264)\n",
      "Index 8 given to:  (9, 265)\n",
      "Index 9 given to:  (10, 266)\n",
      "Index 10 given to:  (11, 267)\n",
      "Index 11 given to:  (12, 268)\n",
      "Index 12 given to:  (13, 269)\n",
      "Index 13 given to:  (14, 270)\n",
      "Index 14 given to:  (15, 271)\n",
      "Index 15 given to:  (16, 272)\n",
      "Index 16 given to:  (17, 273)\n",
      "Index 17 given to:  (18, 274)\n",
      "Index 18 given to:  (19, 275)\n",
      "Index 19 given to:  (20, 276)\n",
      "Index 20 given to:  (21, 277)\n",
      "Index 21 given to:  (22, 278)\n",
      "Index 22 given to:  (23, 279)\n",
      "Index 23 given to:  (24, 280)\n",
      "Index 24 given to:  (25, 281)\n",
      "Index 25 given to:  (26, 282)\n",
      "Index 26 given to:  (27, 283)\n",
      "Index 27 given to:  (28, 284)\n",
      "Index 28 given to:  (29, 285)\n",
      "Index 29 given to:  (30, 286)\n",
      "Index 30 given to:  (31, 287)\n",
      "Index 31 given to:  (32, 288)\n",
      "Index 32 given to:  (33, 289)\n",
      "Index 33 given to:  (34, 290)\n",
      "Index 34 given to:  (35, 291)\n",
      "Index 35 given to:  (36, 292)\n",
      "Index 36 given to:  (37, 293)\n",
      "Index 37 given to:  (38, 294)\n",
      "Index 38 given to:  (39, 295)\n",
      "Index 39 given to:  (40, 296)\n",
      "Index 40 given to:  (41, 297)\n",
      "Index 41 given to:  (42, 298)\n",
      "Index 42 given to:  (43, 299)\n",
      "Index 43 given to:  (44, 300)\n",
      "Index 44 given to:  (45, 301)\n",
      "Index 45 given to:  (46, 302)\n",
      "Index 46 given to:  (47, 303)\n",
      "Index 47 given to:  (48, 304)\n",
      "Index 48 given to:  (49, 305)\n",
      "Index 49 given to:  (50, 306)\n",
      "Index 50 given to:  (51, 307)\n",
      "Index 51 given to:  (52, 308)\n",
      "Index 52 given to:  (53, 309)\n",
      "Index 53 given to:  (54, 310)\n",
      "Index 54 given to:  (55, 311)\n",
      "Index 55 given to:  (56, 312)\n",
      "Index 56 given to:  (57, 313)\n",
      "Index 57 given to:  (58, 314)\n",
      "Index 58 given to:  (59, 315)\n",
      "Index 59 given to:  (60, 316)\n",
      "Index 60 given to:  (61, 317)\n",
      "Index 61 given to:  (62, 318)\n",
      "Index 62 given to:  (63, 319)\n",
      "Index 63 given to:  (64, 320)\n",
      "Index 64 given to:  (65, 321)\n",
      "Index 65 given to:  (66, 322)\n",
      "Index 66 given to:  (67, 323)\n",
      "Index 67 given to:  (68, 324)\n",
      "Index 68 given to:  (69, 325)\n",
      "Index 69 given to:  (70, 326)\n",
      "Index 70 given to:  (71, 327)\n",
      "Index 71 given to:  (72, 328)\n",
      "Index 72 given to:  (73, 329)\n",
      "Index 73 given to:  (74, 330)\n",
      "Index 74 given to:  (75, 331)\n",
      "Index 75 given to:  (76, 332)\n",
      "Index 76 given to:  (77, 333)\n",
      "Index 77 given to:  (78, 334)\n",
      "Index 78 given to:  (79, 335)\n",
      "Index 79 given to:  (80, 336)\n",
      "Index 80 given to:  (81, 337)\n",
      "Index 81 given to:  (82, 338)\n",
      "Index 82 given to:  (83, 339)\n",
      "Index 83 given to:  (84, 340)\n",
      "Index 84 given to:  (85, 341)\n",
      "Index 85 given to:  (86, 342)\n",
      "Index 86 given to:  (87, 343)\n",
      "Index 87 given to:  (88, 344)\n",
      "Index 88 given to:  (89, 345)\n",
      "Index 89 given to:  (90, 346)\n",
      "Index 90 given to:  (91, 347)\n",
      "Index 91 given to:  (92, 348)\n",
      "Index 92 given to:  (93, 349)\n",
      "Index 93 given to:  (94, 350)\n",
      "Index 94 given to:  (95, 351)\n",
      "Index 95 given to:  (96, 352)\n",
      "Index 96 given to:  (97, 353)\n",
      "Index 97 given to:  (98, 354)\n",
      "Index 98 given to:  (99, 355)\n",
      "Index 99 given to:  (100, 356)\n",
      "Index 100 given to:  (101, 357)\n",
      "Index 101 given to:  (102, 358)\n",
      "Index 102 given to:  (103, 359)\n",
      "Index 103 given to:  (104, 360)\n",
      "Index 104 given to:  (105, 361)\n",
      "Index 105 given to:  (106, 362)\n",
      "Index 106 given to:  (107, 363)\n",
      "Index 107 given to:  (108, 364)\n",
      "Index 108 given to:  (109, 365)\n",
      "Index 109 given to:  (110, 366)\n",
      "Index 110 given to:  (111, 367)\n",
      "Index 111 given to:  (112, 368)\n",
      "Index 112 given to:  (113, 369)\n",
      "Index 113 given to:  (114, 370)\n",
      "Index 114 given to:  (115, 371)\n",
      "Index 115 given to:  (116, 372)\n",
      "Index 116 given to:  (117, 373)\n",
      "Index 117 given to:  (118, 374)\n",
      "Index 118 given to:  (119, 375)\n",
      "Index 119 given to:  (120, 376)\n",
      "Index 120 given to:  (121, 377)\n",
      "Index 121 given to:  (122, 378)\n",
      "Index 122 given to:  (123, 379)\n",
      "Index 123 given to:  (124, 380)\n",
      "Index 124 given to:  (125, 381)\n",
      "Index 125 given to:  (126, 382)\n",
      "Index 126 given to:  (127, 383)\n",
      "Index 127 given to:  (128, 384)\n",
      "Index 128 given to:  (129, 385)\n",
      "Index 129 given to:  (130, 386)\n",
      "Index 130 given to:  (131, 387)\n",
      "Index 131 given to:  (132, 388)\n",
      "Index 132 given to:  (133, 389)\n",
      "Index 133 given to:  (134, 390)\n",
      "Index 134 given to:  (135, 391)\n",
      "Index 135 given to:  (136, 392)\n",
      "Index 136 given to:  (137, 393)\n",
      "Index 137 given to:  (138, 394)\n",
      "Index 138 given to:  (139, 395)\n",
      "Index 139 given to:  (140, 396)\n",
      "Index 140 given to:  (141, 397)\n",
      "Index 141 given to:  (142, 398)\n",
      "Index 142 given to:  (143, 399)\n",
      "Index 143 given to:  (144, 400)\n",
      "Index 144 given to:  (145, 401)\n",
      "Index 145 given to:  (146, 402)\n",
      "Index 146 given to:  (147, 403)\n",
      "Index 147 given to:  (148, 404)\n",
      "Index 148 given to:  (149, 405)\n",
      "Index 149 given to:  (150, 406)\n",
      "Index 150 given to:  (151, 407)\n",
      "Index 151 given to:  (152, 408)\n",
      "Index 152 given to:  (153, 409)\n",
      "Index 153 given to:  (154, 410)\n",
      "Index 154 given to:  (155, 411)\n",
      "Index 155 given to:  (156, 412)\n",
      "Index 156 given to:  (157, 413)\n",
      "Index 157 given to:  (158, 414)\n",
      "Index 158 given to:  (159, 415)\n",
      "Index 159 given to:  (160, 416)\n",
      "Index 160 given to:  (161, 417)\n",
      "Index 161 given to:  (162, 418)\n",
      "Index 162 given to:  (163, 419)\n",
      "Index 163 given to:  (164, 420)\n",
      "Index 164 given to:  (165, 421)\n",
      "Index 165 given to:  (166, 422)\n",
      "Index 166 given to:  (167, 423)\n",
      "Index 167 given to:  (168, 424)\n",
      "Index 168 given to:  (169, 425)\n",
      "Index 169 given to:  (170, 426)\n",
      "Index 170 given to:  (171, 427)\n",
      "Index 171 given to:  (172, 428)\n",
      "Index 172 given to:  (173, 429)\n",
      "Index 173 given to:  (174, 430)\n",
      "Index 174 given to:  (175, 431)\n",
      "Index 175 given to:  (176, 432)\n",
      "Index 176 given to:  (177, 433)\n",
      "Index 177 given to:  (178, 434)\n",
      "Index 178 given to:  (179, 435)\n",
      "Index 179 given to:  (180, 436)\n",
      "Index 180 given to:  (181, 437)\n",
      "Index 181 given to:  (182, 438)\n",
      "Index 182 given to:  (183, 439)\n",
      "Index 183 given to:  (184, 440)\n",
      "Index 184 given to:  (185, 441)\n",
      "Index 185 given to:  (186, 442)\n",
      "Index 186 given to:  (187, 443)\n",
      "Index 187 given to:  (188, 444)\n",
      "Index 188 given to:  (189, 445)\n",
      "Index 189 given to:  (190, 446)\n",
      "Index 190 given to:  (191, 447)\n",
      "Index 191 given to:  (192, 448)\n",
      "Index 192 given to:  (193, 449)\n",
      "Index 193 given to:  (194, 450)\n",
      "Index 194 given to:  (195, 451)\n",
      "Index 195 given to:  (196, 452)\n",
      "Index 196 given to:  (197, 453)\n",
      "Index 197 given to:  (198, 454)\n",
      "Index 198 given to:  (199, 455)\n",
      "Index 199 given to:  (200, 456)\n",
      "Index 200 given to:  (201, 457)\n",
      "Index 201 given to:  (202, 458)\n",
      "Index 202 given to:  (203, 459)\n",
      "Index 203 given to:  (204, 460)\n",
      "Index 204 given to:  (205, 461)\n",
      "Index 205 given to:  (206, 462)\n",
      "Index 206 given to:  (207, 463)\n",
      "Index 207 given to:  (208, 464)\n",
      "Index 208 given to:  (209, 465)\n",
      "Index 209 given to:  (210, 466)\n",
      "Index 210 given to:  (211, 467)\n",
      "Index 211 given to:  (212, 468)\n",
      "Index 212 given to:  (213, 469)\n",
      "Index 213 given to:  (214, 470)\n",
      "Index 214 given to:  (215, 471)\n",
      "Index 215 given to:  (216, 472)\n",
      "Index 216 given to:  (217, 473)\n",
      "Index 217 given to:  (218, 474)\n",
      "Index 218 given to:  (219, 475)\n",
      "Index 219 given to:  (220, 476)\n",
      "Index 220 given to:  (221, 477)\n",
      "Index 221 given to:  (222, 478)\n",
      "Index 222 given to:  (223, 479)\n",
      "Index 223 given to:  (224, 480)\n",
      "Index 224 given to:  (225, 481)\n",
      "Index 225 given to:  (226, 482)\n",
      "Index 226 given to:  (227, 483)\n",
      "Index 227 given to:  (228, 484)\n",
      "Index 228 given to:  (229, 485)\n",
      "Index 229 given to:  (230, 486)\n",
      "Index 230 given to:  (231, 487)\n",
      "Index 231 given to:  (232, 488)\n",
      "Index 232 given to:  (233, 489)\n",
      "Index 233 given to:  (234, 490)\n",
      "Index 234 given to:  (235, 491)\n",
      "Index 235 given to:  (236, 492)\n",
      "Index 236 given to:  (237, 493)\n",
      "Index 237 given to:  (238, 494)\n",
      "Index 238 given to:  (239, 495)\n",
      "Index 239 given to:  (240, 496)\n",
      "Index 240 given to:  (241, 497)\n",
      "Index 241 given to:  (242, 498)\n",
      "Index 242 given to:  (243, 499)\n",
      "Index 243 given to:  (244, 500)\n",
      "Index 244 given to:  (245, 501)\n",
      "Index 245 given to:  (246, 502)\n",
      "Index 246 given to:  (247, 503)\n",
      "Index 247 given to:  (248, 504)\n",
      "Index 248 given to:  (249, 505)\n",
      "Index 249 given to:  (250, 506)\n",
      "Index 250 given to:  (251, 507)\n",
      "Index 251 given to:  (252, 508)\n",
      "Index 252 given to:  (253, 509)\n",
      "Index 253 given to:  (254, 510)\n",
      "Index 254 given to:  (255, 511)\n",
      "Index 255 given to:  (256, 512)\n",
      "Index 256 given to:  (257, 513)\n"
     ]
    }
   ],
   "source": [
    "# Set up model and likelihood\n",
    "from gpytorch.likelihoods import GaussianLikelihood, FixedNoiseGaussianLikelihood\n",
    "model = TestModel(permutation=permutation, num_tasks = num_tasks, num_latents=num_latents, num_inducing=num_inducing,sample_inducing_from=X_train,inducing_weights=train_weights)\n",
    "likelihood = GaussianLikelihood()\n",
    "#likelihood = FixedNoiseGaussianLikelihood(noise=torch.tensor([0.01]))"
   ]
  },
  {
   "cell_type": "code",
   "execution_count": 333,
   "id": "62f4c29b-56ae-4eb3-afc8-b1be01a1a315",
   "metadata": {},
   "outputs": [
    {
     "data": {
      "text/plain": [
       "tensor([0.6932], grad_fn=<AddBackward0>)"
      ]
     },
     "execution_count": 333,
     "metadata": {},
     "output_type": "execute_result"
    }
   ],
   "source": [
    "likelihood.noise"
   ]
  },
  {
   "cell_type": "code",
   "execution_count": 334,
   "id": "fcab4459-a62d-442e-9b33-5a42f6c554ac",
   "metadata": {},
   "outputs": [
    {
     "data": {
      "text/plain": [
       "tensor([[0.1596, 0.1596, 0.5819, 0.4270, 0.4593, 0.2922, 0.4764, 0.4832, 0.3015,\n",
       "         0.5024, 0.3304, 0.3397, 0.4878, 0.4558, 0.3849, 0.2235, 0.3965, 0.3521,\n",
       "         0.3067, 0.4546, 0.3731, 0.3304, 0.5928, 0.5251, 0.2420, 0.4740, 0.5581,\n",
       "         0.2337, 0.3508, 0.3176, 0.4102, 0.3965, 0.5243, 0.4116, 0.4763, 0.3717,\n",
       "         0.3287, 0.4382, 0.3116, 0.5029, 0.2783, 0.4781, 0.4657, 0.4621, 0.5677,\n",
       "         0.4092, 0.2261, 0.1538, 0.6762, 0.4428, 0.4510, 0.4542, 0.4518, 0.5068,\n",
       "         0.4005, 0.3630, 0.3470, 0.5388, 0.4088, 0.6771, 0.5580, 0.6208, 0.2440,\n",
       "         0.5979, 0.3513, 0.4394, 0.4521, 0.3977, 0.5377, 0.5444, 0.5046, 0.5063,\n",
       "         0.4432, 0.4870, 0.4081, 0.2779, 0.2737, 0.3553, 0.4140, 0.5614, 0.4495,\n",
       "         0.5687, 0.4899, 0.3384, 0.5717, 0.1696, 0.4600, 0.4240, 0.4951, 0.4990,\n",
       "         0.5732, 0.6257, 0.6282, 0.3006, 0.3876, 0.4126, 0.3247, 0.5578, 0.4715,\n",
       "         0.2779, 0.4657, 0.3815, 0.3903, 0.4167, 0.4805, 0.4799, 0.2957, 0.3046,\n",
       "         0.4645, 0.4808, 0.5213, 0.3642, 0.5836, 0.3870, 0.5852, 0.3287, 0.2498,\n",
       "         0.3865, 0.5088, 0.4477, 0.4067, 0.3446, 0.3487, 0.5111, 0.1923, 0.5293,\n",
       "         0.3983, 0.3656, 0.4304, 0.4845, 0.3167, 0.4136, 0.4389, 0.4181, 0.3088,\n",
       "         0.3132, 0.3815, 0.5740, 0.4476, 0.5270, 0.5202, 0.2437, 0.2995, 0.4361,\n",
       "         0.4816, 0.3459, 0.4425, 0.3495, 0.3966, 0.3698, 0.3905, 0.3576, 0.3625,\n",
       "         0.5587, 0.5037, 0.4174, 0.5525, 0.5119, 0.4080, 0.3172, 0.3502, 0.3536,\n",
       "         0.4071, 0.4917, 0.5776, 0.3737, 0.4381, 0.5303, 0.5731, 0.4849, 0.4079,\n",
       "         0.4167, 0.2902, 0.4837, 0.4302, 0.5189, 0.4854, 0.6339, 0.4794, 0.6442,\n",
       "         0.4435, 0.4834, 0.3725, 0.4923, 0.2920, 0.5397, 0.5528, 0.4098, 0.4390,\n",
       "         0.5902, 0.2418, 0.5271, 0.5391, 0.5440, 0.4709, 0.3760, 0.4847, 0.5421,\n",
       "         0.4226, 0.5793, 0.5456, 0.4173, 0.3113, 0.5906, 0.5003, 0.5411, 0.5431,\n",
       "         0.4658, 0.4300, 0.3759, 0.2974, 0.4611, 0.3734, 0.2666, 0.4817, 0.3775,\n",
       "         0.4782, 0.5842, 0.3494, 0.4950, 0.4990, 0.4205, 0.4017, 0.4673, 0.3823,\n",
       "         0.3095, 0.5978, 0.4541, 0.2984, 0.3495, 0.3201, 0.5027, 0.4808, 0.2648,\n",
       "         0.3664, 0.3449, 0.5506, 0.2845, 0.3810, 0.4706, 0.4218, 0.3542, 0.4315,\n",
       "         0.3783, 0.4906, 0.3505, 0.5173, 0.3692, 0.3871, 0.4716, 0.2963, 0.6407,\n",
       "         0.4008, 0.3353, 0.4835, 0.5313, 0.4661, 0.3855, 0.5819, 0.4270, 0.4593,\n",
       "         0.2922, 0.4764, 0.4832, 0.3015, 0.5024, 0.3304, 0.3397, 0.4878, 0.4558,\n",
       "         0.3849, 0.2235, 0.3965, 0.3521, 0.3067, 0.4546, 0.3731, 0.3304, 0.5928,\n",
       "         0.5251, 0.2420, 0.4740, 0.5581, 0.2337, 0.3508, 0.3176, 0.4102, 0.3965,\n",
       "         0.5243, 0.4116, 0.4763, 0.3717, 0.3287, 0.4382, 0.3116, 0.5029, 0.2783,\n",
       "         0.4781, 0.4657, 0.4621, 0.5677, 0.4092, 0.2261, 0.1538, 0.6762, 0.4428,\n",
       "         0.4510, 0.4542, 0.4518, 0.5068, 0.4005, 0.3630, 0.3470, 0.5388, 0.4088,\n",
       "         0.6771, 0.5580, 0.6208, 0.2440, 0.5979, 0.3513, 0.4394, 0.4521, 0.3977,\n",
       "         0.5377, 0.5444, 0.5046, 0.5063, 0.4432, 0.4870, 0.4081, 0.2779, 0.2737,\n",
       "         0.3553, 0.4140, 0.5614, 0.4495, 0.5687, 0.4899, 0.3384, 0.5717, 0.1696,\n",
       "         0.4600, 0.4240, 0.4951, 0.4990, 0.5732, 0.6257, 0.6282, 0.3006, 0.3876,\n",
       "         0.4126, 0.3247, 0.5578, 0.4715, 0.2779, 0.4657, 0.3815, 0.3903, 0.4167,\n",
       "         0.4805, 0.4799, 0.2957, 0.3046, 0.4645, 0.4808, 0.5213, 0.3642, 0.5836,\n",
       "         0.3870, 0.5852, 0.3287, 0.2498, 0.3865, 0.5088, 0.4477, 0.4067, 0.3446,\n",
       "         0.3487, 0.5111, 0.1923, 0.5293, 0.3983, 0.3656, 0.4304, 0.4845, 0.3167,\n",
       "         0.4136, 0.4389, 0.4181, 0.3088, 0.3132, 0.3815, 0.5740, 0.4476, 0.5270,\n",
       "         0.5202, 0.2437, 0.2995, 0.4361, 0.4816, 0.3459, 0.4425, 0.3495, 0.3966,\n",
       "         0.3698, 0.3905, 0.3576, 0.3625, 0.5587, 0.5037, 0.4174, 0.5525, 0.5119,\n",
       "         0.4080, 0.3172, 0.3502, 0.3536, 0.4071, 0.4917, 0.5776, 0.3737, 0.4381,\n",
       "         0.5303, 0.5731, 0.4849, 0.4079, 0.4167, 0.2902, 0.4837, 0.4302, 0.5189,\n",
       "         0.4854, 0.6339, 0.4794, 0.6442, 0.4435, 0.4834, 0.3725, 0.4923, 0.2920,\n",
       "         0.5397, 0.5528, 0.4098, 0.4390, 0.5902, 0.2418, 0.5271, 0.5391, 0.5440,\n",
       "         0.4709, 0.3760, 0.4847, 0.5421, 0.4226, 0.5793, 0.5456, 0.4173, 0.3113,\n",
       "         0.5906, 0.5003, 0.5411, 0.5431, 0.4658, 0.4300, 0.3759, 0.2974, 0.4611,\n",
       "         0.3734, 0.2666, 0.4817, 0.3775, 0.4782, 0.5842, 0.3494, 0.4950, 0.4990,\n",
       "         0.4205, 0.4017, 0.4673, 0.3823, 0.3095, 0.5978, 0.4541, 0.2984, 0.3495,\n",
       "         0.3201, 0.5027, 0.4808, 0.2648, 0.3664, 0.3449, 0.5506, 0.2845, 0.3810,\n",
       "         0.4706, 0.4218, 0.3542, 0.4315, 0.3783, 0.4906, 0.3505, 0.5173, 0.3692,\n",
       "         0.3871, 0.4716, 0.2963, 0.6407, 0.4008, 0.3353, 0.4835, 0.5313, 0.4661,\n",
       "         0.3855]], grad_fn=<SoftplusBackward0>)"
      ]
     },
     "execution_count": 334,
     "metadata": {},
     "output_type": "execute_result"
    }
   ],
   "source": [
    "model.covar_module.base_kernel.lengthscale"
   ]
  },
  {
   "cell_type": "code",
   "execution_count": 335,
   "id": "890b7538-a43a-4246-9f6b-2c84bf0955c5",
   "metadata": {},
   "outputs": [
    {
     "data": {
      "text/plain": [
       "torch.Size([1, 500, 514])"
      ]
     },
     "execution_count": 335,
     "metadata": {},
     "output_type": "execute_result"
    }
   ],
   "source": [
    "model.variational_strategy.base_variational_strategy.inducing_points.shape"
   ]
  },
  {
   "cell_type": "code",
   "execution_count": 336,
   "id": "6a501455-b6ae-43a7-9fe7-a4ada305f6fb",
   "metadata": {},
   "outputs": [
    {
     "data": {
      "text/plain": [
       "Parameter containing:\n",
       "tensor([[0.6886]], requires_grad=True)"
      ]
     },
     "execution_count": 336,
     "metadata": {},
     "output_type": "execute_result"
    }
   ],
   "source": [
    "model.variational_strategy.lmc_coefficients"
   ]
  },
  {
   "cell_type": "code",
   "execution_count": 337,
   "id": "795e0a2c-1e38-40f5-b17b-1006943a9ec4",
   "metadata": {},
   "outputs": [],
   "source": [
    "from torch.optim.lr_scheduler import MultiStepLR\n",
    "from gpytorch.mlls import VariationalELBO\n",
    "# Now define the loss and set up the optimization\n",
    "hyperparameter_optimizer = None\n",
    "variational_ngd_optimizer = None\n",
    "scheduler_hypers = None\n",
    "scheduler_variational = None\n",
    "vardistr = \"nat\"\n",
    "if vardistr == \"nat\":\n",
    "    hyperparameter_optimizer = torch.optim.Adam([\n",
    "        {'params': model.hyperparameters()},\n",
    "        {'params': likelihood.parameters()},\n",
    "    ], lr = initial_lr)\n",
    "    variational_ngd_optimizer = gpytorch.optim.NGD(\n",
    "        model.variational_parameters(),\n",
    "        num_data=y_train.size(0), lr=float(10*initial_lr))\n",
    "    scheduler_variational = MultiStepLR(variational_ngd_optimizer,\n",
    "                                        milestones=[int(0.25*num_epochs),int(0.5*num_epochs),int(0.75*num_epochs)],\n",
    "                                        gamma=0.5)\n",
    "else:\n",
    "    hyperparameter_optimizer = torch.optim.Adam([\n",
    "        {'params': model.parameters()},\n",
    "        {'params': likelihood.parameters()},\n",
    "    ], lr=initial_lr)\n",
    "\n",
    "scheduler_hypers = MultiStepLR(hyperparameter_optimizer,\n",
    "                               milestones=[int(0.25*num_epochs),int(0.5 * num_epochs), int(0.75 * num_epochs)],\n",
    "                               gamma=0.5)\n",
    "\n",
    "# Defining the loss:\n",
    "mll = VariationalELBO(likelihood,model,num_data=y_train.size(0))\n",
    "\n",
    "# Tracking loss\n",
    "train_loss = []"
   ]
  },
  {
   "cell_type": "code",
   "execution_count": 338,
   "id": "7b6f1fe7-0f90-4938-8883-8b9dc466ae36",
   "metadata": {
    "scrolled": true
   },
   "outputs": [
    {
     "data": {
      "application/vnd.jupyter.widget-view+json": {
       "model_id": "fc448b4716dd43f8acc9e5b265eab283",
       "version_major": 2,
       "version_minor": 0
      },
      "text/plain": [
       "Epoch:   0%|          | 0/400 [00:00<?, ?it/s]"
      ]
     },
     "metadata": {},
     "output_type": "display_data"
    },
    {
     "data": {
      "application/vnd.jupyter.widget-view+json": {
       "model_id": "",
       "version_major": 2,
       "version_minor": 0
      },
      "text/plain": [
       "Minibatch:   0%|          | 0/63 [00:00<?, ?it/s]"
      ]
     },
     "metadata": {},
     "output_type": "display_data"
    },
    {
     "data": {
      "application/vnd.jupyter.widget-view+json": {
       "model_id": "",
       "version_major": 2,
       "version_minor": 0
      },
      "text/plain": [
       "Minibatch:   0%|          | 0/63 [00:00<?, ?it/s]"
      ]
     },
     "metadata": {},
     "output_type": "display_data"
    },
    {
     "data": {
      "application/vnd.jupyter.widget-view+json": {
       "model_id": "",
       "version_major": 2,
       "version_minor": 0
      },
      "text/plain": [
       "Minibatch:   0%|          | 0/63 [00:00<?, ?it/s]"
      ]
     },
     "metadata": {},
     "output_type": "display_data"
    },
    {
     "data": {
      "application/vnd.jupyter.widget-view+json": {
       "model_id": "",
       "version_major": 2,
       "version_minor": 0
      },
      "text/plain": [
       "Minibatch:   0%|          | 0/63 [00:00<?, ?it/s]"
      ]
     },
     "metadata": {},
     "output_type": "display_data"
    },
    {
     "data": {
      "application/vnd.jupyter.widget-view+json": {
       "model_id": "",
       "version_major": 2,
       "version_minor": 0
      },
      "text/plain": [
       "Minibatch:   0%|          | 0/63 [00:00<?, ?it/s]"
      ]
     },
     "metadata": {},
     "output_type": "display_data"
    },
    {
     "data": {
      "application/vnd.jupyter.widget-view+json": {
       "model_id": "",
       "version_major": 2,
       "version_minor": 0
      },
      "text/plain": [
       "Minibatch:   0%|          | 0/63 [00:00<?, ?it/s]"
      ]
     },
     "metadata": {},
     "output_type": "display_data"
    },
    {
     "data": {
      "application/vnd.jupyter.widget-view+json": {
       "model_id": "",
       "version_major": 2,
       "version_minor": 0
      },
      "text/plain": [
       "Minibatch:   0%|          | 0/63 [00:00<?, ?it/s]"
      ]
     },
     "metadata": {},
     "output_type": "display_data"
    },
    {
     "data": {
      "application/vnd.jupyter.widget-view+json": {
       "model_id": "",
       "version_major": 2,
       "version_minor": 0
      },
      "text/plain": [
       "Minibatch:   0%|          | 0/63 [00:00<?, ?it/s]"
      ]
     },
     "metadata": {},
     "output_type": "display_data"
    },
    {
     "data": {
      "application/vnd.jupyter.widget-view+json": {
       "model_id": "",
       "version_major": 2,
       "version_minor": 0
      },
      "text/plain": [
       "Minibatch:   0%|          | 0/63 [00:00<?, ?it/s]"
      ]
     },
     "metadata": {},
     "output_type": "display_data"
    },
    {
     "data": {
      "application/vnd.jupyter.widget-view+json": {
       "model_id": "",
       "version_major": 2,
       "version_minor": 0
      },
      "text/plain": [
       "Minibatch:   0%|          | 0/63 [00:00<?, ?it/s]"
      ]
     },
     "metadata": {},
     "output_type": "display_data"
    },
    {
     "data": {
      "application/vnd.jupyter.widget-view+json": {
       "model_id": "",
       "version_major": 2,
       "version_minor": 0
      },
      "text/plain": [
       "Minibatch:   0%|          | 0/63 [00:00<?, ?it/s]"
      ]
     },
     "metadata": {},
     "output_type": "display_data"
    },
    {
     "data": {
      "application/vnd.jupyter.widget-view+json": {
       "model_id": "",
       "version_major": 2,
       "version_minor": 0
      },
      "text/plain": [
       "Minibatch:   0%|          | 0/63 [00:00<?, ?it/s]"
      ]
     },
     "metadata": {},
     "output_type": "display_data"
    },
    {
     "data": {
      "application/vnd.jupyter.widget-view+json": {
       "model_id": "",
       "version_major": 2,
       "version_minor": 0
      },
      "text/plain": [
       "Minibatch:   0%|          | 0/63 [00:00<?, ?it/s]"
      ]
     },
     "metadata": {},
     "output_type": "display_data"
    },
    {
     "data": {
      "application/vnd.jupyter.widget-view+json": {
       "model_id": "",
       "version_major": 2,
       "version_minor": 0
      },
      "text/plain": [
       "Minibatch:   0%|          | 0/63 [00:00<?, ?it/s]"
      ]
     },
     "metadata": {},
     "output_type": "display_data"
    },
    {
     "data": {
      "application/vnd.jupyter.widget-view+json": {
       "model_id": "",
       "version_major": 2,
       "version_minor": 0
      },
      "text/plain": [
       "Minibatch:   0%|          | 0/63 [00:00<?, ?it/s]"
      ]
     },
     "metadata": {},
     "output_type": "display_data"
    },
    {
     "data": {
      "application/vnd.jupyter.widget-view+json": {
       "model_id": "",
       "version_major": 2,
       "version_minor": 0
      },
      "text/plain": [
       "Minibatch:   0%|          | 0/63 [00:00<?, ?it/s]"
      ]
     },
     "metadata": {},
     "output_type": "display_data"
    },
    {
     "data": {
      "application/vnd.jupyter.widget-view+json": {
       "model_id": "",
       "version_major": 2,
       "version_minor": 0
      },
      "text/plain": [
       "Minibatch:   0%|          | 0/63 [00:00<?, ?it/s]"
      ]
     },
     "metadata": {},
     "output_type": "display_data"
    },
    {
     "data": {
      "application/vnd.jupyter.widget-view+json": {
       "model_id": "",
       "version_major": 2,
       "version_minor": 0
      },
      "text/plain": [
       "Minibatch:   0%|          | 0/63 [00:00<?, ?it/s]"
      ]
     },
     "metadata": {},
     "output_type": "display_data"
    },
    {
     "data": {
      "application/vnd.jupyter.widget-view+json": {
       "model_id": "",
       "version_major": 2,
       "version_minor": 0
      },
      "text/plain": [
       "Minibatch:   0%|          | 0/63 [00:00<?, ?it/s]"
      ]
     },
     "metadata": {},
     "output_type": "display_data"
    },
    {
     "data": {
      "application/vnd.jupyter.widget-view+json": {
       "model_id": "",
       "version_major": 2,
       "version_minor": 0
      },
      "text/plain": [
       "Minibatch:   0%|          | 0/63 [00:00<?, ?it/s]"
      ]
     },
     "metadata": {},
     "output_type": "display_data"
    },
    {
     "data": {
      "application/vnd.jupyter.widget-view+json": {
       "model_id": "",
       "version_major": 2,
       "version_minor": 0
      },
      "text/plain": [
       "Minibatch:   0%|          | 0/63 [00:00<?, ?it/s]"
      ]
     },
     "metadata": {},
     "output_type": "display_data"
    },
    {
     "data": {
      "application/vnd.jupyter.widget-view+json": {
       "model_id": "",
       "version_major": 2,
       "version_minor": 0
      },
      "text/plain": [
       "Minibatch:   0%|          | 0/63 [00:00<?, ?it/s]"
      ]
     },
     "metadata": {},
     "output_type": "display_data"
    },
    {
     "data": {
      "application/vnd.jupyter.widget-view+json": {
       "model_id": "",
       "version_major": 2,
       "version_minor": 0
      },
      "text/plain": [
       "Minibatch:   0%|          | 0/63 [00:00<?, ?it/s]"
      ]
     },
     "metadata": {},
     "output_type": "display_data"
    },
    {
     "data": {
      "application/vnd.jupyter.widget-view+json": {
       "model_id": "",
       "version_major": 2,
       "version_minor": 0
      },
      "text/plain": [
       "Minibatch:   0%|          | 0/63 [00:00<?, ?it/s]"
      ]
     },
     "metadata": {},
     "output_type": "display_data"
    },
    {
     "data": {
      "application/vnd.jupyter.widget-view+json": {
       "model_id": "",
       "version_major": 2,
       "version_minor": 0
      },
      "text/plain": [
       "Minibatch:   0%|          | 0/63 [00:00<?, ?it/s]"
      ]
     },
     "metadata": {},
     "output_type": "display_data"
    },
    {
     "data": {
      "application/vnd.jupyter.widget-view+json": {
       "model_id": "",
       "version_major": 2,
       "version_minor": 0
      },
      "text/plain": [
       "Minibatch:   0%|          | 0/63 [00:00<?, ?it/s]"
      ]
     },
     "metadata": {},
     "output_type": "display_data"
    },
    {
     "data": {
      "application/vnd.jupyter.widget-view+json": {
       "model_id": "",
       "version_major": 2,
       "version_minor": 0
      },
      "text/plain": [
       "Minibatch:   0%|          | 0/63 [00:00<?, ?it/s]"
      ]
     },
     "metadata": {},
     "output_type": "display_data"
    },
    {
     "data": {
      "application/vnd.jupyter.widget-view+json": {
       "model_id": "",
       "version_major": 2,
       "version_minor": 0
      },
      "text/plain": [
       "Minibatch:   0%|          | 0/63 [00:00<?, ?it/s]"
      ]
     },
     "metadata": {},
     "output_type": "display_data"
    },
    {
     "data": {
      "application/vnd.jupyter.widget-view+json": {
       "model_id": "",
       "version_major": 2,
       "version_minor": 0
      },
      "text/plain": [
       "Minibatch:   0%|          | 0/63 [00:00<?, ?it/s]"
      ]
     },
     "metadata": {},
     "output_type": "display_data"
    },
    {
     "data": {
      "application/vnd.jupyter.widget-view+json": {
       "model_id": "",
       "version_major": 2,
       "version_minor": 0
      },
      "text/plain": [
       "Minibatch:   0%|          | 0/63 [00:00<?, ?it/s]"
      ]
     },
     "metadata": {},
     "output_type": "display_data"
    },
    {
     "data": {
      "application/vnd.jupyter.widget-view+json": {
       "model_id": "",
       "version_major": 2,
       "version_minor": 0
      },
      "text/plain": [
       "Minibatch:   0%|          | 0/63 [00:00<?, ?it/s]"
      ]
     },
     "metadata": {},
     "output_type": "display_data"
    },
    {
     "data": {
      "application/vnd.jupyter.widget-view+json": {
       "model_id": "",
       "version_major": 2,
       "version_minor": 0
      },
      "text/plain": [
       "Minibatch:   0%|          | 0/63 [00:00<?, ?it/s]"
      ]
     },
     "metadata": {},
     "output_type": "display_data"
    },
    {
     "data": {
      "application/vnd.jupyter.widget-view+json": {
       "model_id": "",
       "version_major": 2,
       "version_minor": 0
      },
      "text/plain": [
       "Minibatch:   0%|          | 0/63 [00:00<?, ?it/s]"
      ]
     },
     "metadata": {},
     "output_type": "display_data"
    },
    {
     "data": {
      "application/vnd.jupyter.widget-view+json": {
       "model_id": "",
       "version_major": 2,
       "version_minor": 0
      },
      "text/plain": [
       "Minibatch:   0%|          | 0/63 [00:00<?, ?it/s]"
      ]
     },
     "metadata": {},
     "output_type": "display_data"
    },
    {
     "data": {
      "application/vnd.jupyter.widget-view+json": {
       "model_id": "",
       "version_major": 2,
       "version_minor": 0
      },
      "text/plain": [
       "Minibatch:   0%|          | 0/63 [00:00<?, ?it/s]"
      ]
     },
     "metadata": {},
     "output_type": "display_data"
    },
    {
     "data": {
      "application/vnd.jupyter.widget-view+json": {
       "model_id": "",
       "version_major": 2,
       "version_minor": 0
      },
      "text/plain": [
       "Minibatch:   0%|          | 0/63 [00:00<?, ?it/s]"
      ]
     },
     "metadata": {},
     "output_type": "display_data"
    },
    {
     "data": {
      "application/vnd.jupyter.widget-view+json": {
       "model_id": "",
       "version_major": 2,
       "version_minor": 0
      },
      "text/plain": [
       "Minibatch:   0%|          | 0/63 [00:00<?, ?it/s]"
      ]
     },
     "metadata": {},
     "output_type": "display_data"
    },
    {
     "data": {
      "application/vnd.jupyter.widget-view+json": {
       "model_id": "",
       "version_major": 2,
       "version_minor": 0
      },
      "text/plain": [
       "Minibatch:   0%|          | 0/63 [00:00<?, ?it/s]"
      ]
     },
     "metadata": {},
     "output_type": "display_data"
    },
    {
     "data": {
      "application/vnd.jupyter.widget-view+json": {
       "model_id": "",
       "version_major": 2,
       "version_minor": 0
      },
      "text/plain": [
       "Minibatch:   0%|          | 0/63 [00:00<?, ?it/s]"
      ]
     },
     "metadata": {},
     "output_type": "display_data"
    },
    {
     "data": {
      "application/vnd.jupyter.widget-view+json": {
       "model_id": "",
       "version_major": 2,
       "version_minor": 0
      },
      "text/plain": [
       "Minibatch:   0%|          | 0/63 [00:00<?, ?it/s]"
      ]
     },
     "metadata": {},
     "output_type": "display_data"
    },
    {
     "data": {
      "application/vnd.jupyter.widget-view+json": {
       "model_id": "",
       "version_major": 2,
       "version_minor": 0
      },
      "text/plain": [
       "Minibatch:   0%|          | 0/63 [00:00<?, ?it/s]"
      ]
     },
     "metadata": {},
     "output_type": "display_data"
    },
    {
     "data": {
      "application/vnd.jupyter.widget-view+json": {
       "model_id": "",
       "version_major": 2,
       "version_minor": 0
      },
      "text/plain": [
       "Minibatch:   0%|          | 0/63 [00:00<?, ?it/s]"
      ]
     },
     "metadata": {},
     "output_type": "display_data"
    },
    {
     "data": {
      "application/vnd.jupyter.widget-view+json": {
       "model_id": "",
       "version_major": 2,
       "version_minor": 0
      },
      "text/plain": [
       "Minibatch:   0%|          | 0/63 [00:00<?, ?it/s]"
      ]
     },
     "metadata": {},
     "output_type": "display_data"
    },
    {
     "data": {
      "application/vnd.jupyter.widget-view+json": {
       "model_id": "",
       "version_major": 2,
       "version_minor": 0
      },
      "text/plain": [
       "Minibatch:   0%|          | 0/63 [00:00<?, ?it/s]"
      ]
     },
     "metadata": {},
     "output_type": "display_data"
    },
    {
     "data": {
      "application/vnd.jupyter.widget-view+json": {
       "model_id": "",
       "version_major": 2,
       "version_minor": 0
      },
      "text/plain": [
       "Minibatch:   0%|          | 0/63 [00:00<?, ?it/s]"
      ]
     },
     "metadata": {},
     "output_type": "display_data"
    },
    {
     "data": {
      "application/vnd.jupyter.widget-view+json": {
       "model_id": "",
       "version_major": 2,
       "version_minor": 0
      },
      "text/plain": [
       "Minibatch:   0%|          | 0/63 [00:00<?, ?it/s]"
      ]
     },
     "metadata": {},
     "output_type": "display_data"
    },
    {
     "data": {
      "application/vnd.jupyter.widget-view+json": {
       "model_id": "",
       "version_major": 2,
       "version_minor": 0
      },
      "text/plain": [
       "Minibatch:   0%|          | 0/63 [00:00<?, ?it/s]"
      ]
     },
     "metadata": {},
     "output_type": "display_data"
    },
    {
     "data": {
      "application/vnd.jupyter.widget-view+json": {
       "model_id": "",
       "version_major": 2,
       "version_minor": 0
      },
      "text/plain": [
       "Minibatch:   0%|          | 0/63 [00:00<?, ?it/s]"
      ]
     },
     "metadata": {},
     "output_type": "display_data"
    },
    {
     "data": {
      "application/vnd.jupyter.widget-view+json": {
       "model_id": "",
       "version_major": 2,
       "version_minor": 0
      },
      "text/plain": [
       "Minibatch:   0%|          | 0/63 [00:00<?, ?it/s]"
      ]
     },
     "metadata": {},
     "output_type": "display_data"
    },
    {
     "data": {
      "application/vnd.jupyter.widget-view+json": {
       "model_id": "",
       "version_major": 2,
       "version_minor": 0
      },
      "text/plain": [
       "Minibatch:   0%|          | 0/63 [00:00<?, ?it/s]"
      ]
     },
     "metadata": {},
     "output_type": "display_data"
    },
    {
     "data": {
      "application/vnd.jupyter.widget-view+json": {
       "model_id": "",
       "version_major": 2,
       "version_minor": 0
      },
      "text/plain": [
       "Minibatch:   0%|          | 0/63 [00:00<?, ?it/s]"
      ]
     },
     "metadata": {},
     "output_type": "display_data"
    },
    {
     "data": {
      "application/vnd.jupyter.widget-view+json": {
       "model_id": "",
       "version_major": 2,
       "version_minor": 0
      },
      "text/plain": [
       "Minibatch:   0%|          | 0/63 [00:00<?, ?it/s]"
      ]
     },
     "metadata": {},
     "output_type": "display_data"
    },
    {
     "data": {
      "application/vnd.jupyter.widget-view+json": {
       "model_id": "",
       "version_major": 2,
       "version_minor": 0
      },
      "text/plain": [
       "Minibatch:   0%|          | 0/63 [00:00<?, ?it/s]"
      ]
     },
     "metadata": {},
     "output_type": "display_data"
    },
    {
     "data": {
      "application/vnd.jupyter.widget-view+json": {
       "model_id": "",
       "version_major": 2,
       "version_minor": 0
      },
      "text/plain": [
       "Minibatch:   0%|          | 0/63 [00:00<?, ?it/s]"
      ]
     },
     "metadata": {},
     "output_type": "display_data"
    },
    {
     "data": {
      "application/vnd.jupyter.widget-view+json": {
       "model_id": "",
       "version_major": 2,
       "version_minor": 0
      },
      "text/plain": [
       "Minibatch:   0%|          | 0/63 [00:00<?, ?it/s]"
      ]
     },
     "metadata": {},
     "output_type": "display_data"
    },
    {
     "data": {
      "application/vnd.jupyter.widget-view+json": {
       "model_id": "",
       "version_major": 2,
       "version_minor": 0
      },
      "text/plain": [
       "Minibatch:   0%|          | 0/63 [00:00<?, ?it/s]"
      ]
     },
     "metadata": {},
     "output_type": "display_data"
    },
    {
     "data": {
      "application/vnd.jupyter.widget-view+json": {
       "model_id": "",
       "version_major": 2,
       "version_minor": 0
      },
      "text/plain": [
       "Minibatch:   0%|          | 0/63 [00:00<?, ?it/s]"
      ]
     },
     "metadata": {},
     "output_type": "display_data"
    },
    {
     "data": {
      "application/vnd.jupyter.widget-view+json": {
       "model_id": "",
       "version_major": 2,
       "version_minor": 0
      },
      "text/plain": [
       "Minibatch:   0%|          | 0/63 [00:00<?, ?it/s]"
      ]
     },
     "metadata": {},
     "output_type": "display_data"
    },
    {
     "data": {
      "application/vnd.jupyter.widget-view+json": {
       "model_id": "",
       "version_major": 2,
       "version_minor": 0
      },
      "text/plain": [
       "Minibatch:   0%|          | 0/63 [00:00<?, ?it/s]"
      ]
     },
     "metadata": {},
     "output_type": "display_data"
    },
    {
     "data": {
      "application/vnd.jupyter.widget-view+json": {
       "model_id": "",
       "version_major": 2,
       "version_minor": 0
      },
      "text/plain": [
       "Minibatch:   0%|          | 0/63 [00:00<?, ?it/s]"
      ]
     },
     "metadata": {},
     "output_type": "display_data"
    },
    {
     "data": {
      "application/vnd.jupyter.widget-view+json": {
       "model_id": "",
       "version_major": 2,
       "version_minor": 0
      },
      "text/plain": [
       "Minibatch:   0%|          | 0/63 [00:00<?, ?it/s]"
      ]
     },
     "metadata": {},
     "output_type": "display_data"
    },
    {
     "data": {
      "application/vnd.jupyter.widget-view+json": {
       "model_id": "",
       "version_major": 2,
       "version_minor": 0
      },
      "text/plain": [
       "Minibatch:   0%|          | 0/63 [00:00<?, ?it/s]"
      ]
     },
     "metadata": {},
     "output_type": "display_data"
    },
    {
     "data": {
      "application/vnd.jupyter.widget-view+json": {
       "model_id": "",
       "version_major": 2,
       "version_minor": 0
      },
      "text/plain": [
       "Minibatch:   0%|          | 0/63 [00:00<?, ?it/s]"
      ]
     },
     "metadata": {},
     "output_type": "display_data"
    },
    {
     "data": {
      "application/vnd.jupyter.widget-view+json": {
       "model_id": "",
       "version_major": 2,
       "version_minor": 0
      },
      "text/plain": [
       "Minibatch:   0%|          | 0/63 [00:00<?, ?it/s]"
      ]
     },
     "metadata": {},
     "output_type": "display_data"
    },
    {
     "data": {
      "application/vnd.jupyter.widget-view+json": {
       "model_id": "",
       "version_major": 2,
       "version_minor": 0
      },
      "text/plain": [
       "Minibatch:   0%|          | 0/63 [00:00<?, ?it/s]"
      ]
     },
     "metadata": {},
     "output_type": "display_data"
    },
    {
     "data": {
      "application/vnd.jupyter.widget-view+json": {
       "model_id": "",
       "version_major": 2,
       "version_minor": 0
      },
      "text/plain": [
       "Minibatch:   0%|          | 0/63 [00:00<?, ?it/s]"
      ]
     },
     "metadata": {},
     "output_type": "display_data"
    },
    {
     "data": {
      "application/vnd.jupyter.widget-view+json": {
       "model_id": "",
       "version_major": 2,
       "version_minor": 0
      },
      "text/plain": [
       "Minibatch:   0%|          | 0/63 [00:00<?, ?it/s]"
      ]
     },
     "metadata": {},
     "output_type": "display_data"
    },
    {
     "data": {
      "application/vnd.jupyter.widget-view+json": {
       "model_id": "",
       "version_major": 2,
       "version_minor": 0
      },
      "text/plain": [
       "Minibatch:   0%|          | 0/63 [00:00<?, ?it/s]"
      ]
     },
     "metadata": {},
     "output_type": "display_data"
    },
    {
     "data": {
      "application/vnd.jupyter.widget-view+json": {
       "model_id": "",
       "version_major": 2,
       "version_minor": 0
      },
      "text/plain": [
       "Minibatch:   0%|          | 0/63 [00:00<?, ?it/s]"
      ]
     },
     "metadata": {},
     "output_type": "display_data"
    },
    {
     "data": {
      "application/vnd.jupyter.widget-view+json": {
       "model_id": "",
       "version_major": 2,
       "version_minor": 0
      },
      "text/plain": [
       "Minibatch:   0%|          | 0/63 [00:00<?, ?it/s]"
      ]
     },
     "metadata": {},
     "output_type": "display_data"
    },
    {
     "data": {
      "application/vnd.jupyter.widget-view+json": {
       "model_id": "",
       "version_major": 2,
       "version_minor": 0
      },
      "text/plain": [
       "Minibatch:   0%|          | 0/63 [00:00<?, ?it/s]"
      ]
     },
     "metadata": {},
     "output_type": "display_data"
    },
    {
     "data": {
      "application/vnd.jupyter.widget-view+json": {
       "model_id": "",
       "version_major": 2,
       "version_minor": 0
      },
      "text/plain": [
       "Minibatch:   0%|          | 0/63 [00:00<?, ?it/s]"
      ]
     },
     "metadata": {},
     "output_type": "display_data"
    },
    {
     "data": {
      "application/vnd.jupyter.widget-view+json": {
       "model_id": "",
       "version_major": 2,
       "version_minor": 0
      },
      "text/plain": [
       "Minibatch:   0%|          | 0/63 [00:00<?, ?it/s]"
      ]
     },
     "metadata": {},
     "output_type": "display_data"
    },
    {
     "data": {
      "application/vnd.jupyter.widget-view+json": {
       "model_id": "",
       "version_major": 2,
       "version_minor": 0
      },
      "text/plain": [
       "Minibatch:   0%|          | 0/63 [00:00<?, ?it/s]"
      ]
     },
     "metadata": {},
     "output_type": "display_data"
    },
    {
     "data": {
      "application/vnd.jupyter.widget-view+json": {
       "model_id": "",
       "version_major": 2,
       "version_minor": 0
      },
      "text/plain": [
       "Minibatch:   0%|          | 0/63 [00:00<?, ?it/s]"
      ]
     },
     "metadata": {},
     "output_type": "display_data"
    },
    {
     "data": {
      "application/vnd.jupyter.widget-view+json": {
       "model_id": "",
       "version_major": 2,
       "version_minor": 0
      },
      "text/plain": [
       "Minibatch:   0%|          | 0/63 [00:00<?, ?it/s]"
      ]
     },
     "metadata": {},
     "output_type": "display_data"
    },
    {
     "data": {
      "application/vnd.jupyter.widget-view+json": {
       "model_id": "",
       "version_major": 2,
       "version_minor": 0
      },
      "text/plain": [
       "Minibatch:   0%|          | 0/63 [00:00<?, ?it/s]"
      ]
     },
     "metadata": {},
     "output_type": "display_data"
    },
    {
     "data": {
      "application/vnd.jupyter.widget-view+json": {
       "model_id": "",
       "version_major": 2,
       "version_minor": 0
      },
      "text/plain": [
       "Minibatch:   0%|          | 0/63 [00:00<?, ?it/s]"
      ]
     },
     "metadata": {},
     "output_type": "display_data"
    },
    {
     "data": {
      "application/vnd.jupyter.widget-view+json": {
       "model_id": "",
       "version_major": 2,
       "version_minor": 0
      },
      "text/plain": [
       "Minibatch:   0%|          | 0/63 [00:00<?, ?it/s]"
      ]
     },
     "metadata": {},
     "output_type": "display_data"
    },
    {
     "data": {
      "application/vnd.jupyter.widget-view+json": {
       "model_id": "",
       "version_major": 2,
       "version_minor": 0
      },
      "text/plain": [
       "Minibatch:   0%|          | 0/63 [00:00<?, ?it/s]"
      ]
     },
     "metadata": {},
     "output_type": "display_data"
    },
    {
     "data": {
      "application/vnd.jupyter.widget-view+json": {
       "model_id": "",
       "version_major": 2,
       "version_minor": 0
      },
      "text/plain": [
       "Minibatch:   0%|          | 0/63 [00:00<?, ?it/s]"
      ]
     },
     "metadata": {},
     "output_type": "display_data"
    },
    {
     "data": {
      "application/vnd.jupyter.widget-view+json": {
       "model_id": "",
       "version_major": 2,
       "version_minor": 0
      },
      "text/plain": [
       "Minibatch:   0%|          | 0/63 [00:00<?, ?it/s]"
      ]
     },
     "metadata": {},
     "output_type": "display_data"
    },
    {
     "data": {
      "application/vnd.jupyter.widget-view+json": {
       "model_id": "",
       "version_major": 2,
       "version_minor": 0
      },
      "text/plain": [
       "Minibatch:   0%|          | 0/63 [00:00<?, ?it/s]"
      ]
     },
     "metadata": {},
     "output_type": "display_data"
    },
    {
     "data": {
      "application/vnd.jupyter.widget-view+json": {
       "model_id": "",
       "version_major": 2,
       "version_minor": 0
      },
      "text/plain": [
       "Minibatch:   0%|          | 0/63 [00:00<?, ?it/s]"
      ]
     },
     "metadata": {},
     "output_type": "display_data"
    },
    {
     "data": {
      "application/vnd.jupyter.widget-view+json": {
       "model_id": "",
       "version_major": 2,
       "version_minor": 0
      },
      "text/plain": [
       "Minibatch:   0%|          | 0/63 [00:00<?, ?it/s]"
      ]
     },
     "metadata": {},
     "output_type": "display_data"
    },
    {
     "data": {
      "application/vnd.jupyter.widget-view+json": {
       "model_id": "",
       "version_major": 2,
       "version_minor": 0
      },
      "text/plain": [
       "Minibatch:   0%|          | 0/63 [00:00<?, ?it/s]"
      ]
     },
     "metadata": {},
     "output_type": "display_data"
    },
    {
     "data": {
      "application/vnd.jupyter.widget-view+json": {
       "model_id": "",
       "version_major": 2,
       "version_minor": 0
      },
      "text/plain": [
       "Minibatch:   0%|          | 0/63 [00:00<?, ?it/s]"
      ]
     },
     "metadata": {},
     "output_type": "display_data"
    },
    {
     "data": {
      "application/vnd.jupyter.widget-view+json": {
       "model_id": "",
       "version_major": 2,
       "version_minor": 0
      },
      "text/plain": [
       "Minibatch:   0%|          | 0/63 [00:00<?, ?it/s]"
      ]
     },
     "metadata": {},
     "output_type": "display_data"
    },
    {
     "data": {
      "application/vnd.jupyter.widget-view+json": {
       "model_id": "",
       "version_major": 2,
       "version_minor": 0
      },
      "text/plain": [
       "Minibatch:   0%|          | 0/63 [00:00<?, ?it/s]"
      ]
     },
     "metadata": {},
     "output_type": "display_data"
    },
    {
     "data": {
      "application/vnd.jupyter.widget-view+json": {
       "model_id": "",
       "version_major": 2,
       "version_minor": 0
      },
      "text/plain": [
       "Minibatch:   0%|          | 0/63 [00:00<?, ?it/s]"
      ]
     },
     "metadata": {},
     "output_type": "display_data"
    },
    {
     "data": {
      "application/vnd.jupyter.widget-view+json": {
       "model_id": "",
       "version_major": 2,
       "version_minor": 0
      },
      "text/plain": [
       "Minibatch:   0%|          | 0/63 [00:00<?, ?it/s]"
      ]
     },
     "metadata": {},
     "output_type": "display_data"
    },
    {
     "data": {
      "application/vnd.jupyter.widget-view+json": {
       "model_id": "",
       "version_major": 2,
       "version_minor": 0
      },
      "text/plain": [
       "Minibatch:   0%|          | 0/63 [00:00<?, ?it/s]"
      ]
     },
     "metadata": {},
     "output_type": "display_data"
    },
    {
     "data": {
      "application/vnd.jupyter.widget-view+json": {
       "model_id": "",
       "version_major": 2,
       "version_minor": 0
      },
      "text/plain": [
       "Minibatch:   0%|          | 0/63 [00:00<?, ?it/s]"
      ]
     },
     "metadata": {},
     "output_type": "display_data"
    },
    {
     "data": {
      "application/vnd.jupyter.widget-view+json": {
       "model_id": "",
       "version_major": 2,
       "version_minor": 0
      },
      "text/plain": [
       "Minibatch:   0%|          | 0/63 [00:00<?, ?it/s]"
      ]
     },
     "metadata": {},
     "output_type": "display_data"
    },
    {
     "data": {
      "application/vnd.jupyter.widget-view+json": {
       "model_id": "",
       "version_major": 2,
       "version_minor": 0
      },
      "text/plain": [
       "Minibatch:   0%|          | 0/63 [00:00<?, ?it/s]"
      ]
     },
     "metadata": {},
     "output_type": "display_data"
    },
    {
     "data": {
      "application/vnd.jupyter.widget-view+json": {
       "model_id": "",
       "version_major": 2,
       "version_minor": 0
      },
      "text/plain": [
       "Minibatch:   0%|          | 0/63 [00:00<?, ?it/s]"
      ]
     },
     "metadata": {},
     "output_type": "display_data"
    },
    {
     "data": {
      "application/vnd.jupyter.widget-view+json": {
       "model_id": "",
       "version_major": 2,
       "version_minor": 0
      },
      "text/plain": [
       "Minibatch:   0%|          | 0/63 [00:00<?, ?it/s]"
      ]
     },
     "metadata": {},
     "output_type": "display_data"
    },
    {
     "data": {
      "application/vnd.jupyter.widget-view+json": {
       "model_id": "",
       "version_major": 2,
       "version_minor": 0
      },
      "text/plain": [
       "Minibatch:   0%|          | 0/63 [00:00<?, ?it/s]"
      ]
     },
     "metadata": {},
     "output_type": "display_data"
    },
    {
     "data": {
      "application/vnd.jupyter.widget-view+json": {
       "model_id": "",
       "version_major": 2,
       "version_minor": 0
      },
      "text/plain": [
       "Minibatch:   0%|          | 0/63 [00:00<?, ?it/s]"
      ]
     },
     "metadata": {},
     "output_type": "display_data"
    },
    {
     "data": {
      "application/vnd.jupyter.widget-view+json": {
       "model_id": "",
       "version_major": 2,
       "version_minor": 0
      },
      "text/plain": [
       "Minibatch:   0%|          | 0/63 [00:00<?, ?it/s]"
      ]
     },
     "metadata": {},
     "output_type": "display_data"
    },
    {
     "data": {
      "application/vnd.jupyter.widget-view+json": {
       "model_id": "",
       "version_major": 2,
       "version_minor": 0
      },
      "text/plain": [
       "Minibatch:   0%|          | 0/63 [00:00<?, ?it/s]"
      ]
     },
     "metadata": {},
     "output_type": "display_data"
    },
    {
     "data": {
      "application/vnd.jupyter.widget-view+json": {
       "model_id": "",
       "version_major": 2,
       "version_minor": 0
      },
      "text/plain": [
       "Minibatch:   0%|          | 0/63 [00:00<?, ?it/s]"
      ]
     },
     "metadata": {},
     "output_type": "display_data"
    },
    {
     "data": {
      "application/vnd.jupyter.widget-view+json": {
       "model_id": "",
       "version_major": 2,
       "version_minor": 0
      },
      "text/plain": [
       "Minibatch:   0%|          | 0/63 [00:00<?, ?it/s]"
      ]
     },
     "metadata": {},
     "output_type": "display_data"
    },
    {
     "data": {
      "application/vnd.jupyter.widget-view+json": {
       "model_id": "",
       "version_major": 2,
       "version_minor": 0
      },
      "text/plain": [
       "Minibatch:   0%|          | 0/63 [00:00<?, ?it/s]"
      ]
     },
     "metadata": {},
     "output_type": "display_data"
    },
    {
     "data": {
      "application/vnd.jupyter.widget-view+json": {
       "model_id": "",
       "version_major": 2,
       "version_minor": 0
      },
      "text/plain": [
       "Minibatch:   0%|          | 0/63 [00:00<?, ?it/s]"
      ]
     },
     "metadata": {},
     "output_type": "display_data"
    },
    {
     "data": {
      "application/vnd.jupyter.widget-view+json": {
       "model_id": "",
       "version_major": 2,
       "version_minor": 0
      },
      "text/plain": [
       "Minibatch:   0%|          | 0/63 [00:00<?, ?it/s]"
      ]
     },
     "metadata": {},
     "output_type": "display_data"
    },
    {
     "data": {
      "application/vnd.jupyter.widget-view+json": {
       "model_id": "",
       "version_major": 2,
       "version_minor": 0
      },
      "text/plain": [
       "Minibatch:   0%|          | 0/63 [00:00<?, ?it/s]"
      ]
     },
     "metadata": {},
     "output_type": "display_data"
    },
    {
     "data": {
      "application/vnd.jupyter.widget-view+json": {
       "model_id": "",
       "version_major": 2,
       "version_minor": 0
      },
      "text/plain": [
       "Minibatch:   0%|          | 0/63 [00:00<?, ?it/s]"
      ]
     },
     "metadata": {},
     "output_type": "display_data"
    },
    {
     "data": {
      "application/vnd.jupyter.widget-view+json": {
       "model_id": "",
       "version_major": 2,
       "version_minor": 0
      },
      "text/plain": [
       "Minibatch:   0%|          | 0/63 [00:00<?, ?it/s]"
      ]
     },
     "metadata": {},
     "output_type": "display_data"
    },
    {
     "data": {
      "application/vnd.jupyter.widget-view+json": {
       "model_id": "",
       "version_major": 2,
       "version_minor": 0
      },
      "text/plain": [
       "Minibatch:   0%|          | 0/63 [00:00<?, ?it/s]"
      ]
     },
     "metadata": {},
     "output_type": "display_data"
    },
    {
     "data": {
      "application/vnd.jupyter.widget-view+json": {
       "model_id": "",
       "version_major": 2,
       "version_minor": 0
      },
      "text/plain": [
       "Minibatch:   0%|          | 0/63 [00:00<?, ?it/s]"
      ]
     },
     "metadata": {},
     "output_type": "display_data"
    },
    {
     "data": {
      "application/vnd.jupyter.widget-view+json": {
       "model_id": "",
       "version_major": 2,
       "version_minor": 0
      },
      "text/plain": [
       "Minibatch:   0%|          | 0/63 [00:00<?, ?it/s]"
      ]
     },
     "metadata": {},
     "output_type": "display_data"
    },
    {
     "data": {
      "application/vnd.jupyter.widget-view+json": {
       "model_id": "",
       "version_major": 2,
       "version_minor": 0
      },
      "text/plain": [
       "Minibatch:   0%|          | 0/63 [00:00<?, ?it/s]"
      ]
     },
     "metadata": {},
     "output_type": "display_data"
    },
    {
     "data": {
      "application/vnd.jupyter.widget-view+json": {
       "model_id": "",
       "version_major": 2,
       "version_minor": 0
      },
      "text/plain": [
       "Minibatch:   0%|          | 0/63 [00:00<?, ?it/s]"
      ]
     },
     "metadata": {},
     "output_type": "display_data"
    },
    {
     "data": {
      "application/vnd.jupyter.widget-view+json": {
       "model_id": "",
       "version_major": 2,
       "version_minor": 0
      },
      "text/plain": [
       "Minibatch:   0%|          | 0/63 [00:00<?, ?it/s]"
      ]
     },
     "metadata": {},
     "output_type": "display_data"
    },
    {
     "data": {
      "application/vnd.jupyter.widget-view+json": {
       "model_id": "",
       "version_major": 2,
       "version_minor": 0
      },
      "text/plain": [
       "Minibatch:   0%|          | 0/63 [00:00<?, ?it/s]"
      ]
     },
     "metadata": {},
     "output_type": "display_data"
    },
    {
     "data": {
      "application/vnd.jupyter.widget-view+json": {
       "model_id": "",
       "version_major": 2,
       "version_minor": 0
      },
      "text/plain": [
       "Minibatch:   0%|          | 0/63 [00:00<?, ?it/s]"
      ]
     },
     "metadata": {},
     "output_type": "display_data"
    },
    {
     "data": {
      "application/vnd.jupyter.widget-view+json": {
       "model_id": "",
       "version_major": 2,
       "version_minor": 0
      },
      "text/plain": [
       "Minibatch:   0%|          | 0/63 [00:00<?, ?it/s]"
      ]
     },
     "metadata": {},
     "output_type": "display_data"
    },
    {
     "data": {
      "application/vnd.jupyter.widget-view+json": {
       "model_id": "",
       "version_major": 2,
       "version_minor": 0
      },
      "text/plain": [
       "Minibatch:   0%|          | 0/63 [00:00<?, ?it/s]"
      ]
     },
     "metadata": {},
     "output_type": "display_data"
    },
    {
     "data": {
      "application/vnd.jupyter.widget-view+json": {
       "model_id": "",
       "version_major": 2,
       "version_minor": 0
      },
      "text/plain": [
       "Minibatch:   0%|          | 0/63 [00:00<?, ?it/s]"
      ]
     },
     "metadata": {},
     "output_type": "display_data"
    },
    {
     "data": {
      "application/vnd.jupyter.widget-view+json": {
       "model_id": "",
       "version_major": 2,
       "version_minor": 0
      },
      "text/plain": [
       "Minibatch:   0%|          | 0/63 [00:00<?, ?it/s]"
      ]
     },
     "metadata": {},
     "output_type": "display_data"
    },
    {
     "data": {
      "application/vnd.jupyter.widget-view+json": {
       "model_id": "",
       "version_major": 2,
       "version_minor": 0
      },
      "text/plain": [
       "Minibatch:   0%|          | 0/63 [00:00<?, ?it/s]"
      ]
     },
     "metadata": {},
     "output_type": "display_data"
    },
    {
     "data": {
      "application/vnd.jupyter.widget-view+json": {
       "model_id": "",
       "version_major": 2,
       "version_minor": 0
      },
      "text/plain": [
       "Minibatch:   0%|          | 0/63 [00:00<?, ?it/s]"
      ]
     },
     "metadata": {},
     "output_type": "display_data"
    },
    {
     "data": {
      "application/vnd.jupyter.widget-view+json": {
       "model_id": "",
       "version_major": 2,
       "version_minor": 0
      },
      "text/plain": [
       "Minibatch:   0%|          | 0/63 [00:00<?, ?it/s]"
      ]
     },
     "metadata": {},
     "output_type": "display_data"
    },
    {
     "data": {
      "application/vnd.jupyter.widget-view+json": {
       "model_id": "",
       "version_major": 2,
       "version_minor": 0
      },
      "text/plain": [
       "Minibatch:   0%|          | 0/63 [00:00<?, ?it/s]"
      ]
     },
     "metadata": {},
     "output_type": "display_data"
    },
    {
     "data": {
      "application/vnd.jupyter.widget-view+json": {
       "model_id": "",
       "version_major": 2,
       "version_minor": 0
      },
      "text/plain": [
       "Minibatch:   0%|          | 0/63 [00:00<?, ?it/s]"
      ]
     },
     "metadata": {},
     "output_type": "display_data"
    },
    {
     "data": {
      "application/vnd.jupyter.widget-view+json": {
       "model_id": "",
       "version_major": 2,
       "version_minor": 0
      },
      "text/plain": [
       "Minibatch:   0%|          | 0/63 [00:00<?, ?it/s]"
      ]
     },
     "metadata": {},
     "output_type": "display_data"
    },
    {
     "data": {
      "application/vnd.jupyter.widget-view+json": {
       "model_id": "",
       "version_major": 2,
       "version_minor": 0
      },
      "text/plain": [
       "Minibatch:   0%|          | 0/63 [00:00<?, ?it/s]"
      ]
     },
     "metadata": {},
     "output_type": "display_data"
    },
    {
     "data": {
      "application/vnd.jupyter.widget-view+json": {
       "model_id": "",
       "version_major": 2,
       "version_minor": 0
      },
      "text/plain": [
       "Minibatch:   0%|          | 0/63 [00:00<?, ?it/s]"
      ]
     },
     "metadata": {},
     "output_type": "display_data"
    },
    {
     "data": {
      "application/vnd.jupyter.widget-view+json": {
       "model_id": "",
       "version_major": 2,
       "version_minor": 0
      },
      "text/plain": [
       "Minibatch:   0%|          | 0/63 [00:00<?, ?it/s]"
      ]
     },
     "metadata": {},
     "output_type": "display_data"
    },
    {
     "data": {
      "application/vnd.jupyter.widget-view+json": {
       "model_id": "",
       "version_major": 2,
       "version_minor": 0
      },
      "text/plain": [
       "Minibatch:   0%|          | 0/63 [00:00<?, ?it/s]"
      ]
     },
     "metadata": {},
     "output_type": "display_data"
    },
    {
     "data": {
      "application/vnd.jupyter.widget-view+json": {
       "model_id": "",
       "version_major": 2,
       "version_minor": 0
      },
      "text/plain": [
       "Minibatch:   0%|          | 0/63 [00:00<?, ?it/s]"
      ]
     },
     "metadata": {},
     "output_type": "display_data"
    },
    {
     "data": {
      "application/vnd.jupyter.widget-view+json": {
       "model_id": "",
       "version_major": 2,
       "version_minor": 0
      },
      "text/plain": [
       "Minibatch:   0%|          | 0/63 [00:00<?, ?it/s]"
      ]
     },
     "metadata": {},
     "output_type": "display_data"
    },
    {
     "data": {
      "application/vnd.jupyter.widget-view+json": {
       "model_id": "",
       "version_major": 2,
       "version_minor": 0
      },
      "text/plain": [
       "Minibatch:   0%|          | 0/63 [00:00<?, ?it/s]"
      ]
     },
     "metadata": {},
     "output_type": "display_data"
    },
    {
     "data": {
      "application/vnd.jupyter.widget-view+json": {
       "model_id": "",
       "version_major": 2,
       "version_minor": 0
      },
      "text/plain": [
       "Minibatch:   0%|          | 0/63 [00:00<?, ?it/s]"
      ]
     },
     "metadata": {},
     "output_type": "display_data"
    },
    {
     "data": {
      "application/vnd.jupyter.widget-view+json": {
       "model_id": "",
       "version_major": 2,
       "version_minor": 0
      },
      "text/plain": [
       "Minibatch:   0%|          | 0/63 [00:00<?, ?it/s]"
      ]
     },
     "metadata": {},
     "output_type": "display_data"
    },
    {
     "data": {
      "application/vnd.jupyter.widget-view+json": {
       "model_id": "",
       "version_major": 2,
       "version_minor": 0
      },
      "text/plain": [
       "Minibatch:   0%|          | 0/63 [00:00<?, ?it/s]"
      ]
     },
     "metadata": {},
     "output_type": "display_data"
    },
    {
     "data": {
      "application/vnd.jupyter.widget-view+json": {
       "model_id": "",
       "version_major": 2,
       "version_minor": 0
      },
      "text/plain": [
       "Minibatch:   0%|          | 0/63 [00:00<?, ?it/s]"
      ]
     },
     "metadata": {},
     "output_type": "display_data"
    },
    {
     "data": {
      "application/vnd.jupyter.widget-view+json": {
       "model_id": "",
       "version_major": 2,
       "version_minor": 0
      },
      "text/plain": [
       "Minibatch:   0%|          | 0/63 [00:00<?, ?it/s]"
      ]
     },
     "metadata": {},
     "output_type": "display_data"
    },
    {
     "data": {
      "application/vnd.jupyter.widget-view+json": {
       "model_id": "",
       "version_major": 2,
       "version_minor": 0
      },
      "text/plain": [
       "Minibatch:   0%|          | 0/63 [00:00<?, ?it/s]"
      ]
     },
     "metadata": {},
     "output_type": "display_data"
    },
    {
     "data": {
      "application/vnd.jupyter.widget-view+json": {
       "model_id": "",
       "version_major": 2,
       "version_minor": 0
      },
      "text/plain": [
       "Minibatch:   0%|          | 0/63 [00:00<?, ?it/s]"
      ]
     },
     "metadata": {},
     "output_type": "display_data"
    },
    {
     "data": {
      "application/vnd.jupyter.widget-view+json": {
       "model_id": "",
       "version_major": 2,
       "version_minor": 0
      },
      "text/plain": [
       "Minibatch:   0%|          | 0/63 [00:00<?, ?it/s]"
      ]
     },
     "metadata": {},
     "output_type": "display_data"
    },
    {
     "data": {
      "application/vnd.jupyter.widget-view+json": {
       "model_id": "",
       "version_major": 2,
       "version_minor": 0
      },
      "text/plain": [
       "Minibatch:   0%|          | 0/63 [00:00<?, ?it/s]"
      ]
     },
     "metadata": {},
     "output_type": "display_data"
    },
    {
     "data": {
      "application/vnd.jupyter.widget-view+json": {
       "model_id": "",
       "version_major": 2,
       "version_minor": 0
      },
      "text/plain": [
       "Minibatch:   0%|          | 0/63 [00:00<?, ?it/s]"
      ]
     },
     "metadata": {},
     "output_type": "display_data"
    },
    {
     "data": {
      "application/vnd.jupyter.widget-view+json": {
       "model_id": "",
       "version_major": 2,
       "version_minor": 0
      },
      "text/plain": [
       "Minibatch:   0%|          | 0/63 [00:00<?, ?it/s]"
      ]
     },
     "metadata": {},
     "output_type": "display_data"
    },
    {
     "data": {
      "application/vnd.jupyter.widget-view+json": {
       "model_id": "",
       "version_major": 2,
       "version_minor": 0
      },
      "text/plain": [
       "Minibatch:   0%|          | 0/63 [00:00<?, ?it/s]"
      ]
     },
     "metadata": {},
     "output_type": "display_data"
    },
    {
     "data": {
      "application/vnd.jupyter.widget-view+json": {
       "model_id": "",
       "version_major": 2,
       "version_minor": 0
      },
      "text/plain": [
       "Minibatch:   0%|          | 0/63 [00:00<?, ?it/s]"
      ]
     },
     "metadata": {},
     "output_type": "display_data"
    },
    {
     "data": {
      "application/vnd.jupyter.widget-view+json": {
       "model_id": "",
       "version_major": 2,
       "version_minor": 0
      },
      "text/plain": [
       "Minibatch:   0%|          | 0/63 [00:00<?, ?it/s]"
      ]
     },
     "metadata": {},
     "output_type": "display_data"
    },
    {
     "data": {
      "application/vnd.jupyter.widget-view+json": {
       "model_id": "",
       "version_major": 2,
       "version_minor": 0
      },
      "text/plain": [
       "Minibatch:   0%|          | 0/63 [00:00<?, ?it/s]"
      ]
     },
     "metadata": {},
     "output_type": "display_data"
    },
    {
     "data": {
      "application/vnd.jupyter.widget-view+json": {
       "model_id": "",
       "version_major": 2,
       "version_minor": 0
      },
      "text/plain": [
       "Minibatch:   0%|          | 0/63 [00:00<?, ?it/s]"
      ]
     },
     "metadata": {},
     "output_type": "display_data"
    },
    {
     "data": {
      "application/vnd.jupyter.widget-view+json": {
       "model_id": "",
       "version_major": 2,
       "version_minor": 0
      },
      "text/plain": [
       "Minibatch:   0%|          | 0/63 [00:00<?, ?it/s]"
      ]
     },
     "metadata": {},
     "output_type": "display_data"
    },
    {
     "data": {
      "application/vnd.jupyter.widget-view+json": {
       "model_id": "",
       "version_major": 2,
       "version_minor": 0
      },
      "text/plain": [
       "Minibatch:   0%|          | 0/63 [00:00<?, ?it/s]"
      ]
     },
     "metadata": {},
     "output_type": "display_data"
    },
    {
     "data": {
      "application/vnd.jupyter.widget-view+json": {
       "model_id": "",
       "version_major": 2,
       "version_minor": 0
      },
      "text/plain": [
       "Minibatch:   0%|          | 0/63 [00:00<?, ?it/s]"
      ]
     },
     "metadata": {},
     "output_type": "display_data"
    },
    {
     "data": {
      "application/vnd.jupyter.widget-view+json": {
       "model_id": "",
       "version_major": 2,
       "version_minor": 0
      },
      "text/plain": [
       "Minibatch:   0%|          | 0/63 [00:00<?, ?it/s]"
      ]
     },
     "metadata": {},
     "output_type": "display_data"
    },
    {
     "data": {
      "application/vnd.jupyter.widget-view+json": {
       "model_id": "",
       "version_major": 2,
       "version_minor": 0
      },
      "text/plain": [
       "Minibatch:   0%|          | 0/63 [00:00<?, ?it/s]"
      ]
     },
     "metadata": {},
     "output_type": "display_data"
    },
    {
     "data": {
      "application/vnd.jupyter.widget-view+json": {
       "model_id": "",
       "version_major": 2,
       "version_minor": 0
      },
      "text/plain": [
       "Minibatch:   0%|          | 0/63 [00:00<?, ?it/s]"
      ]
     },
     "metadata": {},
     "output_type": "display_data"
    },
    {
     "data": {
      "application/vnd.jupyter.widget-view+json": {
       "model_id": "",
       "version_major": 2,
       "version_minor": 0
      },
      "text/plain": [
       "Minibatch:   0%|          | 0/63 [00:00<?, ?it/s]"
      ]
     },
     "metadata": {},
     "output_type": "display_data"
    },
    {
     "data": {
      "application/vnd.jupyter.widget-view+json": {
       "model_id": "",
       "version_major": 2,
       "version_minor": 0
      },
      "text/plain": [
       "Minibatch:   0%|          | 0/63 [00:00<?, ?it/s]"
      ]
     },
     "metadata": {},
     "output_type": "display_data"
    },
    {
     "data": {
      "application/vnd.jupyter.widget-view+json": {
       "model_id": "",
       "version_major": 2,
       "version_minor": 0
      },
      "text/plain": [
       "Minibatch:   0%|          | 0/63 [00:00<?, ?it/s]"
      ]
     },
     "metadata": {},
     "output_type": "display_data"
    },
    {
     "data": {
      "application/vnd.jupyter.widget-view+json": {
       "model_id": "",
       "version_major": 2,
       "version_minor": 0
      },
      "text/plain": [
       "Minibatch:   0%|          | 0/63 [00:00<?, ?it/s]"
      ]
     },
     "metadata": {},
     "output_type": "display_data"
    },
    {
     "data": {
      "application/vnd.jupyter.widget-view+json": {
       "model_id": "",
       "version_major": 2,
       "version_minor": 0
      },
      "text/plain": [
       "Minibatch:   0%|          | 0/63 [00:00<?, ?it/s]"
      ]
     },
     "metadata": {},
     "output_type": "display_data"
    },
    {
     "data": {
      "application/vnd.jupyter.widget-view+json": {
       "model_id": "",
       "version_major": 2,
       "version_minor": 0
      },
      "text/plain": [
       "Minibatch:   0%|          | 0/63 [00:00<?, ?it/s]"
      ]
     },
     "metadata": {},
     "output_type": "display_data"
    },
    {
     "data": {
      "application/vnd.jupyter.widget-view+json": {
       "model_id": "",
       "version_major": 2,
       "version_minor": 0
      },
      "text/plain": [
       "Minibatch:   0%|          | 0/63 [00:00<?, ?it/s]"
      ]
     },
     "metadata": {},
     "output_type": "display_data"
    },
    {
     "data": {
      "application/vnd.jupyter.widget-view+json": {
       "model_id": "",
       "version_major": 2,
       "version_minor": 0
      },
      "text/plain": [
       "Minibatch:   0%|          | 0/63 [00:00<?, ?it/s]"
      ]
     },
     "metadata": {},
     "output_type": "display_data"
    },
    {
     "data": {
      "application/vnd.jupyter.widget-view+json": {
       "model_id": "",
       "version_major": 2,
       "version_minor": 0
      },
      "text/plain": [
       "Minibatch:   0%|          | 0/63 [00:00<?, ?it/s]"
      ]
     },
     "metadata": {},
     "output_type": "display_data"
    },
    {
     "data": {
      "application/vnd.jupyter.widget-view+json": {
       "model_id": "",
       "version_major": 2,
       "version_minor": 0
      },
      "text/plain": [
       "Minibatch:   0%|          | 0/63 [00:00<?, ?it/s]"
      ]
     },
     "metadata": {},
     "output_type": "display_data"
    },
    {
     "data": {
      "application/vnd.jupyter.widget-view+json": {
       "model_id": "",
       "version_major": 2,
       "version_minor": 0
      },
      "text/plain": [
       "Minibatch:   0%|          | 0/63 [00:00<?, ?it/s]"
      ]
     },
     "metadata": {},
     "output_type": "display_data"
    },
    {
     "data": {
      "application/vnd.jupyter.widget-view+json": {
       "model_id": "",
       "version_major": 2,
       "version_minor": 0
      },
      "text/plain": [
       "Minibatch:   0%|          | 0/63 [00:00<?, ?it/s]"
      ]
     },
     "metadata": {},
     "output_type": "display_data"
    },
    {
     "data": {
      "application/vnd.jupyter.widget-view+json": {
       "model_id": "",
       "version_major": 2,
       "version_minor": 0
      },
      "text/plain": [
       "Minibatch:   0%|          | 0/63 [00:00<?, ?it/s]"
      ]
     },
     "metadata": {},
     "output_type": "display_data"
    },
    {
     "data": {
      "application/vnd.jupyter.widget-view+json": {
       "model_id": "",
       "version_major": 2,
       "version_minor": 0
      },
      "text/plain": [
       "Minibatch:   0%|          | 0/63 [00:00<?, ?it/s]"
      ]
     },
     "metadata": {},
     "output_type": "display_data"
    },
    {
     "data": {
      "application/vnd.jupyter.widget-view+json": {
       "model_id": "",
       "version_major": 2,
       "version_minor": 0
      },
      "text/plain": [
       "Minibatch:   0%|          | 0/63 [00:00<?, ?it/s]"
      ]
     },
     "metadata": {},
     "output_type": "display_data"
    },
    {
     "data": {
      "application/vnd.jupyter.widget-view+json": {
       "model_id": "",
       "version_major": 2,
       "version_minor": 0
      },
      "text/plain": [
       "Minibatch:   0%|          | 0/63 [00:00<?, ?it/s]"
      ]
     },
     "metadata": {},
     "output_type": "display_data"
    },
    {
     "data": {
      "application/vnd.jupyter.widget-view+json": {
       "model_id": "",
       "version_major": 2,
       "version_minor": 0
      },
      "text/plain": [
       "Minibatch:   0%|          | 0/63 [00:00<?, ?it/s]"
      ]
     },
     "metadata": {},
     "output_type": "display_data"
    },
    {
     "data": {
      "application/vnd.jupyter.widget-view+json": {
       "model_id": "",
       "version_major": 2,
       "version_minor": 0
      },
      "text/plain": [
       "Minibatch:   0%|          | 0/63 [00:00<?, ?it/s]"
      ]
     },
     "metadata": {},
     "output_type": "display_data"
    },
    {
     "data": {
      "application/vnd.jupyter.widget-view+json": {
       "model_id": "",
       "version_major": 2,
       "version_minor": 0
      },
      "text/plain": [
       "Minibatch:   0%|          | 0/63 [00:00<?, ?it/s]"
      ]
     },
     "metadata": {},
     "output_type": "display_data"
    },
    {
     "data": {
      "application/vnd.jupyter.widget-view+json": {
       "model_id": "",
       "version_major": 2,
       "version_minor": 0
      },
      "text/plain": [
       "Minibatch:   0%|          | 0/63 [00:00<?, ?it/s]"
      ]
     },
     "metadata": {},
     "output_type": "display_data"
    },
    {
     "data": {
      "application/vnd.jupyter.widget-view+json": {
       "model_id": "",
       "version_major": 2,
       "version_minor": 0
      },
      "text/plain": [
       "Minibatch:   0%|          | 0/63 [00:00<?, ?it/s]"
      ]
     },
     "metadata": {},
     "output_type": "display_data"
    },
    {
     "data": {
      "application/vnd.jupyter.widget-view+json": {
       "model_id": "",
       "version_major": 2,
       "version_minor": 0
      },
      "text/plain": [
       "Minibatch:   0%|          | 0/63 [00:00<?, ?it/s]"
      ]
     },
     "metadata": {},
     "output_type": "display_data"
    },
    {
     "data": {
      "application/vnd.jupyter.widget-view+json": {
       "model_id": "",
       "version_major": 2,
       "version_minor": 0
      },
      "text/plain": [
       "Minibatch:   0%|          | 0/63 [00:00<?, ?it/s]"
      ]
     },
     "metadata": {},
     "output_type": "display_data"
    },
    {
     "data": {
      "application/vnd.jupyter.widget-view+json": {
       "model_id": "",
       "version_major": 2,
       "version_minor": 0
      },
      "text/plain": [
       "Minibatch:   0%|          | 0/63 [00:00<?, ?it/s]"
      ]
     },
     "metadata": {},
     "output_type": "display_data"
    },
    {
     "data": {
      "application/vnd.jupyter.widget-view+json": {
       "model_id": "",
       "version_major": 2,
       "version_minor": 0
      },
      "text/plain": [
       "Minibatch:   0%|          | 0/63 [00:00<?, ?it/s]"
      ]
     },
     "metadata": {},
     "output_type": "display_data"
    },
    {
     "data": {
      "application/vnd.jupyter.widget-view+json": {
       "model_id": "",
       "version_major": 2,
       "version_minor": 0
      },
      "text/plain": [
       "Minibatch:   0%|          | 0/63 [00:00<?, ?it/s]"
      ]
     },
     "metadata": {},
     "output_type": "display_data"
    },
    {
     "data": {
      "application/vnd.jupyter.widget-view+json": {
       "model_id": "",
       "version_major": 2,
       "version_minor": 0
      },
      "text/plain": [
       "Minibatch:   0%|          | 0/63 [00:00<?, ?it/s]"
      ]
     },
     "metadata": {},
     "output_type": "display_data"
    },
    {
     "data": {
      "application/vnd.jupyter.widget-view+json": {
       "model_id": "",
       "version_major": 2,
       "version_minor": 0
      },
      "text/plain": [
       "Minibatch:   0%|          | 0/63 [00:00<?, ?it/s]"
      ]
     },
     "metadata": {},
     "output_type": "display_data"
    },
    {
     "data": {
      "application/vnd.jupyter.widget-view+json": {
       "model_id": "",
       "version_major": 2,
       "version_minor": 0
      },
      "text/plain": [
       "Minibatch:   0%|          | 0/63 [00:00<?, ?it/s]"
      ]
     },
     "metadata": {},
     "output_type": "display_data"
    },
    {
     "data": {
      "application/vnd.jupyter.widget-view+json": {
       "model_id": "",
       "version_major": 2,
       "version_minor": 0
      },
      "text/plain": [
       "Minibatch:   0%|          | 0/63 [00:00<?, ?it/s]"
      ]
     },
     "metadata": {},
     "output_type": "display_data"
    },
    {
     "data": {
      "application/vnd.jupyter.widget-view+json": {
       "model_id": "",
       "version_major": 2,
       "version_minor": 0
      },
      "text/plain": [
       "Minibatch:   0%|          | 0/63 [00:00<?, ?it/s]"
      ]
     },
     "metadata": {},
     "output_type": "display_data"
    },
    {
     "data": {
      "application/vnd.jupyter.widget-view+json": {
       "model_id": "",
       "version_major": 2,
       "version_minor": 0
      },
      "text/plain": [
       "Minibatch:   0%|          | 0/63 [00:00<?, ?it/s]"
      ]
     },
     "metadata": {},
     "output_type": "display_data"
    },
    {
     "data": {
      "application/vnd.jupyter.widget-view+json": {
       "model_id": "",
       "version_major": 2,
       "version_minor": 0
      },
      "text/plain": [
       "Minibatch:   0%|          | 0/63 [00:00<?, ?it/s]"
      ]
     },
     "metadata": {},
     "output_type": "display_data"
    },
    {
     "data": {
      "application/vnd.jupyter.widget-view+json": {
       "model_id": "",
       "version_major": 2,
       "version_minor": 0
      },
      "text/plain": [
       "Minibatch:   0%|          | 0/63 [00:00<?, ?it/s]"
      ]
     },
     "metadata": {},
     "output_type": "display_data"
    },
    {
     "data": {
      "application/vnd.jupyter.widget-view+json": {
       "model_id": "",
       "version_major": 2,
       "version_minor": 0
      },
      "text/plain": [
       "Minibatch:   0%|          | 0/63 [00:00<?, ?it/s]"
      ]
     },
     "metadata": {},
     "output_type": "display_data"
    },
    {
     "data": {
      "application/vnd.jupyter.widget-view+json": {
       "model_id": "",
       "version_major": 2,
       "version_minor": 0
      },
      "text/plain": [
       "Minibatch:   0%|          | 0/63 [00:00<?, ?it/s]"
      ]
     },
     "metadata": {},
     "output_type": "display_data"
    },
    {
     "data": {
      "application/vnd.jupyter.widget-view+json": {
       "model_id": "",
       "version_major": 2,
       "version_minor": 0
      },
      "text/plain": [
       "Minibatch:   0%|          | 0/63 [00:00<?, ?it/s]"
      ]
     },
     "metadata": {},
     "output_type": "display_data"
    },
    {
     "data": {
      "application/vnd.jupyter.widget-view+json": {
       "model_id": "",
       "version_major": 2,
       "version_minor": 0
      },
      "text/plain": [
       "Minibatch:   0%|          | 0/63 [00:00<?, ?it/s]"
      ]
     },
     "metadata": {},
     "output_type": "display_data"
    },
    {
     "data": {
      "application/vnd.jupyter.widget-view+json": {
       "model_id": "",
       "version_major": 2,
       "version_minor": 0
      },
      "text/plain": [
       "Minibatch:   0%|          | 0/63 [00:00<?, ?it/s]"
      ]
     },
     "metadata": {},
     "output_type": "display_data"
    },
    {
     "data": {
      "application/vnd.jupyter.widget-view+json": {
       "model_id": "",
       "version_major": 2,
       "version_minor": 0
      },
      "text/plain": [
       "Minibatch:   0%|          | 0/63 [00:00<?, ?it/s]"
      ]
     },
     "metadata": {},
     "output_type": "display_data"
    },
    {
     "data": {
      "application/vnd.jupyter.widget-view+json": {
       "model_id": "",
       "version_major": 2,
       "version_minor": 0
      },
      "text/plain": [
       "Minibatch:   0%|          | 0/63 [00:00<?, ?it/s]"
      ]
     },
     "metadata": {},
     "output_type": "display_data"
    },
    {
     "data": {
      "application/vnd.jupyter.widget-view+json": {
       "model_id": "",
       "version_major": 2,
       "version_minor": 0
      },
      "text/plain": [
       "Minibatch:   0%|          | 0/63 [00:00<?, ?it/s]"
      ]
     },
     "metadata": {},
     "output_type": "display_data"
    },
    {
     "data": {
      "application/vnd.jupyter.widget-view+json": {
       "model_id": "",
       "version_major": 2,
       "version_minor": 0
      },
      "text/plain": [
       "Minibatch:   0%|          | 0/63 [00:00<?, ?it/s]"
      ]
     },
     "metadata": {},
     "output_type": "display_data"
    },
    {
     "data": {
      "application/vnd.jupyter.widget-view+json": {
       "model_id": "",
       "version_major": 2,
       "version_minor": 0
      },
      "text/plain": [
       "Minibatch:   0%|          | 0/63 [00:00<?, ?it/s]"
      ]
     },
     "metadata": {},
     "output_type": "display_data"
    },
    {
     "data": {
      "application/vnd.jupyter.widget-view+json": {
       "model_id": "",
       "version_major": 2,
       "version_minor": 0
      },
      "text/plain": [
       "Minibatch:   0%|          | 0/63 [00:00<?, ?it/s]"
      ]
     },
     "metadata": {},
     "output_type": "display_data"
    },
    {
     "data": {
      "application/vnd.jupyter.widget-view+json": {
       "model_id": "",
       "version_major": 2,
       "version_minor": 0
      },
      "text/plain": [
       "Minibatch:   0%|          | 0/63 [00:00<?, ?it/s]"
      ]
     },
     "metadata": {},
     "output_type": "display_data"
    },
    {
     "data": {
      "application/vnd.jupyter.widget-view+json": {
       "model_id": "",
       "version_major": 2,
       "version_minor": 0
      },
      "text/plain": [
       "Minibatch:   0%|          | 0/63 [00:00<?, ?it/s]"
      ]
     },
     "metadata": {},
     "output_type": "display_data"
    },
    {
     "data": {
      "application/vnd.jupyter.widget-view+json": {
       "model_id": "",
       "version_major": 2,
       "version_minor": 0
      },
      "text/plain": [
       "Minibatch:   0%|          | 0/63 [00:00<?, ?it/s]"
      ]
     },
     "metadata": {},
     "output_type": "display_data"
    },
    {
     "data": {
      "application/vnd.jupyter.widget-view+json": {
       "model_id": "",
       "version_major": 2,
       "version_minor": 0
      },
      "text/plain": [
       "Minibatch:   0%|          | 0/63 [00:00<?, ?it/s]"
      ]
     },
     "metadata": {},
     "output_type": "display_data"
    },
    {
     "data": {
      "application/vnd.jupyter.widget-view+json": {
       "model_id": "",
       "version_major": 2,
       "version_minor": 0
      },
      "text/plain": [
       "Minibatch:   0%|          | 0/63 [00:00<?, ?it/s]"
      ]
     },
     "metadata": {},
     "output_type": "display_data"
    },
    {
     "data": {
      "application/vnd.jupyter.widget-view+json": {
       "model_id": "",
       "version_major": 2,
       "version_minor": 0
      },
      "text/plain": [
       "Minibatch:   0%|          | 0/63 [00:00<?, ?it/s]"
      ]
     },
     "metadata": {},
     "output_type": "display_data"
    },
    {
     "data": {
      "application/vnd.jupyter.widget-view+json": {
       "model_id": "",
       "version_major": 2,
       "version_minor": 0
      },
      "text/plain": [
       "Minibatch:   0%|          | 0/63 [00:00<?, ?it/s]"
      ]
     },
     "metadata": {},
     "output_type": "display_data"
    },
    {
     "data": {
      "application/vnd.jupyter.widget-view+json": {
       "model_id": "",
       "version_major": 2,
       "version_minor": 0
      },
      "text/plain": [
       "Minibatch:   0%|          | 0/63 [00:00<?, ?it/s]"
      ]
     },
     "metadata": {},
     "output_type": "display_data"
    },
    {
     "data": {
      "application/vnd.jupyter.widget-view+json": {
       "model_id": "",
       "version_major": 2,
       "version_minor": 0
      },
      "text/plain": [
       "Minibatch:   0%|          | 0/63 [00:00<?, ?it/s]"
      ]
     },
     "metadata": {},
     "output_type": "display_data"
    },
    {
     "data": {
      "application/vnd.jupyter.widget-view+json": {
       "model_id": "",
       "version_major": 2,
       "version_minor": 0
      },
      "text/plain": [
       "Minibatch:   0%|          | 0/63 [00:00<?, ?it/s]"
      ]
     },
     "metadata": {},
     "output_type": "display_data"
    },
    {
     "data": {
      "application/vnd.jupyter.widget-view+json": {
       "model_id": "",
       "version_major": 2,
       "version_minor": 0
      },
      "text/plain": [
       "Minibatch:   0%|          | 0/63 [00:00<?, ?it/s]"
      ]
     },
     "metadata": {},
     "output_type": "display_data"
    },
    {
     "data": {
      "application/vnd.jupyter.widget-view+json": {
       "model_id": "",
       "version_major": 2,
       "version_minor": 0
      },
      "text/plain": [
       "Minibatch:   0%|          | 0/63 [00:00<?, ?it/s]"
      ]
     },
     "metadata": {},
     "output_type": "display_data"
    },
    {
     "data": {
      "application/vnd.jupyter.widget-view+json": {
       "model_id": "",
       "version_major": 2,
       "version_minor": 0
      },
      "text/plain": [
       "Minibatch:   0%|          | 0/63 [00:00<?, ?it/s]"
      ]
     },
     "metadata": {},
     "output_type": "display_data"
    },
    {
     "data": {
      "application/vnd.jupyter.widget-view+json": {
       "model_id": "",
       "version_major": 2,
       "version_minor": 0
      },
      "text/plain": [
       "Minibatch:   0%|          | 0/63 [00:00<?, ?it/s]"
      ]
     },
     "metadata": {},
     "output_type": "display_data"
    },
    {
     "data": {
      "application/vnd.jupyter.widget-view+json": {
       "model_id": "",
       "version_major": 2,
       "version_minor": 0
      },
      "text/plain": [
       "Minibatch:   0%|          | 0/63 [00:00<?, ?it/s]"
      ]
     },
     "metadata": {},
     "output_type": "display_data"
    },
    {
     "data": {
      "application/vnd.jupyter.widget-view+json": {
       "model_id": "",
       "version_major": 2,
       "version_minor": 0
      },
      "text/plain": [
       "Minibatch:   0%|          | 0/63 [00:00<?, ?it/s]"
      ]
     },
     "metadata": {},
     "output_type": "display_data"
    },
    {
     "data": {
      "application/vnd.jupyter.widget-view+json": {
       "model_id": "",
       "version_major": 2,
       "version_minor": 0
      },
      "text/plain": [
       "Minibatch:   0%|          | 0/63 [00:00<?, ?it/s]"
      ]
     },
     "metadata": {},
     "output_type": "display_data"
    },
    {
     "data": {
      "application/vnd.jupyter.widget-view+json": {
       "model_id": "",
       "version_major": 2,
       "version_minor": 0
      },
      "text/plain": [
       "Minibatch:   0%|          | 0/63 [00:00<?, ?it/s]"
      ]
     },
     "metadata": {},
     "output_type": "display_data"
    },
    {
     "data": {
      "application/vnd.jupyter.widget-view+json": {
       "model_id": "",
       "version_major": 2,
       "version_minor": 0
      },
      "text/plain": [
       "Minibatch:   0%|          | 0/63 [00:00<?, ?it/s]"
      ]
     },
     "metadata": {},
     "output_type": "display_data"
    },
    {
     "data": {
      "application/vnd.jupyter.widget-view+json": {
       "model_id": "",
       "version_major": 2,
       "version_minor": 0
      },
      "text/plain": [
       "Minibatch:   0%|          | 0/63 [00:00<?, ?it/s]"
      ]
     },
     "metadata": {},
     "output_type": "display_data"
    },
    {
     "data": {
      "application/vnd.jupyter.widget-view+json": {
       "model_id": "",
       "version_major": 2,
       "version_minor": 0
      },
      "text/plain": [
       "Minibatch:   0%|          | 0/63 [00:00<?, ?it/s]"
      ]
     },
     "metadata": {},
     "output_type": "display_data"
    },
    {
     "data": {
      "application/vnd.jupyter.widget-view+json": {
       "model_id": "",
       "version_major": 2,
       "version_minor": 0
      },
      "text/plain": [
       "Minibatch:   0%|          | 0/63 [00:00<?, ?it/s]"
      ]
     },
     "metadata": {},
     "output_type": "display_data"
    },
    {
     "data": {
      "application/vnd.jupyter.widget-view+json": {
       "model_id": "",
       "version_major": 2,
       "version_minor": 0
      },
      "text/plain": [
       "Minibatch:   0%|          | 0/63 [00:00<?, ?it/s]"
      ]
     },
     "metadata": {},
     "output_type": "display_data"
    },
    {
     "data": {
      "application/vnd.jupyter.widget-view+json": {
       "model_id": "",
       "version_major": 2,
       "version_minor": 0
      },
      "text/plain": [
       "Minibatch:   0%|          | 0/63 [00:00<?, ?it/s]"
      ]
     },
     "metadata": {},
     "output_type": "display_data"
    },
    {
     "data": {
      "application/vnd.jupyter.widget-view+json": {
       "model_id": "",
       "version_major": 2,
       "version_minor": 0
      },
      "text/plain": [
       "Minibatch:   0%|          | 0/63 [00:00<?, ?it/s]"
      ]
     },
     "metadata": {},
     "output_type": "display_data"
    },
    {
     "data": {
      "application/vnd.jupyter.widget-view+json": {
       "model_id": "",
       "version_major": 2,
       "version_minor": 0
      },
      "text/plain": [
       "Minibatch:   0%|          | 0/63 [00:00<?, ?it/s]"
      ]
     },
     "metadata": {},
     "output_type": "display_data"
    },
    {
     "data": {
      "application/vnd.jupyter.widget-view+json": {
       "model_id": "",
       "version_major": 2,
       "version_minor": 0
      },
      "text/plain": [
       "Minibatch:   0%|          | 0/63 [00:00<?, ?it/s]"
      ]
     },
     "metadata": {},
     "output_type": "display_data"
    },
    {
     "data": {
      "application/vnd.jupyter.widget-view+json": {
       "model_id": "",
       "version_major": 2,
       "version_minor": 0
      },
      "text/plain": [
       "Minibatch:   0%|          | 0/63 [00:00<?, ?it/s]"
      ]
     },
     "metadata": {},
     "output_type": "display_data"
    },
    {
     "data": {
      "application/vnd.jupyter.widget-view+json": {
       "model_id": "",
       "version_major": 2,
       "version_minor": 0
      },
      "text/plain": [
       "Minibatch:   0%|          | 0/63 [00:00<?, ?it/s]"
      ]
     },
     "metadata": {},
     "output_type": "display_data"
    },
    {
     "data": {
      "application/vnd.jupyter.widget-view+json": {
       "model_id": "",
       "version_major": 2,
       "version_minor": 0
      },
      "text/plain": [
       "Minibatch:   0%|          | 0/63 [00:00<?, ?it/s]"
      ]
     },
     "metadata": {},
     "output_type": "display_data"
    },
    {
     "data": {
      "application/vnd.jupyter.widget-view+json": {
       "model_id": "",
       "version_major": 2,
       "version_minor": 0
      },
      "text/plain": [
       "Minibatch:   0%|          | 0/63 [00:00<?, ?it/s]"
      ]
     },
     "metadata": {},
     "output_type": "display_data"
    },
    {
     "data": {
      "application/vnd.jupyter.widget-view+json": {
       "model_id": "",
       "version_major": 2,
       "version_minor": 0
      },
      "text/plain": [
       "Minibatch:   0%|          | 0/63 [00:00<?, ?it/s]"
      ]
     },
     "metadata": {},
     "output_type": "display_data"
    },
    {
     "data": {
      "application/vnd.jupyter.widget-view+json": {
       "model_id": "",
       "version_major": 2,
       "version_minor": 0
      },
      "text/plain": [
       "Minibatch:   0%|          | 0/63 [00:00<?, ?it/s]"
      ]
     },
     "metadata": {},
     "output_type": "display_data"
    },
    {
     "data": {
      "application/vnd.jupyter.widget-view+json": {
       "model_id": "",
       "version_major": 2,
       "version_minor": 0
      },
      "text/plain": [
       "Minibatch:   0%|          | 0/63 [00:00<?, ?it/s]"
      ]
     },
     "metadata": {},
     "output_type": "display_data"
    },
    {
     "data": {
      "application/vnd.jupyter.widget-view+json": {
       "model_id": "",
       "version_major": 2,
       "version_minor": 0
      },
      "text/plain": [
       "Minibatch:   0%|          | 0/63 [00:00<?, ?it/s]"
      ]
     },
     "metadata": {},
     "output_type": "display_data"
    },
    {
     "data": {
      "application/vnd.jupyter.widget-view+json": {
       "model_id": "",
       "version_major": 2,
       "version_minor": 0
      },
      "text/plain": [
       "Minibatch:   0%|          | 0/63 [00:00<?, ?it/s]"
      ]
     },
     "metadata": {},
     "output_type": "display_data"
    },
    {
     "data": {
      "application/vnd.jupyter.widget-view+json": {
       "model_id": "",
       "version_major": 2,
       "version_minor": 0
      },
      "text/plain": [
       "Minibatch:   0%|          | 0/63 [00:00<?, ?it/s]"
      ]
     },
     "metadata": {},
     "output_type": "display_data"
    },
    {
     "data": {
      "application/vnd.jupyter.widget-view+json": {
       "model_id": "",
       "version_major": 2,
       "version_minor": 0
      },
      "text/plain": [
       "Minibatch:   0%|          | 0/63 [00:00<?, ?it/s]"
      ]
     },
     "metadata": {},
     "output_type": "display_data"
    },
    {
     "data": {
      "application/vnd.jupyter.widget-view+json": {
       "model_id": "",
       "version_major": 2,
       "version_minor": 0
      },
      "text/plain": [
       "Minibatch:   0%|          | 0/63 [00:00<?, ?it/s]"
      ]
     },
     "metadata": {},
     "output_type": "display_data"
    },
    {
     "data": {
      "application/vnd.jupyter.widget-view+json": {
       "model_id": "",
       "version_major": 2,
       "version_minor": 0
      },
      "text/plain": [
       "Minibatch:   0%|          | 0/63 [00:00<?, ?it/s]"
      ]
     },
     "metadata": {},
     "output_type": "display_data"
    },
    {
     "data": {
      "application/vnd.jupyter.widget-view+json": {
       "model_id": "",
       "version_major": 2,
       "version_minor": 0
      },
      "text/plain": [
       "Minibatch:   0%|          | 0/63 [00:00<?, ?it/s]"
      ]
     },
     "metadata": {},
     "output_type": "display_data"
    },
    {
     "data": {
      "application/vnd.jupyter.widget-view+json": {
       "model_id": "",
       "version_major": 2,
       "version_minor": 0
      },
      "text/plain": [
       "Minibatch:   0%|          | 0/63 [00:00<?, ?it/s]"
      ]
     },
     "metadata": {},
     "output_type": "display_data"
    },
    {
     "data": {
      "application/vnd.jupyter.widget-view+json": {
       "model_id": "",
       "version_major": 2,
       "version_minor": 0
      },
      "text/plain": [
       "Minibatch:   0%|          | 0/63 [00:00<?, ?it/s]"
      ]
     },
     "metadata": {},
     "output_type": "display_data"
    },
    {
     "data": {
      "application/vnd.jupyter.widget-view+json": {
       "model_id": "",
       "version_major": 2,
       "version_minor": 0
      },
      "text/plain": [
       "Minibatch:   0%|          | 0/63 [00:00<?, ?it/s]"
      ]
     },
     "metadata": {},
     "output_type": "display_data"
    },
    {
     "data": {
      "application/vnd.jupyter.widget-view+json": {
       "model_id": "",
       "version_major": 2,
       "version_minor": 0
      },
      "text/plain": [
       "Minibatch:   0%|          | 0/63 [00:00<?, ?it/s]"
      ]
     },
     "metadata": {},
     "output_type": "display_data"
    },
    {
     "data": {
      "application/vnd.jupyter.widget-view+json": {
       "model_id": "",
       "version_major": 2,
       "version_minor": 0
      },
      "text/plain": [
       "Minibatch:   0%|          | 0/63 [00:00<?, ?it/s]"
      ]
     },
     "metadata": {},
     "output_type": "display_data"
    },
    {
     "data": {
      "application/vnd.jupyter.widget-view+json": {
       "model_id": "",
       "version_major": 2,
       "version_minor": 0
      },
      "text/plain": [
       "Minibatch:   0%|          | 0/63 [00:00<?, ?it/s]"
      ]
     },
     "metadata": {},
     "output_type": "display_data"
    },
    {
     "data": {
      "application/vnd.jupyter.widget-view+json": {
       "model_id": "",
       "version_major": 2,
       "version_minor": 0
      },
      "text/plain": [
       "Minibatch:   0%|          | 0/63 [00:00<?, ?it/s]"
      ]
     },
     "metadata": {},
     "output_type": "display_data"
    },
    {
     "data": {
      "application/vnd.jupyter.widget-view+json": {
       "model_id": "",
       "version_major": 2,
       "version_minor": 0
      },
      "text/plain": [
       "Minibatch:   0%|          | 0/63 [00:00<?, ?it/s]"
      ]
     },
     "metadata": {},
     "output_type": "display_data"
    },
    {
     "data": {
      "application/vnd.jupyter.widget-view+json": {
       "model_id": "",
       "version_major": 2,
       "version_minor": 0
      },
      "text/plain": [
       "Minibatch:   0%|          | 0/63 [00:00<?, ?it/s]"
      ]
     },
     "metadata": {},
     "output_type": "display_data"
    },
    {
     "data": {
      "application/vnd.jupyter.widget-view+json": {
       "model_id": "",
       "version_major": 2,
       "version_minor": 0
      },
      "text/plain": [
       "Minibatch:   0%|          | 0/63 [00:00<?, ?it/s]"
      ]
     },
     "metadata": {},
     "output_type": "display_data"
    },
    {
     "data": {
      "application/vnd.jupyter.widget-view+json": {
       "model_id": "",
       "version_major": 2,
       "version_minor": 0
      },
      "text/plain": [
       "Minibatch:   0%|          | 0/63 [00:00<?, ?it/s]"
      ]
     },
     "metadata": {},
     "output_type": "display_data"
    },
    {
     "data": {
      "application/vnd.jupyter.widget-view+json": {
       "model_id": "",
       "version_major": 2,
       "version_minor": 0
      },
      "text/plain": [
       "Minibatch:   0%|          | 0/63 [00:00<?, ?it/s]"
      ]
     },
     "metadata": {},
     "output_type": "display_data"
    },
    {
     "data": {
      "application/vnd.jupyter.widget-view+json": {
       "model_id": "",
       "version_major": 2,
       "version_minor": 0
      },
      "text/plain": [
       "Minibatch:   0%|          | 0/63 [00:00<?, ?it/s]"
      ]
     },
     "metadata": {},
     "output_type": "display_data"
    },
    {
     "data": {
      "application/vnd.jupyter.widget-view+json": {
       "model_id": "",
       "version_major": 2,
       "version_minor": 0
      },
      "text/plain": [
       "Minibatch:   0%|          | 0/63 [00:00<?, ?it/s]"
      ]
     },
     "metadata": {},
     "output_type": "display_data"
    },
    {
     "data": {
      "application/vnd.jupyter.widget-view+json": {
       "model_id": "",
       "version_major": 2,
       "version_minor": 0
      },
      "text/plain": [
       "Minibatch:   0%|          | 0/63 [00:00<?, ?it/s]"
      ]
     },
     "metadata": {},
     "output_type": "display_data"
    },
    {
     "data": {
      "application/vnd.jupyter.widget-view+json": {
       "model_id": "",
       "version_major": 2,
       "version_minor": 0
      },
      "text/plain": [
       "Minibatch:   0%|          | 0/63 [00:00<?, ?it/s]"
      ]
     },
     "metadata": {},
     "output_type": "display_data"
    },
    {
     "data": {
      "application/vnd.jupyter.widget-view+json": {
       "model_id": "",
       "version_major": 2,
       "version_minor": 0
      },
      "text/plain": [
       "Minibatch:   0%|          | 0/63 [00:00<?, ?it/s]"
      ]
     },
     "metadata": {},
     "output_type": "display_data"
    },
    {
     "data": {
      "application/vnd.jupyter.widget-view+json": {
       "model_id": "",
       "version_major": 2,
       "version_minor": 0
      },
      "text/plain": [
       "Minibatch:   0%|          | 0/63 [00:00<?, ?it/s]"
      ]
     },
     "metadata": {},
     "output_type": "display_data"
    },
    {
     "data": {
      "application/vnd.jupyter.widget-view+json": {
       "model_id": "",
       "version_major": 2,
       "version_minor": 0
      },
      "text/plain": [
       "Minibatch:   0%|          | 0/63 [00:00<?, ?it/s]"
      ]
     },
     "metadata": {},
     "output_type": "display_data"
    },
    {
     "data": {
      "application/vnd.jupyter.widget-view+json": {
       "model_id": "",
       "version_major": 2,
       "version_minor": 0
      },
      "text/plain": [
       "Minibatch:   0%|          | 0/63 [00:00<?, ?it/s]"
      ]
     },
     "metadata": {},
     "output_type": "display_data"
    },
    {
     "data": {
      "application/vnd.jupyter.widget-view+json": {
       "model_id": "",
       "version_major": 2,
       "version_minor": 0
      },
      "text/plain": [
       "Minibatch:   0%|          | 0/63 [00:00<?, ?it/s]"
      ]
     },
     "metadata": {},
     "output_type": "display_data"
    },
    {
     "data": {
      "application/vnd.jupyter.widget-view+json": {
       "model_id": "",
       "version_major": 2,
       "version_minor": 0
      },
      "text/plain": [
       "Minibatch:   0%|          | 0/63 [00:00<?, ?it/s]"
      ]
     },
     "metadata": {},
     "output_type": "display_data"
    },
    {
     "data": {
      "application/vnd.jupyter.widget-view+json": {
       "model_id": "",
       "version_major": 2,
       "version_minor": 0
      },
      "text/plain": [
       "Minibatch:   0%|          | 0/63 [00:00<?, ?it/s]"
      ]
     },
     "metadata": {},
     "output_type": "display_data"
    },
    {
     "data": {
      "application/vnd.jupyter.widget-view+json": {
       "model_id": "",
       "version_major": 2,
       "version_minor": 0
      },
      "text/plain": [
       "Minibatch:   0%|          | 0/63 [00:00<?, ?it/s]"
      ]
     },
     "metadata": {},
     "output_type": "display_data"
    },
    {
     "data": {
      "application/vnd.jupyter.widget-view+json": {
       "model_id": "",
       "version_major": 2,
       "version_minor": 0
      },
      "text/plain": [
       "Minibatch:   0%|          | 0/63 [00:00<?, ?it/s]"
      ]
     },
     "metadata": {},
     "output_type": "display_data"
    },
    {
     "data": {
      "application/vnd.jupyter.widget-view+json": {
       "model_id": "",
       "version_major": 2,
       "version_minor": 0
      },
      "text/plain": [
       "Minibatch:   0%|          | 0/63 [00:00<?, ?it/s]"
      ]
     },
     "metadata": {},
     "output_type": "display_data"
    },
    {
     "data": {
      "application/vnd.jupyter.widget-view+json": {
       "model_id": "",
       "version_major": 2,
       "version_minor": 0
      },
      "text/plain": [
       "Minibatch:   0%|          | 0/63 [00:00<?, ?it/s]"
      ]
     },
     "metadata": {},
     "output_type": "display_data"
    },
    {
     "data": {
      "application/vnd.jupyter.widget-view+json": {
       "model_id": "",
       "version_major": 2,
       "version_minor": 0
      },
      "text/plain": [
       "Minibatch:   0%|          | 0/63 [00:00<?, ?it/s]"
      ]
     },
     "metadata": {},
     "output_type": "display_data"
    },
    {
     "data": {
      "application/vnd.jupyter.widget-view+json": {
       "model_id": "",
       "version_major": 2,
       "version_minor": 0
      },
      "text/plain": [
       "Minibatch:   0%|          | 0/63 [00:00<?, ?it/s]"
      ]
     },
     "metadata": {},
     "output_type": "display_data"
    },
    {
     "data": {
      "application/vnd.jupyter.widget-view+json": {
       "model_id": "",
       "version_major": 2,
       "version_minor": 0
      },
      "text/plain": [
       "Minibatch:   0%|          | 0/63 [00:00<?, ?it/s]"
      ]
     },
     "metadata": {},
     "output_type": "display_data"
    },
    {
     "data": {
      "application/vnd.jupyter.widget-view+json": {
       "model_id": "",
       "version_major": 2,
       "version_minor": 0
      },
      "text/plain": [
       "Minibatch:   0%|          | 0/63 [00:00<?, ?it/s]"
      ]
     },
     "metadata": {},
     "output_type": "display_data"
    },
    {
     "data": {
      "application/vnd.jupyter.widget-view+json": {
       "model_id": "",
       "version_major": 2,
       "version_minor": 0
      },
      "text/plain": [
       "Minibatch:   0%|          | 0/63 [00:00<?, ?it/s]"
      ]
     },
     "metadata": {},
     "output_type": "display_data"
    },
    {
     "data": {
      "application/vnd.jupyter.widget-view+json": {
       "model_id": "",
       "version_major": 2,
       "version_minor": 0
      },
      "text/plain": [
       "Minibatch:   0%|          | 0/63 [00:00<?, ?it/s]"
      ]
     },
     "metadata": {},
     "output_type": "display_data"
    },
    {
     "data": {
      "application/vnd.jupyter.widget-view+json": {
       "model_id": "",
       "version_major": 2,
       "version_minor": 0
      },
      "text/plain": [
       "Minibatch:   0%|          | 0/63 [00:00<?, ?it/s]"
      ]
     },
     "metadata": {},
     "output_type": "display_data"
    },
    {
     "data": {
      "application/vnd.jupyter.widget-view+json": {
       "model_id": "",
       "version_major": 2,
       "version_minor": 0
      },
      "text/plain": [
       "Minibatch:   0%|          | 0/63 [00:00<?, ?it/s]"
      ]
     },
     "metadata": {},
     "output_type": "display_data"
    },
    {
     "data": {
      "application/vnd.jupyter.widget-view+json": {
       "model_id": "",
       "version_major": 2,
       "version_minor": 0
      },
      "text/plain": [
       "Minibatch:   0%|          | 0/63 [00:00<?, ?it/s]"
      ]
     },
     "metadata": {},
     "output_type": "display_data"
    },
    {
     "data": {
      "application/vnd.jupyter.widget-view+json": {
       "model_id": "",
       "version_major": 2,
       "version_minor": 0
      },
      "text/plain": [
       "Minibatch:   0%|          | 0/63 [00:00<?, ?it/s]"
      ]
     },
     "metadata": {},
     "output_type": "display_data"
    },
    {
     "data": {
      "application/vnd.jupyter.widget-view+json": {
       "model_id": "",
       "version_major": 2,
       "version_minor": 0
      },
      "text/plain": [
       "Minibatch:   0%|          | 0/63 [00:00<?, ?it/s]"
      ]
     },
     "metadata": {},
     "output_type": "display_data"
    },
    {
     "data": {
      "application/vnd.jupyter.widget-view+json": {
       "model_id": "",
       "version_major": 2,
       "version_minor": 0
      },
      "text/plain": [
       "Minibatch:   0%|          | 0/63 [00:00<?, ?it/s]"
      ]
     },
     "metadata": {},
     "output_type": "display_data"
    },
    {
     "data": {
      "application/vnd.jupyter.widget-view+json": {
       "model_id": "",
       "version_major": 2,
       "version_minor": 0
      },
      "text/plain": [
       "Minibatch:   0%|          | 0/63 [00:00<?, ?it/s]"
      ]
     },
     "metadata": {},
     "output_type": "display_data"
    },
    {
     "data": {
      "application/vnd.jupyter.widget-view+json": {
       "model_id": "",
       "version_major": 2,
       "version_minor": 0
      },
      "text/plain": [
       "Minibatch:   0%|          | 0/63 [00:00<?, ?it/s]"
      ]
     },
     "metadata": {},
     "output_type": "display_data"
    },
    {
     "data": {
      "application/vnd.jupyter.widget-view+json": {
       "model_id": "",
       "version_major": 2,
       "version_minor": 0
      },
      "text/plain": [
       "Minibatch:   0%|          | 0/63 [00:00<?, ?it/s]"
      ]
     },
     "metadata": {},
     "output_type": "display_data"
    },
    {
     "data": {
      "application/vnd.jupyter.widget-view+json": {
       "model_id": "",
       "version_major": 2,
       "version_minor": 0
      },
      "text/plain": [
       "Minibatch:   0%|          | 0/63 [00:00<?, ?it/s]"
      ]
     },
     "metadata": {},
     "output_type": "display_data"
    },
    {
     "data": {
      "application/vnd.jupyter.widget-view+json": {
       "model_id": "",
       "version_major": 2,
       "version_minor": 0
      },
      "text/plain": [
       "Minibatch:   0%|          | 0/63 [00:00<?, ?it/s]"
      ]
     },
     "metadata": {},
     "output_type": "display_data"
    },
    {
     "data": {
      "application/vnd.jupyter.widget-view+json": {
       "model_id": "",
       "version_major": 2,
       "version_minor": 0
      },
      "text/plain": [
       "Minibatch:   0%|          | 0/63 [00:00<?, ?it/s]"
      ]
     },
     "metadata": {},
     "output_type": "display_data"
    },
    {
     "data": {
      "application/vnd.jupyter.widget-view+json": {
       "model_id": "",
       "version_major": 2,
       "version_minor": 0
      },
      "text/plain": [
       "Minibatch:   0%|          | 0/63 [00:00<?, ?it/s]"
      ]
     },
     "metadata": {},
     "output_type": "display_data"
    },
    {
     "data": {
      "application/vnd.jupyter.widget-view+json": {
       "model_id": "",
       "version_major": 2,
       "version_minor": 0
      },
      "text/plain": [
       "Minibatch:   0%|          | 0/63 [00:00<?, ?it/s]"
      ]
     },
     "metadata": {},
     "output_type": "display_data"
    },
    {
     "data": {
      "application/vnd.jupyter.widget-view+json": {
       "model_id": "",
       "version_major": 2,
       "version_minor": 0
      },
      "text/plain": [
       "Minibatch:   0%|          | 0/63 [00:00<?, ?it/s]"
      ]
     },
     "metadata": {},
     "output_type": "display_data"
    },
    {
     "data": {
      "application/vnd.jupyter.widget-view+json": {
       "model_id": "",
       "version_major": 2,
       "version_minor": 0
      },
      "text/plain": [
       "Minibatch:   0%|          | 0/63 [00:00<?, ?it/s]"
      ]
     },
     "metadata": {},
     "output_type": "display_data"
    },
    {
     "data": {
      "application/vnd.jupyter.widget-view+json": {
       "model_id": "",
       "version_major": 2,
       "version_minor": 0
      },
      "text/plain": [
       "Minibatch:   0%|          | 0/63 [00:00<?, ?it/s]"
      ]
     },
     "metadata": {},
     "output_type": "display_data"
    },
    {
     "data": {
      "application/vnd.jupyter.widget-view+json": {
       "model_id": "",
       "version_major": 2,
       "version_minor": 0
      },
      "text/plain": [
       "Minibatch:   0%|          | 0/63 [00:00<?, ?it/s]"
      ]
     },
     "metadata": {},
     "output_type": "display_data"
    },
    {
     "data": {
      "application/vnd.jupyter.widget-view+json": {
       "model_id": "",
       "version_major": 2,
       "version_minor": 0
      },
      "text/plain": [
       "Minibatch:   0%|          | 0/63 [00:00<?, ?it/s]"
      ]
     },
     "metadata": {},
     "output_type": "display_data"
    },
    {
     "data": {
      "application/vnd.jupyter.widget-view+json": {
       "model_id": "",
       "version_major": 2,
       "version_minor": 0
      },
      "text/plain": [
       "Minibatch:   0%|          | 0/63 [00:00<?, ?it/s]"
      ]
     },
     "metadata": {},
     "output_type": "display_data"
    },
    {
     "data": {
      "application/vnd.jupyter.widget-view+json": {
       "model_id": "",
       "version_major": 2,
       "version_minor": 0
      },
      "text/plain": [
       "Minibatch:   0%|          | 0/63 [00:00<?, ?it/s]"
      ]
     },
     "metadata": {},
     "output_type": "display_data"
    },
    {
     "data": {
      "application/vnd.jupyter.widget-view+json": {
       "model_id": "",
       "version_major": 2,
       "version_minor": 0
      },
      "text/plain": [
       "Minibatch:   0%|          | 0/63 [00:00<?, ?it/s]"
      ]
     },
     "metadata": {},
     "output_type": "display_data"
    },
    {
     "data": {
      "application/vnd.jupyter.widget-view+json": {
       "model_id": "",
       "version_major": 2,
       "version_minor": 0
      },
      "text/plain": [
       "Minibatch:   0%|          | 0/63 [00:00<?, ?it/s]"
      ]
     },
     "metadata": {},
     "output_type": "display_data"
    },
    {
     "data": {
      "application/vnd.jupyter.widget-view+json": {
       "model_id": "",
       "version_major": 2,
       "version_minor": 0
      },
      "text/plain": [
       "Minibatch:   0%|          | 0/63 [00:00<?, ?it/s]"
      ]
     },
     "metadata": {},
     "output_type": "display_data"
    },
    {
     "data": {
      "application/vnd.jupyter.widget-view+json": {
       "model_id": "",
       "version_major": 2,
       "version_minor": 0
      },
      "text/plain": [
       "Minibatch:   0%|          | 0/63 [00:00<?, ?it/s]"
      ]
     },
     "metadata": {},
     "output_type": "display_data"
    },
    {
     "data": {
      "application/vnd.jupyter.widget-view+json": {
       "model_id": "",
       "version_major": 2,
       "version_minor": 0
      },
      "text/plain": [
       "Minibatch:   0%|          | 0/63 [00:00<?, ?it/s]"
      ]
     },
     "metadata": {},
     "output_type": "display_data"
    },
    {
     "data": {
      "application/vnd.jupyter.widget-view+json": {
       "model_id": "",
       "version_major": 2,
       "version_minor": 0
      },
      "text/plain": [
       "Minibatch:   0%|          | 0/63 [00:00<?, ?it/s]"
      ]
     },
     "metadata": {},
     "output_type": "display_data"
    },
    {
     "data": {
      "application/vnd.jupyter.widget-view+json": {
       "model_id": "",
       "version_major": 2,
       "version_minor": 0
      },
      "text/plain": [
       "Minibatch:   0%|          | 0/63 [00:00<?, ?it/s]"
      ]
     },
     "metadata": {},
     "output_type": "display_data"
    },
    {
     "data": {
      "application/vnd.jupyter.widget-view+json": {
       "model_id": "",
       "version_major": 2,
       "version_minor": 0
      },
      "text/plain": [
       "Minibatch:   0%|          | 0/63 [00:00<?, ?it/s]"
      ]
     },
     "metadata": {},
     "output_type": "display_data"
    },
    {
     "data": {
      "application/vnd.jupyter.widget-view+json": {
       "model_id": "",
       "version_major": 2,
       "version_minor": 0
      },
      "text/plain": [
       "Minibatch:   0%|          | 0/63 [00:00<?, ?it/s]"
      ]
     },
     "metadata": {},
     "output_type": "display_data"
    },
    {
     "data": {
      "application/vnd.jupyter.widget-view+json": {
       "model_id": "",
       "version_major": 2,
       "version_minor": 0
      },
      "text/plain": [
       "Minibatch:   0%|          | 0/63 [00:00<?, ?it/s]"
      ]
     },
     "metadata": {},
     "output_type": "display_data"
    },
    {
     "data": {
      "application/vnd.jupyter.widget-view+json": {
       "model_id": "",
       "version_major": 2,
       "version_minor": 0
      },
      "text/plain": [
       "Minibatch:   0%|          | 0/63 [00:00<?, ?it/s]"
      ]
     },
     "metadata": {},
     "output_type": "display_data"
    },
    {
     "data": {
      "application/vnd.jupyter.widget-view+json": {
       "model_id": "",
       "version_major": 2,
       "version_minor": 0
      },
      "text/plain": [
       "Minibatch:   0%|          | 0/63 [00:00<?, ?it/s]"
      ]
     },
     "metadata": {},
     "output_type": "display_data"
    },
    {
     "data": {
      "application/vnd.jupyter.widget-view+json": {
       "model_id": "",
       "version_major": 2,
       "version_minor": 0
      },
      "text/plain": [
       "Minibatch:   0%|          | 0/63 [00:00<?, ?it/s]"
      ]
     },
     "metadata": {},
     "output_type": "display_data"
    },
    {
     "data": {
      "application/vnd.jupyter.widget-view+json": {
       "model_id": "",
       "version_major": 2,
       "version_minor": 0
      },
      "text/plain": [
       "Minibatch:   0%|          | 0/63 [00:00<?, ?it/s]"
      ]
     },
     "metadata": {},
     "output_type": "display_data"
    },
    {
     "data": {
      "application/vnd.jupyter.widget-view+json": {
       "model_id": "",
       "version_major": 2,
       "version_minor": 0
      },
      "text/plain": [
       "Minibatch:   0%|          | 0/63 [00:00<?, ?it/s]"
      ]
     },
     "metadata": {},
     "output_type": "display_data"
    },
    {
     "data": {
      "application/vnd.jupyter.widget-view+json": {
       "model_id": "",
       "version_major": 2,
       "version_minor": 0
      },
      "text/plain": [
       "Minibatch:   0%|          | 0/63 [00:00<?, ?it/s]"
      ]
     },
     "metadata": {},
     "output_type": "display_data"
    },
    {
     "data": {
      "application/vnd.jupyter.widget-view+json": {
       "model_id": "",
       "version_major": 2,
       "version_minor": 0
      },
      "text/plain": [
       "Minibatch:   0%|          | 0/63 [00:00<?, ?it/s]"
      ]
     },
     "metadata": {},
     "output_type": "display_data"
    },
    {
     "data": {
      "application/vnd.jupyter.widget-view+json": {
       "model_id": "",
       "version_major": 2,
       "version_minor": 0
      },
      "text/plain": [
       "Minibatch:   0%|          | 0/63 [00:00<?, ?it/s]"
      ]
     },
     "metadata": {},
     "output_type": "display_data"
    },
    {
     "data": {
      "application/vnd.jupyter.widget-view+json": {
       "model_id": "",
       "version_major": 2,
       "version_minor": 0
      },
      "text/plain": [
       "Minibatch:   0%|          | 0/63 [00:00<?, ?it/s]"
      ]
     },
     "metadata": {},
     "output_type": "display_data"
    },
    {
     "data": {
      "application/vnd.jupyter.widget-view+json": {
       "model_id": "",
       "version_major": 2,
       "version_minor": 0
      },
      "text/plain": [
       "Minibatch:   0%|          | 0/63 [00:00<?, ?it/s]"
      ]
     },
     "metadata": {},
     "output_type": "display_data"
    },
    {
     "data": {
      "application/vnd.jupyter.widget-view+json": {
       "model_id": "",
       "version_major": 2,
       "version_minor": 0
      },
      "text/plain": [
       "Minibatch:   0%|          | 0/63 [00:00<?, ?it/s]"
      ]
     },
     "metadata": {},
     "output_type": "display_data"
    },
    {
     "data": {
      "application/vnd.jupyter.widget-view+json": {
       "model_id": "",
       "version_major": 2,
       "version_minor": 0
      },
      "text/plain": [
       "Minibatch:   0%|          | 0/63 [00:00<?, ?it/s]"
      ]
     },
     "metadata": {},
     "output_type": "display_data"
    },
    {
     "data": {
      "application/vnd.jupyter.widget-view+json": {
       "model_id": "",
       "version_major": 2,
       "version_minor": 0
      },
      "text/plain": [
       "Minibatch:   0%|          | 0/63 [00:00<?, ?it/s]"
      ]
     },
     "metadata": {},
     "output_type": "display_data"
    },
    {
     "data": {
      "application/vnd.jupyter.widget-view+json": {
       "model_id": "",
       "version_major": 2,
       "version_minor": 0
      },
      "text/plain": [
       "Minibatch:   0%|          | 0/63 [00:00<?, ?it/s]"
      ]
     },
     "metadata": {},
     "output_type": "display_data"
    },
    {
     "data": {
      "application/vnd.jupyter.widget-view+json": {
       "model_id": "",
       "version_major": 2,
       "version_minor": 0
      },
      "text/plain": [
       "Minibatch:   0%|          | 0/63 [00:00<?, ?it/s]"
      ]
     },
     "metadata": {},
     "output_type": "display_data"
    },
    {
     "data": {
      "application/vnd.jupyter.widget-view+json": {
       "model_id": "",
       "version_major": 2,
       "version_minor": 0
      },
      "text/plain": [
       "Minibatch:   0%|          | 0/63 [00:00<?, ?it/s]"
      ]
     },
     "metadata": {},
     "output_type": "display_data"
    },
    {
     "data": {
      "application/vnd.jupyter.widget-view+json": {
       "model_id": "",
       "version_major": 2,
       "version_minor": 0
      },
      "text/plain": [
       "Minibatch:   0%|          | 0/63 [00:00<?, ?it/s]"
      ]
     },
     "metadata": {},
     "output_type": "display_data"
    },
    {
     "data": {
      "application/vnd.jupyter.widget-view+json": {
       "model_id": "",
       "version_major": 2,
       "version_minor": 0
      },
      "text/plain": [
       "Minibatch:   0%|          | 0/63 [00:00<?, ?it/s]"
      ]
     },
     "metadata": {},
     "output_type": "display_data"
    },
    {
     "data": {
      "application/vnd.jupyter.widget-view+json": {
       "model_id": "",
       "version_major": 2,
       "version_minor": 0
      },
      "text/plain": [
       "Minibatch:   0%|          | 0/63 [00:00<?, ?it/s]"
      ]
     },
     "metadata": {},
     "output_type": "display_data"
    },
    {
     "data": {
      "application/vnd.jupyter.widget-view+json": {
       "model_id": "",
       "version_major": 2,
       "version_minor": 0
      },
      "text/plain": [
       "Minibatch:   0%|          | 0/63 [00:00<?, ?it/s]"
      ]
     },
     "metadata": {},
     "output_type": "display_data"
    },
    {
     "data": {
      "application/vnd.jupyter.widget-view+json": {
       "model_id": "",
       "version_major": 2,
       "version_minor": 0
      },
      "text/plain": [
       "Minibatch:   0%|          | 0/63 [00:00<?, ?it/s]"
      ]
     },
     "metadata": {},
     "output_type": "display_data"
    },
    {
     "data": {
      "application/vnd.jupyter.widget-view+json": {
       "model_id": "",
       "version_major": 2,
       "version_minor": 0
      },
      "text/plain": [
       "Minibatch:   0%|          | 0/63 [00:00<?, ?it/s]"
      ]
     },
     "metadata": {},
     "output_type": "display_data"
    },
    {
     "data": {
      "application/vnd.jupyter.widget-view+json": {
       "model_id": "",
       "version_major": 2,
       "version_minor": 0
      },
      "text/plain": [
       "Minibatch:   0%|          | 0/63 [00:00<?, ?it/s]"
      ]
     },
     "metadata": {},
     "output_type": "display_data"
    },
    {
     "data": {
      "application/vnd.jupyter.widget-view+json": {
       "model_id": "",
       "version_major": 2,
       "version_minor": 0
      },
      "text/plain": [
       "Minibatch:   0%|          | 0/63 [00:00<?, ?it/s]"
      ]
     },
     "metadata": {},
     "output_type": "display_data"
    },
    {
     "data": {
      "application/vnd.jupyter.widget-view+json": {
       "model_id": "",
       "version_major": 2,
       "version_minor": 0
      },
      "text/plain": [
       "Minibatch:   0%|          | 0/63 [00:00<?, ?it/s]"
      ]
     },
     "metadata": {},
     "output_type": "display_data"
    },
    {
     "data": {
      "application/vnd.jupyter.widget-view+json": {
       "model_id": "",
       "version_major": 2,
       "version_minor": 0
      },
      "text/plain": [
       "Minibatch:   0%|          | 0/63 [00:00<?, ?it/s]"
      ]
     },
     "metadata": {},
     "output_type": "display_data"
    },
    {
     "data": {
      "application/vnd.jupyter.widget-view+json": {
       "model_id": "",
       "version_major": 2,
       "version_minor": 0
      },
      "text/plain": [
       "Minibatch:   0%|          | 0/63 [00:00<?, ?it/s]"
      ]
     },
     "metadata": {},
     "output_type": "display_data"
    },
    {
     "data": {
      "application/vnd.jupyter.widget-view+json": {
       "model_id": "",
       "version_major": 2,
       "version_minor": 0
      },
      "text/plain": [
       "Minibatch:   0%|          | 0/63 [00:00<?, ?it/s]"
      ]
     },
     "metadata": {},
     "output_type": "display_data"
    },
    {
     "data": {
      "application/vnd.jupyter.widget-view+json": {
       "model_id": "",
       "version_major": 2,
       "version_minor": 0
      },
      "text/plain": [
       "Minibatch:   0%|          | 0/63 [00:00<?, ?it/s]"
      ]
     },
     "metadata": {},
     "output_type": "display_data"
    },
    {
     "data": {
      "application/vnd.jupyter.widget-view+json": {
       "model_id": "",
       "version_major": 2,
       "version_minor": 0
      },
      "text/plain": [
       "Minibatch:   0%|          | 0/63 [00:00<?, ?it/s]"
      ]
     },
     "metadata": {},
     "output_type": "display_data"
    },
    {
     "data": {
      "application/vnd.jupyter.widget-view+json": {
       "model_id": "",
       "version_major": 2,
       "version_minor": 0
      },
      "text/plain": [
       "Minibatch:   0%|          | 0/63 [00:00<?, ?it/s]"
      ]
     },
     "metadata": {},
     "output_type": "display_data"
    },
    {
     "data": {
      "application/vnd.jupyter.widget-view+json": {
       "model_id": "",
       "version_major": 2,
       "version_minor": 0
      },
      "text/plain": [
       "Minibatch:   0%|          | 0/63 [00:00<?, ?it/s]"
      ]
     },
     "metadata": {},
     "output_type": "display_data"
    },
    {
     "data": {
      "application/vnd.jupyter.widget-view+json": {
       "model_id": "",
       "version_major": 2,
       "version_minor": 0
      },
      "text/plain": [
       "Minibatch:   0%|          | 0/63 [00:00<?, ?it/s]"
      ]
     },
     "metadata": {},
     "output_type": "display_data"
    },
    {
     "data": {
      "application/vnd.jupyter.widget-view+json": {
       "model_id": "",
       "version_major": 2,
       "version_minor": 0
      },
      "text/plain": [
       "Minibatch:   0%|          | 0/63 [00:00<?, ?it/s]"
      ]
     },
     "metadata": {},
     "output_type": "display_data"
    },
    {
     "data": {
      "application/vnd.jupyter.widget-view+json": {
       "model_id": "",
       "version_major": 2,
       "version_minor": 0
      },
      "text/plain": [
       "Minibatch:   0%|          | 0/63 [00:00<?, ?it/s]"
      ]
     },
     "metadata": {},
     "output_type": "display_data"
    },
    {
     "data": {
      "application/vnd.jupyter.widget-view+json": {
       "model_id": "",
       "version_major": 2,
       "version_minor": 0
      },
      "text/plain": [
       "Minibatch:   0%|          | 0/63 [00:00<?, ?it/s]"
      ]
     },
     "metadata": {},
     "output_type": "display_data"
    },
    {
     "data": {
      "application/vnd.jupyter.widget-view+json": {
       "model_id": "",
       "version_major": 2,
       "version_minor": 0
      },
      "text/plain": [
       "Minibatch:   0%|          | 0/63 [00:00<?, ?it/s]"
      ]
     },
     "metadata": {},
     "output_type": "display_data"
    },
    {
     "data": {
      "application/vnd.jupyter.widget-view+json": {
       "model_id": "",
       "version_major": 2,
       "version_minor": 0
      },
      "text/plain": [
       "Minibatch:   0%|          | 0/63 [00:00<?, ?it/s]"
      ]
     },
     "metadata": {},
     "output_type": "display_data"
    },
    {
     "data": {
      "application/vnd.jupyter.widget-view+json": {
       "model_id": "",
       "version_major": 2,
       "version_minor": 0
      },
      "text/plain": [
       "Minibatch:   0%|          | 0/63 [00:00<?, ?it/s]"
      ]
     },
     "metadata": {},
     "output_type": "display_data"
    },
    {
     "data": {
      "application/vnd.jupyter.widget-view+json": {
       "model_id": "",
       "version_major": 2,
       "version_minor": 0
      },
      "text/plain": [
       "Minibatch:   0%|          | 0/63 [00:00<?, ?it/s]"
      ]
     },
     "metadata": {},
     "output_type": "display_data"
    },
    {
     "data": {
      "application/vnd.jupyter.widget-view+json": {
       "model_id": "",
       "version_major": 2,
       "version_minor": 0
      },
      "text/plain": [
       "Minibatch:   0%|          | 0/63 [00:00<?, ?it/s]"
      ]
     },
     "metadata": {},
     "output_type": "display_data"
    },
    {
     "data": {
      "application/vnd.jupyter.widget-view+json": {
       "model_id": "",
       "version_major": 2,
       "version_minor": 0
      },
      "text/plain": [
       "Minibatch:   0%|          | 0/63 [00:00<?, ?it/s]"
      ]
     },
     "metadata": {},
     "output_type": "display_data"
    },
    {
     "data": {
      "application/vnd.jupyter.widget-view+json": {
       "model_id": "",
       "version_major": 2,
       "version_minor": 0
      },
      "text/plain": [
       "Minibatch:   0%|          | 0/63 [00:00<?, ?it/s]"
      ]
     },
     "metadata": {},
     "output_type": "display_data"
    },
    {
     "data": {
      "application/vnd.jupyter.widget-view+json": {
       "model_id": "",
       "version_major": 2,
       "version_minor": 0
      },
      "text/plain": [
       "Minibatch:   0%|          | 0/63 [00:00<?, ?it/s]"
      ]
     },
     "metadata": {},
     "output_type": "display_data"
    },
    {
     "data": {
      "application/vnd.jupyter.widget-view+json": {
       "model_id": "",
       "version_major": 2,
       "version_minor": 0
      },
      "text/plain": [
       "Minibatch:   0%|          | 0/63 [00:00<?, ?it/s]"
      ]
     },
     "metadata": {},
     "output_type": "display_data"
    },
    {
     "data": {
      "application/vnd.jupyter.widget-view+json": {
       "model_id": "",
       "version_major": 2,
       "version_minor": 0
      },
      "text/plain": [
       "Minibatch:   0%|          | 0/63 [00:00<?, ?it/s]"
      ]
     },
     "metadata": {},
     "output_type": "display_data"
    },
    {
     "data": {
      "application/vnd.jupyter.widget-view+json": {
       "model_id": "",
       "version_major": 2,
       "version_minor": 0
      },
      "text/plain": [
       "Minibatch:   0%|          | 0/63 [00:00<?, ?it/s]"
      ]
     },
     "metadata": {},
     "output_type": "display_data"
    },
    {
     "data": {
      "application/vnd.jupyter.widget-view+json": {
       "model_id": "",
       "version_major": 2,
       "version_minor": 0
      },
      "text/plain": [
       "Minibatch:   0%|          | 0/63 [00:00<?, ?it/s]"
      ]
     },
     "metadata": {},
     "output_type": "display_data"
    },
    {
     "data": {
      "application/vnd.jupyter.widget-view+json": {
       "model_id": "",
       "version_major": 2,
       "version_minor": 0
      },
      "text/plain": [
       "Minibatch:   0%|          | 0/63 [00:00<?, ?it/s]"
      ]
     },
     "metadata": {},
     "output_type": "display_data"
    },
    {
     "data": {
      "application/vnd.jupyter.widget-view+json": {
       "model_id": "",
       "version_major": 2,
       "version_minor": 0
      },
      "text/plain": [
       "Minibatch:   0%|          | 0/63 [00:00<?, ?it/s]"
      ]
     },
     "metadata": {},
     "output_type": "display_data"
    },
    {
     "data": {
      "application/vnd.jupyter.widget-view+json": {
       "model_id": "",
       "version_major": 2,
       "version_minor": 0
      },
      "text/plain": [
       "Minibatch:   0%|          | 0/63 [00:00<?, ?it/s]"
      ]
     },
     "metadata": {},
     "output_type": "display_data"
    },
    {
     "data": {
      "application/vnd.jupyter.widget-view+json": {
       "model_id": "",
       "version_major": 2,
       "version_minor": 0
      },
      "text/plain": [
       "Minibatch:   0%|          | 0/63 [00:00<?, ?it/s]"
      ]
     },
     "metadata": {},
     "output_type": "display_data"
    },
    {
     "data": {
      "application/vnd.jupyter.widget-view+json": {
       "model_id": "",
       "version_major": 2,
       "version_minor": 0
      },
      "text/plain": [
       "Minibatch:   0%|          | 0/63 [00:00<?, ?it/s]"
      ]
     },
     "metadata": {},
     "output_type": "display_data"
    },
    {
     "data": {
      "application/vnd.jupyter.widget-view+json": {
       "model_id": "",
       "version_major": 2,
       "version_minor": 0
      },
      "text/plain": [
       "Minibatch:   0%|          | 0/63 [00:00<?, ?it/s]"
      ]
     },
     "metadata": {},
     "output_type": "display_data"
    },
    {
     "data": {
      "application/vnd.jupyter.widget-view+json": {
       "model_id": "",
       "version_major": 2,
       "version_minor": 0
      },
      "text/plain": [
       "Minibatch:   0%|          | 0/63 [00:00<?, ?it/s]"
      ]
     },
     "metadata": {},
     "output_type": "display_data"
    },
    {
     "data": {
      "application/vnd.jupyter.widget-view+json": {
       "model_id": "",
       "version_major": 2,
       "version_minor": 0
      },
      "text/plain": [
       "Minibatch:   0%|          | 0/63 [00:00<?, ?it/s]"
      ]
     },
     "metadata": {},
     "output_type": "display_data"
    },
    {
     "data": {
      "application/vnd.jupyter.widget-view+json": {
       "model_id": "",
       "version_major": 2,
       "version_minor": 0
      },
      "text/plain": [
       "Minibatch:   0%|          | 0/63 [00:00<?, ?it/s]"
      ]
     },
     "metadata": {},
     "output_type": "display_data"
    },
    {
     "data": {
      "application/vnd.jupyter.widget-view+json": {
       "model_id": "",
       "version_major": 2,
       "version_minor": 0
      },
      "text/plain": [
       "Minibatch:   0%|          | 0/63 [00:00<?, ?it/s]"
      ]
     },
     "metadata": {},
     "output_type": "display_data"
    },
    {
     "data": {
      "application/vnd.jupyter.widget-view+json": {
       "model_id": "",
       "version_major": 2,
       "version_minor": 0
      },
      "text/plain": [
       "Minibatch:   0%|          | 0/63 [00:00<?, ?it/s]"
      ]
     },
     "metadata": {},
     "output_type": "display_data"
    },
    {
     "data": {
      "application/vnd.jupyter.widget-view+json": {
       "model_id": "",
       "version_major": 2,
       "version_minor": 0
      },
      "text/plain": [
       "Minibatch:   0%|          | 0/63 [00:00<?, ?it/s]"
      ]
     },
     "metadata": {},
     "output_type": "display_data"
    },
    {
     "data": {
      "application/vnd.jupyter.widget-view+json": {
       "model_id": "",
       "version_major": 2,
       "version_minor": 0
      },
      "text/plain": [
       "Minibatch:   0%|          | 0/63 [00:00<?, ?it/s]"
      ]
     },
     "metadata": {},
     "output_type": "display_data"
    },
    {
     "data": {
      "application/vnd.jupyter.widget-view+json": {
       "model_id": "",
       "version_major": 2,
       "version_minor": 0
      },
      "text/plain": [
       "Minibatch:   0%|          | 0/63 [00:00<?, ?it/s]"
      ]
     },
     "metadata": {},
     "output_type": "display_data"
    },
    {
     "data": {
      "application/vnd.jupyter.widget-view+json": {
       "model_id": "",
       "version_major": 2,
       "version_minor": 0
      },
      "text/plain": [
       "Minibatch:   0%|          | 0/63 [00:00<?, ?it/s]"
      ]
     },
     "metadata": {},
     "output_type": "display_data"
    },
    {
     "data": {
      "application/vnd.jupyter.widget-view+json": {
       "model_id": "",
       "version_major": 2,
       "version_minor": 0
      },
      "text/plain": [
       "Minibatch:   0%|          | 0/63 [00:00<?, ?it/s]"
      ]
     },
     "metadata": {},
     "output_type": "display_data"
    },
    {
     "data": {
      "application/vnd.jupyter.widget-view+json": {
       "model_id": "",
       "version_major": 2,
       "version_minor": 0
      },
      "text/plain": [
       "Minibatch:   0%|          | 0/63 [00:00<?, ?it/s]"
      ]
     },
     "metadata": {},
     "output_type": "display_data"
    },
    {
     "data": {
      "application/vnd.jupyter.widget-view+json": {
       "model_id": "",
       "version_major": 2,
       "version_minor": 0
      },
      "text/plain": [
       "Minibatch:   0%|          | 0/63 [00:00<?, ?it/s]"
      ]
     },
     "metadata": {},
     "output_type": "display_data"
    },
    {
     "data": {
      "application/vnd.jupyter.widget-view+json": {
       "model_id": "",
       "version_major": 2,
       "version_minor": 0
      },
      "text/plain": [
       "Minibatch:   0%|          | 0/63 [00:00<?, ?it/s]"
      ]
     },
     "metadata": {},
     "output_type": "display_data"
    },
    {
     "data": {
      "application/vnd.jupyter.widget-view+json": {
       "model_id": "",
       "version_major": 2,
       "version_minor": 0
      },
      "text/plain": [
       "Minibatch:   0%|          | 0/63 [00:00<?, ?it/s]"
      ]
     },
     "metadata": {},
     "output_type": "display_data"
    },
    {
     "data": {
      "application/vnd.jupyter.widget-view+json": {
       "model_id": "",
       "version_major": 2,
       "version_minor": 0
      },
      "text/plain": [
       "Minibatch:   0%|          | 0/63 [00:00<?, ?it/s]"
      ]
     },
     "metadata": {},
     "output_type": "display_data"
    },
    {
     "data": {
      "application/vnd.jupyter.widget-view+json": {
       "model_id": "",
       "version_major": 2,
       "version_minor": 0
      },
      "text/plain": [
       "Minibatch:   0%|          | 0/63 [00:00<?, ?it/s]"
      ]
     },
     "metadata": {},
     "output_type": "display_data"
    },
    {
     "data": {
      "application/vnd.jupyter.widget-view+json": {
       "model_id": "",
       "version_major": 2,
       "version_minor": 0
      },
      "text/plain": [
       "Minibatch:   0%|          | 0/63 [00:00<?, ?it/s]"
      ]
     },
     "metadata": {},
     "output_type": "display_data"
    },
    {
     "data": {
      "application/vnd.jupyter.widget-view+json": {
       "model_id": "",
       "version_major": 2,
       "version_minor": 0
      },
      "text/plain": [
       "Minibatch:   0%|          | 0/63 [00:00<?, ?it/s]"
      ]
     },
     "metadata": {},
     "output_type": "display_data"
    },
    {
     "data": {
      "application/vnd.jupyter.widget-view+json": {
       "model_id": "",
       "version_major": 2,
       "version_minor": 0
      },
      "text/plain": [
       "Minibatch:   0%|          | 0/63 [00:00<?, ?it/s]"
      ]
     },
     "metadata": {},
     "output_type": "display_data"
    },
    {
     "data": {
      "application/vnd.jupyter.widget-view+json": {
       "model_id": "",
       "version_major": 2,
       "version_minor": 0
      },
      "text/plain": [
       "Minibatch:   0%|          | 0/63 [00:00<?, ?it/s]"
      ]
     },
     "metadata": {},
     "output_type": "display_data"
    },
    {
     "data": {
      "application/vnd.jupyter.widget-view+json": {
       "model_id": "",
       "version_major": 2,
       "version_minor": 0
      },
      "text/plain": [
       "Minibatch:   0%|          | 0/63 [00:00<?, ?it/s]"
      ]
     },
     "metadata": {},
     "output_type": "display_data"
    },
    {
     "data": {
      "application/vnd.jupyter.widget-view+json": {
       "model_id": "",
       "version_major": 2,
       "version_minor": 0
      },
      "text/plain": [
       "Minibatch:   0%|          | 0/63 [00:00<?, ?it/s]"
      ]
     },
     "metadata": {},
     "output_type": "display_data"
    },
    {
     "data": {
      "application/vnd.jupyter.widget-view+json": {
       "model_id": "",
       "version_major": 2,
       "version_minor": 0
      },
      "text/plain": [
       "Minibatch:   0%|          | 0/63 [00:00<?, ?it/s]"
      ]
     },
     "metadata": {},
     "output_type": "display_data"
    },
    {
     "data": {
      "application/vnd.jupyter.widget-view+json": {
       "model_id": "",
       "version_major": 2,
       "version_minor": 0
      },
      "text/plain": [
       "Minibatch:   0%|          | 0/63 [00:00<?, ?it/s]"
      ]
     },
     "metadata": {},
     "output_type": "display_data"
    },
    {
     "data": {
      "application/vnd.jupyter.widget-view+json": {
       "model_id": "",
       "version_major": 2,
       "version_minor": 0
      },
      "text/plain": [
       "Minibatch:   0%|          | 0/63 [00:00<?, ?it/s]"
      ]
     },
     "metadata": {},
     "output_type": "display_data"
    },
    {
     "data": {
      "application/vnd.jupyter.widget-view+json": {
       "model_id": "",
       "version_major": 2,
       "version_minor": 0
      },
      "text/plain": [
       "Minibatch:   0%|          | 0/63 [00:00<?, ?it/s]"
      ]
     },
     "metadata": {},
     "output_type": "display_data"
    },
    {
     "data": {
      "application/vnd.jupyter.widget-view+json": {
       "model_id": "",
       "version_major": 2,
       "version_minor": 0
      },
      "text/plain": [
       "Minibatch:   0%|          | 0/63 [00:00<?, ?it/s]"
      ]
     },
     "metadata": {},
     "output_type": "display_data"
    },
    {
     "data": {
      "application/vnd.jupyter.widget-view+json": {
       "model_id": "",
       "version_major": 2,
       "version_minor": 0
      },
      "text/plain": [
       "Minibatch:   0%|          | 0/63 [00:00<?, ?it/s]"
      ]
     },
     "metadata": {},
     "output_type": "display_data"
    },
    {
     "data": {
      "application/vnd.jupyter.widget-view+json": {
       "model_id": "",
       "version_major": 2,
       "version_minor": 0
      },
      "text/plain": [
       "Minibatch:   0%|          | 0/63 [00:00<?, ?it/s]"
      ]
     },
     "metadata": {},
     "output_type": "display_data"
    },
    {
     "data": {
      "application/vnd.jupyter.widget-view+json": {
       "model_id": "",
       "version_major": 2,
       "version_minor": 0
      },
      "text/plain": [
       "Minibatch:   0%|          | 0/63 [00:00<?, ?it/s]"
      ]
     },
     "metadata": {},
     "output_type": "display_data"
    },
    {
     "data": {
      "application/vnd.jupyter.widget-view+json": {
       "model_id": "",
       "version_major": 2,
       "version_minor": 0
      },
      "text/plain": [
       "Minibatch:   0%|          | 0/63 [00:00<?, ?it/s]"
      ]
     },
     "metadata": {},
     "output_type": "display_data"
    },
    {
     "data": {
      "application/vnd.jupyter.widget-view+json": {
       "model_id": "",
       "version_major": 2,
       "version_minor": 0
      },
      "text/plain": [
       "Minibatch:   0%|          | 0/63 [00:00<?, ?it/s]"
      ]
     },
     "metadata": {},
     "output_type": "display_data"
    },
    {
     "data": {
      "application/vnd.jupyter.widget-view+json": {
       "model_id": "",
       "version_major": 2,
       "version_minor": 0
      },
      "text/plain": [
       "Minibatch:   0%|          | 0/63 [00:00<?, ?it/s]"
      ]
     },
     "metadata": {},
     "output_type": "display_data"
    },
    {
     "data": {
      "application/vnd.jupyter.widget-view+json": {
       "model_id": "",
       "version_major": 2,
       "version_minor": 0
      },
      "text/plain": [
       "Minibatch:   0%|          | 0/63 [00:00<?, ?it/s]"
      ]
     },
     "metadata": {},
     "output_type": "display_data"
    },
    {
     "data": {
      "application/vnd.jupyter.widget-view+json": {
       "model_id": "",
       "version_major": 2,
       "version_minor": 0
      },
      "text/plain": [
       "Minibatch:   0%|          | 0/63 [00:00<?, ?it/s]"
      ]
     },
     "metadata": {},
     "output_type": "display_data"
    },
    {
     "data": {
      "application/vnd.jupyter.widget-view+json": {
       "model_id": "",
       "version_major": 2,
       "version_minor": 0
      },
      "text/plain": [
       "Minibatch:   0%|          | 0/63 [00:00<?, ?it/s]"
      ]
     },
     "metadata": {},
     "output_type": "display_data"
    },
    {
     "data": {
      "application/vnd.jupyter.widget-view+json": {
       "model_id": "",
       "version_major": 2,
       "version_minor": 0
      },
      "text/plain": [
       "Minibatch:   0%|          | 0/63 [00:00<?, ?it/s]"
      ]
     },
     "metadata": {},
     "output_type": "display_data"
    },
    {
     "data": {
      "application/vnd.jupyter.widget-view+json": {
       "model_id": "",
       "version_major": 2,
       "version_minor": 0
      },
      "text/plain": [
       "Minibatch:   0%|          | 0/63 [00:00<?, ?it/s]"
      ]
     },
     "metadata": {},
     "output_type": "display_data"
    },
    {
     "data": {
      "application/vnd.jupyter.widget-view+json": {
       "model_id": "",
       "version_major": 2,
       "version_minor": 0
      },
      "text/plain": [
       "Minibatch:   0%|          | 0/63 [00:00<?, ?it/s]"
      ]
     },
     "metadata": {},
     "output_type": "display_data"
    },
    {
     "data": {
      "application/vnd.jupyter.widget-view+json": {
       "model_id": "",
       "version_major": 2,
       "version_minor": 0
      },
      "text/plain": [
       "Minibatch:   0%|          | 0/63 [00:00<?, ?it/s]"
      ]
     },
     "metadata": {},
     "output_type": "display_data"
    }
   ],
   "source": [
    "from tqdm.autonotebook import tqdm\n",
    "# Begin training\n",
    "with gpytorch.settings.fast_computations(covar_root_decomposition=False, log_prob=False, solves=False), gpytorch.settings.debug(state=False):\n",
    "    epochs_iter = tqdm(range(num_epochs),desc=\"Epoch\")\n",
    "    for i in epochs_iter:\n",
    "        # Within each iteration, we will go over each minibatch of data\n",
    "        minibatch_iter = tqdm(train_loader, desc=\"Minibatch\", leave=False)\n",
    "        for x_batch, y_batch, y_noise_batch, task_batch in minibatch_iter:\n",
    "            # Zero gradients\n",
    "            hyperparameter_optimizer.zero_grad()\n",
    "            if variational_ngd_optimizer is not None:\n",
    "                variational_ngd_optimizer.zero_grad()\n",
    "    \n",
    "            # Get outputs\n",
    "            output = model(x_batch,task_indices=task_batch)\n",
    "            \n",
    "    \n",
    "            # Compute loss\n",
    "            if isinstance(likelihood, gpytorch.likelihoods.FixedNoiseGaussianLikelihood):\n",
    "                loss = -mll(output, y_batch, noise=(y_noise_batch+0.01))\n",
    "            else:\n",
    "                loss = -mll(output, y_batch)\n",
    "            # Call backward on loss\n",
    "            loss.backward()\n",
    "            # Take a step\n",
    "            hyperparameter_optimizer.step()\n",
    "            if variational_ngd_optimizer is not None:\n",
    "                variational_ngd_optimizer.step()\n",
    "    \n",
    "            # Update counter\n",
    "            minibatch_iter.set_postfix(loss=loss.item(),drug1_lengthscale = model.covar_module.base_kernel.lengthscale[0][2].item())\n",
    "    \n",
    "            # Track loss\n",
    "            train_loss.append(loss.item())\n",
    "    \n",
    "        # Step learning rate scheduler\n",
    "        scheduler_hypers.step()\n",
    "        if scheduler_variational is not None:\n",
    "            scheduler_variational.step()"
   ]
  },
  {
   "cell_type": "code",
   "execution_count": 339,
   "id": "aafbcdf6-e428-4bfd-8816-81ccba14e35e",
   "metadata": {},
   "outputs": [
    {
     "data": {
      "text/plain": [
       "tensor([[ 0.2328,  0.2328, 54.5602, 40.7290, 45.6056, 25.4961, 14.6764, 35.1949,\n",
       "         44.4198, 14.4137, 37.7776, 36.6923, 21.2179, 43.6574, 33.2670, 35.9649,\n",
       "         40.0173, 25.6212, 43.7876, 46.1063, 48.2786, 33.5253, 32.0300, 25.8025,\n",
       "         34.7371, 27.6934, 48.1297,  6.2961, 39.2493, 37.6214, 30.4012, 36.8281,\n",
       "         28.2333,  7.5469, 36.0377, 38.4060, 52.3182, 49.1738, 39.0548, 44.3194,\n",
       "         46.4596, 41.0666, 35.7008, 48.7947, 50.2837, 48.9622, 20.5570, 20.7213,\n",
       "         11.9653, 30.0420, 18.1556, 41.7971, 50.9199, 56.7435, 36.2801, 33.3520,\n",
       "         38.3800, 48.9938, 43.0825, 35.7268, 14.5890, 38.0933, 47.2860, 53.2170,\n",
       "         34.2537, 37.8385, 19.2385, 20.9397, 55.9937, 20.5142, 36.4956, 21.4076,\n",
       "         21.8064, 56.0153, 44.9473, 39.7276, 40.2521, 29.9234, 10.4826, 45.8720,\n",
       "         27.8494, 37.6158, 46.6112, 34.3023, 42.5479, 34.9826, 28.7322, 31.3045,\n",
       "         21.5362, 33.9673, 49.7790, 40.0233, 55.5276, 43.8975,  9.9710, 44.9077,\n",
       "         44.4945, 48.0674, 24.9903, 40.2216, 51.1125, 36.3946, 45.5127, 38.0492,\n",
       "         19.9132, 51.3385, 29.6590, 38.1502, 26.2852, 45.1466, 53.0307, 35.2070,\n",
       "         43.5079, 38.5133, 37.9125, 37.8884, 39.8798, 39.9315, 44.5341, 29.5894,\n",
       "         35.8663, 38.5441, 44.2839, 36.8622, 13.3500, 42.0282, 27.0993, 34.9298,\n",
       "         55.2334, 29.0366, 28.8695, 30.6852, 43.5695, 52.6449, 33.4441, 41.1971,\n",
       "         47.2250, 45.8111, 50.3312, 52.6758, 12.7050, 34.8441, 37.0272, 25.9881,\n",
       "         36.0993, 49.6229, 42.9716, 37.4567, 42.5898, 46.7322, 44.2444, 33.1467,\n",
       "         45.0194, 36.2758, 39.1357, 29.3487, 40.9688, 41.8200, 33.5141, 38.4578,\n",
       "         39.4126, 26.0590, 47.1870, 50.8799, 48.4386, 47.1479, 37.0310, 30.1636,\n",
       "         44.8526, 27.6568, 29.9654, 40.7108, 41.3289, 39.2139, 33.0042, 33.0331,\n",
       "         21.1347, 37.6180, 33.0603, 48.5718, 50.5531, 41.0486, 36.2989, 47.6369,\n",
       "         45.7286, 51.5813, 33.9449, 44.0881, 28.2009, 22.1925, 42.9550, 37.6336,\n",
       "         28.0690, 51.3405, 38.2543, 10.9351, 29.4484,  8.0522, 48.1901, 52.6388,\n",
       "          9.9731, 41.2567, 39.5393, 49.9368, 45.5544, 48.8655, 40.7901, 50.0953,\n",
       "         49.1879, 40.7752, 46.4290, 48.3042, 30.7569, 36.4037, 50.3084, 50.7874,\n",
       "         13.6222, 34.9673, 44.3699, 36.8896, 18.9730, 46.3538, 32.9260,  4.5739,\n",
       "         45.1224, 24.5703, 12.0293, 46.5426, 29.4318, 36.8549, 41.3948, 37.6784,\n",
       "         19.6677, 26.6671, 25.9442, 46.0592, 24.8432, 43.5695, 27.3948, 39.6603,\n",
       "         16.9744, 37.0440, 47.2805, 37.6486, 48.5093, 29.5965, 19.1192, 38.6177,\n",
       "         18.4205, 47.4994, 29.1465, 13.4957, 19.1688, 47.3800, 46.5302, 51.7717,\n",
       "         46.4459, 30.8124, 54.5602, 40.7290, 45.6056, 25.4961, 14.6764, 35.1949,\n",
       "         44.4198, 14.4137, 37.7776, 36.6923, 21.2179, 43.6574, 33.2670, 35.9649,\n",
       "         40.0173, 25.6212, 43.7876, 46.1063, 48.2786, 33.5253, 32.0300, 25.8025,\n",
       "         34.7371, 27.6934, 48.1297,  6.2961, 39.2493, 37.6214, 30.4012, 36.8281,\n",
       "         28.2333,  7.5469, 36.0377, 38.4060, 52.3182, 49.1738, 39.0548, 44.3194,\n",
       "         46.4596, 41.0666, 35.7008, 48.7947, 50.2837, 48.9622, 20.5570, 20.7213,\n",
       "         11.9653, 30.0420, 18.1556, 41.7971, 50.9199, 56.7435, 36.2801, 33.3520,\n",
       "         38.3800, 48.9938, 43.0825, 35.7268, 14.5890, 38.0933, 47.2860, 53.2170,\n",
       "         34.2537, 37.8385, 19.2385, 20.9397, 55.9937, 20.5142, 36.4956, 21.4076,\n",
       "         21.8064, 56.0153, 44.9473, 39.7276, 40.2521, 29.9234, 10.4826, 45.8720,\n",
       "         27.8494, 37.6158, 46.6112, 34.3023, 42.5479, 34.9826, 28.7322, 31.3045,\n",
       "         21.5362, 33.9673, 49.7790, 40.0233, 55.5276, 43.8975,  9.9710, 44.9077,\n",
       "         44.4945, 48.0674, 24.9903, 40.2216, 51.1125, 36.3946, 45.5127, 38.0492,\n",
       "         19.9132, 51.3385, 29.6590, 38.1502, 26.2852, 45.1466, 53.0307, 35.2070,\n",
       "         43.5079, 38.5133, 37.9125, 37.8884, 39.8798, 39.9315, 44.5341, 29.5894,\n",
       "         35.8663, 38.5441, 44.2839, 36.8622, 13.3500, 42.0282, 27.0993, 34.9298,\n",
       "         55.2334, 29.0366, 28.8695, 30.6852, 43.5695, 52.6449, 33.4441, 41.1971,\n",
       "         47.2250, 45.8111, 50.3312, 52.6758, 12.7050, 34.8441, 37.0272, 25.9881,\n",
       "         36.0993, 49.6229, 42.9716, 37.4567, 42.5898, 46.7322, 44.2444, 33.1467,\n",
       "         45.0194, 36.2758, 39.1357, 29.3487, 40.9688, 41.8200, 33.5141, 38.4578,\n",
       "         39.4126, 26.0590, 47.1870, 50.8799, 48.4386, 47.1479, 37.0310, 30.1636,\n",
       "         44.8526, 27.6568, 29.9654, 40.7108, 41.3289, 39.2139, 33.0042, 33.0331,\n",
       "         21.1347, 37.6180, 33.0603, 48.5718, 50.5531, 41.0486, 36.2989, 47.6369,\n",
       "         45.7286, 51.5813, 33.9449, 44.0881, 28.2009, 22.1925, 42.9550, 37.6336,\n",
       "         28.0690, 51.3405, 38.2543, 10.9351, 29.4484,  8.0522, 48.1901, 52.6388,\n",
       "          9.9731, 41.2567, 39.5393, 49.9368, 45.5544, 48.8655, 40.7901, 50.0953,\n",
       "         49.1879, 40.7752, 46.4290, 48.3042, 30.7569, 36.4037, 50.3084, 50.7874,\n",
       "         13.6222, 34.9673, 44.3699, 36.8896, 18.9730, 46.3538, 32.9260,  4.5739,\n",
       "         45.1224, 24.5703, 12.0293, 46.5426, 29.4318, 36.8549, 41.3948, 37.6784,\n",
       "         19.6677, 26.6671, 25.9442, 46.0592, 24.8432, 43.5695, 27.3948, 39.6603,\n",
       "         16.9744, 37.0440, 47.2805, 37.6486, 48.5093, 29.5965, 19.1192, 38.6177,\n",
       "         18.4205, 47.4994, 29.1465, 13.4957, 19.1688, 47.3800, 46.5302, 51.7717,\n",
       "         46.4459, 30.8124]], grad_fn=<SoftplusBackward0>)"
      ]
     },
     "execution_count": 339,
     "metadata": {},
     "output_type": "execute_result"
    }
   ],
   "source": [
    "model.covar_module.base_kernel.lengthscale"
   ]
  },
  {
   "cell_type": "code",
   "execution_count": null,
   "id": "101dc90e-340b-45e7-8ecf-66a05a3ca97d",
   "metadata": {},
   "outputs": [],
   "source": []
  },
  {
   "cell_type": "code",
   "execution_count": 340,
   "id": "d65cc6e1-a9d7-4ef0-b45d-ca9192215425",
   "metadata": {},
   "outputs": [
    {
     "data": {
      "text/plain": [
       "tensor([0.0024], grad_fn=<AddBackward0>)"
      ]
     },
     "execution_count": 340,
     "metadata": {},
     "output_type": "execute_result"
    }
   ],
   "source": [
    "likelihood.noise"
   ]
  },
  {
   "cell_type": "code",
   "execution_count": 341,
   "id": "b6c9e97a-1754-491b-acb9-86b55c78e69a",
   "metadata": {},
   "outputs": [
    {
     "data": {
      "text/plain": [
       "[<matplotlib.lines.Line2D at 0x1f7eab620>]"
      ]
     },
     "execution_count": 341,
     "metadata": {},
     "output_type": "execute_result"
    },
    {
     "data": {
      "image/png": "[encoded data removed]",
      "text/plain": [
       "<Figure size 640x480 with 1 Axes>"
      ]
     },
     "metadata": {},
     "output_type": "display_data"
    }
   ],
   "source": [
    "from matplotlib import pyplot as plt\n",
    "import numpy as np\n",
    "plt.plot(np.log(1.6+torch.tensor(train_loss)))"
   ]
  },
  {
   "cell_type": "code",
   "execution_count": 352,
   "id": "cd39a280-e8c5-48ae-849f-cf7e3883e026",
   "metadata": {
    "scrolled": true
   },
   "outputs": [
    {
     "name": "stdout",
     "output_type": "stream",
     "text": [
      "Predicting at test inputs\n"
     ]
    },
    {
     "data": {
      "application/vnd.jupyter.widget-view+json": {
       "model_id": "",
       "version_major": 2,
       "version_minor": 0
      },
      "text/plain": [
       "Minibatch:   0%|          | 0/2 [00:00<?, ?it/s]"
      ]
     },
     "metadata": {},
     "output_type": "display_data"
    }
   ],
   "source": [
    "#test_dataset = TensorDataset(X_train, train_indices)\n",
    "test_dataset = TensorDataset(X_test, test_indices)\n",
    "test_loader = DataLoader(test_dataset, batch_size=256)\n",
    "\n",
    "# Set into eval mode\n",
    "model.eval()\n",
    "likelihood.eval()\n",
    "yhat = []\n",
    "yvar = []\n",
    "print(\"Predicting at test inputs\")\n",
    "with torch.no_grad(), gpytorch.settings.cholesky_max_tries(12):\n",
    "    minibatch_iter = tqdm(test_loader,desc=\"Minibatch\", leave=False)\n",
    "    for x_batch, task_batch in minibatch_iter:\n",
    "        predictions = (model(x_batch, task_indices=task_batch))\n",
    "        mean = predictions.mean\n",
    "        var = predictions.covariance_matrix\n",
    "        yhat.append(mean)\n",
    "        yvar.append(var)\n",
    "        \n",
    "\n",
    "yhat_vector = torch.cat(yhat, 0)\n",
    "#yvar_vector = torch.cat(yvar,0)"
   ]
  },
  {
   "cell_type": "code",
   "execution_count": 365,
   "id": "0f1863fb-bb28-4306-9c80-26a78c439726",
   "metadata": {},
   "outputs": [
    {
     "data": {
      "text/plain": [
       "tensor([0, 0, 0, 0, 0, 0, 0, 0, 0, 0, 0, 0, 0, 0, 0, 0, 0, 0, 0, 0, 0, 0, 0, 0,\n",
       "        0, 0, 0, 0, 0, 0, 0, 0, 0, 0, 0, 0, 0, 0, 0, 0, 0, 0, 0, 0, 0, 0, 0, 0,\n",
       "        0, 0, 0, 0, 0, 0, 0, 0, 0, 0, 0, 0, 0, 0, 0, 0, 0, 0, 0, 0, 0, 0, 0, 0,\n",
       "        0, 0, 0, 0, 0, 0, 0, 0, 0, 0, 0, 0, 0, 0, 0, 0, 0, 0, 0, 0, 0, 0, 0, 0,\n",
       "        0, 0, 0, 0])"
      ]
     },
     "execution_count": 365,
     "metadata": {},
     "output_type": "execute_result"
    }
   ],
   "source": []
  },
  {
   "cell_type": "code",
   "execution_count": 366,
   "id": "64828405-e884-4ecc-b1c9-7a811ce2e810",
   "metadata": {},
   "outputs": [],
   "source": [
    "predictions = (model(X_train[0:100,:], task_indices=train_indices[0:100]))"
   ]
  },
  {
   "cell_type": "code",
   "execution_count": 368,
   "id": "59ac1cf7-adff-4ec2-8b44-d64ce59a9e46",
   "metadata": {},
   "outputs": [
    {
     "data": {
      "text/plain": [
       "<matplotlib.image.AxesImage at 0x1e1327a40>"
      ]
     },
     "execution_count": 368,
     "metadata": {},
     "output_type": "execute_result"
    },
    {
     "data": {
      "image/png": "[encoded data removed]",
      "text/plain": [
       "<Figure size 640x480 with 1 Axes>"
      ]
     },
     "metadata": {},
     "output_type": "display_data"
    }
   ],
   "source": [
    "plt.imshow(predictions.covariance_matrix.detach())"
   ]
  },
  {
   "cell_type": "code",
   "execution_count": 343,
   "id": "1421428d-f887-4c61-8c6c-9d8aa18ed15d",
   "metadata": {},
   "outputs": [
    {
     "data": {
      "text/plain": [
       "tensor([ 0.9764,  0.9785,  0.9678,  0.9508,  0.9320,  0.9122,  0.8816,  0.8426,\n",
       "         0.8117,  0.7815,  0.9894,  0.9826,  0.9667,  0.9481,  0.9311,  0.9150,\n",
       "         0.8862,  0.8472,  0.8167,  0.7834,  0.9909,  0.9812,  0.9636,  0.9451,\n",
       "         0.9299,  0.9148,  0.8819,  0.8343,  0.7958,  0.7564,  0.9849,  0.9743,\n",
       "         0.9553,  0.9370,  0.9244,  0.9108,  0.8732,  0.8154,  0.7666,  0.7217,\n",
       "         0.9816,  0.9705,  0.9490,  0.9304,  0.9205,  0.9090,  0.8700,  0.8084,\n",
       "         0.7559,  0.7098,  0.9789,  0.9707,  0.9489,  0.9297,  0.9199,  0.9074,\n",
       "         0.8687,  0.8114,  0.7646,  0.7214,  0.9366,  0.9333,  0.9147,  0.8960,\n",
       "         0.8841,  0.8697,  0.8358,  0.7911,  0.7564,  0.7182,  0.8276,  0.8258,\n",
       "         0.8114,  0.7951,  0.7842,  0.7746,  0.7545,  0.7282,  0.7063,  0.6736,\n",
       "         0.6896,  0.6835,  0.6710,  0.6578,  0.6527,  0.6556,  0.6539,  0.6438,\n",
       "         0.6301,  0.6040,  0.5799,  0.5642,  0.5485,  0.5367,  0.5385,  0.5533,\n",
       "         0.5643,  0.5623,  0.5533,  0.5384,  0.9812,  0.9948,  0.9756,  0.9688,\n",
       "         1.0121,  1.0174,  0.8166,  0.4230,  0.0985,  0.0537,  0.9890,  1.0041,\n",
       "         0.9807,  0.9655,  1.0114,  1.0304,  0.8287,  0.4110,  0.0674,  0.0292,\n",
       "         0.9876,  1.0082,  0.9860,  0.9638,  1.0047,  1.0273,  0.8295,  0.4109,\n",
       "         0.0687,  0.0372,  0.9836,  1.0073,  0.9878,  0.9646,  1.0025,  1.0228,\n",
       "         0.8243,  0.4064,  0.0668,  0.0366,  0.9813,  1.0026,  0.9831,  0.9619,\n",
       "         0.9998,  1.0153,  0.8111,  0.3923,  0.0546,  0.0241,  0.9767,  0.9952,\n",
       "         0.9734,  0.9515,  0.9851,  0.9914,  0.7830,  0.3732,  0.0490,  0.0230,\n",
       "         0.9398,  0.9572,  0.9344,  0.9103,  0.9363,  0.9340,  0.7330,  0.3515,\n",
       "         0.0556,  0.0368,  0.8484,  0.8632,  0.8426,  0.8215,  0.8459,  0.8451,\n",
       "         0.6664,  0.3261,  0.0615,  0.0445,  0.7256,  0.7342,  0.7178,  0.7055,\n",
       "         0.7354,  0.7427,  0.5914,  0.2929,  0.0544,  0.0340,  0.6133,  0.6119,\n",
       "         0.5982,  0.5943,  0.6269,  0.6368,  0.5086,  0.2520,  0.0437,  0.0253,\n",
       "         0.9969,  1.0101,  1.0132,  0.9876,  0.9177,  0.7809,  0.5571,  0.3117,\n",
       "         0.1826,  0.2190,  0.9952,  1.0049,  1.0132,  0.9899,  0.9146,  0.7696,\n",
       "         0.5372,  0.2860,  0.1567,  0.1909,  0.9952,  1.0065,  1.0199,  0.9969,\n",
       "         0.9165,  0.7684,  0.5383,  0.2920,  0.1628,  0.1838,  0.9930,  1.0047,\n",
       "         1.0190,  0.9947,  0.9129,  0.7664,  0.5410,  0.2988,  0.1666,  0.1744,\n",
       "         0.9870,  0.9958,  1.0067,  0.9826,  0.9048,  0.7619,  0.5371,  0.2937,\n",
       "         0.1591,  0.1627,  0.9875,  0.9946,  1.0016,  0.9786,  0.9063,  0.7642,\n",
       "         0.5340,  0.2869,  0.1544,  0.1623,  0.9865,  0.9960,  0.9993,  0.9764,\n",
       "         0.9080,  0.7655,  0.5315,  0.2854,  0.1591,  0.1728,  0.9708,  0.9854,\n",
       "         0.9853,  0.9608,  0.8963,  0.7587,  0.5302,  0.2909,  0.1686,  0.1821,\n",
       "         0.9405,  0.9605,  0.9574,  0.9305,  0.8711,  0.7452,  0.5309,  0.3006,\n",
       "         0.1763,  0.1847,  0.8861,  0.9047,  0.8971,  0.8685,  0.8161,  0.7071,\n",
       "         0.5155,  0.3018,  0.1796,  0.1863,  0.9990,  1.0000,  0.9924,  0.9691,\n",
       "         0.9110,  0.7874,  0.5798,  0.3535,  0.2305,  0.2496,  1.0104,  1.0167,\n",
       "         1.0173,  0.9951,  0.9306,  0.7998,  0.5854,  0.3534,  0.2285,  0.2441,\n",
       "         0.9912,  0.9965,  0.9997,  0.9779,  0.9112,  0.7796,  0.5679,  0.3410,\n",
       "         0.2201,  0.2324,  0.9847,  0.9793,  0.9734,  0.9478,  0.8814,  0.7502,\n",
       "         0.5383,  0.3132,  0.1949,  0.2057,  1.0399,  1.0330,  1.0195,  0.9912,\n",
       "         0.9267,  0.7934,  0.5738,  0.3409,  0.2139,  0.2110,  1.0702,  1.0787,\n",
       "         1.0722,  1.0485,  0.9886,  0.8567,  0.6379,  0.4067,  0.2715,  0.2429,\n",
       "         0.8772,  0.8910,  0.8974,  0.8854,  0.8369,  0.7260,  0.5461,  0.3599,\n",
       "         0.2472,  0.2084,  0.4503,  0.4435,  0.4566,  0.4573,  0.4270,  0.3587,\n",
       "         0.2558,  0.1557,  0.0980,  0.0765,  0.0766,  0.0509,  0.0680,  0.0761,\n",
       "         0.0589,  0.0294, -0.0028, -0.0286, -0.0406, -0.0420,  0.0085, -0.0088,\n",
       "         0.0143,  0.0213,  0.0026, -0.0161, -0.0241, -0.0287, -0.0347, -0.0349,\n",
       "         0.9556,  0.9581,  0.9602,  0.9536,  0.9392,  0.9271,  0.9081,  0.8773,\n",
       "         0.8511,  0.8241,  0.9651,  0.9626,  0.9673,  0.9627,  0.9465,  0.9336,\n",
       "         0.9159,  0.8860,  0.8591,  0.8266,  0.9674,  0.9634,  0.9716,  0.9703,\n",
       "         0.9536,  0.9371,  0.9135,  0.8754,  0.8393,  0.7981,  0.9565,  0.9458,\n",
       "         0.9505,  0.9508,  0.9376,  0.9217,  0.8937,  0.8490,  0.8080,  0.7652,\n",
       "         0.9547,  0.9362,  0.9322,  0.9313,  0.9236,  0.9110,  0.8809,  0.8350,\n",
       "         0.7976,  0.7608,  0.9705,  0.9559,  0.9492,  0.9473,  0.9414,  0.9262,\n",
       "         0.8893,  0.8406,  0.8065,  0.7734,  0.9335,  0.9319,  0.9326,  0.9336,\n",
       "         0.9264,  0.9050,  0.8619,  0.8118,  0.7778,  0.7425,  0.7754,  0.7805,\n",
       "         0.7918,  0.7993,  0.7950,  0.7783,  0.7468,  0.7100,  0.6802,  0.6427,\n",
       "         0.5466,  0.5448,  0.5599,  0.5728,  0.5780,  0.5827,  0.5839,  0.5761,\n",
       "         0.5585,  0.5246,  0.3652,  0.3474,  0.3548,  0.3664,  0.3817,  0.4116,\n",
       "         0.4475,  0.4693,  0.4679,  0.4456])"
      ]
     },
     "execution_count": 343,
     "metadata": {},
     "output_type": "execute_result"
    }
   ],
   "source": [
    "yhat_vector"
   ]
  },
  {
   "cell_type": "code",
   "execution_count": 344,
   "id": "65e6b5a1-0ada-4927-8ba3-b373d7090179",
   "metadata": {},
   "outputs": [
    {
     "data": {
      "text/plain": [
       "Parameter containing:\n",
       "tensor([[0.4084]], requires_grad=True)"
      ]
     },
     "execution_count": 344,
     "metadata": {},
     "output_type": "execute_result"
    }
   ],
   "source": [
    "model.variational_strategy.lmc_coefficients"
   ]
  },
  {
   "cell_type": "code",
   "execution_count": 345,
   "id": "ba9952cd-a992-4a06-abb9-ab3568400020",
   "metadata": {},
   "outputs": [
    {
     "ename": "RuntimeError",
     "evalue": "The size of tensor a (2000) must match the size of tensor b (500) at non-singleton dimension 0",
     "output_type": "error",
     "traceback": [
      "\u001b[0;31m---------------------------------------------------------------------------\u001b[0m",
      "\u001b[0;31mRuntimeError\u001b[0m                              Traceback (most recent call last)",
      "Cell \u001b[0;32mIn[345], line 1\u001b[0m\n\u001b[0;32m----> 1\u001b[0m \u001b[38;5;28mprint\u001b[39m(\u001b[38;5;124m\"\u001b[39m\u001b[38;5;124mour error: \u001b[39m\u001b[38;5;124m\"\u001b[39m,(y_train \u001b[38;5;241m-\u001b[39m yhat_vector)\u001b[38;5;241m.\u001b[39msquare()\u001b[38;5;241m.\u001b[39mmean()\u001b[38;5;241m.\u001b[39msqrt())\n\u001b[1;32m      2\u001b[0m \u001b[38;5;28mprint\u001b[39m(\u001b[38;5;124m\"\u001b[39m\u001b[38;5;124mbaseline error: \u001b[39m\u001b[38;5;124m\"\u001b[39m,(y_train\u001b[38;5;241m-\u001b[39mtorch\u001b[38;5;241m.\u001b[39mtensor(train[\u001b[38;5;124m\"\u001b[39m\u001b[38;5;124mp0Mean\u001b[39m\u001b[38;5;124m\"\u001b[39m]\u001b[38;5;241m.\u001b[39mvalues))\u001b[38;5;241m.\u001b[39msquare()\u001b[38;5;241m.\u001b[39mmean()\u001b[38;5;241m.\u001b[39msqrt())\n",
      "\u001b[0;31mRuntimeError\u001b[0m: The size of tensor a (2000) must match the size of tensor b (500) at non-singleton dimension 0"
     ]
    }
   ],
   "source": [
    "print(\"our error: \",(y_train - yhat_vector).square().mean().sqrt())\n",
    "print(\"baseline error: \",(y_train-torch.tensor(train[\"p0Mean\"].values)).square().mean().sqrt())"
   ]
  },
  {
   "cell_type": "code",
   "execution_count": 346,
   "id": "92aa1f14-d5d6-4450-b307-07177309c5b4",
   "metadata": {},
   "outputs": [
    {
     "name": "stdout",
     "output_type": "stream",
     "text": [
      "our error:  tensor(0.0799)\n",
      "baseline error:  tensor(0.0447, dtype=torch.float64)\n"
     ]
    }
   ],
   "source": [
    "print(\"our error: \",(y_test - yhat_vector).square().mean().sqrt())\n",
    "print(\"baseline error: \",(y_test-torch.tensor(test[\"p0Mean\"].values)).square().mean().sqrt())"
   ]
  },
  {
   "cell_type": "code",
   "execution_count": 347,
   "id": "03fd4277-8322-41dd-a152-ca749f80cd6c",
   "metadata": {},
   "outputs": [
    {
     "name": "stdout",
     "output_type": "stream",
     "text": [
      "our error:  tensor(0.0662, dtype=torch.float64)\n",
      "baseline error:  tensor(0.0434, dtype=torch.float64)\n"
     ]
    },
    {
     "data": {
      "text/plain": [
       "Text(0.5, 1.0, 'Our Prediction')"
      ]
     },
     "execution_count": 347,
     "metadata": {},
     "output_type": "execute_result"
    },
    {
     "data": {
      "image/png": "[encoded data removed]",
      "text/plain": [
       "<Figure size 1500x500 with 4 Axes>"
      ]
     },
     "metadata": {},
     "output_type": "display_data"
    }
   ],
   "source": [
    "start = 300\n",
    "end = start + 100\n",
    "\n",
    "fhat = yhat_vector[start:end].reshape(10,10)\n",
    "var = yvar_vector[start:end].reshape(10,10)\n",
    "f = torch.tensor(test.iloc[start:end,7].values).reshape(10,10)\n",
    "p0 = torch.tensor(test.iloc[start:end,9].values).reshape(10,10)\n",
    "print(\"our error: \",(fhat-f).square().mean().sqrt())\n",
    "print(\"baseline error: \",(p0-f).square().mean().sqrt())\n",
    "\n",
    "# Compute shared vmin/vmax\n",
    "vmin = torch.min(torch.stack([f.min(), p0.min(), fhat.min()])).item()\n",
    "vmax = torch.max(torch.stack([f.max(), p0.max(), fhat.max()])).item()\n",
    "\n",
    "\n",
    "\n",
    "fig, axes = plt.subplots(nrows=1, ncols=3,figsize=(15, 5))\n",
    "im = axes[0].contourf(f, vmin=vmin, vmax=vmax)\n",
    "axes[0].contourf(f)\n",
    "axes[1].contourf(p0, vmin=vmin, vmax=vmax)\n",
    "axes[2].contourf(fhat, vmin=vmin, vmax=vmax)\n",
    "fig.subplots_adjust(right=0.8)\n",
    "cbar_ax = fig.add_axes([0.85, 0.15, 0.05, 0.7])\n",
    "fig.colorbar(im,cax=cbar_ax)\n",
    "\n",
    "axes[0].set_title(\"True values\")\n",
    "axes[1].set_title(\"Baseline\")\n",
    "axes[2].set_title(\"Our Prediction\")"
   ]
  },
  {
   "cell_type": "code",
   "execution_count": 209,
   "id": "e7535e0d-e8e5-45c3-b2da-cfd6e1702889",
   "metadata": {},
   "outputs": [
    {
     "data": {
      "text/plain": [
       "Text(0.5, 1.0, 'True values')"
      ]
     },
     "execution_count": 209,
     "metadata": {},
     "output_type": "execute_result"
    },
    {
     "data": {
      "image/png": "[encoded data removed]",
      "text/plain": [
       "<Figure size 1500x500 with 2 Axes>"
      ]
     },
     "metadata": {},
     "output_type": "display_data"
    }
   ],
   "source": [
    "fig, axes = plt.subplots(nrows=1, ncols=1,figsize=(15, 5))\n",
    "axes.contourf(f)\n",
    "#axes[1].contourf(p0)\n",
    "#axes[2].contourf(fhat)\n",
    "im = axes.contourf(f)\n",
    "fig.subplots_adjust(right=0.8)\n",
    "cbar_ax = fig.add_axes([0.85, 0.15, 0.05, 0.7])\n",
    "fig.colorbar(im,cax=cbar_ax)\n",
    "\n",
    "axes.set_title(\"True values\")\n",
    "#axes[1].set_title(\"Baseline\")\n",
    "#axes[2].set_title(\"Our Prediction\")"
   ]
  },
  {
   "cell_type": "code",
   "execution_count": 210,
   "id": "b0f93c91-a63a-461d-b28d-ae69b6e59e49",
   "metadata": {},
   "outputs": [
    {
     "data": {
      "text/plain": [
       "Text(0.5, 1.0, 'Baseline')"
      ]
     },
     "execution_count": 210,
     "metadata": {},
     "output_type": "execute_result"
    },
    {
     "data": {
      "image/png": "[encoded data removed]",
      "text/plain": [
       "<Figure size 1500x500 with 2 Axes>"
      ]
     },
     "metadata": {},
     "output_type": "display_data"
    }
   ],
   "source": [
    "fig, axes = plt.subplots(nrows=1, ncols=1,figsize=(15, 5))\n",
    "#axes.contourf(f)\n",
    "axes.contourf(p0)\n",
    "#axes[2].contourf(fhat)\n",
    "im = axes.contourf(p0)\n",
    "fig.subplots_adjust(right=0.8)\n",
    "cbar_ax = fig.add_axes([0.85, 0.15, 0.05, 0.7])\n",
    "fig.colorbar(im,cax=cbar_ax)\n",
    "\n",
    "#axes.set_title(\"True values\")\n",
    "axes.set_title(\"Baseline\")\n",
    "#axes[2].set_title(\"Our Prediction\")"
   ]
  },
  {
   "cell_type": "code",
   "execution_count": 211,
   "id": "fc565a54-5f8d-4df5-8825-04ccac7d6196",
   "metadata": {},
   "outputs": [
    {
     "data": {
      "text/plain": [
       "Text(0.5, 1.0, 'Our Prediction')"
      ]
     },
     "execution_count": 211,
     "metadata": {},
     "output_type": "execute_result"
    },
    {
     "data": {
      "image/png": "[encoded data removed]",
      "text/plain": [
       "<Figure size 1500x500 with 2 Axes>"
      ]
     },
     "metadata": {},
     "output_type": "display_data"
    }
   ],
   "source": [
    "fig, axes = plt.subplots(nrows=1, ncols=1,figsize=(15, 5))\n",
    "#axes.contourf(f)\n",
    "#axes.contourf(p0)\n",
    "axes.contourf(fhat)\n",
    "im = axes.contourf(fhat)\n",
    "fig.subplots_adjust(right=0.8)\n",
    "cbar_ax = fig.add_axes([0.85, 0.15, 0.05, 0.7])\n",
    "fig.colorbar(im,cax=cbar_ax)\n",
    "\n",
    "#axes.set_title(\"True values\")\n",
    "#axes.set_title(\"Baseline\")\n",
    "axes.set_title(\"Our Prediction\")"
   ]
  },
  {
   "cell_type": "code",
   "execution_count": 198,
   "id": "864f5606-7014-414a-9f3e-48a0cd9e010c",
   "metadata": {},
   "outputs": [
    {
     "data": {
      "text/plain": [
       "tensor([[0.9319, 0.9460, 0.9241, 0.9183, 0.9401, 0.9075, 0.7196, 0.4077, 0.1511,\n",
       "         0.1032],\n",
       "        [0.9452, 0.9581, 0.9277, 0.9158, 0.9437, 0.9209, 0.7280, 0.3958, 0.1272,\n",
       "         0.0931],\n",
       "        [0.9354, 0.9532, 0.9227, 0.9095, 0.9404, 0.9216, 0.7258, 0.3859, 0.1179,\n",
       "         0.0980],\n",
       "        [0.9212, 0.9461, 0.9212, 0.9112, 0.9430, 0.9206, 0.7168, 0.3713, 0.1067,\n",
       "         0.0968],\n",
       "        [0.9136, 0.9439, 0.9250, 0.9199, 0.9514, 0.9213, 0.7072, 0.3575, 0.0966,\n",
       "         0.0913],\n",
       "        [0.9042, 0.9371, 0.9213, 0.9180, 0.9471, 0.9108, 0.6936, 0.3495, 0.0973,\n",
       "         0.0930],\n",
       "        [0.8657, 0.8980, 0.8815, 0.8751, 0.8996, 0.8637, 0.6602, 0.3403, 0.1067,\n",
       "         0.1019],\n",
       "        [0.7794, 0.8063, 0.7865, 0.7749, 0.7956, 0.7695, 0.5977, 0.3203, 0.1143,\n",
       "         0.1075],\n",
       "        [0.6615, 0.6785, 0.6559, 0.6418, 0.6614, 0.6498, 0.5177, 0.2908, 0.1156,\n",
       "         0.1049],\n",
       "        [0.5511, 0.5572, 0.5353, 0.5232, 0.5424, 0.5408, 0.4427, 0.2631, 0.1181,\n",
       "         0.1041]])"
      ]
     },
     "execution_count": 198,
     "metadata": {},
     "output_type": "execute_result"
    }
   ],
   "source": [
    "fhat"
   ]
  },
  {
   "cell_type": "code",
   "execution_count": null,
   "id": "ff768b45-ed1b-45d8-8493-263144a8a5ad",
   "metadata": {},
   "outputs": [],
   "source": []
  },
  {
   "cell_type": "code",
   "execution_count": 229,
   "id": "18345632-78e0-4420-af3d-618596f8ebf3",
   "metadata": {},
   "outputs": [
    {
     "data": {
      "text/plain": [
       "tensor([[1.0000, 1.0000, 1.0000, 0.9998, 0.9982, 0.9799, 0.7896, 0.2170, 0.0456,\n",
       "         0.0301],\n",
       "        [0.9999, 0.9999, 0.9999, 0.9998, 0.9982, 0.9799, 0.7896, 0.2170, 0.0456,\n",
       "         0.0301],\n",
       "        [0.9998, 0.9998, 0.9998, 0.9997, 0.9981, 0.9798, 0.7895, 0.2170, 0.0456,\n",
       "         0.0301],\n",
       "        [0.9994, 0.9994, 0.9994, 0.9993, 0.9977, 0.9794, 0.7892, 0.2169, 0.0456,\n",
       "         0.0300],\n",
       "        [0.9983, 0.9983, 0.9983, 0.9981, 0.9965, 0.9783, 0.7883, 0.2167, 0.0455,\n",
       "         0.0300],\n",
       "        [0.9944, 0.9944, 0.9944, 0.9943, 0.9927, 0.9745, 0.7852, 0.2158, 0.0453,\n",
       "         0.0299],\n",
       "        [0.9812, 0.9812, 0.9812, 0.9811, 0.9795, 0.9616, 0.7748, 0.2130, 0.0447,\n",
       "         0.0295],\n",
       "        [0.9356, 0.9356, 0.9356, 0.9355, 0.9340, 0.9169, 0.7388, 0.2031, 0.0427,\n",
       "         0.0281],\n",
       "        [0.8028, 0.8028, 0.8028, 0.8027, 0.8014, 0.7868, 0.6340, 0.1743, 0.0366,\n",
       "         0.0241],\n",
       "        [0.6052, 0.6052, 0.6052, 0.6051, 0.6041, 0.5931, 0.4779, 0.1314, 0.0276,\n",
       "         0.0182]], dtype=torch.float64)"
      ]
     },
     "execution_count": 229,
     "metadata": {},
     "output_type": "execute_result"
    }
   ],
   "source": [
    "p0"
   ]
  },
  {
   "cell_type": "code",
   "execution_count": 217,
   "id": "e67b829e-de19-44ca-ae85-c1be7df50162",
   "metadata": {},
   "outputs": [
    {
     "data": {
      "text/plain": [
       "tensor([[0.0128, 0.0061, 0.0066, 0.0039, 0.0057, 0.0113, 0.0154, 0.0142, 0.0064,\n",
       "         0.0079],\n",
       "        [0.0079, 0.0073, 0.0083, 0.0072, 0.0077, 0.0076, 0.0054, 0.0018, 0.0024,\n",
       "         0.0081],\n",
       "        [0.0210, 0.0178, 0.0248, 0.0301, 0.0319, 0.0328, 0.0324, 0.0290, 0.0230,\n",
       "         0.0172],\n",
       "        [0.0004, 0.0009, 0.0122, 0.0198, 0.0210, 0.0177, 0.0109, 0.0008, 0.0088,\n",
       "         0.0130],\n",
       "        [0.0405, 0.0492, 0.0448, 0.0423, 0.0456, 0.0528, 0.0614, 0.0678, 0.0662,\n",
       "         0.0520],\n",
       "        [0.0042, 0.0271, 0.0362, 0.0433, 0.0511, 0.0568, 0.0573, 0.0493, 0.0287,\n",
       "         0.0056],\n",
       "        [0.1898, 0.1673, 0.1520, 0.1392, 0.1316, 0.1335, 0.1452, 0.1660, 0.1942,\n",
       "         0.2263],\n",
       "        [0.0295, 0.0430, 0.0287, 0.0260, 0.0222, 0.0281, 0.0148, 0.0764, 0.0778,\n",
       "         0.1132],\n",
       "        [0.1015, 0.0863, 0.0910, 0.1020, 0.1038, 0.0900, 0.0676, 0.0488, 0.0441,\n",
       "         0.0583],\n",
       "        [0.0653, 0.0810, 0.0713, 0.0560, 0.0523, 0.0633, 0.0783, 0.0835, 0.0706,\n",
       "         0.0370]], dtype=torch.float64)"
      ]
     },
     "execution_count": 217,
     "metadata": {},
     "output_type": "execute_result"
    }
   ],
   "source": [
    "(fhat-f).abs()"
   ]
  },
  {
   "cell_type": "code",
   "execution_count": 29,
   "id": "0a901632-569a-4394-a664-f5344691f8ae",
   "metadata": {},
   "outputs": [
    {
     "data": {
      "text/plain": [
       "Text(0.5, 1.0, 'Predictive variance')"
      ]
     },
     "execution_count": 29,
     "metadata": {},
     "output_type": "execute_result"
    },
    {
     "data": {
      "image/png": "[encoded data removed]",
      "text/plain": [
       "<Figure size 640x480 with 2 Axes>"
      ]
     },
     "metadata": {},
     "output_type": "display_data"
    }
   ],
   "source": [
    "plt.contourf(var)\n",
    "plt.colorbar()\n",
    "plt.title(\"Predictive variance\")"
   ]
  },
  {
   "cell_type": "code",
   "execution_count": null,
   "id": "19a29981-503f-464d-88eb-495d36de271f",
   "metadata": {},
   "outputs": [],
   "source": []
  },
  {
   "cell_type": "code",
   "execution_count": null,
   "id": "6dd911f3-5a7b-4e42-9f07-4a89e18ed024",
   "metadata": {},
   "outputs": [],
   "source": []
  },
  {
   "cell_type": "code",
   "execution_count": null,
   "id": "c7055ff9-490f-4b20-98df-1385ae9fdb19",
   "metadata": {},
   "outputs": [],
   "source": []
  },
  {
   "cell_type": "code",
   "execution_count": null,
   "id": "65ac7cac-f438-47db-abe2-48304d074a67",
   "metadata": {},
   "outputs": [],
   "source": []
  },
  {
   "cell_type": "code",
   "execution_count": null,
   "id": "741c0a2d-d438-40aa-8281-26a9c5ce757c",
   "metadata": {},
   "outputs": [],
   "source": []
  },
  {
   "cell_type": "code",
   "execution_count": null,
   "id": "b2836148-3a51-4706-8f82-0f9a331a5d1d",
   "metadata": {},
   "outputs": [],
   "source": []
  },
  {
   "cell_type": "code",
   "execution_count": null,
   "id": "ac865574-38e7-4752-ab25-9651c63ab868",
   "metadata": {},
   "outputs": [],
   "source": []
  }
 ],
 "metadata": {
  "kernelspec": {
   "display_name": "Python 3 (ipykernel)",
   "language": "python",
   "name": "python3"
  },
  "language_info": {
   "codemirror_mode": {
    "name": "ipython",
    "version": 3
   },
   "file_extension": ".py",
   "mimetype": "text/x-python",
   "name": "python",
   "nbconvert_exporter": "python",
   "pygments_lexer": "ipython3",
   "version": "3.12.3"
  }
 },
 "nbformat": 4,
 "nbformat_minor": 5
}
