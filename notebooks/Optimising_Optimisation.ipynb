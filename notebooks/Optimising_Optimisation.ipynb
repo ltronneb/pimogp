{
 "cells": [
  {
   "cell_type": "markdown",
   "id": "d45a9ac4-a441-46a8-9570-6f1c82d72c6e",
   "metadata": {},
   "source": [
    "# Optimising the Optimisation\n",
    "In this notebook, I look at how many inducing points, latent functions and LMC components I need to train the prediction model to beat a simple baseline.\n",
    "\n",
    "I'll look at the ONeil dataset, in the LTO setting, using processed viability to predict the missing triplets. For comparison we use the simple Bliss non-interaction assumption.\n",
    "\n",
    "Focussing on a single cell line, and a subset of the drugs, I can quickly get a sense of how many latent functions I need and how many inducing points they need."
   ]
  },
  {
   "cell_type": "code",
   "execution_count": 1,
   "id": "0243a31b-7ad5-4807-aeb5-953632d6d827",
   "metadata": {},
   "outputs": [],
   "source": [
    "import torch\n",
    "import gpytorch\n",
    "import pimogp\n",
    "from pimogp.utils.utils import train_test_split_drugdata, prepdata\n",
    "from pimogp.utils.runModel import runmodel"
   ]
  },
  {
   "cell_type": "code",
   "execution_count": 87,
   "id": "855dec35-de1c-4b93-b9bd-55a33cbfeb0e",
   "metadata": {},
   "outputs": [],
   "source": [
    "# Set some parameters\n",
    "input_type = \"processed\"\n",
    "targets = \"fMean\"\n",
    "predtarget = \"viability\"\n",
    "dataset = \"ONeil\"\n",
    "seed = 12\n",
    "setting = \"LTO\"\n",
    "data, train, test, ids = train_test_split_drugdata(input_type=input_type,dataset=dataset,setting=setting,seed=seed)"
   ]
  },
  {
   "cell_type": "code",
   "execution_count": 88,
   "id": "fce5724a-0294-4d59-a889-ea5b742b1b01",
   "metadata": {},
   "outputs": [],
   "source": [
    "# Just subset the data here to see if the number of inducing points were the issue\n",
    "drugList = data[\"drugA\"].unique()[0:8]"
   ]
  },
  {
   "cell_type": "code",
   "execution_count": 89,
   "id": "8e0d162b-a113-4a47-bbef-cfdd32fc9173",
   "metadata": {},
   "outputs": [
    {
     "data": {
      "text/plain": [
       "array(['5-FU', 'ABT-888', 'AZD1775', 'BEZ-235', 'Bortezomib',\n",
       "       'Carboplatin', 'Cyclophosphamide', 'Dasatinib'], dtype=object)"
      ]
     },
     "execution_count": 89,
     "metadata": {},
     "output_type": "execute_result"
    }
   ],
   "source": [
    "drugList"
   ]
  },
  {
   "cell_type": "code",
   "execution_count": 90,
   "id": "47743739-898b-4396-b38a-83770b39e90d",
   "metadata": {},
   "outputs": [],
   "source": [
    "train = train[train['drugA'].isin(drugList)]\n",
    "train = train[train['drugB'].isin(drugList)]\n",
    "test = test[test['drugA'].isin(drugList)]\n",
    "test = test[test['drugB'].isin(drugList)]"
   ]
  },
  {
   "cell_type": "code",
   "execution_count": 91,
   "id": "e88b1aa0-ee29-4e9a-8869-a35ec9d9d0ee",
   "metadata": {},
   "outputs": [
    {
     "data": {
      "text/plain": [
       "array(['A2058', 'A2780', 'A375', 'A427', 'CAOV3', 'COLO320DM', 'DLD1',\n",
       "       'EFM192B', 'ES2', 'HCT116', 'HT144', 'HT29', 'KPL1', 'LNCAP',\n",
       "       'LOVO', 'MDAMB436', 'MSTO', 'NCIH1650', 'NCIH2122', 'NCIH23',\n",
       "       'NCIH460', 'NCIH520', 'OCUBM', 'OV90', 'OVCAR3', 'PA1', 'RKO',\n",
       "       'RPMI7951', 'SKMEL30', 'SKMES1', 'SKOV3', 'SW620', 'SW837', 'T47D',\n",
       "       'UACC62', 'UWB1289', 'UWB1289BRCA1', 'VCAP', 'ZR751'], dtype=object)"
      ]
     },
     "execution_count": 91,
     "metadata": {},
     "output_type": "execute_result"
    }
   ],
   "source": [
    "train['cell_line'].unique()"
   ]
  },
  {
   "cell_type": "code",
   "execution_count": null,
   "id": "bd25957a-d688-4e72-a6ef-f510fca011a8",
   "metadata": {},
   "outputs": [],
   "source": []
  },
  {
   "cell_type": "code",
   "execution_count": 92,
   "id": "c314a039-510f-4ce8-9892-c0a75722b927",
   "metadata": {},
   "outputs": [
    {
     "data": {
      "text/html": [
       "<div>\n",
       "<style scoped>\n",
       "    .dataframe tbody tr th:only-of-type {\n",
       "        vertical-align: middle;\n",
       "    }\n",
       "\n",
       "    .dataframe tbody tr th {\n",
       "        vertical-align: top;\n",
       "    }\n",
       "\n",
       "    .dataframe thead th {\n",
       "        text-align: right;\n",
       "    }\n",
       "</style>\n",
       "<table border=\"1\" class=\"dataframe\">\n",
       "  <thead>\n",
       "    <tr style=\"text-align: right;\">\n",
       "      <th></th>\n",
       "      <th>cell_line</th>\n",
       "      <th>drugA</th>\n",
       "      <th>drugB</th>\n",
       "      <th>drugA_conc</th>\n",
       "      <th>drugB_conc</th>\n",
       "      <th>GPMean</th>\n",
       "      <th>GPVar</th>\n",
       "      <th>fMean</th>\n",
       "      <th>fVar</th>\n",
       "      <th>p0Mean</th>\n",
       "      <th>...</th>\n",
       "      <th>Blatent_247</th>\n",
       "      <th>Blatent_248</th>\n",
       "      <th>Blatent_249</th>\n",
       "      <th>Blatent_250</th>\n",
       "      <th>Blatent_251</th>\n",
       "      <th>Blatent_252</th>\n",
       "      <th>Blatent_253</th>\n",
       "      <th>Blatent_254</th>\n",
       "      <th>Blatent_255</th>\n",
       "      <th>task_index</th>\n",
       "    </tr>\n",
       "  </thead>\n",
       "  <tbody>\n",
       "    <tr>\n",
       "      <th>100</th>\n",
       "      <td>A2058</td>\n",
       "      <td>5-FU</td>\n",
       "      <td>AZD1775</td>\n",
       "      <td>0.0</td>\n",
       "      <td>0.000000</td>\n",
       "      <td>-0.013604</td>\n",
       "      <td>1.045780</td>\n",
       "      <td>0.999671</td>\n",
       "      <td>0.000001</td>\n",
       "      <td>0.999978</td>\n",
       "      <td>...</td>\n",
       "      <td>-0.171792</td>\n",
       "      <td>-0.051740</td>\n",
       "      <td>-2.050742</td>\n",
       "      <td>-0.289099</td>\n",
       "      <td>0.343276</td>\n",
       "      <td>-0.289370</td>\n",
       "      <td>-0.034100</td>\n",
       "      <td>-2.101314</td>\n",
       "      <td>0.116015</td>\n",
       "      <td>0</td>\n",
       "    </tr>\n",
       "    <tr>\n",
       "      <th>101</th>\n",
       "      <td>A2058</td>\n",
       "      <td>5-FU</td>\n",
       "      <td>AZD1775</td>\n",
       "      <td>0.0</td>\n",
       "      <td>0.111111</td>\n",
       "      <td>-0.019983</td>\n",
       "      <td>1.011360</td>\n",
       "      <td>0.999656</td>\n",
       "      <td>0.000004</td>\n",
       "      <td>0.999977</td>\n",
       "      <td>...</td>\n",
       "      <td>-0.171792</td>\n",
       "      <td>-0.051740</td>\n",
       "      <td>-2.050742</td>\n",
       "      <td>-0.289099</td>\n",
       "      <td>0.343276</td>\n",
       "      <td>-0.289370</td>\n",
       "      <td>-0.034100</td>\n",
       "      <td>-2.101314</td>\n",
       "      <td>0.116015</td>\n",
       "      <td>0</td>\n",
       "    </tr>\n",
       "    <tr>\n",
       "      <th>102</th>\n",
       "      <td>A2058</td>\n",
       "      <td>5-FU</td>\n",
       "      <td>AZD1775</td>\n",
       "      <td>0.0</td>\n",
       "      <td>0.222222</td>\n",
       "      <td>-0.035324</td>\n",
       "      <td>0.974131</td>\n",
       "      <td>0.999599</td>\n",
       "      <td>0.000016</td>\n",
       "      <td>0.999961</td>\n",
       "      <td>...</td>\n",
       "      <td>-0.171792</td>\n",
       "      <td>-0.051740</td>\n",
       "      <td>-2.050742</td>\n",
       "      <td>-0.289099</td>\n",
       "      <td>0.343276</td>\n",
       "      <td>-0.289370</td>\n",
       "      <td>-0.034100</td>\n",
       "      <td>-2.101314</td>\n",
       "      <td>0.116015</td>\n",
       "      <td>0</td>\n",
       "    </tr>\n",
       "    <tr>\n",
       "      <th>103</th>\n",
       "      <td>A2058</td>\n",
       "      <td>5-FU</td>\n",
       "      <td>AZD1775</td>\n",
       "      <td>0.0</td>\n",
       "      <td>0.333333</td>\n",
       "      <td>-0.055318</td>\n",
       "      <td>0.939041</td>\n",
       "      <td>0.999442</td>\n",
       "      <td>0.000015</td>\n",
       "      <td>0.999812</td>\n",
       "      <td>...</td>\n",
       "      <td>-0.171792</td>\n",
       "      <td>-0.051740</td>\n",
       "      <td>-2.050742</td>\n",
       "      <td>-0.289099</td>\n",
       "      <td>0.343276</td>\n",
       "      <td>-0.289370</td>\n",
       "      <td>-0.034100</td>\n",
       "      <td>-2.101314</td>\n",
       "      <td>0.116015</td>\n",
       "      <td>0</td>\n",
       "    </tr>\n",
       "    <tr>\n",
       "      <th>104</th>\n",
       "      <td>A2058</td>\n",
       "      <td>5-FU</td>\n",
       "      <td>AZD1775</td>\n",
       "      <td>0.0</td>\n",
       "      <td>0.444444</td>\n",
       "      <td>-0.069008</td>\n",
       "      <td>0.890884</td>\n",
       "      <td>0.997371</td>\n",
       "      <td>0.000023</td>\n",
       "      <td>0.998224</td>\n",
       "      <td>...</td>\n",
       "      <td>-0.171792</td>\n",
       "      <td>-0.051740</td>\n",
       "      <td>-2.050742</td>\n",
       "      <td>-0.289099</td>\n",
       "      <td>0.343276</td>\n",
       "      <td>-0.289370</td>\n",
       "      <td>-0.034100</td>\n",
       "      <td>-2.101314</td>\n",
       "      <td>0.116015</td>\n",
       "      <td>0</td>\n",
       "    </tr>\n",
       "    <tr>\n",
       "      <th>...</th>\n",
       "      <td>...</td>\n",
       "      <td>...</td>\n",
       "      <td>...</td>\n",
       "      <td>...</td>\n",
       "      <td>...</td>\n",
       "      <td>...</td>\n",
       "      <td>...</td>\n",
       "      <td>...</td>\n",
       "      <td>...</td>\n",
       "      <td>...</td>\n",
       "      <td>...</td>\n",
       "      <td>...</td>\n",
       "      <td>...</td>\n",
       "      <td>...</td>\n",
       "      <td>...</td>\n",
       "      <td>...</td>\n",
       "      <td>...</td>\n",
       "      <td>...</td>\n",
       "      <td>...</td>\n",
       "      <td>...</td>\n",
       "      <td>...</td>\n",
       "    </tr>\n",
       "    <tr>\n",
       "      <th>1845295</th>\n",
       "      <td>ZR751</td>\n",
       "      <td>Dasatinib</td>\n",
       "      <td>BEZ-235</td>\n",
       "      <td>1.0</td>\n",
       "      <td>0.555556</td>\n",
       "      <td>0.836623</td>\n",
       "      <td>0.201252</td>\n",
       "      <td>0.758781</td>\n",
       "      <td>0.004745</td>\n",
       "      <td>0.578707</td>\n",
       "      <td>...</td>\n",
       "      <td>0.101134</td>\n",
       "      <td>-0.171971</td>\n",
       "      <td>-0.575043</td>\n",
       "      <td>-0.425517</td>\n",
       "      <td>0.047446</td>\n",
       "      <td>0.332179</td>\n",
       "      <td>-0.232644</td>\n",
       "      <td>-1.571546</td>\n",
       "      <td>-0.010968</td>\n",
       "      <td>38</td>\n",
       "    </tr>\n",
       "    <tr>\n",
       "      <th>1845296</th>\n",
       "      <td>ZR751</td>\n",
       "      <td>Dasatinib</td>\n",
       "      <td>BEZ-235</td>\n",
       "      <td>1.0</td>\n",
       "      <td>0.666667</td>\n",
       "      <td>0.145741</td>\n",
       "      <td>0.131897</td>\n",
       "      <td>0.501934</td>\n",
       "      <td>0.006623</td>\n",
       "      <td>0.467011</td>\n",
       "      <td>...</td>\n",
       "      <td>0.101134</td>\n",
       "      <td>-0.171971</td>\n",
       "      <td>-0.575043</td>\n",
       "      <td>-0.425517</td>\n",
       "      <td>0.047446</td>\n",
       "      <td>0.332179</td>\n",
       "      <td>-0.232644</td>\n",
       "      <td>-1.571546</td>\n",
       "      <td>-0.010968</td>\n",
       "      <td>38</td>\n",
       "    </tr>\n",
       "    <tr>\n",
       "      <th>1845297</th>\n",
       "      <td>ZR751</td>\n",
       "      <td>Dasatinib</td>\n",
       "      <td>BEZ-235</td>\n",
       "      <td>1.0</td>\n",
       "      <td>0.777778</td>\n",
       "      <td>-0.305510</td>\n",
       "      <td>0.077650</td>\n",
       "      <td>0.283945</td>\n",
       "      <td>0.002499</td>\n",
       "      <td>0.353702</td>\n",
       "      <td>...</td>\n",
       "      <td>0.101134</td>\n",
       "      <td>-0.171971</td>\n",
       "      <td>-0.575043</td>\n",
       "      <td>-0.425517</td>\n",
       "      <td>0.047446</td>\n",
       "      <td>0.332179</td>\n",
       "      <td>-0.232644</td>\n",
       "      <td>-1.571546</td>\n",
       "      <td>-0.010968</td>\n",
       "      <td>38</td>\n",
       "    </tr>\n",
       "    <tr>\n",
       "      <th>1845298</th>\n",
       "      <td>ZR751</td>\n",
       "      <td>Dasatinib</td>\n",
       "      <td>BEZ-235</td>\n",
       "      <td>1.0</td>\n",
       "      <td>0.888889</td>\n",
       "      <td>-0.134187</td>\n",
       "      <td>0.130631</td>\n",
       "      <td>0.229313</td>\n",
       "      <td>0.003303</td>\n",
       "      <td>0.255643</td>\n",
       "      <td>...</td>\n",
       "      <td>0.101134</td>\n",
       "      <td>-0.171971</td>\n",
       "      <td>-0.575043</td>\n",
       "      <td>-0.425517</td>\n",
       "      <td>0.047446</td>\n",
       "      <td>0.332179</td>\n",
       "      <td>-0.232644</td>\n",
       "      <td>-1.571546</td>\n",
       "      <td>-0.010968</td>\n",
       "      <td>38</td>\n",
       "    </tr>\n",
       "    <tr>\n",
       "      <th>1845299</th>\n",
       "      <td>ZR751</td>\n",
       "      <td>Dasatinib</td>\n",
       "      <td>BEZ-235</td>\n",
       "      <td>1.0</td>\n",
       "      <td>1.000000</td>\n",
       "      <td>0.289784</td>\n",
       "      <td>0.083697</td>\n",
       "      <td>0.226703</td>\n",
       "      <td>0.001560</td>\n",
       "      <td>0.181440</td>\n",
       "      <td>...</td>\n",
       "      <td>0.101134</td>\n",
       "      <td>-0.171971</td>\n",
       "      <td>-0.575043</td>\n",
       "      <td>-0.425517</td>\n",
       "      <td>0.047446</td>\n",
       "      <td>0.332179</td>\n",
       "      <td>-0.232644</td>\n",
       "      <td>-1.571546</td>\n",
       "      <td>-0.010968</td>\n",
       "      <td>38</td>\n",
       "    </tr>\n",
       "  </tbody>\n",
       "</table>\n",
       "<p>76800 rows × 525 columns</p>\n",
       "</div>"
      ],
      "text/plain": [
       "        cell_line      drugA    drugB  drugA_conc  drugB_conc    GPMean  \\\n",
       "100         A2058       5-FU  AZD1775         0.0    0.000000 -0.013604   \n",
       "101         A2058       5-FU  AZD1775         0.0    0.111111 -0.019983   \n",
       "102         A2058       5-FU  AZD1775         0.0    0.222222 -0.035324   \n",
       "103         A2058       5-FU  AZD1775         0.0    0.333333 -0.055318   \n",
       "104         A2058       5-FU  AZD1775         0.0    0.444444 -0.069008   \n",
       "...           ...        ...      ...         ...         ...       ...   \n",
       "1845295     ZR751  Dasatinib  BEZ-235         1.0    0.555556  0.836623   \n",
       "1845296     ZR751  Dasatinib  BEZ-235         1.0    0.666667  0.145741   \n",
       "1845297     ZR751  Dasatinib  BEZ-235         1.0    0.777778 -0.305510   \n",
       "1845298     ZR751  Dasatinib  BEZ-235         1.0    0.888889 -0.134187   \n",
       "1845299     ZR751  Dasatinib  BEZ-235         1.0    1.000000  0.289784   \n",
       "\n",
       "            GPVar     fMean      fVar    p0Mean  ...  Blatent_247  \\\n",
       "100      1.045780  0.999671  0.000001  0.999978  ...    -0.171792   \n",
       "101      1.011360  0.999656  0.000004  0.999977  ...    -0.171792   \n",
       "102      0.974131  0.999599  0.000016  0.999961  ...    -0.171792   \n",
       "103      0.939041  0.999442  0.000015  0.999812  ...    -0.171792   \n",
       "104      0.890884  0.997371  0.000023  0.998224  ...    -0.171792   \n",
       "...           ...       ...       ...       ...  ...          ...   \n",
       "1845295  0.201252  0.758781  0.004745  0.578707  ...     0.101134   \n",
       "1845296  0.131897  0.501934  0.006623  0.467011  ...     0.101134   \n",
       "1845297  0.077650  0.283945  0.002499  0.353702  ...     0.101134   \n",
       "1845298  0.130631  0.229313  0.003303  0.255643  ...     0.101134   \n",
       "1845299  0.083697  0.226703  0.001560  0.181440  ...     0.101134   \n",
       "\n",
       "         Blatent_248  Blatent_249  Blatent_250  Blatent_251  Blatent_252  \\\n",
       "100        -0.051740    -2.050742    -0.289099     0.343276    -0.289370   \n",
       "101        -0.051740    -2.050742    -0.289099     0.343276    -0.289370   \n",
       "102        -0.051740    -2.050742    -0.289099     0.343276    -0.289370   \n",
       "103        -0.051740    -2.050742    -0.289099     0.343276    -0.289370   \n",
       "104        -0.051740    -2.050742    -0.289099     0.343276    -0.289370   \n",
       "...              ...          ...          ...          ...          ...   \n",
       "1845295    -0.171971    -0.575043    -0.425517     0.047446     0.332179   \n",
       "1845296    -0.171971    -0.575043    -0.425517     0.047446     0.332179   \n",
       "1845297    -0.171971    -0.575043    -0.425517     0.047446     0.332179   \n",
       "1845298    -0.171971    -0.575043    -0.425517     0.047446     0.332179   \n",
       "1845299    -0.171971    -0.575043    -0.425517     0.047446     0.332179   \n",
       "\n",
       "         Blatent_253  Blatent_254  Blatent_255  task_index  \n",
       "100        -0.034100    -2.101314     0.116015           0  \n",
       "101        -0.034100    -2.101314     0.116015           0  \n",
       "102        -0.034100    -2.101314     0.116015           0  \n",
       "103        -0.034100    -2.101314     0.116015           0  \n",
       "104        -0.034100    -2.101314     0.116015           0  \n",
       "...              ...          ...          ...         ...  \n",
       "1845295    -0.232644    -1.571546    -0.010968          38  \n",
       "1845296    -0.232644    -1.571546    -0.010968          38  \n",
       "1845297    -0.232644    -1.571546    -0.010968          38  \n",
       "1845298    -0.232644    -1.571546    -0.010968          38  \n",
       "1845299    -0.232644    -1.571546    -0.010968          38  \n",
       "\n",
       "[76800 rows x 525 columns]"
      ]
     },
     "execution_count": 92,
     "metadata": {},
     "output_type": "execute_result"
    }
   ],
   "source": [
    "train"
   ]
  },
  {
   "cell_type": "code",
   "execution_count": 93,
   "id": "56d58562-2740-4d3d-b3a3-f3c7e6df1178",
   "metadata": {},
   "outputs": [],
   "source": [
    "# Will focus on a single cell line, A2058\n",
    "cell_line = \"A2058\"\n",
    "train = train[train['cell_line'] == cell_line]\n",
    "#train = train.iloc[0:5000]\n",
    "test = test[test['cell_line'] == cell_line] \n",
    "#test = test.iloc[0:5000]\n",
    "y_train, X_train, train_indices, train_noise, train_weights = prepdata(train, targets, predtarget,num_latents=256)\n",
    "y_test, X_test, test_indices, test_noise, test_weights = prepdata(test, targets, predtarget,num_latents=256)"
   ]
  },
  {
   "cell_type": "code",
   "execution_count": 94,
   "id": "1dcda5ae-6104-451c-884a-61400c344e5e",
   "metadata": {},
   "outputs": [
    {
     "data": {
      "text/plain": [
       "tensor([[ 0.0000,  0.0000, -0.5473,  ..., -0.0341, -2.1013,  0.1160],\n",
       "        [ 0.0000,  0.1111, -0.5473,  ..., -0.0341, -2.1013,  0.1160],\n",
       "        [ 0.0000,  0.2222, -0.5473,  ..., -0.0341, -2.1013,  0.1160],\n",
       "        [ 0.0000,  0.3333, -0.5473,  ..., -0.0341, -2.1013,  0.1160],\n",
       "        [ 0.0000,  0.4444, -0.5473,  ..., -0.0341, -2.1013,  0.1160]])"
      ]
     },
     "execution_count": 94,
     "metadata": {},
     "output_type": "execute_result"
    }
   ],
   "source": [
    "X_train[0:5]"
   ]
  },
  {
   "cell_type": "code",
   "execution_count": 95,
   "id": "af8dbd03-ce84-4053-8772-b90a3457559f",
   "metadata": {},
   "outputs": [
    {
     "data": {
      "text/plain": [
       "torch.Size([1900, 514])"
      ]
     },
     "execution_count": 95,
     "metadata": {},
     "output_type": "execute_result"
    }
   ],
   "source": [
    "X_train.shape"
   ]
  },
  {
   "cell_type": "code",
   "execution_count": 96,
   "id": "5460d433-f46e-419d-ab8e-674ed34c9ea9",
   "metadata": {},
   "outputs": [
    {
     "data": {
      "text/plain": [
       "torch.Size([600, 514])"
      ]
     },
     "execution_count": 96,
     "metadata": {},
     "output_type": "execute_result"
    }
   ],
   "source": [
    "X_test.shape"
   ]
  },
  {
   "cell_type": "code",
   "execution_count": 97,
   "id": "bc1785a5-9125-4700-abbf-2a2701169d32",
   "metadata": {},
   "outputs": [],
   "source": [
    "G = 1\n",
    "num_latents = 2\n",
    "num_inducing = 500\n",
    "batch_size = 256\n",
    "num_tasks = train_indices.max()+1\n",
    "num_epochs = 400\n",
    "initial_lr = 0.01\n",
    "num_drug_latents = 256"
   ]
  },
  {
   "cell_type": "code",
   "execution_count": 98,
   "id": "f91460e7-ee5d-4baf-95a3-8835caef7930",
   "metadata": {},
   "outputs": [],
   "source": [
    "from torch.utils.data import TensorDataset,  DataLoader\n",
    "train_dataset = TensorDataset(X_train,y_train,train_noise,train_indices)\n",
    "train_loader = DataLoader(train_dataset,batch_size=batch_size,shuffle=True)\n",
    "\n",
    "# Define the permutation\n",
    "permutation = torch.cat([torch.tensor([1]), torch.tensor([0]),\n",
    "                             torch.linspace((2 + num_drug_latents), 1 + (2 * num_drug_latents), num_drug_latents), \n",
    "                         torch.linspace(2, 1 + num_drug_latents, num_drug_latents)]).long()\n"
   ]
  },
  {
   "cell_type": "code",
   "execution_count": 99,
   "id": "cd019b75-545f-4781-a255-345428183253",
   "metadata": {},
   "outputs": [
    {
     "data": {
      "text/plain": [
       "[tensor([[ 0.7778,  0.8889, -0.4313,  ..., -0.2326, -1.5715, -0.0110],\n",
       "         [ 1.0000,  0.0000, -0.4313,  ...,  0.3296, -1.5032, -0.0834],\n",
       "         [ 0.6667,  0.6667,  0.5331,  ..., -0.7550, -2.1108, -0.5716],\n",
       "         ...,\n",
       "         [ 0.1111,  0.1111, -0.5473,  ..., -0.7600, -1.8868, -0.4474],\n",
       "         [ 0.3333,  0.2222, -0.1585,  ..., -0.2326, -1.5715, -0.0110],\n",
       "         [ 0.2222,  0.7778, -0.5972,  ...,  0.3296, -1.5032, -0.0834]]),\n",
       " tensor([1.8019e-01, 9.6530e-01, 7.1054e-01, 1.2100e-02, 5.3014e-01, 6.1358e-01,\n",
       "         3.1061e-03, 4.8510e-01, 8.3207e-01, 9.0335e-01, 9.9980e-01, 9.8844e-01,\n",
       "         9.9805e-01, 9.9851e-01, 7.8538e-01, 7.4445e-01, 2.6230e-01, 1.8394e-04,\n",
       "         3.2934e-01, 1.1691e-01, 9.2331e-04, 8.0022e-01, 9.9969e-01, 7.4328e-01,\n",
       "         5.9731e-01, 5.8803e-01, 5.5816e-01, 6.9664e-01, 8.2641e-01, 9.3165e-01,\n",
       "         9.8065e-01, 5.4306e-02, 9.9828e-01, 9.9871e-01, 9.9392e-01, 9.9508e-01,\n",
       "         3.9886e-01, 9.7359e-01, 9.7119e-01, 7.9409e-01, 9.9027e-01, 6.4929e-01,\n",
       "         9.2630e-01, 2.8889e-01, 6.9432e-01, 8.4945e-01, 9.9821e-01, 9.7038e-01,\n",
       "         7.8991e-01, 5.9109e-01, 9.6116e-01, 9.9810e-01, 3.2653e-02, 8.1845e-01,\n",
       "         8.5356e-01, 9.7128e-01, 7.5541e-01, 1.4800e-01, 9.9905e-01, 1.4291e-01,\n",
       "         9.3022e-01, 9.8286e-01, 8.2390e-01, 9.8740e-01, 9.9996e-01, 9.7255e-01,\n",
       "         9.9997e-01, 9.5819e-01, 7.6635e-01, 8.1198e-01, 9.6954e-01, 2.1051e-01,\n",
       "         5.8086e-01, 9.9696e-01, 1.8907e-01, 8.1235e-01, 1.1219e-01, 8.7059e-01,\n",
       "         9.8945e-01, 8.4251e-01, 2.9751e-02, 9.8916e-01, 2.4646e-01, 1.8035e-01,\n",
       "         9.8582e-01, 9.9656e-01, 3.5527e-03, 9.0639e-01, 1.1627e-02, 8.8320e-01,\n",
       "         5.2397e-01, 9.9839e-01, 9.6764e-01, 8.2622e-04, 1.4108e-01, 8.1822e-01,\n",
       "         9.8914e-01, 8.5043e-01, 8.4492e-01, 1.2633e-03, 8.8959e-01, 9.9902e-01,\n",
       "         9.8676e-01, 7.8510e-01, 9.8778e-01, 9.0184e-01, 6.1467e-01, 8.4733e-01,\n",
       "         6.9686e-02, 1.5035e-03, 8.5903e-01, 9.8691e-01, 8.7329e-01, 9.9810e-01,\n",
       "         9.7123e-01, 9.7195e-01, 9.9064e-01, 5.5759e-01, 9.3353e-01, 8.2175e-01,\n",
       "         9.9790e-01, 9.9005e-01, 7.7508e-01, 2.2298e-03, 2.2743e-01, 7.3399e-01,\n",
       "         8.1322e-01, 9.5079e-01, 1.0877e-03, 1.6501e-01, 9.9863e-01, 5.7807e-02,\n",
       "         9.9997e-01, 8.9117e-01, 4.6793e-01, 3.4819e-03, 9.9876e-01, 4.3557e-01,\n",
       "         8.2441e-01, 2.3414e-01, 6.1587e-02, 1.5870e-01, 5.4580e-01, 7.9110e-01,\n",
       "         9.9550e-01, 9.0542e-01, 9.8924e-01, 7.8496e-01, 9.9850e-01, 6.6588e-01,\n",
       "         8.2560e-01, 6.2613e-01, 8.9551e-01, 9.9967e-01, 8.5682e-01, 8.8380e-01,\n",
       "         9.0007e-01, 7.2242e-01, 8.2748e-01, 9.9431e-01, 3.7710e-03, 9.9187e-01,\n",
       "         8.0240e-01, 9.9427e-01, 9.5133e-01, 1.8587e-01, 9.2349e-01, 4.2397e-03,\n",
       "         7.4058e-01, 8.9577e-01, 4.7465e-01, 9.9910e-01, 9.7388e-01, 8.0575e-01,\n",
       "         9.9874e-01, 9.7054e-01, 2.3091e-01, 9.8489e-01, 9.9923e-01, 9.4537e-01,\n",
       "         7.7452e-02, 2.0299e-01, 8.9064e-01, 3.3439e-01, 1.4120e-03, 4.1834e-02,\n",
       "         1.9841e-02, 1.0183e-03, 2.9102e-01, 5.5056e-01, 2.7241e-03, 9.9908e-01,\n",
       "         9.8260e-01, 2.1643e-01, 8.5132e-01, 9.9128e-01, 8.3297e-01, 3.0792e-01,\n",
       "         9.9970e-01, 9.9064e-01, 1.2871e-01, 5.1348e-01, 9.9850e-01, 2.8103e-01,\n",
       "         8.3640e-01, 2.7075e-01, 2.0875e-01, 8.0112e-01, 7.7067e-01, 9.8875e-01,\n",
       "         8.7169e-01, 9.9706e-01, 9.3494e-01, 7.2181e-01, 8.1405e-01, 7.2908e-01,\n",
       "         1.8230e-01, 9.9890e-01, 3.0579e-01, 8.1734e-01, 7.8528e-01, 9.7964e-01,\n",
       "         8.0753e-01, 9.9920e-01, 2.0793e-01, 7.2942e-01, 9.6362e-01, 8.2689e-01,\n",
       "         9.8061e-01, 1.7441e-01, 7.0217e-01, 8.9953e-01, 2.5003e-01, 9.9618e-01,\n",
       "         5.5851e-01, 9.9325e-01, 5.9903e-01, 6.0184e-01, 1.2967e-03, 3.0020e-01,\n",
       "         9.5692e-01, 8.5176e-01, 9.8037e-01, 4.1291e-01, 4.3613e-01, 2.2674e-01,\n",
       "         9.9934e-01, 1.4714e-03, 8.0143e-01, 6.7374e-04, 9.7086e-01, 8.0539e-01,\n",
       "         9.9674e-01, 9.9989e-01, 9.8362e-01, 9.7388e-01]),\n",
       " tensor([0., 0., 0., 0., 0., 0., 0., 0., 0., 0., 0., 0., 0., 0., 0., 0., 0., 0., 0., 0., 0., 0., 0., 0.,\n",
       "         0., 0., 0., 0., 0., 0., 0., 0., 0., 0., 0., 0., 0., 0., 0., 0., 0., 0., 0., 0., 0., 0., 0., 0.,\n",
       "         0., 0., 0., 0., 0., 0., 0., 0., 0., 0., 0., 0., 0., 0., 0., 0., 0., 0., 0., 0., 0., 0., 0., 0.,\n",
       "         0., 0., 0., 0., 0., 0., 0., 0., 0., 0., 0., 0., 0., 0., 0., 0., 0., 0., 0., 0., 0., 0., 0., 0.,\n",
       "         0., 0., 0., 0., 0., 0., 0., 0., 0., 0., 0., 0., 0., 0., 0., 0., 0., 0., 0., 0., 0., 0., 0., 0.,\n",
       "         0., 0., 0., 0., 0., 0., 0., 0., 0., 0., 0., 0., 0., 0., 0., 0., 0., 0., 0., 0., 0., 0., 0., 0.,\n",
       "         0., 0., 0., 0., 0., 0., 0., 0., 0., 0., 0., 0., 0., 0., 0., 0., 0., 0., 0., 0., 0., 0., 0., 0.,\n",
       "         0., 0., 0., 0., 0., 0., 0., 0., 0., 0., 0., 0., 0., 0., 0., 0., 0., 0., 0., 0., 0., 0., 0., 0.,\n",
       "         0., 0., 0., 0., 0., 0., 0., 0., 0., 0., 0., 0., 0., 0., 0., 0., 0., 0., 0., 0., 0., 0., 0., 0.,\n",
       "         0., 0., 0., 0., 0., 0., 0., 0., 0., 0., 0., 0., 0., 0., 0., 0., 0., 0., 0., 0., 0., 0., 0., 0.,\n",
       "         0., 0., 0., 0., 0., 0., 0., 0., 0., 0., 0., 0., 0., 0., 0., 0.]),\n",
       " tensor([0, 0, 0, 0, 0, 0, 0, 0, 0, 0, 0, 0, 0, 0, 0, 0, 0, 0, 0, 0, 0, 0, 0, 0,\n",
       "         0, 0, 0, 0, 0, 0, 0, 0, 0, 0, 0, 0, 0, 0, 0, 0, 0, 0, 0, 0, 0, 0, 0, 0,\n",
       "         0, 0, 0, 0, 0, 0, 0, 0, 0, 0, 0, 0, 0, 0, 0, 0, 0, 0, 0, 0, 0, 0, 0, 0,\n",
       "         0, 0, 0, 0, 0, 0, 0, 0, 0, 0, 0, 0, 0, 0, 0, 0, 0, 0, 0, 0, 0, 0, 0, 0,\n",
       "         0, 0, 0, 0, 0, 0, 0, 0, 0, 0, 0, 0, 0, 0, 0, 0, 0, 0, 0, 0, 0, 0, 0, 0,\n",
       "         0, 0, 0, 0, 0, 0, 0, 0, 0, 0, 0, 0, 0, 0, 0, 0, 0, 0, 0, 0, 0, 0, 0, 0,\n",
       "         0, 0, 0, 0, 0, 0, 0, 0, 0, 0, 0, 0, 0, 0, 0, 0, 0, 0, 0, 0, 0, 0, 0, 0,\n",
       "         0, 0, 0, 0, 0, 0, 0, 0, 0, 0, 0, 0, 0, 0, 0, 0, 0, 0, 0, 0, 0, 0, 0, 0,\n",
       "         0, 0, 0, 0, 0, 0, 0, 0, 0, 0, 0, 0, 0, 0, 0, 0, 0, 0, 0, 0, 0, 0, 0, 0,\n",
       "         0, 0, 0, 0, 0, 0, 0, 0, 0, 0, 0, 0, 0, 0, 0, 0, 0, 0, 0, 0, 0, 0, 0, 0,\n",
       "         0, 0, 0, 0, 0, 0, 0, 0, 0, 0, 0, 0, 0, 0, 0, 0])]"
      ]
     },
     "execution_count": 99,
     "metadata": {},
     "output_type": "execute_result"
    }
   ],
   "source": [
    "next(iter(train_loader))"
   ]
  },
  {
   "cell_type": "code",
   "execution_count": 100,
   "id": "bfa488ba-c751-4641-a7cd-9edd4951becb",
   "metadata": {},
   "outputs": [],
   "source": [
    "from torch import Tensor\n",
    "from typing import Literal\n",
    "from pimogp.kernels.permutation_invariant_rbf import PermutationInvariantRBFKernel\n",
    "from pimogp.variational.permutation_invariant_variational_strategy import PermutationInvariantVariationalStrategy\n",
    "from botorch.models.utils.inducing_point_allocators import GreedyVarianceReduction\n",
    "\n",
    "class TestModel(gpytorch.models.ApproximateGP):\n",
    "    r\"\"\"\n",
    "    DrugComboModelICM_NC is the model for drug combination prediction that utilizes drug covariates, but\n",
    "    no cell line covariates\n",
    "\n",
    "    It wraps a PermutationInvariantVariationalStrategy in an LMCVariationalStrategy for a multi-output GP.\n",
    "    The parameters of the LMC are learned \"free-form\" as opposed to making use of cell line information\n",
    "\n",
    "    :param permutation: A Tensor giving the permutation the function should be invariant to\n",
    "    :param conc_dims: The dimensions of the data input that corresponds to the drug concentrations\n",
    "    :param drug_covar_dims: The dimension of the data input that corresponds to the drug covariates\n",
    "    :param num_tasks: The number of tasks / outputs / cell lines\n",
    "    :param num_latents: The number of latent functions in the LMC\n",
    "    :param num_inducing: The number of inducing points per latent\n",
    "    :param sample_inducing_from: A Tensor to sample inducing points from, usually this would be the training inputs\n",
    "    :param inducing_weights: A vector of weights used in sampling of the inducing points\n",
    "    :param vardistr: The variational distribution to use, mf=MeanField (Default), \"nat\"=Natural, \"chol\"=Cholesky\n",
    "    \"\"\"\n",
    "\n",
    "    def __init__(self, permutation: Tensor,\n",
    "                 num_tasks: int,\n",
    "                 num_latents: int,\n",
    "                 num_inducing: int,\n",
    "                 inducing_weights,\n",
    "                 sample_inducing_from: Tensor,\n",
    "                 ):\n",
    "\n",
    "        \n",
    "        covar_module = gpytorch.kernels.ScaleKernel(PermutationInvariantRBFKernel(permutation=permutation,permute_forward=True,\n",
    "                                                     ard_num_dims=514,lengthscale_constraint=gpytorch.constraints.LessThan(100.0)))\n",
    "\n",
    "        # Initialise the lengthscales\n",
    "        div = torch.zeros([514])\n",
    "        div[0:2] = 2.0\n",
    "        div[2:] = 2.0\n",
    "        lengthscales_init = sample_inducing_from.var(dim=0).sqrt().div(div)\n",
    "        covar_module.base_kernel.lengthscale = lengthscales_init\n",
    "\n",
    "\n",
    "        # Sample inducing points\n",
    "        #p = inducing_weights.div(inducing_weights.sum())\n",
    "        #idx = p.multinomial(num_samples=num_inducing * num_latents, replacement=False).reshape(num_latents,\n",
    "        #                                                                                       num_inducing)\n",
    "        #inducing_points = sample_inducing_from[idx]\n",
    "\n",
    "        ind_allocator = GreedyVarianceReduction()\n",
    "        inducing_points = torch.empty((0, num_inducing, sample_inducing_from.size(1)))\n",
    "        for i in range(num_latents):\n",
    "            sample = ind_allocator.allocate_inducing_points(sample_inducing_from, covar_module,\n",
    "                                                num_inducing=num_inducing, input_batch_shape=torch.Size([]))\n",
    "            inducing_points = torch.cat((inducing_points, sample.unsqueeze(0)), dim=0)\n",
    "            matches = (sample_inducing_from.unsqueeze(1) == sample).all(dim=2)\n",
    "            row_matches = matches.any(dim=1)\n",
    "            sample_inducing_from = sample_inducing_from[~row_matches]\n",
    "        #inducing_points = ind_allocator.allocate_inducing_points(sample_inducing_from,\n",
    "        #                                                         covar_module,num_inducing=num_inducing,\n",
    "        #                                                         input_batch_shape=torch.Size([num_latents]))\n",
    "\n",
    "        # Now turn of the permutation forward\n",
    "        #covar_module.permute_forward = False\n",
    "        \n",
    "        # Variational distribution\n",
    "        variational_distribution = gpytorch.variational.NaturalVariationalDistribution(\n",
    "            inducing_points.size(-2), batch_shape=torch.Size([num_latents])\n",
    "            )\n",
    "\n",
    "        # Variational Strategy\n",
    "        variational_strategy = gpytorch.variational.LMCVariationalStrategy(\n",
    "            gpytorch.variational.VariationalStrategy(\n",
    "            #PermutationInvariantVariationalStrategy(\n",
    "                self, inducing_points, variational_distribution,\n",
    "                #permutation,\n",
    "                learn_inducing_locations=True),\n",
    "            num_tasks=num_tasks, num_latents=num_latents, latent_dim=-1)\n",
    "\n",
    "        super(TestModel, self).__init__(variational_strategy)\n",
    "\n",
    "        # Store permutation here\n",
    "        \n",
    "\n",
    "        # Mean and covariance modules\n",
    "        # Standard zero-mean\n",
    "        self.mean_module = gpytorch.means.ConstantMean()\n",
    "        # Covar over the concentrations, simple RBF\n",
    "        #self.covar_module_concentrations = covar_module_concentrations\n",
    "        # Covar over the drugs, RBF + ARD\n",
    "        #self.covar_module_drugs = covar_module_drugs\n",
    "        self.covar_module = covar_module\n",
    "\n",
    "\n",
    "\n",
    "    def forward(self, x):\n",
    "        mean_x = self.mean_module(x)\n",
    "        # Final covariance is a simple product.\n",
    "        #covar_x = self.covar_module_concentrations(x) * self.covar_module_drugs(x)\n",
    "        covar_x = self.covar_module(x)\n",
    "        return gpytorch.distributions.MultivariateNormal(mean_x, covar_x)"
   ]
  },
  {
   "cell_type": "code",
   "execution_count": 101,
   "id": "2227a5bd-c991-467e-b0d9-92b3239b274a",
   "metadata": {
    "scrolled": true
   },
   "outputs": [
    {
     "name": "stdout",
     "output_type": "stream",
     "text": [
      "Index 0 given to:  (0, 1)\n",
      "Index 1 given to:  (2, 258)\n",
      "Index 2 given to:  (3, 259)\n",
      "Index 3 given to:  (4, 260)\n",
      "Index 4 given to:  (5, 261)\n",
      "Index 5 given to:  (6, 262)\n",
      "Index 6 given to:  (7, 263)\n",
      "Index 7 given to:  (8, 264)\n",
      "Index 8 given to:  (9, 265)\n",
      "Index 9 given to:  (10, 266)\n",
      "Index 10 given to:  (11, 267)\n",
      "Index 11 given to:  (12, 268)\n",
      "Index 12 given to:  (13, 269)\n",
      "Index 13 given to:  (14, 270)\n",
      "Index 14 given to:  (15, 271)\n",
      "Index 15 given to:  (16, 272)\n",
      "Index 16 given to:  (17, 273)\n",
      "Index 17 given to:  (18, 274)\n",
      "Index 18 given to:  (19, 275)\n",
      "Index 19 given to:  (20, 276)\n",
      "Index 20 given to:  (21, 277)\n",
      "Index 21 given to:  (22, 278)\n",
      "Index 22 given to:  (23, 279)\n",
      "Index 23 given to:  (24, 280)\n",
      "Index 24 given to:  (25, 281)\n",
      "Index 25 given to:  (26, 282)\n",
      "Index 26 given to:  (27, 283)\n",
      "Index 27 given to:  (28, 284)\n",
      "Index 28 given to:  (29, 285)\n",
      "Index 29 given to:  (30, 286)\n",
      "Index 30 given to:  (31, 287)\n",
      "Index 31 given to:  (32, 288)\n",
      "Index 32 given to:  (33, 289)\n",
      "Index 33 given to:  (34, 290)\n",
      "Index 34 given to:  (35, 291)\n",
      "Index 35 given to:  (36, 292)\n",
      "Index 36 given to:  (37, 293)\n",
      "Index 37 given to:  (38, 294)\n",
      "Index 38 given to:  (39, 295)\n",
      "Index 39 given to:  (40, 296)\n",
      "Index 40 given to:  (41, 297)\n",
      "Index 41 given to:  (42, 298)\n",
      "Index 42 given to:  (43, 299)\n",
      "Index 43 given to:  (44, 300)\n",
      "Index 44 given to:  (45, 301)\n",
      "Index 45 given to:  (46, 302)\n",
      "Index 46 given to:  (47, 303)\n",
      "Index 47 given to:  (48, 304)\n",
      "Index 48 given to:  (49, 305)\n",
      "Index 49 given to:  (50, 306)\n",
      "Index 50 given to:  (51, 307)\n",
      "Index 51 given to:  (52, 308)\n",
      "Index 52 given to:  (53, 309)\n",
      "Index 53 given to:  (54, 310)\n",
      "Index 54 given to:  (55, 311)\n",
      "Index 55 given to:  (56, 312)\n",
      "Index 56 given to:  (57, 313)\n",
      "Index 57 given to:  (58, 314)\n",
      "Index 58 given to:  (59, 315)\n",
      "Index 59 given to:  (60, 316)\n",
      "Index 60 given to:  (61, 317)\n",
      "Index 61 given to:  (62, 318)\n",
      "Index 62 given to:  (63, 319)\n",
      "Index 63 given to:  (64, 320)\n",
      "Index 64 given to:  (65, 321)\n",
      "Index 65 given to:  (66, 322)\n",
      "Index 66 given to:  (67, 323)\n",
      "Index 67 given to:  (68, 324)\n",
      "Index 68 given to:  (69, 325)\n",
      "Index 69 given to:  (70, 326)\n",
      "Index 70 given to:  (71, 327)\n",
      "Index 71 given to:  (72, 328)\n",
      "Index 72 given to:  (73, 329)\n",
      "Index 73 given to:  (74, 330)\n",
      "Index 74 given to:  (75, 331)\n",
      "Index 75 given to:  (76, 332)\n",
      "Index 76 given to:  (77, 333)\n",
      "Index 77 given to:  (78, 334)\n",
      "Index 78 given to:  (79, 335)\n",
      "Index 79 given to:  (80, 336)\n",
      "Index 80 given to:  (81, 337)\n",
      "Index 81 given to:  (82, 338)\n",
      "Index 82 given to:  (83, 339)\n",
      "Index 83 given to:  (84, 340)\n",
      "Index 84 given to:  (85, 341)\n",
      "Index 85 given to:  (86, 342)\n",
      "Index 86 given to:  (87, 343)\n",
      "Index 87 given to:  (88, 344)\n",
      "Index 88 given to:  (89, 345)\n",
      "Index 89 given to:  (90, 346)\n",
      "Index 90 given to:  (91, 347)\n",
      "Index 91 given to:  (92, 348)\n",
      "Index 92 given to:  (93, 349)\n",
      "Index 93 given to:  (94, 350)\n",
      "Index 94 given to:  (95, 351)\n",
      "Index 95 given to:  (96, 352)\n",
      "Index 96 given to:  (97, 353)\n",
      "Index 97 given to:  (98, 354)\n",
      "Index 98 given to:  (99, 355)\n",
      "Index 99 given to:  (100, 356)\n",
      "Index 100 given to:  (101, 357)\n",
      "Index 101 given to:  (102, 358)\n",
      "Index 102 given to:  (103, 359)\n",
      "Index 103 given to:  (104, 360)\n",
      "Index 104 given to:  (105, 361)\n",
      "Index 105 given to:  (106, 362)\n",
      "Index 106 given to:  (107, 363)\n",
      "Index 107 given to:  (108, 364)\n",
      "Index 108 given to:  (109, 365)\n",
      "Index 109 given to:  (110, 366)\n",
      "Index 110 given to:  (111, 367)\n",
      "Index 111 given to:  (112, 368)\n",
      "Index 112 given to:  (113, 369)\n",
      "Index 113 given to:  (114, 370)\n",
      "Index 114 given to:  (115, 371)\n",
      "Index 115 given to:  (116, 372)\n",
      "Index 116 given to:  (117, 373)\n",
      "Index 117 given to:  (118, 374)\n",
      "Index 118 given to:  (119, 375)\n",
      "Index 119 given to:  (120, 376)\n",
      "Index 120 given to:  (121, 377)\n",
      "Index 121 given to:  (122, 378)\n",
      "Index 122 given to:  (123, 379)\n",
      "Index 123 given to:  (124, 380)\n",
      "Index 124 given to:  (125, 381)\n",
      "Index 125 given to:  (126, 382)\n",
      "Index 126 given to:  (127, 383)\n",
      "Index 127 given to:  (128, 384)\n",
      "Index 128 given to:  (129, 385)\n",
      "Index 129 given to:  (130, 386)\n",
      "Index 130 given to:  (131, 387)\n",
      "Index 131 given to:  (132, 388)\n",
      "Index 132 given to:  (133, 389)\n",
      "Index 133 given to:  (134, 390)\n",
      "Index 134 given to:  (135, 391)\n",
      "Index 135 given to:  (136, 392)\n",
      "Index 136 given to:  (137, 393)\n",
      "Index 137 given to:  (138, 394)\n",
      "Index 138 given to:  (139, 395)\n",
      "Index 139 given to:  (140, 396)\n",
      "Index 140 given to:  (141, 397)\n",
      "Index 141 given to:  (142, 398)\n",
      "Index 142 given to:  (143, 399)\n",
      "Index 143 given to:  (144, 400)\n",
      "Index 144 given to:  (145, 401)\n",
      "Index 145 given to:  (146, 402)\n",
      "Index 146 given to:  (147, 403)\n",
      "Index 147 given to:  (148, 404)\n",
      "Index 148 given to:  (149, 405)\n",
      "Index 149 given to:  (150, 406)\n",
      "Index 150 given to:  (151, 407)\n",
      "Index 151 given to:  (152, 408)\n",
      "Index 152 given to:  (153, 409)\n",
      "Index 153 given to:  (154, 410)\n",
      "Index 154 given to:  (155, 411)\n",
      "Index 155 given to:  (156, 412)\n",
      "Index 156 given to:  (157, 413)\n",
      "Index 157 given to:  (158, 414)\n",
      "Index 158 given to:  (159, 415)\n",
      "Index 159 given to:  (160, 416)\n",
      "Index 160 given to:  (161, 417)\n",
      "Index 161 given to:  (162, 418)\n",
      "Index 162 given to:  (163, 419)\n",
      "Index 163 given to:  (164, 420)\n",
      "Index 164 given to:  (165, 421)\n",
      "Index 165 given to:  (166, 422)\n",
      "Index 166 given to:  (167, 423)\n",
      "Index 167 given to:  (168, 424)\n",
      "Index 168 given to:  (169, 425)\n",
      "Index 169 given to:  (170, 426)\n",
      "Index 170 given to:  (171, 427)\n",
      "Index 171 given to:  (172, 428)\n",
      "Index 172 given to:  (173, 429)\n",
      "Index 173 given to:  (174, 430)\n",
      "Index 174 given to:  (175, 431)\n",
      "Index 175 given to:  (176, 432)\n",
      "Index 176 given to:  (177, 433)\n",
      "Index 177 given to:  (178, 434)\n",
      "Index 178 given to:  (179, 435)\n",
      "Index 179 given to:  (180, 436)\n",
      "Index 180 given to:  (181, 437)\n",
      "Index 181 given to:  (182, 438)\n",
      "Index 182 given to:  (183, 439)\n",
      "Index 183 given to:  (184, 440)\n",
      "Index 184 given to:  (185, 441)\n",
      "Index 185 given to:  (186, 442)\n",
      "Index 186 given to:  (187, 443)\n",
      "Index 187 given to:  (188, 444)\n",
      "Index 188 given to:  (189, 445)\n",
      "Index 189 given to:  (190, 446)\n",
      "Index 190 given to:  (191, 447)\n",
      "Index 191 given to:  (192, 448)\n",
      "Index 192 given to:  (193, 449)\n",
      "Index 193 given to:  (194, 450)\n",
      "Index 194 given to:  (195, 451)\n",
      "Index 195 given to:  (196, 452)\n",
      "Index 196 given to:  (197, 453)\n",
      "Index 197 given to:  (198, 454)\n",
      "Index 198 given to:  (199, 455)\n",
      "Index 199 given to:  (200, 456)\n",
      "Index 200 given to:  (201, 457)\n",
      "Index 201 given to:  (202, 458)\n",
      "Index 202 given to:  (203, 459)\n",
      "Index 203 given to:  (204, 460)\n",
      "Index 204 given to:  (205, 461)\n",
      "Index 205 given to:  (206, 462)\n",
      "Index 206 given to:  (207, 463)\n",
      "Index 207 given to:  (208, 464)\n",
      "Index 208 given to:  (209, 465)\n",
      "Index 209 given to:  (210, 466)\n",
      "Index 210 given to:  (211, 467)\n",
      "Index 211 given to:  (212, 468)\n",
      "Index 212 given to:  (213, 469)\n",
      "Index 213 given to:  (214, 470)\n",
      "Index 214 given to:  (215, 471)\n",
      "Index 215 given to:  (216, 472)\n",
      "Index 216 given to:  (217, 473)\n",
      "Index 217 given to:  (218, 474)\n",
      "Index 218 given to:  (219, 475)\n",
      "Index 219 given to:  (220, 476)\n",
      "Index 220 given to:  (221, 477)\n",
      "Index 221 given to:  (222, 478)\n",
      "Index 222 given to:  (223, 479)\n",
      "Index 223 given to:  (224, 480)\n",
      "Index 224 given to:  (225, 481)\n",
      "Index 225 given to:  (226, 482)\n",
      "Index 226 given to:  (227, 483)\n",
      "Index 227 given to:  (228, 484)\n",
      "Index 228 given to:  (229, 485)\n",
      "Index 229 given to:  (230, 486)\n",
      "Index 230 given to:  (231, 487)\n",
      "Index 231 given to:  (232, 488)\n",
      "Index 232 given to:  (233, 489)\n",
      "Index 233 given to:  (234, 490)\n",
      "Index 234 given to:  (235, 491)\n",
      "Index 235 given to:  (236, 492)\n",
      "Index 236 given to:  (237, 493)\n",
      "Index 237 given to:  (238, 494)\n",
      "Index 238 given to:  (239, 495)\n",
      "Index 239 given to:  (240, 496)\n",
      "Index 240 given to:  (241, 497)\n",
      "Index 241 given to:  (242, 498)\n",
      "Index 242 given to:  (243, 499)\n",
      "Index 243 given to:  (244, 500)\n",
      "Index 244 given to:  (245, 501)\n",
      "Index 245 given to:  (246, 502)\n",
      "Index 246 given to:  (247, 503)\n",
      "Index 247 given to:  (248, 504)\n",
      "Index 248 given to:  (249, 505)\n",
      "Index 249 given to:  (250, 506)\n",
      "Index 250 given to:  (251, 507)\n",
      "Index 251 given to:  (252, 508)\n",
      "Index 252 given to:  (253, 509)\n",
      "Index 253 given to:  (254, 510)\n",
      "Index 254 given to:  (255, 511)\n",
      "Index 255 given to:  (256, 512)\n",
      "Index 256 given to:  (257, 513)\n"
     ]
    }
   ],
   "source": [
    "# Set up model and likelihood\n",
    "from gpytorch.likelihoods import GaussianLikelihood, FixedNoiseGaussianLikelihood\n",
    "model = TestModel(permutation=permutation, num_tasks = num_tasks, num_latents=num_latents, num_inducing=num_inducing,sample_inducing_from=X_train,inducing_weights=train_weights)\n",
    "likelihood = GaussianLikelihood()\n",
    "#likelihood = FixedNoiseGaussianLikelihood(noise=torch.tensor([0.01]))"
   ]
  },
  {
   "cell_type": "code",
   "execution_count": 102,
   "id": "62f4c29b-56ae-4eb3-afc8-b1be01a1a315",
   "metadata": {},
   "outputs": [
    {
     "data": {
      "text/plain": [
       "tensor([0.6932], grad_fn=<AddBackward0>)"
      ]
     },
     "execution_count": 102,
     "metadata": {},
     "output_type": "execute_result"
    }
   ],
   "source": [
    "likelihood.noise"
   ]
  },
  {
   "cell_type": "code",
   "execution_count": 103,
   "id": "fcab4459-a62d-442e-9b33-5a42f6c554ac",
   "metadata": {},
   "outputs": [
    {
     "data": {
      "text/plain": [
       "tensor([[0.1596, 0.1596, 0.2331, 0.1884, 0.2253, 0.1032, 0.1609, 0.3116, 0.0889,\n",
       "         0.7089, 0.1025, 0.1117, 0.9052, 0.2188, 0.2909, 0.1980, 0.2732, 0.2069,\n",
       "         0.1373, 0.1234, 0.3488, 0.2885, 0.1694, 0.4852, 0.1122, 0.2796, 0.2899,\n",
       "         0.0711, 0.2116, 0.1197, 0.2628, 0.1649, 0.1893, 0.2743, 0.1546, 0.3521,\n",
       "         0.1004, 0.1169, 0.1319, 0.1126, 0.1786, 0.2201, 0.1409, 0.1383, 0.1945,\n",
       "         0.1078, 0.2074, 0.0534, 0.1970, 0.1298, 0.3306, 0.1606, 0.1362, 0.3668,\n",
       "         0.1566, 0.1142, 0.1175, 0.2052, 0.1283, 0.2744, 0.6728, 0.2917, 0.0720,\n",
       "         0.2295, 0.1201, 0.1425, 0.2420, 0.1192, 0.1458, 0.1525, 0.3951, 0.4113,\n",
       "         0.3007, 0.2343, 0.1626, 0.0891, 0.2192, 0.1529, 0.1215, 0.1661, 0.1506,\n",
       "         0.3365, 0.1340, 0.0718, 0.1730, 0.0500, 0.1127, 0.2356, 0.3930, 0.3433,\n",
       "         0.2766, 0.1588, 0.2435, 0.2273, 0.4307, 0.0968, 0.0771, 0.2213, 0.2955,\n",
       "         0.1776, 0.1309, 0.2776, 0.0866, 0.1866, 0.2925, 0.2062, 0.1268, 0.1330,\n",
       "         0.1146, 0.2181, 0.1285, 0.1275, 0.1350, 0.1232, 0.2446, 0.1175, 0.0931,\n",
       "         0.1060, 0.2208, 0.1975, 0.5081, 0.2855, 0.1142, 0.2971, 0.1713, 0.2101,\n",
       "         0.2803, 0.3323, 0.1447, 0.1236, 0.2184, 0.2186, 0.1183, 0.2042, 0.1012,\n",
       "         0.1791, 0.2336, 0.1891, 0.2194, 0.2038, 0.2042, 0.1933, 0.1205, 0.4506,\n",
       "         0.1574, 0.1332, 0.1529, 0.3181, 0.1629, 0.1115, 0.1236, 0.2266, 0.2410,\n",
       "         0.2711, 0.1966, 0.1651, 0.3234, 0.1708, 0.3817, 0.2136, 0.1378, 0.2299,\n",
       "         0.1470, 0.1447, 0.4344, 0.1419, 0.1241, 0.2232, 0.1952, 0.2786, 0.1835,\n",
       "         0.1244, 0.2557, 0.3397, 0.6947, 0.2248, 0.1794, 0.3317, 0.1145, 0.3711,\n",
       "         0.2846, 0.3763, 0.1052, 0.2132, 0.0806, 0.2697, 0.1962, 0.1426, 0.1535,\n",
       "         0.7206, 0.3027, 0.2964, 0.4986, 0.2080, 0.1633, 0.0780, 0.2832, 0.5625,\n",
       "         0.1599, 0.4325, 0.1844, 0.2192, 0.2002, 0.2382, 0.1595, 0.1417, 0.1143,\n",
       "         0.1403, 0.2199, 0.3089, 0.0749, 0.2513, 0.1683, 0.1060, 0.1657, 0.1228,\n",
       "         0.1285, 0.2523, 0.1497, 0.2147, 0.1276, 0.1230, 0.1363, 0.1632, 0.1764,\n",
       "         0.1031, 0.3901, 0.3166, 0.2110, 0.0992, 0.2448, 0.3155, 0.3612, 0.1798,\n",
       "         0.1745, 0.1228, 0.1886, 0.1207, 0.1117, 0.1498, 0.1356, 0.1187, 0.1564,\n",
       "         0.0944, 0.1765, 0.1255, 0.1724, 0.1741, 0.2972, 0.1314, 0.1132, 0.3785,\n",
       "         0.3296, 0.1004, 0.2004, 0.1919, 0.3063, 0.1172, 0.2331, 0.1884, 0.2253,\n",
       "         0.1032, 0.1609, 0.3116, 0.0889, 0.7089, 0.1025, 0.1117, 0.9052, 0.2188,\n",
       "         0.2909, 0.1980, 0.2732, 0.2069, 0.1373, 0.1234, 0.3488, 0.2885, 0.1694,\n",
       "         0.4852, 0.1122, 0.2796, 0.2899, 0.0711, 0.2116, 0.1197, 0.2628, 0.1649,\n",
       "         0.1893, 0.2743, 0.1546, 0.3521, 0.1004, 0.1169, 0.1319, 0.1126, 0.1786,\n",
       "         0.2201, 0.1409, 0.1383, 0.1945, 0.1078, 0.2074, 0.0534, 0.1970, 0.1298,\n",
       "         0.3306, 0.1606, 0.1362, 0.3668, 0.1566, 0.1142, 0.1175, 0.2052, 0.1283,\n",
       "         0.2744, 0.6728, 0.2917, 0.0720, 0.2295, 0.1201, 0.1425, 0.2420, 0.1192,\n",
       "         0.1458, 0.1525, 0.3951, 0.4113, 0.3007, 0.2343, 0.1626, 0.0891, 0.2192,\n",
       "         0.1529, 0.1215, 0.1661, 0.1506, 0.3365, 0.1340, 0.0718, 0.1730, 0.0500,\n",
       "         0.1127, 0.2356, 0.3930, 0.3433, 0.2766, 0.1588, 0.2435, 0.2273, 0.4307,\n",
       "         0.0968, 0.0771, 0.2213, 0.2955, 0.1776, 0.1309, 0.2776, 0.0866, 0.1866,\n",
       "         0.2925, 0.2062, 0.1268, 0.1330, 0.1146, 0.2181, 0.1285, 0.1275, 0.1350,\n",
       "         0.1232, 0.2446, 0.1175, 0.0931, 0.1060, 0.2208, 0.1975, 0.5081, 0.2855,\n",
       "         0.1142, 0.2971, 0.1713, 0.2101, 0.2803, 0.3323, 0.1447, 0.1236, 0.2184,\n",
       "         0.2186, 0.1183, 0.2042, 0.1012, 0.1791, 0.2336, 0.1891, 0.2194, 0.2038,\n",
       "         0.2042, 0.1933, 0.1205, 0.4506, 0.1574, 0.1332, 0.1529, 0.3181, 0.1629,\n",
       "         0.1115, 0.1236, 0.2266, 0.2410, 0.2711, 0.1966, 0.1651, 0.3234, 0.1708,\n",
       "         0.3817, 0.2136, 0.1378, 0.2299, 0.1470, 0.1447, 0.4344, 0.1419, 0.1241,\n",
       "         0.2232, 0.1952, 0.2786, 0.1835, 0.1244, 0.2557, 0.3397, 0.6947, 0.2248,\n",
       "         0.1794, 0.3317, 0.1145, 0.3711, 0.2846, 0.3763, 0.1052, 0.2132, 0.0806,\n",
       "         0.2697, 0.1962, 0.1426, 0.1535, 0.7206, 0.3027, 0.2964, 0.4986, 0.2080,\n",
       "         0.1633, 0.0780, 0.2832, 0.5625, 0.1599, 0.4325, 0.1844, 0.2192, 0.2002,\n",
       "         0.2382, 0.1595, 0.1417, 0.1143, 0.1403, 0.2199, 0.3089, 0.0749, 0.2513,\n",
       "         0.1683, 0.1060, 0.1657, 0.1228, 0.1285, 0.2523, 0.1497, 0.2147, 0.1276,\n",
       "         0.1230, 0.1363, 0.1632, 0.1764, 0.1031, 0.3901, 0.3166, 0.2110, 0.0992,\n",
       "         0.2448, 0.3155, 0.3612, 0.1798, 0.1745, 0.1228, 0.1886, 0.1207, 0.1117,\n",
       "         0.1498, 0.1356, 0.1187, 0.1564, 0.0944, 0.1765, 0.1255, 0.1724, 0.1741,\n",
       "         0.2972, 0.1314, 0.1132, 0.3785, 0.3296, 0.1004, 0.2004, 0.1919, 0.3063,\n",
       "         0.1172]], grad_fn=<AddBackward0>)"
      ]
     },
     "execution_count": 103,
     "metadata": {},
     "output_type": "execute_result"
    }
   ],
   "source": [
    "model.covar_module.base_kernel.lengthscale"
   ]
  },
  {
   "cell_type": "code",
   "execution_count": 104,
   "id": "890b7538-a43a-4246-9f6b-2c84bf0955c5",
   "metadata": {},
   "outputs": [
    {
     "data": {
      "text/plain": [
       "torch.Size([2, 500, 514])"
      ]
     },
     "execution_count": 104,
     "metadata": {},
     "output_type": "execute_result"
    }
   ],
   "source": [
    "model.variational_strategy.base_variational_strategy.inducing_points.shape"
   ]
  },
  {
   "cell_type": "code",
   "execution_count": 105,
   "id": "6a501455-b6ae-43a7-9fe7-a4ada305f6fb",
   "metadata": {},
   "outputs": [
    {
     "data": {
      "text/plain": [
       "Parameter containing:\n",
       "tensor([[-0.7884],\n",
       "        [ 0.7800]], requires_grad=True)"
      ]
     },
     "execution_count": 105,
     "metadata": {},
     "output_type": "execute_result"
    }
   ],
   "source": [
    "model.variational_strategy.lmc_coefficients"
   ]
  },
  {
   "cell_type": "code",
   "execution_count": 106,
   "id": "795e0a2c-1e38-40f5-b17b-1006943a9ec4",
   "metadata": {},
   "outputs": [],
   "source": [
    "from torch.optim.lr_scheduler import MultiStepLR\n",
    "from gpytorch.mlls import VariationalELBO\n",
    "# Now define the loss and set up the optimization\n",
    "hyperparameter_optimizer = None\n",
    "variational_ngd_optimizer = None\n",
    "scheduler_hypers = None\n",
    "scheduler_variational = None\n",
    "vardistr = \"nat\"\n",
    "if vardistr == \"nat\":\n",
    "    hyperparameter_optimizer = torch.optim.Adam([\n",
    "        {'params': model.hyperparameters()},\n",
    "        {'params': likelihood.parameters()},\n",
    "    ], lr = initial_lr)\n",
    "    variational_ngd_optimizer = gpytorch.optim.NGD(\n",
    "        model.variational_parameters(),\n",
    "        num_data=y_train.size(0), lr=float(10*initial_lr))\n",
    "    scheduler_variational = MultiStepLR(variational_ngd_optimizer,\n",
    "                                        milestones=[int(0.25*num_epochs),int(0.5*num_epochs),int(0.75*num_epochs)],\n",
    "                                        gamma=0.5)\n",
    "else:\n",
    "    hyperparameter_optimizer = torch.optim.Adam([\n",
    "        {'params': model.parameters()},\n",
    "        {'params': likelihood.parameters()},\n",
    "    ], lr=initial_lr)\n",
    "\n",
    "scheduler_hypers = MultiStepLR(hyperparameter_optimizer,\n",
    "                               milestones=[int(0.25*num_epochs),int(0.5 * num_epochs), int(0.75 * num_epochs)],\n",
    "                               gamma=0.5)\n",
    "\n",
    "# Defining the loss:\n",
    "mll = VariationalELBO(likelihood,model,num_data=y_train.size(0))\n",
    "\n",
    "# Tracking loss\n",
    "train_loss = []"
   ]
  },
  {
   "cell_type": "code",
   "execution_count": 107,
   "id": "7b6f1fe7-0f90-4938-8883-8b9dc466ae36",
   "metadata": {
    "scrolled": true
   },
   "outputs": [
    {
     "data": {
      "application/vnd.jupyter.widget-view+json": {
       "model_id": "5c8248e0f27e4949a5a27c72bfc0dcfa",
       "version_major": 2,
       "version_minor": 0
      },
      "text/plain": [
       "Epoch:   0%|          | 0/400 [00:00<?, ?it/s]"
      ]
     },
     "metadata": {},
     "output_type": "display_data"
    },
    {
     "data": {
      "application/vnd.jupyter.widget-view+json": {
       "model_id": "",
       "version_major": 2,
       "version_minor": 0
      },
      "text/plain": [
       "Minibatch:   0%|          | 0/8 [00:00<?, ?it/s]"
      ]
     },
     "metadata": {},
     "output_type": "display_data"
    },
    {
     "data": {
      "application/vnd.jupyter.widget-view+json": {
       "model_id": "",
       "version_major": 2,
       "version_minor": 0
      },
      "text/plain": [
       "Minibatch:   0%|          | 0/8 [00:00<?, ?it/s]"
      ]
     },
     "metadata": {},
     "output_type": "display_data"
    },
    {
     "data": {
      "application/vnd.jupyter.widget-view+json": {
       "model_id": "",
       "version_major": 2,
       "version_minor": 0
      },
      "text/plain": [
       "Minibatch:   0%|          | 0/8 [00:00<?, ?it/s]"
      ]
     },
     "metadata": {},
     "output_type": "display_data"
    },
    {
     "data": {
      "application/vnd.jupyter.widget-view+json": {
       "model_id": "",
       "version_major": 2,
       "version_minor": 0
      },
      "text/plain": [
       "Minibatch:   0%|          | 0/8 [00:00<?, ?it/s]"
      ]
     },
     "metadata": {},
     "output_type": "display_data"
    },
    {
     "data": {
      "application/vnd.jupyter.widget-view+json": {
       "model_id": "",
       "version_major": 2,
       "version_minor": 0
      },
      "text/plain": [
       "Minibatch:   0%|          | 0/8 [00:00<?, ?it/s]"
      ]
     },
     "metadata": {},
     "output_type": "display_data"
    },
    {
     "name": "stderr",
     "output_type": "stream",
     "text": [
      "/Users/leiv/opt/anaconda3/envs/pimogp/lib/python3.12/site-packages/linear_operator/utils/cholesky.py:40: NumericalWarning: A not p.d., added jitter of 1.0e-06 to the diagonal\n",
      "  warnings.warn(\n",
      "/Users/leiv/opt/anaconda3/envs/pimogp/lib/python3.12/site-packages/linear_operator/utils/cholesky.py:40: NumericalWarning: A not p.d., added jitter of 1.0e-05 to the diagonal\n",
      "  warnings.warn(\n"
     ]
    },
    {
     "data": {
      "application/vnd.jupyter.widget-view+json": {
       "model_id": "",
       "version_major": 2,
       "version_minor": 0
      },
      "text/plain": [
       "Minibatch:   0%|          | 0/8 [00:00<?, ?it/s]"
      ]
     },
     "metadata": {},
     "output_type": "display_data"
    },
    {
     "data": {
      "application/vnd.jupyter.widget-view+json": {
       "model_id": "",
       "version_major": 2,
       "version_minor": 0
      },
      "text/plain": [
       "Minibatch:   0%|          | 0/8 [00:00<?, ?it/s]"
      ]
     },
     "metadata": {},
     "output_type": "display_data"
    },
    {
     "name": "stderr",
     "output_type": "stream",
     "text": [
      "/Users/leiv/opt/anaconda3/envs/pimogp/lib/python3.12/site-packages/linear_operator/utils/cholesky.py:40: NumericalWarning: A not p.d., added jitter of 1.0e-04 to the diagonal\n",
      "  warnings.warn(\n"
     ]
    },
    {
     "data": {
      "application/vnd.jupyter.widget-view+json": {
       "model_id": "",
       "version_major": 2,
       "version_minor": 0
      },
      "text/plain": [
       "Minibatch:   0%|          | 0/8 [00:00<?, ?it/s]"
      ]
     },
     "metadata": {},
     "output_type": "display_data"
    },
    {
     "data": {
      "application/vnd.jupyter.widget-view+json": {
       "model_id": "",
       "version_major": 2,
       "version_minor": 0
      },
      "text/plain": [
       "Minibatch:   0%|          | 0/8 [00:00<?, ?it/s]"
      ]
     },
     "metadata": {},
     "output_type": "display_data"
    },
    {
     "data": {
      "application/vnd.jupyter.widget-view+json": {
       "model_id": "",
       "version_major": 2,
       "version_minor": 0
      },
      "text/plain": [
       "Minibatch:   0%|          | 0/8 [00:00<?, ?it/s]"
      ]
     },
     "metadata": {},
     "output_type": "display_data"
    },
    {
     "data": {
      "application/vnd.jupyter.widget-view+json": {
       "model_id": "",
       "version_major": 2,
       "version_minor": 0
      },
      "text/plain": [
       "Minibatch:   0%|          | 0/8 [00:00<?, ?it/s]"
      ]
     },
     "metadata": {},
     "output_type": "display_data"
    },
    {
     "data": {
      "application/vnd.jupyter.widget-view+json": {
       "model_id": "",
       "version_major": 2,
       "version_minor": 0
      },
      "text/plain": [
       "Minibatch:   0%|          | 0/8 [00:00<?, ?it/s]"
      ]
     },
     "metadata": {},
     "output_type": "display_data"
    },
    {
     "data": {
      "application/vnd.jupyter.widget-view+json": {
       "model_id": "",
       "version_major": 2,
       "version_minor": 0
      },
      "text/plain": [
       "Minibatch:   0%|          | 0/8 [00:00<?, ?it/s]"
      ]
     },
     "metadata": {},
     "output_type": "display_data"
    },
    {
     "data": {
      "application/vnd.jupyter.widget-view+json": {
       "model_id": "",
       "version_major": 2,
       "version_minor": 0
      },
      "text/plain": [
       "Minibatch:   0%|          | 0/8 [00:00<?, ?it/s]"
      ]
     },
     "metadata": {},
     "output_type": "display_data"
    },
    {
     "data": {
      "application/vnd.jupyter.widget-view+json": {
       "model_id": "",
       "version_major": 2,
       "version_minor": 0
      },
      "text/plain": [
       "Minibatch:   0%|          | 0/8 [00:00<?, ?it/s]"
      ]
     },
     "metadata": {},
     "output_type": "display_data"
    },
    {
     "data": {
      "application/vnd.jupyter.widget-view+json": {
       "model_id": "",
       "version_major": 2,
       "version_minor": 0
      },
      "text/plain": [
       "Minibatch:   0%|          | 0/8 [00:00<?, ?it/s]"
      ]
     },
     "metadata": {},
     "output_type": "display_data"
    },
    {
     "data": {
      "application/vnd.jupyter.widget-view+json": {
       "model_id": "",
       "version_major": 2,
       "version_minor": 0
      },
      "text/plain": [
       "Minibatch:   0%|          | 0/8 [00:00<?, ?it/s]"
      ]
     },
     "metadata": {},
     "output_type": "display_data"
    },
    {
     "data": {
      "application/vnd.jupyter.widget-view+json": {
       "model_id": "",
       "version_major": 2,
       "version_minor": 0
      },
      "text/plain": [
       "Minibatch:   0%|          | 0/8 [00:00<?, ?it/s]"
      ]
     },
     "metadata": {},
     "output_type": "display_data"
    },
    {
     "data": {
      "application/vnd.jupyter.widget-view+json": {
       "model_id": "",
       "version_major": 2,
       "version_minor": 0
      },
      "text/plain": [
       "Minibatch:   0%|          | 0/8 [00:00<?, ?it/s]"
      ]
     },
     "metadata": {},
     "output_type": "display_data"
    },
    {
     "data": {
      "application/vnd.jupyter.widget-view+json": {
       "model_id": "",
       "version_major": 2,
       "version_minor": 0
      },
      "text/plain": [
       "Minibatch:   0%|          | 0/8 [00:00<?, ?it/s]"
      ]
     },
     "metadata": {},
     "output_type": "display_data"
    },
    {
     "data": {
      "application/vnd.jupyter.widget-view+json": {
       "model_id": "",
       "version_major": 2,
       "version_minor": 0
      },
      "text/plain": [
       "Minibatch:   0%|          | 0/8 [00:00<?, ?it/s]"
      ]
     },
     "metadata": {},
     "output_type": "display_data"
    },
    {
     "data": {
      "application/vnd.jupyter.widget-view+json": {
       "model_id": "",
       "version_major": 2,
       "version_minor": 0
      },
      "text/plain": [
       "Minibatch:   0%|          | 0/8 [00:00<?, ?it/s]"
      ]
     },
     "metadata": {},
     "output_type": "display_data"
    },
    {
     "data": {
      "application/vnd.jupyter.widget-view+json": {
       "model_id": "",
       "version_major": 2,
       "version_minor": 0
      },
      "text/plain": [
       "Minibatch:   0%|          | 0/8 [00:00<?, ?it/s]"
      ]
     },
     "metadata": {},
     "output_type": "display_data"
    },
    {
     "data": {
      "application/vnd.jupyter.widget-view+json": {
       "model_id": "",
       "version_major": 2,
       "version_minor": 0
      },
      "text/plain": [
       "Minibatch:   0%|          | 0/8 [00:00<?, ?it/s]"
      ]
     },
     "metadata": {},
     "output_type": "display_data"
    },
    {
     "data": {
      "application/vnd.jupyter.widget-view+json": {
       "model_id": "",
       "version_major": 2,
       "version_minor": 0
      },
      "text/plain": [
       "Minibatch:   0%|          | 0/8 [00:00<?, ?it/s]"
      ]
     },
     "metadata": {},
     "output_type": "display_data"
    },
    {
     "data": {
      "application/vnd.jupyter.widget-view+json": {
       "model_id": "",
       "version_major": 2,
       "version_minor": 0
      },
      "text/plain": [
       "Minibatch:   0%|          | 0/8 [00:00<?, ?it/s]"
      ]
     },
     "metadata": {},
     "output_type": "display_data"
    },
    {
     "data": {
      "application/vnd.jupyter.widget-view+json": {
       "model_id": "",
       "version_major": 2,
       "version_minor": 0
      },
      "text/plain": [
       "Minibatch:   0%|          | 0/8 [00:00<?, ?it/s]"
      ]
     },
     "metadata": {},
     "output_type": "display_data"
    },
    {
     "data": {
      "application/vnd.jupyter.widget-view+json": {
       "model_id": "",
       "version_major": 2,
       "version_minor": 0
      },
      "text/plain": [
       "Minibatch:   0%|          | 0/8 [00:00<?, ?it/s]"
      ]
     },
     "metadata": {},
     "output_type": "display_data"
    },
    {
     "data": {
      "application/vnd.jupyter.widget-view+json": {
       "model_id": "",
       "version_major": 2,
       "version_minor": 0
      },
      "text/plain": [
       "Minibatch:   0%|          | 0/8 [00:00<?, ?it/s]"
      ]
     },
     "metadata": {},
     "output_type": "display_data"
    },
    {
     "data": {
      "application/vnd.jupyter.widget-view+json": {
       "model_id": "",
       "version_major": 2,
       "version_minor": 0
      },
      "text/plain": [
       "Minibatch:   0%|          | 0/8 [00:00<?, ?it/s]"
      ]
     },
     "metadata": {},
     "output_type": "display_data"
    },
    {
     "data": {
      "application/vnd.jupyter.widget-view+json": {
       "model_id": "",
       "version_major": 2,
       "version_minor": 0
      },
      "text/plain": [
       "Minibatch:   0%|          | 0/8 [00:00<?, ?it/s]"
      ]
     },
     "metadata": {},
     "output_type": "display_data"
    },
    {
     "data": {
      "application/vnd.jupyter.widget-view+json": {
       "model_id": "",
       "version_major": 2,
       "version_minor": 0
      },
      "text/plain": [
       "Minibatch:   0%|          | 0/8 [00:00<?, ?it/s]"
      ]
     },
     "metadata": {},
     "output_type": "display_data"
    },
    {
     "data": {
      "application/vnd.jupyter.widget-view+json": {
       "model_id": "",
       "version_major": 2,
       "version_minor": 0
      },
      "text/plain": [
       "Minibatch:   0%|          | 0/8 [00:00<?, ?it/s]"
      ]
     },
     "metadata": {},
     "output_type": "display_data"
    },
    {
     "data": {
      "application/vnd.jupyter.widget-view+json": {
       "model_id": "",
       "version_major": 2,
       "version_minor": 0
      },
      "text/plain": [
       "Minibatch:   0%|          | 0/8 [00:00<?, ?it/s]"
      ]
     },
     "metadata": {},
     "output_type": "display_data"
    },
    {
     "data": {
      "application/vnd.jupyter.widget-view+json": {
       "model_id": "",
       "version_major": 2,
       "version_minor": 0
      },
      "text/plain": [
       "Minibatch:   0%|          | 0/8 [00:00<?, ?it/s]"
      ]
     },
     "metadata": {},
     "output_type": "display_data"
    },
    {
     "data": {
      "application/vnd.jupyter.widget-view+json": {
       "model_id": "",
       "version_major": 2,
       "version_minor": 0
      },
      "text/plain": [
       "Minibatch:   0%|          | 0/8 [00:00<?, ?it/s]"
      ]
     },
     "metadata": {},
     "output_type": "display_data"
    },
    {
     "data": {
      "application/vnd.jupyter.widget-view+json": {
       "model_id": "",
       "version_major": 2,
       "version_minor": 0
      },
      "text/plain": [
       "Minibatch:   0%|          | 0/8 [00:00<?, ?it/s]"
      ]
     },
     "metadata": {},
     "output_type": "display_data"
    },
    {
     "data": {
      "application/vnd.jupyter.widget-view+json": {
       "model_id": "",
       "version_major": 2,
       "version_minor": 0
      },
      "text/plain": [
       "Minibatch:   0%|          | 0/8 [00:00<?, ?it/s]"
      ]
     },
     "metadata": {},
     "output_type": "display_data"
    },
    {
     "data": {
      "application/vnd.jupyter.widget-view+json": {
       "model_id": "",
       "version_major": 2,
       "version_minor": 0
      },
      "text/plain": [
       "Minibatch:   0%|          | 0/8 [00:00<?, ?it/s]"
      ]
     },
     "metadata": {},
     "output_type": "display_data"
    },
    {
     "data": {
      "application/vnd.jupyter.widget-view+json": {
       "model_id": "",
       "version_major": 2,
       "version_minor": 0
      },
      "text/plain": [
       "Minibatch:   0%|          | 0/8 [00:00<?, ?it/s]"
      ]
     },
     "metadata": {},
     "output_type": "display_data"
    },
    {
     "data": {
      "application/vnd.jupyter.widget-view+json": {
       "model_id": "",
       "version_major": 2,
       "version_minor": 0
      },
      "text/plain": [
       "Minibatch:   0%|          | 0/8 [00:00<?, ?it/s]"
      ]
     },
     "metadata": {},
     "output_type": "display_data"
    },
    {
     "data": {
      "application/vnd.jupyter.widget-view+json": {
       "model_id": "",
       "version_major": 2,
       "version_minor": 0
      },
      "text/plain": [
       "Minibatch:   0%|          | 0/8 [00:00<?, ?it/s]"
      ]
     },
     "metadata": {},
     "output_type": "display_data"
    },
    {
     "data": {
      "application/vnd.jupyter.widget-view+json": {
       "model_id": "",
       "version_major": 2,
       "version_minor": 0
      },
      "text/plain": [
       "Minibatch:   0%|          | 0/8 [00:00<?, ?it/s]"
      ]
     },
     "metadata": {},
     "output_type": "display_data"
    },
    {
     "data": {
      "application/vnd.jupyter.widget-view+json": {
       "model_id": "",
       "version_major": 2,
       "version_minor": 0
      },
      "text/plain": [
       "Minibatch:   0%|          | 0/8 [00:00<?, ?it/s]"
      ]
     },
     "metadata": {},
     "output_type": "display_data"
    },
    {
     "data": {
      "application/vnd.jupyter.widget-view+json": {
       "model_id": "",
       "version_major": 2,
       "version_minor": 0
      },
      "text/plain": [
       "Minibatch:   0%|          | 0/8 [00:00<?, ?it/s]"
      ]
     },
     "metadata": {},
     "output_type": "display_data"
    },
    {
     "data": {
      "application/vnd.jupyter.widget-view+json": {
       "model_id": "",
       "version_major": 2,
       "version_minor": 0
      },
      "text/plain": [
       "Minibatch:   0%|          | 0/8 [00:00<?, ?it/s]"
      ]
     },
     "metadata": {},
     "output_type": "display_data"
    },
    {
     "data": {
      "application/vnd.jupyter.widget-view+json": {
       "model_id": "",
       "version_major": 2,
       "version_minor": 0
      },
      "text/plain": [
       "Minibatch:   0%|          | 0/8 [00:00<?, ?it/s]"
      ]
     },
     "metadata": {},
     "output_type": "display_data"
    },
    {
     "data": {
      "application/vnd.jupyter.widget-view+json": {
       "model_id": "",
       "version_major": 2,
       "version_minor": 0
      },
      "text/plain": [
       "Minibatch:   0%|          | 0/8 [00:00<?, ?it/s]"
      ]
     },
     "metadata": {},
     "output_type": "display_data"
    },
    {
     "data": {
      "application/vnd.jupyter.widget-view+json": {
       "model_id": "",
       "version_major": 2,
       "version_minor": 0
      },
      "text/plain": [
       "Minibatch:   0%|          | 0/8 [00:00<?, ?it/s]"
      ]
     },
     "metadata": {},
     "output_type": "display_data"
    },
    {
     "data": {
      "application/vnd.jupyter.widget-view+json": {
       "model_id": "",
       "version_major": 2,
       "version_minor": 0
      },
      "text/plain": [
       "Minibatch:   0%|          | 0/8 [00:00<?, ?it/s]"
      ]
     },
     "metadata": {},
     "output_type": "display_data"
    },
    {
     "data": {
      "application/vnd.jupyter.widget-view+json": {
       "model_id": "",
       "version_major": 2,
       "version_minor": 0
      },
      "text/plain": [
       "Minibatch:   0%|          | 0/8 [00:00<?, ?it/s]"
      ]
     },
     "metadata": {},
     "output_type": "display_data"
    },
    {
     "data": {
      "application/vnd.jupyter.widget-view+json": {
       "model_id": "",
       "version_major": 2,
       "version_minor": 0
      },
      "text/plain": [
       "Minibatch:   0%|          | 0/8 [00:00<?, ?it/s]"
      ]
     },
     "metadata": {},
     "output_type": "display_data"
    },
    {
     "data": {
      "application/vnd.jupyter.widget-view+json": {
       "model_id": "",
       "version_major": 2,
       "version_minor": 0
      },
      "text/plain": [
       "Minibatch:   0%|          | 0/8 [00:00<?, ?it/s]"
      ]
     },
     "metadata": {},
     "output_type": "display_data"
    },
    {
     "data": {
      "application/vnd.jupyter.widget-view+json": {
       "model_id": "",
       "version_major": 2,
       "version_minor": 0
      },
      "text/plain": [
       "Minibatch:   0%|          | 0/8 [00:00<?, ?it/s]"
      ]
     },
     "metadata": {},
     "output_type": "display_data"
    },
    {
     "data": {
      "application/vnd.jupyter.widget-view+json": {
       "model_id": "",
       "version_major": 2,
       "version_minor": 0
      },
      "text/plain": [
       "Minibatch:   0%|          | 0/8 [00:00<?, ?it/s]"
      ]
     },
     "metadata": {},
     "output_type": "display_data"
    },
    {
     "data": {
      "application/vnd.jupyter.widget-view+json": {
       "model_id": "",
       "version_major": 2,
       "version_minor": 0
      },
      "text/plain": [
       "Minibatch:   0%|          | 0/8 [00:00<?, ?it/s]"
      ]
     },
     "metadata": {},
     "output_type": "display_data"
    },
    {
     "data": {
      "application/vnd.jupyter.widget-view+json": {
       "model_id": "",
       "version_major": 2,
       "version_minor": 0
      },
      "text/plain": [
       "Minibatch:   0%|          | 0/8 [00:00<?, ?it/s]"
      ]
     },
     "metadata": {},
     "output_type": "display_data"
    },
    {
     "data": {
      "application/vnd.jupyter.widget-view+json": {
       "model_id": "",
       "version_major": 2,
       "version_minor": 0
      },
      "text/plain": [
       "Minibatch:   0%|          | 0/8 [00:00<?, ?it/s]"
      ]
     },
     "metadata": {},
     "output_type": "display_data"
    },
    {
     "data": {
      "application/vnd.jupyter.widget-view+json": {
       "model_id": "",
       "version_major": 2,
       "version_minor": 0
      },
      "text/plain": [
       "Minibatch:   0%|          | 0/8 [00:00<?, ?it/s]"
      ]
     },
     "metadata": {},
     "output_type": "display_data"
    },
    {
     "data": {
      "application/vnd.jupyter.widget-view+json": {
       "model_id": "",
       "version_major": 2,
       "version_minor": 0
      },
      "text/plain": [
       "Minibatch:   0%|          | 0/8 [00:00<?, ?it/s]"
      ]
     },
     "metadata": {},
     "output_type": "display_data"
    },
    {
     "data": {
      "application/vnd.jupyter.widget-view+json": {
       "model_id": "",
       "version_major": 2,
       "version_minor": 0
      },
      "text/plain": [
       "Minibatch:   0%|          | 0/8 [00:00<?, ?it/s]"
      ]
     },
     "metadata": {},
     "output_type": "display_data"
    },
    {
     "data": {
      "application/vnd.jupyter.widget-view+json": {
       "model_id": "",
       "version_major": 2,
       "version_minor": 0
      },
      "text/plain": [
       "Minibatch:   0%|          | 0/8 [00:00<?, ?it/s]"
      ]
     },
     "metadata": {},
     "output_type": "display_data"
    },
    {
     "data": {
      "application/vnd.jupyter.widget-view+json": {
       "model_id": "",
       "version_major": 2,
       "version_minor": 0
      },
      "text/plain": [
       "Minibatch:   0%|          | 0/8 [00:00<?, ?it/s]"
      ]
     },
     "metadata": {},
     "output_type": "display_data"
    },
    {
     "data": {
      "application/vnd.jupyter.widget-view+json": {
       "model_id": "",
       "version_major": 2,
       "version_minor": 0
      },
      "text/plain": [
       "Minibatch:   0%|          | 0/8 [00:00<?, ?it/s]"
      ]
     },
     "metadata": {},
     "output_type": "display_data"
    },
    {
     "data": {
      "application/vnd.jupyter.widget-view+json": {
       "model_id": "",
       "version_major": 2,
       "version_minor": 0
      },
      "text/plain": [
       "Minibatch:   0%|          | 0/8 [00:00<?, ?it/s]"
      ]
     },
     "metadata": {},
     "output_type": "display_data"
    },
    {
     "data": {
      "application/vnd.jupyter.widget-view+json": {
       "model_id": "",
       "version_major": 2,
       "version_minor": 0
      },
      "text/plain": [
       "Minibatch:   0%|          | 0/8 [00:00<?, ?it/s]"
      ]
     },
     "metadata": {},
     "output_type": "display_data"
    },
    {
     "data": {
      "application/vnd.jupyter.widget-view+json": {
       "model_id": "",
       "version_major": 2,
       "version_minor": 0
      },
      "text/plain": [
       "Minibatch:   0%|          | 0/8 [00:00<?, ?it/s]"
      ]
     },
     "metadata": {},
     "output_type": "display_data"
    },
    {
     "data": {
      "application/vnd.jupyter.widget-view+json": {
       "model_id": "",
       "version_major": 2,
       "version_minor": 0
      },
      "text/plain": [
       "Minibatch:   0%|          | 0/8 [00:00<?, ?it/s]"
      ]
     },
     "metadata": {},
     "output_type": "display_data"
    },
    {
     "data": {
      "application/vnd.jupyter.widget-view+json": {
       "model_id": "",
       "version_major": 2,
       "version_minor": 0
      },
      "text/plain": [
       "Minibatch:   0%|          | 0/8 [00:00<?, ?it/s]"
      ]
     },
     "metadata": {},
     "output_type": "display_data"
    },
    {
     "data": {
      "application/vnd.jupyter.widget-view+json": {
       "model_id": "",
       "version_major": 2,
       "version_minor": 0
      },
      "text/plain": [
       "Minibatch:   0%|          | 0/8 [00:00<?, ?it/s]"
      ]
     },
     "metadata": {},
     "output_type": "display_data"
    },
    {
     "data": {
      "application/vnd.jupyter.widget-view+json": {
       "model_id": "",
       "version_major": 2,
       "version_minor": 0
      },
      "text/plain": [
       "Minibatch:   0%|          | 0/8 [00:00<?, ?it/s]"
      ]
     },
     "metadata": {},
     "output_type": "display_data"
    },
    {
     "data": {
      "application/vnd.jupyter.widget-view+json": {
       "model_id": "",
       "version_major": 2,
       "version_minor": 0
      },
      "text/plain": [
       "Minibatch:   0%|          | 0/8 [00:00<?, ?it/s]"
      ]
     },
     "metadata": {},
     "output_type": "display_data"
    },
    {
     "data": {
      "application/vnd.jupyter.widget-view+json": {
       "model_id": "",
       "version_major": 2,
       "version_minor": 0
      },
      "text/plain": [
       "Minibatch:   0%|          | 0/8 [00:00<?, ?it/s]"
      ]
     },
     "metadata": {},
     "output_type": "display_data"
    },
    {
     "data": {
      "application/vnd.jupyter.widget-view+json": {
       "model_id": "",
       "version_major": 2,
       "version_minor": 0
      },
      "text/plain": [
       "Minibatch:   0%|          | 0/8 [00:00<?, ?it/s]"
      ]
     },
     "metadata": {},
     "output_type": "display_data"
    },
    {
     "data": {
      "application/vnd.jupyter.widget-view+json": {
       "model_id": "",
       "version_major": 2,
       "version_minor": 0
      },
      "text/plain": [
       "Minibatch:   0%|          | 0/8 [00:00<?, ?it/s]"
      ]
     },
     "metadata": {},
     "output_type": "display_data"
    },
    {
     "data": {
      "application/vnd.jupyter.widget-view+json": {
       "model_id": "",
       "version_major": 2,
       "version_minor": 0
      },
      "text/plain": [
       "Minibatch:   0%|          | 0/8 [00:00<?, ?it/s]"
      ]
     },
     "metadata": {},
     "output_type": "display_data"
    },
    {
     "data": {
      "application/vnd.jupyter.widget-view+json": {
       "model_id": "",
       "version_major": 2,
       "version_minor": 0
      },
      "text/plain": [
       "Minibatch:   0%|          | 0/8 [00:00<?, ?it/s]"
      ]
     },
     "metadata": {},
     "output_type": "display_data"
    },
    {
     "data": {
      "application/vnd.jupyter.widget-view+json": {
       "model_id": "",
       "version_major": 2,
       "version_minor": 0
      },
      "text/plain": [
       "Minibatch:   0%|          | 0/8 [00:00<?, ?it/s]"
      ]
     },
     "metadata": {},
     "output_type": "display_data"
    },
    {
     "data": {
      "application/vnd.jupyter.widget-view+json": {
       "model_id": "",
       "version_major": 2,
       "version_minor": 0
      },
      "text/plain": [
       "Minibatch:   0%|          | 0/8 [00:00<?, ?it/s]"
      ]
     },
     "metadata": {},
     "output_type": "display_data"
    },
    {
     "data": {
      "application/vnd.jupyter.widget-view+json": {
       "model_id": "",
       "version_major": 2,
       "version_minor": 0
      },
      "text/plain": [
       "Minibatch:   0%|          | 0/8 [00:00<?, ?it/s]"
      ]
     },
     "metadata": {},
     "output_type": "display_data"
    },
    {
     "data": {
      "application/vnd.jupyter.widget-view+json": {
       "model_id": "",
       "version_major": 2,
       "version_minor": 0
      },
      "text/plain": [
       "Minibatch:   0%|          | 0/8 [00:00<?, ?it/s]"
      ]
     },
     "metadata": {},
     "output_type": "display_data"
    },
    {
     "data": {
      "application/vnd.jupyter.widget-view+json": {
       "model_id": "",
       "version_major": 2,
       "version_minor": 0
      },
      "text/plain": [
       "Minibatch:   0%|          | 0/8 [00:00<?, ?it/s]"
      ]
     },
     "metadata": {},
     "output_type": "display_data"
    },
    {
     "data": {
      "application/vnd.jupyter.widget-view+json": {
       "model_id": "",
       "version_major": 2,
       "version_minor": 0
      },
      "text/plain": [
       "Minibatch:   0%|          | 0/8 [00:00<?, ?it/s]"
      ]
     },
     "metadata": {},
     "output_type": "display_data"
    },
    {
     "data": {
      "application/vnd.jupyter.widget-view+json": {
       "model_id": "",
       "version_major": 2,
       "version_minor": 0
      },
      "text/plain": [
       "Minibatch:   0%|          | 0/8 [00:00<?, ?it/s]"
      ]
     },
     "metadata": {},
     "output_type": "display_data"
    },
    {
     "data": {
      "application/vnd.jupyter.widget-view+json": {
       "model_id": "",
       "version_major": 2,
       "version_minor": 0
      },
      "text/plain": [
       "Minibatch:   0%|          | 0/8 [00:00<?, ?it/s]"
      ]
     },
     "metadata": {},
     "output_type": "display_data"
    },
    {
     "data": {
      "application/vnd.jupyter.widget-view+json": {
       "model_id": "",
       "version_major": 2,
       "version_minor": 0
      },
      "text/plain": [
       "Minibatch:   0%|          | 0/8 [00:00<?, ?it/s]"
      ]
     },
     "metadata": {},
     "output_type": "display_data"
    },
    {
     "data": {
      "application/vnd.jupyter.widget-view+json": {
       "model_id": "",
       "version_major": 2,
       "version_minor": 0
      },
      "text/plain": [
       "Minibatch:   0%|          | 0/8 [00:00<?, ?it/s]"
      ]
     },
     "metadata": {},
     "output_type": "display_data"
    },
    {
     "data": {
      "application/vnd.jupyter.widget-view+json": {
       "model_id": "",
       "version_major": 2,
       "version_minor": 0
      },
      "text/plain": [
       "Minibatch:   0%|          | 0/8 [00:00<?, ?it/s]"
      ]
     },
     "metadata": {},
     "output_type": "display_data"
    },
    {
     "data": {
      "application/vnd.jupyter.widget-view+json": {
       "model_id": "",
       "version_major": 2,
       "version_minor": 0
      },
      "text/plain": [
       "Minibatch:   0%|          | 0/8 [00:00<?, ?it/s]"
      ]
     },
     "metadata": {},
     "output_type": "display_data"
    },
    {
     "data": {
      "application/vnd.jupyter.widget-view+json": {
       "model_id": "",
       "version_major": 2,
       "version_minor": 0
      },
      "text/plain": [
       "Minibatch:   0%|          | 0/8 [00:00<?, ?it/s]"
      ]
     },
     "metadata": {},
     "output_type": "display_data"
    },
    {
     "data": {
      "application/vnd.jupyter.widget-view+json": {
       "model_id": "",
       "version_major": 2,
       "version_minor": 0
      },
      "text/plain": [
       "Minibatch:   0%|          | 0/8 [00:00<?, ?it/s]"
      ]
     },
     "metadata": {},
     "output_type": "display_data"
    },
    {
     "data": {
      "application/vnd.jupyter.widget-view+json": {
       "model_id": "",
       "version_major": 2,
       "version_minor": 0
      },
      "text/plain": [
       "Minibatch:   0%|          | 0/8 [00:00<?, ?it/s]"
      ]
     },
     "metadata": {},
     "output_type": "display_data"
    },
    {
     "data": {
      "application/vnd.jupyter.widget-view+json": {
       "model_id": "",
       "version_major": 2,
       "version_minor": 0
      },
      "text/plain": [
       "Minibatch:   0%|          | 0/8 [00:00<?, ?it/s]"
      ]
     },
     "metadata": {},
     "output_type": "display_data"
    },
    {
     "data": {
      "application/vnd.jupyter.widget-view+json": {
       "model_id": "",
       "version_major": 2,
       "version_minor": 0
      },
      "text/plain": [
       "Minibatch:   0%|          | 0/8 [00:00<?, ?it/s]"
      ]
     },
     "metadata": {},
     "output_type": "display_data"
    },
    {
     "data": {
      "application/vnd.jupyter.widget-view+json": {
       "model_id": "",
       "version_major": 2,
       "version_minor": 0
      },
      "text/plain": [
       "Minibatch:   0%|          | 0/8 [00:00<?, ?it/s]"
      ]
     },
     "metadata": {},
     "output_type": "display_data"
    },
    {
     "data": {
      "application/vnd.jupyter.widget-view+json": {
       "model_id": "",
       "version_major": 2,
       "version_minor": 0
      },
      "text/plain": [
       "Minibatch:   0%|          | 0/8 [00:00<?, ?it/s]"
      ]
     },
     "metadata": {},
     "output_type": "display_data"
    },
    {
     "data": {
      "application/vnd.jupyter.widget-view+json": {
       "model_id": "",
       "version_major": 2,
       "version_minor": 0
      },
      "text/plain": [
       "Minibatch:   0%|          | 0/8 [00:00<?, ?it/s]"
      ]
     },
     "metadata": {},
     "output_type": "display_data"
    },
    {
     "data": {
      "application/vnd.jupyter.widget-view+json": {
       "model_id": "",
       "version_major": 2,
       "version_minor": 0
      },
      "text/plain": [
       "Minibatch:   0%|          | 0/8 [00:00<?, ?it/s]"
      ]
     },
     "metadata": {},
     "output_type": "display_data"
    },
    {
     "data": {
      "application/vnd.jupyter.widget-view+json": {
       "model_id": "",
       "version_major": 2,
       "version_minor": 0
      },
      "text/plain": [
       "Minibatch:   0%|          | 0/8 [00:00<?, ?it/s]"
      ]
     },
     "metadata": {},
     "output_type": "display_data"
    },
    {
     "data": {
      "application/vnd.jupyter.widget-view+json": {
       "model_id": "",
       "version_major": 2,
       "version_minor": 0
      },
      "text/plain": [
       "Minibatch:   0%|          | 0/8 [00:00<?, ?it/s]"
      ]
     },
     "metadata": {},
     "output_type": "display_data"
    },
    {
     "data": {
      "application/vnd.jupyter.widget-view+json": {
       "model_id": "",
       "version_major": 2,
       "version_minor": 0
      },
      "text/plain": [
       "Minibatch:   0%|          | 0/8 [00:00<?, ?it/s]"
      ]
     },
     "metadata": {},
     "output_type": "display_data"
    },
    {
     "data": {
      "application/vnd.jupyter.widget-view+json": {
       "model_id": "",
       "version_major": 2,
       "version_minor": 0
      },
      "text/plain": [
       "Minibatch:   0%|          | 0/8 [00:00<?, ?it/s]"
      ]
     },
     "metadata": {},
     "output_type": "display_data"
    },
    {
     "data": {
      "application/vnd.jupyter.widget-view+json": {
       "model_id": "",
       "version_major": 2,
       "version_minor": 0
      },
      "text/plain": [
       "Minibatch:   0%|          | 0/8 [00:00<?, ?it/s]"
      ]
     },
     "metadata": {},
     "output_type": "display_data"
    },
    {
     "data": {
      "application/vnd.jupyter.widget-view+json": {
       "model_id": "",
       "version_major": 2,
       "version_minor": 0
      },
      "text/plain": [
       "Minibatch:   0%|          | 0/8 [00:00<?, ?it/s]"
      ]
     },
     "metadata": {},
     "output_type": "display_data"
    },
    {
     "data": {
      "application/vnd.jupyter.widget-view+json": {
       "model_id": "",
       "version_major": 2,
       "version_minor": 0
      },
      "text/plain": [
       "Minibatch:   0%|          | 0/8 [00:00<?, ?it/s]"
      ]
     },
     "metadata": {},
     "output_type": "display_data"
    },
    {
     "data": {
      "application/vnd.jupyter.widget-view+json": {
       "model_id": "",
       "version_major": 2,
       "version_minor": 0
      },
      "text/plain": [
       "Minibatch:   0%|          | 0/8 [00:00<?, ?it/s]"
      ]
     },
     "metadata": {},
     "output_type": "display_data"
    },
    {
     "data": {
      "application/vnd.jupyter.widget-view+json": {
       "model_id": "",
       "version_major": 2,
       "version_minor": 0
      },
      "text/plain": [
       "Minibatch:   0%|          | 0/8 [00:00<?, ?it/s]"
      ]
     },
     "metadata": {},
     "output_type": "display_data"
    },
    {
     "data": {
      "application/vnd.jupyter.widget-view+json": {
       "model_id": "",
       "version_major": 2,
       "version_minor": 0
      },
      "text/plain": [
       "Minibatch:   0%|          | 0/8 [00:00<?, ?it/s]"
      ]
     },
     "metadata": {},
     "output_type": "display_data"
    },
    {
     "data": {
      "application/vnd.jupyter.widget-view+json": {
       "model_id": "",
       "version_major": 2,
       "version_minor": 0
      },
      "text/plain": [
       "Minibatch:   0%|          | 0/8 [00:00<?, ?it/s]"
      ]
     },
     "metadata": {},
     "output_type": "display_data"
    },
    {
     "data": {
      "application/vnd.jupyter.widget-view+json": {
       "model_id": "",
       "version_major": 2,
       "version_minor": 0
      },
      "text/plain": [
       "Minibatch:   0%|          | 0/8 [00:00<?, ?it/s]"
      ]
     },
     "metadata": {},
     "output_type": "display_data"
    },
    {
     "data": {
      "application/vnd.jupyter.widget-view+json": {
       "model_id": "",
       "version_major": 2,
       "version_minor": 0
      },
      "text/plain": [
       "Minibatch:   0%|          | 0/8 [00:00<?, ?it/s]"
      ]
     },
     "metadata": {},
     "output_type": "display_data"
    },
    {
     "data": {
      "application/vnd.jupyter.widget-view+json": {
       "model_id": "",
       "version_major": 2,
       "version_minor": 0
      },
      "text/plain": [
       "Minibatch:   0%|          | 0/8 [00:00<?, ?it/s]"
      ]
     },
     "metadata": {},
     "output_type": "display_data"
    },
    {
     "data": {
      "application/vnd.jupyter.widget-view+json": {
       "model_id": "",
       "version_major": 2,
       "version_minor": 0
      },
      "text/plain": [
       "Minibatch:   0%|          | 0/8 [00:00<?, ?it/s]"
      ]
     },
     "metadata": {},
     "output_type": "display_data"
    },
    {
     "data": {
      "application/vnd.jupyter.widget-view+json": {
       "model_id": "",
       "version_major": 2,
       "version_minor": 0
      },
      "text/plain": [
       "Minibatch:   0%|          | 0/8 [00:00<?, ?it/s]"
      ]
     },
     "metadata": {},
     "output_type": "display_data"
    },
    {
     "data": {
      "application/vnd.jupyter.widget-view+json": {
       "model_id": "",
       "version_major": 2,
       "version_minor": 0
      },
      "text/plain": [
       "Minibatch:   0%|          | 0/8 [00:00<?, ?it/s]"
      ]
     },
     "metadata": {},
     "output_type": "display_data"
    },
    {
     "data": {
      "application/vnd.jupyter.widget-view+json": {
       "model_id": "",
       "version_major": 2,
       "version_minor": 0
      },
      "text/plain": [
       "Minibatch:   0%|          | 0/8 [00:00<?, ?it/s]"
      ]
     },
     "metadata": {},
     "output_type": "display_data"
    },
    {
     "data": {
      "application/vnd.jupyter.widget-view+json": {
       "model_id": "",
       "version_major": 2,
       "version_minor": 0
      },
      "text/plain": [
       "Minibatch:   0%|          | 0/8 [00:00<?, ?it/s]"
      ]
     },
     "metadata": {},
     "output_type": "display_data"
    },
    {
     "data": {
      "application/vnd.jupyter.widget-view+json": {
       "model_id": "",
       "version_major": 2,
       "version_minor": 0
      },
      "text/plain": [
       "Minibatch:   0%|          | 0/8 [00:00<?, ?it/s]"
      ]
     },
     "metadata": {},
     "output_type": "display_data"
    },
    {
     "data": {
      "application/vnd.jupyter.widget-view+json": {
       "model_id": "",
       "version_major": 2,
       "version_minor": 0
      },
      "text/plain": [
       "Minibatch:   0%|          | 0/8 [00:00<?, ?it/s]"
      ]
     },
     "metadata": {},
     "output_type": "display_data"
    },
    {
     "data": {
      "application/vnd.jupyter.widget-view+json": {
       "model_id": "",
       "version_major": 2,
       "version_minor": 0
      },
      "text/plain": [
       "Minibatch:   0%|          | 0/8 [00:00<?, ?it/s]"
      ]
     },
     "metadata": {},
     "output_type": "display_data"
    },
    {
     "data": {
      "application/vnd.jupyter.widget-view+json": {
       "model_id": "",
       "version_major": 2,
       "version_minor": 0
      },
      "text/plain": [
       "Minibatch:   0%|          | 0/8 [00:00<?, ?it/s]"
      ]
     },
     "metadata": {},
     "output_type": "display_data"
    },
    {
     "data": {
      "application/vnd.jupyter.widget-view+json": {
       "model_id": "",
       "version_major": 2,
       "version_minor": 0
      },
      "text/plain": [
       "Minibatch:   0%|          | 0/8 [00:00<?, ?it/s]"
      ]
     },
     "metadata": {},
     "output_type": "display_data"
    },
    {
     "data": {
      "application/vnd.jupyter.widget-view+json": {
       "model_id": "",
       "version_major": 2,
       "version_minor": 0
      },
      "text/plain": [
       "Minibatch:   0%|          | 0/8 [00:00<?, ?it/s]"
      ]
     },
     "metadata": {},
     "output_type": "display_data"
    },
    {
     "data": {
      "application/vnd.jupyter.widget-view+json": {
       "model_id": "",
       "version_major": 2,
       "version_minor": 0
      },
      "text/plain": [
       "Minibatch:   0%|          | 0/8 [00:00<?, ?it/s]"
      ]
     },
     "metadata": {},
     "output_type": "display_data"
    },
    {
     "data": {
      "application/vnd.jupyter.widget-view+json": {
       "model_id": "",
       "version_major": 2,
       "version_minor": 0
      },
      "text/plain": [
       "Minibatch:   0%|          | 0/8 [00:00<?, ?it/s]"
      ]
     },
     "metadata": {},
     "output_type": "display_data"
    },
    {
     "data": {
      "application/vnd.jupyter.widget-view+json": {
       "model_id": "",
       "version_major": 2,
       "version_minor": 0
      },
      "text/plain": [
       "Minibatch:   0%|          | 0/8 [00:00<?, ?it/s]"
      ]
     },
     "metadata": {},
     "output_type": "display_data"
    },
    {
     "data": {
      "application/vnd.jupyter.widget-view+json": {
       "model_id": "",
       "version_major": 2,
       "version_minor": 0
      },
      "text/plain": [
       "Minibatch:   0%|          | 0/8 [00:00<?, ?it/s]"
      ]
     },
     "metadata": {},
     "output_type": "display_data"
    },
    {
     "data": {
      "application/vnd.jupyter.widget-view+json": {
       "model_id": "",
       "version_major": 2,
       "version_minor": 0
      },
      "text/plain": [
       "Minibatch:   0%|          | 0/8 [00:00<?, ?it/s]"
      ]
     },
     "metadata": {},
     "output_type": "display_data"
    },
    {
     "data": {
      "application/vnd.jupyter.widget-view+json": {
       "model_id": "",
       "version_major": 2,
       "version_minor": 0
      },
      "text/plain": [
       "Minibatch:   0%|          | 0/8 [00:00<?, ?it/s]"
      ]
     },
     "metadata": {},
     "output_type": "display_data"
    },
    {
     "data": {
      "application/vnd.jupyter.widget-view+json": {
       "model_id": "",
       "version_major": 2,
       "version_minor": 0
      },
      "text/plain": [
       "Minibatch:   0%|          | 0/8 [00:00<?, ?it/s]"
      ]
     },
     "metadata": {},
     "output_type": "display_data"
    },
    {
     "data": {
      "application/vnd.jupyter.widget-view+json": {
       "model_id": "",
       "version_major": 2,
       "version_minor": 0
      },
      "text/plain": [
       "Minibatch:   0%|          | 0/8 [00:00<?, ?it/s]"
      ]
     },
     "metadata": {},
     "output_type": "display_data"
    },
    {
     "data": {
      "application/vnd.jupyter.widget-view+json": {
       "model_id": "",
       "version_major": 2,
       "version_minor": 0
      },
      "text/plain": [
       "Minibatch:   0%|          | 0/8 [00:00<?, ?it/s]"
      ]
     },
     "metadata": {},
     "output_type": "display_data"
    },
    {
     "data": {
      "application/vnd.jupyter.widget-view+json": {
       "model_id": "",
       "version_major": 2,
       "version_minor": 0
      },
      "text/plain": [
       "Minibatch:   0%|          | 0/8 [00:00<?, ?it/s]"
      ]
     },
     "metadata": {},
     "output_type": "display_data"
    },
    {
     "data": {
      "application/vnd.jupyter.widget-view+json": {
       "model_id": "",
       "version_major": 2,
       "version_minor": 0
      },
      "text/plain": [
       "Minibatch:   0%|          | 0/8 [00:00<?, ?it/s]"
      ]
     },
     "metadata": {},
     "output_type": "display_data"
    },
    {
     "data": {
      "application/vnd.jupyter.widget-view+json": {
       "model_id": "",
       "version_major": 2,
       "version_minor": 0
      },
      "text/plain": [
       "Minibatch:   0%|          | 0/8 [00:00<?, ?it/s]"
      ]
     },
     "metadata": {},
     "output_type": "display_data"
    },
    {
     "data": {
      "application/vnd.jupyter.widget-view+json": {
       "model_id": "",
       "version_major": 2,
       "version_minor": 0
      },
      "text/plain": [
       "Minibatch:   0%|          | 0/8 [00:00<?, ?it/s]"
      ]
     },
     "metadata": {},
     "output_type": "display_data"
    },
    {
     "data": {
      "application/vnd.jupyter.widget-view+json": {
       "model_id": "",
       "version_major": 2,
       "version_minor": 0
      },
      "text/plain": [
       "Minibatch:   0%|          | 0/8 [00:00<?, ?it/s]"
      ]
     },
     "metadata": {},
     "output_type": "display_data"
    },
    {
     "data": {
      "application/vnd.jupyter.widget-view+json": {
       "model_id": "",
       "version_major": 2,
       "version_minor": 0
      },
      "text/plain": [
       "Minibatch:   0%|          | 0/8 [00:00<?, ?it/s]"
      ]
     },
     "metadata": {},
     "output_type": "display_data"
    },
    {
     "data": {
      "application/vnd.jupyter.widget-view+json": {
       "model_id": "",
       "version_major": 2,
       "version_minor": 0
      },
      "text/plain": [
       "Minibatch:   0%|          | 0/8 [00:00<?, ?it/s]"
      ]
     },
     "metadata": {},
     "output_type": "display_data"
    },
    {
     "data": {
      "application/vnd.jupyter.widget-view+json": {
       "model_id": "",
       "version_major": 2,
       "version_minor": 0
      },
      "text/plain": [
       "Minibatch:   0%|          | 0/8 [00:00<?, ?it/s]"
      ]
     },
     "metadata": {},
     "output_type": "display_data"
    },
    {
     "data": {
      "application/vnd.jupyter.widget-view+json": {
       "model_id": "",
       "version_major": 2,
       "version_minor": 0
      },
      "text/plain": [
       "Minibatch:   0%|          | 0/8 [00:00<?, ?it/s]"
      ]
     },
     "metadata": {},
     "output_type": "display_data"
    },
    {
     "data": {
      "application/vnd.jupyter.widget-view+json": {
       "model_id": "",
       "version_major": 2,
       "version_minor": 0
      },
      "text/plain": [
       "Minibatch:   0%|          | 0/8 [00:00<?, ?it/s]"
      ]
     },
     "metadata": {},
     "output_type": "display_data"
    },
    {
     "data": {
      "application/vnd.jupyter.widget-view+json": {
       "model_id": "",
       "version_major": 2,
       "version_minor": 0
      },
      "text/plain": [
       "Minibatch:   0%|          | 0/8 [00:00<?, ?it/s]"
      ]
     },
     "metadata": {},
     "output_type": "display_data"
    },
    {
     "data": {
      "application/vnd.jupyter.widget-view+json": {
       "model_id": "",
       "version_major": 2,
       "version_minor": 0
      },
      "text/plain": [
       "Minibatch:   0%|          | 0/8 [00:00<?, ?it/s]"
      ]
     },
     "metadata": {},
     "output_type": "display_data"
    },
    {
     "data": {
      "application/vnd.jupyter.widget-view+json": {
       "model_id": "",
       "version_major": 2,
       "version_minor": 0
      },
      "text/plain": [
       "Minibatch:   0%|          | 0/8 [00:00<?, ?it/s]"
      ]
     },
     "metadata": {},
     "output_type": "display_data"
    },
    {
     "data": {
      "application/vnd.jupyter.widget-view+json": {
       "model_id": "",
       "version_major": 2,
       "version_minor": 0
      },
      "text/plain": [
       "Minibatch:   0%|          | 0/8 [00:00<?, ?it/s]"
      ]
     },
     "metadata": {},
     "output_type": "display_data"
    },
    {
     "data": {
      "application/vnd.jupyter.widget-view+json": {
       "model_id": "",
       "version_major": 2,
       "version_minor": 0
      },
      "text/plain": [
       "Minibatch:   0%|          | 0/8 [00:00<?, ?it/s]"
      ]
     },
     "metadata": {},
     "output_type": "display_data"
    },
    {
     "data": {
      "application/vnd.jupyter.widget-view+json": {
       "model_id": "",
       "version_major": 2,
       "version_minor": 0
      },
      "text/plain": [
       "Minibatch:   0%|          | 0/8 [00:00<?, ?it/s]"
      ]
     },
     "metadata": {},
     "output_type": "display_data"
    },
    {
     "data": {
      "application/vnd.jupyter.widget-view+json": {
       "model_id": "",
       "version_major": 2,
       "version_minor": 0
      },
      "text/plain": [
       "Minibatch:   0%|          | 0/8 [00:00<?, ?it/s]"
      ]
     },
     "metadata": {},
     "output_type": "display_data"
    },
    {
     "data": {
      "application/vnd.jupyter.widget-view+json": {
       "model_id": "",
       "version_major": 2,
       "version_minor": 0
      },
      "text/plain": [
       "Minibatch:   0%|          | 0/8 [00:00<?, ?it/s]"
      ]
     },
     "metadata": {},
     "output_type": "display_data"
    },
    {
     "data": {
      "application/vnd.jupyter.widget-view+json": {
       "model_id": "",
       "version_major": 2,
       "version_minor": 0
      },
      "text/plain": [
       "Minibatch:   0%|          | 0/8 [00:00<?, ?it/s]"
      ]
     },
     "metadata": {},
     "output_type": "display_data"
    },
    {
     "data": {
      "application/vnd.jupyter.widget-view+json": {
       "model_id": "",
       "version_major": 2,
       "version_minor": 0
      },
      "text/plain": [
       "Minibatch:   0%|          | 0/8 [00:00<?, ?it/s]"
      ]
     },
     "metadata": {},
     "output_type": "display_data"
    },
    {
     "data": {
      "application/vnd.jupyter.widget-view+json": {
       "model_id": "",
       "version_major": 2,
       "version_minor": 0
      },
      "text/plain": [
       "Minibatch:   0%|          | 0/8 [00:00<?, ?it/s]"
      ]
     },
     "metadata": {},
     "output_type": "display_data"
    },
    {
     "data": {
      "application/vnd.jupyter.widget-view+json": {
       "model_id": "",
       "version_major": 2,
       "version_minor": 0
      },
      "text/plain": [
       "Minibatch:   0%|          | 0/8 [00:00<?, ?it/s]"
      ]
     },
     "metadata": {},
     "output_type": "display_data"
    },
    {
     "data": {
      "application/vnd.jupyter.widget-view+json": {
       "model_id": "",
       "version_major": 2,
       "version_minor": 0
      },
      "text/plain": [
       "Minibatch:   0%|          | 0/8 [00:00<?, ?it/s]"
      ]
     },
     "metadata": {},
     "output_type": "display_data"
    },
    {
     "data": {
      "application/vnd.jupyter.widget-view+json": {
       "model_id": "",
       "version_major": 2,
       "version_minor": 0
      },
      "text/plain": [
       "Minibatch:   0%|          | 0/8 [00:00<?, ?it/s]"
      ]
     },
     "metadata": {},
     "output_type": "display_data"
    },
    {
     "data": {
      "application/vnd.jupyter.widget-view+json": {
       "model_id": "",
       "version_major": 2,
       "version_minor": 0
      },
      "text/plain": [
       "Minibatch:   0%|          | 0/8 [00:00<?, ?it/s]"
      ]
     },
     "metadata": {},
     "output_type": "display_data"
    },
    {
     "data": {
      "application/vnd.jupyter.widget-view+json": {
       "model_id": "",
       "version_major": 2,
       "version_minor": 0
      },
      "text/plain": [
       "Minibatch:   0%|          | 0/8 [00:00<?, ?it/s]"
      ]
     },
     "metadata": {},
     "output_type": "display_data"
    },
    {
     "data": {
      "application/vnd.jupyter.widget-view+json": {
       "model_id": "",
       "version_major": 2,
       "version_minor": 0
      },
      "text/plain": [
       "Minibatch:   0%|          | 0/8 [00:00<?, ?it/s]"
      ]
     },
     "metadata": {},
     "output_type": "display_data"
    },
    {
     "data": {
      "application/vnd.jupyter.widget-view+json": {
       "model_id": "",
       "version_major": 2,
       "version_minor": 0
      },
      "text/plain": [
       "Minibatch:   0%|          | 0/8 [00:00<?, ?it/s]"
      ]
     },
     "metadata": {},
     "output_type": "display_data"
    },
    {
     "data": {
      "application/vnd.jupyter.widget-view+json": {
       "model_id": "",
       "version_major": 2,
       "version_minor": 0
      },
      "text/plain": [
       "Minibatch:   0%|          | 0/8 [00:00<?, ?it/s]"
      ]
     },
     "metadata": {},
     "output_type": "display_data"
    },
    {
     "data": {
      "application/vnd.jupyter.widget-view+json": {
       "model_id": "",
       "version_major": 2,
       "version_minor": 0
      },
      "text/plain": [
       "Minibatch:   0%|          | 0/8 [00:00<?, ?it/s]"
      ]
     },
     "metadata": {},
     "output_type": "display_data"
    },
    {
     "data": {
      "application/vnd.jupyter.widget-view+json": {
       "model_id": "",
       "version_major": 2,
       "version_minor": 0
      },
      "text/plain": [
       "Minibatch:   0%|          | 0/8 [00:00<?, ?it/s]"
      ]
     },
     "metadata": {},
     "output_type": "display_data"
    },
    {
     "data": {
      "application/vnd.jupyter.widget-view+json": {
       "model_id": "",
       "version_major": 2,
       "version_minor": 0
      },
      "text/plain": [
       "Minibatch:   0%|          | 0/8 [00:00<?, ?it/s]"
      ]
     },
     "metadata": {},
     "output_type": "display_data"
    },
    {
     "data": {
      "application/vnd.jupyter.widget-view+json": {
       "model_id": "",
       "version_major": 2,
       "version_minor": 0
      },
      "text/plain": [
       "Minibatch:   0%|          | 0/8 [00:00<?, ?it/s]"
      ]
     },
     "metadata": {},
     "output_type": "display_data"
    },
    {
     "data": {
      "application/vnd.jupyter.widget-view+json": {
       "model_id": "",
       "version_major": 2,
       "version_minor": 0
      },
      "text/plain": [
       "Minibatch:   0%|          | 0/8 [00:00<?, ?it/s]"
      ]
     },
     "metadata": {},
     "output_type": "display_data"
    },
    {
     "data": {
      "application/vnd.jupyter.widget-view+json": {
       "model_id": "",
       "version_major": 2,
       "version_minor": 0
      },
      "text/plain": [
       "Minibatch:   0%|          | 0/8 [00:00<?, ?it/s]"
      ]
     },
     "metadata": {},
     "output_type": "display_data"
    },
    {
     "data": {
      "application/vnd.jupyter.widget-view+json": {
       "model_id": "",
       "version_major": 2,
       "version_minor": 0
      },
      "text/plain": [
       "Minibatch:   0%|          | 0/8 [00:00<?, ?it/s]"
      ]
     },
     "metadata": {},
     "output_type": "display_data"
    },
    {
     "data": {
      "application/vnd.jupyter.widget-view+json": {
       "model_id": "",
       "version_major": 2,
       "version_minor": 0
      },
      "text/plain": [
       "Minibatch:   0%|          | 0/8 [00:00<?, ?it/s]"
      ]
     },
     "metadata": {},
     "output_type": "display_data"
    },
    {
     "data": {
      "application/vnd.jupyter.widget-view+json": {
       "model_id": "",
       "version_major": 2,
       "version_minor": 0
      },
      "text/plain": [
       "Minibatch:   0%|          | 0/8 [00:00<?, ?it/s]"
      ]
     },
     "metadata": {},
     "output_type": "display_data"
    },
    {
     "data": {
      "application/vnd.jupyter.widget-view+json": {
       "model_id": "",
       "version_major": 2,
       "version_minor": 0
      },
      "text/plain": [
       "Minibatch:   0%|          | 0/8 [00:00<?, ?it/s]"
      ]
     },
     "metadata": {},
     "output_type": "display_data"
    },
    {
     "data": {
      "application/vnd.jupyter.widget-view+json": {
       "model_id": "",
       "version_major": 2,
       "version_minor": 0
      },
      "text/plain": [
       "Minibatch:   0%|          | 0/8 [00:00<?, ?it/s]"
      ]
     },
     "metadata": {},
     "output_type": "display_data"
    },
    {
     "data": {
      "application/vnd.jupyter.widget-view+json": {
       "model_id": "",
       "version_major": 2,
       "version_minor": 0
      },
      "text/plain": [
       "Minibatch:   0%|          | 0/8 [00:00<?, ?it/s]"
      ]
     },
     "metadata": {},
     "output_type": "display_data"
    },
    {
     "data": {
      "application/vnd.jupyter.widget-view+json": {
       "model_id": "",
       "version_major": 2,
       "version_minor": 0
      },
      "text/plain": [
       "Minibatch:   0%|          | 0/8 [00:00<?, ?it/s]"
      ]
     },
     "metadata": {},
     "output_type": "display_data"
    },
    {
     "data": {
      "application/vnd.jupyter.widget-view+json": {
       "model_id": "",
       "version_major": 2,
       "version_minor": 0
      },
      "text/plain": [
       "Minibatch:   0%|          | 0/8 [00:00<?, ?it/s]"
      ]
     },
     "metadata": {},
     "output_type": "display_data"
    },
    {
     "data": {
      "application/vnd.jupyter.widget-view+json": {
       "model_id": "",
       "version_major": 2,
       "version_minor": 0
      },
      "text/plain": [
       "Minibatch:   0%|          | 0/8 [00:00<?, ?it/s]"
      ]
     },
     "metadata": {},
     "output_type": "display_data"
    },
    {
     "data": {
      "application/vnd.jupyter.widget-view+json": {
       "model_id": "",
       "version_major": 2,
       "version_minor": 0
      },
      "text/plain": [
       "Minibatch:   0%|          | 0/8 [00:00<?, ?it/s]"
      ]
     },
     "metadata": {},
     "output_type": "display_data"
    },
    {
     "data": {
      "application/vnd.jupyter.widget-view+json": {
       "model_id": "",
       "version_major": 2,
       "version_minor": 0
      },
      "text/plain": [
       "Minibatch:   0%|          | 0/8 [00:00<?, ?it/s]"
      ]
     },
     "metadata": {},
     "output_type": "display_data"
    },
    {
     "data": {
      "application/vnd.jupyter.widget-view+json": {
       "model_id": "",
       "version_major": 2,
       "version_minor": 0
      },
      "text/plain": [
       "Minibatch:   0%|          | 0/8 [00:00<?, ?it/s]"
      ]
     },
     "metadata": {},
     "output_type": "display_data"
    },
    {
     "data": {
      "application/vnd.jupyter.widget-view+json": {
       "model_id": "",
       "version_major": 2,
       "version_minor": 0
      },
      "text/plain": [
       "Minibatch:   0%|          | 0/8 [00:00<?, ?it/s]"
      ]
     },
     "metadata": {},
     "output_type": "display_data"
    },
    {
     "data": {
      "application/vnd.jupyter.widget-view+json": {
       "model_id": "",
       "version_major": 2,
       "version_minor": 0
      },
      "text/plain": [
       "Minibatch:   0%|          | 0/8 [00:00<?, ?it/s]"
      ]
     },
     "metadata": {},
     "output_type": "display_data"
    },
    {
     "data": {
      "application/vnd.jupyter.widget-view+json": {
       "model_id": "",
       "version_major": 2,
       "version_minor": 0
      },
      "text/plain": [
       "Minibatch:   0%|          | 0/8 [00:00<?, ?it/s]"
      ]
     },
     "metadata": {},
     "output_type": "display_data"
    },
    {
     "data": {
      "application/vnd.jupyter.widget-view+json": {
       "model_id": "",
       "version_major": 2,
       "version_minor": 0
      },
      "text/plain": [
       "Minibatch:   0%|          | 0/8 [00:00<?, ?it/s]"
      ]
     },
     "metadata": {},
     "output_type": "display_data"
    },
    {
     "data": {
      "application/vnd.jupyter.widget-view+json": {
       "model_id": "",
       "version_major": 2,
       "version_minor": 0
      },
      "text/plain": [
       "Minibatch:   0%|          | 0/8 [00:00<?, ?it/s]"
      ]
     },
     "metadata": {},
     "output_type": "display_data"
    },
    {
     "data": {
      "application/vnd.jupyter.widget-view+json": {
       "model_id": "",
       "version_major": 2,
       "version_minor": 0
      },
      "text/plain": [
       "Minibatch:   0%|          | 0/8 [00:00<?, ?it/s]"
      ]
     },
     "metadata": {},
     "output_type": "display_data"
    },
    {
     "data": {
      "application/vnd.jupyter.widget-view+json": {
       "model_id": "",
       "version_major": 2,
       "version_minor": 0
      },
      "text/plain": [
       "Minibatch:   0%|          | 0/8 [00:00<?, ?it/s]"
      ]
     },
     "metadata": {},
     "output_type": "display_data"
    },
    {
     "data": {
      "application/vnd.jupyter.widget-view+json": {
       "model_id": "",
       "version_major": 2,
       "version_minor": 0
      },
      "text/plain": [
       "Minibatch:   0%|          | 0/8 [00:00<?, ?it/s]"
      ]
     },
     "metadata": {},
     "output_type": "display_data"
    },
    {
     "data": {
      "application/vnd.jupyter.widget-view+json": {
       "model_id": "",
       "version_major": 2,
       "version_minor": 0
      },
      "text/plain": [
       "Minibatch:   0%|          | 0/8 [00:00<?, ?it/s]"
      ]
     },
     "metadata": {},
     "output_type": "display_data"
    },
    {
     "data": {
      "application/vnd.jupyter.widget-view+json": {
       "model_id": "",
       "version_major": 2,
       "version_minor": 0
      },
      "text/plain": [
       "Minibatch:   0%|          | 0/8 [00:00<?, ?it/s]"
      ]
     },
     "metadata": {},
     "output_type": "display_data"
    },
    {
     "data": {
      "application/vnd.jupyter.widget-view+json": {
       "model_id": "",
       "version_major": 2,
       "version_minor": 0
      },
      "text/plain": [
       "Minibatch:   0%|          | 0/8 [00:00<?, ?it/s]"
      ]
     },
     "metadata": {},
     "output_type": "display_data"
    },
    {
     "data": {
      "application/vnd.jupyter.widget-view+json": {
       "model_id": "",
       "version_major": 2,
       "version_minor": 0
      },
      "text/plain": [
       "Minibatch:   0%|          | 0/8 [00:00<?, ?it/s]"
      ]
     },
     "metadata": {},
     "output_type": "display_data"
    },
    {
     "data": {
      "application/vnd.jupyter.widget-view+json": {
       "model_id": "",
       "version_major": 2,
       "version_minor": 0
      },
      "text/plain": [
       "Minibatch:   0%|          | 0/8 [00:00<?, ?it/s]"
      ]
     },
     "metadata": {},
     "output_type": "display_data"
    },
    {
     "data": {
      "application/vnd.jupyter.widget-view+json": {
       "model_id": "",
       "version_major": 2,
       "version_minor": 0
      },
      "text/plain": [
       "Minibatch:   0%|          | 0/8 [00:00<?, ?it/s]"
      ]
     },
     "metadata": {},
     "output_type": "display_data"
    },
    {
     "data": {
      "application/vnd.jupyter.widget-view+json": {
       "model_id": "",
       "version_major": 2,
       "version_minor": 0
      },
      "text/plain": [
       "Minibatch:   0%|          | 0/8 [00:00<?, ?it/s]"
      ]
     },
     "metadata": {},
     "output_type": "display_data"
    },
    {
     "data": {
      "application/vnd.jupyter.widget-view+json": {
       "model_id": "",
       "version_major": 2,
       "version_minor": 0
      },
      "text/plain": [
       "Minibatch:   0%|          | 0/8 [00:00<?, ?it/s]"
      ]
     },
     "metadata": {},
     "output_type": "display_data"
    },
    {
     "data": {
      "application/vnd.jupyter.widget-view+json": {
       "model_id": "",
       "version_major": 2,
       "version_minor": 0
      },
      "text/plain": [
       "Minibatch:   0%|          | 0/8 [00:00<?, ?it/s]"
      ]
     },
     "metadata": {},
     "output_type": "display_data"
    },
    {
     "data": {
      "application/vnd.jupyter.widget-view+json": {
       "model_id": "",
       "version_major": 2,
       "version_minor": 0
      },
      "text/plain": [
       "Minibatch:   0%|          | 0/8 [00:00<?, ?it/s]"
      ]
     },
     "metadata": {},
     "output_type": "display_data"
    },
    {
     "data": {
      "application/vnd.jupyter.widget-view+json": {
       "model_id": "",
       "version_major": 2,
       "version_minor": 0
      },
      "text/plain": [
       "Minibatch:   0%|          | 0/8 [00:00<?, ?it/s]"
      ]
     },
     "metadata": {},
     "output_type": "display_data"
    },
    {
     "data": {
      "application/vnd.jupyter.widget-view+json": {
       "model_id": "",
       "version_major": 2,
       "version_minor": 0
      },
      "text/plain": [
       "Minibatch:   0%|          | 0/8 [00:00<?, ?it/s]"
      ]
     },
     "metadata": {},
     "output_type": "display_data"
    },
    {
     "data": {
      "application/vnd.jupyter.widget-view+json": {
       "model_id": "",
       "version_major": 2,
       "version_minor": 0
      },
      "text/plain": [
       "Minibatch:   0%|          | 0/8 [00:00<?, ?it/s]"
      ]
     },
     "metadata": {},
     "output_type": "display_data"
    },
    {
     "data": {
      "application/vnd.jupyter.widget-view+json": {
       "model_id": "",
       "version_major": 2,
       "version_minor": 0
      },
      "text/plain": [
       "Minibatch:   0%|          | 0/8 [00:00<?, ?it/s]"
      ]
     },
     "metadata": {},
     "output_type": "display_data"
    },
    {
     "data": {
      "application/vnd.jupyter.widget-view+json": {
       "model_id": "",
       "version_major": 2,
       "version_minor": 0
      },
      "text/plain": [
       "Minibatch:   0%|          | 0/8 [00:00<?, ?it/s]"
      ]
     },
     "metadata": {},
     "output_type": "display_data"
    },
    {
     "data": {
      "application/vnd.jupyter.widget-view+json": {
       "model_id": "",
       "version_major": 2,
       "version_minor": 0
      },
      "text/plain": [
       "Minibatch:   0%|          | 0/8 [00:00<?, ?it/s]"
      ]
     },
     "metadata": {},
     "output_type": "display_data"
    },
    {
     "data": {
      "application/vnd.jupyter.widget-view+json": {
       "model_id": "",
       "version_major": 2,
       "version_minor": 0
      },
      "text/plain": [
       "Minibatch:   0%|          | 0/8 [00:00<?, ?it/s]"
      ]
     },
     "metadata": {},
     "output_type": "display_data"
    },
    {
     "data": {
      "application/vnd.jupyter.widget-view+json": {
       "model_id": "",
       "version_major": 2,
       "version_minor": 0
      },
      "text/plain": [
       "Minibatch:   0%|          | 0/8 [00:00<?, ?it/s]"
      ]
     },
     "metadata": {},
     "output_type": "display_data"
    },
    {
     "data": {
      "application/vnd.jupyter.widget-view+json": {
       "model_id": "",
       "version_major": 2,
       "version_minor": 0
      },
      "text/plain": [
       "Minibatch:   0%|          | 0/8 [00:00<?, ?it/s]"
      ]
     },
     "metadata": {},
     "output_type": "display_data"
    },
    {
     "data": {
      "application/vnd.jupyter.widget-view+json": {
       "model_id": "",
       "version_major": 2,
       "version_minor": 0
      },
      "text/plain": [
       "Minibatch:   0%|          | 0/8 [00:00<?, ?it/s]"
      ]
     },
     "metadata": {},
     "output_type": "display_data"
    },
    {
     "data": {
      "application/vnd.jupyter.widget-view+json": {
       "model_id": "",
       "version_major": 2,
       "version_minor": 0
      },
      "text/plain": [
       "Minibatch:   0%|          | 0/8 [00:00<?, ?it/s]"
      ]
     },
     "metadata": {},
     "output_type": "display_data"
    },
    {
     "data": {
      "application/vnd.jupyter.widget-view+json": {
       "model_id": "",
       "version_major": 2,
       "version_minor": 0
      },
      "text/plain": [
       "Minibatch:   0%|          | 0/8 [00:00<?, ?it/s]"
      ]
     },
     "metadata": {},
     "output_type": "display_data"
    },
    {
     "data": {
      "application/vnd.jupyter.widget-view+json": {
       "model_id": "",
       "version_major": 2,
       "version_minor": 0
      },
      "text/plain": [
       "Minibatch:   0%|          | 0/8 [00:00<?, ?it/s]"
      ]
     },
     "metadata": {},
     "output_type": "display_data"
    },
    {
     "data": {
      "application/vnd.jupyter.widget-view+json": {
       "model_id": "",
       "version_major": 2,
       "version_minor": 0
      },
      "text/plain": [
       "Minibatch:   0%|          | 0/8 [00:00<?, ?it/s]"
      ]
     },
     "metadata": {},
     "output_type": "display_data"
    },
    {
     "data": {
      "application/vnd.jupyter.widget-view+json": {
       "model_id": "",
       "version_major": 2,
       "version_minor": 0
      },
      "text/plain": [
       "Minibatch:   0%|          | 0/8 [00:00<?, ?it/s]"
      ]
     },
     "metadata": {},
     "output_type": "display_data"
    },
    {
     "data": {
      "application/vnd.jupyter.widget-view+json": {
       "model_id": "",
       "version_major": 2,
       "version_minor": 0
      },
      "text/plain": [
       "Minibatch:   0%|          | 0/8 [00:00<?, ?it/s]"
      ]
     },
     "metadata": {},
     "output_type": "display_data"
    },
    {
     "data": {
      "application/vnd.jupyter.widget-view+json": {
       "model_id": "",
       "version_major": 2,
       "version_minor": 0
      },
      "text/plain": [
       "Minibatch:   0%|          | 0/8 [00:00<?, ?it/s]"
      ]
     },
     "metadata": {},
     "output_type": "display_data"
    },
    {
     "data": {
      "application/vnd.jupyter.widget-view+json": {
       "model_id": "",
       "version_major": 2,
       "version_minor": 0
      },
      "text/plain": [
       "Minibatch:   0%|          | 0/8 [00:00<?, ?it/s]"
      ]
     },
     "metadata": {},
     "output_type": "display_data"
    },
    {
     "data": {
      "application/vnd.jupyter.widget-view+json": {
       "model_id": "",
       "version_major": 2,
       "version_minor": 0
      },
      "text/plain": [
       "Minibatch:   0%|          | 0/8 [00:00<?, ?it/s]"
      ]
     },
     "metadata": {},
     "output_type": "display_data"
    },
    {
     "data": {
      "application/vnd.jupyter.widget-view+json": {
       "model_id": "",
       "version_major": 2,
       "version_minor": 0
      },
      "text/plain": [
       "Minibatch:   0%|          | 0/8 [00:00<?, ?it/s]"
      ]
     },
     "metadata": {},
     "output_type": "display_data"
    },
    {
     "data": {
      "application/vnd.jupyter.widget-view+json": {
       "model_id": "",
       "version_major": 2,
       "version_minor": 0
      },
      "text/plain": [
       "Minibatch:   0%|          | 0/8 [00:00<?, ?it/s]"
      ]
     },
     "metadata": {},
     "output_type": "display_data"
    },
    {
     "data": {
      "application/vnd.jupyter.widget-view+json": {
       "model_id": "",
       "version_major": 2,
       "version_minor": 0
      },
      "text/plain": [
       "Minibatch:   0%|          | 0/8 [00:00<?, ?it/s]"
      ]
     },
     "metadata": {},
     "output_type": "display_data"
    },
    {
     "data": {
      "application/vnd.jupyter.widget-view+json": {
       "model_id": "",
       "version_major": 2,
       "version_minor": 0
      },
      "text/plain": [
       "Minibatch:   0%|          | 0/8 [00:00<?, ?it/s]"
      ]
     },
     "metadata": {},
     "output_type": "display_data"
    },
    {
     "data": {
      "application/vnd.jupyter.widget-view+json": {
       "model_id": "",
       "version_major": 2,
       "version_minor": 0
      },
      "text/plain": [
       "Minibatch:   0%|          | 0/8 [00:00<?, ?it/s]"
      ]
     },
     "metadata": {},
     "output_type": "display_data"
    },
    {
     "data": {
      "application/vnd.jupyter.widget-view+json": {
       "model_id": "",
       "version_major": 2,
       "version_minor": 0
      },
      "text/plain": [
       "Minibatch:   0%|          | 0/8 [00:00<?, ?it/s]"
      ]
     },
     "metadata": {},
     "output_type": "display_data"
    },
    {
     "data": {
      "application/vnd.jupyter.widget-view+json": {
       "model_id": "",
       "version_major": 2,
       "version_minor": 0
      },
      "text/plain": [
       "Minibatch:   0%|          | 0/8 [00:00<?, ?it/s]"
      ]
     },
     "metadata": {},
     "output_type": "display_data"
    },
    {
     "data": {
      "application/vnd.jupyter.widget-view+json": {
       "model_id": "",
       "version_major": 2,
       "version_minor": 0
      },
      "text/plain": [
       "Minibatch:   0%|          | 0/8 [00:00<?, ?it/s]"
      ]
     },
     "metadata": {},
     "output_type": "display_data"
    },
    {
     "data": {
      "application/vnd.jupyter.widget-view+json": {
       "model_id": "",
       "version_major": 2,
       "version_minor": 0
      },
      "text/plain": [
       "Minibatch:   0%|          | 0/8 [00:00<?, ?it/s]"
      ]
     },
     "metadata": {},
     "output_type": "display_data"
    },
    {
     "data": {
      "application/vnd.jupyter.widget-view+json": {
       "model_id": "",
       "version_major": 2,
       "version_minor": 0
      },
      "text/plain": [
       "Minibatch:   0%|          | 0/8 [00:00<?, ?it/s]"
      ]
     },
     "metadata": {},
     "output_type": "display_data"
    },
    {
     "data": {
      "application/vnd.jupyter.widget-view+json": {
       "model_id": "",
       "version_major": 2,
       "version_minor": 0
      },
      "text/plain": [
       "Minibatch:   0%|          | 0/8 [00:00<?, ?it/s]"
      ]
     },
     "metadata": {},
     "output_type": "display_data"
    },
    {
     "data": {
      "application/vnd.jupyter.widget-view+json": {
       "model_id": "",
       "version_major": 2,
       "version_minor": 0
      },
      "text/plain": [
       "Minibatch:   0%|          | 0/8 [00:00<?, ?it/s]"
      ]
     },
     "metadata": {},
     "output_type": "display_data"
    },
    {
     "data": {
      "application/vnd.jupyter.widget-view+json": {
       "model_id": "",
       "version_major": 2,
       "version_minor": 0
      },
      "text/plain": [
       "Minibatch:   0%|          | 0/8 [00:00<?, ?it/s]"
      ]
     },
     "metadata": {},
     "output_type": "display_data"
    },
    {
     "data": {
      "application/vnd.jupyter.widget-view+json": {
       "model_id": "",
       "version_major": 2,
       "version_minor": 0
      },
      "text/plain": [
       "Minibatch:   0%|          | 0/8 [00:00<?, ?it/s]"
      ]
     },
     "metadata": {},
     "output_type": "display_data"
    },
    {
     "data": {
      "application/vnd.jupyter.widget-view+json": {
       "model_id": "",
       "version_major": 2,
       "version_minor": 0
      },
      "text/plain": [
       "Minibatch:   0%|          | 0/8 [00:00<?, ?it/s]"
      ]
     },
     "metadata": {},
     "output_type": "display_data"
    },
    {
     "data": {
      "application/vnd.jupyter.widget-view+json": {
       "model_id": "",
       "version_major": 2,
       "version_minor": 0
      },
      "text/plain": [
       "Minibatch:   0%|          | 0/8 [00:00<?, ?it/s]"
      ]
     },
     "metadata": {},
     "output_type": "display_data"
    },
    {
     "data": {
      "application/vnd.jupyter.widget-view+json": {
       "model_id": "",
       "version_major": 2,
       "version_minor": 0
      },
      "text/plain": [
       "Minibatch:   0%|          | 0/8 [00:00<?, ?it/s]"
      ]
     },
     "metadata": {},
     "output_type": "display_data"
    },
    {
     "data": {
      "application/vnd.jupyter.widget-view+json": {
       "model_id": "",
       "version_major": 2,
       "version_minor": 0
      },
      "text/plain": [
       "Minibatch:   0%|          | 0/8 [00:00<?, ?it/s]"
      ]
     },
     "metadata": {},
     "output_type": "display_data"
    },
    {
     "data": {
      "application/vnd.jupyter.widget-view+json": {
       "model_id": "",
       "version_major": 2,
       "version_minor": 0
      },
      "text/plain": [
       "Minibatch:   0%|          | 0/8 [00:00<?, ?it/s]"
      ]
     },
     "metadata": {},
     "output_type": "display_data"
    },
    {
     "data": {
      "application/vnd.jupyter.widget-view+json": {
       "model_id": "",
       "version_major": 2,
       "version_minor": 0
      },
      "text/plain": [
       "Minibatch:   0%|          | 0/8 [00:00<?, ?it/s]"
      ]
     },
     "metadata": {},
     "output_type": "display_data"
    },
    {
     "data": {
      "application/vnd.jupyter.widget-view+json": {
       "model_id": "",
       "version_major": 2,
       "version_minor": 0
      },
      "text/plain": [
       "Minibatch:   0%|          | 0/8 [00:00<?, ?it/s]"
      ]
     },
     "metadata": {},
     "output_type": "display_data"
    },
    {
     "data": {
      "application/vnd.jupyter.widget-view+json": {
       "model_id": "",
       "version_major": 2,
       "version_minor": 0
      },
      "text/plain": [
       "Minibatch:   0%|          | 0/8 [00:00<?, ?it/s]"
      ]
     },
     "metadata": {},
     "output_type": "display_data"
    },
    {
     "data": {
      "application/vnd.jupyter.widget-view+json": {
       "model_id": "",
       "version_major": 2,
       "version_minor": 0
      },
      "text/plain": [
       "Minibatch:   0%|          | 0/8 [00:00<?, ?it/s]"
      ]
     },
     "metadata": {},
     "output_type": "display_data"
    },
    {
     "data": {
      "application/vnd.jupyter.widget-view+json": {
       "model_id": "",
       "version_major": 2,
       "version_minor": 0
      },
      "text/plain": [
       "Minibatch:   0%|          | 0/8 [00:00<?, ?it/s]"
      ]
     },
     "metadata": {},
     "output_type": "display_data"
    },
    {
     "data": {
      "application/vnd.jupyter.widget-view+json": {
       "model_id": "",
       "version_major": 2,
       "version_minor": 0
      },
      "text/plain": [
       "Minibatch:   0%|          | 0/8 [00:00<?, ?it/s]"
      ]
     },
     "metadata": {},
     "output_type": "display_data"
    },
    {
     "data": {
      "application/vnd.jupyter.widget-view+json": {
       "model_id": "",
       "version_major": 2,
       "version_minor": 0
      },
      "text/plain": [
       "Minibatch:   0%|          | 0/8 [00:00<?, ?it/s]"
      ]
     },
     "metadata": {},
     "output_type": "display_data"
    },
    {
     "data": {
      "application/vnd.jupyter.widget-view+json": {
       "model_id": "",
       "version_major": 2,
       "version_minor": 0
      },
      "text/plain": [
       "Minibatch:   0%|          | 0/8 [00:00<?, ?it/s]"
      ]
     },
     "metadata": {},
     "output_type": "display_data"
    },
    {
     "data": {
      "application/vnd.jupyter.widget-view+json": {
       "model_id": "",
       "version_major": 2,
       "version_minor": 0
      },
      "text/plain": [
       "Minibatch:   0%|          | 0/8 [00:00<?, ?it/s]"
      ]
     },
     "metadata": {},
     "output_type": "display_data"
    },
    {
     "data": {
      "application/vnd.jupyter.widget-view+json": {
       "model_id": "",
       "version_major": 2,
       "version_minor": 0
      },
      "text/plain": [
       "Minibatch:   0%|          | 0/8 [00:00<?, ?it/s]"
      ]
     },
     "metadata": {},
     "output_type": "display_data"
    },
    {
     "data": {
      "application/vnd.jupyter.widget-view+json": {
       "model_id": "",
       "version_major": 2,
       "version_minor": 0
      },
      "text/plain": [
       "Minibatch:   0%|          | 0/8 [00:00<?, ?it/s]"
      ]
     },
     "metadata": {},
     "output_type": "display_data"
    },
    {
     "data": {
      "application/vnd.jupyter.widget-view+json": {
       "model_id": "",
       "version_major": 2,
       "version_minor": 0
      },
      "text/plain": [
       "Minibatch:   0%|          | 0/8 [00:00<?, ?it/s]"
      ]
     },
     "metadata": {},
     "output_type": "display_data"
    },
    {
     "data": {
      "application/vnd.jupyter.widget-view+json": {
       "model_id": "",
       "version_major": 2,
       "version_minor": 0
      },
      "text/plain": [
       "Minibatch:   0%|          | 0/8 [00:00<?, ?it/s]"
      ]
     },
     "metadata": {},
     "output_type": "display_data"
    },
    {
     "data": {
      "application/vnd.jupyter.widget-view+json": {
       "model_id": "",
       "version_major": 2,
       "version_minor": 0
      },
      "text/plain": [
       "Minibatch:   0%|          | 0/8 [00:00<?, ?it/s]"
      ]
     },
     "metadata": {},
     "output_type": "display_data"
    },
    {
     "data": {
      "application/vnd.jupyter.widget-view+json": {
       "model_id": "",
       "version_major": 2,
       "version_minor": 0
      },
      "text/plain": [
       "Minibatch:   0%|          | 0/8 [00:00<?, ?it/s]"
      ]
     },
     "metadata": {},
     "output_type": "display_data"
    },
    {
     "data": {
      "application/vnd.jupyter.widget-view+json": {
       "model_id": "",
       "version_major": 2,
       "version_minor": 0
      },
      "text/plain": [
       "Minibatch:   0%|          | 0/8 [00:00<?, ?it/s]"
      ]
     },
     "metadata": {},
     "output_type": "display_data"
    },
    {
     "data": {
      "application/vnd.jupyter.widget-view+json": {
       "model_id": "",
       "version_major": 2,
       "version_minor": 0
      },
      "text/plain": [
       "Minibatch:   0%|          | 0/8 [00:00<?, ?it/s]"
      ]
     },
     "metadata": {},
     "output_type": "display_data"
    },
    {
     "data": {
      "application/vnd.jupyter.widget-view+json": {
       "model_id": "",
       "version_major": 2,
       "version_minor": 0
      },
      "text/plain": [
       "Minibatch:   0%|          | 0/8 [00:00<?, ?it/s]"
      ]
     },
     "metadata": {},
     "output_type": "display_data"
    },
    {
     "data": {
      "application/vnd.jupyter.widget-view+json": {
       "model_id": "",
       "version_major": 2,
       "version_minor": 0
      },
      "text/plain": [
       "Minibatch:   0%|          | 0/8 [00:00<?, ?it/s]"
      ]
     },
     "metadata": {},
     "output_type": "display_data"
    },
    {
     "data": {
      "application/vnd.jupyter.widget-view+json": {
       "model_id": "",
       "version_major": 2,
       "version_minor": 0
      },
      "text/plain": [
       "Minibatch:   0%|          | 0/8 [00:00<?, ?it/s]"
      ]
     },
     "metadata": {},
     "output_type": "display_data"
    },
    {
     "data": {
      "application/vnd.jupyter.widget-view+json": {
       "model_id": "",
       "version_major": 2,
       "version_minor": 0
      },
      "text/plain": [
       "Minibatch:   0%|          | 0/8 [00:00<?, ?it/s]"
      ]
     },
     "metadata": {},
     "output_type": "display_data"
    },
    {
     "data": {
      "application/vnd.jupyter.widget-view+json": {
       "model_id": "",
       "version_major": 2,
       "version_minor": 0
      },
      "text/plain": [
       "Minibatch:   0%|          | 0/8 [00:00<?, ?it/s]"
      ]
     },
     "metadata": {},
     "output_type": "display_data"
    },
    {
     "data": {
      "application/vnd.jupyter.widget-view+json": {
       "model_id": "",
       "version_major": 2,
       "version_minor": 0
      },
      "text/plain": [
       "Minibatch:   0%|          | 0/8 [00:00<?, ?it/s]"
      ]
     },
     "metadata": {},
     "output_type": "display_data"
    },
    {
     "data": {
      "application/vnd.jupyter.widget-view+json": {
       "model_id": "",
       "version_major": 2,
       "version_minor": 0
      },
      "text/plain": [
       "Minibatch:   0%|          | 0/8 [00:00<?, ?it/s]"
      ]
     },
     "metadata": {},
     "output_type": "display_data"
    },
    {
     "data": {
      "application/vnd.jupyter.widget-view+json": {
       "model_id": "",
       "version_major": 2,
       "version_minor": 0
      },
      "text/plain": [
       "Minibatch:   0%|          | 0/8 [00:00<?, ?it/s]"
      ]
     },
     "metadata": {},
     "output_type": "display_data"
    },
    {
     "data": {
      "application/vnd.jupyter.widget-view+json": {
       "model_id": "",
       "version_major": 2,
       "version_minor": 0
      },
      "text/plain": [
       "Minibatch:   0%|          | 0/8 [00:00<?, ?it/s]"
      ]
     },
     "metadata": {},
     "output_type": "display_data"
    },
    {
     "data": {
      "application/vnd.jupyter.widget-view+json": {
       "model_id": "",
       "version_major": 2,
       "version_minor": 0
      },
      "text/plain": [
       "Minibatch:   0%|          | 0/8 [00:00<?, ?it/s]"
      ]
     },
     "metadata": {},
     "output_type": "display_data"
    },
    {
     "data": {
      "application/vnd.jupyter.widget-view+json": {
       "model_id": "",
       "version_major": 2,
       "version_minor": 0
      },
      "text/plain": [
       "Minibatch:   0%|          | 0/8 [00:00<?, ?it/s]"
      ]
     },
     "metadata": {},
     "output_type": "display_data"
    },
    {
     "data": {
      "application/vnd.jupyter.widget-view+json": {
       "model_id": "",
       "version_major": 2,
       "version_minor": 0
      },
      "text/plain": [
       "Minibatch:   0%|          | 0/8 [00:00<?, ?it/s]"
      ]
     },
     "metadata": {},
     "output_type": "display_data"
    },
    {
     "data": {
      "application/vnd.jupyter.widget-view+json": {
       "model_id": "",
       "version_major": 2,
       "version_minor": 0
      },
      "text/plain": [
       "Minibatch:   0%|          | 0/8 [00:00<?, ?it/s]"
      ]
     },
     "metadata": {},
     "output_type": "display_data"
    },
    {
     "data": {
      "application/vnd.jupyter.widget-view+json": {
       "model_id": "",
       "version_major": 2,
       "version_minor": 0
      },
      "text/plain": [
       "Minibatch:   0%|          | 0/8 [00:00<?, ?it/s]"
      ]
     },
     "metadata": {},
     "output_type": "display_data"
    },
    {
     "data": {
      "application/vnd.jupyter.widget-view+json": {
       "model_id": "",
       "version_major": 2,
       "version_minor": 0
      },
      "text/plain": [
       "Minibatch:   0%|          | 0/8 [00:00<?, ?it/s]"
      ]
     },
     "metadata": {},
     "output_type": "display_data"
    },
    {
     "data": {
      "application/vnd.jupyter.widget-view+json": {
       "model_id": "",
       "version_major": 2,
       "version_minor": 0
      },
      "text/plain": [
       "Minibatch:   0%|          | 0/8 [00:00<?, ?it/s]"
      ]
     },
     "metadata": {},
     "output_type": "display_data"
    },
    {
     "data": {
      "application/vnd.jupyter.widget-view+json": {
       "model_id": "",
       "version_major": 2,
       "version_minor": 0
      },
      "text/plain": [
       "Minibatch:   0%|          | 0/8 [00:00<?, ?it/s]"
      ]
     },
     "metadata": {},
     "output_type": "display_data"
    },
    {
     "data": {
      "application/vnd.jupyter.widget-view+json": {
       "model_id": "",
       "version_major": 2,
       "version_minor": 0
      },
      "text/plain": [
       "Minibatch:   0%|          | 0/8 [00:00<?, ?it/s]"
      ]
     },
     "metadata": {},
     "output_type": "display_data"
    },
    {
     "data": {
      "application/vnd.jupyter.widget-view+json": {
       "model_id": "",
       "version_major": 2,
       "version_minor": 0
      },
      "text/plain": [
       "Minibatch:   0%|          | 0/8 [00:00<?, ?it/s]"
      ]
     },
     "metadata": {},
     "output_type": "display_data"
    },
    {
     "data": {
      "application/vnd.jupyter.widget-view+json": {
       "model_id": "",
       "version_major": 2,
       "version_minor": 0
      },
      "text/plain": [
       "Minibatch:   0%|          | 0/8 [00:00<?, ?it/s]"
      ]
     },
     "metadata": {},
     "output_type": "display_data"
    },
    {
     "data": {
      "application/vnd.jupyter.widget-view+json": {
       "model_id": "",
       "version_major": 2,
       "version_minor": 0
      },
      "text/plain": [
       "Minibatch:   0%|          | 0/8 [00:00<?, ?it/s]"
      ]
     },
     "metadata": {},
     "output_type": "display_data"
    },
    {
     "data": {
      "application/vnd.jupyter.widget-view+json": {
       "model_id": "",
       "version_major": 2,
       "version_minor": 0
      },
      "text/plain": [
       "Minibatch:   0%|          | 0/8 [00:00<?, ?it/s]"
      ]
     },
     "metadata": {},
     "output_type": "display_data"
    },
    {
     "data": {
      "application/vnd.jupyter.widget-view+json": {
       "model_id": "",
       "version_major": 2,
       "version_minor": 0
      },
      "text/plain": [
       "Minibatch:   0%|          | 0/8 [00:00<?, ?it/s]"
      ]
     },
     "metadata": {},
     "output_type": "display_data"
    },
    {
     "data": {
      "application/vnd.jupyter.widget-view+json": {
       "model_id": "",
       "version_major": 2,
       "version_minor": 0
      },
      "text/plain": [
       "Minibatch:   0%|          | 0/8 [00:00<?, ?it/s]"
      ]
     },
     "metadata": {},
     "output_type": "display_data"
    },
    {
     "data": {
      "application/vnd.jupyter.widget-view+json": {
       "model_id": "",
       "version_major": 2,
       "version_minor": 0
      },
      "text/plain": [
       "Minibatch:   0%|          | 0/8 [00:00<?, ?it/s]"
      ]
     },
     "metadata": {},
     "output_type": "display_data"
    },
    {
     "data": {
      "application/vnd.jupyter.widget-view+json": {
       "model_id": "",
       "version_major": 2,
       "version_minor": 0
      },
      "text/plain": [
       "Minibatch:   0%|          | 0/8 [00:00<?, ?it/s]"
      ]
     },
     "metadata": {},
     "output_type": "display_data"
    },
    {
     "data": {
      "application/vnd.jupyter.widget-view+json": {
       "model_id": "",
       "version_major": 2,
       "version_minor": 0
      },
      "text/plain": [
       "Minibatch:   0%|          | 0/8 [00:00<?, ?it/s]"
      ]
     },
     "metadata": {},
     "output_type": "display_data"
    },
    {
     "data": {
      "application/vnd.jupyter.widget-view+json": {
       "model_id": "",
       "version_major": 2,
       "version_minor": 0
      },
      "text/plain": [
       "Minibatch:   0%|          | 0/8 [00:00<?, ?it/s]"
      ]
     },
     "metadata": {},
     "output_type": "display_data"
    },
    {
     "data": {
      "application/vnd.jupyter.widget-view+json": {
       "model_id": "",
       "version_major": 2,
       "version_minor": 0
      },
      "text/plain": [
       "Minibatch:   0%|          | 0/8 [00:00<?, ?it/s]"
      ]
     },
     "metadata": {},
     "output_type": "display_data"
    },
    {
     "data": {
      "application/vnd.jupyter.widget-view+json": {
       "model_id": "",
       "version_major": 2,
       "version_minor": 0
      },
      "text/plain": [
       "Minibatch:   0%|          | 0/8 [00:00<?, ?it/s]"
      ]
     },
     "metadata": {},
     "output_type": "display_data"
    },
    {
     "data": {
      "application/vnd.jupyter.widget-view+json": {
       "model_id": "",
       "version_major": 2,
       "version_minor": 0
      },
      "text/plain": [
       "Minibatch:   0%|          | 0/8 [00:00<?, ?it/s]"
      ]
     },
     "metadata": {},
     "output_type": "display_data"
    },
    {
     "data": {
      "application/vnd.jupyter.widget-view+json": {
       "model_id": "",
       "version_major": 2,
       "version_minor": 0
      },
      "text/plain": [
       "Minibatch:   0%|          | 0/8 [00:00<?, ?it/s]"
      ]
     },
     "metadata": {},
     "output_type": "display_data"
    },
    {
     "data": {
      "application/vnd.jupyter.widget-view+json": {
       "model_id": "",
       "version_major": 2,
       "version_minor": 0
      },
      "text/plain": [
       "Minibatch:   0%|          | 0/8 [00:00<?, ?it/s]"
      ]
     },
     "metadata": {},
     "output_type": "display_data"
    },
    {
     "data": {
      "application/vnd.jupyter.widget-view+json": {
       "model_id": "",
       "version_major": 2,
       "version_minor": 0
      },
      "text/plain": [
       "Minibatch:   0%|          | 0/8 [00:00<?, ?it/s]"
      ]
     },
     "metadata": {},
     "output_type": "display_data"
    },
    {
     "data": {
      "application/vnd.jupyter.widget-view+json": {
       "model_id": "",
       "version_major": 2,
       "version_minor": 0
      },
      "text/plain": [
       "Minibatch:   0%|          | 0/8 [00:00<?, ?it/s]"
      ]
     },
     "metadata": {},
     "output_type": "display_data"
    },
    {
     "data": {
      "application/vnd.jupyter.widget-view+json": {
       "model_id": "",
       "version_major": 2,
       "version_minor": 0
      },
      "text/plain": [
       "Minibatch:   0%|          | 0/8 [00:00<?, ?it/s]"
      ]
     },
     "metadata": {},
     "output_type": "display_data"
    },
    {
     "data": {
      "application/vnd.jupyter.widget-view+json": {
       "model_id": "",
       "version_major": 2,
       "version_minor": 0
      },
      "text/plain": [
       "Minibatch:   0%|          | 0/8 [00:00<?, ?it/s]"
      ]
     },
     "metadata": {},
     "output_type": "display_data"
    },
    {
     "data": {
      "application/vnd.jupyter.widget-view+json": {
       "model_id": "",
       "version_major": 2,
       "version_minor": 0
      },
      "text/plain": [
       "Minibatch:   0%|          | 0/8 [00:00<?, ?it/s]"
      ]
     },
     "metadata": {},
     "output_type": "display_data"
    },
    {
     "data": {
      "application/vnd.jupyter.widget-view+json": {
       "model_id": "",
       "version_major": 2,
       "version_minor": 0
      },
      "text/plain": [
       "Minibatch:   0%|          | 0/8 [00:00<?, ?it/s]"
      ]
     },
     "metadata": {},
     "output_type": "display_data"
    },
    {
     "data": {
      "application/vnd.jupyter.widget-view+json": {
       "model_id": "",
       "version_major": 2,
       "version_minor": 0
      },
      "text/plain": [
       "Minibatch:   0%|          | 0/8 [00:00<?, ?it/s]"
      ]
     },
     "metadata": {},
     "output_type": "display_data"
    },
    {
     "data": {
      "application/vnd.jupyter.widget-view+json": {
       "model_id": "",
       "version_major": 2,
       "version_minor": 0
      },
      "text/plain": [
       "Minibatch:   0%|          | 0/8 [00:00<?, ?it/s]"
      ]
     },
     "metadata": {},
     "output_type": "display_data"
    },
    {
     "data": {
      "application/vnd.jupyter.widget-view+json": {
       "model_id": "",
       "version_major": 2,
       "version_minor": 0
      },
      "text/plain": [
       "Minibatch:   0%|          | 0/8 [00:00<?, ?it/s]"
      ]
     },
     "metadata": {},
     "output_type": "display_data"
    },
    {
     "data": {
      "application/vnd.jupyter.widget-view+json": {
       "model_id": "",
       "version_major": 2,
       "version_minor": 0
      },
      "text/plain": [
       "Minibatch:   0%|          | 0/8 [00:00<?, ?it/s]"
      ]
     },
     "metadata": {},
     "output_type": "display_data"
    },
    {
     "data": {
      "application/vnd.jupyter.widget-view+json": {
       "model_id": "",
       "version_major": 2,
       "version_minor": 0
      },
      "text/plain": [
       "Minibatch:   0%|          | 0/8 [00:00<?, ?it/s]"
      ]
     },
     "metadata": {},
     "output_type": "display_data"
    },
    {
     "data": {
      "application/vnd.jupyter.widget-view+json": {
       "model_id": "",
       "version_major": 2,
       "version_minor": 0
      },
      "text/plain": [
       "Minibatch:   0%|          | 0/8 [00:00<?, ?it/s]"
      ]
     },
     "metadata": {},
     "output_type": "display_data"
    },
    {
     "data": {
      "application/vnd.jupyter.widget-view+json": {
       "model_id": "",
       "version_major": 2,
       "version_minor": 0
      },
      "text/plain": [
       "Minibatch:   0%|          | 0/8 [00:00<?, ?it/s]"
      ]
     },
     "metadata": {},
     "output_type": "display_data"
    },
    {
     "data": {
      "application/vnd.jupyter.widget-view+json": {
       "model_id": "",
       "version_major": 2,
       "version_minor": 0
      },
      "text/plain": [
       "Minibatch:   0%|          | 0/8 [00:00<?, ?it/s]"
      ]
     },
     "metadata": {},
     "output_type": "display_data"
    },
    {
     "data": {
      "application/vnd.jupyter.widget-view+json": {
       "model_id": "",
       "version_major": 2,
       "version_minor": 0
      },
      "text/plain": [
       "Minibatch:   0%|          | 0/8 [00:00<?, ?it/s]"
      ]
     },
     "metadata": {},
     "output_type": "display_data"
    },
    {
     "data": {
      "application/vnd.jupyter.widget-view+json": {
       "model_id": "",
       "version_major": 2,
       "version_minor": 0
      },
      "text/plain": [
       "Minibatch:   0%|          | 0/8 [00:00<?, ?it/s]"
      ]
     },
     "metadata": {},
     "output_type": "display_data"
    },
    {
     "data": {
      "application/vnd.jupyter.widget-view+json": {
       "model_id": "",
       "version_major": 2,
       "version_minor": 0
      },
      "text/plain": [
       "Minibatch:   0%|          | 0/8 [00:00<?, ?it/s]"
      ]
     },
     "metadata": {},
     "output_type": "display_data"
    },
    {
     "data": {
      "application/vnd.jupyter.widget-view+json": {
       "model_id": "",
       "version_major": 2,
       "version_minor": 0
      },
      "text/plain": [
       "Minibatch:   0%|          | 0/8 [00:00<?, ?it/s]"
      ]
     },
     "metadata": {},
     "output_type": "display_data"
    },
    {
     "data": {
      "application/vnd.jupyter.widget-view+json": {
       "model_id": "",
       "version_major": 2,
       "version_minor": 0
      },
      "text/plain": [
       "Minibatch:   0%|          | 0/8 [00:00<?, ?it/s]"
      ]
     },
     "metadata": {},
     "output_type": "display_data"
    },
    {
     "data": {
      "application/vnd.jupyter.widget-view+json": {
       "model_id": "",
       "version_major": 2,
       "version_minor": 0
      },
      "text/plain": [
       "Minibatch:   0%|          | 0/8 [00:00<?, ?it/s]"
      ]
     },
     "metadata": {},
     "output_type": "display_data"
    },
    {
     "data": {
      "application/vnd.jupyter.widget-view+json": {
       "model_id": "",
       "version_major": 2,
       "version_minor": 0
      },
      "text/plain": [
       "Minibatch:   0%|          | 0/8 [00:00<?, ?it/s]"
      ]
     },
     "metadata": {},
     "output_type": "display_data"
    },
    {
     "data": {
      "application/vnd.jupyter.widget-view+json": {
       "model_id": "",
       "version_major": 2,
       "version_minor": 0
      },
      "text/plain": [
       "Minibatch:   0%|          | 0/8 [00:00<?, ?it/s]"
      ]
     },
     "metadata": {},
     "output_type": "display_data"
    },
    {
     "data": {
      "application/vnd.jupyter.widget-view+json": {
       "model_id": "",
       "version_major": 2,
       "version_minor": 0
      },
      "text/plain": [
       "Minibatch:   0%|          | 0/8 [00:00<?, ?it/s]"
      ]
     },
     "metadata": {},
     "output_type": "display_data"
    },
    {
     "data": {
      "application/vnd.jupyter.widget-view+json": {
       "model_id": "",
       "version_major": 2,
       "version_minor": 0
      },
      "text/plain": [
       "Minibatch:   0%|          | 0/8 [00:00<?, ?it/s]"
      ]
     },
     "metadata": {},
     "output_type": "display_data"
    },
    {
     "data": {
      "application/vnd.jupyter.widget-view+json": {
       "model_id": "",
       "version_major": 2,
       "version_minor": 0
      },
      "text/plain": [
       "Minibatch:   0%|          | 0/8 [00:00<?, ?it/s]"
      ]
     },
     "metadata": {},
     "output_type": "display_data"
    },
    {
     "data": {
      "application/vnd.jupyter.widget-view+json": {
       "model_id": "",
       "version_major": 2,
       "version_minor": 0
      },
      "text/plain": [
       "Minibatch:   0%|          | 0/8 [00:00<?, ?it/s]"
      ]
     },
     "metadata": {},
     "output_type": "display_data"
    },
    {
     "data": {
      "application/vnd.jupyter.widget-view+json": {
       "model_id": "",
       "version_major": 2,
       "version_minor": 0
      },
      "text/plain": [
       "Minibatch:   0%|          | 0/8 [00:00<?, ?it/s]"
      ]
     },
     "metadata": {},
     "output_type": "display_data"
    },
    {
     "data": {
      "application/vnd.jupyter.widget-view+json": {
       "model_id": "",
       "version_major": 2,
       "version_minor": 0
      },
      "text/plain": [
       "Minibatch:   0%|          | 0/8 [00:00<?, ?it/s]"
      ]
     },
     "metadata": {},
     "output_type": "display_data"
    },
    {
     "data": {
      "application/vnd.jupyter.widget-view+json": {
       "model_id": "",
       "version_major": 2,
       "version_minor": 0
      },
      "text/plain": [
       "Minibatch:   0%|          | 0/8 [00:00<?, ?it/s]"
      ]
     },
     "metadata": {},
     "output_type": "display_data"
    },
    {
     "data": {
      "application/vnd.jupyter.widget-view+json": {
       "model_id": "",
       "version_major": 2,
       "version_minor": 0
      },
      "text/plain": [
       "Minibatch:   0%|          | 0/8 [00:00<?, ?it/s]"
      ]
     },
     "metadata": {},
     "output_type": "display_data"
    },
    {
     "data": {
      "application/vnd.jupyter.widget-view+json": {
       "model_id": "",
       "version_major": 2,
       "version_minor": 0
      },
      "text/plain": [
       "Minibatch:   0%|          | 0/8 [00:00<?, ?it/s]"
      ]
     },
     "metadata": {},
     "output_type": "display_data"
    },
    {
     "data": {
      "application/vnd.jupyter.widget-view+json": {
       "model_id": "",
       "version_major": 2,
       "version_minor": 0
      },
      "text/plain": [
       "Minibatch:   0%|          | 0/8 [00:00<?, ?it/s]"
      ]
     },
     "metadata": {},
     "output_type": "display_data"
    },
    {
     "data": {
      "application/vnd.jupyter.widget-view+json": {
       "model_id": "",
       "version_major": 2,
       "version_minor": 0
      },
      "text/plain": [
       "Minibatch:   0%|          | 0/8 [00:00<?, ?it/s]"
      ]
     },
     "metadata": {},
     "output_type": "display_data"
    },
    {
     "data": {
      "application/vnd.jupyter.widget-view+json": {
       "model_id": "",
       "version_major": 2,
       "version_minor": 0
      },
      "text/plain": [
       "Minibatch:   0%|          | 0/8 [00:00<?, ?it/s]"
      ]
     },
     "metadata": {},
     "output_type": "display_data"
    },
    {
     "data": {
      "application/vnd.jupyter.widget-view+json": {
       "model_id": "",
       "version_major": 2,
       "version_minor": 0
      },
      "text/plain": [
       "Minibatch:   0%|          | 0/8 [00:00<?, ?it/s]"
      ]
     },
     "metadata": {},
     "output_type": "display_data"
    },
    {
     "data": {
      "application/vnd.jupyter.widget-view+json": {
       "model_id": "",
       "version_major": 2,
       "version_minor": 0
      },
      "text/plain": [
       "Minibatch:   0%|          | 0/8 [00:00<?, ?it/s]"
      ]
     },
     "metadata": {},
     "output_type": "display_data"
    },
    {
     "data": {
      "application/vnd.jupyter.widget-view+json": {
       "model_id": "",
       "version_major": 2,
       "version_minor": 0
      },
      "text/plain": [
       "Minibatch:   0%|          | 0/8 [00:00<?, ?it/s]"
      ]
     },
     "metadata": {},
     "output_type": "display_data"
    },
    {
     "data": {
      "application/vnd.jupyter.widget-view+json": {
       "model_id": "",
       "version_major": 2,
       "version_minor": 0
      },
      "text/plain": [
       "Minibatch:   0%|          | 0/8 [00:00<?, ?it/s]"
      ]
     },
     "metadata": {},
     "output_type": "display_data"
    },
    {
     "data": {
      "application/vnd.jupyter.widget-view+json": {
       "model_id": "",
       "version_major": 2,
       "version_minor": 0
      },
      "text/plain": [
       "Minibatch:   0%|          | 0/8 [00:00<?, ?it/s]"
      ]
     },
     "metadata": {},
     "output_type": "display_data"
    },
    {
     "data": {
      "application/vnd.jupyter.widget-view+json": {
       "model_id": "",
       "version_major": 2,
       "version_minor": 0
      },
      "text/plain": [
       "Minibatch:   0%|          | 0/8 [00:00<?, ?it/s]"
      ]
     },
     "metadata": {},
     "output_type": "display_data"
    },
    {
     "data": {
      "application/vnd.jupyter.widget-view+json": {
       "model_id": "",
       "version_major": 2,
       "version_minor": 0
      },
      "text/plain": [
       "Minibatch:   0%|          | 0/8 [00:00<?, ?it/s]"
      ]
     },
     "metadata": {},
     "output_type": "display_data"
    },
    {
     "data": {
      "application/vnd.jupyter.widget-view+json": {
       "model_id": "",
       "version_major": 2,
       "version_minor": 0
      },
      "text/plain": [
       "Minibatch:   0%|          | 0/8 [00:00<?, ?it/s]"
      ]
     },
     "metadata": {},
     "output_type": "display_data"
    },
    {
     "data": {
      "application/vnd.jupyter.widget-view+json": {
       "model_id": "",
       "version_major": 2,
       "version_minor": 0
      },
      "text/plain": [
       "Minibatch:   0%|          | 0/8 [00:00<?, ?it/s]"
      ]
     },
     "metadata": {},
     "output_type": "display_data"
    },
    {
     "data": {
      "application/vnd.jupyter.widget-view+json": {
       "model_id": "",
       "version_major": 2,
       "version_minor": 0
      },
      "text/plain": [
       "Minibatch:   0%|          | 0/8 [00:00<?, ?it/s]"
      ]
     },
     "metadata": {},
     "output_type": "display_data"
    },
    {
     "data": {
      "application/vnd.jupyter.widget-view+json": {
       "model_id": "",
       "version_major": 2,
       "version_minor": 0
      },
      "text/plain": [
       "Minibatch:   0%|          | 0/8 [00:00<?, ?it/s]"
      ]
     },
     "metadata": {},
     "output_type": "display_data"
    },
    {
     "data": {
      "application/vnd.jupyter.widget-view+json": {
       "model_id": "",
       "version_major": 2,
       "version_minor": 0
      },
      "text/plain": [
       "Minibatch:   0%|          | 0/8 [00:00<?, ?it/s]"
      ]
     },
     "metadata": {},
     "output_type": "display_data"
    },
    {
     "data": {
      "application/vnd.jupyter.widget-view+json": {
       "model_id": "",
       "version_major": 2,
       "version_minor": 0
      },
      "text/plain": [
       "Minibatch:   0%|          | 0/8 [00:00<?, ?it/s]"
      ]
     },
     "metadata": {},
     "output_type": "display_data"
    },
    {
     "data": {
      "application/vnd.jupyter.widget-view+json": {
       "model_id": "",
       "version_major": 2,
       "version_minor": 0
      },
      "text/plain": [
       "Minibatch:   0%|          | 0/8 [00:00<?, ?it/s]"
      ]
     },
     "metadata": {},
     "output_type": "display_data"
    },
    {
     "data": {
      "application/vnd.jupyter.widget-view+json": {
       "model_id": "",
       "version_major": 2,
       "version_minor": 0
      },
      "text/plain": [
       "Minibatch:   0%|          | 0/8 [00:00<?, ?it/s]"
      ]
     },
     "metadata": {},
     "output_type": "display_data"
    },
    {
     "data": {
      "application/vnd.jupyter.widget-view+json": {
       "model_id": "",
       "version_major": 2,
       "version_minor": 0
      },
      "text/plain": [
       "Minibatch:   0%|          | 0/8 [00:00<?, ?it/s]"
      ]
     },
     "metadata": {},
     "output_type": "display_data"
    },
    {
     "data": {
      "application/vnd.jupyter.widget-view+json": {
       "model_id": "",
       "version_major": 2,
       "version_minor": 0
      },
      "text/plain": [
       "Minibatch:   0%|          | 0/8 [00:00<?, ?it/s]"
      ]
     },
     "metadata": {},
     "output_type": "display_data"
    },
    {
     "data": {
      "application/vnd.jupyter.widget-view+json": {
       "model_id": "",
       "version_major": 2,
       "version_minor": 0
      },
      "text/plain": [
       "Minibatch:   0%|          | 0/8 [00:00<?, ?it/s]"
      ]
     },
     "metadata": {},
     "output_type": "display_data"
    },
    {
     "data": {
      "application/vnd.jupyter.widget-view+json": {
       "model_id": "",
       "version_major": 2,
       "version_minor": 0
      },
      "text/plain": [
       "Minibatch:   0%|          | 0/8 [00:00<?, ?it/s]"
      ]
     },
     "metadata": {},
     "output_type": "display_data"
    },
    {
     "data": {
      "application/vnd.jupyter.widget-view+json": {
       "model_id": "",
       "version_major": 2,
       "version_minor": 0
      },
      "text/plain": [
       "Minibatch:   0%|          | 0/8 [00:00<?, ?it/s]"
      ]
     },
     "metadata": {},
     "output_type": "display_data"
    },
    {
     "data": {
      "application/vnd.jupyter.widget-view+json": {
       "model_id": "",
       "version_major": 2,
       "version_minor": 0
      },
      "text/plain": [
       "Minibatch:   0%|          | 0/8 [00:00<?, ?it/s]"
      ]
     },
     "metadata": {},
     "output_type": "display_data"
    },
    {
     "data": {
      "application/vnd.jupyter.widget-view+json": {
       "model_id": "",
       "version_major": 2,
       "version_minor": 0
      },
      "text/plain": [
       "Minibatch:   0%|          | 0/8 [00:00<?, ?it/s]"
      ]
     },
     "metadata": {},
     "output_type": "display_data"
    },
    {
     "data": {
      "application/vnd.jupyter.widget-view+json": {
       "model_id": "",
       "version_major": 2,
       "version_minor": 0
      },
      "text/plain": [
       "Minibatch:   0%|          | 0/8 [00:00<?, ?it/s]"
      ]
     },
     "metadata": {},
     "output_type": "display_data"
    },
    {
     "data": {
      "application/vnd.jupyter.widget-view+json": {
       "model_id": "",
       "version_major": 2,
       "version_minor": 0
      },
      "text/plain": [
       "Minibatch:   0%|          | 0/8 [00:00<?, ?it/s]"
      ]
     },
     "metadata": {},
     "output_type": "display_data"
    },
    {
     "data": {
      "application/vnd.jupyter.widget-view+json": {
       "model_id": "",
       "version_major": 2,
       "version_minor": 0
      },
      "text/plain": [
       "Minibatch:   0%|          | 0/8 [00:00<?, ?it/s]"
      ]
     },
     "metadata": {},
     "output_type": "display_data"
    },
    {
     "data": {
      "application/vnd.jupyter.widget-view+json": {
       "model_id": "",
       "version_major": 2,
       "version_minor": 0
      },
      "text/plain": [
       "Minibatch:   0%|          | 0/8 [00:00<?, ?it/s]"
      ]
     },
     "metadata": {},
     "output_type": "display_data"
    },
    {
     "data": {
      "application/vnd.jupyter.widget-view+json": {
       "model_id": "",
       "version_major": 2,
       "version_minor": 0
      },
      "text/plain": [
       "Minibatch:   0%|          | 0/8 [00:00<?, ?it/s]"
      ]
     },
     "metadata": {},
     "output_type": "display_data"
    },
    {
     "data": {
      "application/vnd.jupyter.widget-view+json": {
       "model_id": "",
       "version_major": 2,
       "version_minor": 0
      },
      "text/plain": [
       "Minibatch:   0%|          | 0/8 [00:00<?, ?it/s]"
      ]
     },
     "metadata": {},
     "output_type": "display_data"
    },
    {
     "data": {
      "application/vnd.jupyter.widget-view+json": {
       "model_id": "",
       "version_major": 2,
       "version_minor": 0
      },
      "text/plain": [
       "Minibatch:   0%|          | 0/8 [00:00<?, ?it/s]"
      ]
     },
     "metadata": {},
     "output_type": "display_data"
    },
    {
     "data": {
      "application/vnd.jupyter.widget-view+json": {
       "model_id": "",
       "version_major": 2,
       "version_minor": 0
      },
      "text/plain": [
       "Minibatch:   0%|          | 0/8 [00:00<?, ?it/s]"
      ]
     },
     "metadata": {},
     "output_type": "display_data"
    },
    {
     "data": {
      "application/vnd.jupyter.widget-view+json": {
       "model_id": "",
       "version_major": 2,
       "version_minor": 0
      },
      "text/plain": [
       "Minibatch:   0%|          | 0/8 [00:00<?, ?it/s]"
      ]
     },
     "metadata": {},
     "output_type": "display_data"
    },
    {
     "data": {
      "application/vnd.jupyter.widget-view+json": {
       "model_id": "",
       "version_major": 2,
       "version_minor": 0
      },
      "text/plain": [
       "Minibatch:   0%|          | 0/8 [00:00<?, ?it/s]"
      ]
     },
     "metadata": {},
     "output_type": "display_data"
    },
    {
     "data": {
      "application/vnd.jupyter.widget-view+json": {
       "model_id": "",
       "version_major": 2,
       "version_minor": 0
      },
      "text/plain": [
       "Minibatch:   0%|          | 0/8 [00:00<?, ?it/s]"
      ]
     },
     "metadata": {},
     "output_type": "display_data"
    },
    {
     "data": {
      "application/vnd.jupyter.widget-view+json": {
       "model_id": "",
       "version_major": 2,
       "version_minor": 0
      },
      "text/plain": [
       "Minibatch:   0%|          | 0/8 [00:00<?, ?it/s]"
      ]
     },
     "metadata": {},
     "output_type": "display_data"
    },
    {
     "data": {
      "application/vnd.jupyter.widget-view+json": {
       "model_id": "",
       "version_major": 2,
       "version_minor": 0
      },
      "text/plain": [
       "Minibatch:   0%|          | 0/8 [00:00<?, ?it/s]"
      ]
     },
     "metadata": {},
     "output_type": "display_data"
    },
    {
     "data": {
      "application/vnd.jupyter.widget-view+json": {
       "model_id": "",
       "version_major": 2,
       "version_minor": 0
      },
      "text/plain": [
       "Minibatch:   0%|          | 0/8 [00:00<?, ?it/s]"
      ]
     },
     "metadata": {},
     "output_type": "display_data"
    },
    {
     "data": {
      "application/vnd.jupyter.widget-view+json": {
       "model_id": "",
       "version_major": 2,
       "version_minor": 0
      },
      "text/plain": [
       "Minibatch:   0%|          | 0/8 [00:00<?, ?it/s]"
      ]
     },
     "metadata": {},
     "output_type": "display_data"
    },
    {
     "data": {
      "application/vnd.jupyter.widget-view+json": {
       "model_id": "",
       "version_major": 2,
       "version_minor": 0
      },
      "text/plain": [
       "Minibatch:   0%|          | 0/8 [00:00<?, ?it/s]"
      ]
     },
     "metadata": {},
     "output_type": "display_data"
    },
    {
     "data": {
      "application/vnd.jupyter.widget-view+json": {
       "model_id": "",
       "version_major": 2,
       "version_minor": 0
      },
      "text/plain": [
       "Minibatch:   0%|          | 0/8 [00:00<?, ?it/s]"
      ]
     },
     "metadata": {},
     "output_type": "display_data"
    },
    {
     "data": {
      "application/vnd.jupyter.widget-view+json": {
       "model_id": "",
       "version_major": 2,
       "version_minor": 0
      },
      "text/plain": [
       "Minibatch:   0%|          | 0/8 [00:00<?, ?it/s]"
      ]
     },
     "metadata": {},
     "output_type": "display_data"
    },
    {
     "data": {
      "application/vnd.jupyter.widget-view+json": {
       "model_id": "",
       "version_major": 2,
       "version_minor": 0
      },
      "text/plain": [
       "Minibatch:   0%|          | 0/8 [00:00<?, ?it/s]"
      ]
     },
     "metadata": {},
     "output_type": "display_data"
    },
    {
     "data": {
      "application/vnd.jupyter.widget-view+json": {
       "model_id": "",
       "version_major": 2,
       "version_minor": 0
      },
      "text/plain": [
       "Minibatch:   0%|          | 0/8 [00:00<?, ?it/s]"
      ]
     },
     "metadata": {},
     "output_type": "display_data"
    },
    {
     "data": {
      "application/vnd.jupyter.widget-view+json": {
       "model_id": "",
       "version_major": 2,
       "version_minor": 0
      },
      "text/plain": [
       "Minibatch:   0%|          | 0/8 [00:00<?, ?it/s]"
      ]
     },
     "metadata": {},
     "output_type": "display_data"
    },
    {
     "data": {
      "application/vnd.jupyter.widget-view+json": {
       "model_id": "",
       "version_major": 2,
       "version_minor": 0
      },
      "text/plain": [
       "Minibatch:   0%|          | 0/8 [00:00<?, ?it/s]"
      ]
     },
     "metadata": {},
     "output_type": "display_data"
    },
    {
     "data": {
      "application/vnd.jupyter.widget-view+json": {
       "model_id": "",
       "version_major": 2,
       "version_minor": 0
      },
      "text/plain": [
       "Minibatch:   0%|          | 0/8 [00:00<?, ?it/s]"
      ]
     },
     "metadata": {},
     "output_type": "display_data"
    },
    {
     "data": {
      "application/vnd.jupyter.widget-view+json": {
       "model_id": "",
       "version_major": 2,
       "version_minor": 0
      },
      "text/plain": [
       "Minibatch:   0%|          | 0/8 [00:00<?, ?it/s]"
      ]
     },
     "metadata": {},
     "output_type": "display_data"
    },
    {
     "data": {
      "application/vnd.jupyter.widget-view+json": {
       "model_id": "",
       "version_major": 2,
       "version_minor": 0
      },
      "text/plain": [
       "Minibatch:   0%|          | 0/8 [00:00<?, ?it/s]"
      ]
     },
     "metadata": {},
     "output_type": "display_data"
    },
    {
     "data": {
      "application/vnd.jupyter.widget-view+json": {
       "model_id": "",
       "version_major": 2,
       "version_minor": 0
      },
      "text/plain": [
       "Minibatch:   0%|          | 0/8 [00:00<?, ?it/s]"
      ]
     },
     "metadata": {},
     "output_type": "display_data"
    },
    {
     "data": {
      "application/vnd.jupyter.widget-view+json": {
       "model_id": "",
       "version_major": 2,
       "version_minor": 0
      },
      "text/plain": [
       "Minibatch:   0%|          | 0/8 [00:00<?, ?it/s]"
      ]
     },
     "metadata": {},
     "output_type": "display_data"
    },
    {
     "data": {
      "application/vnd.jupyter.widget-view+json": {
       "model_id": "",
       "version_major": 2,
       "version_minor": 0
      },
      "text/plain": [
       "Minibatch:   0%|          | 0/8 [00:00<?, ?it/s]"
      ]
     },
     "metadata": {},
     "output_type": "display_data"
    },
    {
     "data": {
      "application/vnd.jupyter.widget-view+json": {
       "model_id": "",
       "version_major": 2,
       "version_minor": 0
      },
      "text/plain": [
       "Minibatch:   0%|          | 0/8 [00:00<?, ?it/s]"
      ]
     },
     "metadata": {},
     "output_type": "display_data"
    },
    {
     "data": {
      "application/vnd.jupyter.widget-view+json": {
       "model_id": "",
       "version_major": 2,
       "version_minor": 0
      },
      "text/plain": [
       "Minibatch:   0%|          | 0/8 [00:00<?, ?it/s]"
      ]
     },
     "metadata": {},
     "output_type": "display_data"
    },
    {
     "data": {
      "application/vnd.jupyter.widget-view+json": {
       "model_id": "",
       "version_major": 2,
       "version_minor": 0
      },
      "text/plain": [
       "Minibatch:   0%|          | 0/8 [00:00<?, ?it/s]"
      ]
     },
     "metadata": {},
     "output_type": "display_data"
    },
    {
     "data": {
      "application/vnd.jupyter.widget-view+json": {
       "model_id": "",
       "version_major": 2,
       "version_minor": 0
      },
      "text/plain": [
       "Minibatch:   0%|          | 0/8 [00:00<?, ?it/s]"
      ]
     },
     "metadata": {},
     "output_type": "display_data"
    },
    {
     "data": {
      "application/vnd.jupyter.widget-view+json": {
       "model_id": "",
       "version_major": 2,
       "version_minor": 0
      },
      "text/plain": [
       "Minibatch:   0%|          | 0/8 [00:00<?, ?it/s]"
      ]
     },
     "metadata": {},
     "output_type": "display_data"
    },
    {
     "data": {
      "application/vnd.jupyter.widget-view+json": {
       "model_id": "",
       "version_major": 2,
       "version_minor": 0
      },
      "text/plain": [
       "Minibatch:   0%|          | 0/8 [00:00<?, ?it/s]"
      ]
     },
     "metadata": {},
     "output_type": "display_data"
    },
    {
     "data": {
      "application/vnd.jupyter.widget-view+json": {
       "model_id": "",
       "version_major": 2,
       "version_minor": 0
      },
      "text/plain": [
       "Minibatch:   0%|          | 0/8 [00:00<?, ?it/s]"
      ]
     },
     "metadata": {},
     "output_type": "display_data"
    },
    {
     "data": {
      "application/vnd.jupyter.widget-view+json": {
       "model_id": "",
       "version_major": 2,
       "version_minor": 0
      },
      "text/plain": [
       "Minibatch:   0%|          | 0/8 [00:00<?, ?it/s]"
      ]
     },
     "metadata": {},
     "output_type": "display_data"
    },
    {
     "data": {
      "application/vnd.jupyter.widget-view+json": {
       "model_id": "",
       "version_major": 2,
       "version_minor": 0
      },
      "text/plain": [
       "Minibatch:   0%|          | 0/8 [00:00<?, ?it/s]"
      ]
     },
     "metadata": {},
     "output_type": "display_data"
    },
    {
     "data": {
      "application/vnd.jupyter.widget-view+json": {
       "model_id": "",
       "version_major": 2,
       "version_minor": 0
      },
      "text/plain": [
       "Minibatch:   0%|          | 0/8 [00:00<?, ?it/s]"
      ]
     },
     "metadata": {},
     "output_type": "display_data"
    },
    {
     "data": {
      "application/vnd.jupyter.widget-view+json": {
       "model_id": "",
       "version_major": 2,
       "version_minor": 0
      },
      "text/plain": [
       "Minibatch:   0%|          | 0/8 [00:00<?, ?it/s]"
      ]
     },
     "metadata": {},
     "output_type": "display_data"
    },
    {
     "data": {
      "application/vnd.jupyter.widget-view+json": {
       "model_id": "",
       "version_major": 2,
       "version_minor": 0
      },
      "text/plain": [
       "Minibatch:   0%|          | 0/8 [00:00<?, ?it/s]"
      ]
     },
     "metadata": {},
     "output_type": "display_data"
    },
    {
     "data": {
      "application/vnd.jupyter.widget-view+json": {
       "model_id": "",
       "version_major": 2,
       "version_minor": 0
      },
      "text/plain": [
       "Minibatch:   0%|          | 0/8 [00:00<?, ?it/s]"
      ]
     },
     "metadata": {},
     "output_type": "display_data"
    },
    {
     "data": {
      "application/vnd.jupyter.widget-view+json": {
       "model_id": "",
       "version_major": 2,
       "version_minor": 0
      },
      "text/plain": [
       "Minibatch:   0%|          | 0/8 [00:00<?, ?it/s]"
      ]
     },
     "metadata": {},
     "output_type": "display_data"
    },
    {
     "data": {
      "application/vnd.jupyter.widget-view+json": {
       "model_id": "",
       "version_major": 2,
       "version_minor": 0
      },
      "text/plain": [
       "Minibatch:   0%|          | 0/8 [00:00<?, ?it/s]"
      ]
     },
     "metadata": {},
     "output_type": "display_data"
    },
    {
     "data": {
      "application/vnd.jupyter.widget-view+json": {
       "model_id": "",
       "version_major": 2,
       "version_minor": 0
      },
      "text/plain": [
       "Minibatch:   0%|          | 0/8 [00:00<?, ?it/s]"
      ]
     },
     "metadata": {},
     "output_type": "display_data"
    },
    {
     "data": {
      "application/vnd.jupyter.widget-view+json": {
       "model_id": "",
       "version_major": 2,
       "version_minor": 0
      },
      "text/plain": [
       "Minibatch:   0%|          | 0/8 [00:00<?, ?it/s]"
      ]
     },
     "metadata": {},
     "output_type": "display_data"
    },
    {
     "data": {
      "application/vnd.jupyter.widget-view+json": {
       "model_id": "",
       "version_major": 2,
       "version_minor": 0
      },
      "text/plain": [
       "Minibatch:   0%|          | 0/8 [00:00<?, ?it/s]"
      ]
     },
     "metadata": {},
     "output_type": "display_data"
    },
    {
     "data": {
      "application/vnd.jupyter.widget-view+json": {
       "model_id": "",
       "version_major": 2,
       "version_minor": 0
      },
      "text/plain": [
       "Minibatch:   0%|          | 0/8 [00:00<?, ?it/s]"
      ]
     },
     "metadata": {},
     "output_type": "display_data"
    },
    {
     "data": {
      "application/vnd.jupyter.widget-view+json": {
       "model_id": "",
       "version_major": 2,
       "version_minor": 0
      },
      "text/plain": [
       "Minibatch:   0%|          | 0/8 [00:00<?, ?it/s]"
      ]
     },
     "metadata": {},
     "output_type": "display_data"
    },
    {
     "data": {
      "application/vnd.jupyter.widget-view+json": {
       "model_id": "",
       "version_major": 2,
       "version_minor": 0
      },
      "text/plain": [
       "Minibatch:   0%|          | 0/8 [00:00<?, ?it/s]"
      ]
     },
     "metadata": {},
     "output_type": "display_data"
    },
    {
     "data": {
      "application/vnd.jupyter.widget-view+json": {
       "model_id": "",
       "version_major": 2,
       "version_minor": 0
      },
      "text/plain": [
       "Minibatch:   0%|          | 0/8 [00:00<?, ?it/s]"
      ]
     },
     "metadata": {},
     "output_type": "display_data"
    },
    {
     "data": {
      "application/vnd.jupyter.widget-view+json": {
       "model_id": "",
       "version_major": 2,
       "version_minor": 0
      },
      "text/plain": [
       "Minibatch:   0%|          | 0/8 [00:00<?, ?it/s]"
      ]
     },
     "metadata": {},
     "output_type": "display_data"
    },
    {
     "data": {
      "application/vnd.jupyter.widget-view+json": {
       "model_id": "",
       "version_major": 2,
       "version_minor": 0
      },
      "text/plain": [
       "Minibatch:   0%|          | 0/8 [00:00<?, ?it/s]"
      ]
     },
     "metadata": {},
     "output_type": "display_data"
    },
    {
     "data": {
      "application/vnd.jupyter.widget-view+json": {
       "model_id": "",
       "version_major": 2,
       "version_minor": 0
      },
      "text/plain": [
       "Minibatch:   0%|          | 0/8 [00:00<?, ?it/s]"
      ]
     },
     "metadata": {},
     "output_type": "display_data"
    },
    {
     "data": {
      "application/vnd.jupyter.widget-view+json": {
       "model_id": "",
       "version_major": 2,
       "version_minor": 0
      },
      "text/plain": [
       "Minibatch:   0%|          | 0/8 [00:00<?, ?it/s]"
      ]
     },
     "metadata": {},
     "output_type": "display_data"
    },
    {
     "data": {
      "application/vnd.jupyter.widget-view+json": {
       "model_id": "",
       "version_major": 2,
       "version_minor": 0
      },
      "text/plain": [
       "Minibatch:   0%|          | 0/8 [00:00<?, ?it/s]"
      ]
     },
     "metadata": {},
     "output_type": "display_data"
    },
    {
     "data": {
      "application/vnd.jupyter.widget-view+json": {
       "model_id": "",
       "version_major": 2,
       "version_minor": 0
      },
      "text/plain": [
       "Minibatch:   0%|          | 0/8 [00:00<?, ?it/s]"
      ]
     },
     "metadata": {},
     "output_type": "display_data"
    },
    {
     "data": {
      "application/vnd.jupyter.widget-view+json": {
       "model_id": "",
       "version_major": 2,
       "version_minor": 0
      },
      "text/plain": [
       "Minibatch:   0%|          | 0/8 [00:00<?, ?it/s]"
      ]
     },
     "metadata": {},
     "output_type": "display_data"
    },
    {
     "data": {
      "application/vnd.jupyter.widget-view+json": {
       "model_id": "",
       "version_major": 2,
       "version_minor": 0
      },
      "text/plain": [
       "Minibatch:   0%|          | 0/8 [00:00<?, ?it/s]"
      ]
     },
     "metadata": {},
     "output_type": "display_data"
    },
    {
     "data": {
      "application/vnd.jupyter.widget-view+json": {
       "model_id": "",
       "version_major": 2,
       "version_minor": 0
      },
      "text/plain": [
       "Minibatch:   0%|          | 0/8 [00:00<?, ?it/s]"
      ]
     },
     "metadata": {},
     "output_type": "display_data"
    }
   ],
   "source": [
    "from tqdm.autonotebook import tqdm\n",
    "# Begin training\n",
    "with gpytorch.settings.fast_computations(covar_root_decomposition=False, log_prob=False, solves=False), gpytorch.settings.debug(state=False):\n",
    "    epochs_iter = tqdm(range(num_epochs),desc=\"Epoch\")\n",
    "    for i in epochs_iter:\n",
    "        # Within each iteration, we will go over each minibatch of data\n",
    "        minibatch_iter = tqdm(train_loader, desc=\"Minibatch\", leave=False)\n",
    "        for x_batch, y_batch, y_noise_batch, task_batch in minibatch_iter:\n",
    "            # Zero gradients\n",
    "            hyperparameter_optimizer.zero_grad()\n",
    "            if variational_ngd_optimizer is not None:\n",
    "                variational_ngd_optimizer.zero_grad()\n",
    "    \n",
    "            # Get outputs\n",
    "            output = model(x_batch,task_indices=task_batch)\n",
    "            \n",
    "    \n",
    "            # Compute loss\n",
    "            if isinstance(likelihood, gpytorch.likelihoods.FixedNoiseGaussianLikelihood):\n",
    "                loss = -mll(output, y_batch, noise=(y_noise_batch+0.01))\n",
    "            else:\n",
    "                loss = -mll(output, y_batch)\n",
    "            # Call backward on loss\n",
    "            loss.backward()\n",
    "            # Take a step\n",
    "            hyperparameter_optimizer.step()\n",
    "            if variational_ngd_optimizer is not None:\n",
    "                variational_ngd_optimizer.step()\n",
    "    \n",
    "            # Update counter\n",
    "            minibatch_iter.set_postfix(loss=loss.item(),drug1_lengthscale = model.covar_module.base_kernel.lengthscale[0][2].item())\n",
    "    \n",
    "            # Track loss\n",
    "            train_loss.append(loss.item())\n",
    "    \n",
    "        # Step learning rate scheduler\n",
    "        scheduler_hypers.step()\n",
    "        if scheduler_variational is not None:\n",
    "            scheduler_variational.step()"
   ]
  },
  {
   "cell_type": "code",
   "execution_count": 108,
   "id": "aafbcdf6-e428-4bfd-8816-81ccba14e35e",
   "metadata": {},
   "outputs": [
    {
     "data": {
      "text/plain": [
       "tensor([[ 0.2786,  0.2786,  8.0343,  6.6035,  7.6387,  3.6832,  3.9853,  7.7641,\n",
       "          3.6928, 11.5442,  4.6175,  4.1324,  9.2308,  7.0170,  8.7696,  6.3915,\n",
       "          8.1590,  5.7224,  5.5586,  5.1129, 10.0211,  8.0746,  5.8807, 10.2964,\n",
       "          4.5516,  7.8679,  8.5113,  3.0525,  7.0132,  4.5654,  7.5012,  5.3686,\n",
       "          5.8343,  5.6273,  5.8291,  6.7961,  4.0343,  5.0122,  4.4734,  4.3778,\n",
       "          6.7885,  7.3331,  4.5182,  5.9913,  5.9013,  5.1267,  6.9711,  2.4013,\n",
       "          4.6839,  5.2455,  5.6661,  5.8090,  5.6577, 10.7543,  6.3165,  4.0449,\n",
       "          4.5682,  7.6448,  4.7431,  7.3092, 10.0988,  8.8458,  3.4302,  8.2054,\n",
       "          4.4917,  5.3523,  6.3497,  4.4976,  6.2790,  5.2065,  9.3025,  7.3940,\n",
       "          7.0611,  7.8696,  6.1819,  3.6021,  7.1059,  5.3265,  4.4871,  6.0245,\n",
       "          5.5373,  9.1836,  5.7316,  2.8647,  6.1133,  1.9358,  4.0154,  5.8569,\n",
       "          8.7349,  7.9348,  6.2028,  6.1744,  6.9629,  7.4588,  9.5559,  4.4274,\n",
       "          3.2380,  7.2574,  8.1912,  6.9764,  4.7378,  7.6880,  3.4631,  6.0576,\n",
       "          7.5038,  7.2653,  4.5192,  4.9156,  3.7181,  6.9411,  5.3178,  5.0538,\n",
       "          4.4596,  4.5341,  6.5320,  4.9515,  4.3283,  3.5785,  7.3792,  5.6550,\n",
       "          9.7284,  6.5678,  5.0148,  8.3668,  5.4703,  7.2537,  6.8955,  9.4580,\n",
       "          5.7754,  3.4145,  7.4844,  6.3301,  4.6283,  7.6636,  4.4488,  6.5421,\n",
       "          8.1043,  6.6338,  7.8504,  6.5655,  4.2068,  6.3044,  4.4984,  9.3609,\n",
       "          5.5987,  6.0673,  5.4007,  8.7430,  5.9685,  5.3438,  4.5557,  5.5671,\n",
       "          6.1981,  8.7122,  5.8817,  6.5207,  8.1230,  5.2058,  9.3668,  5.6943,\n",
       "          4.7931,  6.6755,  4.9153,  5.1041, 10.7919,  5.5949,  4.7707,  7.3891,\n",
       "          6.7507,  7.9128,  5.7535,  4.5775,  7.6318,  9.3681, 11.0327,  7.4006,\n",
       "          5.6460,  9.8883,  4.2879,  8.6765,  8.8343, 10.2605,  3.9036,  6.3629,\n",
       "          4.0673,  7.0815,  4.8459,  5.3682,  5.4722, 11.8164,  9.7533,  8.2566,\n",
       "          9.9908,  6.8553,  5.6820,  2.5562,  8.0295,  7.0118,  6.0345,  7.5724,\n",
       "          4.0234,  6.3315,  6.5407,  7.4348,  5.4507,  5.8967,  4.8360,  5.9140,\n",
       "          7.1261,  7.4717,  3.1907,  8.9615,  4.7710,  4.2595,  6.9912,  5.8498,\n",
       "          3.2546,  8.7234,  5.5824,  6.6361,  3.9804,  5.1521,  4.5130,  4.0992,\n",
       "          6.5112,  3.6634,  6.7151,  9.5854,  4.6209,  4.1187,  7.7509,  7.4115,\n",
       "          9.1267,  6.1065,  6.4720,  5.0933,  6.1188,  4.6054,  3.8594,  5.2088,\n",
       "          3.9673,  4.9278,  6.4245,  3.3608,  6.2012,  4.8212,  4.1657,  6.4870,\n",
       "          6.8514,  5.2333,  4.1894,  6.4656,  7.1364,  3.7865,  7.4925,  6.6042,\n",
       "          9.2224,  4.9708,  8.0343,  6.6035,  7.6387,  3.6832,  3.9853,  7.7641,\n",
       "          3.6928, 11.5442,  4.6175,  4.1324,  9.2308,  7.0170,  8.7696,  6.3915,\n",
       "          8.1590,  5.7224,  5.5586,  5.1129, 10.0211,  8.0746,  5.8807, 10.2964,\n",
       "          4.5516,  7.8679,  8.5113,  3.0525,  7.0132,  4.5654,  7.5012,  5.3686,\n",
       "          5.8343,  5.6273,  5.8291,  6.7961,  4.0343,  5.0122,  4.4734,  4.3778,\n",
       "          6.7885,  7.3331,  4.5182,  5.9913,  5.9013,  5.1267,  6.9711,  2.4013,\n",
       "          4.6839,  5.2455,  5.6661,  5.8090,  5.6577, 10.7543,  6.3165,  4.0449,\n",
       "          4.5682,  7.6448,  4.7431,  7.3092, 10.0988,  8.8458,  3.4302,  8.2054,\n",
       "          4.4917,  5.3523,  6.3497,  4.4976,  6.2790,  5.2065,  9.3025,  7.3940,\n",
       "          7.0611,  7.8696,  6.1819,  3.6021,  7.1059,  5.3265,  4.4871,  6.0245,\n",
       "          5.5373,  9.1836,  5.7316,  2.8647,  6.1133,  1.9358,  4.0154,  5.8569,\n",
       "          8.7349,  7.9348,  6.2028,  6.1744,  6.9629,  7.4588,  9.5559,  4.4274,\n",
       "          3.2380,  7.2574,  8.1912,  6.9764,  4.7378,  7.6880,  3.4631,  6.0576,\n",
       "          7.5038,  7.2653,  4.5192,  4.9156,  3.7181,  6.9411,  5.3178,  5.0538,\n",
       "          4.4596,  4.5341,  6.5320,  4.9515,  4.3283,  3.5785,  7.3792,  5.6550,\n",
       "          9.7284,  6.5678,  5.0148,  8.3668,  5.4703,  7.2537,  6.8955,  9.4580,\n",
       "          5.7754,  3.4145,  7.4844,  6.3301,  4.6283,  7.6636,  4.4488,  6.5421,\n",
       "          8.1043,  6.6338,  7.8504,  6.5655,  4.2068,  6.3044,  4.4984,  9.3609,\n",
       "          5.5987,  6.0673,  5.4007,  8.7430,  5.9685,  5.3438,  4.5557,  5.5671,\n",
       "          6.1981,  8.7122,  5.8817,  6.5207,  8.1230,  5.2058,  9.3668,  5.6943,\n",
       "          4.7931,  6.6755,  4.9153,  5.1041, 10.7919,  5.5949,  4.7707,  7.3891,\n",
       "          6.7507,  7.9128,  5.7535,  4.5775,  7.6318,  9.3681, 11.0327,  7.4006,\n",
       "          5.6460,  9.8883,  4.2879,  8.6765,  8.8343, 10.2605,  3.9036,  6.3629,\n",
       "          4.0673,  7.0815,  4.8459,  5.3682,  5.4722, 11.8164,  9.7533,  8.2566,\n",
       "          9.9908,  6.8553,  5.6820,  2.5562,  8.0295,  7.0118,  6.0345,  7.5724,\n",
       "          4.0234,  6.3315,  6.5407,  7.4348,  5.4507,  5.8967,  4.8360,  5.9140,\n",
       "          7.1261,  7.4717,  3.1907,  8.9615,  4.7710,  4.2595,  6.9912,  5.8498,\n",
       "          3.2546,  8.7234,  5.5824,  6.6361,  3.9804,  5.1521,  4.5130,  4.0992,\n",
       "          6.5112,  3.6634,  6.7151,  9.5854,  4.6209,  4.1187,  7.7509,  7.4115,\n",
       "          9.1267,  6.1065,  6.4720,  5.0933,  6.1188,  4.6054,  3.8594,  5.2088,\n",
       "          3.9673,  4.9278,  6.4245,  3.3608,  6.2012,  4.8212,  4.1657,  6.4870,\n",
       "          6.8514,  5.2333,  4.1894,  6.4656,  7.1364,  3.7865,  7.4925,  6.6042,\n",
       "          9.2224,  4.9708]], grad_fn=<AddBackward0>)"
      ]
     },
     "execution_count": 108,
     "metadata": {},
     "output_type": "execute_result"
    }
   ],
   "source": [
    "model.covar_module.base_kernel.lengthscale"
   ]
  },
  {
   "cell_type": "code",
   "execution_count": 109,
   "id": "d65cc6e1-a9d7-4ef0-b45d-ca9192215425",
   "metadata": {},
   "outputs": [
    {
     "data": {
      "text/plain": [
       "tensor([0.0022], grad_fn=<AddBackward0>)"
      ]
     },
     "execution_count": 109,
     "metadata": {},
     "output_type": "execute_result"
    }
   ],
   "source": [
    "likelihood.noise"
   ]
  },
  {
   "cell_type": "code",
   "execution_count": 110,
   "id": "b6c9e97a-1754-491b-acb9-86b55c78e69a",
   "metadata": {},
   "outputs": [
    {
     "data": {
      "text/plain": [
       "[<matplotlib.lines.Line2D at 0x1e5086f60>]"
      ]
     },
     "execution_count": 110,
     "metadata": {},
     "output_type": "execute_result"
    },
    {
     "data": {
      "image/png": "[encoded data removed]",
      "text/plain": [
       "<Figure size 640x480 with 1 Axes>"
      ]
     },
     "metadata": {},
     "output_type": "display_data"
    }
   ],
   "source": [
    "from matplotlib import pyplot as plt\n",
    "import numpy as np\n",
    "plt.plot(np.log(1.6+torch.tensor(train_loss)))"
   ]
  },
  {
   "cell_type": "code",
   "execution_count": 123,
   "id": "cd39a280-e8c5-48ae-849f-cf7e3883e026",
   "metadata": {},
   "outputs": [
    {
     "name": "stdout",
     "output_type": "stream",
     "text": [
      "Predicting at test inputs\n"
     ]
    },
    {
     "data": {
      "application/vnd.jupyter.widget-view+json": {
       "model_id": "",
       "version_major": 2,
       "version_minor": 0
      },
      "text/plain": [
       "Minibatch:   0%|          | 0/3 [00:00<?, ?it/s]"
      ]
     },
     "metadata": {},
     "output_type": "display_data"
    }
   ],
   "source": [
    "#test_dataset = TensorDataset(X_train, train_indices)\n",
    "test_dataset = TensorDataset(X_test, test_indices)\n",
    "test_loader = DataLoader(test_dataset, batch_size=256)\n",
    "\n",
    "# Set into eval mode\n",
    "model.eval()\n",
    "likelihood.eval()\n",
    "yhat = []\n",
    "yvar = []\n",
    "print(\"Predicting at test inputs\")\n",
    "with torch.no_grad(), gpytorch.settings.cholesky_max_tries(12):\n",
    "    minibatch_iter = tqdm(test_loader,desc=\"Minibatch\", leave=False)\n",
    "    for x_batch, task_batch in minibatch_iter:\n",
    "        predictions = (model(x_batch, task_indices=task_batch))\n",
    "        mean = predictions.mean\n",
    "        var = predictions.variance\n",
    "        yhat.append(mean)\n",
    "        yvar.append(var)\n",
    "        \n",
    "\n",
    "yhat_vector = torch.cat(yhat, 0)\n",
    "yvar_vector = torch.cat(yvar,0)"
   ]
  },
  {
   "cell_type": "code",
   "execution_count": 124,
   "id": "8e00f696-1134-475e-a624-fe2e00f9761f",
   "metadata": {},
   "outputs": [
    {
     "data": {
      "text/plain": [
       "tensor([[ 0.1111,  0.2222, -0.4313,  ..., -0.7550, -2.1108, -0.5716],\n",
       "        [ 0.1111,  0.3333, -0.4313,  ..., -0.7550, -2.1108, -0.5716],\n",
       "        [ 0.1111,  0.4444, -0.4313,  ..., -0.7550, -2.1108, -0.5716],\n",
       "        ...,\n",
       "        [ 1.0000,  0.7778, -0.4313,  ..., -0.7550, -2.1108, -0.5716],\n",
       "        [ 1.0000,  0.8889, -0.4313,  ..., -0.7550, -2.1108, -0.5716],\n",
       "        [ 1.0000,  1.0000, -0.4313,  ..., -0.7550, -2.1108, -0.5716]])"
      ]
     },
     "execution_count": 124,
     "metadata": {},
     "output_type": "execute_result"
    }
   ],
   "source": [
    "x_batch"
   ]
  },
  {
   "cell_type": "code",
   "execution_count": 125,
   "id": "dd5fa979-78c2-43d6-b208-6bda4d918ae4",
   "metadata": {},
   "outputs": [
    {
     "data": {
      "text/plain": [
       "tensor([ 0.9909,  0.9922,  0.9875,  1.0132,  1.0297,  0.9325,  0.6659,  0.3192,\n",
       "         0.0738,  0.0469,  1.0083,  1.0009,  0.9851,  1.0086,  1.0336,  0.9426,\n",
       "         0.6663,  0.2979,  0.0395,  0.0225,  1.0059,  0.9978,  0.9797,  1.0043,\n",
       "         1.0351,  0.9484,  0.6684,  0.2920,  0.0334,  0.0306,  0.9980,  0.9941,\n",
       "         0.9804,  1.0082,  1.0394,  0.9486,  0.6613,  0.2809,  0.0290,  0.0438,\n",
       "         0.9896,  0.9884,  0.9784,  1.0060,  1.0299,  0.9273,  0.6310,  0.2515,\n",
       "         0.0123,  0.0461,  0.9742,  0.9714,  0.9611,  0.9822,  0.9925,  0.8772,\n",
       "         0.5796,  0.2128, -0.0079,  0.0398,  0.9342,  0.9284,  0.9164,  0.9295,\n",
       "         0.9270,  0.8073,  0.5244,  0.1848, -0.0157,  0.0326,  0.8525,  0.8440,\n",
       "         0.8335,  0.8439,  0.8373,  0.7275,  0.4764,  0.1751, -0.0079,  0.0258,\n",
       "         0.7316,  0.7198,  0.7140,  0.7283,  0.7280,  0.6406,  0.4329,  0.1763,\n",
       "         0.0095,  0.0215,  0.6023,  0.5863,  0.5848,  0.6046,  0.6141,  0.5536,\n",
       "         0.3934,  0.1856,  0.0398,  0.0349,  0.9149,  0.9268,  0.9046,  0.8981,\n",
       "         0.9217,  0.9069,  0.7634,  0.5014,  0.2596,  0.1831,  0.9116,  0.9208,\n",
       "         0.8939,  0.8872,  0.9194,  0.9142,  0.7676,  0.4890,  0.2357,  0.1710,\n",
       "         0.9000,  0.9094,  0.8801,  0.8704,  0.9032,  0.9025,  0.7596,  0.4812,\n",
       "         0.2299,  0.1761,  0.8989,  0.9142,  0.8864,  0.8719,  0.8979,  0.8954,\n",
       "         0.7576,  0.4872,  0.2411,  0.1881,  0.8870,  0.9101,  0.8860,  0.8670,\n",
       "         0.8837,  0.8772,  0.7476,  0.4923,  0.2551,  0.1971,  0.8130,  0.8372,\n",
       "         0.8156,  0.7942,  0.8050,  0.7992,  0.6858,  0.4576,  0.2416,  0.1863,\n",
       "         0.6530,  0.6674,  0.6458,  0.6263,  0.6381,  0.6401,  0.5509,  0.3607,\n",
       "         0.1797,  0.1415,  0.4567,  0.4565,  0.4360,  0.4233,  0.4412,  0.4530,\n",
       "         0.3873,  0.2343,  0.0906,  0.0744,  0.3191,  0.3116,  0.2972,  0.2940,\n",
       "         0.3164,  0.3314,  0.2780,  0.1499,  0.0317,  0.0275,  0.3005,  0.2989,\n",
       "         0.2957,  0.3001,  0.3200,  0.3273,  0.2740,  0.1580,  0.0519,  0.0443,\n",
       "         0.8580,  0.8571,  0.8486,  0.8445,  0.8267,  0.7589,  0.6287,  0.4763,\n",
       "         0.3707,  0.3525,  0.8690,  0.8635,  0.8514,  0.8473,  0.8319,  0.7642,\n",
       "         0.6286,  0.4682,  0.3584,  0.3436,  0.8638,  0.8566,  0.8449,  0.8432,\n",
       "         0.8307,  0.7639,  0.6267,  0.4646,  0.3559,  0.3454,  0.8539,  0.8457,\n",
       "         0.8346,  0.8343,  0.8226,  0.7553,  0.6176,  0.4569,  0.3521,  0.3469,\n",
       "         0.8516,  0.8428,  0.8305,  0.8283,  0.8141,  0.7446,  0.6065,  0.4481,\n",
       "         0.3476,  0.3465,  0.8544,  0.8480,  0.8355,  0.8304,  0.8124,  0.7407,\n",
       "         0.6033,  0.4475,  0.3491,  0.3480,  0.8339,  0.8334,  0.8253,  0.8213,\n",
       "         0.8031,  0.7330,  0.5998,  0.4481,  0.3498,  0.3439,  0.7535,  0.7570,\n",
       "         0.7568,  0.7598,  0.7479,  0.6866,  0.5650,  0.4228,  0.3266,  0.3161,\n",
       "         0.6082,  0.6079,  0.6133,  0.6257,  0.6252,  0.5800,  0.4788,  0.3550,\n",
       "         0.2685,  0.2595,  0.4433,  0.4317,  0.4374,  0.4563,  0.4673,  0.4411,\n",
       "         0.3663,  0.2692,  0.2014,  0.2009,  0.8481,  0.8498,  0.8346,  0.8307,\n",
       "         0.8376,  0.8102,  0.7020,  0.5303,  0.3798,  0.3297,  0.8565,  0.8572,\n",
       "         0.8378,  0.8314,  0.8413,  0.8182,  0.7080,  0.5268,  0.3692,  0.3247,\n",
       "         0.8488,  0.8510,  0.8310,  0.8233,  0.8342,  0.8145,  0.7059,  0.5232,\n",
       "         0.3656,  0.3282,  0.8372,  0.8415,  0.8219,  0.8129,  0.8228,  0.8044,\n",
       "         0.6980,  0.5171,  0.3618,  0.3296,  0.8333,  0.8391,  0.8195,  0.8084,\n",
       "         0.8159,  0.7966,  0.6916,  0.5130,  0.3603,  0.3305,  0.8348,  0.8428,\n",
       "         0.8242,  0.8122,  0.8174,  0.7963,  0.6916,  0.5154,  0.3650,  0.3354,\n",
       "         0.8187,  0.8295,  0.8150,  0.8063,  0.8126,  0.7911,  0.6873,  0.5140,\n",
       "         0.3659,  0.3349,  0.7556,  0.7658,  0.7574,  0.7571,  0.7697,  0.7520,\n",
       "         0.6523,  0.4848,  0.3409,  0.3088,  0.6397,  0.6425,  0.6387,  0.6486,\n",
       "         0.6708,  0.6612,  0.5718,  0.4171,  0.2832,  0.2536,  0.5047,  0.4952,\n",
       "         0.4924,  0.5099,  0.5399,  0.5397,  0.4668,  0.3349,  0.2203,  0.1981,\n",
       "         0.8870,  0.8870,  0.8829,  0.8936,  0.8941,  0.8220,  0.6435,  0.4141,\n",
       "         0.2498,  0.2286,  0.8978,  0.8928,  0.8832,  0.8934,  0.8989,  0.8299,\n",
       "         0.6451,  0.4034,  0.2338,  0.2230,  0.8940,  0.8886,  0.8768,  0.8858,\n",
       "         0.8929,  0.8261,  0.6406,  0.3960,  0.2278,  0.2267,  0.8881,  0.8855,\n",
       "         0.8741,  0.8812,  0.8861,  0.8173,  0.6300,  0.3844,  0.2183,  0.2239,\n",
       "         0.8838,  0.8836,  0.8729,  0.8784,  0.8794,  0.8061,  0.6156,  0.3699,\n",
       "         0.2069,  0.2177,  0.8787,  0.8779,  0.8674,  0.8724,  0.8708,  0.7938,\n",
       "         0.6019,  0.3597,  0.2033,  0.2194,  0.8710,  0.8683,  0.8582,  0.8640,\n",
       "         0.8609,  0.7813,  0.5906,  0.3557,  0.2080,  0.2277,  0.8620,  0.8590,\n",
       "         0.8504,  0.8565,  0.8502,  0.7670,  0.5783,  0.3512,  0.2102,  0.2283,\n",
       "         0.8495,  0.8499,  0.8445,  0.8490,  0.8361,  0.7477,  0.5620,  0.3438,\n",
       "         0.2070,  0.2171,  0.8261,  0.8327,  0.8317,  0.8333,  0.8125,  0.7216,\n",
       "         0.5460,  0.3441,  0.2142,  0.2135,  0.8888,  0.8853,  0.8633,  0.8426,\n",
       "         0.8257,  0.7942,  0.7326,  0.6550,  0.5989,  0.5881,  0.9007,  0.8948,\n",
       "         0.8695,  0.8469,  0.8306,  0.7999,  0.7367,  0.6561,  0.6006,  0.5971,\n",
       "         0.8964,  0.8895,  0.8628,  0.8398,  0.8246,  0.7951,  0.7310,  0.6482,\n",
       "         0.5927,  0.5944,  0.8925,  0.8858,  0.8589,  0.8359,  0.8209,  0.7908,\n",
       "         0.7238,  0.6365,  0.5783,  0.5815,  0.8945,  0.8889,  0.8625,  0.8394,\n",
       "         0.8232,  0.7898,  0.7174,  0.6247,  0.5635,  0.5677,  0.8928,  0.8886,\n",
       "         0.8637,  0.8413,  0.8233,  0.7850,  0.7069,  0.6110,  0.5508,  0.5586,\n",
       "         0.8757,  0.8726,  0.8503,  0.8298,  0.8106,  0.7678,  0.6858,  0.5903,\n",
       "         0.5348,  0.5483,  0.8439,  0.8419,  0.8230,  0.8051,  0.7853,  0.7398,\n",
       "         0.6562,  0.5625,  0.5106,  0.5266,  0.8087,  0.8097,  0.7952,  0.7797,\n",
       "         0.7595,  0.7127,  0.6296,  0.5371,  0.4837,  0.4946,  0.7775,  0.7843,\n",
       "         0.7757,  0.7628,  0.7423,  0.6962,  0.6163,  0.5262,  0.4686,  0.4682])"
      ]
     },
     "execution_count": 125,
     "metadata": {},
     "output_type": "execute_result"
    }
   ],
   "source": [
    "yhat_vector"
   ]
  },
  {
   "cell_type": "code",
   "execution_count": 126,
   "id": "65e6b5a1-0ada-4927-8ba3-b373d7090179",
   "metadata": {},
   "outputs": [
    {
     "data": {
      "text/plain": [
       "Parameter containing:\n",
       "tensor([[-0.3614],\n",
       "        [-0.0005]], requires_grad=True)"
      ]
     },
     "execution_count": 126,
     "metadata": {},
     "output_type": "execute_result"
    }
   ],
   "source": [
    "model.variational_strategy.lmc_coefficients"
   ]
  },
  {
   "cell_type": "code",
   "execution_count": 127,
   "id": "faf2fd46-867c-40ee-80b1-6747d8d1ad4c",
   "metadata": {},
   "outputs": [
    {
     "data": {
      "text/plain": [
       "ScaleKernel(\n",
       "  (base_kernel): PermutationInvariantRBFKernel(\n",
       "    (raw_lengthscale_constraint): LessThan(1.000E+02)\n",
       "  )\n",
       "  (raw_outputscale_constraint): Positive()\n",
       ")"
      ]
     },
     "execution_count": 127,
     "metadata": {},
     "output_type": "execute_result"
    }
   ],
   "source": [
    "model.covar_module"
   ]
  },
  {
   "cell_type": "code",
   "execution_count": 128,
   "id": "ba9952cd-a992-4a06-abb9-ab3568400020",
   "metadata": {},
   "outputs": [
    {
     "ename": "RuntimeError",
     "evalue": "The size of tensor a (1900) must match the size of tensor b (600) at non-singleton dimension 0",
     "output_type": "error",
     "traceback": [
      "\u001b[0;31m---------------------------------------------------------------------------\u001b[0m",
      "\u001b[0;31mRuntimeError\u001b[0m                              Traceback (most recent call last)",
      "Cell \u001b[0;32mIn[128], line 1\u001b[0m\n\u001b[0;32m----> 1\u001b[0m \u001b[38;5;28mprint\u001b[39m(\u001b[38;5;124m\"\u001b[39m\u001b[38;5;124mour error: \u001b[39m\u001b[38;5;124m\"\u001b[39m,(y_train \u001b[38;5;241m-\u001b[39m yhat_vector)\u001b[38;5;241m.\u001b[39msquare()\u001b[38;5;241m.\u001b[39mmean()\u001b[38;5;241m.\u001b[39msqrt())\n\u001b[1;32m      2\u001b[0m \u001b[38;5;28mprint\u001b[39m(\u001b[38;5;124m\"\u001b[39m\u001b[38;5;124mbaseline error: \u001b[39m\u001b[38;5;124m\"\u001b[39m,(y_train\u001b[38;5;241m-\u001b[39mtorch\u001b[38;5;241m.\u001b[39mtensor(train[\u001b[38;5;124m\"\u001b[39m\u001b[38;5;124mp0Mean\u001b[39m\u001b[38;5;124m\"\u001b[39m]\u001b[38;5;241m.\u001b[39mvalues))\u001b[38;5;241m.\u001b[39msquare()\u001b[38;5;241m.\u001b[39mmean()\u001b[38;5;241m.\u001b[39msqrt())\n",
      "\u001b[0;31mRuntimeError\u001b[0m: The size of tensor a (1900) must match the size of tensor b (600) at non-singleton dimension 0"
     ]
    }
   ],
   "source": [
    "print(\"our error: \",(y_train - yhat_vector).square().mean().sqrt())\n",
    "print(\"baseline error: \",(y_train-torch.tensor(train[\"p0Mean\"].values)).square().mean().sqrt())"
   ]
  },
  {
   "cell_type": "code",
   "execution_count": 129,
   "id": "92aa1f14-d5d6-4450-b307-07177309c5b4",
   "metadata": {},
   "outputs": [
    {
     "name": "stdout",
     "output_type": "stream",
     "text": [
      "our error:  tensor(0.2502)\n",
      "baseline error:  tensor(0.0411, dtype=torch.float64)\n"
     ]
    }
   ],
   "source": [
    "print(\"our error: \",(y_test - yhat_vector).square().mean().sqrt())\n",
    "print(\"baseline error: \",(y_test-torch.tensor(test[\"p0Mean\"].values)).square().mean().sqrt())"
   ]
  },
  {
   "cell_type": "code",
   "execution_count": 134,
   "id": "03fd4277-8322-41dd-a152-ca749f80cd6c",
   "metadata": {},
   "outputs": [
    {
     "name": "stdout",
     "output_type": "stream",
     "text": [
      "our error:  tensor(0.2001, dtype=torch.float64)\n",
      "baseline error:  tensor(0.0374, dtype=torch.float64)\n"
     ]
    },
    {
     "data": {
      "text/plain": [
       "<matplotlib.contour.QuadContourSet at 0x1de35a9c0>"
      ]
     },
     "execution_count": 134,
     "metadata": {},
     "output_type": "execute_result"
    },
    {
     "data": {
      "image/png": "[encoded data removed]",
      "text/plain": [
       "<Figure size 1500x500 with 3 Axes>"
      ]
     },
     "metadata": {},
     "output_type": "display_data"
    }
   ],
   "source": [
    "start = 100\n",
    "end = start + 100\n",
    "\n",
    "fhat = yhat_vector[start:end].reshape(10,10)\n",
    "var = yvar_vector[start:end].reshape(10,10)\n",
    "f = torch.tensor(train.iloc[start:end,7].values).reshape(10,10)\n",
    "p0 = torch.tensor(train.iloc[start:end,9].values).reshape(10,10)\n",
    "print(\"our error: \",(fhat-f).square().mean().sqrt())\n",
    "print(\"baseline error: \",(p0-f).square().mean().sqrt())\n",
    "\n",
    "fig, axes = plt.subplots(nrows=1, ncols=3,figsize=(15, 5))\n",
    "axes[0].contourf(f)\n",
    "axes[1].contourf(p0)\n",
    "axes[2].contourf(fhat)\n",
    "#fig.subplots_adjust(right=0.8)\n",
    "#cbar_ax = fig.add_axes([0.85, 0.15, 0.05, 0.7])\n",
    "#fig.colorbar(im,cax=cbar_ax)\n",
    "\n",
    "#axes[0].set_title(\"True values\")\n",
    "#axes[1].set_title(\"Baseline\")\n",
    "#axes[2].set_title(\"Our Prediction\")"
   ]
  },
  {
   "cell_type": "code",
   "execution_count": 135,
   "id": "e7535e0d-e8e5-45c3-b2da-cfd6e1702889",
   "metadata": {},
   "outputs": [
    {
     "data": {
      "text/plain": [
       "Text(0.5, 1.0, 'True values')"
      ]
     },
     "execution_count": 135,
     "metadata": {},
     "output_type": "execute_result"
    },
    {
     "data": {
      "image/png": "[encoded data removed]",
      "text/plain": [
       "<Figure size 1500x500 with 2 Axes>"
      ]
     },
     "metadata": {},
     "output_type": "display_data"
    }
   ],
   "source": [
    "fig, axes = plt.subplots(nrows=1, ncols=1,figsize=(15, 5))\n",
    "axes.contourf(f)\n",
    "#axes[1].contourf(p0)\n",
    "#axes[2].contourf(fhat)\n",
    "im = axes.contourf(f)\n",
    "fig.subplots_adjust(right=0.8)\n",
    "cbar_ax = fig.add_axes([0.85, 0.15, 0.05, 0.7])\n",
    "fig.colorbar(im,cax=cbar_ax)\n",
    "\n",
    "axes.set_title(\"True values\")\n",
    "#axes[1].set_title(\"Baseline\")\n",
    "#axes[2].set_title(\"Our Prediction\")"
   ]
  },
  {
   "cell_type": "code",
   "execution_count": 136,
   "id": "b0f93c91-a63a-461d-b28d-ae69b6e59e49",
   "metadata": {},
   "outputs": [
    {
     "data": {
      "text/plain": [
       "Text(0.5, 1.0, 'Baseline')"
      ]
     },
     "execution_count": 136,
     "metadata": {},
     "output_type": "execute_result"
    },
    {
     "data": {
      "image/png": "[encoded data removed]",
      "text/plain": [
       "<Figure size 1500x500 with 2 Axes>"
      ]
     },
     "metadata": {},
     "output_type": "display_data"
    }
   ],
   "source": [
    "fig, axes = plt.subplots(nrows=1, ncols=1,figsize=(15, 5))\n",
    "#axes.contourf(f)\n",
    "axes.contourf(p0)\n",
    "#axes[2].contourf(fhat)\n",
    "im = axes.contourf(p0)\n",
    "fig.subplots_adjust(right=0.8)\n",
    "cbar_ax = fig.add_axes([0.85, 0.15, 0.05, 0.7])\n",
    "fig.colorbar(im,cax=cbar_ax)\n",
    "\n",
    "#axes.set_title(\"True values\")\n",
    "axes.set_title(\"Baseline\")\n",
    "#axes[2].set_title(\"Our Prediction\")"
   ]
  },
  {
   "cell_type": "code",
   "execution_count": 137,
   "id": "fc565a54-5f8d-4df5-8825-04ccac7d6196",
   "metadata": {},
   "outputs": [
    {
     "data": {
      "text/plain": [
       "Text(0.5, 1.0, 'Our Prediction')"
      ]
     },
     "execution_count": 137,
     "metadata": {},
     "output_type": "execute_result"
    },
    {
     "data": {
      "image/png": "[encoded data removed]",
      "text/plain": [
       "<Figure size 1500x500 with 2 Axes>"
      ]
     },
     "metadata": {},
     "output_type": "display_data"
    }
   ],
   "source": [
    "fig, axes = plt.subplots(nrows=1, ncols=1,figsize=(15, 5))\n",
    "#axes.contourf(f)\n",
    "#axes.contourf(p0)\n",
    "axes.contourf(fhat)\n",
    "im = axes.contourf(fhat)\n",
    "fig.subplots_adjust(right=0.8)\n",
    "cbar_ax = fig.add_axes([0.85, 0.15, 0.05, 0.7])\n",
    "fig.colorbar(im,cax=cbar_ax)\n",
    "\n",
    "#axes.set_title(\"True values\")\n",
    "#axes.set_title(\"Baseline\")\n",
    "axes.set_title(\"Our Prediction\")"
   ]
  },
  {
   "cell_type": "code",
   "execution_count": 67,
   "id": "864f5606-7014-414a-9f3e-48a0cd9e010c",
   "metadata": {},
   "outputs": [
    {
     "data": {
      "text/plain": [
       "tensor([[ 0.9426,  0.9454,  0.9452,  0.9441,  0.9428,  0.9403,  0.9340,  0.9213,\n",
       "          0.8996,  0.8676],\n",
       "        [ 0.9938,  0.9962,  0.9950,  0.9929,  0.9910,  0.9883,  0.9823,  0.9696,\n",
       "          0.9475,  0.9139],\n",
       "        [ 1.0323,  1.0374,  1.0382,  1.0374,  1.0361,  1.0332,  1.0260,  1.0112,\n",
       "          0.9856,  0.9477],\n",
       "        [ 1.0309,  1.0391,  1.0426,  1.0438,  1.0434,  1.0400,  1.0309,  1.0129,\n",
       "          0.9833,  0.9410],\n",
       "        [ 0.9667,  0.9757,  0.9806,  0.9830,  0.9830,  0.9788,  0.9680,  0.9475,\n",
       "          0.9156,  0.8718],\n",
       "        [ 0.8302,  0.8361,  0.8396,  0.8416,  0.8411,  0.8363,  0.8248,  0.8042,\n",
       "          0.7734,  0.7331],\n",
       "        [ 0.6297,  0.6290,  0.6287,  0.6288,  0.6277,  0.6231,  0.6127,  0.5949,\n",
       "          0.5695,  0.5380],\n",
       "        [ 0.3916,  0.3825,  0.3776,  0.3759,  0.3751,  0.3723,  0.3652,  0.3530,\n",
       "          0.3362,  0.3170],\n",
       "        [ 0.1533,  0.1373,  0.1296,  0.1281,  0.1296,  0.1307,  0.1290,  0.1239,\n",
       "          0.1169,  0.1107],\n",
       "        [-0.0463, -0.0649, -0.0713, -0.0688, -0.0620, -0.0548, -0.0500, -0.0479,\n",
       "         -0.0465, -0.0423]])"
      ]
     },
     "execution_count": 67,
     "metadata": {},
     "output_type": "execute_result"
    }
   ],
   "source": [
    "fhat"
   ]
  },
  {
   "cell_type": "code",
   "execution_count": null,
   "id": "ff768b45-ed1b-45d8-8493-263144a8a5ad",
   "metadata": {},
   "outputs": [],
   "source": []
  },
  {
   "cell_type": "code",
   "execution_count": 229,
   "id": "18345632-78e0-4420-af3d-618596f8ebf3",
   "metadata": {},
   "outputs": [
    {
     "data": {
      "text/plain": [
       "tensor([[1.0000, 1.0000, 1.0000, 0.9998, 0.9982, 0.9799, 0.7896, 0.2170, 0.0456,\n",
       "         0.0301],\n",
       "        [0.9999, 0.9999, 0.9999, 0.9998, 0.9982, 0.9799, 0.7896, 0.2170, 0.0456,\n",
       "         0.0301],\n",
       "        [0.9998, 0.9998, 0.9998, 0.9997, 0.9981, 0.9798, 0.7895, 0.2170, 0.0456,\n",
       "         0.0301],\n",
       "        [0.9994, 0.9994, 0.9994, 0.9993, 0.9977, 0.9794, 0.7892, 0.2169, 0.0456,\n",
       "         0.0300],\n",
       "        [0.9983, 0.9983, 0.9983, 0.9981, 0.9965, 0.9783, 0.7883, 0.2167, 0.0455,\n",
       "         0.0300],\n",
       "        [0.9944, 0.9944, 0.9944, 0.9943, 0.9927, 0.9745, 0.7852, 0.2158, 0.0453,\n",
       "         0.0299],\n",
       "        [0.9812, 0.9812, 0.9812, 0.9811, 0.9795, 0.9616, 0.7748, 0.2130, 0.0447,\n",
       "         0.0295],\n",
       "        [0.9356, 0.9356, 0.9356, 0.9355, 0.9340, 0.9169, 0.7388, 0.2031, 0.0427,\n",
       "         0.0281],\n",
       "        [0.8028, 0.8028, 0.8028, 0.8027, 0.8014, 0.7868, 0.6340, 0.1743, 0.0366,\n",
       "         0.0241],\n",
       "        [0.6052, 0.6052, 0.6052, 0.6051, 0.6041, 0.5931, 0.4779, 0.1314, 0.0276,\n",
       "         0.0182]], dtype=torch.float64)"
      ]
     },
     "execution_count": 229,
     "metadata": {},
     "output_type": "execute_result"
    }
   ],
   "source": [
    "p0"
   ]
  },
  {
   "cell_type": "code",
   "execution_count": 217,
   "id": "e67b829e-de19-44ca-ae85-c1be7df50162",
   "metadata": {},
   "outputs": [
    {
     "data": {
      "text/plain": [
       "tensor([[0.0128, 0.0061, 0.0066, 0.0039, 0.0057, 0.0113, 0.0154, 0.0142, 0.0064,\n",
       "         0.0079],\n",
       "        [0.0079, 0.0073, 0.0083, 0.0072, 0.0077, 0.0076, 0.0054, 0.0018, 0.0024,\n",
       "         0.0081],\n",
       "        [0.0210, 0.0178, 0.0248, 0.0301, 0.0319, 0.0328, 0.0324, 0.0290, 0.0230,\n",
       "         0.0172],\n",
       "        [0.0004, 0.0009, 0.0122, 0.0198, 0.0210, 0.0177, 0.0109, 0.0008, 0.0088,\n",
       "         0.0130],\n",
       "        [0.0405, 0.0492, 0.0448, 0.0423, 0.0456, 0.0528, 0.0614, 0.0678, 0.0662,\n",
       "         0.0520],\n",
       "        [0.0042, 0.0271, 0.0362, 0.0433, 0.0511, 0.0568, 0.0573, 0.0493, 0.0287,\n",
       "         0.0056],\n",
       "        [0.1898, 0.1673, 0.1520, 0.1392, 0.1316, 0.1335, 0.1452, 0.1660, 0.1942,\n",
       "         0.2263],\n",
       "        [0.0295, 0.0430, 0.0287, 0.0260, 0.0222, 0.0281, 0.0148, 0.0764, 0.0778,\n",
       "         0.1132],\n",
       "        [0.1015, 0.0863, 0.0910, 0.1020, 0.1038, 0.0900, 0.0676, 0.0488, 0.0441,\n",
       "         0.0583],\n",
       "        [0.0653, 0.0810, 0.0713, 0.0560, 0.0523, 0.0633, 0.0783, 0.0835, 0.0706,\n",
       "         0.0370]], dtype=torch.float64)"
      ]
     },
     "execution_count": 217,
     "metadata": {},
     "output_type": "execute_result"
    }
   ],
   "source": [
    "(fhat-f).abs()"
   ]
  },
  {
   "cell_type": "code",
   "execution_count": 29,
   "id": "0a901632-569a-4394-a664-f5344691f8ae",
   "metadata": {},
   "outputs": [
    {
     "data": {
      "text/plain": [
       "Text(0.5, 1.0, 'Predictive variance')"
      ]
     },
     "execution_count": 29,
     "metadata": {},
     "output_type": "execute_result"
    },
    {
     "data": {
      "image/png": "[encoded data removed]",
      "text/plain": [
       "<Figure size 640x480 with 2 Axes>"
      ]
     },
     "metadata": {},
     "output_type": "display_data"
    }
   ],
   "source": [
    "plt.contourf(var)\n",
    "plt.colorbar()\n",
    "plt.title(\"Predictive variance\")"
   ]
  },
  {
   "cell_type": "code",
   "execution_count": null,
   "id": "19a29981-503f-464d-88eb-495d36de271f",
   "metadata": {},
   "outputs": [],
   "source": []
  },
  {
   "cell_type": "code",
   "execution_count": null,
   "id": "6dd911f3-5a7b-4e42-9f07-4a89e18ed024",
   "metadata": {},
   "outputs": [],
   "source": []
  },
  {
   "cell_type": "code",
   "execution_count": null,
   "id": "c7055ff9-490f-4b20-98df-1385ae9fdb19",
   "metadata": {},
   "outputs": [],
   "source": []
  },
  {
   "cell_type": "code",
   "execution_count": null,
   "id": "65ac7cac-f438-47db-abe2-48304d074a67",
   "metadata": {},
   "outputs": [],
   "source": []
  },
  {
   "cell_type": "code",
   "execution_count": null,
   "id": "741c0a2d-d438-40aa-8281-26a9c5ce757c",
   "metadata": {},
   "outputs": [],
   "source": []
  },
  {
   "cell_type": "code",
   "execution_count": null,
   "id": "b2836148-3a51-4706-8f82-0f9a331a5d1d",
   "metadata": {},
   "outputs": [],
   "source": []
  },
  {
   "cell_type": "code",
   "execution_count": null,
   "id": "ac865574-38e7-4752-ab25-9651c63ab868",
   "metadata": {},
   "outputs": [],
   "source": []
  }
 ],
 "metadata": {
  "kernelspec": {
   "display_name": "Python 3 (ipykernel)",
   "language": "python",
   "name": "python3"
  },
  "language_info": {
   "codemirror_mode": {
    "name": "ipython",
    "version": 3
   },
   "file_extension": ".py",
   "mimetype": "text/x-python",
   "name": "python",
   "nbconvert_exporter": "python",
   "pygments_lexer": "ipython3",
   "version": "3.12.3"
  }
 },
 "nbformat": 4,
 "nbformat_minor": 5
}
