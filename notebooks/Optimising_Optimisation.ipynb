{
 "cells": [
  {
   "cell_type": "markdown",
   "id": "d45a9ac4-a441-46a8-9570-6f1c82d72c6e",
   "metadata": {},
   "source": [
    "# Optimising the Optimisation\n",
    "In this notebook, I look at how many inducing points, latent functions and LMC components I need to train the prediction model to beat a simple baseline.\n",
    "\n",
    "I'll look at the ONeil dataset, in the LTO setting, using processed viability to predict the missing triplets. For comparison we use the simple Bliss non-interaction assumption.\n",
    "\n",
    "Focussing on a single cell line, and a subset of the drugs, I can quickly get a sense of how many latent functions I need and how many inducing points they need."
   ]
  },
  {
   "cell_type": "code",
   "execution_count": 176,
   "id": "0243a31b-7ad5-4807-aeb5-953632d6d827",
   "metadata": {},
   "outputs": [],
   "source": [
    "import torch\n",
    "import gpytorch\n",
    "import pimogp\n",
    "from pimogp.utils.utils import train_test_split_drugdata, prepdata\n",
    "from pimogp.utils.runModel import runmodel"
   ]
  },
  {
   "cell_type": "code",
   "execution_count": 177,
   "id": "855dec35-de1c-4b93-b9bd-55a33cbfeb0e",
   "metadata": {},
   "outputs": [],
   "source": [
    "# Set some parameters\n",
    "input_type = \"processed\"\n",
    "targets = \"fMean\"\n",
    "predtarget = \"viability\"\n",
    "dataset = \"ONeil\"\n",
    "seed = 12\n",
    "setting = \"LTO\"\n",
    "data, train, test, ids = train_test_split_drugdata(input_type=input_type,dataset=dataset,setting=setting,seed=seed)"
   ]
  },
  {
   "cell_type": "code",
   "execution_count": 178,
   "id": "fce5724a-0294-4d59-a889-ea5b742b1b01",
   "metadata": {},
   "outputs": [],
   "source": [
    "# Just subset the data here to see if the number of inducing points were the issue\n",
    "drugList = data[\"drugA\"].unique()[0:5]"
   ]
  },
  {
   "cell_type": "code",
   "execution_count": 179,
   "id": "8e0d162b-a113-4a47-bbef-cfdd32fc9173",
   "metadata": {},
   "outputs": [
    {
     "data": {
      "text/plain": [
       "array(['5-FU', 'ABT-888', 'AZD1775', 'BEZ-235', 'Bortezomib'],\n",
       "      dtype=object)"
      ]
     },
     "execution_count": 179,
     "metadata": {},
     "output_type": "execute_result"
    }
   ],
   "source": [
    "drugList"
   ]
  },
  {
   "cell_type": "code",
   "execution_count": 180,
   "id": "47743739-898b-4396-b38a-83770b39e90d",
   "metadata": {},
   "outputs": [],
   "source": [
    "train = train[train['drugA'].isin(drugList)]\n",
    "train = train[train['drugB'].isin(drugList)]\n",
    "test = test[test['drugA'].isin(drugList)]\n",
    "test = test[test['drugB'].isin(drugList)]"
   ]
  },
  {
   "cell_type": "code",
   "execution_count": 181,
   "id": "e88b1aa0-ee29-4e9a-8869-a35ec9d9d0ee",
   "metadata": {},
   "outputs": [
    {
     "data": {
      "text/plain": [
       "array(['A2058', 'A2780', 'A375', 'A427', 'CAOV3', 'COLO320DM', 'DLD1',\n",
       "       'EFM192B', 'ES2', 'HCT116', 'HT144', 'HT29', 'KPL1', 'LNCAP',\n",
       "       'LOVO', 'MDAMB436', 'MSTO', 'NCIH1650', 'NCIH2122', 'NCIH23',\n",
       "       'NCIH460', 'NCIH520', 'OCUBM', 'OV90', 'OVCAR3', 'PA1', 'RKO',\n",
       "       'RPMI7951', 'SKMEL30', 'SKMES1', 'SKOV3', 'SW620', 'SW837', 'T47D',\n",
       "       'UACC62', 'UWB1289', 'UWB1289BRCA1', 'VCAP', 'ZR751'], dtype=object)"
      ]
     },
     "execution_count": 181,
     "metadata": {},
     "output_type": "execute_result"
    }
   ],
   "source": [
    "train['cell_line'].unique()"
   ]
  },
  {
   "cell_type": "code",
   "execution_count": null,
   "id": "bd25957a-d688-4e72-a6ef-f510fca011a8",
   "metadata": {},
   "outputs": [],
   "source": []
  },
  {
   "cell_type": "code",
   "execution_count": 94,
   "id": "c314a039-510f-4ce8-9892-c0a75722b927",
   "metadata": {},
   "outputs": [
    {
     "data": {
      "text/html": [
       "<div>\n",
       "<style scoped>\n",
       "    .dataframe tbody tr th:only-of-type {\n",
       "        vertical-align: middle;\n",
       "    }\n",
       "\n",
       "    .dataframe tbody tr th {\n",
       "        vertical-align: top;\n",
       "    }\n",
       "\n",
       "    .dataframe thead th {\n",
       "        text-align: right;\n",
       "    }\n",
       "</style>\n",
       "<table border=\"1\" class=\"dataframe\">\n",
       "  <thead>\n",
       "    <tr style=\"text-align: right;\">\n",
       "      <th></th>\n",
       "      <th>cell_line</th>\n",
       "      <th>drugA</th>\n",
       "      <th>drugB</th>\n",
       "      <th>drugA_conc</th>\n",
       "      <th>drugB_conc</th>\n",
       "      <th>GPMean</th>\n",
       "      <th>GPVar</th>\n",
       "      <th>fMean</th>\n",
       "      <th>fVar</th>\n",
       "      <th>p0Mean</th>\n",
       "      <th>...</th>\n",
       "      <th>Blatent_247</th>\n",
       "      <th>Blatent_248</th>\n",
       "      <th>Blatent_249</th>\n",
       "      <th>Blatent_250</th>\n",
       "      <th>Blatent_251</th>\n",
       "      <th>Blatent_252</th>\n",
       "      <th>Blatent_253</th>\n",
       "      <th>Blatent_254</th>\n",
       "      <th>Blatent_255</th>\n",
       "      <th>task_index</th>\n",
       "    </tr>\n",
       "  </thead>\n",
       "  <tbody>\n",
       "    <tr>\n",
       "      <th>100</th>\n",
       "      <td>A2058</td>\n",
       "      <td>5-FU</td>\n",
       "      <td>AZD1775</td>\n",
       "      <td>0.0</td>\n",
       "      <td>0.000000</td>\n",
       "      <td>-0.013604</td>\n",
       "      <td>1.045780</td>\n",
       "      <td>0.999671</td>\n",
       "      <td>0.000001</td>\n",
       "      <td>0.999978</td>\n",
       "      <td>...</td>\n",
       "      <td>-0.171792</td>\n",
       "      <td>-0.051740</td>\n",
       "      <td>-2.050742</td>\n",
       "      <td>-0.289099</td>\n",
       "      <td>0.343276</td>\n",
       "      <td>-0.289370</td>\n",
       "      <td>-0.034100</td>\n",
       "      <td>-2.101314</td>\n",
       "      <td>0.116015</td>\n",
       "      <td>0</td>\n",
       "    </tr>\n",
       "    <tr>\n",
       "      <th>101</th>\n",
       "      <td>A2058</td>\n",
       "      <td>5-FU</td>\n",
       "      <td>AZD1775</td>\n",
       "      <td>0.0</td>\n",
       "      <td>0.111111</td>\n",
       "      <td>-0.019983</td>\n",
       "      <td>1.011360</td>\n",
       "      <td>0.999656</td>\n",
       "      <td>0.000004</td>\n",
       "      <td>0.999977</td>\n",
       "      <td>...</td>\n",
       "      <td>-0.171792</td>\n",
       "      <td>-0.051740</td>\n",
       "      <td>-2.050742</td>\n",
       "      <td>-0.289099</td>\n",
       "      <td>0.343276</td>\n",
       "      <td>-0.289370</td>\n",
       "      <td>-0.034100</td>\n",
       "      <td>-2.101314</td>\n",
       "      <td>0.116015</td>\n",
       "      <td>0</td>\n",
       "    </tr>\n",
       "    <tr>\n",
       "      <th>102</th>\n",
       "      <td>A2058</td>\n",
       "      <td>5-FU</td>\n",
       "      <td>AZD1775</td>\n",
       "      <td>0.0</td>\n",
       "      <td>0.222222</td>\n",
       "      <td>-0.035324</td>\n",
       "      <td>0.974131</td>\n",
       "      <td>0.999599</td>\n",
       "      <td>0.000016</td>\n",
       "      <td>0.999961</td>\n",
       "      <td>...</td>\n",
       "      <td>-0.171792</td>\n",
       "      <td>-0.051740</td>\n",
       "      <td>-2.050742</td>\n",
       "      <td>-0.289099</td>\n",
       "      <td>0.343276</td>\n",
       "      <td>-0.289370</td>\n",
       "      <td>-0.034100</td>\n",
       "      <td>-2.101314</td>\n",
       "      <td>0.116015</td>\n",
       "      <td>0</td>\n",
       "    </tr>\n",
       "    <tr>\n",
       "      <th>103</th>\n",
       "      <td>A2058</td>\n",
       "      <td>5-FU</td>\n",
       "      <td>AZD1775</td>\n",
       "      <td>0.0</td>\n",
       "      <td>0.333333</td>\n",
       "      <td>-0.055318</td>\n",
       "      <td>0.939041</td>\n",
       "      <td>0.999442</td>\n",
       "      <td>0.000015</td>\n",
       "      <td>0.999812</td>\n",
       "      <td>...</td>\n",
       "      <td>-0.171792</td>\n",
       "      <td>-0.051740</td>\n",
       "      <td>-2.050742</td>\n",
       "      <td>-0.289099</td>\n",
       "      <td>0.343276</td>\n",
       "      <td>-0.289370</td>\n",
       "      <td>-0.034100</td>\n",
       "      <td>-2.101314</td>\n",
       "      <td>0.116015</td>\n",
       "      <td>0</td>\n",
       "    </tr>\n",
       "    <tr>\n",
       "      <th>104</th>\n",
       "      <td>A2058</td>\n",
       "      <td>5-FU</td>\n",
       "      <td>AZD1775</td>\n",
       "      <td>0.0</td>\n",
       "      <td>0.444444</td>\n",
       "      <td>-0.069008</td>\n",
       "      <td>0.890884</td>\n",
       "      <td>0.997371</td>\n",
       "      <td>0.000023</td>\n",
       "      <td>0.998224</td>\n",
       "      <td>...</td>\n",
       "      <td>-0.171792</td>\n",
       "      <td>-0.051740</td>\n",
       "      <td>-2.050742</td>\n",
       "      <td>-0.289099</td>\n",
       "      <td>0.343276</td>\n",
       "      <td>-0.289370</td>\n",
       "      <td>-0.034100</td>\n",
       "      <td>-2.101314</td>\n",
       "      <td>0.116015</td>\n",
       "      <td>0</td>\n",
       "    </tr>\n",
       "    <tr>\n",
       "      <th>...</th>\n",
       "      <td>...</td>\n",
       "      <td>...</td>\n",
       "      <td>...</td>\n",
       "      <td>...</td>\n",
       "      <td>...</td>\n",
       "      <td>...</td>\n",
       "      <td>...</td>\n",
       "      <td>...</td>\n",
       "      <td>...</td>\n",
       "      <td>...</td>\n",
       "      <td>...</td>\n",
       "      <td>...</td>\n",
       "      <td>...</td>\n",
       "      <td>...</td>\n",
       "      <td>...</td>\n",
       "      <td>...</td>\n",
       "      <td>...</td>\n",
       "      <td>...</td>\n",
       "      <td>...</td>\n",
       "      <td>...</td>\n",
       "      <td>...</td>\n",
       "    </tr>\n",
       "    <tr>\n",
       "      <th>1840495</th>\n",
       "      <td>ZR751</td>\n",
       "      <td>Bortezomib</td>\n",
       "      <td>BEZ-235</td>\n",
       "      <td>1.0</td>\n",
       "      <td>0.555556</td>\n",
       "      <td>-0.141017</td>\n",
       "      <td>0.055194</td>\n",
       "      <td>0.236057</td>\n",
       "      <td>0.001203</td>\n",
       "      <td>0.258720</td>\n",
       "      <td>...</td>\n",
       "      <td>0.101134</td>\n",
       "      <td>-0.171971</td>\n",
       "      <td>-0.575043</td>\n",
       "      <td>-0.425517</td>\n",
       "      <td>0.047446</td>\n",
       "      <td>0.332179</td>\n",
       "      <td>-0.232644</td>\n",
       "      <td>-1.571546</td>\n",
       "      <td>-0.010968</td>\n",
       "      <td>38</td>\n",
       "    </tr>\n",
       "    <tr>\n",
       "      <th>1840496</th>\n",
       "      <td>ZR751</td>\n",
       "      <td>Bortezomib</td>\n",
       "      <td>BEZ-235</td>\n",
       "      <td>1.0</td>\n",
       "      <td>0.666667</td>\n",
       "      <td>0.114984</td>\n",
       "      <td>0.050149</td>\n",
       "      <td>0.229259</td>\n",
       "      <td>0.001062</td>\n",
       "      <td>0.208783</td>\n",
       "      <td>...</td>\n",
       "      <td>0.101134</td>\n",
       "      <td>-0.171971</td>\n",
       "      <td>-0.575043</td>\n",
       "      <td>-0.425517</td>\n",
       "      <td>0.047446</td>\n",
       "      <td>0.332179</td>\n",
       "      <td>-0.232644</td>\n",
       "      <td>-1.571546</td>\n",
       "      <td>-0.010968</td>\n",
       "      <td>38</td>\n",
       "    </tr>\n",
       "    <tr>\n",
       "      <th>1840497</th>\n",
       "      <td>ZR751</td>\n",
       "      <td>Bortezomib</td>\n",
       "      <td>BEZ-235</td>\n",
       "      <td>1.0</td>\n",
       "      <td>0.777778</td>\n",
       "      <td>0.426133</td>\n",
       "      <td>0.046356</td>\n",
       "      <td>0.221210</td>\n",
       "      <td>0.000855</td>\n",
       "      <td>0.158127</td>\n",
       "      <td>...</td>\n",
       "      <td>0.101134</td>\n",
       "      <td>-0.171971</td>\n",
       "      <td>-0.575043</td>\n",
       "      <td>-0.425517</td>\n",
       "      <td>0.047446</td>\n",
       "      <td>0.332179</td>\n",
       "      <td>-0.232644</td>\n",
       "      <td>-1.571546</td>\n",
       "      <td>-0.010968</td>\n",
       "      <td>38</td>\n",
       "    </tr>\n",
       "    <tr>\n",
       "      <th>1840498</th>\n",
       "      <td>ZR751</td>\n",
       "      <td>Bortezomib</td>\n",
       "      <td>BEZ-235</td>\n",
       "      <td>1.0</td>\n",
       "      <td>0.888889</td>\n",
       "      <td>0.711543</td>\n",
       "      <td>0.064786</td>\n",
       "      <td>0.205070</td>\n",
       "      <td>0.001108</td>\n",
       "      <td>0.114290</td>\n",
       "      <td>...</td>\n",
       "      <td>0.101134</td>\n",
       "      <td>-0.171971</td>\n",
       "      <td>-0.575043</td>\n",
       "      <td>-0.425517</td>\n",
       "      <td>0.047446</td>\n",
       "      <td>0.332179</td>\n",
       "      <td>-0.232644</td>\n",
       "      <td>-1.571546</td>\n",
       "      <td>-0.010968</td>\n",
       "      <td>38</td>\n",
       "    </tr>\n",
       "    <tr>\n",
       "      <th>1840499</th>\n",
       "      <td>ZR751</td>\n",
       "      <td>Bortezomib</td>\n",
       "      <td>BEZ-235</td>\n",
       "      <td>1.0</td>\n",
       "      <td>1.000000</td>\n",
       "      <td>0.889486</td>\n",
       "      <td>0.066342</td>\n",
       "      <td>0.174318</td>\n",
       "      <td>0.000747</td>\n",
       "      <td>0.081117</td>\n",
       "      <td>...</td>\n",
       "      <td>0.101134</td>\n",
       "      <td>-0.171971</td>\n",
       "      <td>-0.575043</td>\n",
       "      <td>-0.425517</td>\n",
       "      <td>0.047446</td>\n",
       "      <td>0.332179</td>\n",
       "      <td>-0.232644</td>\n",
       "      <td>-1.571546</td>\n",
       "      <td>-0.010968</td>\n",
       "      <td>38</td>\n",
       "    </tr>\n",
       "  </tbody>\n",
       "</table>\n",
       "<p>30600 rows × 525 columns</p>\n",
       "</div>"
      ],
      "text/plain": [
       "        cell_line       drugA    drugB  drugA_conc  drugB_conc    GPMean  \\\n",
       "100         A2058        5-FU  AZD1775         0.0    0.000000 -0.013604   \n",
       "101         A2058        5-FU  AZD1775         0.0    0.111111 -0.019983   \n",
       "102         A2058        5-FU  AZD1775         0.0    0.222222 -0.035324   \n",
       "103         A2058        5-FU  AZD1775         0.0    0.333333 -0.055318   \n",
       "104         A2058        5-FU  AZD1775         0.0    0.444444 -0.069008   \n",
       "...           ...         ...      ...         ...         ...       ...   \n",
       "1840495     ZR751  Bortezomib  BEZ-235         1.0    0.555556 -0.141017   \n",
       "1840496     ZR751  Bortezomib  BEZ-235         1.0    0.666667  0.114984   \n",
       "1840497     ZR751  Bortezomib  BEZ-235         1.0    0.777778  0.426133   \n",
       "1840498     ZR751  Bortezomib  BEZ-235         1.0    0.888889  0.711543   \n",
       "1840499     ZR751  Bortezomib  BEZ-235         1.0    1.000000  0.889486   \n",
       "\n",
       "            GPVar     fMean      fVar    p0Mean  ...  Blatent_247  \\\n",
       "100      1.045780  0.999671  0.000001  0.999978  ...    -0.171792   \n",
       "101      1.011360  0.999656  0.000004  0.999977  ...    -0.171792   \n",
       "102      0.974131  0.999599  0.000016  0.999961  ...    -0.171792   \n",
       "103      0.939041  0.999442  0.000015  0.999812  ...    -0.171792   \n",
       "104      0.890884  0.997371  0.000023  0.998224  ...    -0.171792   \n",
       "...           ...       ...       ...       ...  ...          ...   \n",
       "1840495  0.055194  0.236057  0.001203  0.258720  ...     0.101134   \n",
       "1840496  0.050149  0.229259  0.001062  0.208783  ...     0.101134   \n",
       "1840497  0.046356  0.221210  0.000855  0.158127  ...     0.101134   \n",
       "1840498  0.064786  0.205070  0.001108  0.114290  ...     0.101134   \n",
       "1840499  0.066342  0.174318  0.000747  0.081117  ...     0.101134   \n",
       "\n",
       "         Blatent_248  Blatent_249  Blatent_250  Blatent_251  Blatent_252  \\\n",
       "100        -0.051740    -2.050742    -0.289099     0.343276    -0.289370   \n",
       "101        -0.051740    -2.050742    -0.289099     0.343276    -0.289370   \n",
       "102        -0.051740    -2.050742    -0.289099     0.343276    -0.289370   \n",
       "103        -0.051740    -2.050742    -0.289099     0.343276    -0.289370   \n",
       "104        -0.051740    -2.050742    -0.289099     0.343276    -0.289370   \n",
       "...              ...          ...          ...          ...          ...   \n",
       "1840495    -0.171971    -0.575043    -0.425517     0.047446     0.332179   \n",
       "1840496    -0.171971    -0.575043    -0.425517     0.047446     0.332179   \n",
       "1840497    -0.171971    -0.575043    -0.425517     0.047446     0.332179   \n",
       "1840498    -0.171971    -0.575043    -0.425517     0.047446     0.332179   \n",
       "1840499    -0.171971    -0.575043    -0.425517     0.047446     0.332179   \n",
       "\n",
       "         Blatent_253  Blatent_254  Blatent_255  task_index  \n",
       "100        -0.034100    -2.101314     0.116015           0  \n",
       "101        -0.034100    -2.101314     0.116015           0  \n",
       "102        -0.034100    -2.101314     0.116015           0  \n",
       "103        -0.034100    -2.101314     0.116015           0  \n",
       "104        -0.034100    -2.101314     0.116015           0  \n",
       "...              ...          ...          ...         ...  \n",
       "1840495    -0.232644    -1.571546    -0.010968          38  \n",
       "1840496    -0.232644    -1.571546    -0.010968          38  \n",
       "1840497    -0.232644    -1.571546    -0.010968          38  \n",
       "1840498    -0.232644    -1.571546    -0.010968          38  \n",
       "1840499    -0.232644    -1.571546    -0.010968          38  \n",
       "\n",
       "[30600 rows x 525 columns]"
      ]
     },
     "execution_count": 94,
     "metadata": {},
     "output_type": "execute_result"
    }
   ],
   "source": [
    "train"
   ]
  },
  {
   "cell_type": "code",
   "execution_count": 182,
   "id": "56d58562-2740-4d3d-b3a3-f3c7e6df1178",
   "metadata": {},
   "outputs": [],
   "source": [
    "# Will focus on a single cell line, A2058\n",
    "cell_line = \"A2058\"\n",
    "train = train[train['cell_line'] == cell_line]\n",
    "#train = train.iloc[0:5000]\n",
    "test = test[test['cell_line'] == cell_line] \n",
    "#test = test.iloc[0:5000]\n",
    "y_train, X_train, train_indices, train_noise, train_weights = prepdata(train, targets, predtarget,num_latents=256)\n",
    "y_test, X_test, test_indices, test_noise, test_weights = prepdata(test, targets, predtarget,num_latents=256)"
   ]
  },
  {
   "cell_type": "code",
   "execution_count": 183,
   "id": "1dcda5ae-6104-451c-884a-61400c344e5e",
   "metadata": {},
   "outputs": [
    {
     "data": {
      "text/plain": [
       "tensor([[ 0.0000,  0.0000, -0.5473,  ..., -0.0341, -2.1013,  0.1160],\n",
       "        [ 0.0000,  0.1111, -0.5473,  ..., -0.0341, -2.1013,  0.1160],\n",
       "        [ 0.0000,  0.2222, -0.5473,  ..., -0.0341, -2.1013,  0.1160],\n",
       "        [ 0.0000,  0.3333, -0.5473,  ..., -0.0341, -2.1013,  0.1160],\n",
       "        [ 0.0000,  0.4444, -0.5473,  ..., -0.0341, -2.1013,  0.1160]])"
      ]
     },
     "execution_count": 183,
     "metadata": {},
     "output_type": "execute_result"
    }
   ],
   "source": [
    "X_train[0:5]"
   ]
  },
  {
   "cell_type": "code",
   "execution_count": 184,
   "id": "af8dbd03-ce84-4053-8772-b90a3457559f",
   "metadata": {},
   "outputs": [
    {
     "data": {
      "text/plain": [
       "torch.Size([800, 514])"
      ]
     },
     "execution_count": 184,
     "metadata": {},
     "output_type": "execute_result"
    }
   ],
   "source": [
    "X_train.shape"
   ]
  },
  {
   "cell_type": "code",
   "execution_count": 185,
   "id": "5460d433-f46e-419d-ab8e-674ed34c9ea9",
   "metadata": {},
   "outputs": [
    {
     "data": {
      "text/plain": [
       "torch.Size([200, 514])"
      ]
     },
     "execution_count": 185,
     "metadata": {},
     "output_type": "execute_result"
    }
   ],
   "source": [
    "X_test.shape"
   ]
  },
  {
   "cell_type": "code",
   "execution_count": 390,
   "id": "bc1785a5-9125-4700-abbf-2a2701169d32",
   "metadata": {},
   "outputs": [],
   "source": [
    "G = 1\n",
    "num_latents = 2\n",
    "num_inducing = 300\n",
    "batch_size = 256\n",
    "num_tasks = train_indices.max()+1\n",
    "num_epochs = 400\n",
    "initial_lr = 0.01\n",
    "num_drug_latents = 256"
   ]
  },
  {
   "cell_type": "code",
   "execution_count": 391,
   "id": "f91460e7-ee5d-4baf-95a3-8835caef7930",
   "metadata": {},
   "outputs": [],
   "source": [
    "from torch.utils.data import TensorDataset,  DataLoader\n",
    "train_dataset = TensorDataset(X_train,y_train,train_noise,train_indices)\n",
    "train_loader = DataLoader(train_dataset,batch_size=batch_size,shuffle=True)\n",
    "\n",
    "# Define the permutation\n",
    "permutation = torch.cat([torch.tensor([1]), torch.tensor([0]),\n",
    "                             torch.linspace((2 + num_drug_latents), 1 + (2 * num_drug_latents), num_drug_latents), \n",
    "                         torch.linspace(2, 1 + num_drug_latents, num_drug_latents)]).long()\n"
   ]
  },
  {
   "cell_type": "code",
   "execution_count": 392,
   "id": "cd019b75-545f-4781-a255-345428183253",
   "metadata": {},
   "outputs": [
    {
     "data": {
      "text/plain": [
       "[tensor([[ 0.3333,  0.6667, -0.5972,  ..., -0.2326, -1.5715, -0.0110],\n",
       "         [ 0.8889,  0.1111, -0.5473,  ..., -0.0341, -2.1013,  0.1160],\n",
       "         [ 0.6667,  0.4444, -0.5473,  ..., -0.7600, -1.8868, -0.4474],\n",
       "         ...,\n",
       "         [ 0.3333,  0.6667,  0.6334,  ..., -0.2326, -1.5715, -0.0110],\n",
       "         [ 0.6667,  1.0000, -0.5473,  ..., -0.2326, -1.5715, -0.0110],\n",
       "         [ 0.1111,  0.8889, -0.5473,  ..., -0.0341, -2.1013,  0.1160]]),\n",
       " tensor([4.5404e-01, 7.2710e-01, 9.7222e-01, 1.9991e-01, 9.8906e-01, 4.8492e-01,\n",
       "         2.0893e-01, 9.9826e-01, 4.7505e-01, 2.8803e-01, 9.9893e-01, 9.8265e-04,\n",
       "         9.9262e-01, 9.9815e-01, 5.9477e-01, 7.1715e-01, 9.8785e-01, 8.8239e-01,\n",
       "         1.3620e-01, 9.9962e-01, 9.9722e-01, 9.5787e-01, 6.4597e-01, 1.2236e-01,\n",
       "         9.9848e-01, 4.2690e-02, 9.9708e-01, 6.9664e-01, 9.7823e-01, 8.2622e-04,\n",
       "         9.9780e-01, 4.0086e-01, 9.9967e-01, 4.3673e-02, 2.3217e-01, 9.9937e-01,\n",
       "         9.9851e-01, 4.2487e-01, 2.2839e-01, 8.5072e-01, 1.5431e-01, 9.9939e-01,\n",
       "         3.6390e-02, 6.3022e-01, 9.3125e-01, 1.5403e-01, 9.9989e-01, 9.9036e-01,\n",
       "         9.7357e-01, 2.7720e-01, 9.9293e-01, 9.8676e-01, 3.1475e-01, 2.8639e-03,\n",
       "         9.8726e-01, 9.0560e-01, 9.8924e-01, 2.0289e-01, 9.4083e-01, 3.1878e-03,\n",
       "         1.5142e-01, 9.9969e-01, 9.7756e-01, 2.3503e-01, 6.8286e-01, 3.6370e-02,\n",
       "         9.6799e-01, 4.2730e-01, 9.9035e-01, 3.7119e-01, 9.9665e-01, 8.7414e-01,\n",
       "         9.9336e-01, 9.9696e-01, 7.3100e-01, 9.9508e-01, 9.6676e-01, 8.9197e-01,\n",
       "         5.1845e-04, 9.9591e-01, 9.6550e-01, 9.2868e-01, 9.1450e-01, 3.2511e-03,\n",
       "         2.1643e-01, 1.6827e-01, 9.9934e-01, 9.5648e-01, 9.9296e-01, 7.4498e-04,\n",
       "         2.8653e-01, 1.3832e-01, 9.3278e-01, 2.8150e-01, 9.9865e-01, 7.7020e-01,\n",
       "         7.7848e-04, 2.0723e-01, 9.8547e-01, 9.8273e-01, 4.0134e-03, 9.7629e-01,\n",
       "         9.5917e-01, 9.8128e-01, 1.4261e-01, 9.9996e-01, 3.7638e-01, 4.4150e-01,\n",
       "         9.7742e-01, 9.7376e-01, 2.4041e-01, 9.2046e-01, 8.9464e-01, 9.9860e-01,\n",
       "         9.8554e-01, 9.9501e-01, 7.0021e-01, 9.7630e-01, 9.9821e-01, 2.8311e-02,\n",
       "         5.6591e-01, 1.8394e-04, 9.9944e-01, 9.5328e-01, 1.2633e-03, 5.3830e-02,\n",
       "         5.9473e-01, 2.3999e-01, 2.8598e-01, 2.0462e-01, 2.9751e-02, 8.3995e-01,\n",
       "         9.3537e-01, 3.9761e-03, 5.6484e-01, 9.7165e-01, 9.9421e-01, 2.2286e-01,\n",
       "         1.3346e-01, 7.1617e-01, 5.7337e-01, 1.4411e-01, 9.4990e-01, 6.8871e-01,\n",
       "         3.9971e-01, 8.1605e-04, 4.8510e-01, 9.9768e-01, 1.2977e-01, 9.8549e-01,\n",
       "         8.9173e-01, 9.7208e-01, 2.6759e-01, 1.7984e-01, 9.9085e-01, 9.9700e-01,\n",
       "         9.7036e-01, 9.9684e-01, 1.0566e-03, 9.9967e-01, 9.5136e-01, 9.9869e-01,\n",
       "         4.3661e-03, 9.1286e-01, 6.2189e-01, 9.9872e-01, 9.9996e-01, 4.3916e-01,\n",
       "         9.8560e-01, 7.7641e-01, 8.9634e-01, 2.9476e-01, 9.9472e-01, 9.9952e-01,\n",
       "         9.4993e-01, 4.6394e-01, 9.9717e-01, 1.6382e-01, 9.9815e-01, 9.8574e-01,\n",
       "         6.3106e-01, 2.0875e-01, 4.7553e-01, 1.4607e-01, 1.4305e-03, 5.7825e-02,\n",
       "         9.9967e-01, 9.6705e-01, 9.7827e-01, 9.8845e-01, 3.2673e-01, 5.6517e-02,\n",
       "         9.9496e-01, 9.8604e-01, 4.3671e-01, 9.5819e-01, 3.2759e-03, 1.7104e-03,\n",
       "         7.8108e-01, 4.3003e-02, 9.1399e-01, 9.5550e-01, 9.9902e-01, 7.7802e-01,\n",
       "         6.9903e-01, 9.9960e-01, 9.9821e-01, 2.9543e-02, 9.8223e-01, 9.8058e-01,\n",
       "         1.9842e-01, 2.3091e-01, 3.5666e-03, 9.5692e-01, 3.8508e-01, 9.9968e-01,\n",
       "         5.9109e-01, 6.6408e-02, 6.5736e-02, 1.7941e-01, 2.9557e-02, 9.8292e-01,\n",
       "         8.6345e-01, 8.4426e-01, 8.6560e-04, 2.7953e-04, 2.5566e-01, 5.9471e-01,\n",
       "         9.7259e-01, 9.9965e-01, 4.1834e-02, 1.9101e-01, 9.0373e-01, 1.7919e-01,\n",
       "         1.3318e-01, 7.3587e-01, 7.3399e-01, 7.1822e-01, 8.2537e-01, 2.1144e-01,\n",
       "         3.3439e-01, 9.9555e-01, 7.4457e-01, 7.7327e-01, 9.9238e-01, 9.9422e-01,\n",
       "         9.9431e-01, 9.9913e-01, 4.1400e-01, 8.4945e-01, 6.4962e-01, 9.9402e-01,\n",
       "         9.4016e-04, 4.3337e-01, 1.3960e-01, 6.1587e-02]),\n",
       " tensor([0., 0., 0., 0., 0., 0., 0., 0., 0., 0., 0., 0., 0., 0., 0., 0., 0., 0., 0., 0., 0., 0., 0., 0.,\n",
       "         0., 0., 0., 0., 0., 0., 0., 0., 0., 0., 0., 0., 0., 0., 0., 0., 0., 0., 0., 0., 0., 0., 0., 0.,\n",
       "         0., 0., 0., 0., 0., 0., 0., 0., 0., 0., 0., 0., 0., 0., 0., 0., 0., 0., 0., 0., 0., 0., 0., 0.,\n",
       "         0., 0., 0., 0., 0., 0., 0., 0., 0., 0., 0., 0., 0., 0., 0., 0., 0., 0., 0., 0., 0., 0., 0., 0.,\n",
       "         0., 0., 0., 0., 0., 0., 0., 0., 0., 0., 0., 0., 0., 0., 0., 0., 0., 0., 0., 0., 0., 0., 0., 0.,\n",
       "         0., 0., 0., 0., 0., 0., 0., 0., 0., 0., 0., 0., 0., 0., 0., 0., 0., 0., 0., 0., 0., 0., 0., 0.,\n",
       "         0., 0., 0., 0., 0., 0., 0., 0., 0., 0., 0., 0., 0., 0., 0., 0., 0., 0., 0., 0., 0., 0., 0., 0.,\n",
       "         0., 0., 0., 0., 0., 0., 0., 0., 0., 0., 0., 0., 0., 0., 0., 0., 0., 0., 0., 0., 0., 0., 0., 0.,\n",
       "         0., 0., 0., 0., 0., 0., 0., 0., 0., 0., 0., 0., 0., 0., 0., 0., 0., 0., 0., 0., 0., 0., 0., 0.,\n",
       "         0., 0., 0., 0., 0., 0., 0., 0., 0., 0., 0., 0., 0., 0., 0., 0., 0., 0., 0., 0., 0., 0., 0., 0.,\n",
       "         0., 0., 0., 0., 0., 0., 0., 0., 0., 0., 0., 0., 0., 0., 0., 0.]),\n",
       " tensor([0, 0, 0, 0, 0, 0, 0, 0, 0, 0, 0, 0, 0, 0, 0, 0, 0, 0, 0, 0, 0, 0, 0, 0,\n",
       "         0, 0, 0, 0, 0, 0, 0, 0, 0, 0, 0, 0, 0, 0, 0, 0, 0, 0, 0, 0, 0, 0, 0, 0,\n",
       "         0, 0, 0, 0, 0, 0, 0, 0, 0, 0, 0, 0, 0, 0, 0, 0, 0, 0, 0, 0, 0, 0, 0, 0,\n",
       "         0, 0, 0, 0, 0, 0, 0, 0, 0, 0, 0, 0, 0, 0, 0, 0, 0, 0, 0, 0, 0, 0, 0, 0,\n",
       "         0, 0, 0, 0, 0, 0, 0, 0, 0, 0, 0, 0, 0, 0, 0, 0, 0, 0, 0, 0, 0, 0, 0, 0,\n",
       "         0, 0, 0, 0, 0, 0, 0, 0, 0, 0, 0, 0, 0, 0, 0, 0, 0, 0, 0, 0, 0, 0, 0, 0,\n",
       "         0, 0, 0, 0, 0, 0, 0, 0, 0, 0, 0, 0, 0, 0, 0, 0, 0, 0, 0, 0, 0, 0, 0, 0,\n",
       "         0, 0, 0, 0, 0, 0, 0, 0, 0, 0, 0, 0, 0, 0, 0, 0, 0, 0, 0, 0, 0, 0, 0, 0,\n",
       "         0, 0, 0, 0, 0, 0, 0, 0, 0, 0, 0, 0, 0, 0, 0, 0, 0, 0, 0, 0, 0, 0, 0, 0,\n",
       "         0, 0, 0, 0, 0, 0, 0, 0, 0, 0, 0, 0, 0, 0, 0, 0, 0, 0, 0, 0, 0, 0, 0, 0,\n",
       "         0, 0, 0, 0, 0, 0, 0, 0, 0, 0, 0, 0, 0, 0, 0, 0])]"
      ]
     },
     "execution_count": 392,
     "metadata": {},
     "output_type": "execute_result"
    }
   ],
   "source": [
    "next(iter(train_loader))"
   ]
  },
  {
   "cell_type": "code",
   "execution_count": 422,
   "id": "bfa488ba-c751-4641-a7cd-9edd4951becb",
   "metadata": {},
   "outputs": [],
   "source": [
    "from torch import Tensor\n",
    "from typing import Literal\n",
    "from pimogp.kernels.permutation_invariant_rbf import PermutationInvariantRBFKernel\n",
    "from pimogp.variational.permutation_invariant_variational_strategy import PermutationInvariantVariationalStrategy\n",
    "from botorch.models.utils.inducing_point_allocators import GreedyVarianceReduction\n",
    "\n",
    "class TestModel(gpytorch.models.ApproximateGP):\n",
    "    r\"\"\"\n",
    "    DrugComboModelICM_NC is the model for drug combination prediction that utilizes drug covariates, but\n",
    "    no cell line covariates\n",
    "\n",
    "    It wraps a PermutationInvariantVariationalStrategy in an LMCVariationalStrategy for a multi-output GP.\n",
    "    The parameters of the LMC are learned \"free-form\" as opposed to making use of cell line information\n",
    "\n",
    "    :param permutation: A Tensor giving the permutation the function should be invariant to\n",
    "    :param conc_dims: The dimensions of the data input that corresponds to the drug concentrations\n",
    "    :param drug_covar_dims: The dimension of the data input that corresponds to the drug covariates\n",
    "    :param num_tasks: The number of tasks / outputs / cell lines\n",
    "    :param num_latents: The number of latent functions in the LMC\n",
    "    :param num_inducing: The number of inducing points per latent\n",
    "    :param sample_inducing_from: A Tensor to sample inducing points from, usually this would be the training inputs\n",
    "    :param inducing_weights: A vector of weights used in sampling of the inducing points\n",
    "    :param vardistr: The variational distribution to use, mf=MeanField (Default), \"nat\"=Natural, \"chol\"=Cholesky\n",
    "    \"\"\"\n",
    "\n",
    "    def __init__(self, permutation: Tensor,\n",
    "                 num_tasks: int,\n",
    "                 num_latents: int,\n",
    "                 num_inducing: int,\n",
    "                 inducing_weights,\n",
    "                 sample_inducing_from: Tensor,\n",
    "                 ):\n",
    "\n",
    "        \n",
    "        covar_module = gpytorch.kernels.ScaleKernel(PermutationInvariantRBFKernel(permutation=permutation,permute_forward=True,\n",
    "                                                     ard_num_dims=514,lengthscale_constraint=gpytorch.constraints.LessThan(100.0)))\n",
    "\n",
    "        # Initialise the lengthscales\n",
    "        div = torch.zeros([514])\n",
    "        div[0:2] = 2.0\n",
    "        div[2:] = 2.0\n",
    "        lengthscales_init = sample_inducing_from.var(dim=0).sqrt().div(div)\n",
    "        covar_module.base_kernel.lengthscale = lengthscales_init\n",
    "\n",
    "\n",
    "        # Sample inducing points\n",
    "        #p = inducing_weights.div(inducing_weights.sum())\n",
    "        #idx = p.multinomial(num_samples=num_inducing * num_latents, replacement=False).reshape(num_latents,\n",
    "        #                                                                                       num_inducing)\n",
    "        #inducing_points = sample_inducing_from[idx]\n",
    "\n",
    "        ind_allocator = GreedyVarianceReduction()\n",
    "        inducing_points = torch.empty((0, num_inducing, sample_inducing_from.size(1)))\n",
    "        for i in range(num_latents):\n",
    "            sample = ind_allocator.allocate_inducing_points(sample_inducing_from, covar_module,\n",
    "                                                num_inducing=num_inducing, input_batch_shape=torch.Size([]))\n",
    "            inducing_points = torch.cat((inducing_points, sample.unsqueeze(0)), dim=0)\n",
    "            matches = (sample_inducing_from.unsqueeze(1) == sample).all(dim=2)\n",
    "            row_matches = matches.any(dim=1)\n",
    "            sample_inducing_from = sample_inducing_from[~row_matches]\n",
    "        #inducing_points = ind_allocator.allocate_inducing_points(sample_inducing_from,\n",
    "        #                                                         covar_module,num_inducing=num_inducing,\n",
    "        #                                                         input_batch_shape=torch.Size([num_latents]))\n",
    "\n",
    "        # Now turn of the permutation forward\n",
    "        #covar_module.permute_forward = False\n",
    "        \n",
    "        # Variational distribution\n",
    "        variational_distribution = gpytorch.variational.NaturalVariationalDistribution(\n",
    "            inducing_points.size(-2), batch_shape=torch.Size([num_latents])\n",
    "            )\n",
    "\n",
    "        # Variational Strategy\n",
    "        variational_strategy = gpytorch.variational.LMCVariationalStrategy(\n",
    "            gpytorch.variational.VariationalStrategy(\n",
    "            #PermutationInvariantVariationalStrategy(\n",
    "                self, inducing_points, variational_distribution,\n",
    "                #permutation,\n",
    "                learn_inducing_locations=True),\n",
    "            num_tasks=num_tasks, num_latents=num_latents, latent_dim=-1)\n",
    "\n",
    "        super(TestModel, self).__init__(variational_strategy)\n",
    "\n",
    "        # Store permutation here\n",
    "        \n",
    "\n",
    "        # Mean and covariance modules\n",
    "        # Standard zero-mean\n",
    "        self.mean_module = gpytorch.means.ConstantMean()\n",
    "        # Covar over the concentrations, simple RBF\n",
    "        #self.covar_module_concentrations = covar_module_concentrations\n",
    "        # Covar over the drugs, RBF + ARD\n",
    "        #self.covar_module_drugs = covar_module_drugs\n",
    "        self.covar_module = covar_module\n",
    "\n",
    "\n",
    "\n",
    "    def forward(self, x):\n",
    "        mean_x = self.mean_module(x)\n",
    "        # Final covariance is a simple product.\n",
    "        #covar_x = self.covar_module_concentrations(x) * self.covar_module_drugs(x)\n",
    "        covar_x = self.covar_module(x)\n",
    "        return gpytorch.distributions.MultivariateNormal(mean_x, covar_x)"
   ]
  },
  {
   "cell_type": "code",
   "execution_count": 423,
   "id": "2227a5bd-c991-467e-b0d9-92b3239b274a",
   "metadata": {
    "scrolled": true
   },
   "outputs": [
    {
     "name": "stdout",
     "output_type": "stream",
     "text": [
      "Index 0 given to:  (0, 1)\n",
      "Index 1 given to:  (2, 258)\n",
      "Index 2 given to:  (3, 259)\n",
      "Index 3 given to:  (4, 260)\n",
      "Index 4 given to:  (5, 261)\n",
      "Index 5 given to:  (6, 262)\n",
      "Index 6 given to:  (7, 263)\n",
      "Index 7 given to:  (8, 264)\n",
      "Index 8 given to:  (9, 265)\n",
      "Index 9 given to:  (10, 266)\n",
      "Index 10 given to:  (11, 267)\n",
      "Index 11 given to:  (12, 268)\n",
      "Index 12 given to:  (13, 269)\n",
      "Index 13 given to:  (14, 270)\n",
      "Index 14 given to:  (15, 271)\n",
      "Index 15 given to:  (16, 272)\n",
      "Index 16 given to:  (17, 273)\n",
      "Index 17 given to:  (18, 274)\n",
      "Index 18 given to:  (19, 275)\n",
      "Index 19 given to:  (20, 276)\n",
      "Index 20 given to:  (21, 277)\n",
      "Index 21 given to:  (22, 278)\n",
      "Index 22 given to:  (23, 279)\n",
      "Index 23 given to:  (24, 280)\n",
      "Index 24 given to:  (25, 281)\n",
      "Index 25 given to:  (26, 282)\n",
      "Index 26 given to:  (27, 283)\n",
      "Index 27 given to:  (28, 284)\n",
      "Index 28 given to:  (29, 285)\n",
      "Index 29 given to:  (30, 286)\n",
      "Index 30 given to:  (31, 287)\n",
      "Index 31 given to:  (32, 288)\n",
      "Index 32 given to:  (33, 289)\n",
      "Index 33 given to:  (34, 290)\n",
      "Index 34 given to:  (35, 291)\n",
      "Index 35 given to:  (36, 292)\n",
      "Index 36 given to:  (37, 293)\n",
      "Index 37 given to:  (38, 294)\n",
      "Index 38 given to:  (39, 295)\n",
      "Index 39 given to:  (40, 296)\n",
      "Index 40 given to:  (41, 297)\n",
      "Index 41 given to:  (42, 298)\n",
      "Index 42 given to:  (43, 299)\n",
      "Index 43 given to:  (44, 300)\n",
      "Index 44 given to:  (45, 301)\n",
      "Index 45 given to:  (46, 302)\n",
      "Index 46 given to:  (47, 303)\n",
      "Index 47 given to:  (48, 304)\n",
      "Index 48 given to:  (49, 305)\n",
      "Index 49 given to:  (50, 306)\n",
      "Index 50 given to:  (51, 307)\n",
      "Index 51 given to:  (52, 308)\n",
      "Index 52 given to:  (53, 309)\n",
      "Index 53 given to:  (54, 310)\n",
      "Index 54 given to:  (55, 311)\n",
      "Index 55 given to:  (56, 312)\n",
      "Index 56 given to:  (57, 313)\n",
      "Index 57 given to:  (58, 314)\n",
      "Index 58 given to:  (59, 315)\n",
      "Index 59 given to:  (60, 316)\n",
      "Index 60 given to:  (61, 317)\n",
      "Index 61 given to:  (62, 318)\n",
      "Index 62 given to:  (63, 319)\n",
      "Index 63 given to:  (64, 320)\n",
      "Index 64 given to:  (65, 321)\n",
      "Index 65 given to:  (66, 322)\n",
      "Index 66 given to:  (67, 323)\n",
      "Index 67 given to:  (68, 324)\n",
      "Index 68 given to:  (69, 325)\n",
      "Index 69 given to:  (70, 326)\n",
      "Index 70 given to:  (71, 327)\n",
      "Index 71 given to:  (72, 328)\n",
      "Index 72 given to:  (73, 329)\n",
      "Index 73 given to:  (74, 330)\n",
      "Index 74 given to:  (75, 331)\n",
      "Index 75 given to:  (76, 332)\n",
      "Index 76 given to:  (77, 333)\n",
      "Index 77 given to:  (78, 334)\n",
      "Index 78 given to:  (79, 335)\n",
      "Index 79 given to:  (80, 336)\n",
      "Index 80 given to:  (81, 337)\n",
      "Index 81 given to:  (82, 338)\n",
      "Index 82 given to:  (83, 339)\n",
      "Index 83 given to:  (84, 340)\n",
      "Index 84 given to:  (85, 341)\n",
      "Index 85 given to:  (86, 342)\n",
      "Index 86 given to:  (87, 343)\n",
      "Index 87 given to:  (88, 344)\n",
      "Index 88 given to:  (89, 345)\n",
      "Index 89 given to:  (90, 346)\n",
      "Index 90 given to:  (91, 347)\n",
      "Index 91 given to:  (92, 348)\n",
      "Index 92 given to:  (93, 349)\n",
      "Index 93 given to:  (94, 350)\n",
      "Index 94 given to:  (95, 351)\n",
      "Index 95 given to:  (96, 352)\n",
      "Index 96 given to:  (97, 353)\n",
      "Index 97 given to:  (98, 354)\n",
      "Index 98 given to:  (99, 355)\n",
      "Index 99 given to:  (100, 356)\n",
      "Index 100 given to:  (101, 357)\n",
      "Index 101 given to:  (102, 358)\n",
      "Index 102 given to:  (103, 359)\n",
      "Index 103 given to:  (104, 360)\n",
      "Index 104 given to:  (105, 361)\n",
      "Index 105 given to:  (106, 362)\n",
      "Index 106 given to:  (107, 363)\n",
      "Index 107 given to:  (108, 364)\n",
      "Index 108 given to:  (109, 365)\n",
      "Index 109 given to:  (110, 366)\n",
      "Index 110 given to:  (111, 367)\n",
      "Index 111 given to:  (112, 368)\n",
      "Index 112 given to:  (113, 369)\n",
      "Index 113 given to:  (114, 370)\n",
      "Index 114 given to:  (115, 371)\n",
      "Index 115 given to:  (116, 372)\n",
      "Index 116 given to:  (117, 373)\n",
      "Index 117 given to:  (118, 374)\n",
      "Index 118 given to:  (119, 375)\n",
      "Index 119 given to:  (120, 376)\n",
      "Index 120 given to:  (121, 377)\n",
      "Index 121 given to:  (122, 378)\n",
      "Index 122 given to:  (123, 379)\n",
      "Index 123 given to:  (124, 380)\n",
      "Index 124 given to:  (125, 381)\n",
      "Index 125 given to:  (126, 382)\n",
      "Index 126 given to:  (127, 383)\n",
      "Index 127 given to:  (128, 384)\n",
      "Index 128 given to:  (129, 385)\n",
      "Index 129 given to:  (130, 386)\n",
      "Index 130 given to:  (131, 387)\n",
      "Index 131 given to:  (132, 388)\n",
      "Index 132 given to:  (133, 389)\n",
      "Index 133 given to:  (134, 390)\n",
      "Index 134 given to:  (135, 391)\n",
      "Index 135 given to:  (136, 392)\n",
      "Index 136 given to:  (137, 393)\n",
      "Index 137 given to:  (138, 394)\n",
      "Index 138 given to:  (139, 395)\n",
      "Index 139 given to:  (140, 396)\n",
      "Index 140 given to:  (141, 397)\n",
      "Index 141 given to:  (142, 398)\n",
      "Index 142 given to:  (143, 399)\n",
      "Index 143 given to:  (144, 400)\n",
      "Index 144 given to:  (145, 401)\n",
      "Index 145 given to:  (146, 402)\n",
      "Index 146 given to:  (147, 403)\n",
      "Index 147 given to:  (148, 404)\n",
      "Index 148 given to:  (149, 405)\n",
      "Index 149 given to:  (150, 406)\n",
      "Index 150 given to:  (151, 407)\n",
      "Index 151 given to:  (152, 408)\n",
      "Index 152 given to:  (153, 409)\n",
      "Index 153 given to:  (154, 410)\n",
      "Index 154 given to:  (155, 411)\n",
      "Index 155 given to:  (156, 412)\n",
      "Index 156 given to:  (157, 413)\n",
      "Index 157 given to:  (158, 414)\n",
      "Index 158 given to:  (159, 415)\n",
      "Index 159 given to:  (160, 416)\n",
      "Index 160 given to:  (161, 417)\n",
      "Index 161 given to:  (162, 418)\n",
      "Index 162 given to:  (163, 419)\n",
      "Index 163 given to:  (164, 420)\n",
      "Index 164 given to:  (165, 421)\n",
      "Index 165 given to:  (166, 422)\n",
      "Index 166 given to:  (167, 423)\n",
      "Index 167 given to:  (168, 424)\n",
      "Index 168 given to:  (169, 425)\n",
      "Index 169 given to:  (170, 426)\n",
      "Index 170 given to:  (171, 427)\n",
      "Index 171 given to:  (172, 428)\n",
      "Index 172 given to:  (173, 429)\n",
      "Index 173 given to:  (174, 430)\n",
      "Index 174 given to:  (175, 431)\n",
      "Index 175 given to:  (176, 432)\n",
      "Index 176 given to:  (177, 433)\n",
      "Index 177 given to:  (178, 434)\n",
      "Index 178 given to:  (179, 435)\n",
      "Index 179 given to:  (180, 436)\n",
      "Index 180 given to:  (181, 437)\n",
      "Index 181 given to:  (182, 438)\n",
      "Index 182 given to:  (183, 439)\n",
      "Index 183 given to:  (184, 440)\n",
      "Index 184 given to:  (185, 441)\n",
      "Index 185 given to:  (186, 442)\n",
      "Index 186 given to:  (187, 443)\n",
      "Index 187 given to:  (188, 444)\n",
      "Index 188 given to:  (189, 445)\n",
      "Index 189 given to:  (190, 446)\n",
      "Index 190 given to:  (191, 447)\n",
      "Index 191 given to:  (192, 448)\n",
      "Index 192 given to:  (193, 449)\n",
      "Index 193 given to:  (194, 450)\n",
      "Index 194 given to:  (195, 451)\n",
      "Index 195 given to:  (196, 452)\n",
      "Index 196 given to:  (197, 453)\n",
      "Index 197 given to:  (198, 454)\n",
      "Index 198 given to:  (199, 455)\n",
      "Index 199 given to:  (200, 456)\n",
      "Index 200 given to:  (201, 457)\n",
      "Index 201 given to:  (202, 458)\n",
      "Index 202 given to:  (203, 459)\n",
      "Index 203 given to:  (204, 460)\n",
      "Index 204 given to:  (205, 461)\n",
      "Index 205 given to:  (206, 462)\n",
      "Index 206 given to:  (207, 463)\n",
      "Index 207 given to:  (208, 464)\n",
      "Index 208 given to:  (209, 465)\n",
      "Index 209 given to:  (210, 466)\n",
      "Index 210 given to:  (211, 467)\n",
      "Index 211 given to:  (212, 468)\n",
      "Index 212 given to:  (213, 469)\n",
      "Index 213 given to:  (214, 470)\n",
      "Index 214 given to:  (215, 471)\n",
      "Index 215 given to:  (216, 472)\n",
      "Index 216 given to:  (217, 473)\n",
      "Index 217 given to:  (218, 474)\n",
      "Index 218 given to:  (219, 475)\n",
      "Index 219 given to:  (220, 476)\n",
      "Index 220 given to:  (221, 477)\n",
      "Index 221 given to:  (222, 478)\n",
      "Index 222 given to:  (223, 479)\n",
      "Index 223 given to:  (224, 480)\n",
      "Index 224 given to:  (225, 481)\n",
      "Index 225 given to:  (226, 482)\n",
      "Index 226 given to:  (227, 483)\n",
      "Index 227 given to:  (228, 484)\n",
      "Index 228 given to:  (229, 485)\n",
      "Index 229 given to:  (230, 486)\n",
      "Index 230 given to:  (231, 487)\n",
      "Index 231 given to:  (232, 488)\n",
      "Index 232 given to:  (233, 489)\n",
      "Index 233 given to:  (234, 490)\n",
      "Index 234 given to:  (235, 491)\n",
      "Index 235 given to:  (236, 492)\n",
      "Index 236 given to:  (237, 493)\n",
      "Index 237 given to:  (238, 494)\n",
      "Index 238 given to:  (239, 495)\n",
      "Index 239 given to:  (240, 496)\n",
      "Index 240 given to:  (241, 497)\n",
      "Index 241 given to:  (242, 498)\n",
      "Index 242 given to:  (243, 499)\n",
      "Index 243 given to:  (244, 500)\n",
      "Index 244 given to:  (245, 501)\n",
      "Index 245 given to:  (246, 502)\n",
      "Index 246 given to:  (247, 503)\n",
      "Index 247 given to:  (248, 504)\n",
      "Index 248 given to:  (249, 505)\n",
      "Index 249 given to:  (250, 506)\n",
      "Index 250 given to:  (251, 507)\n",
      "Index 251 given to:  (252, 508)\n",
      "Index 252 given to:  (253, 509)\n",
      "Index 253 given to:  (254, 510)\n",
      "Index 254 given to:  (255, 511)\n",
      "Index 255 given to:  (256, 512)\n",
      "Index 256 given to:  (257, 513)\n"
     ]
    }
   ],
   "source": [
    "# Set up model and likelihood\n",
    "from gpytorch.likelihoods import GaussianLikelihood, FixedNoiseGaussianLikelihood\n",
    "model = TestModel(permutation=permutation, num_tasks = num_tasks, num_latents=num_latents, num_inducing=num_inducing,sample_inducing_from=X_train,inducing_weights=train_weights)\n",
    "likelihood = GaussianLikelihood()\n",
    "#likelihood = FixedNoiseGaussianLikelihood(noise=torch.tensor([0.01]))"
   ]
  },
  {
   "cell_type": "code",
   "execution_count": 424,
   "id": "62f4c29b-56ae-4eb3-afc8-b1be01a1a315",
   "metadata": {},
   "outputs": [
    {
     "data": {
      "text/plain": [
       "tensor([0.6932], grad_fn=<AddBackward0>)"
      ]
     },
     "execution_count": 424,
     "metadata": {},
     "output_type": "execute_result"
    }
   ],
   "source": [
    "likelihood.noise"
   ]
  },
  {
   "cell_type": "code",
   "execution_count": 425,
   "id": "fcab4459-a62d-442e-9b33-5a42f6c554ac",
   "metadata": {},
   "outputs": [],
   "source": [
    "model.covar_module.lengthscale"
   ]
  },
  {
   "cell_type": "code",
   "execution_count": 426,
   "id": "890b7538-a43a-4246-9f6b-2c84bf0955c5",
   "metadata": {},
   "outputs": [
    {
     "data": {
      "text/plain": [
       "torch.Size([2, 300, 514])"
      ]
     },
     "execution_count": 426,
     "metadata": {},
     "output_type": "execute_result"
    }
   ],
   "source": [
    "model.variational_strategy.base_variational_strategy.inducing_points.shape"
   ]
  },
  {
   "cell_type": "code",
   "execution_count": 427,
   "id": "6a501455-b6ae-43a7-9fe7-a4ada305f6fb",
   "metadata": {},
   "outputs": [
    {
     "data": {
      "text/plain": [
       "Parameter containing:\n",
       "tensor([[-0.3586],\n",
       "        [-0.0680]], requires_grad=True)"
      ]
     },
     "execution_count": 427,
     "metadata": {},
     "output_type": "execute_result"
    }
   ],
   "source": [
    "model.variational_strategy.lmc_coefficients"
   ]
  },
  {
   "cell_type": "code",
   "execution_count": 428,
   "id": "795e0a2c-1e38-40f5-b17b-1006943a9ec4",
   "metadata": {},
   "outputs": [],
   "source": [
    "from torch.optim.lr_scheduler import MultiStepLR\n",
    "from gpytorch.mlls import VariationalELBO\n",
    "# Now define the loss and set up the optimization\n",
    "hyperparameter_optimizer = None\n",
    "variational_ngd_optimizer = None\n",
    "scheduler_hypers = None\n",
    "scheduler_variational = None\n",
    "vardistr = \"nat\"\n",
    "if vardistr == \"nat\":\n",
    "    hyperparameter_optimizer = torch.optim.Adam([\n",
    "        {'params': model.hyperparameters()},\n",
    "        {'params': likelihood.parameters()},\n",
    "    ], lr = initial_lr)\n",
    "    variational_ngd_optimizer = gpytorch.optim.NGD(\n",
    "        model.variational_parameters(),\n",
    "        num_data=y_train.size(0), lr=float(10*initial_lr))\n",
    "    scheduler_variational = MultiStepLR(variational_ngd_optimizer,\n",
    "                                        milestones=[int(0.25*num_epochs),int(0.5*num_epochs),int(0.75*num_epochs)],\n",
    "                                        gamma=0.5)\n",
    "else:\n",
    "    hyperparameter_optimizer = torch.optim.Adam([\n",
    "        {'params': model.parameters()},\n",
    "        {'params': likelihood.parameters()},\n",
    "    ], lr=initial_lr)\n",
    "\n",
    "scheduler_hypers = MultiStepLR(hyperparameter_optimizer,\n",
    "                               milestones=[int(0.25*num_epochs),int(0.5 * num_epochs), int(0.75 * num_epochs)],\n",
    "                               gamma=0.5)\n",
    "\n",
    "# Defining the loss:\n",
    "mll = VariationalELBO(likelihood,model,num_data=y_train.size(0))\n",
    "\n",
    "# Tracking loss\n",
    "train_loss = []"
   ]
  },
  {
   "cell_type": "code",
   "execution_count": 429,
   "id": "7b6f1fe7-0f90-4938-8883-8b9dc466ae36",
   "metadata": {
    "scrolled": true
   },
   "outputs": [
    {
     "data": {
      "application/vnd.jupyter.widget-view+json": {
       "model_id": "be601f81176b418d8220e59feb4df9f5",
       "version_major": 2,
       "version_minor": 0
      },
      "text/plain": [
       "Epoch:   0%|          | 0/400 [00:00<?, ?it/s]"
      ]
     },
     "metadata": {},
     "output_type": "display_data"
    },
    {
     "data": {
      "application/vnd.jupyter.widget-view+json": {
       "model_id": "",
       "version_major": 2,
       "version_minor": 0
      },
      "text/plain": [
       "Minibatch:   0%|          | 0/4 [00:00<?, ?it/s]"
      ]
     },
     "metadata": {},
     "output_type": "display_data"
    },
    {
     "data": {
      "application/vnd.jupyter.widget-view+json": {
       "model_id": "",
       "version_major": 2,
       "version_minor": 0
      },
      "text/plain": [
       "Minibatch:   0%|          | 0/4 [00:00<?, ?it/s]"
      ]
     },
     "metadata": {},
     "output_type": "display_data"
    },
    {
     "data": {
      "application/vnd.jupyter.widget-view+json": {
       "model_id": "",
       "version_major": 2,
       "version_minor": 0
      },
      "text/plain": [
       "Minibatch:   0%|          | 0/4 [00:00<?, ?it/s]"
      ]
     },
     "metadata": {},
     "output_type": "display_data"
    },
    {
     "data": {
      "application/vnd.jupyter.widget-view+json": {
       "model_id": "",
       "version_major": 2,
       "version_minor": 0
      },
      "text/plain": [
       "Minibatch:   0%|          | 0/4 [00:00<?, ?it/s]"
      ]
     },
     "metadata": {},
     "output_type": "display_data"
    },
    {
     "data": {
      "application/vnd.jupyter.widget-view+json": {
       "model_id": "",
       "version_major": 2,
       "version_minor": 0
      },
      "text/plain": [
       "Minibatch:   0%|          | 0/4 [00:00<?, ?it/s]"
      ]
     },
     "metadata": {},
     "output_type": "display_data"
    },
    {
     "data": {
      "application/vnd.jupyter.widget-view+json": {
       "model_id": "",
       "version_major": 2,
       "version_minor": 0
      },
      "text/plain": [
       "Minibatch:   0%|          | 0/4 [00:00<?, ?it/s]"
      ]
     },
     "metadata": {},
     "output_type": "display_data"
    },
    {
     "data": {
      "application/vnd.jupyter.widget-view+json": {
       "model_id": "",
       "version_major": 2,
       "version_minor": 0
      },
      "text/plain": [
       "Minibatch:   0%|          | 0/4 [00:00<?, ?it/s]"
      ]
     },
     "metadata": {},
     "output_type": "display_data"
    },
    {
     "data": {
      "application/vnd.jupyter.widget-view+json": {
       "model_id": "",
       "version_major": 2,
       "version_minor": 0
      },
      "text/plain": [
       "Minibatch:   0%|          | 0/4 [00:00<?, ?it/s]"
      ]
     },
     "metadata": {},
     "output_type": "display_data"
    },
    {
     "data": {
      "application/vnd.jupyter.widget-view+json": {
       "model_id": "",
       "version_major": 2,
       "version_minor": 0
      },
      "text/plain": [
       "Minibatch:   0%|          | 0/4 [00:00<?, ?it/s]"
      ]
     },
     "metadata": {},
     "output_type": "display_data"
    },
    {
     "data": {
      "application/vnd.jupyter.widget-view+json": {
       "model_id": "",
       "version_major": 2,
       "version_minor": 0
      },
      "text/plain": [
       "Minibatch:   0%|          | 0/4 [00:00<?, ?it/s]"
      ]
     },
     "metadata": {},
     "output_type": "display_data"
    },
    {
     "data": {
      "application/vnd.jupyter.widget-view+json": {
       "model_id": "",
       "version_major": 2,
       "version_minor": 0
      },
      "text/plain": [
       "Minibatch:   0%|          | 0/4 [00:00<?, ?it/s]"
      ]
     },
     "metadata": {},
     "output_type": "display_data"
    },
    {
     "data": {
      "application/vnd.jupyter.widget-view+json": {
       "model_id": "",
       "version_major": 2,
       "version_minor": 0
      },
      "text/plain": [
       "Minibatch:   0%|          | 0/4 [00:00<?, ?it/s]"
      ]
     },
     "metadata": {},
     "output_type": "display_data"
    },
    {
     "data": {
      "application/vnd.jupyter.widget-view+json": {
       "model_id": "",
       "version_major": 2,
       "version_minor": 0
      },
      "text/plain": [
       "Minibatch:   0%|          | 0/4 [00:00<?, ?it/s]"
      ]
     },
     "metadata": {},
     "output_type": "display_data"
    },
    {
     "data": {
      "application/vnd.jupyter.widget-view+json": {
       "model_id": "",
       "version_major": 2,
       "version_minor": 0
      },
      "text/plain": [
       "Minibatch:   0%|          | 0/4 [00:00<?, ?it/s]"
      ]
     },
     "metadata": {},
     "output_type": "display_data"
    },
    {
     "data": {
      "application/vnd.jupyter.widget-view+json": {
       "model_id": "",
       "version_major": 2,
       "version_minor": 0
      },
      "text/plain": [
       "Minibatch:   0%|          | 0/4 [00:00<?, ?it/s]"
      ]
     },
     "metadata": {},
     "output_type": "display_data"
    },
    {
     "data": {
      "application/vnd.jupyter.widget-view+json": {
       "model_id": "",
       "version_major": 2,
       "version_minor": 0
      },
      "text/plain": [
       "Minibatch:   0%|          | 0/4 [00:00<?, ?it/s]"
      ]
     },
     "metadata": {},
     "output_type": "display_data"
    },
    {
     "data": {
      "application/vnd.jupyter.widget-view+json": {
       "model_id": "",
       "version_major": 2,
       "version_minor": 0
      },
      "text/plain": [
       "Minibatch:   0%|          | 0/4 [00:00<?, ?it/s]"
      ]
     },
     "metadata": {},
     "output_type": "display_data"
    },
    {
     "data": {
      "application/vnd.jupyter.widget-view+json": {
       "model_id": "",
       "version_major": 2,
       "version_minor": 0
      },
      "text/plain": [
       "Minibatch:   0%|          | 0/4 [00:00<?, ?it/s]"
      ]
     },
     "metadata": {},
     "output_type": "display_data"
    },
    {
     "data": {
      "application/vnd.jupyter.widget-view+json": {
       "model_id": "",
       "version_major": 2,
       "version_minor": 0
      },
      "text/plain": [
       "Minibatch:   0%|          | 0/4 [00:00<?, ?it/s]"
      ]
     },
     "metadata": {},
     "output_type": "display_data"
    },
    {
     "data": {
      "application/vnd.jupyter.widget-view+json": {
       "model_id": "",
       "version_major": 2,
       "version_minor": 0
      },
      "text/plain": [
       "Minibatch:   0%|          | 0/4 [00:00<?, ?it/s]"
      ]
     },
     "metadata": {},
     "output_type": "display_data"
    },
    {
     "data": {
      "application/vnd.jupyter.widget-view+json": {
       "model_id": "",
       "version_major": 2,
       "version_minor": 0
      },
      "text/plain": [
       "Minibatch:   0%|          | 0/4 [00:00<?, ?it/s]"
      ]
     },
     "metadata": {},
     "output_type": "display_data"
    },
    {
     "data": {
      "application/vnd.jupyter.widget-view+json": {
       "model_id": "",
       "version_major": 2,
       "version_minor": 0
      },
      "text/plain": [
       "Minibatch:   0%|          | 0/4 [00:00<?, ?it/s]"
      ]
     },
     "metadata": {},
     "output_type": "display_data"
    },
    {
     "data": {
      "application/vnd.jupyter.widget-view+json": {
       "model_id": "",
       "version_major": 2,
       "version_minor": 0
      },
      "text/plain": [
       "Minibatch:   0%|          | 0/4 [00:00<?, ?it/s]"
      ]
     },
     "metadata": {},
     "output_type": "display_data"
    },
    {
     "data": {
      "application/vnd.jupyter.widget-view+json": {
       "model_id": "",
       "version_major": 2,
       "version_minor": 0
      },
      "text/plain": [
       "Minibatch:   0%|          | 0/4 [00:00<?, ?it/s]"
      ]
     },
     "metadata": {},
     "output_type": "display_data"
    },
    {
     "data": {
      "application/vnd.jupyter.widget-view+json": {
       "model_id": "",
       "version_major": 2,
       "version_minor": 0
      },
      "text/plain": [
       "Minibatch:   0%|          | 0/4 [00:00<?, ?it/s]"
      ]
     },
     "metadata": {},
     "output_type": "display_data"
    },
    {
     "data": {
      "application/vnd.jupyter.widget-view+json": {
       "model_id": "",
       "version_major": 2,
       "version_minor": 0
      },
      "text/plain": [
       "Minibatch:   0%|          | 0/4 [00:00<?, ?it/s]"
      ]
     },
     "metadata": {},
     "output_type": "display_data"
    },
    {
     "data": {
      "application/vnd.jupyter.widget-view+json": {
       "model_id": "",
       "version_major": 2,
       "version_minor": 0
      },
      "text/plain": [
       "Minibatch:   0%|          | 0/4 [00:00<?, ?it/s]"
      ]
     },
     "metadata": {},
     "output_type": "display_data"
    },
    {
     "data": {
      "application/vnd.jupyter.widget-view+json": {
       "model_id": "",
       "version_major": 2,
       "version_minor": 0
      },
      "text/plain": [
       "Minibatch:   0%|          | 0/4 [00:00<?, ?it/s]"
      ]
     },
     "metadata": {},
     "output_type": "display_data"
    },
    {
     "data": {
      "application/vnd.jupyter.widget-view+json": {
       "model_id": "",
       "version_major": 2,
       "version_minor": 0
      },
      "text/plain": [
       "Minibatch:   0%|          | 0/4 [00:00<?, ?it/s]"
      ]
     },
     "metadata": {},
     "output_type": "display_data"
    },
    {
     "data": {
      "application/vnd.jupyter.widget-view+json": {
       "model_id": "",
       "version_major": 2,
       "version_minor": 0
      },
      "text/plain": [
       "Minibatch:   0%|          | 0/4 [00:00<?, ?it/s]"
      ]
     },
     "metadata": {},
     "output_type": "display_data"
    },
    {
     "data": {
      "application/vnd.jupyter.widget-view+json": {
       "model_id": "",
       "version_major": 2,
       "version_minor": 0
      },
      "text/plain": [
       "Minibatch:   0%|          | 0/4 [00:00<?, ?it/s]"
      ]
     },
     "metadata": {},
     "output_type": "display_data"
    },
    {
     "data": {
      "application/vnd.jupyter.widget-view+json": {
       "model_id": "",
       "version_major": 2,
       "version_minor": 0
      },
      "text/plain": [
       "Minibatch:   0%|          | 0/4 [00:00<?, ?it/s]"
      ]
     },
     "metadata": {},
     "output_type": "display_data"
    },
    {
     "data": {
      "application/vnd.jupyter.widget-view+json": {
       "model_id": "",
       "version_major": 2,
       "version_minor": 0
      },
      "text/plain": [
       "Minibatch:   0%|          | 0/4 [00:00<?, ?it/s]"
      ]
     },
     "metadata": {},
     "output_type": "display_data"
    },
    {
     "data": {
      "application/vnd.jupyter.widget-view+json": {
       "model_id": "",
       "version_major": 2,
       "version_minor": 0
      },
      "text/plain": [
       "Minibatch:   0%|          | 0/4 [00:00<?, ?it/s]"
      ]
     },
     "metadata": {},
     "output_type": "display_data"
    },
    {
     "data": {
      "application/vnd.jupyter.widget-view+json": {
       "model_id": "",
       "version_major": 2,
       "version_minor": 0
      },
      "text/plain": [
       "Minibatch:   0%|          | 0/4 [00:00<?, ?it/s]"
      ]
     },
     "metadata": {},
     "output_type": "display_data"
    },
    {
     "data": {
      "application/vnd.jupyter.widget-view+json": {
       "model_id": "",
       "version_major": 2,
       "version_minor": 0
      },
      "text/plain": [
       "Minibatch:   0%|          | 0/4 [00:00<?, ?it/s]"
      ]
     },
     "metadata": {},
     "output_type": "display_data"
    },
    {
     "data": {
      "application/vnd.jupyter.widget-view+json": {
       "model_id": "",
       "version_major": 2,
       "version_minor": 0
      },
      "text/plain": [
       "Minibatch:   0%|          | 0/4 [00:00<?, ?it/s]"
      ]
     },
     "metadata": {},
     "output_type": "display_data"
    },
    {
     "data": {
      "application/vnd.jupyter.widget-view+json": {
       "model_id": "",
       "version_major": 2,
       "version_minor": 0
      },
      "text/plain": [
       "Minibatch:   0%|          | 0/4 [00:00<?, ?it/s]"
      ]
     },
     "metadata": {},
     "output_type": "display_data"
    },
    {
     "data": {
      "application/vnd.jupyter.widget-view+json": {
       "model_id": "",
       "version_major": 2,
       "version_minor": 0
      },
      "text/plain": [
       "Minibatch:   0%|          | 0/4 [00:00<?, ?it/s]"
      ]
     },
     "metadata": {},
     "output_type": "display_data"
    },
    {
     "data": {
      "application/vnd.jupyter.widget-view+json": {
       "model_id": "",
       "version_major": 2,
       "version_minor": 0
      },
      "text/plain": [
       "Minibatch:   0%|          | 0/4 [00:00<?, ?it/s]"
      ]
     },
     "metadata": {},
     "output_type": "display_data"
    },
    {
     "data": {
      "application/vnd.jupyter.widget-view+json": {
       "model_id": "",
       "version_major": 2,
       "version_minor": 0
      },
      "text/plain": [
       "Minibatch:   0%|          | 0/4 [00:00<?, ?it/s]"
      ]
     },
     "metadata": {},
     "output_type": "display_data"
    },
    {
     "data": {
      "application/vnd.jupyter.widget-view+json": {
       "model_id": "",
       "version_major": 2,
       "version_minor": 0
      },
      "text/plain": [
       "Minibatch:   0%|          | 0/4 [00:00<?, ?it/s]"
      ]
     },
     "metadata": {},
     "output_type": "display_data"
    },
    {
     "data": {
      "application/vnd.jupyter.widget-view+json": {
       "model_id": "",
       "version_major": 2,
       "version_minor": 0
      },
      "text/plain": [
       "Minibatch:   0%|          | 0/4 [00:00<?, ?it/s]"
      ]
     },
     "metadata": {},
     "output_type": "display_data"
    },
    {
     "data": {
      "application/vnd.jupyter.widget-view+json": {
       "model_id": "",
       "version_major": 2,
       "version_minor": 0
      },
      "text/plain": [
       "Minibatch:   0%|          | 0/4 [00:00<?, ?it/s]"
      ]
     },
     "metadata": {},
     "output_type": "display_data"
    },
    {
     "data": {
      "application/vnd.jupyter.widget-view+json": {
       "model_id": "",
       "version_major": 2,
       "version_minor": 0
      },
      "text/plain": [
       "Minibatch:   0%|          | 0/4 [00:00<?, ?it/s]"
      ]
     },
     "metadata": {},
     "output_type": "display_data"
    },
    {
     "data": {
      "application/vnd.jupyter.widget-view+json": {
       "model_id": "",
       "version_major": 2,
       "version_minor": 0
      },
      "text/plain": [
       "Minibatch:   0%|          | 0/4 [00:00<?, ?it/s]"
      ]
     },
     "metadata": {},
     "output_type": "display_data"
    },
    {
     "data": {
      "application/vnd.jupyter.widget-view+json": {
       "model_id": "",
       "version_major": 2,
       "version_minor": 0
      },
      "text/plain": [
       "Minibatch:   0%|          | 0/4 [00:00<?, ?it/s]"
      ]
     },
     "metadata": {},
     "output_type": "display_data"
    },
    {
     "data": {
      "application/vnd.jupyter.widget-view+json": {
       "model_id": "",
       "version_major": 2,
       "version_minor": 0
      },
      "text/plain": [
       "Minibatch:   0%|          | 0/4 [00:00<?, ?it/s]"
      ]
     },
     "metadata": {},
     "output_type": "display_data"
    },
    {
     "data": {
      "application/vnd.jupyter.widget-view+json": {
       "model_id": "",
       "version_major": 2,
       "version_minor": 0
      },
      "text/plain": [
       "Minibatch:   0%|          | 0/4 [00:00<?, ?it/s]"
      ]
     },
     "metadata": {},
     "output_type": "display_data"
    },
    {
     "data": {
      "application/vnd.jupyter.widget-view+json": {
       "model_id": "",
       "version_major": 2,
       "version_minor": 0
      },
      "text/plain": [
       "Minibatch:   0%|          | 0/4 [00:00<?, ?it/s]"
      ]
     },
     "metadata": {},
     "output_type": "display_data"
    },
    {
     "data": {
      "application/vnd.jupyter.widget-view+json": {
       "model_id": "",
       "version_major": 2,
       "version_minor": 0
      },
      "text/plain": [
       "Minibatch:   0%|          | 0/4 [00:00<?, ?it/s]"
      ]
     },
     "metadata": {},
     "output_type": "display_data"
    },
    {
     "data": {
      "application/vnd.jupyter.widget-view+json": {
       "model_id": "",
       "version_major": 2,
       "version_minor": 0
      },
      "text/plain": [
       "Minibatch:   0%|          | 0/4 [00:00<?, ?it/s]"
      ]
     },
     "metadata": {},
     "output_type": "display_data"
    },
    {
     "data": {
      "application/vnd.jupyter.widget-view+json": {
       "model_id": "",
       "version_major": 2,
       "version_minor": 0
      },
      "text/plain": [
       "Minibatch:   0%|          | 0/4 [00:00<?, ?it/s]"
      ]
     },
     "metadata": {},
     "output_type": "display_data"
    },
    {
     "data": {
      "application/vnd.jupyter.widget-view+json": {
       "model_id": "",
       "version_major": 2,
       "version_minor": 0
      },
      "text/plain": [
       "Minibatch:   0%|          | 0/4 [00:00<?, ?it/s]"
      ]
     },
     "metadata": {},
     "output_type": "display_data"
    },
    {
     "data": {
      "application/vnd.jupyter.widget-view+json": {
       "model_id": "",
       "version_major": 2,
       "version_minor": 0
      },
      "text/plain": [
       "Minibatch:   0%|          | 0/4 [00:00<?, ?it/s]"
      ]
     },
     "metadata": {},
     "output_type": "display_data"
    },
    {
     "data": {
      "application/vnd.jupyter.widget-view+json": {
       "model_id": "",
       "version_major": 2,
       "version_minor": 0
      },
      "text/plain": [
       "Minibatch:   0%|          | 0/4 [00:00<?, ?it/s]"
      ]
     },
     "metadata": {},
     "output_type": "display_data"
    },
    {
     "data": {
      "application/vnd.jupyter.widget-view+json": {
       "model_id": "",
       "version_major": 2,
       "version_minor": 0
      },
      "text/plain": [
       "Minibatch:   0%|          | 0/4 [00:00<?, ?it/s]"
      ]
     },
     "metadata": {},
     "output_type": "display_data"
    },
    {
     "data": {
      "application/vnd.jupyter.widget-view+json": {
       "model_id": "",
       "version_major": 2,
       "version_minor": 0
      },
      "text/plain": [
       "Minibatch:   0%|          | 0/4 [00:00<?, ?it/s]"
      ]
     },
     "metadata": {},
     "output_type": "display_data"
    },
    {
     "data": {
      "application/vnd.jupyter.widget-view+json": {
       "model_id": "",
       "version_major": 2,
       "version_minor": 0
      },
      "text/plain": [
       "Minibatch:   0%|          | 0/4 [00:00<?, ?it/s]"
      ]
     },
     "metadata": {},
     "output_type": "display_data"
    },
    {
     "data": {
      "application/vnd.jupyter.widget-view+json": {
       "model_id": "",
       "version_major": 2,
       "version_minor": 0
      },
      "text/plain": [
       "Minibatch:   0%|          | 0/4 [00:00<?, ?it/s]"
      ]
     },
     "metadata": {},
     "output_type": "display_data"
    },
    {
     "data": {
      "application/vnd.jupyter.widget-view+json": {
       "model_id": "",
       "version_major": 2,
       "version_minor": 0
      },
      "text/plain": [
       "Minibatch:   0%|          | 0/4 [00:00<?, ?it/s]"
      ]
     },
     "metadata": {},
     "output_type": "display_data"
    },
    {
     "data": {
      "application/vnd.jupyter.widget-view+json": {
       "model_id": "",
       "version_major": 2,
       "version_minor": 0
      },
      "text/plain": [
       "Minibatch:   0%|          | 0/4 [00:00<?, ?it/s]"
      ]
     },
     "metadata": {},
     "output_type": "display_data"
    },
    {
     "data": {
      "application/vnd.jupyter.widget-view+json": {
       "model_id": "",
       "version_major": 2,
       "version_minor": 0
      },
      "text/plain": [
       "Minibatch:   0%|          | 0/4 [00:00<?, ?it/s]"
      ]
     },
     "metadata": {},
     "output_type": "display_data"
    },
    {
     "data": {
      "application/vnd.jupyter.widget-view+json": {
       "model_id": "",
       "version_major": 2,
       "version_minor": 0
      },
      "text/plain": [
       "Minibatch:   0%|          | 0/4 [00:00<?, ?it/s]"
      ]
     },
     "metadata": {},
     "output_type": "display_data"
    },
    {
     "data": {
      "application/vnd.jupyter.widget-view+json": {
       "model_id": "",
       "version_major": 2,
       "version_minor": 0
      },
      "text/plain": [
       "Minibatch:   0%|          | 0/4 [00:00<?, ?it/s]"
      ]
     },
     "metadata": {},
     "output_type": "display_data"
    },
    {
     "data": {
      "application/vnd.jupyter.widget-view+json": {
       "model_id": "",
       "version_major": 2,
       "version_minor": 0
      },
      "text/plain": [
       "Minibatch:   0%|          | 0/4 [00:00<?, ?it/s]"
      ]
     },
     "metadata": {},
     "output_type": "display_data"
    },
    {
     "data": {
      "application/vnd.jupyter.widget-view+json": {
       "model_id": "",
       "version_major": 2,
       "version_minor": 0
      },
      "text/plain": [
       "Minibatch:   0%|          | 0/4 [00:00<?, ?it/s]"
      ]
     },
     "metadata": {},
     "output_type": "display_data"
    },
    {
     "data": {
      "application/vnd.jupyter.widget-view+json": {
       "model_id": "",
       "version_major": 2,
       "version_minor": 0
      },
      "text/plain": [
       "Minibatch:   0%|          | 0/4 [00:00<?, ?it/s]"
      ]
     },
     "metadata": {},
     "output_type": "display_data"
    },
    {
     "data": {
      "application/vnd.jupyter.widget-view+json": {
       "model_id": "",
       "version_major": 2,
       "version_minor": 0
      },
      "text/plain": [
       "Minibatch:   0%|          | 0/4 [00:00<?, ?it/s]"
      ]
     },
     "metadata": {},
     "output_type": "display_data"
    },
    {
     "data": {
      "application/vnd.jupyter.widget-view+json": {
       "model_id": "",
       "version_major": 2,
       "version_minor": 0
      },
      "text/plain": [
       "Minibatch:   0%|          | 0/4 [00:00<?, ?it/s]"
      ]
     },
     "metadata": {},
     "output_type": "display_data"
    },
    {
     "data": {
      "application/vnd.jupyter.widget-view+json": {
       "model_id": "",
       "version_major": 2,
       "version_minor": 0
      },
      "text/plain": [
       "Minibatch:   0%|          | 0/4 [00:00<?, ?it/s]"
      ]
     },
     "metadata": {},
     "output_type": "display_data"
    },
    {
     "data": {
      "application/vnd.jupyter.widget-view+json": {
       "model_id": "",
       "version_major": 2,
       "version_minor": 0
      },
      "text/plain": [
       "Minibatch:   0%|          | 0/4 [00:00<?, ?it/s]"
      ]
     },
     "metadata": {},
     "output_type": "display_data"
    },
    {
     "data": {
      "application/vnd.jupyter.widget-view+json": {
       "model_id": "",
       "version_major": 2,
       "version_minor": 0
      },
      "text/plain": [
       "Minibatch:   0%|          | 0/4 [00:00<?, ?it/s]"
      ]
     },
     "metadata": {},
     "output_type": "display_data"
    },
    {
     "data": {
      "application/vnd.jupyter.widget-view+json": {
       "model_id": "",
       "version_major": 2,
       "version_minor": 0
      },
      "text/plain": [
       "Minibatch:   0%|          | 0/4 [00:00<?, ?it/s]"
      ]
     },
     "metadata": {},
     "output_type": "display_data"
    },
    {
     "data": {
      "application/vnd.jupyter.widget-view+json": {
       "model_id": "",
       "version_major": 2,
       "version_minor": 0
      },
      "text/plain": [
       "Minibatch:   0%|          | 0/4 [00:00<?, ?it/s]"
      ]
     },
     "metadata": {},
     "output_type": "display_data"
    },
    {
     "data": {
      "application/vnd.jupyter.widget-view+json": {
       "model_id": "",
       "version_major": 2,
       "version_minor": 0
      },
      "text/plain": [
       "Minibatch:   0%|          | 0/4 [00:00<?, ?it/s]"
      ]
     },
     "metadata": {},
     "output_type": "display_data"
    },
    {
     "data": {
      "application/vnd.jupyter.widget-view+json": {
       "model_id": "",
       "version_major": 2,
       "version_minor": 0
      },
      "text/plain": [
       "Minibatch:   0%|          | 0/4 [00:00<?, ?it/s]"
      ]
     },
     "metadata": {},
     "output_type": "display_data"
    },
    {
     "data": {
      "application/vnd.jupyter.widget-view+json": {
       "model_id": "",
       "version_major": 2,
       "version_minor": 0
      },
      "text/plain": [
       "Minibatch:   0%|          | 0/4 [00:00<?, ?it/s]"
      ]
     },
     "metadata": {},
     "output_type": "display_data"
    },
    {
     "data": {
      "application/vnd.jupyter.widget-view+json": {
       "model_id": "",
       "version_major": 2,
       "version_minor": 0
      },
      "text/plain": [
       "Minibatch:   0%|          | 0/4 [00:00<?, ?it/s]"
      ]
     },
     "metadata": {},
     "output_type": "display_data"
    },
    {
     "data": {
      "application/vnd.jupyter.widget-view+json": {
       "model_id": "",
       "version_major": 2,
       "version_minor": 0
      },
      "text/plain": [
       "Minibatch:   0%|          | 0/4 [00:00<?, ?it/s]"
      ]
     },
     "metadata": {},
     "output_type": "display_data"
    },
    {
     "data": {
      "application/vnd.jupyter.widget-view+json": {
       "model_id": "",
       "version_major": 2,
       "version_minor": 0
      },
      "text/plain": [
       "Minibatch:   0%|          | 0/4 [00:00<?, ?it/s]"
      ]
     },
     "metadata": {},
     "output_type": "display_data"
    },
    {
     "data": {
      "application/vnd.jupyter.widget-view+json": {
       "model_id": "",
       "version_major": 2,
       "version_minor": 0
      },
      "text/plain": [
       "Minibatch:   0%|          | 0/4 [00:00<?, ?it/s]"
      ]
     },
     "metadata": {},
     "output_type": "display_data"
    },
    {
     "data": {
      "application/vnd.jupyter.widget-view+json": {
       "model_id": "",
       "version_major": 2,
       "version_minor": 0
      },
      "text/plain": [
       "Minibatch:   0%|          | 0/4 [00:00<?, ?it/s]"
      ]
     },
     "metadata": {},
     "output_type": "display_data"
    },
    {
     "data": {
      "application/vnd.jupyter.widget-view+json": {
       "model_id": "",
       "version_major": 2,
       "version_minor": 0
      },
      "text/plain": [
       "Minibatch:   0%|          | 0/4 [00:00<?, ?it/s]"
      ]
     },
     "metadata": {},
     "output_type": "display_data"
    },
    {
     "data": {
      "application/vnd.jupyter.widget-view+json": {
       "model_id": "",
       "version_major": 2,
       "version_minor": 0
      },
      "text/plain": [
       "Minibatch:   0%|          | 0/4 [00:00<?, ?it/s]"
      ]
     },
     "metadata": {},
     "output_type": "display_data"
    },
    {
     "data": {
      "application/vnd.jupyter.widget-view+json": {
       "model_id": "",
       "version_major": 2,
       "version_minor": 0
      },
      "text/plain": [
       "Minibatch:   0%|          | 0/4 [00:00<?, ?it/s]"
      ]
     },
     "metadata": {},
     "output_type": "display_data"
    },
    {
     "data": {
      "application/vnd.jupyter.widget-view+json": {
       "model_id": "",
       "version_major": 2,
       "version_minor": 0
      },
      "text/plain": [
       "Minibatch:   0%|          | 0/4 [00:00<?, ?it/s]"
      ]
     },
     "metadata": {},
     "output_type": "display_data"
    },
    {
     "data": {
      "application/vnd.jupyter.widget-view+json": {
       "model_id": "",
       "version_major": 2,
       "version_minor": 0
      },
      "text/plain": [
       "Minibatch:   0%|          | 0/4 [00:00<?, ?it/s]"
      ]
     },
     "metadata": {},
     "output_type": "display_data"
    },
    {
     "data": {
      "application/vnd.jupyter.widget-view+json": {
       "model_id": "",
       "version_major": 2,
       "version_minor": 0
      },
      "text/plain": [
       "Minibatch:   0%|          | 0/4 [00:00<?, ?it/s]"
      ]
     },
     "metadata": {},
     "output_type": "display_data"
    },
    {
     "data": {
      "application/vnd.jupyter.widget-view+json": {
       "model_id": "",
       "version_major": 2,
       "version_minor": 0
      },
      "text/plain": [
       "Minibatch:   0%|          | 0/4 [00:00<?, ?it/s]"
      ]
     },
     "metadata": {},
     "output_type": "display_data"
    },
    {
     "data": {
      "application/vnd.jupyter.widget-view+json": {
       "model_id": "",
       "version_major": 2,
       "version_minor": 0
      },
      "text/plain": [
       "Minibatch:   0%|          | 0/4 [00:00<?, ?it/s]"
      ]
     },
     "metadata": {},
     "output_type": "display_data"
    },
    {
     "data": {
      "application/vnd.jupyter.widget-view+json": {
       "model_id": "",
       "version_major": 2,
       "version_minor": 0
      },
      "text/plain": [
       "Minibatch:   0%|          | 0/4 [00:00<?, ?it/s]"
      ]
     },
     "metadata": {},
     "output_type": "display_data"
    },
    {
     "data": {
      "application/vnd.jupyter.widget-view+json": {
       "model_id": "",
       "version_major": 2,
       "version_minor": 0
      },
      "text/plain": [
       "Minibatch:   0%|          | 0/4 [00:00<?, ?it/s]"
      ]
     },
     "metadata": {},
     "output_type": "display_data"
    },
    {
     "data": {
      "application/vnd.jupyter.widget-view+json": {
       "model_id": "",
       "version_major": 2,
       "version_minor": 0
      },
      "text/plain": [
       "Minibatch:   0%|          | 0/4 [00:00<?, ?it/s]"
      ]
     },
     "metadata": {},
     "output_type": "display_data"
    },
    {
     "data": {
      "application/vnd.jupyter.widget-view+json": {
       "model_id": "",
       "version_major": 2,
       "version_minor": 0
      },
      "text/plain": [
       "Minibatch:   0%|          | 0/4 [00:00<?, ?it/s]"
      ]
     },
     "metadata": {},
     "output_type": "display_data"
    },
    {
     "data": {
      "application/vnd.jupyter.widget-view+json": {
       "model_id": "",
       "version_major": 2,
       "version_minor": 0
      },
      "text/plain": [
       "Minibatch:   0%|          | 0/4 [00:00<?, ?it/s]"
      ]
     },
     "metadata": {},
     "output_type": "display_data"
    },
    {
     "data": {
      "application/vnd.jupyter.widget-view+json": {
       "model_id": "",
       "version_major": 2,
       "version_minor": 0
      },
      "text/plain": [
       "Minibatch:   0%|          | 0/4 [00:00<?, ?it/s]"
      ]
     },
     "metadata": {},
     "output_type": "display_data"
    },
    {
     "data": {
      "application/vnd.jupyter.widget-view+json": {
       "model_id": "",
       "version_major": 2,
       "version_minor": 0
      },
      "text/plain": [
       "Minibatch:   0%|          | 0/4 [00:00<?, ?it/s]"
      ]
     },
     "metadata": {},
     "output_type": "display_data"
    },
    {
     "data": {
      "application/vnd.jupyter.widget-view+json": {
       "model_id": "",
       "version_major": 2,
       "version_minor": 0
      },
      "text/plain": [
       "Minibatch:   0%|          | 0/4 [00:00<?, ?it/s]"
      ]
     },
     "metadata": {},
     "output_type": "display_data"
    },
    {
     "data": {
      "application/vnd.jupyter.widget-view+json": {
       "model_id": "",
       "version_major": 2,
       "version_minor": 0
      },
      "text/plain": [
       "Minibatch:   0%|          | 0/4 [00:00<?, ?it/s]"
      ]
     },
     "metadata": {},
     "output_type": "display_data"
    },
    {
     "data": {
      "application/vnd.jupyter.widget-view+json": {
       "model_id": "",
       "version_major": 2,
       "version_minor": 0
      },
      "text/plain": [
       "Minibatch:   0%|          | 0/4 [00:00<?, ?it/s]"
      ]
     },
     "metadata": {},
     "output_type": "display_data"
    },
    {
     "data": {
      "application/vnd.jupyter.widget-view+json": {
       "model_id": "",
       "version_major": 2,
       "version_minor": 0
      },
      "text/plain": [
       "Minibatch:   0%|          | 0/4 [00:00<?, ?it/s]"
      ]
     },
     "metadata": {},
     "output_type": "display_data"
    },
    {
     "data": {
      "application/vnd.jupyter.widget-view+json": {
       "model_id": "",
       "version_major": 2,
       "version_minor": 0
      },
      "text/plain": [
       "Minibatch:   0%|          | 0/4 [00:00<?, ?it/s]"
      ]
     },
     "metadata": {},
     "output_type": "display_data"
    },
    {
     "data": {
      "application/vnd.jupyter.widget-view+json": {
       "model_id": "",
       "version_major": 2,
       "version_minor": 0
      },
      "text/plain": [
       "Minibatch:   0%|          | 0/4 [00:00<?, ?it/s]"
      ]
     },
     "metadata": {},
     "output_type": "display_data"
    },
    {
     "data": {
      "application/vnd.jupyter.widget-view+json": {
       "model_id": "",
       "version_major": 2,
       "version_minor": 0
      },
      "text/plain": [
       "Minibatch:   0%|          | 0/4 [00:00<?, ?it/s]"
      ]
     },
     "metadata": {},
     "output_type": "display_data"
    },
    {
     "data": {
      "application/vnd.jupyter.widget-view+json": {
       "model_id": "",
       "version_major": 2,
       "version_minor": 0
      },
      "text/plain": [
       "Minibatch:   0%|          | 0/4 [00:00<?, ?it/s]"
      ]
     },
     "metadata": {},
     "output_type": "display_data"
    },
    {
     "data": {
      "application/vnd.jupyter.widget-view+json": {
       "model_id": "",
       "version_major": 2,
       "version_minor": 0
      },
      "text/plain": [
       "Minibatch:   0%|          | 0/4 [00:00<?, ?it/s]"
      ]
     },
     "metadata": {},
     "output_type": "display_data"
    },
    {
     "data": {
      "application/vnd.jupyter.widget-view+json": {
       "model_id": "",
       "version_major": 2,
       "version_minor": 0
      },
      "text/plain": [
       "Minibatch:   0%|          | 0/4 [00:00<?, ?it/s]"
      ]
     },
     "metadata": {},
     "output_type": "display_data"
    },
    {
     "data": {
      "application/vnd.jupyter.widget-view+json": {
       "model_id": "",
       "version_major": 2,
       "version_minor": 0
      },
      "text/plain": [
       "Minibatch:   0%|          | 0/4 [00:00<?, ?it/s]"
      ]
     },
     "metadata": {},
     "output_type": "display_data"
    },
    {
     "data": {
      "application/vnd.jupyter.widget-view+json": {
       "model_id": "",
       "version_major": 2,
       "version_minor": 0
      },
      "text/plain": [
       "Minibatch:   0%|          | 0/4 [00:00<?, ?it/s]"
      ]
     },
     "metadata": {},
     "output_type": "display_data"
    },
    {
     "data": {
      "application/vnd.jupyter.widget-view+json": {
       "model_id": "",
       "version_major": 2,
       "version_minor": 0
      },
      "text/plain": [
       "Minibatch:   0%|          | 0/4 [00:00<?, ?it/s]"
      ]
     },
     "metadata": {},
     "output_type": "display_data"
    },
    {
     "data": {
      "application/vnd.jupyter.widget-view+json": {
       "model_id": "",
       "version_major": 2,
       "version_minor": 0
      },
      "text/plain": [
       "Minibatch:   0%|          | 0/4 [00:00<?, ?it/s]"
      ]
     },
     "metadata": {},
     "output_type": "display_data"
    },
    {
     "data": {
      "application/vnd.jupyter.widget-view+json": {
       "model_id": "",
       "version_major": 2,
       "version_minor": 0
      },
      "text/plain": [
       "Minibatch:   0%|          | 0/4 [00:00<?, ?it/s]"
      ]
     },
     "metadata": {},
     "output_type": "display_data"
    },
    {
     "data": {
      "application/vnd.jupyter.widget-view+json": {
       "model_id": "",
       "version_major": 2,
       "version_minor": 0
      },
      "text/plain": [
       "Minibatch:   0%|          | 0/4 [00:00<?, ?it/s]"
      ]
     },
     "metadata": {},
     "output_type": "display_data"
    },
    {
     "data": {
      "application/vnd.jupyter.widget-view+json": {
       "model_id": "",
       "version_major": 2,
       "version_minor": 0
      },
      "text/plain": [
       "Minibatch:   0%|          | 0/4 [00:00<?, ?it/s]"
      ]
     },
     "metadata": {},
     "output_type": "display_data"
    },
    {
     "data": {
      "application/vnd.jupyter.widget-view+json": {
       "model_id": "",
       "version_major": 2,
       "version_minor": 0
      },
      "text/plain": [
       "Minibatch:   0%|          | 0/4 [00:00<?, ?it/s]"
      ]
     },
     "metadata": {},
     "output_type": "display_data"
    },
    {
     "data": {
      "application/vnd.jupyter.widget-view+json": {
       "model_id": "",
       "version_major": 2,
       "version_minor": 0
      },
      "text/plain": [
       "Minibatch:   0%|          | 0/4 [00:00<?, ?it/s]"
      ]
     },
     "metadata": {},
     "output_type": "display_data"
    },
    {
     "data": {
      "application/vnd.jupyter.widget-view+json": {
       "model_id": "",
       "version_major": 2,
       "version_minor": 0
      },
      "text/plain": [
       "Minibatch:   0%|          | 0/4 [00:00<?, ?it/s]"
      ]
     },
     "metadata": {},
     "output_type": "display_data"
    },
    {
     "data": {
      "application/vnd.jupyter.widget-view+json": {
       "model_id": "",
       "version_major": 2,
       "version_minor": 0
      },
      "text/plain": [
       "Minibatch:   0%|          | 0/4 [00:00<?, ?it/s]"
      ]
     },
     "metadata": {},
     "output_type": "display_data"
    },
    {
     "data": {
      "application/vnd.jupyter.widget-view+json": {
       "model_id": "",
       "version_major": 2,
       "version_minor": 0
      },
      "text/plain": [
       "Minibatch:   0%|          | 0/4 [00:00<?, ?it/s]"
      ]
     },
     "metadata": {},
     "output_type": "display_data"
    },
    {
     "data": {
      "application/vnd.jupyter.widget-view+json": {
       "model_id": "",
       "version_major": 2,
       "version_minor": 0
      },
      "text/plain": [
       "Minibatch:   0%|          | 0/4 [00:00<?, ?it/s]"
      ]
     },
     "metadata": {},
     "output_type": "display_data"
    },
    {
     "data": {
      "application/vnd.jupyter.widget-view+json": {
       "model_id": "",
       "version_major": 2,
       "version_minor": 0
      },
      "text/plain": [
       "Minibatch:   0%|          | 0/4 [00:00<?, ?it/s]"
      ]
     },
     "metadata": {},
     "output_type": "display_data"
    },
    {
     "data": {
      "application/vnd.jupyter.widget-view+json": {
       "model_id": "",
       "version_major": 2,
       "version_minor": 0
      },
      "text/plain": [
       "Minibatch:   0%|          | 0/4 [00:00<?, ?it/s]"
      ]
     },
     "metadata": {},
     "output_type": "display_data"
    },
    {
     "data": {
      "application/vnd.jupyter.widget-view+json": {
       "model_id": "",
       "version_major": 2,
       "version_minor": 0
      },
      "text/plain": [
       "Minibatch:   0%|          | 0/4 [00:00<?, ?it/s]"
      ]
     },
     "metadata": {},
     "output_type": "display_data"
    },
    {
     "data": {
      "application/vnd.jupyter.widget-view+json": {
       "model_id": "",
       "version_major": 2,
       "version_minor": 0
      },
      "text/plain": [
       "Minibatch:   0%|          | 0/4 [00:00<?, ?it/s]"
      ]
     },
     "metadata": {},
     "output_type": "display_data"
    },
    {
     "data": {
      "application/vnd.jupyter.widget-view+json": {
       "model_id": "",
       "version_major": 2,
       "version_minor": 0
      },
      "text/plain": [
       "Minibatch:   0%|          | 0/4 [00:00<?, ?it/s]"
      ]
     },
     "metadata": {},
     "output_type": "display_data"
    },
    {
     "data": {
      "application/vnd.jupyter.widget-view+json": {
       "model_id": "",
       "version_major": 2,
       "version_minor": 0
      },
      "text/plain": [
       "Minibatch:   0%|          | 0/4 [00:00<?, ?it/s]"
      ]
     },
     "metadata": {},
     "output_type": "display_data"
    },
    {
     "data": {
      "application/vnd.jupyter.widget-view+json": {
       "model_id": "",
       "version_major": 2,
       "version_minor": 0
      },
      "text/plain": [
       "Minibatch:   0%|          | 0/4 [00:00<?, ?it/s]"
      ]
     },
     "metadata": {},
     "output_type": "display_data"
    },
    {
     "data": {
      "application/vnd.jupyter.widget-view+json": {
       "model_id": "",
       "version_major": 2,
       "version_minor": 0
      },
      "text/plain": [
       "Minibatch:   0%|          | 0/4 [00:00<?, ?it/s]"
      ]
     },
     "metadata": {},
     "output_type": "display_data"
    },
    {
     "data": {
      "application/vnd.jupyter.widget-view+json": {
       "model_id": "",
       "version_major": 2,
       "version_minor": 0
      },
      "text/plain": [
       "Minibatch:   0%|          | 0/4 [00:00<?, ?it/s]"
      ]
     },
     "metadata": {},
     "output_type": "display_data"
    },
    {
     "data": {
      "application/vnd.jupyter.widget-view+json": {
       "model_id": "",
       "version_major": 2,
       "version_minor": 0
      },
      "text/plain": [
       "Minibatch:   0%|          | 0/4 [00:00<?, ?it/s]"
      ]
     },
     "metadata": {},
     "output_type": "display_data"
    },
    {
     "data": {
      "application/vnd.jupyter.widget-view+json": {
       "model_id": "",
       "version_major": 2,
       "version_minor": 0
      },
      "text/plain": [
       "Minibatch:   0%|          | 0/4 [00:00<?, ?it/s]"
      ]
     },
     "metadata": {},
     "output_type": "display_data"
    },
    {
     "data": {
      "application/vnd.jupyter.widget-view+json": {
       "model_id": "",
       "version_major": 2,
       "version_minor": 0
      },
      "text/plain": [
       "Minibatch:   0%|          | 0/4 [00:00<?, ?it/s]"
      ]
     },
     "metadata": {},
     "output_type": "display_data"
    },
    {
     "data": {
      "application/vnd.jupyter.widget-view+json": {
       "model_id": "",
       "version_major": 2,
       "version_minor": 0
      },
      "text/plain": [
       "Minibatch:   0%|          | 0/4 [00:00<?, ?it/s]"
      ]
     },
     "metadata": {},
     "output_type": "display_data"
    },
    {
     "data": {
      "application/vnd.jupyter.widget-view+json": {
       "model_id": "",
       "version_major": 2,
       "version_minor": 0
      },
      "text/plain": [
       "Minibatch:   0%|          | 0/4 [00:00<?, ?it/s]"
      ]
     },
     "metadata": {},
     "output_type": "display_data"
    },
    {
     "data": {
      "application/vnd.jupyter.widget-view+json": {
       "model_id": "",
       "version_major": 2,
       "version_minor": 0
      },
      "text/plain": [
       "Minibatch:   0%|          | 0/4 [00:00<?, ?it/s]"
      ]
     },
     "metadata": {},
     "output_type": "display_data"
    },
    {
     "data": {
      "application/vnd.jupyter.widget-view+json": {
       "model_id": "",
       "version_major": 2,
       "version_minor": 0
      },
      "text/plain": [
       "Minibatch:   0%|          | 0/4 [00:00<?, ?it/s]"
      ]
     },
     "metadata": {},
     "output_type": "display_data"
    },
    {
     "data": {
      "application/vnd.jupyter.widget-view+json": {
       "model_id": "",
       "version_major": 2,
       "version_minor": 0
      },
      "text/plain": [
       "Minibatch:   0%|          | 0/4 [00:00<?, ?it/s]"
      ]
     },
     "metadata": {},
     "output_type": "display_data"
    },
    {
     "data": {
      "application/vnd.jupyter.widget-view+json": {
       "model_id": "",
       "version_major": 2,
       "version_minor": 0
      },
      "text/plain": [
       "Minibatch:   0%|          | 0/4 [00:00<?, ?it/s]"
      ]
     },
     "metadata": {},
     "output_type": "display_data"
    },
    {
     "data": {
      "application/vnd.jupyter.widget-view+json": {
       "model_id": "",
       "version_major": 2,
       "version_minor": 0
      },
      "text/plain": [
       "Minibatch:   0%|          | 0/4 [00:00<?, ?it/s]"
      ]
     },
     "metadata": {},
     "output_type": "display_data"
    },
    {
     "data": {
      "application/vnd.jupyter.widget-view+json": {
       "model_id": "",
       "version_major": 2,
       "version_minor": 0
      },
      "text/plain": [
       "Minibatch:   0%|          | 0/4 [00:00<?, ?it/s]"
      ]
     },
     "metadata": {},
     "output_type": "display_data"
    },
    {
     "data": {
      "application/vnd.jupyter.widget-view+json": {
       "model_id": "",
       "version_major": 2,
       "version_minor": 0
      },
      "text/plain": [
       "Minibatch:   0%|          | 0/4 [00:00<?, ?it/s]"
      ]
     },
     "metadata": {},
     "output_type": "display_data"
    },
    {
     "data": {
      "application/vnd.jupyter.widget-view+json": {
       "model_id": "",
       "version_major": 2,
       "version_minor": 0
      },
      "text/plain": [
       "Minibatch:   0%|          | 0/4 [00:00<?, ?it/s]"
      ]
     },
     "metadata": {},
     "output_type": "display_data"
    },
    {
     "data": {
      "application/vnd.jupyter.widget-view+json": {
       "model_id": "",
       "version_major": 2,
       "version_minor": 0
      },
      "text/plain": [
       "Minibatch:   0%|          | 0/4 [00:00<?, ?it/s]"
      ]
     },
     "metadata": {},
     "output_type": "display_data"
    },
    {
     "data": {
      "application/vnd.jupyter.widget-view+json": {
       "model_id": "",
       "version_major": 2,
       "version_minor": 0
      },
      "text/plain": [
       "Minibatch:   0%|          | 0/4 [00:00<?, ?it/s]"
      ]
     },
     "metadata": {},
     "output_type": "display_data"
    },
    {
     "data": {
      "application/vnd.jupyter.widget-view+json": {
       "model_id": "",
       "version_major": 2,
       "version_minor": 0
      },
      "text/plain": [
       "Minibatch:   0%|          | 0/4 [00:00<?, ?it/s]"
      ]
     },
     "metadata": {},
     "output_type": "display_data"
    },
    {
     "data": {
      "application/vnd.jupyter.widget-view+json": {
       "model_id": "",
       "version_major": 2,
       "version_minor": 0
      },
      "text/plain": [
       "Minibatch:   0%|          | 0/4 [00:00<?, ?it/s]"
      ]
     },
     "metadata": {},
     "output_type": "display_data"
    },
    {
     "data": {
      "application/vnd.jupyter.widget-view+json": {
       "model_id": "",
       "version_major": 2,
       "version_minor": 0
      },
      "text/plain": [
       "Minibatch:   0%|          | 0/4 [00:00<?, ?it/s]"
      ]
     },
     "metadata": {},
     "output_type": "display_data"
    },
    {
     "data": {
      "application/vnd.jupyter.widget-view+json": {
       "model_id": "",
       "version_major": 2,
       "version_minor": 0
      },
      "text/plain": [
       "Minibatch:   0%|          | 0/4 [00:00<?, ?it/s]"
      ]
     },
     "metadata": {},
     "output_type": "display_data"
    },
    {
     "data": {
      "application/vnd.jupyter.widget-view+json": {
       "model_id": "",
       "version_major": 2,
       "version_minor": 0
      },
      "text/plain": [
       "Minibatch:   0%|          | 0/4 [00:00<?, ?it/s]"
      ]
     },
     "metadata": {},
     "output_type": "display_data"
    },
    {
     "data": {
      "application/vnd.jupyter.widget-view+json": {
       "model_id": "",
       "version_major": 2,
       "version_minor": 0
      },
      "text/plain": [
       "Minibatch:   0%|          | 0/4 [00:00<?, ?it/s]"
      ]
     },
     "metadata": {},
     "output_type": "display_data"
    },
    {
     "data": {
      "application/vnd.jupyter.widget-view+json": {
       "model_id": "",
       "version_major": 2,
       "version_minor": 0
      },
      "text/plain": [
       "Minibatch:   0%|          | 0/4 [00:00<?, ?it/s]"
      ]
     },
     "metadata": {},
     "output_type": "display_data"
    },
    {
     "data": {
      "application/vnd.jupyter.widget-view+json": {
       "model_id": "",
       "version_major": 2,
       "version_minor": 0
      },
      "text/plain": [
       "Minibatch:   0%|          | 0/4 [00:00<?, ?it/s]"
      ]
     },
     "metadata": {},
     "output_type": "display_data"
    },
    {
     "data": {
      "application/vnd.jupyter.widget-view+json": {
       "model_id": "",
       "version_major": 2,
       "version_minor": 0
      },
      "text/plain": [
       "Minibatch:   0%|          | 0/4 [00:00<?, ?it/s]"
      ]
     },
     "metadata": {},
     "output_type": "display_data"
    },
    {
     "data": {
      "application/vnd.jupyter.widget-view+json": {
       "model_id": "",
       "version_major": 2,
       "version_minor": 0
      },
      "text/plain": [
       "Minibatch:   0%|          | 0/4 [00:00<?, ?it/s]"
      ]
     },
     "metadata": {},
     "output_type": "display_data"
    },
    {
     "data": {
      "application/vnd.jupyter.widget-view+json": {
       "model_id": "",
       "version_major": 2,
       "version_minor": 0
      },
      "text/plain": [
       "Minibatch:   0%|          | 0/4 [00:00<?, ?it/s]"
      ]
     },
     "metadata": {},
     "output_type": "display_data"
    },
    {
     "data": {
      "application/vnd.jupyter.widget-view+json": {
       "model_id": "",
       "version_major": 2,
       "version_minor": 0
      },
      "text/plain": [
       "Minibatch:   0%|          | 0/4 [00:00<?, ?it/s]"
      ]
     },
     "metadata": {},
     "output_type": "display_data"
    },
    {
     "data": {
      "application/vnd.jupyter.widget-view+json": {
       "model_id": "",
       "version_major": 2,
       "version_minor": 0
      },
      "text/plain": [
       "Minibatch:   0%|          | 0/4 [00:00<?, ?it/s]"
      ]
     },
     "metadata": {},
     "output_type": "display_data"
    },
    {
     "data": {
      "application/vnd.jupyter.widget-view+json": {
       "model_id": "",
       "version_major": 2,
       "version_minor": 0
      },
      "text/plain": [
       "Minibatch:   0%|          | 0/4 [00:00<?, ?it/s]"
      ]
     },
     "metadata": {},
     "output_type": "display_data"
    },
    {
     "data": {
      "application/vnd.jupyter.widget-view+json": {
       "model_id": "",
       "version_major": 2,
       "version_minor": 0
      },
      "text/plain": [
       "Minibatch:   0%|          | 0/4 [00:00<?, ?it/s]"
      ]
     },
     "metadata": {},
     "output_type": "display_data"
    },
    {
     "data": {
      "application/vnd.jupyter.widget-view+json": {
       "model_id": "",
       "version_major": 2,
       "version_minor": 0
      },
      "text/plain": [
       "Minibatch:   0%|          | 0/4 [00:00<?, ?it/s]"
      ]
     },
     "metadata": {},
     "output_type": "display_data"
    },
    {
     "data": {
      "application/vnd.jupyter.widget-view+json": {
       "model_id": "",
       "version_major": 2,
       "version_minor": 0
      },
      "text/plain": [
       "Minibatch:   0%|          | 0/4 [00:00<?, ?it/s]"
      ]
     },
     "metadata": {},
     "output_type": "display_data"
    },
    {
     "data": {
      "application/vnd.jupyter.widget-view+json": {
       "model_id": "",
       "version_major": 2,
       "version_minor": 0
      },
      "text/plain": [
       "Minibatch:   0%|          | 0/4 [00:00<?, ?it/s]"
      ]
     },
     "metadata": {},
     "output_type": "display_data"
    },
    {
     "data": {
      "application/vnd.jupyter.widget-view+json": {
       "model_id": "",
       "version_major": 2,
       "version_minor": 0
      },
      "text/plain": [
       "Minibatch:   0%|          | 0/4 [00:00<?, ?it/s]"
      ]
     },
     "metadata": {},
     "output_type": "display_data"
    },
    {
     "data": {
      "application/vnd.jupyter.widget-view+json": {
       "model_id": "",
       "version_major": 2,
       "version_minor": 0
      },
      "text/plain": [
       "Minibatch:   0%|          | 0/4 [00:00<?, ?it/s]"
      ]
     },
     "metadata": {},
     "output_type": "display_data"
    },
    {
     "data": {
      "application/vnd.jupyter.widget-view+json": {
       "model_id": "",
       "version_major": 2,
       "version_minor": 0
      },
      "text/plain": [
       "Minibatch:   0%|          | 0/4 [00:00<?, ?it/s]"
      ]
     },
     "metadata": {},
     "output_type": "display_data"
    },
    {
     "data": {
      "application/vnd.jupyter.widget-view+json": {
       "model_id": "",
       "version_major": 2,
       "version_minor": 0
      },
      "text/plain": [
       "Minibatch:   0%|          | 0/4 [00:00<?, ?it/s]"
      ]
     },
     "metadata": {},
     "output_type": "display_data"
    },
    {
     "data": {
      "application/vnd.jupyter.widget-view+json": {
       "model_id": "",
       "version_major": 2,
       "version_minor": 0
      },
      "text/plain": [
       "Minibatch:   0%|          | 0/4 [00:00<?, ?it/s]"
      ]
     },
     "metadata": {},
     "output_type": "display_data"
    },
    {
     "data": {
      "application/vnd.jupyter.widget-view+json": {
       "model_id": "",
       "version_major": 2,
       "version_minor": 0
      },
      "text/plain": [
       "Minibatch:   0%|          | 0/4 [00:00<?, ?it/s]"
      ]
     },
     "metadata": {},
     "output_type": "display_data"
    },
    {
     "data": {
      "application/vnd.jupyter.widget-view+json": {
       "model_id": "",
       "version_major": 2,
       "version_minor": 0
      },
      "text/plain": [
       "Minibatch:   0%|          | 0/4 [00:00<?, ?it/s]"
      ]
     },
     "metadata": {},
     "output_type": "display_data"
    },
    {
     "data": {
      "application/vnd.jupyter.widget-view+json": {
       "model_id": "",
       "version_major": 2,
       "version_minor": 0
      },
      "text/plain": [
       "Minibatch:   0%|          | 0/4 [00:00<?, ?it/s]"
      ]
     },
     "metadata": {},
     "output_type": "display_data"
    },
    {
     "data": {
      "application/vnd.jupyter.widget-view+json": {
       "model_id": "",
       "version_major": 2,
       "version_minor": 0
      },
      "text/plain": [
       "Minibatch:   0%|          | 0/4 [00:00<?, ?it/s]"
      ]
     },
     "metadata": {},
     "output_type": "display_data"
    },
    {
     "data": {
      "application/vnd.jupyter.widget-view+json": {
       "model_id": "",
       "version_major": 2,
       "version_minor": 0
      },
      "text/plain": [
       "Minibatch:   0%|          | 0/4 [00:00<?, ?it/s]"
      ]
     },
     "metadata": {},
     "output_type": "display_data"
    },
    {
     "data": {
      "application/vnd.jupyter.widget-view+json": {
       "model_id": "",
       "version_major": 2,
       "version_minor": 0
      },
      "text/plain": [
       "Minibatch:   0%|          | 0/4 [00:00<?, ?it/s]"
      ]
     },
     "metadata": {},
     "output_type": "display_data"
    },
    {
     "data": {
      "application/vnd.jupyter.widget-view+json": {
       "model_id": "",
       "version_major": 2,
       "version_minor": 0
      },
      "text/plain": [
       "Minibatch:   0%|          | 0/4 [00:00<?, ?it/s]"
      ]
     },
     "metadata": {},
     "output_type": "display_data"
    },
    {
     "data": {
      "application/vnd.jupyter.widget-view+json": {
       "model_id": "",
       "version_major": 2,
       "version_minor": 0
      },
      "text/plain": [
       "Minibatch:   0%|          | 0/4 [00:00<?, ?it/s]"
      ]
     },
     "metadata": {},
     "output_type": "display_data"
    },
    {
     "data": {
      "application/vnd.jupyter.widget-view+json": {
       "model_id": "",
       "version_major": 2,
       "version_minor": 0
      },
      "text/plain": [
       "Minibatch:   0%|          | 0/4 [00:00<?, ?it/s]"
      ]
     },
     "metadata": {},
     "output_type": "display_data"
    },
    {
     "data": {
      "application/vnd.jupyter.widget-view+json": {
       "model_id": "",
       "version_major": 2,
       "version_minor": 0
      },
      "text/plain": [
       "Minibatch:   0%|          | 0/4 [00:00<?, ?it/s]"
      ]
     },
     "metadata": {},
     "output_type": "display_data"
    },
    {
     "data": {
      "application/vnd.jupyter.widget-view+json": {
       "model_id": "",
       "version_major": 2,
       "version_minor": 0
      },
      "text/plain": [
       "Minibatch:   0%|          | 0/4 [00:00<?, ?it/s]"
      ]
     },
     "metadata": {},
     "output_type": "display_data"
    },
    {
     "data": {
      "application/vnd.jupyter.widget-view+json": {
       "model_id": "",
       "version_major": 2,
       "version_minor": 0
      },
      "text/plain": [
       "Minibatch:   0%|          | 0/4 [00:00<?, ?it/s]"
      ]
     },
     "metadata": {},
     "output_type": "display_data"
    },
    {
     "data": {
      "application/vnd.jupyter.widget-view+json": {
       "model_id": "",
       "version_major": 2,
       "version_minor": 0
      },
      "text/plain": [
       "Minibatch:   0%|          | 0/4 [00:00<?, ?it/s]"
      ]
     },
     "metadata": {},
     "output_type": "display_data"
    },
    {
     "data": {
      "application/vnd.jupyter.widget-view+json": {
       "model_id": "",
       "version_major": 2,
       "version_minor": 0
      },
      "text/plain": [
       "Minibatch:   0%|          | 0/4 [00:00<?, ?it/s]"
      ]
     },
     "metadata": {},
     "output_type": "display_data"
    },
    {
     "data": {
      "application/vnd.jupyter.widget-view+json": {
       "model_id": "",
       "version_major": 2,
       "version_minor": 0
      },
      "text/plain": [
       "Minibatch:   0%|          | 0/4 [00:00<?, ?it/s]"
      ]
     },
     "metadata": {},
     "output_type": "display_data"
    },
    {
     "data": {
      "application/vnd.jupyter.widget-view+json": {
       "model_id": "",
       "version_major": 2,
       "version_minor": 0
      },
      "text/plain": [
       "Minibatch:   0%|          | 0/4 [00:00<?, ?it/s]"
      ]
     },
     "metadata": {},
     "output_type": "display_data"
    },
    {
     "data": {
      "application/vnd.jupyter.widget-view+json": {
       "model_id": "",
       "version_major": 2,
       "version_minor": 0
      },
      "text/plain": [
       "Minibatch:   0%|          | 0/4 [00:00<?, ?it/s]"
      ]
     },
     "metadata": {},
     "output_type": "display_data"
    },
    {
     "data": {
      "application/vnd.jupyter.widget-view+json": {
       "model_id": "",
       "version_major": 2,
       "version_minor": 0
      },
      "text/plain": [
       "Minibatch:   0%|          | 0/4 [00:00<?, ?it/s]"
      ]
     },
     "metadata": {},
     "output_type": "display_data"
    },
    {
     "data": {
      "application/vnd.jupyter.widget-view+json": {
       "model_id": "",
       "version_major": 2,
       "version_minor": 0
      },
      "text/plain": [
       "Minibatch:   0%|          | 0/4 [00:00<?, ?it/s]"
      ]
     },
     "metadata": {},
     "output_type": "display_data"
    },
    {
     "data": {
      "application/vnd.jupyter.widget-view+json": {
       "model_id": "",
       "version_major": 2,
       "version_minor": 0
      },
      "text/plain": [
       "Minibatch:   0%|          | 0/4 [00:00<?, ?it/s]"
      ]
     },
     "metadata": {},
     "output_type": "display_data"
    },
    {
     "data": {
      "application/vnd.jupyter.widget-view+json": {
       "model_id": "",
       "version_major": 2,
       "version_minor": 0
      },
      "text/plain": [
       "Minibatch:   0%|          | 0/4 [00:00<?, ?it/s]"
      ]
     },
     "metadata": {},
     "output_type": "display_data"
    },
    {
     "data": {
      "application/vnd.jupyter.widget-view+json": {
       "model_id": "",
       "version_major": 2,
       "version_minor": 0
      },
      "text/plain": [
       "Minibatch:   0%|          | 0/4 [00:00<?, ?it/s]"
      ]
     },
     "metadata": {},
     "output_type": "display_data"
    },
    {
     "data": {
      "application/vnd.jupyter.widget-view+json": {
       "model_id": "",
       "version_major": 2,
       "version_minor": 0
      },
      "text/plain": [
       "Minibatch:   0%|          | 0/4 [00:00<?, ?it/s]"
      ]
     },
     "metadata": {},
     "output_type": "display_data"
    },
    {
     "data": {
      "application/vnd.jupyter.widget-view+json": {
       "model_id": "",
       "version_major": 2,
       "version_minor": 0
      },
      "text/plain": [
       "Minibatch:   0%|          | 0/4 [00:00<?, ?it/s]"
      ]
     },
     "metadata": {},
     "output_type": "display_data"
    },
    {
     "data": {
      "application/vnd.jupyter.widget-view+json": {
       "model_id": "",
       "version_major": 2,
       "version_minor": 0
      },
      "text/plain": [
       "Minibatch:   0%|          | 0/4 [00:00<?, ?it/s]"
      ]
     },
     "metadata": {},
     "output_type": "display_data"
    },
    {
     "data": {
      "application/vnd.jupyter.widget-view+json": {
       "model_id": "",
       "version_major": 2,
       "version_minor": 0
      },
      "text/plain": [
       "Minibatch:   0%|          | 0/4 [00:00<?, ?it/s]"
      ]
     },
     "metadata": {},
     "output_type": "display_data"
    },
    {
     "data": {
      "application/vnd.jupyter.widget-view+json": {
       "model_id": "",
       "version_major": 2,
       "version_minor": 0
      },
      "text/plain": [
       "Minibatch:   0%|          | 0/4 [00:00<?, ?it/s]"
      ]
     },
     "metadata": {},
     "output_type": "display_data"
    },
    {
     "data": {
      "application/vnd.jupyter.widget-view+json": {
       "model_id": "",
       "version_major": 2,
       "version_minor": 0
      },
      "text/plain": [
       "Minibatch:   0%|          | 0/4 [00:00<?, ?it/s]"
      ]
     },
     "metadata": {},
     "output_type": "display_data"
    },
    {
     "data": {
      "application/vnd.jupyter.widget-view+json": {
       "model_id": "",
       "version_major": 2,
       "version_minor": 0
      },
      "text/plain": [
       "Minibatch:   0%|          | 0/4 [00:00<?, ?it/s]"
      ]
     },
     "metadata": {},
     "output_type": "display_data"
    },
    {
     "data": {
      "application/vnd.jupyter.widget-view+json": {
       "model_id": "",
       "version_major": 2,
       "version_minor": 0
      },
      "text/plain": [
       "Minibatch:   0%|          | 0/4 [00:00<?, ?it/s]"
      ]
     },
     "metadata": {},
     "output_type": "display_data"
    },
    {
     "data": {
      "application/vnd.jupyter.widget-view+json": {
       "model_id": "",
       "version_major": 2,
       "version_minor": 0
      },
      "text/plain": [
       "Minibatch:   0%|          | 0/4 [00:00<?, ?it/s]"
      ]
     },
     "metadata": {},
     "output_type": "display_data"
    },
    {
     "data": {
      "application/vnd.jupyter.widget-view+json": {
       "model_id": "",
       "version_major": 2,
       "version_minor": 0
      },
      "text/plain": [
       "Minibatch:   0%|          | 0/4 [00:00<?, ?it/s]"
      ]
     },
     "metadata": {},
     "output_type": "display_data"
    },
    {
     "data": {
      "application/vnd.jupyter.widget-view+json": {
       "model_id": "",
       "version_major": 2,
       "version_minor": 0
      },
      "text/plain": [
       "Minibatch:   0%|          | 0/4 [00:00<?, ?it/s]"
      ]
     },
     "metadata": {},
     "output_type": "display_data"
    },
    {
     "data": {
      "application/vnd.jupyter.widget-view+json": {
       "model_id": "",
       "version_major": 2,
       "version_minor": 0
      },
      "text/plain": [
       "Minibatch:   0%|          | 0/4 [00:00<?, ?it/s]"
      ]
     },
     "metadata": {},
     "output_type": "display_data"
    },
    {
     "data": {
      "application/vnd.jupyter.widget-view+json": {
       "model_id": "",
       "version_major": 2,
       "version_minor": 0
      },
      "text/plain": [
       "Minibatch:   0%|          | 0/4 [00:00<?, ?it/s]"
      ]
     },
     "metadata": {},
     "output_type": "display_data"
    },
    {
     "data": {
      "application/vnd.jupyter.widget-view+json": {
       "model_id": "",
       "version_major": 2,
       "version_minor": 0
      },
      "text/plain": [
       "Minibatch:   0%|          | 0/4 [00:00<?, ?it/s]"
      ]
     },
     "metadata": {},
     "output_type": "display_data"
    },
    {
     "data": {
      "application/vnd.jupyter.widget-view+json": {
       "model_id": "",
       "version_major": 2,
       "version_minor": 0
      },
      "text/plain": [
       "Minibatch:   0%|          | 0/4 [00:00<?, ?it/s]"
      ]
     },
     "metadata": {},
     "output_type": "display_data"
    },
    {
     "data": {
      "application/vnd.jupyter.widget-view+json": {
       "model_id": "",
       "version_major": 2,
       "version_minor": 0
      },
      "text/plain": [
       "Minibatch:   0%|          | 0/4 [00:00<?, ?it/s]"
      ]
     },
     "metadata": {},
     "output_type": "display_data"
    },
    {
     "data": {
      "application/vnd.jupyter.widget-view+json": {
       "model_id": "",
       "version_major": 2,
       "version_minor": 0
      },
      "text/plain": [
       "Minibatch:   0%|          | 0/4 [00:00<?, ?it/s]"
      ]
     },
     "metadata": {},
     "output_type": "display_data"
    },
    {
     "data": {
      "application/vnd.jupyter.widget-view+json": {
       "model_id": "",
       "version_major": 2,
       "version_minor": 0
      },
      "text/plain": [
       "Minibatch:   0%|          | 0/4 [00:00<?, ?it/s]"
      ]
     },
     "metadata": {},
     "output_type": "display_data"
    },
    {
     "data": {
      "application/vnd.jupyter.widget-view+json": {
       "model_id": "",
       "version_major": 2,
       "version_minor": 0
      },
      "text/plain": [
       "Minibatch:   0%|          | 0/4 [00:00<?, ?it/s]"
      ]
     },
     "metadata": {},
     "output_type": "display_data"
    },
    {
     "data": {
      "application/vnd.jupyter.widget-view+json": {
       "model_id": "",
       "version_major": 2,
       "version_minor": 0
      },
      "text/plain": [
       "Minibatch:   0%|          | 0/4 [00:00<?, ?it/s]"
      ]
     },
     "metadata": {},
     "output_type": "display_data"
    },
    {
     "data": {
      "application/vnd.jupyter.widget-view+json": {
       "model_id": "",
       "version_major": 2,
       "version_minor": 0
      },
      "text/plain": [
       "Minibatch:   0%|          | 0/4 [00:00<?, ?it/s]"
      ]
     },
     "metadata": {},
     "output_type": "display_data"
    },
    {
     "data": {
      "application/vnd.jupyter.widget-view+json": {
       "model_id": "",
       "version_major": 2,
       "version_minor": 0
      },
      "text/plain": [
       "Minibatch:   0%|          | 0/4 [00:00<?, ?it/s]"
      ]
     },
     "metadata": {},
     "output_type": "display_data"
    },
    {
     "data": {
      "application/vnd.jupyter.widget-view+json": {
       "model_id": "",
       "version_major": 2,
       "version_minor": 0
      },
      "text/plain": [
       "Minibatch:   0%|          | 0/4 [00:00<?, ?it/s]"
      ]
     },
     "metadata": {},
     "output_type": "display_data"
    },
    {
     "data": {
      "application/vnd.jupyter.widget-view+json": {
       "model_id": "",
       "version_major": 2,
       "version_minor": 0
      },
      "text/plain": [
       "Minibatch:   0%|          | 0/4 [00:00<?, ?it/s]"
      ]
     },
     "metadata": {},
     "output_type": "display_data"
    },
    {
     "data": {
      "application/vnd.jupyter.widget-view+json": {
       "model_id": "",
       "version_major": 2,
       "version_minor": 0
      },
      "text/plain": [
       "Minibatch:   0%|          | 0/4 [00:00<?, ?it/s]"
      ]
     },
     "metadata": {},
     "output_type": "display_data"
    },
    {
     "data": {
      "application/vnd.jupyter.widget-view+json": {
       "model_id": "",
       "version_major": 2,
       "version_minor": 0
      },
      "text/plain": [
       "Minibatch:   0%|          | 0/4 [00:00<?, ?it/s]"
      ]
     },
     "metadata": {},
     "output_type": "display_data"
    },
    {
     "data": {
      "application/vnd.jupyter.widget-view+json": {
       "model_id": "",
       "version_major": 2,
       "version_minor": 0
      },
      "text/plain": [
       "Minibatch:   0%|          | 0/4 [00:00<?, ?it/s]"
      ]
     },
     "metadata": {},
     "output_type": "display_data"
    },
    {
     "data": {
      "application/vnd.jupyter.widget-view+json": {
       "model_id": "",
       "version_major": 2,
       "version_minor": 0
      },
      "text/plain": [
       "Minibatch:   0%|          | 0/4 [00:00<?, ?it/s]"
      ]
     },
     "metadata": {},
     "output_type": "display_data"
    },
    {
     "data": {
      "application/vnd.jupyter.widget-view+json": {
       "model_id": "",
       "version_major": 2,
       "version_minor": 0
      },
      "text/plain": [
       "Minibatch:   0%|          | 0/4 [00:00<?, ?it/s]"
      ]
     },
     "metadata": {},
     "output_type": "display_data"
    },
    {
     "data": {
      "application/vnd.jupyter.widget-view+json": {
       "model_id": "",
       "version_major": 2,
       "version_minor": 0
      },
      "text/plain": [
       "Minibatch:   0%|          | 0/4 [00:00<?, ?it/s]"
      ]
     },
     "metadata": {},
     "output_type": "display_data"
    },
    {
     "data": {
      "application/vnd.jupyter.widget-view+json": {
       "model_id": "",
       "version_major": 2,
       "version_minor": 0
      },
      "text/plain": [
       "Minibatch:   0%|          | 0/4 [00:00<?, ?it/s]"
      ]
     },
     "metadata": {},
     "output_type": "display_data"
    },
    {
     "data": {
      "application/vnd.jupyter.widget-view+json": {
       "model_id": "",
       "version_major": 2,
       "version_minor": 0
      },
      "text/plain": [
       "Minibatch:   0%|          | 0/4 [00:00<?, ?it/s]"
      ]
     },
     "metadata": {},
     "output_type": "display_data"
    },
    {
     "data": {
      "application/vnd.jupyter.widget-view+json": {
       "model_id": "",
       "version_major": 2,
       "version_minor": 0
      },
      "text/plain": [
       "Minibatch:   0%|          | 0/4 [00:00<?, ?it/s]"
      ]
     },
     "metadata": {},
     "output_type": "display_data"
    },
    {
     "data": {
      "application/vnd.jupyter.widget-view+json": {
       "model_id": "",
       "version_major": 2,
       "version_minor": 0
      },
      "text/plain": [
       "Minibatch:   0%|          | 0/4 [00:00<?, ?it/s]"
      ]
     },
     "metadata": {},
     "output_type": "display_data"
    },
    {
     "data": {
      "application/vnd.jupyter.widget-view+json": {
       "model_id": "",
       "version_major": 2,
       "version_minor": 0
      },
      "text/plain": [
       "Minibatch:   0%|          | 0/4 [00:00<?, ?it/s]"
      ]
     },
     "metadata": {},
     "output_type": "display_data"
    },
    {
     "data": {
      "application/vnd.jupyter.widget-view+json": {
       "model_id": "",
       "version_major": 2,
       "version_minor": 0
      },
      "text/plain": [
       "Minibatch:   0%|          | 0/4 [00:00<?, ?it/s]"
      ]
     },
     "metadata": {},
     "output_type": "display_data"
    },
    {
     "data": {
      "application/vnd.jupyter.widget-view+json": {
       "model_id": "",
       "version_major": 2,
       "version_minor": 0
      },
      "text/plain": [
       "Minibatch:   0%|          | 0/4 [00:00<?, ?it/s]"
      ]
     },
     "metadata": {},
     "output_type": "display_data"
    },
    {
     "data": {
      "application/vnd.jupyter.widget-view+json": {
       "model_id": "",
       "version_major": 2,
       "version_minor": 0
      },
      "text/plain": [
       "Minibatch:   0%|          | 0/4 [00:00<?, ?it/s]"
      ]
     },
     "metadata": {},
     "output_type": "display_data"
    },
    {
     "data": {
      "application/vnd.jupyter.widget-view+json": {
       "model_id": "",
       "version_major": 2,
       "version_minor": 0
      },
      "text/plain": [
       "Minibatch:   0%|          | 0/4 [00:00<?, ?it/s]"
      ]
     },
     "metadata": {},
     "output_type": "display_data"
    },
    {
     "data": {
      "application/vnd.jupyter.widget-view+json": {
       "model_id": "",
       "version_major": 2,
       "version_minor": 0
      },
      "text/plain": [
       "Minibatch:   0%|          | 0/4 [00:00<?, ?it/s]"
      ]
     },
     "metadata": {},
     "output_type": "display_data"
    },
    {
     "data": {
      "application/vnd.jupyter.widget-view+json": {
       "model_id": "",
       "version_major": 2,
       "version_minor": 0
      },
      "text/plain": [
       "Minibatch:   0%|          | 0/4 [00:00<?, ?it/s]"
      ]
     },
     "metadata": {},
     "output_type": "display_data"
    },
    {
     "data": {
      "application/vnd.jupyter.widget-view+json": {
       "model_id": "",
       "version_major": 2,
       "version_minor": 0
      },
      "text/plain": [
       "Minibatch:   0%|          | 0/4 [00:00<?, ?it/s]"
      ]
     },
     "metadata": {},
     "output_type": "display_data"
    },
    {
     "data": {
      "application/vnd.jupyter.widget-view+json": {
       "model_id": "",
       "version_major": 2,
       "version_minor": 0
      },
      "text/plain": [
       "Minibatch:   0%|          | 0/4 [00:00<?, ?it/s]"
      ]
     },
     "metadata": {},
     "output_type": "display_data"
    },
    {
     "data": {
      "application/vnd.jupyter.widget-view+json": {
       "model_id": "",
       "version_major": 2,
       "version_minor": 0
      },
      "text/plain": [
       "Minibatch:   0%|          | 0/4 [00:00<?, ?it/s]"
      ]
     },
     "metadata": {},
     "output_type": "display_data"
    },
    {
     "data": {
      "application/vnd.jupyter.widget-view+json": {
       "model_id": "",
       "version_major": 2,
       "version_minor": 0
      },
      "text/plain": [
       "Minibatch:   0%|          | 0/4 [00:00<?, ?it/s]"
      ]
     },
     "metadata": {},
     "output_type": "display_data"
    },
    {
     "data": {
      "application/vnd.jupyter.widget-view+json": {
       "model_id": "",
       "version_major": 2,
       "version_minor": 0
      },
      "text/plain": [
       "Minibatch:   0%|          | 0/4 [00:00<?, ?it/s]"
      ]
     },
     "metadata": {},
     "output_type": "display_data"
    },
    {
     "data": {
      "application/vnd.jupyter.widget-view+json": {
       "model_id": "",
       "version_major": 2,
       "version_minor": 0
      },
      "text/plain": [
       "Minibatch:   0%|          | 0/4 [00:00<?, ?it/s]"
      ]
     },
     "metadata": {},
     "output_type": "display_data"
    },
    {
     "data": {
      "application/vnd.jupyter.widget-view+json": {
       "model_id": "",
       "version_major": 2,
       "version_minor": 0
      },
      "text/plain": [
       "Minibatch:   0%|          | 0/4 [00:00<?, ?it/s]"
      ]
     },
     "metadata": {},
     "output_type": "display_data"
    },
    {
     "data": {
      "application/vnd.jupyter.widget-view+json": {
       "model_id": "",
       "version_major": 2,
       "version_minor": 0
      },
      "text/plain": [
       "Minibatch:   0%|          | 0/4 [00:00<?, ?it/s]"
      ]
     },
     "metadata": {},
     "output_type": "display_data"
    },
    {
     "data": {
      "application/vnd.jupyter.widget-view+json": {
       "model_id": "",
       "version_major": 2,
       "version_minor": 0
      },
      "text/plain": [
       "Minibatch:   0%|          | 0/4 [00:00<?, ?it/s]"
      ]
     },
     "metadata": {},
     "output_type": "display_data"
    },
    {
     "data": {
      "application/vnd.jupyter.widget-view+json": {
       "model_id": "",
       "version_major": 2,
       "version_minor": 0
      },
      "text/plain": [
       "Minibatch:   0%|          | 0/4 [00:00<?, ?it/s]"
      ]
     },
     "metadata": {},
     "output_type": "display_data"
    },
    {
     "data": {
      "application/vnd.jupyter.widget-view+json": {
       "model_id": "",
       "version_major": 2,
       "version_minor": 0
      },
      "text/plain": [
       "Minibatch:   0%|          | 0/4 [00:00<?, ?it/s]"
      ]
     },
     "metadata": {},
     "output_type": "display_data"
    },
    {
     "data": {
      "application/vnd.jupyter.widget-view+json": {
       "model_id": "",
       "version_major": 2,
       "version_minor": 0
      },
      "text/plain": [
       "Minibatch:   0%|          | 0/4 [00:00<?, ?it/s]"
      ]
     },
     "metadata": {},
     "output_type": "display_data"
    },
    {
     "data": {
      "application/vnd.jupyter.widget-view+json": {
       "model_id": "",
       "version_major": 2,
       "version_minor": 0
      },
      "text/plain": [
       "Minibatch:   0%|          | 0/4 [00:00<?, ?it/s]"
      ]
     },
     "metadata": {},
     "output_type": "display_data"
    },
    {
     "data": {
      "application/vnd.jupyter.widget-view+json": {
       "model_id": "",
       "version_major": 2,
       "version_minor": 0
      },
      "text/plain": [
       "Minibatch:   0%|          | 0/4 [00:00<?, ?it/s]"
      ]
     },
     "metadata": {},
     "output_type": "display_data"
    },
    {
     "data": {
      "application/vnd.jupyter.widget-view+json": {
       "model_id": "",
       "version_major": 2,
       "version_minor": 0
      },
      "text/plain": [
       "Minibatch:   0%|          | 0/4 [00:00<?, ?it/s]"
      ]
     },
     "metadata": {},
     "output_type": "display_data"
    },
    {
     "data": {
      "application/vnd.jupyter.widget-view+json": {
       "model_id": "",
       "version_major": 2,
       "version_minor": 0
      },
      "text/plain": [
       "Minibatch:   0%|          | 0/4 [00:00<?, ?it/s]"
      ]
     },
     "metadata": {},
     "output_type": "display_data"
    },
    {
     "data": {
      "application/vnd.jupyter.widget-view+json": {
       "model_id": "",
       "version_major": 2,
       "version_minor": 0
      },
      "text/plain": [
       "Minibatch:   0%|          | 0/4 [00:00<?, ?it/s]"
      ]
     },
     "metadata": {},
     "output_type": "display_data"
    },
    {
     "data": {
      "application/vnd.jupyter.widget-view+json": {
       "model_id": "",
       "version_major": 2,
       "version_minor": 0
      },
      "text/plain": [
       "Minibatch:   0%|          | 0/4 [00:00<?, ?it/s]"
      ]
     },
     "metadata": {},
     "output_type": "display_data"
    },
    {
     "data": {
      "application/vnd.jupyter.widget-view+json": {
       "model_id": "",
       "version_major": 2,
       "version_minor": 0
      },
      "text/plain": [
       "Minibatch:   0%|          | 0/4 [00:00<?, ?it/s]"
      ]
     },
     "metadata": {},
     "output_type": "display_data"
    },
    {
     "data": {
      "application/vnd.jupyter.widget-view+json": {
       "model_id": "",
       "version_major": 2,
       "version_minor": 0
      },
      "text/plain": [
       "Minibatch:   0%|          | 0/4 [00:00<?, ?it/s]"
      ]
     },
     "metadata": {},
     "output_type": "display_data"
    },
    {
     "data": {
      "application/vnd.jupyter.widget-view+json": {
       "model_id": "",
       "version_major": 2,
       "version_minor": 0
      },
      "text/plain": [
       "Minibatch:   0%|          | 0/4 [00:00<?, ?it/s]"
      ]
     },
     "metadata": {},
     "output_type": "display_data"
    },
    {
     "data": {
      "application/vnd.jupyter.widget-view+json": {
       "model_id": "",
       "version_major": 2,
       "version_minor": 0
      },
      "text/plain": [
       "Minibatch:   0%|          | 0/4 [00:00<?, ?it/s]"
      ]
     },
     "metadata": {},
     "output_type": "display_data"
    },
    {
     "data": {
      "application/vnd.jupyter.widget-view+json": {
       "model_id": "",
       "version_major": 2,
       "version_minor": 0
      },
      "text/plain": [
       "Minibatch:   0%|          | 0/4 [00:00<?, ?it/s]"
      ]
     },
     "metadata": {},
     "output_type": "display_data"
    },
    {
     "data": {
      "application/vnd.jupyter.widget-view+json": {
       "model_id": "",
       "version_major": 2,
       "version_minor": 0
      },
      "text/plain": [
       "Minibatch:   0%|          | 0/4 [00:00<?, ?it/s]"
      ]
     },
     "metadata": {},
     "output_type": "display_data"
    },
    {
     "data": {
      "application/vnd.jupyter.widget-view+json": {
       "model_id": "",
       "version_major": 2,
       "version_minor": 0
      },
      "text/plain": [
       "Minibatch:   0%|          | 0/4 [00:00<?, ?it/s]"
      ]
     },
     "metadata": {},
     "output_type": "display_data"
    },
    {
     "data": {
      "application/vnd.jupyter.widget-view+json": {
       "model_id": "",
       "version_major": 2,
       "version_minor": 0
      },
      "text/plain": [
       "Minibatch:   0%|          | 0/4 [00:00<?, ?it/s]"
      ]
     },
     "metadata": {},
     "output_type": "display_data"
    },
    {
     "data": {
      "application/vnd.jupyter.widget-view+json": {
       "model_id": "",
       "version_major": 2,
       "version_minor": 0
      },
      "text/plain": [
       "Minibatch:   0%|          | 0/4 [00:00<?, ?it/s]"
      ]
     },
     "metadata": {},
     "output_type": "display_data"
    },
    {
     "data": {
      "application/vnd.jupyter.widget-view+json": {
       "model_id": "",
       "version_major": 2,
       "version_minor": 0
      },
      "text/plain": [
       "Minibatch:   0%|          | 0/4 [00:00<?, ?it/s]"
      ]
     },
     "metadata": {},
     "output_type": "display_data"
    },
    {
     "data": {
      "application/vnd.jupyter.widget-view+json": {
       "model_id": "",
       "version_major": 2,
       "version_minor": 0
      },
      "text/plain": [
       "Minibatch:   0%|          | 0/4 [00:00<?, ?it/s]"
      ]
     },
     "metadata": {},
     "output_type": "display_data"
    },
    {
     "data": {
      "application/vnd.jupyter.widget-view+json": {
       "model_id": "",
       "version_major": 2,
       "version_minor": 0
      },
      "text/plain": [
       "Minibatch:   0%|          | 0/4 [00:00<?, ?it/s]"
      ]
     },
     "metadata": {},
     "output_type": "display_data"
    },
    {
     "data": {
      "application/vnd.jupyter.widget-view+json": {
       "model_id": "",
       "version_major": 2,
       "version_minor": 0
      },
      "text/plain": [
       "Minibatch:   0%|          | 0/4 [00:00<?, ?it/s]"
      ]
     },
     "metadata": {},
     "output_type": "display_data"
    },
    {
     "data": {
      "application/vnd.jupyter.widget-view+json": {
       "model_id": "",
       "version_major": 2,
       "version_minor": 0
      },
      "text/plain": [
       "Minibatch:   0%|          | 0/4 [00:00<?, ?it/s]"
      ]
     },
     "metadata": {},
     "output_type": "display_data"
    },
    {
     "data": {
      "application/vnd.jupyter.widget-view+json": {
       "model_id": "",
       "version_major": 2,
       "version_minor": 0
      },
      "text/plain": [
       "Minibatch:   0%|          | 0/4 [00:00<?, ?it/s]"
      ]
     },
     "metadata": {},
     "output_type": "display_data"
    },
    {
     "data": {
      "application/vnd.jupyter.widget-view+json": {
       "model_id": "",
       "version_major": 2,
       "version_minor": 0
      },
      "text/plain": [
       "Minibatch:   0%|          | 0/4 [00:00<?, ?it/s]"
      ]
     },
     "metadata": {},
     "output_type": "display_data"
    },
    {
     "data": {
      "application/vnd.jupyter.widget-view+json": {
       "model_id": "",
       "version_major": 2,
       "version_minor": 0
      },
      "text/plain": [
       "Minibatch:   0%|          | 0/4 [00:00<?, ?it/s]"
      ]
     },
     "metadata": {},
     "output_type": "display_data"
    },
    {
     "data": {
      "application/vnd.jupyter.widget-view+json": {
       "model_id": "",
       "version_major": 2,
       "version_minor": 0
      },
      "text/plain": [
       "Minibatch:   0%|          | 0/4 [00:00<?, ?it/s]"
      ]
     },
     "metadata": {},
     "output_type": "display_data"
    },
    {
     "data": {
      "application/vnd.jupyter.widget-view+json": {
       "model_id": "",
       "version_major": 2,
       "version_minor": 0
      },
      "text/plain": [
       "Minibatch:   0%|          | 0/4 [00:00<?, ?it/s]"
      ]
     },
     "metadata": {},
     "output_type": "display_data"
    },
    {
     "data": {
      "application/vnd.jupyter.widget-view+json": {
       "model_id": "",
       "version_major": 2,
       "version_minor": 0
      },
      "text/plain": [
       "Minibatch:   0%|          | 0/4 [00:00<?, ?it/s]"
      ]
     },
     "metadata": {},
     "output_type": "display_data"
    },
    {
     "data": {
      "application/vnd.jupyter.widget-view+json": {
       "model_id": "",
       "version_major": 2,
       "version_minor": 0
      },
      "text/plain": [
       "Minibatch:   0%|          | 0/4 [00:00<?, ?it/s]"
      ]
     },
     "metadata": {},
     "output_type": "display_data"
    },
    {
     "data": {
      "application/vnd.jupyter.widget-view+json": {
       "model_id": "",
       "version_major": 2,
       "version_minor": 0
      },
      "text/plain": [
       "Minibatch:   0%|          | 0/4 [00:00<?, ?it/s]"
      ]
     },
     "metadata": {},
     "output_type": "display_data"
    },
    {
     "data": {
      "application/vnd.jupyter.widget-view+json": {
       "model_id": "",
       "version_major": 2,
       "version_minor": 0
      },
      "text/plain": [
       "Minibatch:   0%|          | 0/4 [00:00<?, ?it/s]"
      ]
     },
     "metadata": {},
     "output_type": "display_data"
    },
    {
     "data": {
      "application/vnd.jupyter.widget-view+json": {
       "model_id": "",
       "version_major": 2,
       "version_minor": 0
      },
      "text/plain": [
       "Minibatch:   0%|          | 0/4 [00:00<?, ?it/s]"
      ]
     },
     "metadata": {},
     "output_type": "display_data"
    },
    {
     "data": {
      "application/vnd.jupyter.widget-view+json": {
       "model_id": "",
       "version_major": 2,
       "version_minor": 0
      },
      "text/plain": [
       "Minibatch:   0%|          | 0/4 [00:00<?, ?it/s]"
      ]
     },
     "metadata": {},
     "output_type": "display_data"
    },
    {
     "data": {
      "application/vnd.jupyter.widget-view+json": {
       "model_id": "",
       "version_major": 2,
       "version_minor": 0
      },
      "text/plain": [
       "Minibatch:   0%|          | 0/4 [00:00<?, ?it/s]"
      ]
     },
     "metadata": {},
     "output_type": "display_data"
    },
    {
     "data": {
      "application/vnd.jupyter.widget-view+json": {
       "model_id": "",
       "version_major": 2,
       "version_minor": 0
      },
      "text/plain": [
       "Minibatch:   0%|          | 0/4 [00:00<?, ?it/s]"
      ]
     },
     "metadata": {},
     "output_type": "display_data"
    },
    {
     "data": {
      "application/vnd.jupyter.widget-view+json": {
       "model_id": "",
       "version_major": 2,
       "version_minor": 0
      },
      "text/plain": [
       "Minibatch:   0%|          | 0/4 [00:00<?, ?it/s]"
      ]
     },
     "metadata": {},
     "output_type": "display_data"
    },
    {
     "data": {
      "application/vnd.jupyter.widget-view+json": {
       "model_id": "",
       "version_major": 2,
       "version_minor": 0
      },
      "text/plain": [
       "Minibatch:   0%|          | 0/4 [00:00<?, ?it/s]"
      ]
     },
     "metadata": {},
     "output_type": "display_data"
    },
    {
     "data": {
      "application/vnd.jupyter.widget-view+json": {
       "model_id": "",
       "version_major": 2,
       "version_minor": 0
      },
      "text/plain": [
       "Minibatch:   0%|          | 0/4 [00:00<?, ?it/s]"
      ]
     },
     "metadata": {},
     "output_type": "display_data"
    },
    {
     "data": {
      "application/vnd.jupyter.widget-view+json": {
       "model_id": "",
       "version_major": 2,
       "version_minor": 0
      },
      "text/plain": [
       "Minibatch:   0%|          | 0/4 [00:00<?, ?it/s]"
      ]
     },
     "metadata": {},
     "output_type": "display_data"
    },
    {
     "data": {
      "application/vnd.jupyter.widget-view+json": {
       "model_id": "",
       "version_major": 2,
       "version_minor": 0
      },
      "text/plain": [
       "Minibatch:   0%|          | 0/4 [00:00<?, ?it/s]"
      ]
     },
     "metadata": {},
     "output_type": "display_data"
    },
    {
     "data": {
      "application/vnd.jupyter.widget-view+json": {
       "model_id": "",
       "version_major": 2,
       "version_minor": 0
      },
      "text/plain": [
       "Minibatch:   0%|          | 0/4 [00:00<?, ?it/s]"
      ]
     },
     "metadata": {},
     "output_type": "display_data"
    },
    {
     "data": {
      "application/vnd.jupyter.widget-view+json": {
       "model_id": "",
       "version_major": 2,
       "version_minor": 0
      },
      "text/plain": [
       "Minibatch:   0%|          | 0/4 [00:00<?, ?it/s]"
      ]
     },
     "metadata": {},
     "output_type": "display_data"
    },
    {
     "data": {
      "application/vnd.jupyter.widget-view+json": {
       "model_id": "",
       "version_major": 2,
       "version_minor": 0
      },
      "text/plain": [
       "Minibatch:   0%|          | 0/4 [00:00<?, ?it/s]"
      ]
     },
     "metadata": {},
     "output_type": "display_data"
    },
    {
     "data": {
      "application/vnd.jupyter.widget-view+json": {
       "model_id": "",
       "version_major": 2,
       "version_minor": 0
      },
      "text/plain": [
       "Minibatch:   0%|          | 0/4 [00:00<?, ?it/s]"
      ]
     },
     "metadata": {},
     "output_type": "display_data"
    },
    {
     "data": {
      "application/vnd.jupyter.widget-view+json": {
       "model_id": "",
       "version_major": 2,
       "version_minor": 0
      },
      "text/plain": [
       "Minibatch:   0%|          | 0/4 [00:00<?, ?it/s]"
      ]
     },
     "metadata": {},
     "output_type": "display_data"
    },
    {
     "data": {
      "application/vnd.jupyter.widget-view+json": {
       "model_id": "",
       "version_major": 2,
       "version_minor": 0
      },
      "text/plain": [
       "Minibatch:   0%|          | 0/4 [00:00<?, ?it/s]"
      ]
     },
     "metadata": {},
     "output_type": "display_data"
    },
    {
     "data": {
      "application/vnd.jupyter.widget-view+json": {
       "model_id": "",
       "version_major": 2,
       "version_minor": 0
      },
      "text/plain": [
       "Minibatch:   0%|          | 0/4 [00:00<?, ?it/s]"
      ]
     },
     "metadata": {},
     "output_type": "display_data"
    },
    {
     "data": {
      "application/vnd.jupyter.widget-view+json": {
       "model_id": "",
       "version_major": 2,
       "version_minor": 0
      },
      "text/plain": [
       "Minibatch:   0%|          | 0/4 [00:00<?, ?it/s]"
      ]
     },
     "metadata": {},
     "output_type": "display_data"
    },
    {
     "data": {
      "application/vnd.jupyter.widget-view+json": {
       "model_id": "",
       "version_major": 2,
       "version_minor": 0
      },
      "text/plain": [
       "Minibatch:   0%|          | 0/4 [00:00<?, ?it/s]"
      ]
     },
     "metadata": {},
     "output_type": "display_data"
    },
    {
     "data": {
      "application/vnd.jupyter.widget-view+json": {
       "model_id": "",
       "version_major": 2,
       "version_minor": 0
      },
      "text/plain": [
       "Minibatch:   0%|          | 0/4 [00:00<?, ?it/s]"
      ]
     },
     "metadata": {},
     "output_type": "display_data"
    },
    {
     "data": {
      "application/vnd.jupyter.widget-view+json": {
       "model_id": "",
       "version_major": 2,
       "version_minor": 0
      },
      "text/plain": [
       "Minibatch:   0%|          | 0/4 [00:00<?, ?it/s]"
      ]
     },
     "metadata": {},
     "output_type": "display_data"
    },
    {
     "data": {
      "application/vnd.jupyter.widget-view+json": {
       "model_id": "",
       "version_major": 2,
       "version_minor": 0
      },
      "text/plain": [
       "Minibatch:   0%|          | 0/4 [00:00<?, ?it/s]"
      ]
     },
     "metadata": {},
     "output_type": "display_data"
    },
    {
     "data": {
      "application/vnd.jupyter.widget-view+json": {
       "model_id": "",
       "version_major": 2,
       "version_minor": 0
      },
      "text/plain": [
       "Minibatch:   0%|          | 0/4 [00:00<?, ?it/s]"
      ]
     },
     "metadata": {},
     "output_type": "display_data"
    },
    {
     "data": {
      "application/vnd.jupyter.widget-view+json": {
       "model_id": "",
       "version_major": 2,
       "version_minor": 0
      },
      "text/plain": [
       "Minibatch:   0%|          | 0/4 [00:00<?, ?it/s]"
      ]
     },
     "metadata": {},
     "output_type": "display_data"
    },
    {
     "data": {
      "application/vnd.jupyter.widget-view+json": {
       "model_id": "",
       "version_major": 2,
       "version_minor": 0
      },
      "text/plain": [
       "Minibatch:   0%|          | 0/4 [00:00<?, ?it/s]"
      ]
     },
     "metadata": {},
     "output_type": "display_data"
    },
    {
     "data": {
      "application/vnd.jupyter.widget-view+json": {
       "model_id": "",
       "version_major": 2,
       "version_minor": 0
      },
      "text/plain": [
       "Minibatch:   0%|          | 0/4 [00:00<?, ?it/s]"
      ]
     },
     "metadata": {},
     "output_type": "display_data"
    },
    {
     "data": {
      "application/vnd.jupyter.widget-view+json": {
       "model_id": "",
       "version_major": 2,
       "version_minor": 0
      },
      "text/plain": [
       "Minibatch:   0%|          | 0/4 [00:00<?, ?it/s]"
      ]
     },
     "metadata": {},
     "output_type": "display_data"
    },
    {
     "data": {
      "application/vnd.jupyter.widget-view+json": {
       "model_id": "",
       "version_major": 2,
       "version_minor": 0
      },
      "text/plain": [
       "Minibatch:   0%|          | 0/4 [00:00<?, ?it/s]"
      ]
     },
     "metadata": {},
     "output_type": "display_data"
    },
    {
     "data": {
      "application/vnd.jupyter.widget-view+json": {
       "model_id": "",
       "version_major": 2,
       "version_minor": 0
      },
      "text/plain": [
       "Minibatch:   0%|          | 0/4 [00:00<?, ?it/s]"
      ]
     },
     "metadata": {},
     "output_type": "display_data"
    },
    {
     "data": {
      "application/vnd.jupyter.widget-view+json": {
       "model_id": "",
       "version_major": 2,
       "version_minor": 0
      },
      "text/plain": [
       "Minibatch:   0%|          | 0/4 [00:00<?, ?it/s]"
      ]
     },
     "metadata": {},
     "output_type": "display_data"
    },
    {
     "data": {
      "application/vnd.jupyter.widget-view+json": {
       "model_id": "",
       "version_major": 2,
       "version_minor": 0
      },
      "text/plain": [
       "Minibatch:   0%|          | 0/4 [00:00<?, ?it/s]"
      ]
     },
     "metadata": {},
     "output_type": "display_data"
    },
    {
     "data": {
      "application/vnd.jupyter.widget-view+json": {
       "model_id": "",
       "version_major": 2,
       "version_minor": 0
      },
      "text/plain": [
       "Minibatch:   0%|          | 0/4 [00:00<?, ?it/s]"
      ]
     },
     "metadata": {},
     "output_type": "display_data"
    },
    {
     "data": {
      "application/vnd.jupyter.widget-view+json": {
       "model_id": "",
       "version_major": 2,
       "version_minor": 0
      },
      "text/plain": [
       "Minibatch:   0%|          | 0/4 [00:00<?, ?it/s]"
      ]
     },
     "metadata": {},
     "output_type": "display_data"
    },
    {
     "data": {
      "application/vnd.jupyter.widget-view+json": {
       "model_id": "",
       "version_major": 2,
       "version_minor": 0
      },
      "text/plain": [
       "Minibatch:   0%|          | 0/4 [00:00<?, ?it/s]"
      ]
     },
     "metadata": {},
     "output_type": "display_data"
    },
    {
     "data": {
      "application/vnd.jupyter.widget-view+json": {
       "model_id": "",
       "version_major": 2,
       "version_minor": 0
      },
      "text/plain": [
       "Minibatch:   0%|          | 0/4 [00:00<?, ?it/s]"
      ]
     },
     "metadata": {},
     "output_type": "display_data"
    },
    {
     "data": {
      "application/vnd.jupyter.widget-view+json": {
       "model_id": "",
       "version_major": 2,
       "version_minor": 0
      },
      "text/plain": [
       "Minibatch:   0%|          | 0/4 [00:00<?, ?it/s]"
      ]
     },
     "metadata": {},
     "output_type": "display_data"
    },
    {
     "data": {
      "application/vnd.jupyter.widget-view+json": {
       "model_id": "",
       "version_major": 2,
       "version_minor": 0
      },
      "text/plain": [
       "Minibatch:   0%|          | 0/4 [00:00<?, ?it/s]"
      ]
     },
     "metadata": {},
     "output_type": "display_data"
    },
    {
     "data": {
      "application/vnd.jupyter.widget-view+json": {
       "model_id": "",
       "version_major": 2,
       "version_minor": 0
      },
      "text/plain": [
       "Minibatch:   0%|          | 0/4 [00:00<?, ?it/s]"
      ]
     },
     "metadata": {},
     "output_type": "display_data"
    },
    {
     "data": {
      "application/vnd.jupyter.widget-view+json": {
       "model_id": "",
       "version_major": 2,
       "version_minor": 0
      },
      "text/plain": [
       "Minibatch:   0%|          | 0/4 [00:00<?, ?it/s]"
      ]
     },
     "metadata": {},
     "output_type": "display_data"
    },
    {
     "data": {
      "application/vnd.jupyter.widget-view+json": {
       "model_id": "",
       "version_major": 2,
       "version_minor": 0
      },
      "text/plain": [
       "Minibatch:   0%|          | 0/4 [00:00<?, ?it/s]"
      ]
     },
     "metadata": {},
     "output_type": "display_data"
    },
    {
     "data": {
      "application/vnd.jupyter.widget-view+json": {
       "model_id": "",
       "version_major": 2,
       "version_minor": 0
      },
      "text/plain": [
       "Minibatch:   0%|          | 0/4 [00:00<?, ?it/s]"
      ]
     },
     "metadata": {},
     "output_type": "display_data"
    },
    {
     "data": {
      "application/vnd.jupyter.widget-view+json": {
       "model_id": "",
       "version_major": 2,
       "version_minor": 0
      },
      "text/plain": [
       "Minibatch:   0%|          | 0/4 [00:00<?, ?it/s]"
      ]
     },
     "metadata": {},
     "output_type": "display_data"
    },
    {
     "data": {
      "application/vnd.jupyter.widget-view+json": {
       "model_id": "",
       "version_major": 2,
       "version_minor": 0
      },
      "text/plain": [
       "Minibatch:   0%|          | 0/4 [00:00<?, ?it/s]"
      ]
     },
     "metadata": {},
     "output_type": "display_data"
    },
    {
     "data": {
      "application/vnd.jupyter.widget-view+json": {
       "model_id": "",
       "version_major": 2,
       "version_minor": 0
      },
      "text/plain": [
       "Minibatch:   0%|          | 0/4 [00:00<?, ?it/s]"
      ]
     },
     "metadata": {},
     "output_type": "display_data"
    },
    {
     "data": {
      "application/vnd.jupyter.widget-view+json": {
       "model_id": "",
       "version_major": 2,
       "version_minor": 0
      },
      "text/plain": [
       "Minibatch:   0%|          | 0/4 [00:00<?, ?it/s]"
      ]
     },
     "metadata": {},
     "output_type": "display_data"
    },
    {
     "data": {
      "application/vnd.jupyter.widget-view+json": {
       "model_id": "",
       "version_major": 2,
       "version_minor": 0
      },
      "text/plain": [
       "Minibatch:   0%|          | 0/4 [00:00<?, ?it/s]"
      ]
     },
     "metadata": {},
     "output_type": "display_data"
    },
    {
     "data": {
      "application/vnd.jupyter.widget-view+json": {
       "model_id": "",
       "version_major": 2,
       "version_minor": 0
      },
      "text/plain": [
       "Minibatch:   0%|          | 0/4 [00:00<?, ?it/s]"
      ]
     },
     "metadata": {},
     "output_type": "display_data"
    },
    {
     "data": {
      "application/vnd.jupyter.widget-view+json": {
       "model_id": "",
       "version_major": 2,
       "version_minor": 0
      },
      "text/plain": [
       "Minibatch:   0%|          | 0/4 [00:00<?, ?it/s]"
      ]
     },
     "metadata": {},
     "output_type": "display_data"
    },
    {
     "data": {
      "application/vnd.jupyter.widget-view+json": {
       "model_id": "",
       "version_major": 2,
       "version_minor": 0
      },
      "text/plain": [
       "Minibatch:   0%|          | 0/4 [00:00<?, ?it/s]"
      ]
     },
     "metadata": {},
     "output_type": "display_data"
    },
    {
     "data": {
      "application/vnd.jupyter.widget-view+json": {
       "model_id": "",
       "version_major": 2,
       "version_minor": 0
      },
      "text/plain": [
       "Minibatch:   0%|          | 0/4 [00:00<?, ?it/s]"
      ]
     },
     "metadata": {},
     "output_type": "display_data"
    },
    {
     "data": {
      "application/vnd.jupyter.widget-view+json": {
       "model_id": "",
       "version_major": 2,
       "version_minor": 0
      },
      "text/plain": [
       "Minibatch:   0%|          | 0/4 [00:00<?, ?it/s]"
      ]
     },
     "metadata": {},
     "output_type": "display_data"
    },
    {
     "data": {
      "application/vnd.jupyter.widget-view+json": {
       "model_id": "",
       "version_major": 2,
       "version_minor": 0
      },
      "text/plain": [
       "Minibatch:   0%|          | 0/4 [00:00<?, ?it/s]"
      ]
     },
     "metadata": {},
     "output_type": "display_data"
    },
    {
     "data": {
      "application/vnd.jupyter.widget-view+json": {
       "model_id": "",
       "version_major": 2,
       "version_minor": 0
      },
      "text/plain": [
       "Minibatch:   0%|          | 0/4 [00:00<?, ?it/s]"
      ]
     },
     "metadata": {},
     "output_type": "display_data"
    },
    {
     "data": {
      "application/vnd.jupyter.widget-view+json": {
       "model_id": "",
       "version_major": 2,
       "version_minor": 0
      },
      "text/plain": [
       "Minibatch:   0%|          | 0/4 [00:00<?, ?it/s]"
      ]
     },
     "metadata": {},
     "output_type": "display_data"
    },
    {
     "data": {
      "application/vnd.jupyter.widget-view+json": {
       "model_id": "",
       "version_major": 2,
       "version_minor": 0
      },
      "text/plain": [
       "Minibatch:   0%|          | 0/4 [00:00<?, ?it/s]"
      ]
     },
     "metadata": {},
     "output_type": "display_data"
    },
    {
     "data": {
      "application/vnd.jupyter.widget-view+json": {
       "model_id": "",
       "version_major": 2,
       "version_minor": 0
      },
      "text/plain": [
       "Minibatch:   0%|          | 0/4 [00:00<?, ?it/s]"
      ]
     },
     "metadata": {},
     "output_type": "display_data"
    },
    {
     "data": {
      "application/vnd.jupyter.widget-view+json": {
       "model_id": "",
       "version_major": 2,
       "version_minor": 0
      },
      "text/plain": [
       "Minibatch:   0%|          | 0/4 [00:00<?, ?it/s]"
      ]
     },
     "metadata": {},
     "output_type": "display_data"
    },
    {
     "data": {
      "application/vnd.jupyter.widget-view+json": {
       "model_id": "",
       "version_major": 2,
       "version_minor": 0
      },
      "text/plain": [
       "Minibatch:   0%|          | 0/4 [00:00<?, ?it/s]"
      ]
     },
     "metadata": {},
     "output_type": "display_data"
    },
    {
     "data": {
      "application/vnd.jupyter.widget-view+json": {
       "model_id": "",
       "version_major": 2,
       "version_minor": 0
      },
      "text/plain": [
       "Minibatch:   0%|          | 0/4 [00:00<?, ?it/s]"
      ]
     },
     "metadata": {},
     "output_type": "display_data"
    },
    {
     "data": {
      "application/vnd.jupyter.widget-view+json": {
       "model_id": "",
       "version_major": 2,
       "version_minor": 0
      },
      "text/plain": [
       "Minibatch:   0%|          | 0/4 [00:00<?, ?it/s]"
      ]
     },
     "metadata": {},
     "output_type": "display_data"
    },
    {
     "data": {
      "application/vnd.jupyter.widget-view+json": {
       "model_id": "",
       "version_major": 2,
       "version_minor": 0
      },
      "text/plain": [
       "Minibatch:   0%|          | 0/4 [00:00<?, ?it/s]"
      ]
     },
     "metadata": {},
     "output_type": "display_data"
    },
    {
     "data": {
      "application/vnd.jupyter.widget-view+json": {
       "model_id": "",
       "version_major": 2,
       "version_minor": 0
      },
      "text/plain": [
       "Minibatch:   0%|          | 0/4 [00:00<?, ?it/s]"
      ]
     },
     "metadata": {},
     "output_type": "display_data"
    },
    {
     "data": {
      "application/vnd.jupyter.widget-view+json": {
       "model_id": "",
       "version_major": 2,
       "version_minor": 0
      },
      "text/plain": [
       "Minibatch:   0%|          | 0/4 [00:00<?, ?it/s]"
      ]
     },
     "metadata": {},
     "output_type": "display_data"
    },
    {
     "data": {
      "application/vnd.jupyter.widget-view+json": {
       "model_id": "",
       "version_major": 2,
       "version_minor": 0
      },
      "text/plain": [
       "Minibatch:   0%|          | 0/4 [00:00<?, ?it/s]"
      ]
     },
     "metadata": {},
     "output_type": "display_data"
    },
    {
     "data": {
      "application/vnd.jupyter.widget-view+json": {
       "model_id": "",
       "version_major": 2,
       "version_minor": 0
      },
      "text/plain": [
       "Minibatch:   0%|          | 0/4 [00:00<?, ?it/s]"
      ]
     },
     "metadata": {},
     "output_type": "display_data"
    },
    {
     "data": {
      "application/vnd.jupyter.widget-view+json": {
       "model_id": "",
       "version_major": 2,
       "version_minor": 0
      },
      "text/plain": [
       "Minibatch:   0%|          | 0/4 [00:00<?, ?it/s]"
      ]
     },
     "metadata": {},
     "output_type": "display_data"
    },
    {
     "data": {
      "application/vnd.jupyter.widget-view+json": {
       "model_id": "",
       "version_major": 2,
       "version_minor": 0
      },
      "text/plain": [
       "Minibatch:   0%|          | 0/4 [00:00<?, ?it/s]"
      ]
     },
     "metadata": {},
     "output_type": "display_data"
    },
    {
     "data": {
      "application/vnd.jupyter.widget-view+json": {
       "model_id": "",
       "version_major": 2,
       "version_minor": 0
      },
      "text/plain": [
       "Minibatch:   0%|          | 0/4 [00:00<?, ?it/s]"
      ]
     },
     "metadata": {},
     "output_type": "display_data"
    },
    {
     "data": {
      "application/vnd.jupyter.widget-view+json": {
       "model_id": "",
       "version_major": 2,
       "version_minor": 0
      },
      "text/plain": [
       "Minibatch:   0%|          | 0/4 [00:00<?, ?it/s]"
      ]
     },
     "metadata": {},
     "output_type": "display_data"
    },
    {
     "data": {
      "application/vnd.jupyter.widget-view+json": {
       "model_id": "",
       "version_major": 2,
       "version_minor": 0
      },
      "text/plain": [
       "Minibatch:   0%|          | 0/4 [00:00<?, ?it/s]"
      ]
     },
     "metadata": {},
     "output_type": "display_data"
    },
    {
     "data": {
      "application/vnd.jupyter.widget-view+json": {
       "model_id": "",
       "version_major": 2,
       "version_minor": 0
      },
      "text/plain": [
       "Minibatch:   0%|          | 0/4 [00:00<?, ?it/s]"
      ]
     },
     "metadata": {},
     "output_type": "display_data"
    },
    {
     "data": {
      "application/vnd.jupyter.widget-view+json": {
       "model_id": "",
       "version_major": 2,
       "version_minor": 0
      },
      "text/plain": [
       "Minibatch:   0%|          | 0/4 [00:00<?, ?it/s]"
      ]
     },
     "metadata": {},
     "output_type": "display_data"
    },
    {
     "data": {
      "application/vnd.jupyter.widget-view+json": {
       "model_id": "",
       "version_major": 2,
       "version_minor": 0
      },
      "text/plain": [
       "Minibatch:   0%|          | 0/4 [00:00<?, ?it/s]"
      ]
     },
     "metadata": {},
     "output_type": "display_data"
    },
    {
     "data": {
      "application/vnd.jupyter.widget-view+json": {
       "model_id": "",
       "version_major": 2,
       "version_minor": 0
      },
      "text/plain": [
       "Minibatch:   0%|          | 0/4 [00:00<?, ?it/s]"
      ]
     },
     "metadata": {},
     "output_type": "display_data"
    },
    {
     "data": {
      "application/vnd.jupyter.widget-view+json": {
       "model_id": "",
       "version_major": 2,
       "version_minor": 0
      },
      "text/plain": [
       "Minibatch:   0%|          | 0/4 [00:00<?, ?it/s]"
      ]
     },
     "metadata": {},
     "output_type": "display_data"
    },
    {
     "data": {
      "application/vnd.jupyter.widget-view+json": {
       "model_id": "",
       "version_major": 2,
       "version_minor": 0
      },
      "text/plain": [
       "Minibatch:   0%|          | 0/4 [00:00<?, ?it/s]"
      ]
     },
     "metadata": {},
     "output_type": "display_data"
    },
    {
     "data": {
      "application/vnd.jupyter.widget-view+json": {
       "model_id": "",
       "version_major": 2,
       "version_minor": 0
      },
      "text/plain": [
       "Minibatch:   0%|          | 0/4 [00:00<?, ?it/s]"
      ]
     },
     "metadata": {},
     "output_type": "display_data"
    },
    {
     "data": {
      "application/vnd.jupyter.widget-view+json": {
       "model_id": "",
       "version_major": 2,
       "version_minor": 0
      },
      "text/plain": [
       "Minibatch:   0%|          | 0/4 [00:00<?, ?it/s]"
      ]
     },
     "metadata": {},
     "output_type": "display_data"
    },
    {
     "data": {
      "application/vnd.jupyter.widget-view+json": {
       "model_id": "",
       "version_major": 2,
       "version_minor": 0
      },
      "text/plain": [
       "Minibatch:   0%|          | 0/4 [00:00<?, ?it/s]"
      ]
     },
     "metadata": {},
     "output_type": "display_data"
    },
    {
     "data": {
      "application/vnd.jupyter.widget-view+json": {
       "model_id": "",
       "version_major": 2,
       "version_minor": 0
      },
      "text/plain": [
       "Minibatch:   0%|          | 0/4 [00:00<?, ?it/s]"
      ]
     },
     "metadata": {},
     "output_type": "display_data"
    },
    {
     "data": {
      "application/vnd.jupyter.widget-view+json": {
       "model_id": "",
       "version_major": 2,
       "version_minor": 0
      },
      "text/plain": [
       "Minibatch:   0%|          | 0/4 [00:00<?, ?it/s]"
      ]
     },
     "metadata": {},
     "output_type": "display_data"
    },
    {
     "data": {
      "application/vnd.jupyter.widget-view+json": {
       "model_id": "",
       "version_major": 2,
       "version_minor": 0
      },
      "text/plain": [
       "Minibatch:   0%|          | 0/4 [00:00<?, ?it/s]"
      ]
     },
     "metadata": {},
     "output_type": "display_data"
    },
    {
     "data": {
      "application/vnd.jupyter.widget-view+json": {
       "model_id": "",
       "version_major": 2,
       "version_minor": 0
      },
      "text/plain": [
       "Minibatch:   0%|          | 0/4 [00:00<?, ?it/s]"
      ]
     },
     "metadata": {},
     "output_type": "display_data"
    },
    {
     "data": {
      "application/vnd.jupyter.widget-view+json": {
       "model_id": "",
       "version_major": 2,
       "version_minor": 0
      },
      "text/plain": [
       "Minibatch:   0%|          | 0/4 [00:00<?, ?it/s]"
      ]
     },
     "metadata": {},
     "output_type": "display_data"
    },
    {
     "data": {
      "application/vnd.jupyter.widget-view+json": {
       "model_id": "",
       "version_major": 2,
       "version_minor": 0
      },
      "text/plain": [
       "Minibatch:   0%|          | 0/4 [00:00<?, ?it/s]"
      ]
     },
     "metadata": {},
     "output_type": "display_data"
    },
    {
     "data": {
      "application/vnd.jupyter.widget-view+json": {
       "model_id": "",
       "version_major": 2,
       "version_minor": 0
      },
      "text/plain": [
       "Minibatch:   0%|          | 0/4 [00:00<?, ?it/s]"
      ]
     },
     "metadata": {},
     "output_type": "display_data"
    },
    {
     "data": {
      "application/vnd.jupyter.widget-view+json": {
       "model_id": "",
       "version_major": 2,
       "version_minor": 0
      },
      "text/plain": [
       "Minibatch:   0%|          | 0/4 [00:00<?, ?it/s]"
      ]
     },
     "metadata": {},
     "output_type": "display_data"
    },
    {
     "data": {
      "application/vnd.jupyter.widget-view+json": {
       "model_id": "",
       "version_major": 2,
       "version_minor": 0
      },
      "text/plain": [
       "Minibatch:   0%|          | 0/4 [00:00<?, ?it/s]"
      ]
     },
     "metadata": {},
     "output_type": "display_data"
    },
    {
     "data": {
      "application/vnd.jupyter.widget-view+json": {
       "model_id": "",
       "version_major": 2,
       "version_minor": 0
      },
      "text/plain": [
       "Minibatch:   0%|          | 0/4 [00:00<?, ?it/s]"
      ]
     },
     "metadata": {},
     "output_type": "display_data"
    },
    {
     "data": {
      "application/vnd.jupyter.widget-view+json": {
       "model_id": "",
       "version_major": 2,
       "version_minor": 0
      },
      "text/plain": [
       "Minibatch:   0%|          | 0/4 [00:00<?, ?it/s]"
      ]
     },
     "metadata": {},
     "output_type": "display_data"
    },
    {
     "data": {
      "application/vnd.jupyter.widget-view+json": {
       "model_id": "",
       "version_major": 2,
       "version_minor": 0
      },
      "text/plain": [
       "Minibatch:   0%|          | 0/4 [00:00<?, ?it/s]"
      ]
     },
     "metadata": {},
     "output_type": "display_data"
    },
    {
     "data": {
      "application/vnd.jupyter.widget-view+json": {
       "model_id": "",
       "version_major": 2,
       "version_minor": 0
      },
      "text/plain": [
       "Minibatch:   0%|          | 0/4 [00:00<?, ?it/s]"
      ]
     },
     "metadata": {},
     "output_type": "display_data"
    },
    {
     "data": {
      "application/vnd.jupyter.widget-view+json": {
       "model_id": "",
       "version_major": 2,
       "version_minor": 0
      },
      "text/plain": [
       "Minibatch:   0%|          | 0/4 [00:00<?, ?it/s]"
      ]
     },
     "metadata": {},
     "output_type": "display_data"
    },
    {
     "data": {
      "application/vnd.jupyter.widget-view+json": {
       "model_id": "",
       "version_major": 2,
       "version_minor": 0
      },
      "text/plain": [
       "Minibatch:   0%|          | 0/4 [00:00<?, ?it/s]"
      ]
     },
     "metadata": {},
     "output_type": "display_data"
    },
    {
     "data": {
      "application/vnd.jupyter.widget-view+json": {
       "model_id": "",
       "version_major": 2,
       "version_minor": 0
      },
      "text/plain": [
       "Minibatch:   0%|          | 0/4 [00:00<?, ?it/s]"
      ]
     },
     "metadata": {},
     "output_type": "display_data"
    },
    {
     "data": {
      "application/vnd.jupyter.widget-view+json": {
       "model_id": "",
       "version_major": 2,
       "version_minor": 0
      },
      "text/plain": [
       "Minibatch:   0%|          | 0/4 [00:00<?, ?it/s]"
      ]
     },
     "metadata": {},
     "output_type": "display_data"
    },
    {
     "data": {
      "application/vnd.jupyter.widget-view+json": {
       "model_id": "",
       "version_major": 2,
       "version_minor": 0
      },
      "text/plain": [
       "Minibatch:   0%|          | 0/4 [00:00<?, ?it/s]"
      ]
     },
     "metadata": {},
     "output_type": "display_data"
    },
    {
     "data": {
      "application/vnd.jupyter.widget-view+json": {
       "model_id": "",
       "version_major": 2,
       "version_minor": 0
      },
      "text/plain": [
       "Minibatch:   0%|          | 0/4 [00:00<?, ?it/s]"
      ]
     },
     "metadata": {},
     "output_type": "display_data"
    },
    {
     "data": {
      "application/vnd.jupyter.widget-view+json": {
       "model_id": "",
       "version_major": 2,
       "version_minor": 0
      },
      "text/plain": [
       "Minibatch:   0%|          | 0/4 [00:00<?, ?it/s]"
      ]
     },
     "metadata": {},
     "output_type": "display_data"
    },
    {
     "data": {
      "application/vnd.jupyter.widget-view+json": {
       "model_id": "",
       "version_major": 2,
       "version_minor": 0
      },
      "text/plain": [
       "Minibatch:   0%|          | 0/4 [00:00<?, ?it/s]"
      ]
     },
     "metadata": {},
     "output_type": "display_data"
    },
    {
     "data": {
      "application/vnd.jupyter.widget-view+json": {
       "model_id": "",
       "version_major": 2,
       "version_minor": 0
      },
      "text/plain": [
       "Minibatch:   0%|          | 0/4 [00:00<?, ?it/s]"
      ]
     },
     "metadata": {},
     "output_type": "display_data"
    },
    {
     "data": {
      "application/vnd.jupyter.widget-view+json": {
       "model_id": "",
       "version_major": 2,
       "version_minor": 0
      },
      "text/plain": [
       "Minibatch:   0%|          | 0/4 [00:00<?, ?it/s]"
      ]
     },
     "metadata": {},
     "output_type": "display_data"
    },
    {
     "data": {
      "application/vnd.jupyter.widget-view+json": {
       "model_id": "",
       "version_major": 2,
       "version_minor": 0
      },
      "text/plain": [
       "Minibatch:   0%|          | 0/4 [00:00<?, ?it/s]"
      ]
     },
     "metadata": {},
     "output_type": "display_data"
    },
    {
     "data": {
      "application/vnd.jupyter.widget-view+json": {
       "model_id": "",
       "version_major": 2,
       "version_minor": 0
      },
      "text/plain": [
       "Minibatch:   0%|          | 0/4 [00:00<?, ?it/s]"
      ]
     },
     "metadata": {},
     "output_type": "display_data"
    },
    {
     "data": {
      "application/vnd.jupyter.widget-view+json": {
       "model_id": "",
       "version_major": 2,
       "version_minor": 0
      },
      "text/plain": [
       "Minibatch:   0%|          | 0/4 [00:00<?, ?it/s]"
      ]
     },
     "metadata": {},
     "output_type": "display_data"
    },
    {
     "data": {
      "application/vnd.jupyter.widget-view+json": {
       "model_id": "",
       "version_major": 2,
       "version_minor": 0
      },
      "text/plain": [
       "Minibatch:   0%|          | 0/4 [00:00<?, ?it/s]"
      ]
     },
     "metadata": {},
     "output_type": "display_data"
    },
    {
     "data": {
      "application/vnd.jupyter.widget-view+json": {
       "model_id": "",
       "version_major": 2,
       "version_minor": 0
      },
      "text/plain": [
       "Minibatch:   0%|          | 0/4 [00:00<?, ?it/s]"
      ]
     },
     "metadata": {},
     "output_type": "display_data"
    },
    {
     "data": {
      "application/vnd.jupyter.widget-view+json": {
       "model_id": "",
       "version_major": 2,
       "version_minor": 0
      },
      "text/plain": [
       "Minibatch:   0%|          | 0/4 [00:00<?, ?it/s]"
      ]
     },
     "metadata": {},
     "output_type": "display_data"
    },
    {
     "data": {
      "application/vnd.jupyter.widget-view+json": {
       "model_id": "",
       "version_major": 2,
       "version_minor": 0
      },
      "text/plain": [
       "Minibatch:   0%|          | 0/4 [00:00<?, ?it/s]"
      ]
     },
     "metadata": {},
     "output_type": "display_data"
    },
    {
     "data": {
      "application/vnd.jupyter.widget-view+json": {
       "model_id": "",
       "version_major": 2,
       "version_minor": 0
      },
      "text/plain": [
       "Minibatch:   0%|          | 0/4 [00:00<?, ?it/s]"
      ]
     },
     "metadata": {},
     "output_type": "display_data"
    },
    {
     "data": {
      "application/vnd.jupyter.widget-view+json": {
       "model_id": "",
       "version_major": 2,
       "version_minor": 0
      },
      "text/plain": [
       "Minibatch:   0%|          | 0/4 [00:00<?, ?it/s]"
      ]
     },
     "metadata": {},
     "output_type": "display_data"
    },
    {
     "data": {
      "application/vnd.jupyter.widget-view+json": {
       "model_id": "",
       "version_major": 2,
       "version_minor": 0
      },
      "text/plain": [
       "Minibatch:   0%|          | 0/4 [00:00<?, ?it/s]"
      ]
     },
     "metadata": {},
     "output_type": "display_data"
    },
    {
     "data": {
      "application/vnd.jupyter.widget-view+json": {
       "model_id": "",
       "version_major": 2,
       "version_minor": 0
      },
      "text/plain": [
       "Minibatch:   0%|          | 0/4 [00:00<?, ?it/s]"
      ]
     },
     "metadata": {},
     "output_type": "display_data"
    },
    {
     "data": {
      "application/vnd.jupyter.widget-view+json": {
       "model_id": "",
       "version_major": 2,
       "version_minor": 0
      },
      "text/plain": [
       "Minibatch:   0%|          | 0/4 [00:00<?, ?it/s]"
      ]
     },
     "metadata": {},
     "output_type": "display_data"
    },
    {
     "data": {
      "application/vnd.jupyter.widget-view+json": {
       "model_id": "",
       "version_major": 2,
       "version_minor": 0
      },
      "text/plain": [
       "Minibatch:   0%|          | 0/4 [00:00<?, ?it/s]"
      ]
     },
     "metadata": {},
     "output_type": "display_data"
    },
    {
     "data": {
      "application/vnd.jupyter.widget-view+json": {
       "model_id": "",
       "version_major": 2,
       "version_minor": 0
      },
      "text/plain": [
       "Minibatch:   0%|          | 0/4 [00:00<?, ?it/s]"
      ]
     },
     "metadata": {},
     "output_type": "display_data"
    },
    {
     "data": {
      "application/vnd.jupyter.widget-view+json": {
       "model_id": "",
       "version_major": 2,
       "version_minor": 0
      },
      "text/plain": [
       "Minibatch:   0%|          | 0/4 [00:00<?, ?it/s]"
      ]
     },
     "metadata": {},
     "output_type": "display_data"
    },
    {
     "data": {
      "application/vnd.jupyter.widget-view+json": {
       "model_id": "",
       "version_major": 2,
       "version_minor": 0
      },
      "text/plain": [
       "Minibatch:   0%|          | 0/4 [00:00<?, ?it/s]"
      ]
     },
     "metadata": {},
     "output_type": "display_data"
    },
    {
     "data": {
      "application/vnd.jupyter.widget-view+json": {
       "model_id": "",
       "version_major": 2,
       "version_minor": 0
      },
      "text/plain": [
       "Minibatch:   0%|          | 0/4 [00:00<?, ?it/s]"
      ]
     },
     "metadata": {},
     "output_type": "display_data"
    },
    {
     "data": {
      "application/vnd.jupyter.widget-view+json": {
       "model_id": "",
       "version_major": 2,
       "version_minor": 0
      },
      "text/plain": [
       "Minibatch:   0%|          | 0/4 [00:00<?, ?it/s]"
      ]
     },
     "metadata": {},
     "output_type": "display_data"
    },
    {
     "data": {
      "application/vnd.jupyter.widget-view+json": {
       "model_id": "",
       "version_major": 2,
       "version_minor": 0
      },
      "text/plain": [
       "Minibatch:   0%|          | 0/4 [00:00<?, ?it/s]"
      ]
     },
     "metadata": {},
     "output_type": "display_data"
    },
    {
     "data": {
      "application/vnd.jupyter.widget-view+json": {
       "model_id": "",
       "version_major": 2,
       "version_minor": 0
      },
      "text/plain": [
       "Minibatch:   0%|          | 0/4 [00:00<?, ?it/s]"
      ]
     },
     "metadata": {},
     "output_type": "display_data"
    },
    {
     "data": {
      "application/vnd.jupyter.widget-view+json": {
       "model_id": "",
       "version_major": 2,
       "version_minor": 0
      },
      "text/plain": [
       "Minibatch:   0%|          | 0/4 [00:00<?, ?it/s]"
      ]
     },
     "metadata": {},
     "output_type": "display_data"
    },
    {
     "data": {
      "application/vnd.jupyter.widget-view+json": {
       "model_id": "",
       "version_major": 2,
       "version_minor": 0
      },
      "text/plain": [
       "Minibatch:   0%|          | 0/4 [00:00<?, ?it/s]"
      ]
     },
     "metadata": {},
     "output_type": "display_data"
    },
    {
     "data": {
      "application/vnd.jupyter.widget-view+json": {
       "model_id": "",
       "version_major": 2,
       "version_minor": 0
      },
      "text/plain": [
       "Minibatch:   0%|          | 0/4 [00:00<?, ?it/s]"
      ]
     },
     "metadata": {},
     "output_type": "display_data"
    },
    {
     "data": {
      "application/vnd.jupyter.widget-view+json": {
       "model_id": "",
       "version_major": 2,
       "version_minor": 0
      },
      "text/plain": [
       "Minibatch:   0%|          | 0/4 [00:00<?, ?it/s]"
      ]
     },
     "metadata": {},
     "output_type": "display_data"
    },
    {
     "data": {
      "application/vnd.jupyter.widget-view+json": {
       "model_id": "",
       "version_major": 2,
       "version_minor": 0
      },
      "text/plain": [
       "Minibatch:   0%|          | 0/4 [00:00<?, ?it/s]"
      ]
     },
     "metadata": {},
     "output_type": "display_data"
    },
    {
     "data": {
      "application/vnd.jupyter.widget-view+json": {
       "model_id": "",
       "version_major": 2,
       "version_minor": 0
      },
      "text/plain": [
       "Minibatch:   0%|          | 0/4 [00:00<?, ?it/s]"
      ]
     },
     "metadata": {},
     "output_type": "display_data"
    },
    {
     "data": {
      "application/vnd.jupyter.widget-view+json": {
       "model_id": "",
       "version_major": 2,
       "version_minor": 0
      },
      "text/plain": [
       "Minibatch:   0%|          | 0/4 [00:00<?, ?it/s]"
      ]
     },
     "metadata": {},
     "output_type": "display_data"
    }
   ],
   "source": [
    "from tqdm.autonotebook import tqdm\n",
    "# Begin training\n",
    "with gpytorch.settings.fast_computations(covar_root_decomposition=False, log_prob=False, solves=False), gpytorch.settings.debug(state=False):\n",
    "    epochs_iter = tqdm(range(num_epochs),desc=\"Epoch\")\n",
    "    for i in epochs_iter:\n",
    "        # Within each iteration, we will go over each minibatch of data\n",
    "        minibatch_iter = tqdm(train_loader, desc=\"Minibatch\", leave=False)\n",
    "        for x_batch, y_batch, y_noise_batch, task_batch in minibatch_iter:\n",
    "            # Zero gradients\n",
    "            hyperparameter_optimizer.zero_grad()\n",
    "            if variational_ngd_optimizer is not None:\n",
    "                variational_ngd_optimizer.zero_grad()\n",
    "    \n",
    "            # Get outputs\n",
    "            output = model(x_batch,task_indices=task_batch)\n",
    "            \n",
    "    \n",
    "            # Compute loss\n",
    "            if isinstance(likelihood, gpytorch.likelihoods.FixedNoiseGaussianLikelihood):\n",
    "                loss = -mll(output, y_batch, noise=(y_noise_batch+0.01))\n",
    "            else:\n",
    "                loss = -mll(output, y_batch)\n",
    "            # Call backward on loss\n",
    "            loss.backward()\n",
    "            # Take a step\n",
    "            hyperparameter_optimizer.step()\n",
    "            if variational_ngd_optimizer is not None:\n",
    "                variational_ngd_optimizer.step()\n",
    "    \n",
    "            # Update counter\n",
    "            minibatch_iter.set_postfix(loss=loss.item(),drug1_lengthscale = model.covar_module.base_kernel.lengthscale[0][2].item())\n",
    "    \n",
    "            # Track loss\n",
    "            train_loss.append(loss.item())\n",
    "    \n",
    "        # Step learning rate scheduler\n",
    "        scheduler_hypers.step()\n",
    "        if scheduler_variational is not None:\n",
    "            scheduler_variational.step()"
   ]
  },
  {
   "cell_type": "code",
   "execution_count": 431,
   "id": "aafbcdf6-e428-4bfd-8816-81ccba14e35e",
   "metadata": {},
   "outputs": [
    {
     "data": {
      "text/plain": [
       "tensor([[0.3278, 0.3278, 4.3123, 3.2260, 2.6736, 2.4603, 2.9276, 3.9157, 2.5560,\n",
       "         5.5297, 2.9988, 2.5882, 6.2686, 3.1836, 3.1349, 3.2010, 4.0596, 3.2352,\n",
       "         3.1765, 2.6713, 5.0791, 3.6905, 2.1766, 4.8370, 1.2798, 3.5768, 3.5727,\n",
       "         1.7800, 3.0340, 3.0093, 4.0914, 3.3627, 2.8279, 3.1208, 3.3111, 4.6096,\n",
       "         2.3167, 2.1251, 2.4554, 2.9041, 2.7429, 3.5168, 2.3078, 3.4514, 3.2777,\n",
       "         2.7910, 3.5833, 1.7619, 2.5396, 3.1725, 3.7984, 3.2655, 2.9213, 4.6029,\n",
       "         3.2290, 2.5670, 2.4277, 3.4013, 2.8624, 3.4936, 5.1867, 4.3270, 1.2715,\n",
       "         4.4116, 2.2598, 3.5364, 3.4415, 2.0678, 3.2622, 2.7444, 4.3211, 3.3926,\n",
       "         3.9292, 3.2079, 3.0110, 2.0425, 3.0676, 3.2440, 2.2454, 2.7250, 2.7896,\n",
       "         4.2207, 2.7694, 2.3356, 3.2514, 1.2494, 2.7268, 3.3791, 3.4333, 4.1440,\n",
       "         3.4172, 3.7002, 3.2104, 3.5510, 4.4007, 2.4629, 2.0730, 3.2617, 4.4094,\n",
       "         3.4291, 3.1265, 3.9765, 2.3030, 3.6744, 3.6535, 2.6131, 2.5862, 2.0865,\n",
       "         1.4636, 3.3556, 2.6622, 2.7024, 2.6083, 2.9048, 2.8755, 2.8472, 2.7091,\n",
       "         2.2054, 3.5021, 3.7242, 5.0983, 4.2838, 2.9796, 3.2683, 3.1556, 3.7741,\n",
       "         3.4631, 3.4926, 2.8711, 2.5627, 3.6315, 3.1233, 3.2750, 3.4768, 2.9583,\n",
       "         1.9547, 4.1617, 3.4742, 4.1643, 2.9276, 2.7925, 3.1731, 2.9734, 5.3979,\n",
       "         3.4594, 2.9194, 2.6892, 4.7688, 2.8551, 3.1413, 2.8046, 3.2634, 3.7120,\n",
       "         4.0834, 3.5154, 3.2763, 3.5173, 2.2775, 3.7943, 3.1571, 2.7248, 4.1808,\n",
       "         3.0833, 1.3829, 3.7720, 3.0050, 2.7734, 4.0045, 3.4240, 3.6734, 3.5565,\n",
       "         2.6543, 3.8623, 3.2670, 4.8706, 4.0352, 3.1552, 4.9987, 2.2848, 3.4356,\n",
       "         3.8553, 4.1058, 1.6177, 3.2172, 2.3281, 3.5504, 2.6654, 2.8846, 2.9162,\n",
       "         5.1389, 2.7163, 4.2741, 4.4469, 3.0470, 3.3455, 1.4191, 3.1585, 4.7817,\n",
       "         2.8515, 4.8377, 2.7152, 1.5492, 3.4084, 3.4230, 2.6505, 3.3712, 0.6880,\n",
       "         3.1498, 3.1843, 3.7705, 2.1818, 4.1783, 2.8087, 2.2524, 3.2149, 2.8214,\n",
       "         2.3701, 4.6707, 2.6481, 3.9637, 3.0894, 2.5406, 2.9200, 3.2757, 3.5682,\n",
       "         2.6610, 4.4582, 4.9345, 2.1487, 2.2491, 3.7225, 3.8155, 4.1360, 3.1089,\n",
       "         3.1095, 3.2212, 3.3849, 2.6364, 2.5527, 2.9828, 2.8379, 2.6900, 3.1942,\n",
       "         2.0822, 2.8104, 2.6793, 3.3634, 3.5544, 4.4448, 2.7602, 2.7474, 4.8446,\n",
       "         2.9232, 2.2582, 3.6419, 3.3264, 3.4761, 2.5408, 4.3123, 3.2260, 2.6736,\n",
       "         2.4603, 2.9276, 3.9157, 2.5560, 5.5297, 2.9988, 2.5882, 6.2686, 3.1836,\n",
       "         3.1349, 3.2010, 4.0596, 3.2352, 3.1765, 2.6713, 5.0791, 3.6905, 2.1766,\n",
       "         4.8370, 1.2798, 3.5768, 3.5727, 1.7800, 3.0340, 3.0093, 4.0914, 3.3627,\n",
       "         2.8279, 3.1208, 3.3111, 4.6096, 2.3167, 2.1251, 2.4554, 2.9041, 2.7429,\n",
       "         3.5168, 2.3078, 3.4514, 3.2777, 2.7910, 3.5833, 1.7619, 2.5396, 3.1725,\n",
       "         3.7984, 3.2655, 2.9213, 4.6029, 3.2290, 2.5670, 2.4277, 3.4013, 2.8624,\n",
       "         3.4936, 5.1867, 4.3270, 1.2715, 4.4116, 2.2598, 3.5364, 3.4415, 2.0678,\n",
       "         3.2622, 2.7444, 4.3211, 3.3926, 3.9292, 3.2079, 3.0110, 2.0425, 3.0676,\n",
       "         3.2440, 2.2454, 2.7250, 2.7896, 4.2207, 2.7694, 2.3356, 3.2514, 1.2494,\n",
       "         2.7268, 3.3791, 3.4333, 4.1440, 3.4172, 3.7002, 3.2104, 3.5510, 4.4007,\n",
       "         2.4629, 2.0730, 3.2617, 4.4094, 3.4291, 3.1265, 3.9765, 2.3030, 3.6744,\n",
       "         3.6535, 2.6131, 2.5862, 2.0865, 1.4636, 3.3556, 2.6622, 2.7024, 2.6083,\n",
       "         2.9048, 2.8755, 2.8472, 2.7091, 2.2054, 3.5021, 3.7242, 5.0983, 4.2838,\n",
       "         2.9796, 3.2683, 3.1556, 3.7741, 3.4631, 3.4926, 2.8711, 2.5627, 3.6315,\n",
       "         3.1233, 3.2750, 3.4768, 2.9583, 1.9547, 4.1617, 3.4742, 4.1643, 2.9276,\n",
       "         2.7925, 3.1731, 2.9734, 5.3979, 3.4594, 2.9194, 2.6892, 4.7688, 2.8551,\n",
       "         3.1413, 2.8046, 3.2634, 3.7120, 4.0834, 3.5154, 3.2763, 3.5173, 2.2775,\n",
       "         3.7943, 3.1571, 2.7248, 4.1808, 3.0833, 1.3829, 3.7720, 3.0050, 2.7734,\n",
       "         4.0045, 3.4240, 3.6734, 3.5565, 2.6543, 3.8623, 3.2670, 4.8706, 4.0352,\n",
       "         3.1552, 4.9987, 2.2848, 3.4356, 3.8553, 4.1058, 1.6177, 3.2172, 2.3281,\n",
       "         3.5504, 2.6654, 2.8846, 2.9162, 5.1389, 2.7163, 4.2741, 4.4469, 3.0470,\n",
       "         3.3455, 1.4191, 3.1585, 4.7817, 2.8515, 4.8377, 2.7152, 1.5492, 3.4084,\n",
       "         3.4230, 2.6505, 3.3712, 0.6880, 3.1498, 3.1843, 3.7705, 2.1818, 4.1783,\n",
       "         2.8087, 2.2524, 3.2149, 2.8214, 2.3701, 4.6707, 2.6481, 3.9637, 3.0894,\n",
       "         2.5406, 2.9200, 3.2757, 3.5682, 2.6610, 4.4582, 4.9345, 2.1487, 2.2491,\n",
       "         3.7225, 3.8155, 4.1360, 3.1089, 3.1095, 3.2212, 3.3849, 2.6364, 2.5527,\n",
       "         2.9828, 2.8379, 2.6900, 3.1942, 2.0822, 2.8104, 2.6793, 3.3634, 3.5544,\n",
       "         4.4448, 2.7602, 2.7474, 4.8446, 2.9232, 2.2582, 3.6419, 3.3264, 3.4761,\n",
       "         2.5408]], grad_fn=<AddBackward0>)"
      ]
     },
     "execution_count": 431,
     "metadata": {},
     "output_type": "execute_result"
    }
   ],
   "source": [
    "model.covar_module.base_kernel.lengthscale"
   ]
  },
  {
   "cell_type": "code",
   "execution_count": 432,
   "id": "d65cc6e1-a9d7-4ef0-b45d-ca9192215425",
   "metadata": {},
   "outputs": [
    {
     "data": {
      "text/plain": [
       "tensor([0.0047], grad_fn=<AddBackward0>)"
      ]
     },
     "execution_count": 432,
     "metadata": {},
     "output_type": "execute_result"
    }
   ],
   "source": [
    "likelihood.noise"
   ]
  },
  {
   "cell_type": "code",
   "execution_count": 433,
   "id": "b6c9e97a-1754-491b-acb9-86b55c78e69a",
   "metadata": {},
   "outputs": [
    {
     "data": {
      "text/plain": [
       "[<matplotlib.lines.Line2D at 0x1e8bae8a0>]"
      ]
     },
     "execution_count": 433,
     "metadata": {},
     "output_type": "execute_result"
    },
    {
     "data": {
      "image/png": "[encoded data removed]",
      "text/plain": [
       "<Figure size 640x480 with 1 Axes>"
      ]
     },
     "metadata": {},
     "output_type": "display_data"
    }
   ],
   "source": [
    "from matplotlib import pyplot as plt\n",
    "import numpy as np\n",
    "plt.plot(np.log(1.6+torch.tensor(train_loss)))"
   ]
  },
  {
   "cell_type": "code",
   "execution_count": 434,
   "id": "89909e85-4f75-4e06-9d61-8e6ab927fc5a",
   "metadata": {},
   "outputs": [
    {
     "data": {
      "text/plain": [
       "tensor([[ 0.0000,  0.0000, -0.5473,  ...,  0.3296, -1.5032, -0.0834],\n",
       "        [ 0.0000,  0.1111, -0.5473,  ...,  0.3296, -1.5032, -0.0834],\n",
       "        [ 0.0000,  0.2222, -0.5473,  ...,  0.3296, -1.5032, -0.0834],\n",
       "        ...,\n",
       "        [ 1.0000,  0.7778, -0.5972,  ..., -0.7600, -1.8868, -0.4474],\n",
       "        [ 1.0000,  0.8889, -0.5972,  ..., -0.7600, -1.8868, -0.4474],\n",
       "        [ 1.0000,  1.0000, -0.5972,  ..., -0.7600, -1.8868, -0.4474]])"
      ]
     },
     "execution_count": 434,
     "metadata": {},
     "output_type": "execute_result"
    }
   ],
   "source": [
    "X_test"
   ]
  },
  {
   "cell_type": "code",
   "execution_count": 435,
   "id": "69855aeb-9de0-450c-ad5b-c58553027d25",
   "metadata": {},
   "outputs": [
    {
     "data": {
      "text/plain": [
       "tensor([[ 0.0000,  0.0000, -0.5473,  ..., -0.0341, -2.1013,  0.1160],\n",
       "        [ 0.0000,  0.1111, -0.5473,  ..., -0.0341, -2.1013,  0.1160],\n",
       "        [ 0.0000,  0.2222, -0.5473,  ..., -0.0341, -2.1013,  0.1160],\n",
       "        ...,\n",
       "        [ 1.0000,  0.7778,  0.6334,  ..., -0.2326, -1.5715, -0.0110],\n",
       "        [ 1.0000,  0.8889,  0.6334,  ..., -0.2326, -1.5715, -0.0110],\n",
       "        [ 1.0000,  1.0000,  0.6334,  ..., -0.2326, -1.5715, -0.0110]])"
      ]
     },
     "execution_count": 435,
     "metadata": {},
     "output_type": "execute_result"
    }
   ],
   "source": [
    "X_train"
   ]
  },
  {
   "cell_type": "code",
   "execution_count": 459,
   "id": "79a76ebd-149f-4935-a38a-548c71d1d70f",
   "metadata": {},
   "outputs": [],
   "source": [
    "X_test[0:100,] = X_train[0:100,]"
   ]
  },
  {
   "cell_type": "code",
   "execution_count": 460,
   "id": "cd39a280-e8c5-48ae-849f-cf7e3883e026",
   "metadata": {},
   "outputs": [
    {
     "name": "stdout",
     "output_type": "stream",
     "text": [
      "Predicting at test inputs\n"
     ]
    },
    {
     "data": {
      "application/vnd.jupyter.widget-view+json": {
       "model_id": "",
       "version_major": 2,
       "version_minor": 0
      },
      "text/plain": [
       "Minibatch:   0%|          | 0/1 [00:00<?, ?it/s]"
      ]
     },
     "metadata": {},
     "output_type": "display_data"
    }
   ],
   "source": [
    "#test_dataset = TensorDataset(X_train, train_indices)\n",
    "test_dataset = TensorDataset(X_test, test_indices)\n",
    "test_loader = DataLoader(test_dataset, batch_size=256)\n",
    "\n",
    "# Set into eval mode\n",
    "model.eval()\n",
    "likelihood.eval()\n",
    "yhat = []\n",
    "yvar = []\n",
    "print(\"Predicting at test inputs\")\n",
    "with torch.no_grad(), gpytorch.settings.cholesky_max_tries(12):\n",
    "    minibatch_iter = tqdm(test_loader,desc=\"Minibatch\", leave=False)\n",
    "    for x_batch, task_batch in minibatch_iter:\n",
    "        predictions = (model(x_batch, task_indices=task_batch))\n",
    "        mean = predictions.mean\n",
    "        var = predictions.variance\n",
    "        yhat.append(mean)\n",
    "        yvar.append(var)\n",
    "        \n",
    "\n",
    "yhat_vector = torch.cat(yhat, 0)\n",
    "yvar_vector = torch.cat(yvar,0)"
   ]
  },
  {
   "cell_type": "code",
   "execution_count": 461,
   "id": "8e00f696-1134-475e-a624-fe2e00f9761f",
   "metadata": {},
   "outputs": [
    {
     "data": {
      "text/plain": [
       "tensor([[ 0.0000,  0.0000, -0.5473,  ..., -0.0341, -2.1013,  0.1160],\n",
       "        [ 0.0000,  0.1111, -0.5473,  ..., -0.0341, -2.1013,  0.1160],\n",
       "        [ 0.0000,  0.2222, -0.5473,  ..., -0.0341, -2.1013,  0.1160],\n",
       "        ...,\n",
       "        [ 1.0000,  0.7778, -0.5972,  ..., -0.7600, -1.8868, -0.4474],\n",
       "        [ 1.0000,  0.8889, -0.5972,  ..., -0.7600, -1.8868, -0.4474],\n",
       "        [ 1.0000,  1.0000, -0.5972,  ..., -0.7600, -1.8868, -0.4474]])"
      ]
     },
     "execution_count": 461,
     "metadata": {},
     "output_type": "execute_result"
    }
   ],
   "source": [
    "x_batch"
   ]
  },
  {
   "cell_type": "code",
   "execution_count": 463,
   "id": "dd5fa979-78c2-43d6-b208-6bda4d918ae4",
   "metadata": {},
   "outputs": [
    {
     "data": {
      "text/plain": [
       "tensor([0.9842, 0.9773, 0.9878, 1.0190, 1.0170, 0.9047, 0.6547, 0.3370, 0.0872,\n",
       "        0.0137, 1.0080, 0.9856, 0.9896, 1.0287, 1.0418, 0.9364, 0.6759, 0.3373,\n",
       "        0.0740, 0.0080, 1.0102, 0.9769, 0.9768, 1.0223, 1.0468, 0.9470, 0.6810,\n",
       "        0.3318, 0.0654, 0.0110, 1.0067, 0.9707, 0.9696, 1.0167, 1.0419, 0.9385,\n",
       "        0.6657, 0.3131, 0.0531, 0.0141, 1.0007, 0.9697, 0.9698, 1.0122, 1.0267,\n",
       "        0.9102, 0.6297, 0.2809, 0.0357, 0.0152, 0.9800, 0.9572, 0.9594, 0.9935,\n",
       "        0.9921, 0.8617, 0.5791, 0.2433, 0.0190, 0.0153, 0.9285, 0.9120, 0.9155,\n",
       "        0.9424, 0.9299, 0.7955, 0.5243, 0.2120, 0.0101, 0.0147, 0.8408, 0.8256,\n",
       "        0.8290, 0.8524, 0.8392, 0.7169, 0.4734, 0.1940, 0.0123, 0.0129, 0.7283,\n",
       "        0.7097, 0.7113, 0.7340, 0.7289, 0.6318, 0.4290, 0.1894, 0.0258, 0.0131,\n",
       "        0.6128, 0.5891, 0.5871, 0.6089, 0.6139, 0.5465, 0.3897, 0.1942, 0.0503,\n",
       "        0.0232, 0.4273, 0.4275, 0.4278, 0.4290, 0.4287, 0.4221, 0.4066, 0.3852,\n",
       "        0.3655, 0.3549, 0.4280, 0.4273, 0.4271, 0.4289, 0.4298, 0.4240, 0.4078,\n",
       "        0.3844, 0.3629, 0.3519, 0.4287, 0.4277, 0.4270, 0.4286, 0.4300, 0.4245,\n",
       "        0.4081, 0.3840, 0.3618, 0.3512, 0.4285, 0.4278, 0.4267, 0.4276, 0.4284,\n",
       "        0.4230, 0.4070, 0.3835, 0.3620, 0.3521, 0.4238, 0.4238, 0.4225, 0.4224,\n",
       "        0.4223, 0.4170, 0.4026, 0.3814, 0.3620, 0.3533, 0.4120, 0.4125, 0.4109,\n",
       "        0.4101, 0.4094, 0.4050, 0.3933, 0.3760, 0.3600, 0.3531, 0.3946, 0.3947,\n",
       "        0.3930, 0.3918, 0.3911, 0.3882, 0.3801, 0.3675, 0.3558, 0.3510, 0.3770,\n",
       "        0.3764, 0.3746, 0.3734, 0.3731, 0.3717, 0.3669, 0.3587, 0.3509, 0.3481,\n",
       "        0.3657, 0.3648, 0.3633, 0.3623, 0.3621, 0.3615, 0.3585, 0.3532, 0.3480,\n",
       "        0.3465, 0.3637, 0.3633, 0.3625, 0.3618, 0.3613, 0.3602, 0.3575, 0.3531,\n",
       "        0.3491, 0.3479])"
      ]
     },
     "execution_count": 463,
     "metadata": {},
     "output_type": "execute_result"
    }
   ],
   "source": [
    "yhat_vector"
   ]
  },
  {
   "cell_type": "code",
   "execution_count": 464,
   "id": "65e6b5a1-0ada-4927-8ba3-b373d7090179",
   "metadata": {},
   "outputs": [
    {
     "data": {
      "text/plain": [
       "Parameter containing:\n",
       "tensor([[-4.5227e-01],\n",
       "        [-3.6562e-04]], requires_grad=True)"
      ]
     },
     "execution_count": 464,
     "metadata": {},
     "output_type": "execute_result"
    }
   ],
   "source": [
    "model.variational_strategy.lmc_coefficients"
   ]
  },
  {
   "cell_type": "code",
   "execution_count": 465,
   "id": "faf2fd46-867c-40ee-80b1-6747d8d1ad4c",
   "metadata": {},
   "outputs": [
    {
     "data": {
      "text/plain": [
       "ScaleKernel(\n",
       "  (base_kernel): PermutationInvariantRBFKernel(\n",
       "    (raw_lengthscale_constraint): LessThan(1.000E+02)\n",
       "  )\n",
       "  (raw_outputscale_constraint): Positive()\n",
       ")"
      ]
     },
     "execution_count": 465,
     "metadata": {},
     "output_type": "execute_result"
    }
   ],
   "source": [
    "model.covar_module"
   ]
  },
  {
   "cell_type": "code",
   "execution_count": 466,
   "id": "ba9952cd-a992-4a06-abb9-ab3568400020",
   "metadata": {},
   "outputs": [
    {
     "ename": "RuntimeError",
     "evalue": "The size of tensor a (800) must match the size of tensor b (200) at non-singleton dimension 0",
     "output_type": "error",
     "traceback": [
      "\u001b[0;31m---------------------------------------------------------------------------\u001b[0m",
      "\u001b[0;31mRuntimeError\u001b[0m                              Traceback (most recent call last)",
      "Cell \u001b[0;32mIn[466], line 1\u001b[0m\n\u001b[0;32m----> 1\u001b[0m \u001b[38;5;28mprint\u001b[39m(\u001b[38;5;124m\"\u001b[39m\u001b[38;5;124mour error: \u001b[39m\u001b[38;5;124m\"\u001b[39m,(y_train \u001b[38;5;241m-\u001b[39m yhat_vector)\u001b[38;5;241m.\u001b[39msquare()\u001b[38;5;241m.\u001b[39mmean()\u001b[38;5;241m.\u001b[39msqrt())\n\u001b[1;32m      2\u001b[0m \u001b[38;5;28mprint\u001b[39m(\u001b[38;5;124m\"\u001b[39m\u001b[38;5;124mbaseline error: \u001b[39m\u001b[38;5;124m\"\u001b[39m,(y_train\u001b[38;5;241m-\u001b[39mtorch\u001b[38;5;241m.\u001b[39mtensor(train[\u001b[38;5;124m\"\u001b[39m\u001b[38;5;124mf\u001b[39m\u001b[38;5;124m\"\u001b[39m]\u001b[38;5;241m.\u001b[39mvalues))\u001b[38;5;241m.\u001b[39msquare()\u001b[38;5;241m.\u001b[39mmean()\u001b[38;5;241m.\u001b[39msqrt())\n",
      "\u001b[0;31mRuntimeError\u001b[0m: The size of tensor a (800) must match the size of tensor b (200) at non-singleton dimension 0"
     ]
    }
   ],
   "source": [
    "print(\"our error: \",(y_train - yhat_vector).square().mean().sqrt())\n",
    "print(\"baseline error: \",(y_train-torch.tensor(train[\"f\"].values)).square().mean().sqrt())"
   ]
  },
  {
   "cell_type": "code",
   "execution_count": 467,
   "id": "92aa1f14-d5d6-4450-b307-07177309c5b4",
   "metadata": {},
   "outputs": [
    {
     "name": "stdout",
     "output_type": "stream",
     "text": [
      "our error:  tensor(0.4380)\n",
      "baseline error:  tensor(0.0303, dtype=torch.float64)\n"
     ]
    }
   ],
   "source": [
    "print(\"our error: \",(y_test - yhat_vector).square().mean().sqrt())\n",
    "print(\"baseline error: \",(y_test-torch.tensor(test[\"p0Mean\"].values)).square().mean().sqrt())"
   ]
  },
  {
   "cell_type": "code",
   "execution_count": 472,
   "id": "03fd4277-8322-41dd-a152-ca749f80cd6c",
   "metadata": {},
   "outputs": [
    {
     "name": "stdout",
     "output_type": "stream",
     "text": [
      "our error:  tensor(0.3859, dtype=torch.float64)\n",
      "baseline error:  tensor(0.0374, dtype=torch.float64)\n"
     ]
    },
    {
     "data": {
      "text/plain": [
       "<matplotlib.contour.QuadContourSet at 0x1e82112b0>"
      ]
     },
     "execution_count": 472,
     "metadata": {},
     "output_type": "execute_result"
    },
    {
     "data": {
      "image/png": "[encoded data removed]",
      "text/plain": [
       "<Figure size 1500x500 with 3 Axes>"
      ]
     },
     "metadata": {},
     "output_type": "display_data"
    }
   ],
   "source": [
    "start = 100\n",
    "end = start + 100\n",
    "\n",
    "fhat = yhat_vector[start:end].reshape(10,10)\n",
    "var = yvar_vector[start:end].reshape(10,10)\n",
    "f = torch.tensor(train.iloc[start:end,7].values).reshape(10,10)\n",
    "p0 = torch.tensor(train.iloc[start:end,9].values).reshape(10,10)\n",
    "print(\"our error: \",(fhat-f).square().mean().sqrt())\n",
    "print(\"baseline error: \",(p0-f).square().mean().sqrt())\n",
    "\n",
    "fig, axes = plt.subplots(nrows=1, ncols=3,figsize=(15, 5))\n",
    "axes[0].contourf(f)\n",
    "axes[1].contourf(p0)\n",
    "axes[2].contourf(fhat)\n",
    "#fig.subplots_adjust(right=0.8)\n",
    "#cbar_ax = fig.add_axes([0.85, 0.15, 0.05, 0.7])\n",
    "#fig.colorbar(im,cax=cbar_ax)\n",
    "\n",
    "#axes[0].set_title(\"True values\")\n",
    "#axes[1].set_title(\"Baseline\")\n",
    "#axes[2].set_title(\"Our Prediction\")"
   ]
  },
  {
   "cell_type": "code",
   "execution_count": 473,
   "id": "e7535e0d-e8e5-45c3-b2da-cfd6e1702889",
   "metadata": {},
   "outputs": [
    {
     "data": {
      "text/plain": [
       "Text(0.5, 1.0, 'True values')"
      ]
     },
     "execution_count": 473,
     "metadata": {},
     "output_type": "execute_result"
    },
    {
     "data": {
      "image/png": "[encoded data removed]",
      "text/plain": [
       "<Figure size 1500x500 with 2 Axes>"
      ]
     },
     "metadata": {},
     "output_type": "display_data"
    }
   ],
   "source": [
    "fig, axes = plt.subplots(nrows=1, ncols=1,figsize=(15, 5))\n",
    "axes.contourf(f)\n",
    "#axes[1].contourf(p0)\n",
    "#axes[2].contourf(fhat)\n",
    "im = axes.contourf(f)\n",
    "fig.subplots_adjust(right=0.8)\n",
    "cbar_ax = fig.add_axes([0.85, 0.15, 0.05, 0.7])\n",
    "fig.colorbar(im,cax=cbar_ax)\n",
    "\n",
    "axes.set_title(\"True values\")\n",
    "#axes[1].set_title(\"Baseline\")\n",
    "#axes[2].set_title(\"Our Prediction\")"
   ]
  },
  {
   "cell_type": "code",
   "execution_count": 474,
   "id": "b0f93c91-a63a-461d-b28d-ae69b6e59e49",
   "metadata": {},
   "outputs": [
    {
     "data": {
      "text/plain": [
       "Text(0.5, 1.0, 'Baseline')"
      ]
     },
     "execution_count": 474,
     "metadata": {},
     "output_type": "execute_result"
    },
    {
     "data": {
      "image/png": "[encoded data removed]",
      "text/plain": [
       "<Figure size 1500x500 with 2 Axes>"
      ]
     },
     "metadata": {},
     "output_type": "display_data"
    }
   ],
   "source": [
    "fig, axes = plt.subplots(nrows=1, ncols=1,figsize=(15, 5))\n",
    "#axes.contourf(f)\n",
    "axes.contourf(p0)\n",
    "#axes[2].contourf(fhat)\n",
    "im = axes.contourf(p0)\n",
    "fig.subplots_adjust(right=0.8)\n",
    "cbar_ax = fig.add_axes([0.85, 0.15, 0.05, 0.7])\n",
    "fig.colorbar(im,cax=cbar_ax)\n",
    "\n",
    "#axes.set_title(\"True values\")\n",
    "axes.set_title(\"Baseline\")\n",
    "#axes[2].set_title(\"Our Prediction\")"
   ]
  },
  {
   "cell_type": "code",
   "execution_count": 475,
   "id": "fc565a54-5f8d-4df5-8825-04ccac7d6196",
   "metadata": {},
   "outputs": [
    {
     "data": {
      "text/plain": [
       "Text(0.5, 1.0, 'Our Prediction')"
      ]
     },
     "execution_count": 475,
     "metadata": {},
     "output_type": "execute_result"
    },
    {
     "data": {
      "image/png": "[encoded data removed]",
      "text/plain": [
       "<Figure size 1500x500 with 2 Axes>"
      ]
     },
     "metadata": {},
     "output_type": "display_data"
    }
   ],
   "source": [
    "fig, axes = plt.subplots(nrows=1, ncols=1,figsize=(15, 5))\n",
    "#axes.contourf(f)\n",
    "#axes.contourf(p0)\n",
    "axes.contourf(fhat)\n",
    "im = axes.contourf(fhat)\n",
    "fig.subplots_adjust(right=0.8)\n",
    "cbar_ax = fig.add_axes([0.85, 0.15, 0.05, 0.7])\n",
    "fig.colorbar(im,cax=cbar_ax)\n",
    "\n",
    "#axes.set_title(\"True values\")\n",
    "#axes.set_title(\"Baseline\")\n",
    "axes.set_title(\"Our Prediction\")"
   ]
  },
  {
   "cell_type": "code",
   "execution_count": 458,
   "id": "864f5606-7014-414a-9f3e-48a0cd9e010c",
   "metadata": {},
   "outputs": [
    {
     "data": {
      "text/plain": [
       "tensor([[0.3935, 0.3938, 0.3941, 0.3943, 0.3934, 0.3903, 0.3846, 0.3779, 0.3727,\n",
       "         0.3707],\n",
       "        [0.3942, 0.3942, 0.3943, 0.3946, 0.3939, 0.3907, 0.3848, 0.3777, 0.3722,\n",
       "         0.3705],\n",
       "        [0.3943, 0.3940, 0.3940, 0.3943, 0.3938, 0.3907, 0.3846, 0.3773, 0.3719,\n",
       "         0.3706],\n",
       "        [0.3942, 0.3939, 0.3937, 0.3940, 0.3935, 0.3904, 0.3842, 0.3769, 0.3716,\n",
       "         0.3706],\n",
       "        [0.3942, 0.3939, 0.3938, 0.3940, 0.3933, 0.3901, 0.3838, 0.3764, 0.3712,\n",
       "         0.3703],\n",
       "        [0.3939, 0.3938, 0.3937, 0.3939, 0.3931, 0.3897, 0.3834, 0.3761, 0.3709,\n",
       "         0.3700],\n",
       "        [0.3929, 0.3929, 0.3929, 0.3930, 0.3922, 0.3888, 0.3828, 0.3758, 0.3707,\n",
       "         0.3696],\n",
       "        [0.3906, 0.3906, 0.3907, 0.3909, 0.3901, 0.3871, 0.3817, 0.3753, 0.3707,\n",
       "         0.3694],\n",
       "        [0.3872, 0.3870, 0.3871, 0.3874, 0.3869, 0.3845, 0.3800, 0.3747, 0.3707,\n",
       "         0.3694],\n",
       "        [0.3832, 0.3828, 0.3828, 0.3831, 0.3830, 0.3813, 0.3779, 0.3739, 0.3708,\n",
       "         0.3698]])"
      ]
     },
     "execution_count": 458,
     "metadata": {},
     "output_type": "execute_result"
    }
   ],
   "source": [
    "fhat"
   ]
  },
  {
   "cell_type": "code",
   "execution_count": null,
   "id": "ff768b45-ed1b-45d8-8493-263144a8a5ad",
   "metadata": {},
   "outputs": [],
   "source": []
  },
  {
   "cell_type": "code",
   "execution_count": 229,
   "id": "18345632-78e0-4420-af3d-618596f8ebf3",
   "metadata": {},
   "outputs": [
    {
     "data": {
      "text/plain": [
       "tensor([[1.0000, 1.0000, 1.0000, 0.9998, 0.9982, 0.9799, 0.7896, 0.2170, 0.0456,\n",
       "         0.0301],\n",
       "        [0.9999, 0.9999, 0.9999, 0.9998, 0.9982, 0.9799, 0.7896, 0.2170, 0.0456,\n",
       "         0.0301],\n",
       "        [0.9998, 0.9998, 0.9998, 0.9997, 0.9981, 0.9798, 0.7895, 0.2170, 0.0456,\n",
       "         0.0301],\n",
       "        [0.9994, 0.9994, 0.9994, 0.9993, 0.9977, 0.9794, 0.7892, 0.2169, 0.0456,\n",
       "         0.0300],\n",
       "        [0.9983, 0.9983, 0.9983, 0.9981, 0.9965, 0.9783, 0.7883, 0.2167, 0.0455,\n",
       "         0.0300],\n",
       "        [0.9944, 0.9944, 0.9944, 0.9943, 0.9927, 0.9745, 0.7852, 0.2158, 0.0453,\n",
       "         0.0299],\n",
       "        [0.9812, 0.9812, 0.9812, 0.9811, 0.9795, 0.9616, 0.7748, 0.2130, 0.0447,\n",
       "         0.0295],\n",
       "        [0.9356, 0.9356, 0.9356, 0.9355, 0.9340, 0.9169, 0.7388, 0.2031, 0.0427,\n",
       "         0.0281],\n",
       "        [0.8028, 0.8028, 0.8028, 0.8027, 0.8014, 0.7868, 0.6340, 0.1743, 0.0366,\n",
       "         0.0241],\n",
       "        [0.6052, 0.6052, 0.6052, 0.6051, 0.6041, 0.5931, 0.4779, 0.1314, 0.0276,\n",
       "         0.0182]], dtype=torch.float64)"
      ]
     },
     "execution_count": 229,
     "metadata": {},
     "output_type": "execute_result"
    }
   ],
   "source": [
    "p0"
   ]
  },
  {
   "cell_type": "code",
   "execution_count": 217,
   "id": "e67b829e-de19-44ca-ae85-c1be7df50162",
   "metadata": {},
   "outputs": [
    {
     "data": {
      "text/plain": [
       "tensor([[0.0128, 0.0061, 0.0066, 0.0039, 0.0057, 0.0113, 0.0154, 0.0142, 0.0064,\n",
       "         0.0079],\n",
       "        [0.0079, 0.0073, 0.0083, 0.0072, 0.0077, 0.0076, 0.0054, 0.0018, 0.0024,\n",
       "         0.0081],\n",
       "        [0.0210, 0.0178, 0.0248, 0.0301, 0.0319, 0.0328, 0.0324, 0.0290, 0.0230,\n",
       "         0.0172],\n",
       "        [0.0004, 0.0009, 0.0122, 0.0198, 0.0210, 0.0177, 0.0109, 0.0008, 0.0088,\n",
       "         0.0130],\n",
       "        [0.0405, 0.0492, 0.0448, 0.0423, 0.0456, 0.0528, 0.0614, 0.0678, 0.0662,\n",
       "         0.0520],\n",
       "        [0.0042, 0.0271, 0.0362, 0.0433, 0.0511, 0.0568, 0.0573, 0.0493, 0.0287,\n",
       "         0.0056],\n",
       "        [0.1898, 0.1673, 0.1520, 0.1392, 0.1316, 0.1335, 0.1452, 0.1660, 0.1942,\n",
       "         0.2263],\n",
       "        [0.0295, 0.0430, 0.0287, 0.0260, 0.0222, 0.0281, 0.0148, 0.0764, 0.0778,\n",
       "         0.1132],\n",
       "        [0.1015, 0.0863, 0.0910, 0.1020, 0.1038, 0.0900, 0.0676, 0.0488, 0.0441,\n",
       "         0.0583],\n",
       "        [0.0653, 0.0810, 0.0713, 0.0560, 0.0523, 0.0633, 0.0783, 0.0835, 0.0706,\n",
       "         0.0370]], dtype=torch.float64)"
      ]
     },
     "execution_count": 217,
     "metadata": {},
     "output_type": "execute_result"
    }
   ],
   "source": [
    "(fhat-f).abs()"
   ]
  },
  {
   "cell_type": "code",
   "execution_count": 29,
   "id": "0a901632-569a-4394-a664-f5344691f8ae",
   "metadata": {},
   "outputs": [
    {
     "data": {
      "text/plain": [
       "Text(0.5, 1.0, 'Predictive variance')"
      ]
     },
     "execution_count": 29,
     "metadata": {},
     "output_type": "execute_result"
    },
    {
     "data": {
      "image/png": "[encoded data removed]",
      "text/plain": [
       "<Figure size 640x480 with 2 Axes>"
      ]
     },
     "metadata": {},
     "output_type": "display_data"
    }
   ],
   "source": [
    "plt.contourf(var)\n",
    "plt.colorbar()\n",
    "plt.title(\"Predictive variance\")"
   ]
  },
  {
   "cell_type": "code",
   "execution_count": null,
   "id": "19a29981-503f-464d-88eb-495d36de271f",
   "metadata": {},
   "outputs": [],
   "source": []
  },
  {
   "cell_type": "code",
   "execution_count": null,
   "id": "6dd911f3-5a7b-4e42-9f07-4a89e18ed024",
   "metadata": {},
   "outputs": [],
   "source": []
  },
  {
   "cell_type": "code",
   "execution_count": null,
   "id": "c7055ff9-490f-4b20-98df-1385ae9fdb19",
   "metadata": {},
   "outputs": [],
   "source": []
  },
  {
   "cell_type": "code",
   "execution_count": null,
   "id": "65ac7cac-f438-47db-abe2-48304d074a67",
   "metadata": {},
   "outputs": [],
   "source": []
  },
  {
   "cell_type": "code",
   "execution_count": null,
   "id": "741c0a2d-d438-40aa-8281-26a9c5ce757c",
   "metadata": {},
   "outputs": [],
   "source": []
  },
  {
   "cell_type": "code",
   "execution_count": null,
   "id": "b2836148-3a51-4706-8f82-0f9a331a5d1d",
   "metadata": {},
   "outputs": [],
   "source": []
  },
  {
   "cell_type": "code",
   "execution_count": null,
   "id": "ac865574-38e7-4752-ab25-9651c63ab868",
   "metadata": {},
   "outputs": [],
   "source": []
  }
 ],
 "metadata": {
  "kernelspec": {
   "display_name": "Python 3 (ipykernel)",
   "language": "python",
   "name": "python3"
  },
  "language_info": {
   "codemirror_mode": {
    "name": "ipython",
    "version": 3
   },
   "file_extension": ".py",
   "mimetype": "text/x-python",
   "name": "python",
   "nbconvert_exporter": "python",
   "pygments_lexer": "ipython3",
   "version": "3.12.3"
  }
 },
 "nbformat": 4,
 "nbformat_minor": 5
}
