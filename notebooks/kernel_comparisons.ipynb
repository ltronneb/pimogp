{
 "cells": [
  {
   "cell_type": "markdown",
   "id": "fe1e9b25",
   "metadata": {},
   "source": [
    "# Comparing kernels"
   ]
  },
  {
   "attachments": {},
   "cell_type": "markdown",
   "id": "61c3d961",
   "metadata": {},
   "source": [
    "For the drug prediction task, there are many subjective choices needed regarding the choice of covariates to represent the cell lines and drugs, as well as the kernel choice itself.\n",
    "\n",
    "For the RESCUER grant, we need to perform a comparison of some of these choices. As a basis I will look at the feature sets for the O'Neil dataset as collected by [Jeon et al. (2018)](https://github.com/mjjeon/dcpipe/)\n",
    "\n",
    "## Available data\n",
    "\n",
    "### Cell lines\n",
    "\n",
    "#### Covariates\n",
    "\n",
    "For the cell lines, we have multiple sets of covariates dealing with the molecular characteristics of the disease\n",
    "   1. Gene expression (continuous)\n",
    "   2. Mutations (binary)\n",
    "\n",
    "These can be inserted into a standard GP kernel as is, but it might be further interesting to split the covariates into gene sets using pathway information (e.g. from [KEGG](https://www.genome.jp/kegg/pathway.html)), such that each set of covariates represent a meaningful biological pathways. In the Jeon dataset this has already been done, and we can use the genesets there directly. For example the p53 signalling geneset includes the genes TP53, MDM2, MDM4, CDKN2A, CDKN2B and TP53BP1.\n",
    "\n",
    "We could then put a kernel function on each of the genesets, and sum them via e.g. a multiple-kernel-learning construction \n",
    "$$\n",
    "K = \\sum_{i} \\alpha_iK_i,\n",
    "$$\n",
    "where each $K_i$ represent a base-kernel evaluated using only the covariates corresponding to the $i-th$ gene set.\n",
    "\n",
    "\n",
    "#### Kernels\n",
    "For the base-kernels, we will compare two very simple choices\n",
    "- RBF: A standard, non-linear default choice\n",
    "- RBF + ARD: Same as above, but with some feature selection built in.\n",
    "\n",
    "   \n",
    "   \n",
    "### Drugs\n",
    "\n",
    "#### Covariates\n",
    "   \n",
    "For the drugs, the covariates are given as SMILES formula, e.g.\n",
    "\n",
    "\n",
    "| Drug | SMILES | \n",
    "| --- | --- |\n",
    "| Erlotinib\t | COCCOC1=C(C=C2C(=C1)C(=NC=N2)NC3=CC=CC(=C3)C#C)OCCOC\n",
    "| Metformin |CN(C)C(=N)N=C(N)N |\n",
    "| Paclitaxel |  CC1=C2C(C(=O)C3(C(CC4C(C3C(C(C2(C)C)(CC1OC(=O)C(C(C5=CC=CC=C5)NC(=O)C6=CC=CC=C6)O)O)OC(=O)C7=CC=CC=C7)(CO4)OC(=O)C)O)C)OC(=O)C |\n",
    "\n",
    "\n",
    "Which gives a unique representation of the drug's structure. From these it is common to compute various fingerprints to represent common structures in a binary string. There are many different fingerprints to choose from, and this is still an active research area. We use the Python library `gauche` to do all the pre-processing of chemical features. [Gauche](https://leojklarner.github.io/gauche/index.html) is an open-source library for molecular machine learning, with emphasis on Gaussian process regression and Bayesian optimization over molecules. It contains functions to pre-process SMILES into various types of fingerprints and kernel functions that work in a plug-and-play fashion with GPyTorch, which this library is built on top of.\n",
    "\n",
    "While Gauche also allows the user to represent molecular as graphs, we will here only consider molecular fingerprints which has been the default choice in the community for the past 20 years. Gauche gives six options for fingerprints:\n",
    " - `ecfp_fingerprints`: Morgan fingerprints, returns a 2048 bit representation.\n",
    " - `fragments`:  Returns a vector of fragment counts based on standard molecular fragments, e.g. methoxy-groups, lactones and phenols.\n",
    " - `ecfp_fragprints`: A combination of the two above.\n",
    "\n",
    "\n",
    "Since these fingerprints are high-dimensional, we further compute a PCA decomposition of the drugs to get a lower-dimensional representation. We select the number of components by a cutoff on explained variance. For this simple comparison we set this threshold to 75%.\n",
    "\n",
    "#### Kernels\n",
    "As for the kernels, we need to think about what a kernel over drug combinations should represent. Given some covariates for drug A, say $\\mathbf{x}_A$, and some covariates for drug $B$, $\\mathbf{x}_B$, we can represent the drug combination by simple concatenation $\\mathbf{x}_{AB}=(\\mathbf{x}_A, \\mathbf{x}_B)$. We need to make sure that the kernel can capture the interaction between features of drug A and drug B, which potentially could correspond to interaction effects of the drugs. Because of this, we will consider 4 kernels:\n",
    "\n",
    "- Linear kernel: No interaction\n",
    "- Polynomial-2 kernel: Simple two-way interactions\n",
    "- RBF Kernel: general non-linear kernel, all higher order interactions\n",
    "- RBF Kernel + ARD: same as previous, but with some built-in feature selection."
   ]
  },
  {
   "cell_type": "markdown",
   "id": "5f430cd0",
   "metadata": {},
   "source": [
    "## Comparing drug kernels\n",
    "\n",
    "In this section, we will compare the performance of various kernels and fingerprint on predicting held-out drug in the ONeil dataset. We do this in a greedy fashion, where we first fix the fingerprint type, and optimize for the kernel, then using the optimal kernel we look at different options for the fingerprint.\n",
    "\n",
    "For the comparison, we make some simplifying choices on the model structure to speed up training. We consider only 2000 inducing points, and make use of a mean field assumption on the inducing distribution -- this should ensure training is quick. Using the same settings across all the various drugs considered will still make everything comparable, even if it hasn't been evaluated at the maximum capacity.\n",
    "\n"
   ]
  },
  {
   "cell_type": "code",
   "execution_count": 1,
   "id": "1f4aa26f",
   "metadata": {},
   "outputs": [],
   "source": [
    "import pandas as pd\n",
    "import numpy as np\n",
    "import gauche\n",
    "from gauche.dataloader import MolPropLoader\n",
    "from sklearn.decomposition import PCA\n",
    "from sklearn.preprocessing import StandardScaler\n",
    "from scipy.stats import zscore\n",
    "loader = MolPropLoader()\n",
    "drugs = pd.read_csv(\"../synpred/data/ONeil_drug_SMILES.csv\")\n",
    "data = pd.read_csv(\"../synpred/data/Oneil_full.csv\",delimiter=\";\")"
   ]
  },
  {
   "cell_type": "code",
   "execution_count": 2,
   "id": "5d28b584",
   "metadata": {},
   "outputs": [
    {
     "name": "stdout",
     "output_type": "stream",
     "text": [
      "ratio variance explained:  0.7501083397015198\n"
     ]
    }
   ],
   "source": [
    "# Processing drug SMILES\n",
    "loader.read_csv(\"../synpred/data/ONeil_drug_SMILES.csv\",smiles_column=\"SMILES\",label_column=\"Numeric\",validate=True)\n",
    "loader.featurize('ecfp_fingerprints')\n",
    "X = loader.features\n",
    "scaler = StandardScaler()\n",
    "X = scaler.fit_transform(X)\n",
    "pcacomponents = 21\n",
    "pca = PCA(n_components=pcacomponents)\n",
    "X = pca.fit_transform(X)\n",
    "print(\"ratio variance explained: \",pca.explained_variance_ratio_.sum()) # Should be above 75%\n",
    "\n",
    "# Merging onto the main dataframe\n",
    "X = pd.DataFrame(X)\n",
    "X = X.apply(zscore)\n",
    "XA = X.add_prefix(\"A\")\n",
    "XB = X.add_prefix(\"B\")\n",
    "drugsA = pd.concat([drugs,XA],axis=1)\n",
    "drugsA = drugsA.drop(columns=[\"Target\",\"SMILES\",\"Numeric\"],axis=1)\n",
    "drugsB = pd.concat([drugs,XB],axis=1)\n",
    "drugsB = drugsB.drop(columns=[\"Target\",\"SMILES\",\"Numeric\"],axis=1)\n",
    "data = pd.merge(data,drugsA, left_on=\"DrugA\",right_on=\"Name\")\n",
    "data = pd.merge(data,drugsB, left_on=\"DrugB\",right_on=\"Name\")\n",
    "data = data.drop(columns=[\"Name_x\",\"Name_y\"])"
   ]
  },
  {
   "cell_type": "code",
   "execution_count": 3,
   "id": "122da405",
   "metadata": {},
   "outputs": [
    {
     "name": "stdout",
     "output_type": "stream",
     "text": [
      "['A2058']\n"
     ]
    }
   ],
   "source": [
    "# Sort the data, and pull out a single cell line\n",
    "data = data.sort_values([\"CellLine\",\"DrugA\",\"DrugB\"])\n",
    "k = 1*583*100\n",
    "data = data.head(k)\n",
    "print(data[\"CellLine\"].unique()) # Should be a single value here"
   ]
  },
  {
   "cell_type": "code",
   "execution_count": 4,
   "id": "a8eb3e8b",
   "metadata": {},
   "outputs": [],
   "source": [
    "# Now splitting the dataset into a test and train set\n",
    "from sklearn.model_selection import train_test_split\n",
    "k = np.floor(583*0.8)\n",
    "data[\"combination\"] = data.DrugA.map(str) + \"_\" + data.DrugB\n",
    "train_combinations, test_combinations = train_test_split(pd.DataFrame(data.combination.unique()), test_size=0.2)\n",
    "train = data[data[\"combination\"].isin(train_combinations[0].tolist())]\n",
    "test = data[data[\"combination\"].isin(test_combinations[0].tolist())]\n",
    "# Now drop the combination column\n",
    "train = train.drop(columns=[\"combination\"])\n",
    "test = test.drop(columns=[\"combination\"])"
   ]
  },
  {
   "cell_type": "code",
   "execution_count": 5,
   "id": "aebce609",
   "metadata": {},
   "outputs": [],
   "source": [
    "# Now setting up the actual datasets\n",
    "from matplotlib import pyplot as plt\n",
    "import torch\n",
    "import gpytorch\n",
    "import numpy as np\n",
    "import linear_operator\n",
    "y_train = torch.tensor(train[\"fMean\"].values).float()\n",
    "y_test = torch.tensor(test[\"fMean\"].values).float()\n",
    "conc_train = train[['DrugAconc','DrugBconc']]\n",
    "conc_test = test[['DrugAconc','DrugBconc']]\n",
    "drugcovars_train = train.iloc[:,-(pcacomponents*2):]\n",
    "drugcovars_test = test.iloc[:,-(pcacomponents*2):]\n",
    "X_train = torch.tensor(pd.concat([conc_train,drugcovars_train],axis=1).values).float()\n",
    "X_test = torch.tensor(pd.concat([conc_test,drugcovars_test],axis=1).values).float()"
   ]
  },
  {
   "cell_type": "code",
   "execution_count": 6,
   "id": "be153a7d",
   "metadata": {},
   "outputs": [],
   "source": [
    "# Setting up minibatching\n",
    "from torch.utils.data import TensorDataset, DataLoader\n",
    "train_dataset = TensorDataset(X_train, y_train)\n",
    "train_loader = DataLoader(train_dataset, batch_size=256, shuffle=True)"
   ]
  },
  {
   "cell_type": "code",
   "execution_count": 11,
   "id": "25c79c4a",
   "metadata": {},
   "outputs": [],
   "source": [
    "# Setting up the models\n",
    "from synpred.variational.permutation_invariant_variational_strategy import PermutationInvariantVariationalStrategy\n",
    "\n",
    "\n",
    "### Model 1 -- Linear kernel\n",
    "class DrugCombModel1(gpytorch.models.ApproximateGP):\n",
    "    def __init__(self):\n",
    "        # Permutation\n",
    "        permutation = torch.cat([torch.tensor([1]),torch.tensor([0]),torch.linspace((2+pcacomponents),1+(2*pcacomponents),pcacomponents),torch.linspace(2,1+pcacomponents,pcacomponents)]).long()\n",
    "        # Inducing points init from training data\n",
    "        ind_indices = torch.randperm(X_train.size(0))\n",
    "        inducing_points = torch.stack([X_train[ind_indices[:2000]]],\n",
    "                                       dim=0)\n",
    "        # Variational distribution\n",
    "        variational_distribution = gpytorch.variational.MeanFieldVariationalDistribution(\n",
    "            inducing_points.size(-2))\n",
    "        \n",
    "        \n",
    "        # Variational Strategy\n",
    "        variational_strategy = PermutationInvariantVariationalStrategy(\n",
    "            self, inducing_points, variational_distribution, \n",
    "            permutation=permutation,\n",
    "            learn_inducing_locations=True)\n",
    "\n",
    "        \n",
    "        super(DrugCombModel1,self).__init__(variational_strategy)\n",
    "        \n",
    "        # Mean and covariance modules\n",
    "        # Standard zero-mean\n",
    "        self.mean_module = gpytorch.means.ZeroMean()\n",
    "        # Covar over the concentrations, simple RBF\n",
    "        self.covar_module_concentrations = gpytorch.kernels.RBFKernel(active_dims=torch.tensor([0,1]))\n",
    "        # Covar over the drugs, Linear\n",
    "        self.covar_module_drugs = gpytorch.kernels.LinearKernel(active_dims=torch.linspace(2,2*pcacomponents+1,2*pcacomponents).long()\n",
    "                                                            )\n",
    "        \n",
    "    def forward(self, x):\n",
    "        mean_x = self.mean_module(x)\n",
    "        # Final covariance is a simple product.\n",
    "        covar_x = self.covar_module_concentrations(x) * self.covar_module_drugs(x)\n",
    "        return gpytorch.distributions.MultivariateNormal(mean_x, covar_x)\n",
    "\n",
    "### Model 2 -- Polynomial kernel\n",
    "class DrugCombModel2(gpytorch.models.ApproximateGP):\n",
    "    def __init__(self):\n",
    "        # Permutation\n",
    "        permutation = torch.cat([torch.tensor([1]),torch.tensor([0]),torch.linspace((2+pcacomponents),1+(2*pcacomponents),pcacomponents),torch.linspace(2,1+pcacomponents,pcacomponents)]).long()\n",
    "        # Inducing points init from training data\n",
    "        ind_indices = torch.randperm(X_train.size(0))\n",
    "        inducing_points = torch.stack([X_train[ind_indices[:2000]]],\n",
    "                                       dim=0)\n",
    "        # Variational distribution\n",
    "        variational_distribution = gpytorch.variational.MeanFieldVariationalDistribution(\n",
    "            inducing_points.size(-2))\n",
    "        \n",
    "        \n",
    "        # Variational Strategy\n",
    "        variational_strategy = PermutationInvariantVariationalStrategy(\n",
    "            self, inducing_points, variational_distribution, \n",
    "            permutation=permutation,\n",
    "            learn_inducing_locations=True)\n",
    "\n",
    "        \n",
    "        super(DrugCombModel2,self).__init__(variational_strategy)\n",
    "        \n",
    "        # Mean and covariance modules\n",
    "        # Standard zero-mean\n",
    "        self.mean_module = gpytorch.means.ZeroMean()\n",
    "        # Covar over the concentrations, simple RBF\n",
    "        self.covar_module_concentrations = gpytorch.kernels.RBFKernel(active_dims=torch.tensor([0,1]))\n",
    "        # Covar over the drugs, Polynomial (note the scale kernel in front to compete with linear)\n",
    "        self.covar_module_drugs = gpytorch.kernels.ScaleKernel(gpytorch.kernels.PolynomialKernel(active_dims=torch.linspace(2,2*pcacomponents+1,2*pcacomponents).long(),\n",
    "                                                            power=2))\n",
    "        \n",
    "    def forward(self, x):\n",
    "        mean_x = self.mean_module(x)\n",
    "        # Final covariance is a simple product.\n",
    "        covar_x = self.covar_module_concentrations(x) * self.covar_module_drugs(x)\n",
    "        return gpytorch.distributions.MultivariateNormal(mean_x, covar_x)\n",
    "\n",
    "### Model 3 -- RBF\n",
    "class DrugCombModel3(gpytorch.models.ApproximateGP):\n",
    "    def __init__(self):\n",
    "        # Permutation\n",
    "        permutation = torch.cat([torch.tensor([1]),torch.tensor([0]),torch.linspace((2+pcacomponents),1+(2*pcacomponents),pcacomponents),torch.linspace(2,1+pcacomponents,pcacomponents)]).long()\n",
    "        # Inducing points init from training data\n",
    "        ind_indices = torch.randperm(X_train.size(0))\n",
    "        inducing_points = torch.stack([X_train[ind_indices[:2000]]],\n",
    "                                       dim=0)\n",
    "        # Variational distribution\n",
    "        variational_distribution = gpytorch.variational.MeanFieldVariationalDistribution(\n",
    "            inducing_points.size(-2))\n",
    "        \n",
    "        \n",
    "        # Variational Strategy\n",
    "        variational_strategy = PermutationInvariantVariationalStrategy(\n",
    "            self, inducing_points, variational_distribution, \n",
    "            permutation=permutation,\n",
    "            learn_inducing_locations=True)\n",
    "\n",
    "        \n",
    "        super(DrugCombModel3,self).__init__(variational_strategy)\n",
    "        \n",
    "        # Mean and covariance modules\n",
    "        # Standard zero-mean\n",
    "        self.mean_module = gpytorch.means.ZeroMean()\n",
    "        # Covar over the concentrations, simple RBF\n",
    "        self.covar_module_concentrations = gpytorch.kernels.RBFKernel(active_dims=torch.tensor([0,1]))\n",
    "        # Covar over the drugs, RBF \n",
    "        self.covar_module_drugs = gpytorch.kernels.RBFKernel(active_dims=torch.linspace(2,2*pcacomponents+1,2*pcacomponents).long(),\n",
    "                                                            ard_num_dims=None)\n",
    "        \n",
    "    def forward(self, x):\n",
    "        mean_x = self.mean_module(x)\n",
    "        # Final covariance is a simple product.\n",
    "        covar_x = self.covar_module_concentrations(x) * self.covar_module_drugs(x)\n",
    "        return gpytorch.distributions.MultivariateNormal(mean_x, covar_x)\n",
    "\n",
    "### Model 4 -- RBF + ARD\n",
    "class DrugCombModel4(gpytorch.models.ApproximateGP):\n",
    "    def __init__(self):\n",
    "        # Permutation\n",
    "        permutation = torch.cat([torch.tensor([1]),torch.tensor([0]),torch.linspace((2+pcacomponents),1+(2*pcacomponents),pcacomponents),torch.linspace(2,1+pcacomponents,pcacomponents)]).long()\n",
    "        # Inducing points init from training data\n",
    "        ind_indices = torch.randperm(X_train.size(0))\n",
    "        inducing_points = torch.stack([X_train[ind_indices[:2000]]],\n",
    "                                       dim=0)\n",
    "        # Variational distribution\n",
    "        variational_distribution = gpytorch.variational.MeanFieldVariationalDistribution(\n",
    "            inducing_points.size(-2))\n",
    "        \n",
    "        \n",
    "        # Variational Strategy\n",
    "        variational_strategy = PermutationInvariantVariationalStrategy(\n",
    "            self, inducing_points, variational_distribution, \n",
    "            permutation=permutation,\n",
    "            learn_inducing_locations=True)\n",
    "\n",
    "        \n",
    "        super(DrugCombModel4,self).__init__(variational_strategy)\n",
    "        \n",
    "        # Mean and covariance modules\n",
    "        # Standard zero-mean\n",
    "        self.mean_module = gpytorch.means.ZeroMean()\n",
    "        # Covar over the concentrations, simple RBF\n",
    "        self.covar_module_concentrations = gpytorch.kernels.RBFKernel(active_dims=torch.tensor([0,1]))\n",
    "        # Covar over the drugs, RBF + ARD\n",
    "        self.covar_module_drugs = gpytorch.kernels.RBFKernel(active_dims=torch.linspace(2,2*pcacomponents+1,2*pcacomponents).long(),\n",
    "                                                            ard_num_dims=2*pcacomponents)\n",
    "        \n",
    "    def forward(self, x):\n",
    "        mean_x = self.mean_module(x)\n",
    "        # Final covariance is a simple product.\n",
    "        covar_x = self.covar_module_concentrations(x) * self.covar_module_drugs(x)\n",
    "        return gpytorch.distributions.MultivariateNormal(mean_x, covar_x)\n",
    "\n",
    "\n",
    "    \n",
    "model1 = DrugCombModel1()\n",
    "model2 = DrugCombModel2()\n",
    "model3 = DrugCombModel3()\n",
    "model4 = DrugCombModel4()\n",
    "likelihood1 = gpytorch.likelihoods.GaussianLikelihood()\n",
    "likelihood2 = gpytorch.likelihoods.GaussianLikelihood()\n",
    "likelihood3 = gpytorch.likelihoods.GaussianLikelihood()\n",
    "likelihood4 = gpytorch.likelihoods.GaussianLikelihood()"
   ]
  },
  {
   "cell_type": "code",
   "execution_count": 12,
   "id": "3f4995d8",
   "metadata": {},
   "outputs": [
    {
     "data": {
      "application/vnd.jupyter.widget-view+json": {
       "model_id": "f206b6c23a514ae893f5f2a1b2fbef97",
       "version_major": 2,
       "version_minor": 0
      },
      "text/plain": [
       "Epoch:   0%|          | 0/20 [00:00<?, ?it/s]"
      ]
     },
     "metadata": {},
     "output_type": "display_data"
    },
    {
     "data": {
      "application/vnd.jupyter.widget-view+json": {
       "model_id": "",
       "version_major": 2,
       "version_minor": 0
      },
      "text/plain": [
       "Minibatch:   0%|          | 0/183 [00:00<?, ?it/s]"
      ]
     },
     "metadata": {},
     "output_type": "display_data"
    },
    {
     "name": "stderr",
     "output_type": "stream",
     "text": [
      "/Users/leiv/opt/anaconda3/envs/synpred/lib/python3.10/site-packages/linear_operator/utils/cholesky.py:40: NumericalWarning: A not p.d., added jitter of 1.0e-08 to the diagonal\n",
      "  warnings.warn(\n",
      "/Users/leiv/opt/anaconda3/envs/synpred/lib/python3.10/site-packages/linear_operator/utils/cholesky.py:40: NumericalWarning: A not p.d., added jitter of 1.0e-07 to the diagonal\n",
      "  warnings.warn(\n",
      "/Users/leiv/opt/anaconda3/envs/synpred/lib/python3.10/site-packages/linear_operator/utils/cholesky.py:40: NumericalWarning: A not p.d., added jitter of 1.0e-06 to the diagonal\n",
      "  warnings.warn(\n",
      "/Users/leiv/opt/anaconda3/envs/synpred/lib/python3.10/site-packages/linear_operator/utils/cholesky.py:40: NumericalWarning: A not p.d., added jitter of 1.0e-05 to the diagonal\n",
      "  warnings.warn(\n"
     ]
    },
    {
     "data": {
      "application/vnd.jupyter.widget-view+json": {
       "model_id": "",
       "version_major": 2,
       "version_minor": 0
      },
      "text/plain": [
       "Minibatch:   0%|          | 0/183 [00:00<?, ?it/s]"
      ]
     },
     "metadata": {},
     "output_type": "display_data"
    },
    {
     "data": {
      "application/vnd.jupyter.widget-view+json": {
       "model_id": "",
       "version_major": 2,
       "version_minor": 0
      },
      "text/plain": [
       "Minibatch:   0%|          | 0/183 [00:00<?, ?it/s]"
      ]
     },
     "metadata": {},
     "output_type": "display_data"
    },
    {
     "data": {
      "application/vnd.jupyter.widget-view+json": {
       "model_id": "",
       "version_major": 2,
       "version_minor": 0
      },
      "text/plain": [
       "Minibatch:   0%|          | 0/183 [00:00<?, ?it/s]"
      ]
     },
     "metadata": {},
     "output_type": "display_data"
    },
    {
     "name": "stderr",
     "output_type": "stream",
     "text": [
      "/Users/leiv/opt/anaconda3/envs/synpred/lib/python3.10/site-packages/linear_operator/utils/cholesky.py:40: NumericalWarning: A not p.d., added jitter of 1.0e-04 to the diagonal\n",
      "  warnings.warn(\n"
     ]
    },
    {
     "data": {
      "application/vnd.jupyter.widget-view+json": {
       "model_id": "",
       "version_major": 2,
       "version_minor": 0
      },
      "text/plain": [
       "Minibatch:   0%|          | 0/183 [00:00<?, ?it/s]"
      ]
     },
     "metadata": {},
     "output_type": "display_data"
    },
    {
     "data": {
      "application/vnd.jupyter.widget-view+json": {
       "model_id": "",
       "version_major": 2,
       "version_minor": 0
      },
      "text/plain": [
       "Minibatch:   0%|          | 0/183 [00:00<?, ?it/s]"
      ]
     },
     "metadata": {},
     "output_type": "display_data"
    },
    {
     "data": {
      "application/vnd.jupyter.widget-view+json": {
       "model_id": "",
       "version_major": 2,
       "version_minor": 0
      },
      "text/plain": [
       "Minibatch:   0%|          | 0/183 [00:00<?, ?it/s]"
      ]
     },
     "metadata": {},
     "output_type": "display_data"
    },
    {
     "name": "stderr",
     "output_type": "stream",
     "text": [
      "/Users/leiv/opt/anaconda3/envs/synpred/lib/python3.10/site-packages/linear_operator/utils/cholesky.py:40: NumericalWarning: A not p.d., added jitter of 1.0e-03 to the diagonal\n",
      "  warnings.warn(\n",
      "/Users/leiv/opt/anaconda3/envs/synpred/lib/python3.10/site-packages/gpytorch/distributions/multivariate_normal.py:319: NumericalWarning: Negative variance values detected. This is likely due to numerical instabilities. Rounding negative variances up to 1e-06.\n",
      "  warnings.warn(\n"
     ]
    },
    {
     "data": {
      "application/vnd.jupyter.widget-view+json": {
       "model_id": "",
       "version_major": 2,
       "version_minor": 0
      },
      "text/plain": [
       "Minibatch:   0%|          | 0/183 [00:00<?, ?it/s]"
      ]
     },
     "metadata": {},
     "output_type": "display_data"
    },
    {
     "data": {
      "application/vnd.jupyter.widget-view+json": {
       "model_id": "",
       "version_major": 2,
       "version_minor": 0
      },
      "text/plain": [
       "Minibatch:   0%|          | 0/183 [00:00<?, ?it/s]"
      ]
     },
     "metadata": {},
     "output_type": "display_data"
    },
    {
     "data": {
      "application/vnd.jupyter.widget-view+json": {
       "model_id": "",
       "version_major": 2,
       "version_minor": 0
      },
      "text/plain": [
       "Minibatch:   0%|          | 0/183 [00:00<?, ?it/s]"
      ]
     },
     "metadata": {},
     "output_type": "display_data"
    },
    {
     "data": {
      "application/vnd.jupyter.widget-view+json": {
       "model_id": "",
       "version_major": 2,
       "version_minor": 0
      },
      "text/plain": [
       "Minibatch:   0%|          | 0/183 [00:00<?, ?it/s]"
      ]
     },
     "metadata": {},
     "output_type": "display_data"
    },
    {
     "data": {
      "application/vnd.jupyter.widget-view+json": {
       "model_id": "",
       "version_major": 2,
       "version_minor": 0
      },
      "text/plain": [
       "Minibatch:   0%|          | 0/183 [00:00<?, ?it/s]"
      ]
     },
     "metadata": {},
     "output_type": "display_data"
    },
    {
     "data": {
      "application/vnd.jupyter.widget-view+json": {
       "model_id": "",
       "version_major": 2,
       "version_minor": 0
      },
      "text/plain": [
       "Minibatch:   0%|          | 0/183 [00:00<?, ?it/s]"
      ]
     },
     "metadata": {},
     "output_type": "display_data"
    },
    {
     "data": {
      "application/vnd.jupyter.widget-view+json": {
       "model_id": "",
       "version_major": 2,
       "version_minor": 0
      },
      "text/plain": [
       "Minibatch:   0%|          | 0/183 [00:00<?, ?it/s]"
      ]
     },
     "metadata": {},
     "output_type": "display_data"
    },
    {
     "data": {
      "application/vnd.jupyter.widget-view+json": {
       "model_id": "",
       "version_major": 2,
       "version_minor": 0
      },
      "text/plain": [
       "Minibatch:   0%|          | 0/183 [00:00<?, ?it/s]"
      ]
     },
     "metadata": {},
     "output_type": "display_data"
    },
    {
     "data": {
      "application/vnd.jupyter.widget-view+json": {
       "model_id": "",
       "version_major": 2,
       "version_minor": 0
      },
      "text/plain": [
       "Minibatch:   0%|          | 0/183 [00:00<?, ?it/s]"
      ]
     },
     "metadata": {},
     "output_type": "display_data"
    },
    {
     "data": {
      "application/vnd.jupyter.widget-view+json": {
       "model_id": "",
       "version_major": 2,
       "version_minor": 0
      },
      "text/plain": [
       "Minibatch:   0%|          | 0/183 [00:00<?, ?it/s]"
      ]
     },
     "metadata": {},
     "output_type": "display_data"
    },
    {
     "data": {
      "application/vnd.jupyter.widget-view+json": {
       "model_id": "",
       "version_major": 2,
       "version_minor": 0
      },
      "text/plain": [
       "Minibatch:   0%|          | 0/183 [00:00<?, ?it/s]"
      ]
     },
     "metadata": {},
     "output_type": "display_data"
    },
    {
     "data": {
      "application/vnd.jupyter.widget-view+json": {
       "model_id": "",
       "version_major": 2,
       "version_minor": 0
      },
      "text/plain": [
       "Minibatch:   0%|          | 0/183 [00:00<?, ?it/s]"
      ]
     },
     "metadata": {},
     "output_type": "display_data"
    },
    {
     "data": {
      "application/vnd.jupyter.widget-view+json": {
       "model_id": "",
       "version_major": 2,
       "version_minor": 0
      },
      "text/plain": [
       "Minibatch:   0%|          | 0/183 [00:00<?, ?it/s]"
      ]
     },
     "metadata": {},
     "output_type": "display_data"
    }
   ],
   "source": [
    "# this is for running the notebook in our testing framework\n",
    "import os\n",
    "import tqdm.notebook\n",
    "from torch.optim.lr_scheduler import MultiStepLR\n",
    "num_epochs = 20 # Number of complete passes through the data\n",
    "\n",
    "# Will train all models in the same loop\n",
    "\n",
    "model1.train()\n",
    "model2.train()\n",
    "model3.train()\n",
    "model4.train()\n",
    "\n",
    "likelihood1.train()\n",
    "likelihood2.train()\n",
    "likelihood3.train()\n",
    "likelihood4.train()\n",
    "\n",
    "hyperparameter_optimizer1 = torch.optim.Adam([\n",
    "    {'params': model1.parameters()},\n",
    "    {'params': likelihood1.parameters()},\n",
    "], lr=0.01)\n",
    "\n",
    "hyperparameter_optimizer2 = torch.optim.Adam([\n",
    "    {'params': model2.parameters()},\n",
    "    {'params': likelihood2.parameters()},\n",
    "], lr=0.01)\n",
    "\n",
    "hyperparameter_optimizer3 = torch.optim.Adam([\n",
    "    {'params': model3.parameters()},\n",
    "    {'params': likelihood3.parameters()},\n",
    "], lr=0.01)\n",
    "\n",
    "hyperparameter_optimizer4 = torch.optim.Adam([\n",
    "    {'params': model4.parameters()},\n",
    "    {'params': likelihood4.parameters()},\n",
    "], lr=0.01)\n",
    "\n",
    "scheduler_hypers1 = MultiStepLR(hyperparameter_optimizer1, milestones=[0.5 * num_epochs,\n",
    "                                                                     0.75 * num_epochs\n",
    "                                                                     ], gamma=0.1)\n",
    "scheduler_hypers2 = MultiStepLR(hyperparameter_optimizer2, milestones=[0.5 * num_epochs,\n",
    "                                                                     0.75 * num_epochs\n",
    "                                                                     ], gamma=0.1)\n",
    "scheduler_hypers3 = MultiStepLR(hyperparameter_optimizer3, milestones=[0.5 * num_epochs,\n",
    "                                                                     0.75 * num_epochs\n",
    "                                                                     ], gamma=0.1)\n",
    "scheduler_hypers4 = MultiStepLR(hyperparameter_optimizer4, milestones=[0.5 * num_epochs,\n",
    "                                                                     0.75 * num_epochs\n",
    "                                                                     ], gamma=0.1)\n",
    "\n",
    "# Tracking loss\n",
    "train_loss1 = []\n",
    "train_loss2 = []\n",
    "train_loss3 = []\n",
    "train_loss4 = []\n",
    "\n",
    "\n",
    "# Our loss object. We're using the VariationalELBO, which essentially just computes the ELBO\n",
    "mll1 = gpytorch.mlls.VariationalELBO(likelihood1, model1, num_data=y_train.size(0))\n",
    "mll2 = gpytorch.mlls.VariationalELBO(likelihood2, model2, num_data=y_train.size(0))\n",
    "mll3 = gpytorch.mlls.VariationalELBO(likelihood3, model3, num_data=y_train.size(0))\n",
    "mll4 = gpytorch.mlls.VariationalELBO(likelihood4, model4, num_data=y_train.size(0))\n",
    "\n",
    "# We use more CG iterations here because the preconditioner introduced in the NeurIPS paper seems to be less\n",
    "# effective for VI.\n",
    "with gpytorch.settings.cholesky_max_tries(12):\n",
    "    epochs_iter = tqdm.notebook.tqdm(range(num_epochs), desc=\"Epoch\")\n",
    "    for i in epochs_iter:\n",
    "        # Within each iteration, we will go over each minibatch of data\n",
    "        minibatch_iter = tqdm.notebook.tqdm(train_loader, desc=\"Minibatch\", leave=False)\n",
    "        for x_batch, y_batch in minibatch_iter:\n",
    "            # Zero gradients\n",
    "            hyperparameter_optimizer1.zero_grad()\n",
    "            hyperparameter_optimizer2.zero_grad()\n",
    "            hyperparameter_optimizer3.zero_grad()\n",
    "            hyperparameter_optimizer4.zero_grad()\n",
    "            # Get outputs\n",
    "            output1 = model1(x_batch)\n",
    "            output2 = model2(x_batch)\n",
    "            output3 = model3(x_batch)\n",
    "            output4 = model4(x_batch)\n",
    "            # Compute loss\n",
    "            loss1 = -mll1(output1, y_batch)\n",
    "            loss2 = -mll2(output2, y_batch)\n",
    "            loss3 = -mll3(output3, y_batch)\n",
    "            loss4 = -mll4(output4, y_batch)\n",
    "            # Call backward on loss\n",
    "            loss1.backward()\n",
    "            loss2.backward()\n",
    "            loss3.backward()\n",
    "            loss4.backward()\n",
    "            # Take a step\n",
    "            hyperparameter_optimizer1.step()\n",
    "            hyperparameter_optimizer2.step()\n",
    "            hyperparameter_optimizer3.step()\n",
    "            hyperparameter_optimizer4.step()\n",
    "            \n",
    "            \n",
    "            # Update counter\n",
    "            minibatch_iter.set_postfix(loss1=loss1.item(),loss2=loss2.item(),loss3=loss3.item(),loss4=loss4.item())\n",
    "            \n",
    "            # Track loss\n",
    "            train_loss1.append(loss1.item())\n",
    "            train_loss2.append(loss2.item())\n",
    "            train_loss3.append(loss3.item())\n",
    "            train_loss4.append(loss4.item())\n",
    "            \n",
    "            \n",
    "        # Step learning rate scheduler\n",
    "        scheduler_hypers1.step()\n",
    "        scheduler_hypers2.step()\n",
    "        scheduler_hypers3.step()\n",
    "        scheduler_hypers4.step()\n",
    "        "
   ]
  },
  {
   "cell_type": "code",
   "execution_count": 31,
   "id": "0b668691",
   "metadata": {},
   "outputs": [
    {
     "data": {
      "text/plain": [
       "tensor([3.8405, 3.8257, 3.8307,  ..., 1.1177, 1.1068, 1.1238])"
      ]
     },
     "execution_count": 31,
     "metadata": {},
     "output_type": "execute_result"
    }
   ],
   "source": [
    "torch.tensor(train_loss1).add(2).log()"
   ]
  },
  {
   "cell_type": "code",
   "execution_count": 33,
   "id": "a633bd12",
   "metadata": {},
   "outputs": [
    {
     "data": {
      "text/plain": [
       "(0.0, 2.0)"
      ]
     },
     "execution_count": 33,
     "metadata": {},
     "output_type": "execute_result"
    },
    {
     "data": {
      "image/png": "[encoded data removed]",
      "text/plain": [
       "<Figure size 640x480 with 1 Axes>"
      ]
     },
     "metadata": {},
     "output_type": "display_data"
    }
   ],
   "source": [
    "plt.plot(torch.tensor(train_loss1).add(2).log(), \"r-\")\n",
    "plt.plot(torch.tensor(train_loss2).add(2).log(), \"g-\")\n",
    "plt.plot(torch.tensor(train_loss3).add(2).log(), \"b-\")\n",
    "plt.plot(torch.tensor(train_loss4).add(2).log(), \"k-\")\n",
    "plt.ylim(0,2)"
   ]
  },
  {
   "cell_type": "markdown",
   "id": "0072115d",
   "metadata": {},
   "source": [
    "A bit surprisingly, the ARD doesn't really seem to add anything to the training loss. Let's look at the estimated length scales"
   ]
  },
  {
   "cell_type": "code",
   "execution_count": 42,
   "id": "b737a84d",
   "metadata": {},
   "outputs": [
    {
     "name": "stdout",
     "output_type": "stream",
     "text": [
      "tensor([[12.3305]], grad_fn=<SoftplusBackward0>)\n",
      "tensor([[ 5.8889,  4.7842, 10.0429,  8.0754, 10.1906, 10.9788, 12.0735, 13.0079,\n",
      "          8.3037, 13.1443, 12.9936, 10.5663, 13.3086, 11.2628,  6.3035, 11.4812,\n",
      "         11.6451, 11.9316, 11.7899,  7.9586,  9.7358,  5.0514, 11.5923, 12.6928,\n",
      "         12.9546, 13.0178, 12.9068, 12.4038, 12.7344, 10.4758, 11.9879, 11.7615,\n",
      "         12.9282, 13.4207, 12.3537,  9.9625, 12.3202, 11.8664, 12.5043, 11.0829,\n",
      "         10.3932, 11.9920]], grad_fn=<SoftplusBackward0>)\n"
     ]
    }
   ],
   "source": [
    "print(model3.covar_module_drugs.lengthscale)\n",
    "print(model4.covar_module_drugs.lengthscale)\n"
   ]
  },
  {
   "cell_type": "markdown",
   "id": "f6241585",
   "metadata": {},
   "source": [
    "It could be the case that with PCA factors as input, the ARD doesn't really matter as much. The PCA factors are aswell quite uniform in importance. It is not the case that a large proportion of the variance is explained by a couple of factors."
   ]
  },
  {
   "cell_type": "markdown",
   "id": "fddd5318",
   "metadata": {},
   "source": [
    "Now let's look at prediction performance"
   ]
  },
  {
   "cell_type": "code",
   "execution_count": 34,
   "id": "10ed2446",
   "metadata": {},
   "outputs": [],
   "source": [
    "# Set into eval mode\n",
    "model1.eval()\n",
    "model2.eval()\n",
    "model3.eval()\n",
    "model4.eval()\n",
    "likelihood1.eval()\n",
    "likelihood2.eval()\n",
    "likelihood3.eval()\n",
    "likelihood4.eval()\n",
    "# Make predictions\n",
    "\n",
    "with torch.no_grad(), gpytorch.settings.fast_pred_var():\n",
    "    predictions1 = likelihood1(model1(X_test))\n",
    "    predictions2 = likelihood2(model2(X_test))\n",
    "    predictions3 = likelihood3(model3(X_test))\n",
    "    predictions4 = likelihood4(model4(X_test))\n",
    "    mean1 = predictions1.mean\n",
    "    mean2 = predictions2.mean\n",
    "    mean3 = predictions3.mean\n",
    "    mean4 = predictions4.mean\n",
    "    #lower, upper = predictions.confidence_region()\n",
    "\n"
   ]
  },
  {
   "cell_type": "code",
   "execution_count": 40,
   "id": "a37e1768",
   "metadata": {},
   "outputs": [
    {
     "name": "stdout",
     "output_type": "stream",
     "text": [
      "[[1.         0.42255009]\n",
      " [0.42255009 1.        ]]\n",
      "[[1.         0.80361184]\n",
      " [0.80361184 1.        ]]\n",
      "[[1.         0.91178236]\n",
      " [0.91178236 1.        ]]\n",
      "[[1.         0.90534793]\n",
      " [0.90534793 1.        ]]\n"
     ]
    }
   ],
   "source": [
    "print(np.corrcoef(mean1.squeeze(0),y_test))\n",
    "print(np.corrcoef(mean2.squeeze(0),y_test))\n",
    "print(np.corrcoef(mean3.squeeze(0),y_test))\n",
    "print(np.corrcoef(mean4.squeeze(0),y_test))"
   ]
  },
  {
   "cell_type": "markdown",
   "id": "273c0ddd",
   "metadata": {},
   "source": [
    "We see that model 1 (linear) does the worst in terms of predition performance, likely because it is not able to model the interaction between drugs. The polynomial kernel does a bit better, but the RBF is the best overall (with standard RBF slightly beating the RBF + ARD even). Moving forward, I'll work with the standard RBF kernel."
   ]
  },
  {
   "cell_type": "markdown",
   "id": "a3be045d",
   "metadata": {},
   "source": [
    "Now let's look at the various fingerprint options. Above we used the standard Morgan fingerprint, but we could also look at some variations here."
   ]
  },
  {
   "cell_type": "code",
   "execution_count": 63,
   "id": "055e13aa",
   "metadata": {},
   "outputs": [
    {
     "name": "stdout",
     "output_type": "stream",
     "text": [
      "ratio variance explained:  0.7654594221238501\n",
      "ratio variance explained:  0.7494591972689711\n"
     ]
    }
   ],
   "source": [
    "import pandas as pd\n",
    "import numpy as np\n",
    "import gauche\n",
    "from gauche.dataloader import MolPropLoader\n",
    "from sklearn.decomposition import PCA\n",
    "from sklearn.preprocessing import StandardScaler\n",
    "from scipy.stats import zscore\n",
    "loader = MolPropLoader()\n",
    "drugs = pd.read_csv(\"../synpred/data/ONeil_drug_SMILES.csv\")\n",
    "data = pd.read_csv(\"../synpred/data/Oneil_full.csv\",delimiter=\";\")\n",
    "# Processing drug SMILES\n",
    "loader.read_csv(\"../synpred/data/ONeil_drug_SMILES.csv\",smiles_column=\"SMILES\",label_column=\"Numeric\",validate=True)\n",
    "\n",
    "\n",
    "########################################\n",
    "########## fragments ###################\n",
    "########################################\n",
    "loader.featurize('fragments')\n",
    "X = loader.features\n",
    "scaler = StandardScaler()\n",
    "X = scaler.fit_transform(X)\n",
    "pcacomponents_fragments = 12 # 12 for fragments\n",
    "pca = PCA(n_components=pcacomponents_fragments)\n",
    "X = pca.fit_transform(X)\n",
    "print(\"ratio variance explained: \",pca.explained_variance_ratio_.sum()) # Should be above 75%\n",
    "\n",
    "# Merging onto the main dataframe\n",
    "X = pd.DataFrame(X)\n",
    "X = X.apply(zscore)\n",
    "XA = X.add_prefix(\"A_fragments\")\n",
    "XB = X.add_prefix(\"B_fragments\")\n",
    "drugsA = pd.concat([drugs,XA],axis=1)\n",
    "drugsA = drugsA.drop(columns=[\"Target\",\"SMILES\",\"Numeric\"],axis=1)\n",
    "drugsB = pd.concat([drugs,XB],axis=1)\n",
    "drugsB = drugsB.drop(columns=[\"Target\",\"SMILES\",\"Numeric\"],axis=1)\n",
    "\n",
    "\n",
    "data = pd.merge(data,drugsA, left_on=\"DrugA\",right_on=\"Name\")\n",
    "data = pd.merge(data,drugsB, left_on=\"DrugB\",right_on=\"Name\")\n",
    "data = data.drop(columns=[\"Name_x\",\"Name_y\"])\n",
    "\n",
    "\n",
    "########################################\n",
    "########## fragprints ##################\n",
    "########################################\n",
    "#data = pd.read_csv(\"../synpred/data/Oneil_full.csv\",delimiter=\";\")\n",
    "loader.read_csv(\"../synpred/data/ONeil_drug_SMILES.csv\",smiles_column=\"SMILES\",label_column=\"Numeric\",validate=True)\n",
    "loader.featurize('ecfp_fragprints')\n",
    "X = loader.features\n",
    "scaler = StandardScaler()\n",
    "X = scaler.fit_transform(X)\n",
    "pcacomponents_fragprints = 21 # 21 for fragprints\n",
    "pca = PCA(n_components=pcacomponents_fragprints)\n",
    "X = pca.fit_transform(X)\n",
    "print(\"ratio variance explained: \",pca.explained_variance_ratio_.sum()) # Should be above 75%#\n",
    "\n",
    "# Merging onto the main dataframe\n",
    "X = pd.DataFrame(X)\n",
    "X = X.apply(zscore)\n",
    "XA = X.add_prefix(\"A_fragprints\")\n",
    "XB = X.add_prefix(\"B_fragprints\")\n",
    "drugsA = pd.concat([drugs,XA],axis=1)\n",
    "drugsA = drugsA.drop(columns=[\"Target\",\"SMILES\",\"Numeric\"],axis=1)\n",
    "drugsB = pd.concat([drugs,XB],axis=1)\n",
    "drugsB = drugsB.drop(columns=[\"Target\",\"SMILES\",\"Numeric\"],axis=1)\n",
    "\n",
    "\n",
    "data = pd.merge(data,drugsA, left_on=\"DrugA\",right_on=\"Name\")\n",
    "data = pd.merge(data,drugsB, left_on=\"DrugB\",right_on=\"Name\")\n",
    "data = data.drop(columns=[\"Name_x\",\"Name_y\"])"
   ]
  },
  {
   "cell_type": "code",
   "execution_count": 65,
   "id": "3cc6a32b",
   "metadata": {},
   "outputs": [
    {
     "name": "stdout",
     "output_type": "stream",
     "text": [
      "['A2058']\n"
     ]
    }
   ],
   "source": [
    "# Sort the data, and pull out a single cell line\n",
    "data = data.sort_values([\"CellLine\",\"DrugA\",\"DrugB\"])\n",
    "k = 1*583*100\n",
    "data = data.head(k)\n",
    "print(data[\"CellLine\"].unique()) # Should be a single value here"
   ]
  },
  {
   "cell_type": "code",
   "execution_count": 66,
   "id": "295e423d",
   "metadata": {},
   "outputs": [],
   "source": [
    "# Now splitting the dataset into a test and train set\n",
    "from sklearn.model_selection import train_test_split\n",
    "k = np.floor(583*0.8)\n",
    "data[\"combination\"] = data.DrugA.map(str) + \"_\" + data.DrugB\n",
    "train_combinations, test_combinations = train_test_split(pd.DataFrame(data.combination.unique()), test_size=0.2)\n",
    "train = data[data[\"combination\"].isin(train_combinations[0].tolist())]\n",
    "test = data[data[\"combination\"].isin(test_combinations[0].tolist())]\n",
    "# Now drop the combination column\n",
    "train = train.drop(columns=[\"combination\"])\n",
    "test = test.drop(columns=[\"combination\"])"
   ]
  },
  {
   "cell_type": "code",
   "execution_count": 75,
   "id": "fa1ef27e",
   "metadata": {},
   "outputs": [
    {
     "data": {
      "text/plain": [
       "['A_fragments0',\n",
       " 'A_fragments1',\n",
       " 'A_fragments2',\n",
       " 'A_fragments3',\n",
       " 'A_fragments4',\n",
       " 'A_fragments5',\n",
       " 'A_fragments6',\n",
       " 'A_fragments7',\n",
       " 'A_fragments8',\n",
       " 'A_fragments9',\n",
       " 'A_fragments10',\n",
       " 'A_fragments11',\n",
       " 'B_fragments0',\n",
       " 'B_fragments1',\n",
       " 'B_fragments2',\n",
       " 'B_fragments3',\n",
       " 'B_fragments4',\n",
       " 'B_fragments5',\n",
       " 'B_fragments6',\n",
       " 'B_fragments7',\n",
       " 'B_fragments8',\n",
       " 'B_fragments9',\n",
       " 'B_fragments10',\n",
       " 'B_fragments11']"
      ]
     },
     "execution_count": 75,
     "metadata": {},
     "output_type": "execute_result"
    }
   ],
   "source": [
    "[col for col in train if col.startswith(\"fragments\",2,len(col))]"
   ]
  },
  {
   "cell_type": "code",
   "execution_count": 74,
   "id": "a97c3984",
   "metadata": {
    "scrolled": true
   },
   "outputs": [
    {
     "data": {
      "text/plain": [
       "['CellLine',\n",
       " 'DrugA',\n",
       " 'DrugB',\n",
       " 'DrugAconc',\n",
       " 'DrugBconc',\n",
       " 'GPMean',\n",
       " 'GPVar',\n",
       " 'fMean',\n",
       " 'fVAR',\n",
       " 'p0Mean',\n",
       " 'b1',\n",
       " 'b2',\n",
       " 'A_fragments0',\n",
       " 'A_fragments1',\n",
       " 'A_fragments2',\n",
       " 'A_fragments3',\n",
       " 'A_fragments4',\n",
       " 'A_fragments5',\n",
       " 'A_fragments6',\n",
       " 'A_fragments7',\n",
       " 'A_fragments8',\n",
       " 'A_fragments9',\n",
       " 'A_fragments10',\n",
       " 'A_fragments11',\n",
       " 'B_fragments0',\n",
       " 'B_fragments1',\n",
       " 'B_fragments2',\n",
       " 'B_fragments3',\n",
       " 'B_fragments4',\n",
       " 'B_fragments5',\n",
       " 'B_fragments6',\n",
       " 'B_fragments7',\n",
       " 'B_fragments8',\n",
       " 'B_fragments9',\n",
       " 'B_fragments10',\n",
       " 'B_fragments11',\n",
       " 'A_fragprints0',\n",
       " 'A_fragprints1',\n",
       " 'A_fragprints2',\n",
       " 'A_fragprints3',\n",
       " 'A_fragprints4',\n",
       " 'A_fragprints5',\n",
       " 'A_fragprints6',\n",
       " 'A_fragprints7',\n",
       " 'A_fragprints8',\n",
       " 'A_fragprints9',\n",
       " 'A_fragprints10',\n",
       " 'A_fragprints11',\n",
       " 'A_fragprints12',\n",
       " 'A_fragprints13',\n",
       " 'A_fragprints14',\n",
       " 'A_fragprints15',\n",
       " 'A_fragprints16',\n",
       " 'A_fragprints17',\n",
       " 'A_fragprints18',\n",
       " 'A_fragprints19',\n",
       " 'A_fragprints20',\n",
       " 'B_fragprints0',\n",
       " 'B_fragprints1',\n",
       " 'B_fragprints2',\n",
       " 'B_fragprints3',\n",
       " 'B_fragprints4',\n",
       " 'B_fragprints5',\n",
       " 'B_fragprints6',\n",
       " 'B_fragprints7',\n",
       " 'B_fragprints8',\n",
       " 'B_fragprints9',\n",
       " 'B_fragprints10',\n",
       " 'B_fragprints11',\n",
       " 'B_fragprints12',\n",
       " 'B_fragprints13',\n",
       " 'B_fragprints14',\n",
       " 'B_fragprints15',\n",
       " 'B_fragprints16',\n",
       " 'B_fragprints17',\n",
       " 'B_fragprints18',\n",
       " 'B_fragprints19',\n",
       " 'B_fragprints20']"
      ]
     },
     "execution_count": 74,
     "metadata": {},
     "output_type": "execute_result"
    }
   ],
   "source": [
    "[col for col in train]\n",
    "    print(col.startswith(\"fragments\",2,len(col)))"
   ]
  },
  {
   "cell_type": "code",
   "execution_count": 78,
   "id": "ea833ec7",
   "metadata": {},
   "outputs": [],
   "source": [
    "# Now setting up the actual datasets\n",
    "from matplotlib import pyplot as plt\n",
    "import torch\n",
    "import gpytorch\n",
    "import numpy as np\n",
    "import linear_operator\n",
    "y_train = torch.tensor(train[\"fMean\"].values).float()\n",
    "y_test = torch.tensor(test[\"fMean\"].values).float()\n",
    "conc_train = train[['DrugAconc','DrugBconc']]\n",
    "conc_test = test[['DrugAconc','DrugBconc']]\n",
    "fragmentcol = [col for col in train if col.startswith(\"fragments\",2,len(col))]\n",
    "fragprintcol = [col for col in train if col.startswith(\"fragprint\",2,len(col))]\n",
    "drugcovars_train_fragments = train[fragmentcol]\n",
    "drugcovars_test_fragments = test[fragmentcol]\n",
    "drugcovars_train_fragprints = train[fragprintcol]\n",
    "drugcovars_test_fragprints = test[fragprintcol]\n",
    "X_train_fragments = torch.tensor(pd.concat([conc_train,drugcovars_train_fragments],axis=1).values).float()\n",
    "X_test_fragments = torch.tensor(pd.concat([conc_test,drugcovars_test_fragments],axis=1).values).float()\n",
    "X_train_fragprints = torch.tensor(pd.concat([conc_train,drugcovars_train_fragprints],axis=1).values).float()\n",
    "X_test_fragprints = torch.tensor(pd.concat([conc_test,drugcovars_test_fragprints],axis=1).values).float()"
   ]
  },
  {
   "cell_type": "code",
   "execution_count": 86,
   "id": "dc0878fb",
   "metadata": {},
   "outputs": [],
   "source": [
    "# Setting up minibatching\n",
    "from torch.utils.data import TensorDataset, DataLoader\n",
    "train_dataset_fragments = TensorDataset(X_train_fragments, y_train)\n",
    "train_loader_fragments = DataLoader(train_dataset_fragments, batch_size=256, shuffle=True)\n",
    "train_dataset_fragprints = TensorDataset(X_train_fragprints, y_train)\n",
    "train_loader_fragprints = DataLoader(train_dataset_fragprints, batch_size=256, shuffle=True)"
   ]
  },
  {
   "cell_type": "code",
   "execution_count": 85,
   "id": "b9d2e740",
   "metadata": {},
   "outputs": [],
   "source": [
    "### Fragments\n",
    "class DrugCombModel3_fragments(gpytorch.models.ApproximateGP):\n",
    "    def __init__(self):\n",
    "        # Permutation\n",
    "        permutation = torch.cat([torch.tensor([1]),torch.tensor([0]),torch.linspace((2+pcacomponents_fragments),1+(2*pcacomponents_fragments),pcacomponents_fragments),torch.linspace(2,1+pcacomponents_fragments,pcacomponents_fragments)]).long()\n",
    "        # Inducing points init from training data\n",
    "        ind_indices = torch.randperm(X_train_fragments.size(0))\n",
    "        inducing_points = torch.stack([X_train_fragments[ind_indices[:2000]]],\n",
    "                                       dim=0)\n",
    "        # Variational distribution\n",
    "        variational_distribution = gpytorch.variational.MeanFieldVariationalDistribution(\n",
    "            inducing_points.size(-2))\n",
    "        \n",
    "        \n",
    "        # Variational Strategy\n",
    "        variational_strategy = PermutationInvariantVariationalStrategy(\n",
    "            self, inducing_points, variational_distribution, \n",
    "            permutation=permutation,\n",
    "            learn_inducing_locations=True)\n",
    "\n",
    "        \n",
    "        super(DrugCombModel3_fragments,self).__init__(variational_strategy)\n",
    "        \n",
    "        # Mean and covariance modules\n",
    "        # Standard zero-mean\n",
    "        self.mean_module = gpytorch.means.ZeroMean()\n",
    "        # Covar over the concentrations, simple RBF\n",
    "        self.covar_module_concentrations = gpytorch.kernels.RBFKernel(active_dims=torch.tensor([0,1]))\n",
    "        # Covar over the drugs, RBF \n",
    "        self.covar_module_drugs = gpytorch.kernels.RBFKernel(active_dims=torch.linspace(2,2*pcacomponents_fragments+1,2*pcacomponents_fragments).long(),\n",
    "                                                            ard_num_dims=None)\n",
    "        \n",
    "    def forward(self, x):\n",
    "        mean_x = self.mean_module(x)\n",
    "        # Final covariance is a simple product.\n",
    "        covar_x = self.covar_module_concentrations(x) * self.covar_module_drugs(x)\n",
    "        return gpytorch.distributions.MultivariateNormal(mean_x, covar_x)\n",
    "    \n",
    "### Fragprints\n",
    "class DrugCombModel3_fragprints(gpytorch.models.ApproximateGP):\n",
    "    def __init__(self):\n",
    "        # Permutation\n",
    "        permutation = torch.cat([torch.tensor([1]),torch.tensor([0]),torch.linspace((2+pcacomponents_fragprints),1+(2*pcacomponents_fragprints),pcacomponents_fragprints),torch.linspace(2,1+pcacomponents_fragprints,pcacomponents_fragprints)]).long()\n",
    "        # Inducing points init from training data\n",
    "        ind_indices = torch.randperm(X_train_fragprints.size(0))\n",
    "        inducing_points = torch.stack([X_train_fragprints[ind_indices[:2000]]],\n",
    "                                       dim=0)\n",
    "        # Variational distribution\n",
    "        variational_distribution = gpytorch.variational.MeanFieldVariationalDistribution(\n",
    "            inducing_points.size(-2))\n",
    "        \n",
    "        \n",
    "        # Variational Strategy\n",
    "        variational_strategy = PermutationInvariantVariationalStrategy(\n",
    "            self, inducing_points, variational_distribution, \n",
    "            permutation=permutation,\n",
    "            learn_inducing_locations=True)\n",
    "\n",
    "        \n",
    "        super(DrugCombModel3_fragprints,self).__init__(variational_strategy)\n",
    "        \n",
    "        # Mean and covariance modules\n",
    "        # Standard zero-mean\n",
    "        self.mean_module = gpytorch.means.ZeroMean()\n",
    "        # Covar over the concentrations, simple RBF\n",
    "        self.covar_module_concentrations = gpytorch.kernels.RBFKernel(active_dims=torch.tensor([0,1]))\n",
    "        # Covar over the drugs, RBF \n",
    "        self.covar_module_drugs = gpytorch.kernels.RBFKernel(active_dims=torch.linspace(2,2*pcacomponents_fragprints+1,2*pcacomponents_fragprints).long(),\n",
    "                                                            ard_num_dims=None)\n",
    "        \n",
    "    def forward(self, x):\n",
    "        mean_x = self.mean_module(x)\n",
    "        # Final covariance is a simple product.\n",
    "        covar_x = self.covar_module_concentrations(x) * self.covar_module_drugs(x)\n",
    "        return gpytorch.distributions.MultivariateNormal(mean_x, covar_x)\n",
    "    \n",
    "model_fragments = DrugCombModel3_fragments()\n",
    "model_fragprints = DrugCombModel3_fragprints()\n",
    "likelihood_fragments = gpytorch.likelihoods.GaussianLikelihood()\n",
    "likelihood_fragprints = gpytorch.likelihoods.GaussianLikelihood()\n"
   ]
  },
  {
   "cell_type": "code",
   "execution_count": 87,
   "id": "211d9c99",
   "metadata": {},
   "outputs": [
    {
     "data": {
      "application/vnd.jupyter.widget-view+json": {
       "model_id": "47f39b5386ab46469bc97166ca118889",
       "version_major": 2,
       "version_minor": 0
      },
      "text/plain": [
       "Epoch:   0%|          | 0/20 [00:00<?, ?it/s]"
      ]
     },
     "metadata": {},
     "output_type": "display_data"
    },
    {
     "data": {
      "application/vnd.jupyter.widget-view+json": {
       "model_id": "",
       "version_major": 2,
       "version_minor": 0
      },
      "text/plain": [
       "Minibatch:   0%|          | 0/183 [00:00<?, ?it/s]"
      ]
     },
     "metadata": {},
     "output_type": "display_data"
    },
    {
     "data": {
      "application/vnd.jupyter.widget-view+json": {
       "model_id": "",
       "version_major": 2,
       "version_minor": 0
      },
      "text/plain": [
       "Minibatch:   0%|          | 0/183 [00:00<?, ?it/s]"
      ]
     },
     "metadata": {},
     "output_type": "display_data"
    },
    {
     "data": {
      "application/vnd.jupyter.widget-view+json": {
       "model_id": "",
       "version_major": 2,
       "version_minor": 0
      },
      "text/plain": [
       "Minibatch:   0%|          | 0/183 [00:00<?, ?it/s]"
      ]
     },
     "metadata": {},
     "output_type": "display_data"
    },
    {
     "data": {
      "application/vnd.jupyter.widget-view+json": {
       "model_id": "",
       "version_major": 2,
       "version_minor": 0
      },
      "text/plain": [
       "Minibatch:   0%|          | 0/183 [00:00<?, ?it/s]"
      ]
     },
     "metadata": {},
     "output_type": "display_data"
    },
    {
     "data": {
      "application/vnd.jupyter.widget-view+json": {
       "model_id": "",
       "version_major": 2,
       "version_minor": 0
      },
      "text/plain": [
       "Minibatch:   0%|          | 0/183 [00:00<?, ?it/s]"
      ]
     },
     "metadata": {},
     "output_type": "display_data"
    },
    {
     "data": {
      "application/vnd.jupyter.widget-view+json": {
       "model_id": "",
       "version_major": 2,
       "version_minor": 0
      },
      "text/plain": [
       "Minibatch:   0%|          | 0/183 [00:00<?, ?it/s]"
      ]
     },
     "metadata": {},
     "output_type": "display_data"
    },
    {
     "data": {
      "application/vnd.jupyter.widget-view+json": {
       "model_id": "",
       "version_major": 2,
       "version_minor": 0
      },
      "text/plain": [
       "Minibatch:   0%|          | 0/183 [00:00<?, ?it/s]"
      ]
     },
     "metadata": {},
     "output_type": "display_data"
    },
    {
     "data": {
      "application/vnd.jupyter.widget-view+json": {
       "model_id": "",
       "version_major": 2,
       "version_minor": 0
      },
      "text/plain": [
       "Minibatch:   0%|          | 0/183 [00:00<?, ?it/s]"
      ]
     },
     "metadata": {},
     "output_type": "display_data"
    },
    {
     "data": {
      "application/vnd.jupyter.widget-view+json": {
       "model_id": "",
       "version_major": 2,
       "version_minor": 0
      },
      "text/plain": [
       "Minibatch:   0%|          | 0/183 [00:00<?, ?it/s]"
      ]
     },
     "metadata": {},
     "output_type": "display_data"
    },
    {
     "data": {
      "application/vnd.jupyter.widget-view+json": {
       "model_id": "",
       "version_major": 2,
       "version_minor": 0
      },
      "text/plain": [
       "Minibatch:   0%|          | 0/183 [00:00<?, ?it/s]"
      ]
     },
     "metadata": {},
     "output_type": "display_data"
    },
    {
     "data": {
      "application/vnd.jupyter.widget-view+json": {
       "model_id": "",
       "version_major": 2,
       "version_minor": 0
      },
      "text/plain": [
       "Minibatch:   0%|          | 0/183 [00:00<?, ?it/s]"
      ]
     },
     "metadata": {},
     "output_type": "display_data"
    },
    {
     "data": {
      "application/vnd.jupyter.widget-view+json": {
       "model_id": "",
       "version_major": 2,
       "version_minor": 0
      },
      "text/plain": [
       "Minibatch:   0%|          | 0/183 [00:00<?, ?it/s]"
      ]
     },
     "metadata": {},
     "output_type": "display_data"
    },
    {
     "data": {
      "application/vnd.jupyter.widget-view+json": {
       "model_id": "",
       "version_major": 2,
       "version_minor": 0
      },
      "text/plain": [
       "Minibatch:   0%|          | 0/183 [00:00<?, ?it/s]"
      ]
     },
     "metadata": {},
     "output_type": "display_data"
    },
    {
     "data": {
      "application/vnd.jupyter.widget-view+json": {
       "model_id": "",
       "version_major": 2,
       "version_minor": 0
      },
      "text/plain": [
       "Minibatch:   0%|          | 0/183 [00:00<?, ?it/s]"
      ]
     },
     "metadata": {},
     "output_type": "display_data"
    },
    {
     "data": {
      "application/vnd.jupyter.widget-view+json": {
       "model_id": "",
       "version_major": 2,
       "version_minor": 0
      },
      "text/plain": [
       "Minibatch:   0%|          | 0/183 [00:00<?, ?it/s]"
      ]
     },
     "metadata": {},
     "output_type": "display_data"
    },
    {
     "data": {
      "application/vnd.jupyter.widget-view+json": {
       "model_id": "",
       "version_major": 2,
       "version_minor": 0
      },
      "text/plain": [
       "Minibatch:   0%|          | 0/183 [00:00<?, ?it/s]"
      ]
     },
     "metadata": {},
     "output_type": "display_data"
    },
    {
     "data": {
      "application/vnd.jupyter.widget-view+json": {
       "model_id": "",
       "version_major": 2,
       "version_minor": 0
      },
      "text/plain": [
       "Minibatch:   0%|          | 0/183 [00:00<?, ?it/s]"
      ]
     },
     "metadata": {},
     "output_type": "display_data"
    },
    {
     "data": {
      "application/vnd.jupyter.widget-view+json": {
       "model_id": "",
       "version_major": 2,
       "version_minor": 0
      },
      "text/plain": [
       "Minibatch:   0%|          | 0/183 [00:00<?, ?it/s]"
      ]
     },
     "metadata": {},
     "output_type": "display_data"
    },
    {
     "data": {
      "application/vnd.jupyter.widget-view+json": {
       "model_id": "",
       "version_major": 2,
       "version_minor": 0
      },
      "text/plain": [
       "Minibatch:   0%|          | 0/183 [00:00<?, ?it/s]"
      ]
     },
     "metadata": {},
     "output_type": "display_data"
    },
    {
     "data": {
      "application/vnd.jupyter.widget-view+json": {
       "model_id": "",
       "version_major": 2,
       "version_minor": 0
      },
      "text/plain": [
       "Minibatch:   0%|          | 0/183 [00:00<?, ?it/s]"
      ]
     },
     "metadata": {},
     "output_type": "display_data"
    },
    {
     "data": {
      "application/vnd.jupyter.widget-view+json": {
       "model_id": "",
       "version_major": 2,
       "version_minor": 0
      },
      "text/plain": [
       "Minibatch:   0%|          | 0/183 [00:00<?, ?it/s]"
      ]
     },
     "metadata": {},
     "output_type": "display_data"
    },
    {
     "data": {
      "application/vnd.jupyter.widget-view+json": {
       "model_id": "",
       "version_major": 2,
       "version_minor": 0
      },
      "text/plain": [
       "Minibatch:   0%|          | 0/183 [00:00<?, ?it/s]"
      ]
     },
     "metadata": {},
     "output_type": "display_data"
    },
    {
     "data": {
      "application/vnd.jupyter.widget-view+json": {
       "model_id": "",
       "version_major": 2,
       "version_minor": 0
      },
      "text/plain": [
       "Minibatch:   0%|          | 0/183 [00:00<?, ?it/s]"
      ]
     },
     "metadata": {},
     "output_type": "display_data"
    },
    {
     "data": {
      "application/vnd.jupyter.widget-view+json": {
       "model_id": "",
       "version_major": 2,
       "version_minor": 0
      },
      "text/plain": [
       "Minibatch:   0%|          | 0/183 [00:00<?, ?it/s]"
      ]
     },
     "metadata": {},
     "output_type": "display_data"
    },
    {
     "data": {
      "application/vnd.jupyter.widget-view+json": {
       "model_id": "",
       "version_major": 2,
       "version_minor": 0
      },
      "text/plain": [
       "Minibatch:   0%|          | 0/183 [00:00<?, ?it/s]"
      ]
     },
     "metadata": {},
     "output_type": "display_data"
    },
    {
     "data": {
      "application/vnd.jupyter.widget-view+json": {
       "model_id": "",
       "version_major": 2,
       "version_minor": 0
      },
      "text/plain": [
       "Minibatch:   0%|          | 0/183 [00:00<?, ?it/s]"
      ]
     },
     "metadata": {},
     "output_type": "display_data"
    },
    {
     "data": {
      "application/vnd.jupyter.widget-view+json": {
       "model_id": "",
       "version_major": 2,
       "version_minor": 0
      },
      "text/plain": [
       "Minibatch:   0%|          | 0/183 [00:00<?, ?it/s]"
      ]
     },
     "metadata": {},
     "output_type": "display_data"
    },
    {
     "data": {
      "application/vnd.jupyter.widget-view+json": {
       "model_id": "",
       "version_major": 2,
       "version_minor": 0
      },
      "text/plain": [
       "Minibatch:   0%|          | 0/183 [00:00<?, ?it/s]"
      ]
     },
     "metadata": {},
     "output_type": "display_data"
    },
    {
     "data": {
      "application/vnd.jupyter.widget-view+json": {
       "model_id": "",
       "version_major": 2,
       "version_minor": 0
      },
      "text/plain": [
       "Minibatch:   0%|          | 0/183 [00:00<?, ?it/s]"
      ]
     },
     "metadata": {},
     "output_type": "display_data"
    },
    {
     "data": {
      "application/vnd.jupyter.widget-view+json": {
       "model_id": "",
       "version_major": 2,
       "version_minor": 0
      },
      "text/plain": [
       "Minibatch:   0%|          | 0/183 [00:00<?, ?it/s]"
      ]
     },
     "metadata": {},
     "output_type": "display_data"
    },
    {
     "data": {
      "application/vnd.jupyter.widget-view+json": {
       "model_id": "",
       "version_major": 2,
       "version_minor": 0
      },
      "text/plain": [
       "Minibatch:   0%|          | 0/183 [00:00<?, ?it/s]"
      ]
     },
     "metadata": {},
     "output_type": "display_data"
    },
    {
     "data": {
      "application/vnd.jupyter.widget-view+json": {
       "model_id": "",
       "version_major": 2,
       "version_minor": 0
      },
      "text/plain": [
       "Minibatch:   0%|          | 0/183 [00:00<?, ?it/s]"
      ]
     },
     "metadata": {},
     "output_type": "display_data"
    },
    {
     "data": {
      "application/vnd.jupyter.widget-view+json": {
       "model_id": "",
       "version_major": 2,
       "version_minor": 0
      },
      "text/plain": [
       "Minibatch:   0%|          | 0/183 [00:00<?, ?it/s]"
      ]
     },
     "metadata": {},
     "output_type": "display_data"
    },
    {
     "data": {
      "application/vnd.jupyter.widget-view+json": {
       "model_id": "",
       "version_major": 2,
       "version_minor": 0
      },
      "text/plain": [
       "Minibatch:   0%|          | 0/183 [00:00<?, ?it/s]"
      ]
     },
     "metadata": {},
     "output_type": "display_data"
    },
    {
     "data": {
      "application/vnd.jupyter.widget-view+json": {
       "model_id": "",
       "version_major": 2,
       "version_minor": 0
      },
      "text/plain": [
       "Minibatch:   0%|          | 0/183 [00:00<?, ?it/s]"
      ]
     },
     "metadata": {},
     "output_type": "display_data"
    },
    {
     "data": {
      "application/vnd.jupyter.widget-view+json": {
       "model_id": "",
       "version_major": 2,
       "version_minor": 0
      },
      "text/plain": [
       "Minibatch:   0%|          | 0/183 [00:00<?, ?it/s]"
      ]
     },
     "metadata": {},
     "output_type": "display_data"
    },
    {
     "data": {
      "application/vnd.jupyter.widget-view+json": {
       "model_id": "",
       "version_major": 2,
       "version_minor": 0
      },
      "text/plain": [
       "Minibatch:   0%|          | 0/183 [00:00<?, ?it/s]"
      ]
     },
     "metadata": {},
     "output_type": "display_data"
    },
    {
     "data": {
      "application/vnd.jupyter.widget-view+json": {
       "model_id": "",
       "version_major": 2,
       "version_minor": 0
      },
      "text/plain": [
       "Minibatch:   0%|          | 0/183 [00:00<?, ?it/s]"
      ]
     },
     "metadata": {},
     "output_type": "display_data"
    },
    {
     "data": {
      "application/vnd.jupyter.widget-view+json": {
       "model_id": "",
       "version_major": 2,
       "version_minor": 0
      },
      "text/plain": [
       "Minibatch:   0%|          | 0/183 [00:00<?, ?it/s]"
      ]
     },
     "metadata": {},
     "output_type": "display_data"
    },
    {
     "data": {
      "application/vnd.jupyter.widget-view+json": {
       "model_id": "",
       "version_major": 2,
       "version_minor": 0
      },
      "text/plain": [
       "Minibatch:   0%|          | 0/183 [00:00<?, ?it/s]"
      ]
     },
     "metadata": {},
     "output_type": "display_data"
    }
   ],
   "source": [
    "# this is for running the notebook in our testing framework\n",
    "import os\n",
    "import tqdm.notebook\n",
    "from torch.optim.lr_scheduler import MultiStepLR\n",
    "num_epochs = 20 # Number of complete passes through the data\n",
    "\n",
    "# Will train all models in the same loop\n",
    "\n",
    "model_fragments.train()\n",
    "model_fragprints.train()\n",
    "\n",
    "likelihood_fragments.train()\n",
    "likelihood_fragprints.train()\n",
    "\n",
    "hyperparameter_optimizer_fragments = torch.optim.Adam([\n",
    "    {'params': model_fragments.parameters()},\n",
    "    {'params': likelihood_fragments.parameters()},\n",
    "], lr=0.01)\n",
    "\n",
    "hyperparameter_optimizer_fragprints = torch.optim.Adam([\n",
    "    {'params': model_fragprints.parameters()},\n",
    "    {'params': likelihood_fragprints.parameters()},\n",
    "], lr=0.01)\n",
    "\n",
    "scheduler_hypers_fragments = MultiStepLR(hyperparameter_optimizer_fragments, milestones=[0.5 * num_epochs,\n",
    "                                                                     0.75 * num_epochs\n",
    "                                                                     ], gamma=0.1)\n",
    "scheduler_hypers_fragprints = MultiStepLR(hyperparameter_optimizer_fragprints, milestones=[0.5 * num_epochs,\n",
    "                                                                     0.75 * num_epochs\n",
    "                                                                     ], gamma=0.1)\n",
    "\n",
    "# Tracking loss\n",
    "train_loss_fragments = []\n",
    "train_loss_fragprints = []\n",
    "\n",
    "\n",
    "# Our loss object. We're using the VariationalELBO, which essentially just computes the ELBO\n",
    "mll_fragments = gpytorch.mlls.VariationalELBO(likelihood_fragments, model_fragments, num_data=y_train.size(0))\n",
    "mll_fragprints = gpytorch.mlls.VariationalELBO(likelihood_fragprints, model_fragprints, num_data=y_train.size(0))\n",
    "\n",
    "# We use more CG iterations here because the preconditioner introduced in the NeurIPS paper seems to be less\n",
    "# effective for VI.\n",
    "with gpytorch.settings.cholesky_max_tries(12):\n",
    "    epochs_iter = tqdm.notebook.tqdm(range(num_epochs), desc=\"Epoch\")\n",
    "    for i in epochs_iter:\n",
    "        # Fragments\n",
    "        minibatch_iter = tqdm.notebook.tqdm(train_loader_fragments, desc=\"Minibatch\", leave=False)\n",
    "        for x_batch, y_batch in minibatch_iter:\n",
    "            # Zero gradients\n",
    "            hyperparameter_optimizer_fragments.zero_grad()\n",
    "            # Get outputs\n",
    "            output_fragments = model_fragments(x_batch)\n",
    "            # Compute loss\n",
    "            loss_fragments = -mll_fragments(output_fragments, y_batch)\n",
    "            # Call backward on loss\n",
    "            loss_fragments.backward()\n",
    "            # Take a step\n",
    "            hyperparameter_optimizer_fragments.step()\n",
    "              \n",
    "            # Update counter\n",
    "            minibatch_iter.set_postfix(loss_fragments=loss_fragments.item())\n",
    "            \n",
    "            # Track loss\n",
    "            train_loss_fragments.append(loss_fragments.item())\n",
    "            \n",
    "        # Fragprints\n",
    "        minibatch_iter = tqdm.notebook.tqdm(train_loader_fragprints, desc=\"Minibatch\", leave=False)\n",
    "        for x_batch, y_batch in minibatch_iter:\n",
    "            # Zero gradients\n",
    "            hyperparameter_optimizer_fragprints.zero_grad()\n",
    "            # Get outputs\n",
    "            output_fragprints = model_fragprints(x_batch)\n",
    "            # Compute loss\n",
    "            loss_fragprints = -mll_fragprints(output_fragprints, y_batch)\n",
    "            # Call backward on loss\n",
    "            loss_fragprints.backward()\n",
    "            # Take a step\n",
    "            hyperparameter_optimizer_fragprints.step()\n",
    "              \n",
    "            # Update counter\n",
    "            minibatch_iter.set_postfix(loss_fragments=loss_fragments.item(), loss_fragprints=loss_fragprints.item(), )\n",
    "            \n",
    "            # Track loss\n",
    "            train_loss_fragprints.append(loss_fragprints.item())\n",
    "        \n",
    "            \n",
    "            \n",
    "        # Step learning rate scheduler\n",
    "        scheduler_hypers_fragments.step()\n",
    "        scheduler_hypers_fragprints.step()\n",
    "\n",
    "        "
   ]
  },
  {
   "cell_type": "code",
   "execution_count": 90,
   "id": "46ad8953",
   "metadata": {},
   "outputs": [
    {
     "data": {
      "text/plain": [
       "(0.0, 2.0)"
      ]
     },
     "execution_count": 90,
     "metadata": {},
     "output_type": "execute_result"
    },
    {
     "data": {
      "image/png": "[encoded data removed]",
      "text/plain": [
       "<Figure size 640x480 with 1 Axes>"
      ]
     },
     "metadata": {},
     "output_type": "display_data"
    }
   ],
   "source": [
    "plt.plot(torch.tensor(train_loss_fragments).add(2).log(), \"r-\")\n",
    "plt.plot(torch.tensor(train_loss_fragprints).add(2).log(), \"g-\")\n",
    "plt.plot()\n",
    "plt.ylim(0,2)"
   ]
  },
  {
   "cell_type": "markdown",
   "id": "276cf216",
   "metadata": {},
   "source": [
    "Training loss is lower for fragments only compared to the combined fragprints. Let's look at the prediction error"
   ]
  },
  {
   "cell_type": "code",
   "execution_count": 92,
   "id": "92cbac80",
   "metadata": {},
   "outputs": [],
   "source": [
    "# Set into eval mode\n",
    "model_fragments.eval()\n",
    "model_fragprints.eval()\n",
    "likelihood_fragments.eval()\n",
    "likelihood_fragprints.eval()\n",
    "\n",
    "# Make predictions\n",
    "\n",
    "with torch.no_grad(), gpytorch.settings.fast_pred_var():\n",
    "    predictions_fragments = likelihood_fragments(model_fragments(X_test_fragments))\n",
    "    predictions_fragprints = likelihood_fragprints(model_fragprints(X_test_fragprints))\n",
    "    mean_fragments = predictions_fragments.mean\n",
    "    mean_fragprints = predictions_fragprints.mean\n"
   ]
  },
  {
   "cell_type": "code",
   "execution_count": 95,
   "id": "740403a5",
   "metadata": {
    "scrolled": true
   },
   "outputs": [
    {
     "name": "stdout",
     "output_type": "stream",
     "text": [
      "[[1.         0.93664612]\n",
      " [0.93664612 1.        ]]\n",
      "[[1.         0.91882836]\n",
      " [0.91882836 1.        ]]\n",
      "[[1.       0.978118]\n",
      " [0.978118 1.      ]]\n"
     ]
    }
   ],
   "source": [
    "print(np.corrcoef(mean_fragments.squeeze(0),y_test))\n",
    "print(np.corrcoef(mean_fragprints.squeeze(0),y_test))\n",
    "print(np.corrcoef(torch.tensor(test[\"p0Mean\"].values).float(),y_test)) # Not yet at level of p0."
   ]
  },
  {
   "cell_type": "code",
   "execution_count": 97,
   "id": "6beeca2a",
   "metadata": {},
   "outputs": [
    {
     "data": {
      "text/plain": [
       "<matplotlib.collections.PathCollection at 0x291f7c040>"
      ]
     },
     "execution_count": 97,
     "metadata": {},
     "output_type": "execute_result"
    },
    {
     "data": {
      "image/png": "[encoded data removed]",
      "text/plain": [
       "<Figure size 640x480 with 1 Axes>"
      ]
     },
     "metadata": {},
     "output_type": "display_data"
    }
   ],
   "source": [
    "plt.scatter(torch.tensor(test[\"p0Mean\"].values).float(),y_test)"
   ]
  },
  {
   "cell_type": "code",
   "execution_count": 98,
   "id": "4a13194e",
   "metadata": {},
   "outputs": [
    {
     "data": {
      "text/plain": [
       "<matplotlib.collections.PathCollection at 0x287442860>"
      ]
     },
     "execution_count": 98,
     "metadata": {},
     "output_type": "execute_result"
    },
    {
     "data": {
      "image/png": "[encoded data removed]",
      "text/plain": [
       "<Figure size 640x480 with 1 Axes>"
      ]
     },
     "metadata": {},
     "output_type": "display_data"
    }
   ],
   "source": [
    "plt.scatter(mean_fragments.squeeze(0),y_test)"
   ]
  },
  {
   "cell_type": "markdown",
   "id": "8ef66da6",
   "metadata": {},
   "source": [
    "Here as well we see that fragments do a better job. So to summarise, the drug covariance is best specified using a standard RBF kernel, with the fragments representation of the SMILES formula."
   ]
  },
  {
   "cell_type": "markdown",
   "id": "63071a3d",
   "metadata": {},
   "source": [
    "## Comparing cell line kernels"
   ]
  },
  {
   "cell_type": "markdown",
   "id": "98933277",
   "metadata": {},
   "source": [
    "Now moving on to the cell line representation. We already know we want to pursue some sort of MKL framework here, which should be easy to do within `gpytorch`. Again, will consider a simple case where we fix a single drug combination, and consider predicting the dose-response curve at a held-out cell line. \n",
    "\n",
    "Regarding number of inducing points, as there are no drug covariates we are simply left with predicting a surface over the unit box $[0,1] \\times [0,1]$, and hence can get away with as little as 100 inducing points in total -- which should make training fast. For the variational distribution I use a Cholesky variant which will give some more flexibility for little extra cost.\n",
    "\n",
    "In terms of comparing various kernels, the thing I'm most curious about is if utilizing pathway information gives any added benefit.\n",
    "\n",
    "Let's start of with a very simple multi-task model, e.g. an ICM model, where each output is a cell line. In order to keep computational complexity low we will assume that our 39 cell lines share 10 latent functions. The covariance function over the cell lines are assumed to be a multiple-kernel-learning style covariance which I need to code up below.\n",
    "\n",
    "There are three main things to check here\n",
    "- for non-continuous features, does an RBF make sense over e.g. a linear kernel?\n",
    "- does ARD have any effect?\n",
    "- does splitting data into pathways make a difference?"
   ]
  },
  {
   "cell_type": "code",
   "execution_count": 221,
   "id": "aa62d6a9",
   "metadata": {},
   "outputs": [],
   "source": [
    "# Start by reading in the data again\n",
    "import pandas as pd\n",
    "import numpy as np\n",
    "from scipy.stats import zscore\n",
    "data = pd.read_csv(\"../synpred/data/Oneil_full.csv\",delimiter=\";\")"
   ]
  },
  {
   "cell_type": "code",
   "execution_count": 222,
   "id": "ad847b26",
   "metadata": {},
   "outputs": [],
   "source": [
    "# Reading in the datasets\n",
    "from scipy.stats import zscore\n",
    "\n",
    "# Mutations\n",
    "mutations = pd.read_csv(\"/Users/leiv/Documents/PhD/Data/ONeil_formatted_Jeon/dcpipe-master 2/Data/featureFolder/mutation/Merck_mutations_merckclname.csv\")\n",
    "mutations = mutations[[\"SAMPLE\",\"GENE\",\"CLASSIFICATION\"]]\n",
    "mutations = mutations.sort_values([\"SAMPLE\",\"GENE\",\"CLASSIFICATION\"])\n",
    "mutations = mutations.groupby([\"SAMPLE\",\"GENE\"]).last()[\"CLASSIFICATION\"].reset_index()\n",
    "mutations[\"CLASSIFICATION\"] = 1\n",
    "mutations = mutations.pivot(index=\"SAMPLE\",columns=\"GENE\",values=\"CLASSIFICATION\").fillna(0)\n",
    "\n",
    "# Gene expression\n",
    "gex = pd.read_csv(\"/Users/leiv/Documents/PhD/Data/ONeil_formatted_Jeon/dcpipe-master 2/Data/featureFolder/gex/Merck_expression_matrix.csv\")\n",
    "gex = gex.sort_values([\"CELLLINE\"])\n",
    "gex.update(gex.drop(columns=[\"CELLLINE\"]).apply(zscore))\n",
    "\n",
    "# Find common cell lines\n",
    "common = list(set(gex.CELLLINE.unique()).intersection(set(mutations.index.values)))\n",
    "mutations = mutations.loc[common]\n",
    "gex = gex[gex[\"CELLLINE\"].isin(common)]\n",
    "\n",
    "# Only keep data where we have the omics\n",
    "data = data[data[\"CellLine\"].isin(common)]"
   ]
  },
  {
   "cell_type": "code",
   "execution_count": 228,
   "id": "74e61267",
   "metadata": {},
   "outputs": [],
   "source": [
    "# Pull out a single combination of interest, AZD1775_MK-8669 which is synergistic\n",
    "data[\"combination\"] = data.DrugA.map(str) + \"_\" + data.DrugB\n",
    "data = data[data[\"combination\"].isin([\"AZD1775_MK-8669\"])]\n",
    "data = data.drop(columns=[\"combination\"])\n",
    "data[\"task_index\"] = pd.Categorical(data['CellLine']).codes\n",
    "# Split by cell line\n",
    "from sklearn.model_selection import train_test_split\n",
    "train_cells, test_cells = train_test_split(pd.DataFrame(data.CellLine.unique()), test_size = 0.2)\n",
    "train = data[data[\"CellLine\"].isin(train_cells[0].tolist())]\n",
    "test = data[data[\"CellLine\"].isin(test_cells[0].tolist())]\n",
    "\n"
   ]
  },
  {
   "cell_type": "code",
   "execution_count": 259,
   "id": "b642df48",
   "metadata": {},
   "outputs": [],
   "source": [
    "# Now setting up the actual datasets\n",
    "from matplotlib import pyplot as plt\n",
    "import torch\n",
    "import gpytorch\n",
    "import numpy as np\n",
    "import linear_operator\n",
    "y_train = torch.tensor(train[\"fMean\"].values).float()\n",
    "y_test = torch.tensor(test[\"fMean\"].values).float()\n",
    "conc_train = train[['DrugAconc','DrugBconc']]\n",
    "conc_test = test[['DrugAconc','DrugBconc']]\n",
    "X_train = torch.tensor(pd.concat([conc_train],axis=1).values).float()\n",
    "X_test = torch.tensor(pd.concat([conc_test],axis=1).values).float()\n",
    "train_indices = torch.tensor(train[\"task_index\"].values).long()\n",
    "test_indices = torch.tensor(test[\"task_index\"].values).long()\n",
    "num_tasks = data.task_index.max() + 1\n",
    "num_latents = 10"
   ]
  },
  {
   "cell_type": "code",
   "execution_count": 261,
   "id": "33b24296",
   "metadata": {},
   "outputs": [],
   "source": [
    "# Reshaping these as torch tensors\n",
    "gex = torch.tensor(gex.drop(columns=[\"CELLLINE\"]).values)\n",
    "mutations = torch.tensor(mutations.values)"
   ]
  },
  {
   "cell_type": "code",
   "execution_count": 308,
   "id": "552af980",
   "metadata": {},
   "outputs": [],
   "source": [
    "# Setting up minibatching\n",
    "from torch.utils.data import TensorDataset, DataLoader\n",
    "train_dataset = TensorDataset(X_train, y_train, train_indices)\n",
    "train_loader = DataLoader(train_dataset, batch_size=24, shuffle=True)"
   ]
  },
  {
   "cell_type": "markdown",
   "id": "227de39e",
   "metadata": {},
   "source": [
    "Now setting up the model"
   ]
  },
  {
   "cell_type": "code",
   "execution_count": 405,
   "id": "14fb8a80",
   "metadata": {},
   "outputs": [],
   "source": [
    "from synpred.variational.outputcovariance_lmc_variational_strategy import OutputCovarianceLMCVariationalStrategy\n",
    "\n",
    "class ICM(gpytorch.models.ApproximateGP):\n",
    "    def __init__(self,output_covars):\n",
    "        inducing_points = torch.rand(num_latents,40,2)\n",
    "        variational_distribution = gpytorch.variational.MeanFieldVariationalDistribution(\n",
    "            inducing_points.size(-2), batch_shape=torch.Size([num_latents])\n",
    "        )\n",
    "        \n",
    "        # Covariance over the outputs, and initialized by covariates\n",
    "        output_kernel = gpytorch.kernels.RBFKernel()\n",
    "        \n",
    "        # We have to wrap the VariationalStrategy in a ModifiedLMCVariationalStrategy\n",
    "        # so that the output will be a MultitaskMultivariateNormal rather than a batch output\n",
    "        variational_strategy = OutputCovarianceLMCVariationalStrategy(\n",
    "            gpytorch.variational.VariationalStrategy(\n",
    "                self, inducing_points, variational_distribution, \n",
    "                learn_inducing_locations=True\n",
    "            ),\n",
    "            output_kernel,\n",
    "            output_covars,\n",
    "            num_tasks=num_tasks,\n",
    "            num_latents=num_latents,\n",
    "            latent_dim=-1\n",
    "        )\n",
    "        \n",
    "        super(ICM,self).__init__(variational_strategy)\n",
    "        \n",
    "        # The mean and covariance modules could be marked as batch\n",
    "        # so we learn a different set of hyperparameters\n",
    "        # For the ICM model, we do not set them as batch as we want the same kernel for each latent\n",
    "        self.mean_module = gpytorch.means.ZeroMean()\n",
    "        self.covar_module = gpytorch.kernels.RBFKernel()\n",
    "        \n",
    "    def forward(self, x):\n",
    "        # The forward function should be written as if we were dealing with each output\n",
    "        # dimension in batch\n",
    "        mean_x = self.mean_module(x)\n",
    "        covar_x = self.covar_module(x)\n",
    "        return gpytorch.distributions.MultivariateNormal(mean_x, covar_x)\n",
    "    \n",
    "model = ICM(gex)\n",
    "likelihood = gpytorch.likelihoods.GaussianLikelihood()"
   ]
  },
  {
   "cell_type": "code",
   "execution_count": 411,
   "id": "5f0ecb5e",
   "metadata": {},
   "outputs": [],
   "source": [
    "latent_dist = model.variational_strategy.base_variational_strategy(x_batch)\n",
    "num_batch = len(latent_dist.batch_shape)\n",
    "latent_dim = num_batch + -1"
   ]
  },
  {
   "cell_type": "code",
   "execution_count": 412,
   "id": "723d3635",
   "metadata": {},
   "outputs": [
    {
     "data": {
      "text/plain": [
       "0"
      ]
     },
     "execution_count": 412,
     "metadata": {},
     "output_type": "execute_result"
    }
   ],
   "source": [
    "lmc_coefficients = _select_lmc_coefficients(self.lmc_coefficients, task_indices)"
   ]
  },
  {
   "cell_type": "code",
   "execution_count": 398,
   "id": "c6db2612",
   "metadata": {},
   "outputs": [
    {
     "data": {
      "text/plain": [
       "tensor([[0.6931]], grad_fn=<SoftplusBackward0>)"
      ]
     },
     "execution_count": 398,
     "metadata": {},
     "output_type": "execute_result"
    }
   ],
   "source": [
    "model.variational_strategy.output_kernel.lengthscale"
   ]
  },
  {
   "cell_type": "code",
   "execution_count": 404,
   "id": "7894b4c9",
   "metadata": {},
   "outputs": [
    {
     "data": {
      "text/plain": [
       "MultitaskMultivariateNormal(mean shape: torch.Size([24, 30]))"
      ]
     },
     "execution_count": 404,
     "metadata": {},
     "output_type": "execute_result"
    }
   ],
   "source": [
    "model.variational_strategy(x_batch)"
   ]
  },
  {
   "cell_type": "code",
   "execution_count": 390,
   "id": "39d826b2",
   "metadata": {},
   "outputs": [
    {
     "ename": "NanError",
     "evalue": "cholesky_cpu: 16000 of 16000 elements of the torch.Size([10, 40, 40]) tensor are NaN.",
     "output_type": "error",
     "traceback": [
      "\u001b[0;31m---------------------------------------------------------------------------\u001b[0m",
      "\u001b[0;31mNanError\u001b[0m                                  Traceback (most recent call last)",
      "Cell \u001b[0;32mIn[390], line 4\u001b[0m\n\u001b[1;32m      2\u001b[0m likelihood\u001b[38;5;241m.\u001b[39mtrain()\n\u001b[1;32m      3\u001b[0m hyperparameter_optimizer\u001b[38;5;241m.\u001b[39mzero_grad()\n\u001b[0;32m----> 4\u001b[0m output \u001b[38;5;241m=\u001b[39m \u001b[43mmodel\u001b[49m\u001b[43m(\u001b[49m\u001b[43mx_batch\u001b[49m\u001b[43m,\u001b[49m\u001b[43mtask_indices\u001b[49m\u001b[38;5;241;43m=\u001b[39;49m\u001b[43mtask_batch\u001b[49m\u001b[43m)\u001b[49m\n",
      "File \u001b[0;32m~/opt/anaconda3/envs/synpred/lib/python3.10/site-packages/gpytorch/models/approximate_gp.py:108\u001b[0m, in \u001b[0;36mApproximateGP.__call__\u001b[0;34m(self, inputs, prior, **kwargs)\u001b[0m\n\u001b[1;32m    106\u001b[0m \u001b[38;5;28;01mif\u001b[39;00m inputs\u001b[38;5;241m.\u001b[39mdim() \u001b[38;5;241m==\u001b[39m \u001b[38;5;241m1\u001b[39m:\n\u001b[1;32m    107\u001b[0m     inputs \u001b[38;5;241m=\u001b[39m inputs\u001b[38;5;241m.\u001b[39munsqueeze(\u001b[38;5;241m-\u001b[39m\u001b[38;5;241m1\u001b[39m)\n\u001b[0;32m--> 108\u001b[0m \u001b[38;5;28;01mreturn\u001b[39;00m \u001b[38;5;28;43mself\u001b[39;49m\u001b[38;5;241;43m.\u001b[39;49m\u001b[43mvariational_strategy\u001b[49m\u001b[43m(\u001b[49m\u001b[43minputs\u001b[49m\u001b[43m,\u001b[49m\u001b[43m \u001b[49m\u001b[43mprior\u001b[49m\u001b[38;5;241;43m=\u001b[39;49m\u001b[43mprior\u001b[49m\u001b[43m,\u001b[49m\u001b[43m \u001b[49m\u001b[38;5;241;43m*\u001b[39;49m\u001b[38;5;241;43m*\u001b[39;49m\u001b[43mkwargs\u001b[49m\u001b[43m)\u001b[49m\n",
      "File \u001b[0;32m~/opt/anaconda3/envs/synpred/lib/python3.10/site-packages/synpred-0.0.1-py3.10.egg/synpred/variational/outputcovariance_lmc_variational_strategy.py:211\u001b[0m, in \u001b[0;36mOutputCovarianceLMCVariationalStrategy.__call__\u001b[0;34m(self, x, prior, task_indices, task_covars, **kwargs)\u001b[0m\n\u001b[1;32m    176\u001b[0m \u001b[38;5;28;01mdef\u001b[39;00m \u001b[38;5;21m__call__\u001b[39m(\n\u001b[1;32m    177\u001b[0m     \u001b[38;5;28mself\u001b[39m, x: Tensor, prior: \u001b[38;5;28mbool\u001b[39m \u001b[38;5;241m=\u001b[39m \u001b[38;5;28;01mFalse\u001b[39;00m, task_indices: Optional[LongTensor] \u001b[38;5;241m=\u001b[39m \u001b[38;5;28;01mNone\u001b[39;00m,\n\u001b[1;32m    178\u001b[0m         task_covars: Optional[Tensor] \u001b[38;5;241m=\u001b[39m \u001b[38;5;28;01mNone\u001b[39;00m, \u001b[38;5;241m*\u001b[39m\u001b[38;5;241m*\u001b[39mkwargs\n\u001b[1;32m    179\u001b[0m ) \u001b[38;5;241m-\u001b[39m\u001b[38;5;241m>\u001b[39m Union[MultitaskMultivariateNormal, MultivariateNormal]:\n\u001b[1;32m    180\u001b[0m \u001b[38;5;250m    \u001b[39m\u001b[38;5;124mr\u001b[39m\u001b[38;5;124;03m\"\"\"\u001b[39;00m\n\u001b[1;32m    181\u001b[0m \u001b[38;5;124;03m    Computes the variational (or prior) distribution\u001b[39;00m\n\u001b[1;32m    182\u001b[0m \u001b[38;5;124;03m    :math:`q( \\mathbf f \\mid \\mathbf X)` (or :math:`p( \\mathbf f \\mid \\mathbf X)`).\u001b[39;00m\n\u001b[0;32m   (...)\u001b[0m\n\u001b[1;32m    209\u001b[0m \u001b[38;5;124;03m        or ~gpytorch.distributions.MultivariateNormal (... x N)\u001b[39;00m\n\u001b[1;32m    210\u001b[0m \u001b[38;5;124;03m    \"\"\"\u001b[39;00m\n\u001b[0;32m--> 211\u001b[0m     latent_dist \u001b[38;5;241m=\u001b[39m \u001b[38;5;28;43mself\u001b[39;49m\u001b[38;5;241;43m.\u001b[39;49m\u001b[43mbase_variational_strategy\u001b[49m\u001b[43m(\u001b[49m\u001b[43mx\u001b[49m\u001b[43m,\u001b[49m\u001b[43m \u001b[49m\u001b[43mprior\u001b[49m\u001b[38;5;241;43m=\u001b[39;49m\u001b[43mprior\u001b[49m\u001b[43m,\u001b[49m\u001b[43m \u001b[49m\u001b[38;5;241;43m*\u001b[39;49m\u001b[38;5;241;43m*\u001b[39;49m\u001b[43mkwargs\u001b[49m\u001b[43m)\u001b[49m\n\u001b[1;32m    212\u001b[0m     num_batch \u001b[38;5;241m=\u001b[39m \u001b[38;5;28mlen\u001b[39m(latent_dist\u001b[38;5;241m.\u001b[39mbatch_shape)\n\u001b[1;32m    213\u001b[0m     latent_dim \u001b[38;5;241m=\u001b[39m num_batch \u001b[38;5;241m+\u001b[39m \u001b[38;5;28mself\u001b[39m\u001b[38;5;241m.\u001b[39mlatent_dim\n",
      "File \u001b[0;32m~/opt/anaconda3/envs/synpred/lib/python3.10/site-packages/gpytorch/variational/variational_strategy.py:272\u001b[0m, in \u001b[0;36mVariationalStrategy.__call__\u001b[0;34m(self, x, prior, **kwargs)\u001b[0m\n\u001b[1;32m    269\u001b[0m         \u001b[38;5;66;03m# Mark that we have updated the variational strategy\u001b[39;00m\n\u001b[1;32m    270\u001b[0m         \u001b[38;5;28mself\u001b[39m\u001b[38;5;241m.\u001b[39mupdated_strategy\u001b[38;5;241m.\u001b[39mfill_(\u001b[38;5;28;01mTrue\u001b[39;00m)\n\u001b[0;32m--> 272\u001b[0m \u001b[38;5;28;01mreturn\u001b[39;00m \u001b[38;5;28;43msuper\u001b[39;49m\u001b[43m(\u001b[49m\u001b[43m)\u001b[49m\u001b[38;5;241;43m.\u001b[39;49m\u001b[38;5;21;43m__call__\u001b[39;49m\u001b[43m(\u001b[49m\u001b[43mx\u001b[49m\u001b[43m,\u001b[49m\u001b[43m \u001b[49m\u001b[43mprior\u001b[49m\u001b[38;5;241;43m=\u001b[39;49m\u001b[43mprior\u001b[49m\u001b[43m,\u001b[49m\u001b[43m \u001b[49m\u001b[38;5;241;43m*\u001b[39;49m\u001b[38;5;241;43m*\u001b[39;49m\u001b[43mkwargs\u001b[49m\u001b[43m)\u001b[49m\n",
      "File \u001b[0;32m~/opt/anaconda3/envs/synpred/lib/python3.10/site-packages/gpytorch/variational/_variational_strategy.py:341\u001b[0m, in \u001b[0;36m_VariationalStrategy.__call__\u001b[0;34m(self, x, prior, **kwargs)\u001b[0m\n\u001b[1;32m    339\u001b[0m \u001b[38;5;66;03m# Get q(f)\u001b[39;00m\n\u001b[1;32m    340\u001b[0m \u001b[38;5;28;01mif\u001b[39;00m \u001b[38;5;28misinstance\u001b[39m(variational_dist_u, MultivariateNormal):\n\u001b[0;32m--> 341\u001b[0m     \u001b[38;5;28;01mreturn\u001b[39;00m \u001b[38;5;28;43msuper\u001b[39;49m\u001b[43m(\u001b[49m\u001b[43m)\u001b[49m\u001b[38;5;241;43m.\u001b[39;49m\u001b[38;5;21;43m__call__\u001b[39;49m\u001b[43m(\u001b[49m\n\u001b[1;32m    342\u001b[0m \u001b[43m        \u001b[49m\u001b[43mx\u001b[49m\u001b[43m,\u001b[49m\n\u001b[1;32m    343\u001b[0m \u001b[43m        \u001b[49m\u001b[43minducing_points\u001b[49m\u001b[43m,\u001b[49m\n\u001b[1;32m    344\u001b[0m \u001b[43m        \u001b[49m\u001b[43minducing_values\u001b[49m\u001b[38;5;241;43m=\u001b[39;49m\u001b[43mvariational_dist_u\u001b[49m\u001b[38;5;241;43m.\u001b[39;49m\u001b[43mmean\u001b[49m\u001b[43m,\u001b[49m\n\u001b[1;32m    345\u001b[0m \u001b[43m        \u001b[49m\u001b[43mvariational_inducing_covar\u001b[49m\u001b[38;5;241;43m=\u001b[39;49m\u001b[43mvariational_dist_u\u001b[49m\u001b[38;5;241;43m.\u001b[39;49m\u001b[43mlazy_covariance_matrix\u001b[49m\u001b[43m,\u001b[49m\n\u001b[1;32m    346\u001b[0m \u001b[43m        \u001b[49m\u001b[38;5;241;43m*\u001b[39;49m\u001b[38;5;241;43m*\u001b[39;49m\u001b[43mkwargs\u001b[49m\u001b[43m,\u001b[49m\n\u001b[1;32m    347\u001b[0m \u001b[43m    \u001b[49m\u001b[43m)\u001b[49m\n\u001b[1;32m    348\u001b[0m \u001b[38;5;28;01melif\u001b[39;00m \u001b[38;5;28misinstance\u001b[39m(variational_dist_u, Delta):\n\u001b[1;32m    349\u001b[0m     \u001b[38;5;28;01mreturn\u001b[39;00m \u001b[38;5;28msuper\u001b[39m()\u001b[38;5;241m.\u001b[39m\u001b[38;5;21m__call__\u001b[39m(\n\u001b[1;32m    350\u001b[0m         x, inducing_points, inducing_values\u001b[38;5;241m=\u001b[39mvariational_dist_u\u001b[38;5;241m.\u001b[39mmean, variational_inducing_covar\u001b[38;5;241m=\u001b[39m\u001b[38;5;28;01mNone\u001b[39;00m, \u001b[38;5;241m*\u001b[39m\u001b[38;5;241m*\u001b[39mkwargs\n\u001b[1;32m    351\u001b[0m     )\n",
      "File \u001b[0;32m~/opt/anaconda3/envs/synpred/lib/python3.10/site-packages/gpytorch/module.py:31\u001b[0m, in \u001b[0;36mModule.__call__\u001b[0;34m(self, *inputs, **kwargs)\u001b[0m\n\u001b[1;32m     30\u001b[0m \u001b[38;5;28;01mdef\u001b[39;00m \u001b[38;5;21m__call__\u001b[39m(\u001b[38;5;28mself\u001b[39m, \u001b[38;5;241m*\u001b[39minputs, \u001b[38;5;241m*\u001b[39m\u001b[38;5;241m*\u001b[39mkwargs) \u001b[38;5;241m-\u001b[39m\u001b[38;5;241m>\u001b[39m Union[Tensor, Distribution, LinearOperator]:\n\u001b[0;32m---> 31\u001b[0m     outputs \u001b[38;5;241m=\u001b[39m \u001b[38;5;28;43mself\u001b[39;49m\u001b[38;5;241;43m.\u001b[39;49m\u001b[43mforward\u001b[49m\u001b[43m(\u001b[49m\u001b[38;5;241;43m*\u001b[39;49m\u001b[43minputs\u001b[49m\u001b[43m,\u001b[49m\u001b[43m \u001b[49m\u001b[38;5;241;43m*\u001b[39;49m\u001b[38;5;241;43m*\u001b[39;49m\u001b[43mkwargs\u001b[49m\u001b[43m)\u001b[49m\n\u001b[1;32m     32\u001b[0m     \u001b[38;5;28;01mif\u001b[39;00m \u001b[38;5;28misinstance\u001b[39m(outputs, \u001b[38;5;28mlist\u001b[39m):\n\u001b[1;32m     33\u001b[0m         \u001b[38;5;28;01mreturn\u001b[39;00m [_validate_module_outputs(output) \u001b[38;5;28;01mfor\u001b[39;00m output \u001b[38;5;129;01min\u001b[39;00m outputs]\n",
      "File \u001b[0;32m~/opt/anaconda3/envs/synpred/lib/python3.10/site-packages/gpytorch/variational/variational_strategy.py:203\u001b[0m, in \u001b[0;36mVariationalStrategy.forward\u001b[0;34m(self, x, inducing_points, inducing_values, variational_inducing_covar, **kwargs)\u001b[0m\n\u001b[1;32m    198\u001b[0m data_data_covar \u001b[38;5;241m=\u001b[39m full_covar[\u001b[38;5;241m.\u001b[39m\u001b[38;5;241m.\u001b[39m\u001b[38;5;241m.\u001b[39m, num_induc:, num_induc:]\n\u001b[1;32m    200\u001b[0m \u001b[38;5;66;03m# Compute interpolation terms\u001b[39;00m\n\u001b[1;32m    201\u001b[0m \u001b[38;5;66;03m# K_ZZ^{-1/2} K_ZX\u001b[39;00m\n\u001b[1;32m    202\u001b[0m \u001b[38;5;66;03m# K_ZZ^{-1/2} \\mu_Z\u001b[39;00m\n\u001b[0;32m--> 203\u001b[0m L \u001b[38;5;241m=\u001b[39m \u001b[38;5;28;43mself\u001b[39;49m\u001b[38;5;241;43m.\u001b[39;49m\u001b[43m_cholesky_factor\u001b[49m\u001b[43m(\u001b[49m\u001b[43minduc_induc_covar\u001b[49m\u001b[43m)\u001b[49m\n\u001b[1;32m    204\u001b[0m \u001b[38;5;28;01mif\u001b[39;00m L\u001b[38;5;241m.\u001b[39mshape \u001b[38;5;241m!=\u001b[39m induc_induc_covar\u001b[38;5;241m.\u001b[39mshape:\n\u001b[1;32m    205\u001b[0m     \u001b[38;5;66;03m# Aggressive caching can cause nasty shape incompatibilies when evaluating with different batch shapes\u001b[39;00m\n\u001b[1;32m    206\u001b[0m     \u001b[38;5;66;03m# TODO: Use a hook fo this\u001b[39;00m\n\u001b[1;32m    207\u001b[0m     \u001b[38;5;28;01mtry\u001b[39;00m:\n",
      "File \u001b[0;32m~/opt/anaconda3/envs/synpred/lib/python3.10/site-packages/gpytorch/utils/memoize.py:76\u001b[0m, in \u001b[0;36m_cached_ignore_args.<locals>.g\u001b[0;34m(self, *args, **kwargs)\u001b[0m\n\u001b[1;32m     74\u001b[0m cache_name \u001b[38;5;241m=\u001b[39m name \u001b[38;5;28;01mif\u001b[39;00m name \u001b[38;5;129;01mis\u001b[39;00m \u001b[38;5;129;01mnot\u001b[39;00m \u001b[38;5;28;01mNone\u001b[39;00m \u001b[38;5;28;01melse\u001b[39;00m method\n\u001b[1;32m     75\u001b[0m \u001b[38;5;28;01mif\u001b[39;00m \u001b[38;5;129;01mnot\u001b[39;00m _is_in_cache_ignore_args(\u001b[38;5;28mself\u001b[39m, cache_name):\n\u001b[0;32m---> 76\u001b[0m     \u001b[38;5;28;01mreturn\u001b[39;00m _add_to_cache_ignore_args(\u001b[38;5;28mself\u001b[39m, cache_name, \u001b[43mmethod\u001b[49m\u001b[43m(\u001b[49m\u001b[38;5;28;43mself\u001b[39;49m\u001b[43m,\u001b[49m\u001b[43m \u001b[49m\u001b[38;5;241;43m*\u001b[39;49m\u001b[43margs\u001b[49m\u001b[43m,\u001b[49m\u001b[43m \u001b[49m\u001b[38;5;241;43m*\u001b[39;49m\u001b[38;5;241;43m*\u001b[39;49m\u001b[43mkwargs\u001b[49m\u001b[43m)\u001b[49m)\n\u001b[1;32m     77\u001b[0m \u001b[38;5;28;01mreturn\u001b[39;00m _get_from_cache_ignore_args(\u001b[38;5;28mself\u001b[39m, cache_name)\n",
      "File \u001b[0;32m~/opt/anaconda3/envs/synpred/lib/python3.10/site-packages/gpytorch/variational/variational_strategy.py:104\u001b[0m, in \u001b[0;36mVariationalStrategy._cholesky_factor\u001b[0;34m(self, induc_induc_covar)\u001b[0m\n\u001b[1;32m    102\u001b[0m \u001b[38;5;129m@cached\u001b[39m(name\u001b[38;5;241m=\u001b[39m\u001b[38;5;124m\"\u001b[39m\u001b[38;5;124mcholesky_factor\u001b[39m\u001b[38;5;124m\"\u001b[39m, ignore_args\u001b[38;5;241m=\u001b[39m\u001b[38;5;28;01mTrue\u001b[39;00m)\n\u001b[1;32m    103\u001b[0m \u001b[38;5;28;01mdef\u001b[39;00m \u001b[38;5;21m_cholesky_factor\u001b[39m(\u001b[38;5;28mself\u001b[39m, induc_induc_covar: LinearOperator) \u001b[38;5;241m-\u001b[39m\u001b[38;5;241m>\u001b[39m TriangularLinearOperator:\n\u001b[0;32m--> 104\u001b[0m     L \u001b[38;5;241m=\u001b[39m \u001b[43mpsd_safe_cholesky\u001b[49m\u001b[43m(\u001b[49m\u001b[43mto_dense\u001b[49m\u001b[43m(\u001b[49m\u001b[43minduc_induc_covar\u001b[49m\u001b[43m)\u001b[49m\u001b[38;5;241;43m.\u001b[39;49m\u001b[43mtype\u001b[49m\u001b[43m(\u001b[49m\u001b[43m_linalg_dtype_cholesky\u001b[49m\u001b[38;5;241;43m.\u001b[39;49m\u001b[43mvalue\u001b[49m\u001b[43m(\u001b[49m\u001b[43m)\u001b[49m\u001b[43m)\u001b[49m\u001b[43m)\u001b[49m\n\u001b[1;32m    105\u001b[0m     \u001b[38;5;28;01mreturn\u001b[39;00m TriangularLinearOperator(L)\n",
      "File \u001b[0;32m~/opt/anaconda3/envs/synpred/lib/python3.10/site-packages/linear_operator/utils/cholesky.py:65\u001b[0m, in \u001b[0;36mpsd_safe_cholesky\u001b[0;34m(A, upper, out, jitter, max_tries)\u001b[0m\n\u001b[1;32m     50\u001b[0m \u001b[38;5;28;01mdef\u001b[39;00m \u001b[38;5;21mpsd_safe_cholesky\u001b[39m(A, upper\u001b[38;5;241m=\u001b[39m\u001b[38;5;28;01mFalse\u001b[39;00m, out\u001b[38;5;241m=\u001b[39m\u001b[38;5;28;01mNone\u001b[39;00m, jitter\u001b[38;5;241m=\u001b[39m\u001b[38;5;28;01mNone\u001b[39;00m, max_tries\u001b[38;5;241m=\u001b[39m\u001b[38;5;28;01mNone\u001b[39;00m):\n\u001b[1;32m     51\u001b[0m \u001b[38;5;250m    \u001b[39m\u001b[38;5;124;03m\"\"\"Compute the Cholesky decomposition of A. If A is only p.s.d, add a small jitter to the diagonal.\u001b[39;00m\n\u001b[1;32m     52\u001b[0m \u001b[38;5;124;03m    Args:\u001b[39;00m\n\u001b[1;32m     53\u001b[0m \u001b[38;5;124;03m        :attr:`A` (Tensor):\u001b[39;00m\n\u001b[0;32m   (...)\u001b[0m\n\u001b[1;32m     63\u001b[0m \u001b[38;5;124;03m            Number of attempts (with successively increasing jitter) to make before raising an error.\u001b[39;00m\n\u001b[1;32m     64\u001b[0m \u001b[38;5;124;03m    \"\"\"\u001b[39;00m\n\u001b[0;32m---> 65\u001b[0m     L \u001b[38;5;241m=\u001b[39m \u001b[43m_psd_safe_cholesky\u001b[49m\u001b[43m(\u001b[49m\u001b[43mA\u001b[49m\u001b[43m,\u001b[49m\u001b[43m \u001b[49m\u001b[43mout\u001b[49m\u001b[38;5;241;43m=\u001b[39;49m\u001b[43mout\u001b[49m\u001b[43m,\u001b[49m\u001b[43m \u001b[49m\u001b[43mjitter\u001b[49m\u001b[38;5;241;43m=\u001b[39;49m\u001b[43mjitter\u001b[49m\u001b[43m,\u001b[49m\u001b[43m \u001b[49m\u001b[43mmax_tries\u001b[49m\u001b[38;5;241;43m=\u001b[39;49m\u001b[43mmax_tries\u001b[49m\u001b[43m)\u001b[49m\n\u001b[1;32m     66\u001b[0m     \u001b[38;5;28;01mif\u001b[39;00m upper:\n\u001b[1;32m     67\u001b[0m         \u001b[38;5;28;01mif\u001b[39;00m out \u001b[38;5;129;01mis\u001b[39;00m \u001b[38;5;129;01mnot\u001b[39;00m \u001b[38;5;28;01mNone\u001b[39;00m:\n",
      "File \u001b[0;32m~/opt/anaconda3/envs/synpred/lib/python3.10/site-packages/linear_operator/utils/cholesky.py:26\u001b[0m, in \u001b[0;36m_psd_safe_cholesky\u001b[0;34m(A, out, jitter, max_tries)\u001b[0m\n\u001b[1;32m     24\u001b[0m isnan \u001b[38;5;241m=\u001b[39m torch\u001b[38;5;241m.\u001b[39misnan(A)\n\u001b[1;32m     25\u001b[0m \u001b[38;5;28;01mif\u001b[39;00m isnan\u001b[38;5;241m.\u001b[39many():\n\u001b[0;32m---> 26\u001b[0m     \u001b[38;5;28;01mraise\u001b[39;00m NanError(\u001b[38;5;124mf\u001b[39m\u001b[38;5;124m\"\u001b[39m\u001b[38;5;124mcholesky_cpu: \u001b[39m\u001b[38;5;132;01m{\u001b[39;00misnan\u001b[38;5;241m.\u001b[39msum()\u001b[38;5;241m.\u001b[39mitem()\u001b[38;5;132;01m}\u001b[39;00m\u001b[38;5;124m of \u001b[39m\u001b[38;5;132;01m{\u001b[39;00mA\u001b[38;5;241m.\u001b[39mnumel()\u001b[38;5;132;01m}\u001b[39;00m\u001b[38;5;124m elements of the \u001b[39m\u001b[38;5;132;01m{\u001b[39;00mA\u001b[38;5;241m.\u001b[39mshape\u001b[38;5;132;01m}\u001b[39;00m\u001b[38;5;124m tensor are NaN.\u001b[39m\u001b[38;5;124m\"\u001b[39m)\n\u001b[1;32m     28\u001b[0m \u001b[38;5;28;01mif\u001b[39;00m jitter \u001b[38;5;129;01mis\u001b[39;00m \u001b[38;5;28;01mNone\u001b[39;00m:\n\u001b[1;32m     29\u001b[0m     jitter \u001b[38;5;241m=\u001b[39m settings\u001b[38;5;241m.\u001b[39mcholesky_jitter\u001b[38;5;241m.\u001b[39mvalue(A\u001b[38;5;241m.\u001b[39mdtype)\n",
      "\u001b[0;31mNanError\u001b[0m: cholesky_cpu: 16000 of 16000 elements of the torch.Size([10, 40, 40]) tensor are NaN."
     ]
    }
   ],
   "source": [
    "model.train()\n",
    "likelihood.train()\n",
    "hyperparameter_optimizer.zero_grad()\n",
    "output = model(x_batch,task_indices=task_batch)\n",
    "#loss = -mll(output, y_batch)\n",
    "            "
   ]
  },
  {
   "cell_type": "code",
   "execution_count": 387,
   "id": "5d5eba61",
   "metadata": {},
   "outputs": [
    {
     "data": {
      "text/plain": [
       "MultivariateNormal(loc: torch.Size([24]))"
      ]
     },
     "execution_count": 387,
     "metadata": {},
     "output_type": "execute_result"
    }
   ],
   "source": [
    "output"
   ]
  },
  {
   "cell_type": "code",
   "execution_count": 388,
   "id": "685d29f8",
   "metadata": {},
   "outputs": [
    {
     "data": {
      "application/vnd.jupyter.widget-view+json": {
       "model_id": "e7cb11fdc3bc42519e3fd70a4f585936",
       "version_major": 2,
       "version_minor": 0
      },
      "text/plain": [
       "Epoch:   0%|          | 0/20 [00:00<?, ?it/s]"
      ]
     },
     "metadata": {},
     "output_type": "display_data"
    },
    {
     "data": {
      "application/vnd.jupyter.widget-view+json": {
       "model_id": "904b8851bb47475d99c38165ce9bd54d",
       "version_major": 2,
       "version_minor": 0
      },
      "text/plain": [
       "Minibatch:   0%|          | 0/100 [00:00<?, ?it/s]"
      ]
     },
     "metadata": {},
     "output_type": "display_data"
    },
    {
     "ename": "NanError",
     "evalue": "cholesky_cpu: 16000 of 16000 elements of the torch.Size([10, 40, 40]) tensor are NaN.",
     "output_type": "error",
     "traceback": [
      "\u001b[0;31m---------------------------------------------------------------------------\u001b[0m",
      "\u001b[0;31mNanError\u001b[0m                                  Traceback (most recent call last)",
      "Cell \u001b[0;32mIn[388], line 31\u001b[0m\n\u001b[1;32m     29\u001b[0m \u001b[38;5;28;01mfor\u001b[39;00m x_batch, y_batch, task_batch \u001b[38;5;129;01min\u001b[39;00m minibatch_iter:\n\u001b[1;32m     30\u001b[0m     hyperparameter_optimizer\u001b[38;5;241m.\u001b[39mzero_grad()\n\u001b[0;32m---> 31\u001b[0m     output \u001b[38;5;241m=\u001b[39m \u001b[43mmodel\u001b[49m\u001b[43m(\u001b[49m\u001b[43mx_batch\u001b[49m\u001b[43m,\u001b[49m\u001b[43mtask_indices\u001b[49m\u001b[38;5;241;43m=\u001b[39;49m\u001b[43mtask_batch\u001b[49m\u001b[43m)\u001b[49m\n\u001b[1;32m     32\u001b[0m     loss \u001b[38;5;241m=\u001b[39m \u001b[38;5;241m-\u001b[39mmll(output, y_batch)\n\u001b[1;32m     33\u001b[0m     minibatch_iter\u001b[38;5;241m.\u001b[39mset_postfix(loss\u001b[38;5;241m=\u001b[39mloss\u001b[38;5;241m.\u001b[39mitem())\n",
      "File \u001b[0;32m~/opt/anaconda3/envs/synpred/lib/python3.10/site-packages/gpytorch/models/approximate_gp.py:108\u001b[0m, in \u001b[0;36mApproximateGP.__call__\u001b[0;34m(self, inputs, prior, **kwargs)\u001b[0m\n\u001b[1;32m    106\u001b[0m \u001b[38;5;28;01mif\u001b[39;00m inputs\u001b[38;5;241m.\u001b[39mdim() \u001b[38;5;241m==\u001b[39m \u001b[38;5;241m1\u001b[39m:\n\u001b[1;32m    107\u001b[0m     inputs \u001b[38;5;241m=\u001b[39m inputs\u001b[38;5;241m.\u001b[39munsqueeze(\u001b[38;5;241m-\u001b[39m\u001b[38;5;241m1\u001b[39m)\n\u001b[0;32m--> 108\u001b[0m \u001b[38;5;28;01mreturn\u001b[39;00m \u001b[38;5;28;43mself\u001b[39;49m\u001b[38;5;241;43m.\u001b[39;49m\u001b[43mvariational_strategy\u001b[49m\u001b[43m(\u001b[49m\u001b[43minputs\u001b[49m\u001b[43m,\u001b[49m\u001b[43m \u001b[49m\u001b[43mprior\u001b[49m\u001b[38;5;241;43m=\u001b[39;49m\u001b[43mprior\u001b[49m\u001b[43m,\u001b[49m\u001b[43m \u001b[49m\u001b[38;5;241;43m*\u001b[39;49m\u001b[38;5;241;43m*\u001b[39;49m\u001b[43mkwargs\u001b[49m\u001b[43m)\u001b[49m\n",
      "File \u001b[0;32m~/opt/anaconda3/envs/synpred/lib/python3.10/site-packages/synpred-0.0.1-py3.10.egg/synpred/variational/outputcovariance_lmc_variational_strategy.py:211\u001b[0m, in \u001b[0;36mOutputCovarianceLMCVariationalStrategy.__call__\u001b[0;34m(self, x, prior, task_indices, task_covars, **kwargs)\u001b[0m\n\u001b[1;32m    176\u001b[0m \u001b[38;5;28;01mdef\u001b[39;00m \u001b[38;5;21m__call__\u001b[39m(\n\u001b[1;32m    177\u001b[0m     \u001b[38;5;28mself\u001b[39m, x: Tensor, prior: \u001b[38;5;28mbool\u001b[39m \u001b[38;5;241m=\u001b[39m \u001b[38;5;28;01mFalse\u001b[39;00m, task_indices: Optional[LongTensor] \u001b[38;5;241m=\u001b[39m \u001b[38;5;28;01mNone\u001b[39;00m,\n\u001b[1;32m    178\u001b[0m         task_covars: Optional[Tensor] \u001b[38;5;241m=\u001b[39m \u001b[38;5;28;01mNone\u001b[39;00m, \u001b[38;5;241m*\u001b[39m\u001b[38;5;241m*\u001b[39mkwargs\n\u001b[1;32m    179\u001b[0m ) \u001b[38;5;241m-\u001b[39m\u001b[38;5;241m>\u001b[39m Union[MultitaskMultivariateNormal, MultivariateNormal]:\n\u001b[1;32m    180\u001b[0m \u001b[38;5;250m    \u001b[39m\u001b[38;5;124mr\u001b[39m\u001b[38;5;124;03m\"\"\"\u001b[39;00m\n\u001b[1;32m    181\u001b[0m \u001b[38;5;124;03m    Computes the variational (or prior) distribution\u001b[39;00m\n\u001b[1;32m    182\u001b[0m \u001b[38;5;124;03m    :math:`q( \\mathbf f \\mid \\mathbf X)` (or :math:`p( \\mathbf f \\mid \\mathbf X)`).\u001b[39;00m\n\u001b[0;32m   (...)\u001b[0m\n\u001b[1;32m    209\u001b[0m \u001b[38;5;124;03m        or ~gpytorch.distributions.MultivariateNormal (... x N)\u001b[39;00m\n\u001b[1;32m    210\u001b[0m \u001b[38;5;124;03m    \"\"\"\u001b[39;00m\n\u001b[0;32m--> 211\u001b[0m     latent_dist \u001b[38;5;241m=\u001b[39m \u001b[38;5;28;43mself\u001b[39;49m\u001b[38;5;241;43m.\u001b[39;49m\u001b[43mbase_variational_strategy\u001b[49m\u001b[43m(\u001b[49m\u001b[43mx\u001b[49m\u001b[43m,\u001b[49m\u001b[43m \u001b[49m\u001b[43mprior\u001b[49m\u001b[38;5;241;43m=\u001b[39;49m\u001b[43mprior\u001b[49m\u001b[43m,\u001b[49m\u001b[43m \u001b[49m\u001b[38;5;241;43m*\u001b[39;49m\u001b[38;5;241;43m*\u001b[39;49m\u001b[43mkwargs\u001b[49m\u001b[43m)\u001b[49m\n\u001b[1;32m    212\u001b[0m     num_batch \u001b[38;5;241m=\u001b[39m \u001b[38;5;28mlen\u001b[39m(latent_dist\u001b[38;5;241m.\u001b[39mbatch_shape)\n\u001b[1;32m    213\u001b[0m     latent_dim \u001b[38;5;241m=\u001b[39m num_batch \u001b[38;5;241m+\u001b[39m \u001b[38;5;28mself\u001b[39m\u001b[38;5;241m.\u001b[39mlatent_dim\n",
      "File \u001b[0;32m~/opt/anaconda3/envs/synpred/lib/python3.10/site-packages/gpytorch/variational/variational_strategy.py:272\u001b[0m, in \u001b[0;36mVariationalStrategy.__call__\u001b[0;34m(self, x, prior, **kwargs)\u001b[0m\n\u001b[1;32m    269\u001b[0m         \u001b[38;5;66;03m# Mark that we have updated the variational strategy\u001b[39;00m\n\u001b[1;32m    270\u001b[0m         \u001b[38;5;28mself\u001b[39m\u001b[38;5;241m.\u001b[39mupdated_strategy\u001b[38;5;241m.\u001b[39mfill_(\u001b[38;5;28;01mTrue\u001b[39;00m)\n\u001b[0;32m--> 272\u001b[0m \u001b[38;5;28;01mreturn\u001b[39;00m \u001b[38;5;28;43msuper\u001b[39;49m\u001b[43m(\u001b[49m\u001b[43m)\u001b[49m\u001b[38;5;241;43m.\u001b[39;49m\u001b[38;5;21;43m__call__\u001b[39;49m\u001b[43m(\u001b[49m\u001b[43mx\u001b[49m\u001b[43m,\u001b[49m\u001b[43m \u001b[49m\u001b[43mprior\u001b[49m\u001b[38;5;241;43m=\u001b[39;49m\u001b[43mprior\u001b[49m\u001b[43m,\u001b[49m\u001b[43m \u001b[49m\u001b[38;5;241;43m*\u001b[39;49m\u001b[38;5;241;43m*\u001b[39;49m\u001b[43mkwargs\u001b[49m\u001b[43m)\u001b[49m\n",
      "File \u001b[0;32m~/opt/anaconda3/envs/synpred/lib/python3.10/site-packages/gpytorch/variational/_variational_strategy.py:341\u001b[0m, in \u001b[0;36m_VariationalStrategy.__call__\u001b[0;34m(self, x, prior, **kwargs)\u001b[0m\n\u001b[1;32m    339\u001b[0m \u001b[38;5;66;03m# Get q(f)\u001b[39;00m\n\u001b[1;32m    340\u001b[0m \u001b[38;5;28;01mif\u001b[39;00m \u001b[38;5;28misinstance\u001b[39m(variational_dist_u, MultivariateNormal):\n\u001b[0;32m--> 341\u001b[0m     \u001b[38;5;28;01mreturn\u001b[39;00m \u001b[38;5;28;43msuper\u001b[39;49m\u001b[43m(\u001b[49m\u001b[43m)\u001b[49m\u001b[38;5;241;43m.\u001b[39;49m\u001b[38;5;21;43m__call__\u001b[39;49m\u001b[43m(\u001b[49m\n\u001b[1;32m    342\u001b[0m \u001b[43m        \u001b[49m\u001b[43mx\u001b[49m\u001b[43m,\u001b[49m\n\u001b[1;32m    343\u001b[0m \u001b[43m        \u001b[49m\u001b[43minducing_points\u001b[49m\u001b[43m,\u001b[49m\n\u001b[1;32m    344\u001b[0m \u001b[43m        \u001b[49m\u001b[43minducing_values\u001b[49m\u001b[38;5;241;43m=\u001b[39;49m\u001b[43mvariational_dist_u\u001b[49m\u001b[38;5;241;43m.\u001b[39;49m\u001b[43mmean\u001b[49m\u001b[43m,\u001b[49m\n\u001b[1;32m    345\u001b[0m \u001b[43m        \u001b[49m\u001b[43mvariational_inducing_covar\u001b[49m\u001b[38;5;241;43m=\u001b[39;49m\u001b[43mvariational_dist_u\u001b[49m\u001b[38;5;241;43m.\u001b[39;49m\u001b[43mlazy_covariance_matrix\u001b[49m\u001b[43m,\u001b[49m\n\u001b[1;32m    346\u001b[0m \u001b[43m        \u001b[49m\u001b[38;5;241;43m*\u001b[39;49m\u001b[38;5;241;43m*\u001b[39;49m\u001b[43mkwargs\u001b[49m\u001b[43m,\u001b[49m\n\u001b[1;32m    347\u001b[0m \u001b[43m    \u001b[49m\u001b[43m)\u001b[49m\n\u001b[1;32m    348\u001b[0m \u001b[38;5;28;01melif\u001b[39;00m \u001b[38;5;28misinstance\u001b[39m(variational_dist_u, Delta):\n\u001b[1;32m    349\u001b[0m     \u001b[38;5;28;01mreturn\u001b[39;00m \u001b[38;5;28msuper\u001b[39m()\u001b[38;5;241m.\u001b[39m\u001b[38;5;21m__call__\u001b[39m(\n\u001b[1;32m    350\u001b[0m         x, inducing_points, inducing_values\u001b[38;5;241m=\u001b[39mvariational_dist_u\u001b[38;5;241m.\u001b[39mmean, variational_inducing_covar\u001b[38;5;241m=\u001b[39m\u001b[38;5;28;01mNone\u001b[39;00m, \u001b[38;5;241m*\u001b[39m\u001b[38;5;241m*\u001b[39mkwargs\n\u001b[1;32m    351\u001b[0m     )\n",
      "File \u001b[0;32m~/opt/anaconda3/envs/synpred/lib/python3.10/site-packages/gpytorch/module.py:31\u001b[0m, in \u001b[0;36mModule.__call__\u001b[0;34m(self, *inputs, **kwargs)\u001b[0m\n\u001b[1;32m     30\u001b[0m \u001b[38;5;28;01mdef\u001b[39;00m \u001b[38;5;21m__call__\u001b[39m(\u001b[38;5;28mself\u001b[39m, \u001b[38;5;241m*\u001b[39minputs, \u001b[38;5;241m*\u001b[39m\u001b[38;5;241m*\u001b[39mkwargs) \u001b[38;5;241m-\u001b[39m\u001b[38;5;241m>\u001b[39m Union[Tensor, Distribution, LinearOperator]:\n\u001b[0;32m---> 31\u001b[0m     outputs \u001b[38;5;241m=\u001b[39m \u001b[38;5;28;43mself\u001b[39;49m\u001b[38;5;241;43m.\u001b[39;49m\u001b[43mforward\u001b[49m\u001b[43m(\u001b[49m\u001b[38;5;241;43m*\u001b[39;49m\u001b[43minputs\u001b[49m\u001b[43m,\u001b[49m\u001b[43m \u001b[49m\u001b[38;5;241;43m*\u001b[39;49m\u001b[38;5;241;43m*\u001b[39;49m\u001b[43mkwargs\u001b[49m\u001b[43m)\u001b[49m\n\u001b[1;32m     32\u001b[0m     \u001b[38;5;28;01mif\u001b[39;00m \u001b[38;5;28misinstance\u001b[39m(outputs, \u001b[38;5;28mlist\u001b[39m):\n\u001b[1;32m     33\u001b[0m         \u001b[38;5;28;01mreturn\u001b[39;00m [_validate_module_outputs(output) \u001b[38;5;28;01mfor\u001b[39;00m output \u001b[38;5;129;01min\u001b[39;00m outputs]\n",
      "File \u001b[0;32m~/opt/anaconda3/envs/synpred/lib/python3.10/site-packages/gpytorch/variational/variational_strategy.py:203\u001b[0m, in \u001b[0;36mVariationalStrategy.forward\u001b[0;34m(self, x, inducing_points, inducing_values, variational_inducing_covar, **kwargs)\u001b[0m\n\u001b[1;32m    198\u001b[0m data_data_covar \u001b[38;5;241m=\u001b[39m full_covar[\u001b[38;5;241m.\u001b[39m\u001b[38;5;241m.\u001b[39m\u001b[38;5;241m.\u001b[39m, num_induc:, num_induc:]\n\u001b[1;32m    200\u001b[0m \u001b[38;5;66;03m# Compute interpolation terms\u001b[39;00m\n\u001b[1;32m    201\u001b[0m \u001b[38;5;66;03m# K_ZZ^{-1/2} K_ZX\u001b[39;00m\n\u001b[1;32m    202\u001b[0m \u001b[38;5;66;03m# K_ZZ^{-1/2} \\mu_Z\u001b[39;00m\n\u001b[0;32m--> 203\u001b[0m L \u001b[38;5;241m=\u001b[39m \u001b[38;5;28;43mself\u001b[39;49m\u001b[38;5;241;43m.\u001b[39;49m\u001b[43m_cholesky_factor\u001b[49m\u001b[43m(\u001b[49m\u001b[43minduc_induc_covar\u001b[49m\u001b[43m)\u001b[49m\n\u001b[1;32m    204\u001b[0m \u001b[38;5;28;01mif\u001b[39;00m L\u001b[38;5;241m.\u001b[39mshape \u001b[38;5;241m!=\u001b[39m induc_induc_covar\u001b[38;5;241m.\u001b[39mshape:\n\u001b[1;32m    205\u001b[0m     \u001b[38;5;66;03m# Aggressive caching can cause nasty shape incompatibilies when evaluating with different batch shapes\u001b[39;00m\n\u001b[1;32m    206\u001b[0m     \u001b[38;5;66;03m# TODO: Use a hook fo this\u001b[39;00m\n\u001b[1;32m    207\u001b[0m     \u001b[38;5;28;01mtry\u001b[39;00m:\n",
      "File \u001b[0;32m~/opt/anaconda3/envs/synpred/lib/python3.10/site-packages/gpytorch/utils/memoize.py:76\u001b[0m, in \u001b[0;36m_cached_ignore_args.<locals>.g\u001b[0;34m(self, *args, **kwargs)\u001b[0m\n\u001b[1;32m     74\u001b[0m cache_name \u001b[38;5;241m=\u001b[39m name \u001b[38;5;28;01mif\u001b[39;00m name \u001b[38;5;129;01mis\u001b[39;00m \u001b[38;5;129;01mnot\u001b[39;00m \u001b[38;5;28;01mNone\u001b[39;00m \u001b[38;5;28;01melse\u001b[39;00m method\n\u001b[1;32m     75\u001b[0m \u001b[38;5;28;01mif\u001b[39;00m \u001b[38;5;129;01mnot\u001b[39;00m _is_in_cache_ignore_args(\u001b[38;5;28mself\u001b[39m, cache_name):\n\u001b[0;32m---> 76\u001b[0m     \u001b[38;5;28;01mreturn\u001b[39;00m _add_to_cache_ignore_args(\u001b[38;5;28mself\u001b[39m, cache_name, \u001b[43mmethod\u001b[49m\u001b[43m(\u001b[49m\u001b[38;5;28;43mself\u001b[39;49m\u001b[43m,\u001b[49m\u001b[43m \u001b[49m\u001b[38;5;241;43m*\u001b[39;49m\u001b[43margs\u001b[49m\u001b[43m,\u001b[49m\u001b[43m \u001b[49m\u001b[38;5;241;43m*\u001b[39;49m\u001b[38;5;241;43m*\u001b[39;49m\u001b[43mkwargs\u001b[49m\u001b[43m)\u001b[49m)\n\u001b[1;32m     77\u001b[0m \u001b[38;5;28;01mreturn\u001b[39;00m _get_from_cache_ignore_args(\u001b[38;5;28mself\u001b[39m, cache_name)\n",
      "File \u001b[0;32m~/opt/anaconda3/envs/synpred/lib/python3.10/site-packages/gpytorch/variational/variational_strategy.py:104\u001b[0m, in \u001b[0;36mVariationalStrategy._cholesky_factor\u001b[0;34m(self, induc_induc_covar)\u001b[0m\n\u001b[1;32m    102\u001b[0m \u001b[38;5;129m@cached\u001b[39m(name\u001b[38;5;241m=\u001b[39m\u001b[38;5;124m\"\u001b[39m\u001b[38;5;124mcholesky_factor\u001b[39m\u001b[38;5;124m\"\u001b[39m, ignore_args\u001b[38;5;241m=\u001b[39m\u001b[38;5;28;01mTrue\u001b[39;00m)\n\u001b[1;32m    103\u001b[0m \u001b[38;5;28;01mdef\u001b[39;00m \u001b[38;5;21m_cholesky_factor\u001b[39m(\u001b[38;5;28mself\u001b[39m, induc_induc_covar: LinearOperator) \u001b[38;5;241m-\u001b[39m\u001b[38;5;241m>\u001b[39m TriangularLinearOperator:\n\u001b[0;32m--> 104\u001b[0m     L \u001b[38;5;241m=\u001b[39m \u001b[43mpsd_safe_cholesky\u001b[49m\u001b[43m(\u001b[49m\u001b[43mto_dense\u001b[49m\u001b[43m(\u001b[49m\u001b[43minduc_induc_covar\u001b[49m\u001b[43m)\u001b[49m\u001b[38;5;241;43m.\u001b[39;49m\u001b[43mtype\u001b[49m\u001b[43m(\u001b[49m\u001b[43m_linalg_dtype_cholesky\u001b[49m\u001b[38;5;241;43m.\u001b[39;49m\u001b[43mvalue\u001b[49m\u001b[43m(\u001b[49m\u001b[43m)\u001b[49m\u001b[43m)\u001b[49m\u001b[43m)\u001b[49m\n\u001b[1;32m    105\u001b[0m     \u001b[38;5;28;01mreturn\u001b[39;00m TriangularLinearOperator(L)\n",
      "File \u001b[0;32m~/opt/anaconda3/envs/synpred/lib/python3.10/site-packages/linear_operator/utils/cholesky.py:65\u001b[0m, in \u001b[0;36mpsd_safe_cholesky\u001b[0;34m(A, upper, out, jitter, max_tries)\u001b[0m\n\u001b[1;32m     50\u001b[0m \u001b[38;5;28;01mdef\u001b[39;00m \u001b[38;5;21mpsd_safe_cholesky\u001b[39m(A, upper\u001b[38;5;241m=\u001b[39m\u001b[38;5;28;01mFalse\u001b[39;00m, out\u001b[38;5;241m=\u001b[39m\u001b[38;5;28;01mNone\u001b[39;00m, jitter\u001b[38;5;241m=\u001b[39m\u001b[38;5;28;01mNone\u001b[39;00m, max_tries\u001b[38;5;241m=\u001b[39m\u001b[38;5;28;01mNone\u001b[39;00m):\n\u001b[1;32m     51\u001b[0m \u001b[38;5;250m    \u001b[39m\u001b[38;5;124;03m\"\"\"Compute the Cholesky decomposition of A. If A is only p.s.d, add a small jitter to the diagonal.\u001b[39;00m\n\u001b[1;32m     52\u001b[0m \u001b[38;5;124;03m    Args:\u001b[39;00m\n\u001b[1;32m     53\u001b[0m \u001b[38;5;124;03m        :attr:`A` (Tensor):\u001b[39;00m\n\u001b[0;32m   (...)\u001b[0m\n\u001b[1;32m     63\u001b[0m \u001b[38;5;124;03m            Number of attempts (with successively increasing jitter) to make before raising an error.\u001b[39;00m\n\u001b[1;32m     64\u001b[0m \u001b[38;5;124;03m    \"\"\"\u001b[39;00m\n\u001b[0;32m---> 65\u001b[0m     L \u001b[38;5;241m=\u001b[39m \u001b[43m_psd_safe_cholesky\u001b[49m\u001b[43m(\u001b[49m\u001b[43mA\u001b[49m\u001b[43m,\u001b[49m\u001b[43m \u001b[49m\u001b[43mout\u001b[49m\u001b[38;5;241;43m=\u001b[39;49m\u001b[43mout\u001b[49m\u001b[43m,\u001b[49m\u001b[43m \u001b[49m\u001b[43mjitter\u001b[49m\u001b[38;5;241;43m=\u001b[39;49m\u001b[43mjitter\u001b[49m\u001b[43m,\u001b[49m\u001b[43m \u001b[49m\u001b[43mmax_tries\u001b[49m\u001b[38;5;241;43m=\u001b[39;49m\u001b[43mmax_tries\u001b[49m\u001b[43m)\u001b[49m\n\u001b[1;32m     66\u001b[0m     \u001b[38;5;28;01mif\u001b[39;00m upper:\n\u001b[1;32m     67\u001b[0m         \u001b[38;5;28;01mif\u001b[39;00m out \u001b[38;5;129;01mis\u001b[39;00m \u001b[38;5;129;01mnot\u001b[39;00m \u001b[38;5;28;01mNone\u001b[39;00m:\n",
      "File \u001b[0;32m~/opt/anaconda3/envs/synpred/lib/python3.10/site-packages/linear_operator/utils/cholesky.py:26\u001b[0m, in \u001b[0;36m_psd_safe_cholesky\u001b[0;34m(A, out, jitter, max_tries)\u001b[0m\n\u001b[1;32m     24\u001b[0m isnan \u001b[38;5;241m=\u001b[39m torch\u001b[38;5;241m.\u001b[39misnan(A)\n\u001b[1;32m     25\u001b[0m \u001b[38;5;28;01mif\u001b[39;00m isnan\u001b[38;5;241m.\u001b[39many():\n\u001b[0;32m---> 26\u001b[0m     \u001b[38;5;28;01mraise\u001b[39;00m NanError(\u001b[38;5;124mf\u001b[39m\u001b[38;5;124m\"\u001b[39m\u001b[38;5;124mcholesky_cpu: \u001b[39m\u001b[38;5;132;01m{\u001b[39;00misnan\u001b[38;5;241m.\u001b[39msum()\u001b[38;5;241m.\u001b[39mitem()\u001b[38;5;132;01m}\u001b[39;00m\u001b[38;5;124m of \u001b[39m\u001b[38;5;132;01m{\u001b[39;00mA\u001b[38;5;241m.\u001b[39mnumel()\u001b[38;5;132;01m}\u001b[39;00m\u001b[38;5;124m elements of the \u001b[39m\u001b[38;5;132;01m{\u001b[39;00mA\u001b[38;5;241m.\u001b[39mshape\u001b[38;5;132;01m}\u001b[39;00m\u001b[38;5;124m tensor are NaN.\u001b[39m\u001b[38;5;124m\"\u001b[39m)\n\u001b[1;32m     28\u001b[0m \u001b[38;5;28;01mif\u001b[39;00m jitter \u001b[38;5;129;01mis\u001b[39;00m \u001b[38;5;28;01mNone\u001b[39;00m:\n\u001b[1;32m     29\u001b[0m     jitter \u001b[38;5;241m=\u001b[39m settings\u001b[38;5;241m.\u001b[39mcholesky_jitter\u001b[38;5;241m.\u001b[39mvalue(A\u001b[38;5;241m.\u001b[39mdtype)\n",
      "\u001b[0;31mNanError\u001b[0m: cholesky_cpu: 16000 of 16000 elements of the torch.Size([10, 40, 40]) tensor are NaN."
     ]
    }
   ],
   "source": [
    "# this is for running the notebook in our testing framework\n",
    "import os\n",
    "import tqdm.notebook\n",
    "num_epochs = 20 # Number of complete passes through the data\n",
    "\n",
    "\n",
    "model.train()\n",
    "likelihood.train()\n",
    "\n",
    "\n",
    "\n",
    "hyperparameter_optimizer = torch.optim.Adam([\n",
    "    {'params': model.parameters()},\n",
    "    {'params': likelihood.parameters()},\n",
    "], lr=0.001)\n",
    "\n",
    "\n",
    "\n",
    "# Our loss object. We're using the VariationalELBO, which essentially just computes the ELBO\n",
    "mll = gpytorch.mlls.VariationalELBO(likelihood, model, num_data=y_train.size(0))\n",
    "\n",
    "# We use more CG iterations here because the preconditioner introduced in the NeurIPS paper seems to be less\n",
    "# effective for VI.\n",
    "epochs_iter = tqdm.notebook.tqdm(range(num_epochs), desc=\"Epoch\")\n",
    "with gpytorch.settings.cholesky_max_tries(12):\n",
    "    for i in epochs_iter:\n",
    "        # Within each iteration, we will go over each minibatch of data\n",
    "        minibatch_iter = tqdm.notebook.tqdm(train_loader, desc=\"Minibatch\", leave=False)\n",
    "        for x_batch, y_batch, task_batch in minibatch_iter:\n",
    "            hyperparameter_optimizer.zero_grad()\n",
    "            output = model(x_batch,task_indices=task_batch)\n",
    "            loss = -mll(output, y_batch)\n",
    "            minibatch_iter.set_postfix(loss=loss.item())\n",
    "            loss.backward()\n",
    "            hyperparameter_optimizer.step()\n",
    "        "
   ]
  },
  {
   "cell_type": "code",
   "execution_count": null,
   "id": "ad1432e5",
   "metadata": {},
   "outputs": [],
   "source": []
  },
  {
   "cell_type": "code",
   "execution_count": null,
   "id": "5d1054dc",
   "metadata": {},
   "outputs": [],
   "source": []
  },
  {
   "cell_type": "code",
   "execution_count": null,
   "id": "d124e235",
   "metadata": {},
   "outputs": [],
   "source": []
  },
  {
   "cell_type": "code",
   "execution_count": null,
   "id": "e602cd25",
   "metadata": {},
   "outputs": [],
   "source": []
  },
  {
   "cell_type": "code",
   "execution_count": null,
   "id": "69d94199",
   "metadata": {},
   "outputs": [],
   "source": []
  }
 ],
 "metadata": {
  "kernelspec": {
   "display_name": "Python 3 (ipykernel)",
   "language": "python",
   "name": "python3"
  },
  "language_info": {
   "codemirror_mode": {
    "name": "ipython",
    "version": 3
   },
   "file_extension": ".py",
   "mimetype": "text/x-python",
   "name": "python",
   "nbconvert_exporter": "python",
   "pygments_lexer": "ipython3",
   "version": "3.10.13"
  }
 },
 "nbformat": 4,
 "nbformat_minor": 5
}
