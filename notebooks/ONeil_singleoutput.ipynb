{
 "cells": [
  {
   "cell_type": "markdown",
   "id": "8245a508",
   "metadata": {},
   "source": [
    "# Real data, v0\n",
    "\n",
    "This notebook is a first attempt at running the model on the O'Neil dataset.\n",
    "\n",
    "I'll not do anything clever with the kernels, just want to get a basic thing up and running, with the LMC, permutation invariance and SVI all working together.\n"
   ]
  },
  {
   "cell_type": "markdown",
   "id": "47076c81",
   "metadata": {},
   "source": [
    "But I'll start it off with modelling several drug combinations for a single cell line, i.e. a single-output permutation invariant GP. I'll use a basic fingerprint to represent the drugs, and then PCA to get the dimensionality down."
   ]
  },
  {
   "cell_type": "code",
   "execution_count": 1,
   "id": "3729afc3",
   "metadata": {},
   "outputs": [],
   "source": [
    "import pandas as pd\n",
    "import numpy as np\n",
    "import gauche\n",
    "from gauche.dataloader import MolPropLoader\n",
    "from sklearn.decomposition import PCA\n",
    "from sklearn.preprocessing import StandardScaler\n",
    "from scipy.stats import zscore\n",
    "loader = MolPropLoader()\n",
    "drugs = pd.read_csv(\"../synpred/data/ONeil_drug_SMILES.csv\")\n",
    "data = pd.read_csv(\"../synpred/data/Oneil_full.csv\",delimiter=\";\")"
   ]
  },
  {
   "cell_type": "code",
   "execution_count": 2,
   "id": "0f4f20c3",
   "metadata": {},
   "outputs": [
    {
     "name": "stdout",
     "output_type": "stream",
     "text": [
      "ratio variance explained:  0.7246970017965706\n"
     ]
    }
   ],
   "source": [
    "# Processing drug SMILES\n",
    "loader.read_csv(\"../synpred/data/ONeil_drug_SMILES.csv\",smiles_column=\"SMILES\",label_column=\"Numeric\",validate=True)\n",
    "loader.featurize('ecfp_fingerprints')\n",
    "X = loader.features\n",
    "scaler = StandardScaler()\n",
    "X = scaler.fit_transform(X)\n",
    "pcacomponents = 20\n",
    "pca = PCA(n_components=pcacomponents)\n",
    "X = pca.fit_transform(X)\n",
    "print(\"ratio variance explained: \",pca.explained_variance_ratio_.sum())\n",
    "\n",
    "# Merging onto the main dataframe\n",
    "X = pd.DataFrame(X)\n",
    "X = X.apply(zscore)\n",
    "XA = X.add_prefix(\"A\")\n",
    "XB = X.add_prefix(\"B\")\n",
    "drugsA = pd.concat([drugs,XA],axis=1)\n",
    "drugsA = drugsA.drop(columns=[\"Target\",\"SMILES\",\"Numeric\"],axis=1)\n",
    "drugsB = pd.concat([drugs,XB],axis=1)\n",
    "drugsB = drugsB.drop(columns=[\"Target\",\"SMILES\",\"Numeric\"],axis=1)\n",
    "data = pd.merge(data,drugsA, left_on=\"DrugA\",right_on=\"Name\")\n",
    "data = pd.merge(data,drugsB, left_on=\"DrugB\",right_on=\"Name\")\n",
    "data = data.drop(columns=[\"Name_x\",\"Name_y\"])"
   ]
  },
  {
   "cell_type": "code",
   "execution_count": 3,
   "id": "842a946d",
   "metadata": {},
   "outputs": [],
   "source": [
    "data = data.sort_values([\"CellLine\",\"DrugA\",\"DrugB\"])"
   ]
  },
  {
   "cell_type": "code",
   "execution_count": 4,
   "id": "d1b16ec7",
   "metadata": {},
   "outputs": [],
   "source": [
    "# Now let's subsample this, so that we have a single cell line of data to train on.\n",
    "k = 4*583*100\n",
    "#k = 1*583*100\n",
    "data = data.head(k)"
   ]
  },
  {
   "cell_type": "code",
   "execution_count": 5,
   "id": "dbee9cb8",
   "metadata": {
    "scrolled": true
   },
   "outputs": [
    {
     "data": {
      "text/plain": [
       "(233200, 52)"
      ]
     },
     "execution_count": 5,
     "metadata": {},
     "output_type": "execute_result"
    }
   ],
   "source": [
    "data.shape"
   ]
  },
  {
   "cell_type": "code",
   "execution_count": 6,
   "id": "92785238",
   "metadata": {},
   "outputs": [
    {
     "data": {
      "text/plain": [
       "array(['A2058', 'A2780', 'A375', 'A427'], dtype=object)"
      ]
     },
     "execution_count": 6,
     "metadata": {},
     "output_type": "execute_result"
    }
   ],
   "source": [
    "data[\"CellLine\"].unique()"
   ]
  },
  {
   "cell_type": "code",
   "execution_count": 7,
   "id": "b7a18102",
   "metadata": {
    "scrolled": true
   },
   "outputs": [
    {
     "data": {
      "text/html": [
       "<div>\n",
       "<style scoped>\n",
       "    .dataframe tbody tr th:only-of-type {\n",
       "        vertical-align: middle;\n",
       "    }\n",
       "\n",
       "    .dataframe tbody tr th {\n",
       "        vertical-align: top;\n",
       "    }\n",
       "\n",
       "    .dataframe thead th {\n",
       "        text-align: right;\n",
       "    }\n",
       "</style>\n",
       "<table border=\"1\" class=\"dataframe\">\n",
       "  <thead>\n",
       "    <tr style=\"text-align: right;\">\n",
       "      <th></th>\n",
       "      <th>CellLine</th>\n",
       "      <th>DrugA</th>\n",
       "      <th>DrugB</th>\n",
       "      <th>DrugAconc</th>\n",
       "      <th>DrugBconc</th>\n",
       "      <th>GPMean</th>\n",
       "      <th>GPVar</th>\n",
       "      <th>fMean</th>\n",
       "      <th>fVAR</th>\n",
       "      <th>p0Mean</th>\n",
       "      <th>...</th>\n",
       "      <th>B10</th>\n",
       "      <th>B11</th>\n",
       "      <th>B12</th>\n",
       "      <th>B13</th>\n",
       "      <th>B14</th>\n",
       "      <th>B15</th>\n",
       "      <th>B16</th>\n",
       "      <th>B17</th>\n",
       "      <th>B18</th>\n",
       "      <th>B19</th>\n",
       "    </tr>\n",
       "  </thead>\n",
       "  <tbody>\n",
       "    <tr>\n",
       "      <th>0</th>\n",
       "      <td>A2058</td>\n",
       "      <td>5-FU</td>\n",
       "      <td>ABT-888</td>\n",
       "      <td>0.0</td>\n",
       "      <td>0.000000</td>\n",
       "      <td>-0.086238</td>\n",
       "      <td>0.769223</td>\n",
       "      <td>0.999311</td>\n",
       "      <td>0.000007</td>\n",
       "      <td>0.999129</td>\n",
       "      <td>...</td>\n",
       "      <td>-0.047116</td>\n",
       "      <td>-0.420439</td>\n",
       "      <td>-0.302607</td>\n",
       "      <td>-0.030364</td>\n",
       "      <td>0.477238</td>\n",
       "      <td>-0.313024</td>\n",
       "      <td>-0.131756</td>\n",
       "      <td>0.316169</td>\n",
       "      <td>0.392657</td>\n",
       "      <td>-0.445148</td>\n",
       "    </tr>\n",
       "    <tr>\n",
       "      <th>1</th>\n",
       "      <td>A2058</td>\n",
       "      <td>5-FU</td>\n",
       "      <td>ABT-888</td>\n",
       "      <td>0.0</td>\n",
       "      <td>0.111111</td>\n",
       "      <td>-0.109674</td>\n",
       "      <td>0.765477</td>\n",
       "      <td>0.999055</td>\n",
       "      <td>0.000011</td>\n",
       "      <td>0.998892</td>\n",
       "      <td>...</td>\n",
       "      <td>-0.047116</td>\n",
       "      <td>-0.420439</td>\n",
       "      <td>-0.302607</td>\n",
       "      <td>-0.030364</td>\n",
       "      <td>0.477238</td>\n",
       "      <td>-0.313024</td>\n",
       "      <td>-0.131756</td>\n",
       "      <td>0.316169</td>\n",
       "      <td>0.392657</td>\n",
       "      <td>-0.445148</td>\n",
       "    </tr>\n",
       "    <tr>\n",
       "      <th>2</th>\n",
       "      <td>A2058</td>\n",
       "      <td>5-FU</td>\n",
       "      <td>ABT-888</td>\n",
       "      <td>0.0</td>\n",
       "      <td>0.222222</td>\n",
       "      <td>-0.137490</td>\n",
       "      <td>0.769211</td>\n",
       "      <td>0.998608</td>\n",
       "      <td>0.000018</td>\n",
       "      <td>0.998559</td>\n",
       "      <td>...</td>\n",
       "      <td>-0.047116</td>\n",
       "      <td>-0.420439</td>\n",
       "      <td>-0.302607</td>\n",
       "      <td>-0.030364</td>\n",
       "      <td>0.477238</td>\n",
       "      <td>-0.313024</td>\n",
       "      <td>-0.131756</td>\n",
       "      <td>0.316169</td>\n",
       "      <td>0.392657</td>\n",
       "      <td>-0.445148</td>\n",
       "    </tr>\n",
       "    <tr>\n",
       "      <th>3</th>\n",
       "      <td>A2058</td>\n",
       "      <td>5-FU</td>\n",
       "      <td>ABT-888</td>\n",
       "      <td>0.0</td>\n",
       "      <td>0.333333</td>\n",
       "      <td>-0.169852</td>\n",
       "      <td>0.751210</td>\n",
       "      <td>0.997828</td>\n",
       "      <td>0.000034</td>\n",
       "      <td>0.998071</td>\n",
       "      <td>...</td>\n",
       "      <td>-0.047116</td>\n",
       "      <td>-0.420439</td>\n",
       "      <td>-0.302607</td>\n",
       "      <td>-0.030364</td>\n",
       "      <td>0.477238</td>\n",
       "      <td>-0.313024</td>\n",
       "      <td>-0.131756</td>\n",
       "      <td>0.316169</td>\n",
       "      <td>0.392657</td>\n",
       "      <td>-0.445148</td>\n",
       "    </tr>\n",
       "    <tr>\n",
       "      <th>4</th>\n",
       "      <td>A2058</td>\n",
       "      <td>5-FU</td>\n",
       "      <td>ABT-888</td>\n",
       "      <td>0.0</td>\n",
       "      <td>0.444444</td>\n",
       "      <td>-0.209794</td>\n",
       "      <td>0.726083</td>\n",
       "      <td>0.996413</td>\n",
       "      <td>0.000075</td>\n",
       "      <td>0.997321</td>\n",
       "      <td>...</td>\n",
       "      <td>-0.047116</td>\n",
       "      <td>-0.420439</td>\n",
       "      <td>-0.302607</td>\n",
       "      <td>-0.030364</td>\n",
       "      <td>0.477238</td>\n",
       "      <td>-0.313024</td>\n",
       "      <td>-0.131756</td>\n",
       "      <td>0.316169</td>\n",
       "      <td>0.392657</td>\n",
       "      <td>-0.445148</td>\n",
       "    </tr>\n",
       "    <tr>\n",
       "      <th>...</th>\n",
       "      <td>...</td>\n",
       "      <td>...</td>\n",
       "      <td>...</td>\n",
       "      <td>...</td>\n",
       "      <td>...</td>\n",
       "      <td>...</td>\n",
       "      <td>...</td>\n",
       "      <td>...</td>\n",
       "      <td>...</td>\n",
       "      <td>...</td>\n",
       "      <td>...</td>\n",
       "      <td>...</td>\n",
       "      <td>...</td>\n",
       "      <td>...</td>\n",
       "      <td>...</td>\n",
       "      <td>...</td>\n",
       "      <td>...</td>\n",
       "      <td>...</td>\n",
       "      <td>...</td>\n",
       "      <td>...</td>\n",
       "      <td>...</td>\n",
       "    </tr>\n",
       "    <tr>\n",
       "      <th>2102495</th>\n",
       "      <td>A427</td>\n",
       "      <td>geldanamycin</td>\n",
       "      <td>Topotecan</td>\n",
       "      <td>1.0</td>\n",
       "      <td>0.555556</td>\n",
       "      <td>1.200413</td>\n",
       "      <td>0.199546</td>\n",
       "      <td>0.247642</td>\n",
       "      <td>0.002981</td>\n",
       "      <td>0.081938</td>\n",
       "      <td>...</td>\n",
       "      <td>0.281785</td>\n",
       "      <td>1.797706</td>\n",
       "      <td>-1.427424</td>\n",
       "      <td>-0.665044</td>\n",
       "      <td>-0.196894</td>\n",
       "      <td>0.563144</td>\n",
       "      <td>-0.669953</td>\n",
       "      <td>0.422424</td>\n",
       "      <td>0.050580</td>\n",
       "      <td>-0.477690</td>\n",
       "    </tr>\n",
       "    <tr>\n",
       "      <th>2102496</th>\n",
       "      <td>A427</td>\n",
       "      <td>geldanamycin</td>\n",
       "      <td>Topotecan</td>\n",
       "      <td>1.0</td>\n",
       "      <td>0.666667</td>\n",
       "      <td>1.257875</td>\n",
       "      <td>0.196916</td>\n",
       "      <td>0.173162</td>\n",
       "      <td>0.001481</td>\n",
       "      <td>0.050949</td>\n",
       "      <td>...</td>\n",
       "      <td>0.281785</td>\n",
       "      <td>1.797706</td>\n",
       "      <td>-1.427424</td>\n",
       "      <td>-0.665044</td>\n",
       "      <td>-0.196894</td>\n",
       "      <td>0.563144</td>\n",
       "      <td>-0.669953</td>\n",
       "      <td>0.422424</td>\n",
       "      <td>0.050580</td>\n",
       "      <td>-0.477690</td>\n",
       "    </tr>\n",
       "    <tr>\n",
       "      <th>2102497</th>\n",
       "      <td>A427</td>\n",
       "      <td>geldanamycin</td>\n",
       "      <td>Topotecan</td>\n",
       "      <td>1.0</td>\n",
       "      <td>0.777778</td>\n",
       "      <td>1.145956</td>\n",
       "      <td>0.251098</td>\n",
       "      <td>0.102279</td>\n",
       "      <td>0.000976</td>\n",
       "      <td>0.030932</td>\n",
       "      <td>...</td>\n",
       "      <td>0.281785</td>\n",
       "      <td>1.797706</td>\n",
       "      <td>-1.427424</td>\n",
       "      <td>-0.665044</td>\n",
       "      <td>-0.196894</td>\n",
       "      <td>0.563144</td>\n",
       "      <td>-0.669953</td>\n",
       "      <td>0.422424</td>\n",
       "      <td>0.050580</td>\n",
       "      <td>-0.477690</td>\n",
       "    </tr>\n",
       "    <tr>\n",
       "      <th>2102498</th>\n",
       "      <td>A427</td>\n",
       "      <td>geldanamycin</td>\n",
       "      <td>Topotecan</td>\n",
       "      <td>1.0</td>\n",
       "      <td>0.888889</td>\n",
       "      <td>0.816330</td>\n",
       "      <td>0.280116</td>\n",
       "      <td>0.052387</td>\n",
       "      <td>0.000400</td>\n",
       "      <td>0.020999</td>\n",
       "      <td>...</td>\n",
       "      <td>0.281785</td>\n",
       "      <td>1.797706</td>\n",
       "      <td>-1.427424</td>\n",
       "      <td>-0.665044</td>\n",
       "      <td>-0.196894</td>\n",
       "      <td>0.563144</td>\n",
       "      <td>-0.669953</td>\n",
       "      <td>0.422424</td>\n",
       "      <td>0.050580</td>\n",
       "      <td>-0.477690</td>\n",
       "    </tr>\n",
       "    <tr>\n",
       "      <th>2102499</th>\n",
       "      <td>A427</td>\n",
       "      <td>geldanamycin</td>\n",
       "      <td>Topotecan</td>\n",
       "      <td>1.0</td>\n",
       "      <td>1.000000</td>\n",
       "      <td>0.395972</td>\n",
       "      <td>0.308216</td>\n",
       "      <td>0.026619</td>\n",
       "      <td>0.000132</td>\n",
       "      <td>0.016528</td>\n",
       "      <td>...</td>\n",
       "      <td>0.281785</td>\n",
       "      <td>1.797706</td>\n",
       "      <td>-1.427424</td>\n",
       "      <td>-0.665044</td>\n",
       "      <td>-0.196894</td>\n",
       "      <td>0.563144</td>\n",
       "      <td>-0.669953</td>\n",
       "      <td>0.422424</td>\n",
       "      <td>0.050580</td>\n",
       "      <td>-0.477690</td>\n",
       "    </tr>\n",
       "  </tbody>\n",
       "</table>\n",
       "<p>233200 rows × 52 columns</p>\n",
       "</div>"
      ],
      "text/plain": [
       "        CellLine         DrugA      DrugB  DrugAconc  DrugBconc    GPMean  \\\n",
       "0          A2058          5-FU    ABT-888        0.0   0.000000 -0.086238   \n",
       "1          A2058          5-FU    ABT-888        0.0   0.111111 -0.109674   \n",
       "2          A2058          5-FU    ABT-888        0.0   0.222222 -0.137490   \n",
       "3          A2058          5-FU    ABT-888        0.0   0.333333 -0.169852   \n",
       "4          A2058          5-FU    ABT-888        0.0   0.444444 -0.209794   \n",
       "...          ...           ...        ...        ...        ...       ...   \n",
       "2102495     A427  geldanamycin  Topotecan        1.0   0.555556  1.200413   \n",
       "2102496     A427  geldanamycin  Topotecan        1.0   0.666667  1.257875   \n",
       "2102497     A427  geldanamycin  Topotecan        1.0   0.777778  1.145956   \n",
       "2102498     A427  geldanamycin  Topotecan        1.0   0.888889  0.816330   \n",
       "2102499     A427  geldanamycin  Topotecan        1.0   1.000000  0.395972   \n",
       "\n",
       "            GPVar     fMean      fVAR    p0Mean  ...       B10       B11  \\\n",
       "0        0.769223  0.999311  0.000007  0.999129  ... -0.047116 -0.420439   \n",
       "1        0.765477  0.999055  0.000011  0.998892  ... -0.047116 -0.420439   \n",
       "2        0.769211  0.998608  0.000018  0.998559  ... -0.047116 -0.420439   \n",
       "3        0.751210  0.997828  0.000034  0.998071  ... -0.047116 -0.420439   \n",
       "4        0.726083  0.996413  0.000075  0.997321  ... -0.047116 -0.420439   \n",
       "...           ...       ...       ...       ...  ...       ...       ...   \n",
       "2102495  0.199546  0.247642  0.002981  0.081938  ...  0.281785  1.797706   \n",
       "2102496  0.196916  0.173162  0.001481  0.050949  ...  0.281785  1.797706   \n",
       "2102497  0.251098  0.102279  0.000976  0.030932  ...  0.281785  1.797706   \n",
       "2102498  0.280116  0.052387  0.000400  0.020999  ...  0.281785  1.797706   \n",
       "2102499  0.308216  0.026619  0.000132  0.016528  ...  0.281785  1.797706   \n",
       "\n",
       "              B12       B13       B14       B15       B16       B17       B18  \\\n",
       "0       -0.302607 -0.030364  0.477238 -0.313024 -0.131756  0.316169  0.392657   \n",
       "1       -0.302607 -0.030364  0.477238 -0.313024 -0.131756  0.316169  0.392657   \n",
       "2       -0.302607 -0.030364  0.477238 -0.313024 -0.131756  0.316169  0.392657   \n",
       "3       -0.302607 -0.030364  0.477238 -0.313024 -0.131756  0.316169  0.392657   \n",
       "4       -0.302607 -0.030364  0.477238 -0.313024 -0.131756  0.316169  0.392657   \n",
       "...           ...       ...       ...       ...       ...       ...       ...   \n",
       "2102495 -1.427424 -0.665044 -0.196894  0.563144 -0.669953  0.422424  0.050580   \n",
       "2102496 -1.427424 -0.665044 -0.196894  0.563144 -0.669953  0.422424  0.050580   \n",
       "2102497 -1.427424 -0.665044 -0.196894  0.563144 -0.669953  0.422424  0.050580   \n",
       "2102498 -1.427424 -0.665044 -0.196894  0.563144 -0.669953  0.422424  0.050580   \n",
       "2102499 -1.427424 -0.665044 -0.196894  0.563144 -0.669953  0.422424  0.050580   \n",
       "\n",
       "              B19  \n",
       "0       -0.445148  \n",
       "1       -0.445148  \n",
       "2       -0.445148  \n",
       "3       -0.445148  \n",
       "4       -0.445148  \n",
       "...           ...  \n",
       "2102495 -0.477690  \n",
       "2102496 -0.477690  \n",
       "2102497 -0.477690  \n",
       "2102498 -0.477690  \n",
       "2102499 -0.477690  \n",
       "\n",
       "[233200 rows x 52 columns]"
      ]
     },
     "execution_count": 7,
     "metadata": {},
     "output_type": "execute_result"
    }
   ],
   "source": [
    "data"
   ]
  },
  {
   "cell_type": "code",
   "execution_count": 8,
   "id": "cf971b47",
   "metadata": {},
   "outputs": [
    {
     "data": {
      "text/plain": [
       "array(['ABT-888', 'AZD1775', 'BEZ-235', 'Bortezomib', 'Dasatinib',\n",
       "       'Dinaciclib', 'Erlotinib', 'L778123', 'Lapatinib', 'MK-2206',\n",
       "       'MK-4827', 'MK-5108', 'MK-8669', 'MK-8776', 'PD325901',\n",
       "       'Sorafenib', 'Sunitinib', 'Temozolomide', 'Zolinza',\n",
       "       'geldanamycin', 'Oxaliplatin', 'SN-38', 'Topotecan', 'Etoposide',\n",
       "       'Gemcitabine', 'Vinorelbine', '5-FU', 'Carboplatin',\n",
       "       'Cyclophosphamide', 'Dexamethasone', 'Doxorubicin', 'MRK-003',\n",
       "       'Metformin', 'Methotrexate', 'Mitomycine', 'Paclitaxel',\n",
       "       'Vinblastine'], dtype=object)"
      ]
     },
     "execution_count": 8,
     "metadata": {},
     "output_type": "execute_result"
    }
   ],
   "source": [
    "data[\"DrugB\"].unique()"
   ]
  },
  {
   "cell_type": "code",
   "execution_count": 9,
   "id": "a16c28c3",
   "metadata": {},
   "outputs": [],
   "source": [
    "# Now setting up code to run models\n",
    "from matplotlib import pyplot as plt\n",
    "import torch\n",
    "import gpytorch\n",
    "import numpy as np\n",
    "import linear_operator\n",
    "y = torch.tensor(data[\"fMean\"].values).float()\n",
    "s = torch.tensor(data[\"GPVar\"].values).float()\n",
    "conc = data[['DrugAconc','DrugBconc']]\n",
    "drugcovars = data.iloc[:,-40:]\n",
    "X = torch.tensor(pd.concat([conc,drugcovars],axis=1).values).float()\n",
    "n_train = int(0.8*X.size(0))\n",
    "randperm = torch.randperm(X.size(0))\n",
    "X_train = X[randperm[:n_train],:]\n",
    "X_test = X[randperm[n_train:],:]\n",
    "y_train = y[randperm[:n_train]]\n",
    "y_test = y[randperm[n_train:]]\n",
    "task_indices = torch.tensor(pd.Categorical(data['CellLine']).codes).long()\n",
    "task_train = task_indices[randperm[:n_train]]\n",
    "task_test = task_indices[randperm[n_train:]]\n",
    "num_tasks = task_indices.max().item() + 1"
   ]
  },
  {
   "cell_type": "code",
   "execution_count": 10,
   "id": "b105fc79",
   "metadata": {},
   "outputs": [
    {
     "data": {
      "text/plain": [
       "torch.Size([46640, 42])"
      ]
     },
     "execution_count": 10,
     "metadata": {},
     "output_type": "execute_result"
    }
   ],
   "source": [
    "X_test.shape"
   ]
  },
  {
   "cell_type": "code",
   "execution_count": 11,
   "id": "5cbfd859",
   "metadata": {},
   "outputs": [],
   "source": [
    "\n",
    "# Now going to get it ready for minibatching\n",
    "from torch.utils.data import TensorDataset, DataLoader\n",
    "train_dataset = TensorDataset(X_train, y_train, task_train)\n",
    "train_loader = DataLoader(train_dataset, batch_size=512, shuffle=True)"
   ]
  },
  {
   "cell_type": "code",
   "execution_count": 12,
   "id": "181429b1",
   "metadata": {},
   "outputs": [
    {
     "data": {
      "text/plain": [
       "42"
      ]
     },
     "execution_count": 12,
     "metadata": {},
     "output_type": "execute_result"
    }
   ],
   "source": [
    "X_train.size(1)"
   ]
  },
  {
   "cell_type": "code",
   "execution_count": 13,
   "id": "cf34e83f",
   "metadata": {},
   "outputs": [],
   "source": [
    "ind_indices = torch.randperm(X_train.size(0))\n",
    "X1 = X_train[ind_indices[:10000]]\n",
    "X2 = X_train[ind_indices[1000:2000]]"
   ]
  },
  {
   "cell_type": "code",
   "execution_count": 14,
   "id": "d6c3a7a4",
   "metadata": {},
   "outputs": [
    {
     "data": {
      "text/plain": [
       "186560"
      ]
     },
     "execution_count": 14,
     "metadata": {},
     "output_type": "execute_result"
    }
   ],
   "source": [
    "X_train.size(0)"
   ]
  },
  {
   "cell_type": "code",
   "execution_count": 15,
   "id": "3099074e",
   "metadata": {},
   "outputs": [
    {
     "data": {
      "text/plain": [
       "torch.Size([9348, 42])"
      ]
     },
     "execution_count": 15,
     "metadata": {},
     "output_type": "execute_result"
    }
   ],
   "source": [
    "X1.unique(dim=0).shape"
   ]
  },
  {
   "cell_type": "code",
   "execution_count": 22,
   "id": "c6e0ccd2",
   "metadata": {},
   "outputs": [
    {
     "name": "stdout",
     "output_type": "stream",
     "text": [
      "Init is run!\n",
      "Init is run!\n",
      "Old loss:  2.5327672958374023\n",
      "New loss:  2.288741111755371\n",
      "Init is run!\n",
      "Init is run!\n",
      "Init is run!\n",
      "Old loss:  2.288741111755371\n",
      "New loss:  2.0128228664398193\n",
      "Init is run!\n",
      "Old loss:  2.0128228664398193\n",
      "New loss:  1.81281578540802\n",
      "Init is run!\n",
      "Init is run!\n",
      "Init is run!\n",
      "Init is run!\n",
      "Init is run!\n",
      "Init is run!\n",
      "Init is run!\n",
      "Old loss:  1.81281578540802\n",
      "New loss:  1.7767912149429321\n",
      "Init is run!\n",
      "Old loss:  1.7767912149429321\n",
      "New loss:  1.6520569324493408\n",
      "Init is run!\n",
      "Init is run!\n",
      "Init is run!\n",
      "Init is run!\n",
      "Init is run!\n",
      "Init is run!\n",
      "Init is run!\n",
      "Init is run!\n",
      "Init is run!\n",
      "Init is run!\n",
      "Init is run!\n",
      "Init is run!\n",
      "Init is run!\n",
      "Init is run!\n",
      "Init is run!\n",
      "Init is run!\n",
      "Init is run!\n",
      "Init is run!\n",
      "Init is run!\n",
      "Init is run!\n",
      "Init is run!\n",
      "Init is run!\n",
      "Init is run!\n",
      "Init is run!\n",
      "Init is run!\n",
      "Init is run!\n",
      "Init is run!\n",
      "Init is run!\n",
      "Init is run!\n",
      "Init is run!\n",
      "Init is run!\n",
      "Init is run!\n",
      "Init is run!\n",
      "Init is run!\n",
      "Init is run!\n",
      "Init is run!\n",
      "Init is run!\n",
      "Init is run!\n",
      "Init is run!\n",
      "Init is run!\n",
      "Init is run!\n",
      "Init is run!\n",
      "Init is run!\n",
      "Init is run!\n",
      "Init is run!\n",
      "Init is run!\n",
      "Init is run!\n",
      "Init is run!\n",
      "Init is run!\n",
      "Init is run!\n",
      "Init is run!\n",
      "Init is run!\n",
      "Init is run!\n",
      "Init is run!\n",
      "Init is run!\n",
      "Init is run!\n",
      "Init is run!\n",
      "Init is run!\n",
      "Init is run!\n",
      "Init is run!\n",
      "Init is run!\n",
      "Init is run!\n",
      "Init is run!\n",
      "Init is run!\n",
      "Init is run!\n",
      "Init is run!\n",
      "Init is run!\n",
      "Init is run!\n",
      "Init is run!\n",
      "Init is run!\n",
      "Init is run!\n",
      "Init is run!\n",
      "Init is run!\n",
      "Init is run!\n",
      "Init is run!\n",
      "Init is run!\n",
      "Init is run!\n",
      "Init is run!\n",
      "Init is run!\n",
      "Init is run!\n",
      "Init is run!\n",
      "Init is run!\n",
      "Init is run!\n",
      "Init is run!\n",
      "Init is run!\n",
      "Init is run!\n",
      "Init is run!\n",
      "Old loss:  1.6520569324493408\n",
      "New loss:  1.5673595666885376\n"
     ]
    }
   ],
   "source": [
    "from synpred.variational.permutation_invariant_variational_strategy import PermutationInvariantVariationalStrategy\n",
    "from gpytorch.variational import LMCVariationalStrategy\n",
    "\n",
    "class DrugCombModel(gpytorch.models.ApproximateGP):\n",
    "    def __init__(self):\n",
    "        print(\"Init is run!\")\n",
    "        num_latents = 4\n",
    "        # Permutation\n",
    "        permutation = torch.cat([torch.tensor([1]),torch.tensor([0]),torch.linspace(22,41,20),torch.linspace(2,21,20)]).long()\n",
    "        # Inducing points init from training data\n",
    "        ind_indices = torch.randperm(X_train.size(0))\n",
    "        inducing_points = torch.stack([X_train[ind_indices[:250]],\n",
    "                                       X_train[ind_indices[250:500]],\n",
    "                                       X_train[ind_indices[500:750]],\n",
    "                                       X_train[ind_indices[750:1000]]],\n",
    "                                       #X_train[ind_indices[2000:2500]],\n",
    "                                       #X_train[ind_indices[2500:3000]]],\n",
    "                                       dim=0)\n",
    "        # Variational distribution\n",
    "        variational_distribution = gpytorch.variational.NaturalVariationalDistribution(\n",
    "            inducing_points.size(-2), batch_shape=torch.Size([num_latents]))\n",
    "        \n",
    "        \n",
    "        # Variational Strategy\n",
    "        variational_strategy = LMCVariationalStrategy(\n",
    "            PermutationInvariantVariationalStrategy(\n",
    "                self, inducing_points, variational_distribution, \n",
    "                permutation=permutation,\n",
    "                learn_inducing_locations=True),\n",
    "            num_tasks=num_tasks,\n",
    "            num_latents=num_latents,\n",
    "            latent_dim=-1)\n",
    "\n",
    "        \n",
    "        super(DrugCombModel,self).__init__(variational_strategy)\n",
    "        \n",
    "        # Mean and covariance modules\n",
    "        # Standard zero-mean\n",
    "        self.mean_module = gpytorch.means.ZeroMean(batch_shape=torch.Size([num_latents]))\n",
    "        # Covar over the concentrations, simple RBF\n",
    "        self.covar_module_concentrations = gpytorch.kernels.ScaleKernel(gpytorch.kernels.RBFKernel(active_dims=torch.tensor([0,1]),\n",
    "                                                                     batch_shape=torch.Size([num_latents])),\n",
    "                                                                        batch_shape=torch.Size([num_latents]))\n",
    "        # Covar over the drugs, RBF + ARD\n",
    "        self.covar_module_drugs = gpytorch.kernels.RBFKernel(active_dims=torch.linspace(2,41,40).long(),\n",
    "                                                            ard_num_dims=40,\n",
    "                                                            batch_shape=torch.Size([num_latents]))\n",
    "        \n",
    "    def forward(self, x):\n",
    "        mean_x = self.mean_module(x)\n",
    "        # Final covariance is a simple product.\n",
    "        covar_x = self.covar_module_concentrations(x) * self.covar_module_drugs(x)\n",
    "        return gpytorch.distributions.MultivariateNormal(mean_x, covar_x)\n"
   ]
  },
  {
   "cell_type": "code",
   "execution_count": 25,
   "id": "d1389a0a",
   "metadata": {},
   "outputs": [
    {
     "data": {
      "text/plain": [
       "489"
      ]
     },
     "execution_count": 25,
     "metadata": {},
     "output_type": "execute_result"
    }
   ],
   "source": [
    "# Check that initialization is decent\n",
    "init_loss = []\n",
    "#models = []\n",
    "#likelihoods = []\n",
    "ind = torch.randperm(X_train.size(0))\n",
    "X_mll = X_train[ind[:1000]]\n",
    "y_mll = y_train[ind[:1000]]\n",
    "task_mll = task_train[ind[:1000]]\n",
    "model = DrugCombModel()\n",
    "likelihood = gpytorch.likelihoods.GaussianLikelihood()\n",
    "model.train()\n",
    "likelihood.train()\n",
    "mll = gpytorch.mlls.VariationalELBO(likelihood, model, num_data=y_train.size(0))\n",
    "output = model(X_mll,task_indices=task_mll)\n",
    "loss = -mll(output, y_mll)\n",
    "for i in range(100):\n",
    "    # Now continue in \n",
    "    newmodel = DrugCombModel()\n",
    "    newlikelihood = gpytorch.likelihoods.GaussianLikelihood()\n",
    "    newmodel.train()\n",
    "    newlikelihood.train()\n",
    "    newmll = gpytorch.mlls.VariationalELBO(newlikelihood, newmodel, num_data=y_train.size(0))\n",
    "    newoutput = newmodel(X_mll,task_indices=task_mll)\n",
    "    newloss = -newmll(newoutput, y_mll)\n",
    "    # If this loss is better overwrite\n",
    "    if newloss.item() < loss.item():\n",
    "        print(\"Old loss: \", loss.item())\n",
    "        print(\"New loss: \", newloss.item())\n",
    "        model = newmodel\n",
    "        likelihood = newlikelihood\n",
    "        loss = newloss\n",
    "        \n",
    "    else:\n",
    "        # Delete everthing\n",
    "        import gc\n",
    "        del newmodel\n",
    "        del newlikelihood\n",
    "        del newloss\n",
    "        del newmll\n",
    "        del newoutput\n",
    "        del newloss\n",
    "        gc.collect()\n"
   ]
  },
  {
   "cell_type": "code",
   "execution_count": 26,
   "id": "837a2d64",
   "metadata": {
    "scrolled": true
   },
   "outputs": [
    {
     "data": {
      "application/vnd.jupyter.widget-view+json": {
       "model_id": "cba2b816dfe5451182f006e87722ea44",
       "version_major": 2,
       "version_minor": 0
      },
      "text/plain": [
       "Epoch:   0%|          | 0/30 [00:00<?, ?it/s]"
      ]
     },
     "metadata": {},
     "output_type": "display_data"
    },
    {
     "data": {
      "application/vnd.jupyter.widget-view+json": {
       "model_id": "",
       "version_major": 2,
       "version_minor": 0
      },
      "text/plain": [
       "Minibatch:   0%|          | 0/365 [00:00<?, ?it/s]"
      ]
     },
     "metadata": {},
     "output_type": "display_data"
    },
    {
     "data": {
      "application/vnd.jupyter.widget-view+json": {
       "model_id": "",
       "version_major": 2,
       "version_minor": 0
      },
      "text/plain": [
       "Minibatch:   0%|          | 0/365 [00:00<?, ?it/s]"
      ]
     },
     "metadata": {},
     "output_type": "display_data"
    },
    {
     "data": {
      "application/vnd.jupyter.widget-view+json": {
       "model_id": "",
       "version_major": 2,
       "version_minor": 0
      },
      "text/plain": [
       "Minibatch:   0%|          | 0/365 [00:00<?, ?it/s]"
      ]
     },
     "metadata": {},
     "output_type": "display_data"
    },
    {
     "data": {
      "application/vnd.jupyter.widget-view+json": {
       "model_id": "",
       "version_major": 2,
       "version_minor": 0
      },
      "text/plain": [
       "Minibatch:   0%|          | 0/365 [00:00<?, ?it/s]"
      ]
     },
     "metadata": {},
     "output_type": "display_data"
    },
    {
     "data": {
      "application/vnd.jupyter.widget-view+json": {
       "model_id": "",
       "version_major": 2,
       "version_minor": 0
      },
      "text/plain": [
       "Minibatch:   0%|          | 0/365 [00:00<?, ?it/s]"
      ]
     },
     "metadata": {},
     "output_type": "display_data"
    },
    {
     "data": {
      "application/vnd.jupyter.widget-view+json": {
       "model_id": "",
       "version_major": 2,
       "version_minor": 0
      },
      "text/plain": [
       "Minibatch:   0%|          | 0/365 [00:00<?, ?it/s]"
      ]
     },
     "metadata": {},
     "output_type": "display_data"
    },
    {
     "data": {
      "application/vnd.jupyter.widget-view+json": {
       "model_id": "",
       "version_major": 2,
       "version_minor": 0
      },
      "text/plain": [
       "Minibatch:   0%|          | 0/365 [00:00<?, ?it/s]"
      ]
     },
     "metadata": {},
     "output_type": "display_data"
    },
    {
     "data": {
      "application/vnd.jupyter.widget-view+json": {
       "model_id": "",
       "version_major": 2,
       "version_minor": 0
      },
      "text/plain": [
       "Minibatch:   0%|          | 0/365 [00:00<?, ?it/s]"
      ]
     },
     "metadata": {},
     "output_type": "display_data"
    },
    {
     "data": {
      "application/vnd.jupyter.widget-view+json": {
       "model_id": "",
       "version_major": 2,
       "version_minor": 0
      },
      "text/plain": [
       "Minibatch:   0%|          | 0/365 [00:00<?, ?it/s]"
      ]
     },
     "metadata": {},
     "output_type": "display_data"
    },
    {
     "data": {
      "application/vnd.jupyter.widget-view+json": {
       "model_id": "",
       "version_major": 2,
       "version_minor": 0
      },
      "text/plain": [
       "Minibatch:   0%|          | 0/365 [00:00<?, ?it/s]"
      ]
     },
     "metadata": {},
     "output_type": "display_data"
    },
    {
     "data": {
      "application/vnd.jupyter.widget-view+json": {
       "model_id": "",
       "version_major": 2,
       "version_minor": 0
      },
      "text/plain": [
       "Minibatch:   0%|          | 0/365 [00:00<?, ?it/s]"
      ]
     },
     "metadata": {},
     "output_type": "display_data"
    },
    {
     "data": {
      "application/vnd.jupyter.widget-view+json": {
       "model_id": "",
       "version_major": 2,
       "version_minor": 0
      },
      "text/plain": [
       "Minibatch:   0%|          | 0/365 [00:00<?, ?it/s]"
      ]
     },
     "metadata": {},
     "output_type": "display_data"
    },
    {
     "data": {
      "application/vnd.jupyter.widget-view+json": {
       "model_id": "",
       "version_major": 2,
       "version_minor": 0
      },
      "text/plain": [
       "Minibatch:   0%|          | 0/365 [00:00<?, ?it/s]"
      ]
     },
     "metadata": {},
     "output_type": "display_data"
    },
    {
     "data": {
      "application/vnd.jupyter.widget-view+json": {
       "model_id": "",
       "version_major": 2,
       "version_minor": 0
      },
      "text/plain": [
       "Minibatch:   0%|          | 0/365 [00:00<?, ?it/s]"
      ]
     },
     "metadata": {},
     "output_type": "display_data"
    },
    {
     "data": {
      "application/vnd.jupyter.widget-view+json": {
       "model_id": "",
       "version_major": 2,
       "version_minor": 0
      },
      "text/plain": [
       "Minibatch:   0%|          | 0/365 [00:00<?, ?it/s]"
      ]
     },
     "metadata": {},
     "output_type": "display_data"
    },
    {
     "data": {
      "application/vnd.jupyter.widget-view+json": {
       "model_id": "",
       "version_major": 2,
       "version_minor": 0
      },
      "text/plain": [
       "Minibatch:   0%|          | 0/365 [00:00<?, ?it/s]"
      ]
     },
     "metadata": {},
     "output_type": "display_data"
    },
    {
     "data": {
      "application/vnd.jupyter.widget-view+json": {
       "model_id": "",
       "version_major": 2,
       "version_minor": 0
      },
      "text/plain": [
       "Minibatch:   0%|          | 0/365 [00:00<?, ?it/s]"
      ]
     },
     "metadata": {},
     "output_type": "display_data"
    },
    {
     "data": {
      "application/vnd.jupyter.widget-view+json": {
       "model_id": "",
       "version_major": 2,
       "version_minor": 0
      },
      "text/plain": [
       "Minibatch:   0%|          | 0/365 [00:00<?, ?it/s]"
      ]
     },
     "metadata": {},
     "output_type": "display_data"
    },
    {
     "data": {
      "application/vnd.jupyter.widget-view+json": {
       "model_id": "",
       "version_major": 2,
       "version_minor": 0
      },
      "text/plain": [
       "Minibatch:   0%|          | 0/365 [00:00<?, ?it/s]"
      ]
     },
     "metadata": {},
     "output_type": "display_data"
    },
    {
     "data": {
      "application/vnd.jupyter.widget-view+json": {
       "model_id": "",
       "version_major": 2,
       "version_minor": 0
      },
      "text/plain": [
       "Minibatch:   0%|          | 0/365 [00:00<?, ?it/s]"
      ]
     },
     "metadata": {},
     "output_type": "display_data"
    },
    {
     "data": {
      "application/vnd.jupyter.widget-view+json": {
       "model_id": "",
       "version_major": 2,
       "version_minor": 0
      },
      "text/plain": [
       "Minibatch:   0%|          | 0/365 [00:00<?, ?it/s]"
      ]
     },
     "metadata": {},
     "output_type": "display_data"
    },
    {
     "data": {
      "application/vnd.jupyter.widget-view+json": {
       "model_id": "",
       "version_major": 2,
       "version_minor": 0
      },
      "text/plain": [
       "Minibatch:   0%|          | 0/365 [00:00<?, ?it/s]"
      ]
     },
     "metadata": {},
     "output_type": "display_data"
    },
    {
     "data": {
      "application/vnd.jupyter.widget-view+json": {
       "model_id": "",
       "version_major": 2,
       "version_minor": 0
      },
      "text/plain": [
       "Minibatch:   0%|          | 0/365 [00:00<?, ?it/s]"
      ]
     },
     "metadata": {},
     "output_type": "display_data"
    },
    {
     "data": {
      "application/vnd.jupyter.widget-view+json": {
       "model_id": "",
       "version_major": 2,
       "version_minor": 0
      },
      "text/plain": [
       "Minibatch:   0%|          | 0/365 [00:00<?, ?it/s]"
      ]
     },
     "metadata": {},
     "output_type": "display_data"
    },
    {
     "data": {
      "application/vnd.jupyter.widget-view+json": {
       "model_id": "",
       "version_major": 2,
       "version_minor": 0
      },
      "text/plain": [
       "Minibatch:   0%|          | 0/365 [00:00<?, ?it/s]"
      ]
     },
     "metadata": {},
     "output_type": "display_data"
    },
    {
     "data": {
      "application/vnd.jupyter.widget-view+json": {
       "model_id": "",
       "version_major": 2,
       "version_minor": 0
      },
      "text/plain": [
       "Minibatch:   0%|          | 0/365 [00:00<?, ?it/s]"
      ]
     },
     "metadata": {},
     "output_type": "display_data"
    },
    {
     "data": {
      "application/vnd.jupyter.widget-view+json": {
       "model_id": "",
       "version_major": 2,
       "version_minor": 0
      },
      "text/plain": [
       "Minibatch:   0%|          | 0/365 [00:00<?, ?it/s]"
      ]
     },
     "metadata": {},
     "output_type": "display_data"
    },
    {
     "data": {
      "application/vnd.jupyter.widget-view+json": {
       "model_id": "",
       "version_major": 2,
       "version_minor": 0
      },
      "text/plain": [
       "Minibatch:   0%|          | 0/365 [00:00<?, ?it/s]"
      ]
     },
     "metadata": {},
     "output_type": "display_data"
    },
    {
     "data": {
      "application/vnd.jupyter.widget-view+json": {
       "model_id": "",
       "version_major": 2,
       "version_minor": 0
      },
      "text/plain": [
       "Minibatch:   0%|          | 0/365 [00:00<?, ?it/s]"
      ]
     },
     "metadata": {},
     "output_type": "display_data"
    },
    {
     "data": {
      "application/vnd.jupyter.widget-view+json": {
       "model_id": "",
       "version_major": 2,
       "version_minor": 0
      },
      "text/plain": [
       "Minibatch:   0%|          | 0/365 [00:00<?, ?it/s]"
      ]
     },
     "metadata": {},
     "output_type": "display_data"
    }
   ],
   "source": [
    "# this is for running the notebook in our testing framework\n",
    "import os\n",
    "import tqdm.notebook\n",
    "from torch.optim.lr_scheduler import MultiStepLR\n",
    "num_epochs = 30 # Number of complete passes through the data\n",
    "\n",
    "\n",
    "model.train()\n",
    "likelihood.train()\n",
    "\n",
    "variational_ngd_optimizer = gpytorch.optim.NGD(model.variational_parameters(), lr=0.1,\n",
    "                                               num_data=y_train.size(0))\n",
    "\n",
    "hyperparameter_optimizer = torch.optim.Adam([\n",
    "    {'params': model.hyperparameters()},\n",
    "    {'params': likelihood.parameters()},\n",
    "], lr=0.01)\n",
    "scheduler_variational = MultiStepLR(variational_ngd_optimizer, milestones=[0.5 * num_epochs,\n",
    "                                                                           0.75 * num_epochs\n",
    "                                                                           ], gamma=0.1)\n",
    "scheduler_hypers = MultiStepLR(hyperparameter_optimizer, milestones=[0.5 * num_epochs,\n",
    "                                                                     0.75 * num_epochs\n",
    "                                                                     ], gamma=0.1)\n",
    "\n",
    "\n",
    "# Our loss object. We're using the VariationalELBO, which essentially just computes the ELBO\n",
    "mll = gpytorch.mlls.VariationalELBO(likelihood, model, num_data=y_train.size(0))\n",
    "\n",
    "# Tracking loss\n",
    "train_loss  = []\n",
    "\n",
    "# We use more CG iterations here because the preconditioner introduced in the NeurIPS paper seems to be less\n",
    "# effective for VI.\n",
    "with gpytorch.settings.cholesky_max_tries(3):\n",
    "    epochs_iter = tqdm.notebook.tqdm(range(num_epochs), desc=\"Epoch\")\n",
    "    for i in epochs_iter:\n",
    "        # Within each iteration, we will go over each minibatch of data\n",
    "        minibatch_iter = tqdm.notebook.tqdm(train_loader, desc=\"Minibatch\", leave=False)\n",
    "        counter = 0\n",
    "        for x_batch, y_batch, task_batch in minibatch_iter:\n",
    "            if (counter==5): # Update Variational parameters only every 5th iteration\n",
    "                ### Perform NGD step to optimize variational parameters\n",
    "                variational_ngd_optimizer.zero_grad()\n",
    "                output = model(x_batch,task_indices=task_batch)\n",
    "                loss = -mll(output, y_batch)\n",
    "                loss.backward()\n",
    "                variational_ngd_optimizer.step()\n",
    "                counter = 0\n",
    "\n",
    "            ### Perform Adam step to optimize hyperparameters\n",
    "            hyperparameter_optimizer.zero_grad()\n",
    "            output = model(x_batch,task_indices=task_batch)\n",
    "            loss = -mll(output, y_batch)\n",
    "            loss.backward()\n",
    "            hyperparameter_optimizer.step()\n",
    "\n",
    "            counter += 1\n",
    "            #print(model.variational_strategy.lmc_coefficients)\n",
    "            \n",
    "            train_loss.append(loss.item())\n",
    "            \n",
    "            minibatch_iter.set_postfix(loss=loss.item())\n",
    "            epochs_iter.set_postfix(loss=loss.item())\n",
    "        \n",
    "        scheduler_hypers.step()\n",
    "        scheduler_variational.step()\n",
    "        "
   ]
  },
  {
   "cell_type": "code",
   "execution_count": 27,
   "id": "19e9ba3f",
   "metadata": {},
   "outputs": [
    {
     "data": {
      "text/plain": [
       "[<matplotlib.lines.Line2D at 0x174abcf40>]"
      ]
     },
     "execution_count": 27,
     "metadata": {},
     "output_type": "execute_result"
    },
    {
     "data": {
      "image/png": "[encoded data removed]",
      "text/plain": [
       "<Figure size 640x480 with 1 Axes>"
      ]
     },
     "metadata": {},
     "output_type": "display_data"
    }
   ],
   "source": [
    "plt.plot(train_loss)"
   ]
  },
  {
   "cell_type": "code",
   "execution_count": null,
   "id": "a84fc72e",
   "metadata": {},
   "outputs": [],
   "source": []
  },
  {
   "cell_type": "code",
   "execution_count": 28,
   "id": "e62d3cb2",
   "metadata": {
    "scrolled": true
   },
   "outputs": [
    {
     "data": {
      "text/plain": [
       "{Parameter containing:\n",
       " tensor([-4.0043, -4.2331, -3.5489, -2.2093], requires_grad=True),\n",
       " Parameter containing:\n",
       " tensor([[ 0.0101, -0.1154,  0.0829,  0.1435],\n",
       "         [ 0.1573, -0.0289, -0.1286,  0.0105],\n",
       "         [-0.0459, -0.1573, -0.0212, -0.1511],\n",
       "         [ 0.1231,  0.1065,  0.1261,  0.1083]], requires_grad=True),\n",
       " Parameter containing:\n",
       " tensor([[[ 3.8522,  7.1658,  3.3058,  1.3965,  7.2463,  4.4148,  4.4968,\n",
       "            4.2367,  3.9860,  7.8892,  2.9893,  0.1270,  5.0409,  0.7210,\n",
       "           -1.7278,  3.7056,  0.8476,  2.9761,  5.1272,  0.3704, 13.4450,\n",
       "            9.8488,  9.0739,  8.8240, 17.1420, 11.1875, 15.0125, 10.2460,\n",
       "            6.9435, 15.8298, 12.3757, 15.0824, 13.2700, 16.2551, 10.8159,\n",
       "           15.5836, 15.5496, 14.8238, 12.5410, 13.5768]],\n",
       " \n",
       "         [[11.6521,  6.9829, 10.0313,  9.9819, 13.8619,  6.7701, 11.4393,\n",
       "           12.8025,  7.7153, 16.1599, 13.3721, 12.2494, 11.3525, 11.7499,\n",
       "           11.9304, 12.3924, 13.4126,  8.8144, 10.6377, 10.3752,  5.0480,\n",
       "            2.3504,  1.4636,  4.5288,  5.2417, -1.2420,  4.5686,  1.2365,\n",
       "           -0.3039,  0.9661, -0.2618,  2.0381,  2.0415, -1.2626,  0.4510,\n",
       "            2.2918, -0.7137,  2.6333,  4.1867,  5.0181]],\n",
       " \n",
       "         [[16.1157, 13.7470, 14.4048,  9.7845, 17.5532, 14.0440, 17.4470,\n",
       "           15.5945,  9.4872, 18.5496, 15.8519, 18.3008, 14.6764, 17.2057,\n",
       "           15.1254, 19.2922, 15.3334, 16.6076, 14.9469, 15.9754,  8.5607,\n",
       "            5.3009, 10.7110,  1.2548,  3.6616,  2.8059,  0.7774, -1.6556,\n",
       "            3.9838,  5.6288,  5.8203,  8.0546,  4.8420,  0.1017,  5.2496,\n",
       "           10.6198,  3.4035, -1.3659,  6.5549,  0.9773]],\n",
       " \n",
       "         [[ 0.8136,  1.6551,  1.2999, -0.1174,  6.1979, 11.9563,  5.4204,\n",
       "           10.2140,  1.6449, 13.3979, 11.8517,  9.5313,  6.2384,  7.5692,\n",
       "            0.2408,  4.2125,  1.8808, 13.0934,  8.8643,  0.6742, 18.5039,\n",
       "           11.7000, 11.8748, 11.9002, 19.8785, 13.1006, 16.6073, 18.0310,\n",
       "           10.0854, 17.1393, 19.6208, 16.9584, 16.5252, 17.6254, 13.9269,\n",
       "           19.4544, 16.6967, 14.5004, 15.8728, 14.6146]]], requires_grad=True),\n",
       " Parameter containing:\n",
       " tensor([[[ 5.1783e-01,  5.9590e-01, -5.0416e-01,  ...,  2.0863e-01,\n",
       "            1.6511e+00,  1.0472e-01],\n",
       "          [ 9.3548e-01,  2.8770e-01,  2.6434e-03,  ...,  3.3893e-01,\n",
       "           -3.4691e-01,  2.8410e-01],\n",
       "          [-2.7166e-01,  1.5505e+00, -7.3052e-01,  ...,  2.8042e-02,\n",
       "            1.0847e+00, -1.6787e+00],\n",
       "          ...,\n",
       "          [ 8.6594e-01,  3.1361e-02, -9.5191e-02,  ..., -7.1092e-01,\n",
       "            2.3337e-01,  4.5973e-01],\n",
       "          [ 8.6325e-01,  7.1943e-02, -2.2400e-01,  ...,  5.3217e-01,\n",
       "            7.8461e-02, -9.2980e-01],\n",
       "          [ 9.5562e-01,  3.3163e-01,  6.7441e-01,  ..., -1.9576e-01,\n",
       "            1.6835e-01,  6.6048e-01]],\n",
       " \n",
       "         [[ 3.4198e-01,  8.8340e-01,  1.4313e-01,  ...,  1.3098e-01,\n",
       "            9.8995e-01, -2.0354e+00],\n",
       "          [ 9.3390e-01,  9.4645e-01, -1.7186e-01,  ...,  3.1882e+00,\n",
       "           -3.0912e+00, -2.5457e-01],\n",
       "          [ 5.1122e-01,  1.0602e+00, -1.0765e+00,  ...,  1.0722e-01,\n",
       "           -2.9211e-01,  3.8715e-02],\n",
       "          ...,\n",
       "          [ 2.2004e-01,  7.8619e-01, -3.0707e-01,  ...,  4.1606e-01,\n",
       "            1.1218e+00, -1.9305e+00],\n",
       "          [ 3.1225e-01,  6.1994e-01,  1.3678e-01,  ..., -3.3803e-02,\n",
       "            2.6847e-02, -3.4115e-04],\n",
       "          [ 1.3810e-01,  9.0206e-01,  3.5630e+00,  ...,  3.8922e-01,\n",
       "           -8.4308e-01,  2.5245e-01]],\n",
       " \n",
       "         [[ 3.8372e-01,  5.1080e-01, -6.3368e-01,  ...,  6.5890e-01,\n",
       "           -9.0572e-01, -2.9289e-02],\n",
       "          [ 3.9147e-01,  6.0701e-01, -1.0562e-01,  ..., -1.8183e+00,\n",
       "            1.8955e-01,  2.8449e+00],\n",
       "          [ 8.0037e-01,  2.2469e-01,  1.1567e+00,  ...,  3.8376e-01,\n",
       "            1.1158e+00, -1.7719e+00],\n",
       "          ...,\n",
       "          [ 1.1282e-01,  7.6714e-01,  4.5696e-02,  ...,  3.9930e-01,\n",
       "           -8.4607e-01,  2.4819e-01],\n",
       "          [ 8.1759e-01,  1.6858e-01,  7.9429e-02,  ..., -3.0885e-02,\n",
       "            2.7076e-02, -1.8924e-02],\n",
       "          [ 1.2274e-01,  8.7890e-01,  2.8735e-01,  ...,  9.9807e-03,\n",
       "           -1.1797e-01,  4.1748e-01]],\n",
       " \n",
       "         [[ 8.1429e-01,  2.6061e-01, -1.6793e-01,  ..., -6.7368e-01,\n",
       "            1.2226e+00, -5.0758e-01],\n",
       "          [ 1.9698e-01,  1.3293e-01, -1.5218e-01,  ..., -3.5624e-02,\n",
       "           -7.2973e-03,  1.4234e-01],\n",
       "          [ 5.2915e-01,  9.5256e-01, -8.5950e-02,  ...,  6.2439e-02,\n",
       "           -1.4577e-01, -7.4763e-01],\n",
       "          ...,\n",
       "          [ 1.2174e-01, -6.9056e-02, -2.0676e-01,  ...,  4.8317e-02,\n",
       "           -3.4292e-01,  2.2900e-01],\n",
       "          [ 5.2986e-01,  4.8528e-01, -2.5577e-01,  ...,  9.9859e-01,\n",
       "           -2.0700e+00,  2.3281e-02],\n",
       "          [ 1.2242e+00,  2.5498e-01, -1.5823e-01,  ..., -9.6959e-02,\n",
       "            2.2270e-01,  3.4198e-01]]], requires_grad=True),\n",
       " Parameter containing:\n",
       " tensor([[[-1.2224]],\n",
       " \n",
       "         [[-1.1680]],\n",
       " \n",
       "         [[-1.3567]],\n",
       " \n",
       "         [[-0.7737]]], requires_grad=True)}"
      ]
     },
     "execution_count": 28,
     "metadata": {},
     "output_type": "execute_result"
    }
   ],
   "source": [
    "set(model.hyperparameters())"
   ]
  },
  {
   "cell_type": "code",
   "execution_count": 29,
   "id": "9b3ce780",
   "metadata": {},
   "outputs": [
    {
     "data": {
      "text/plain": [
       "tensor([[ 0.0101,  0.1573, -0.0459,  0.1231],\n",
       "        [-0.1154, -0.0289, -0.1573,  0.1065],\n",
       "        [ 0.0829, -0.1286, -0.0212,  0.1261],\n",
       "        [ 0.1435,  0.0105, -0.1511,  0.1083]])"
      ]
     },
     "execution_count": 29,
     "metadata": {},
     "output_type": "execute_result"
    }
   ],
   "source": [
    "model.variational_strategy.lmc_coefficients.t().detach()"
   ]
  },
  {
   "cell_type": "code",
   "execution_count": 30,
   "id": "6d77f889",
   "metadata": {},
   "outputs": [],
   "source": [
    "model.covar_module_concentrations.lengthscale"
   ]
  },
  {
   "cell_type": "code",
   "execution_count": 31,
   "id": "19249203",
   "metadata": {},
   "outputs": [
    {
     "data": {
      "text/plain": [
       "<matplotlib.colorbar.Colorbar at 0x2826a22f0>"
      ]
     },
     "execution_count": 31,
     "metadata": {},
     "output_type": "execute_result"
    },
    {
     "data": {
      "image/png": "[encoded data removed]",
      "text/plain": [
       "<Figure size 480x480 with 2 Axes>"
      ]
     },
     "metadata": {},
     "output_type": "display_data"
    },
    {
     "data": {
      "image/png": "[encoded data removed]",
      "text/plain": [
       "<Figure size 480x480 with 2 Axes>"
      ]
     },
     "metadata": {},
     "output_type": "display_data"
    }
   ],
   "source": [
    "A = model.variational_strategy.lmc_coefficients.t().detach()\n",
    "plt.matshow(A)\n",
    "plt.colorbar()\n",
    "plt.matshow(A.matmul(A.t()))\n",
    "plt.colorbar()"
   ]
  },
  {
   "cell_type": "code",
   "execution_count": 32,
   "id": "d945ffdc",
   "metadata": {},
   "outputs": [],
   "source": [
    "indices = torch.randperm(X_test.size(0))[:2000]\n",
    "X_test_subsample = X_test[indices,:]\n",
    "task_test_subsample = task_test[indices]\n",
    "#X_test_flipped = torch.index_select(X_test, -1, permutation)\n",
    "y_test_subsample = y_test[indices]\n",
    "#y_test.max()"
   ]
  },
  {
   "cell_type": "code",
   "execution_count": 33,
   "id": "7469f85b",
   "metadata": {},
   "outputs": [
    {
     "data": {
      "text/plain": [
       "tensor([0.0761, 0.8367, 0.1721,  ..., 0.1205, 0.9584, 0.1676])"
      ]
     },
     "execution_count": 33,
     "metadata": {},
     "output_type": "execute_result"
    }
   ],
   "source": [
    "y_test_subsample"
   ]
  },
  {
   "cell_type": "code",
   "execution_count": 34,
   "id": "d685703e",
   "metadata": {
    "scrolled": true
   },
   "outputs": [],
   "source": [
    "# Set into eval mode\n",
    "model.eval()\n",
    "likelihood.eval()\n",
    "# Make predictions\n",
    "\n",
    "with torch.no_grad(), gpytorch.settings.fast_pred_var(), gpytorch.settings.cholesky_max_tries(12):\n",
    "    predictions = likelihood(model(X_test_subsample, task_indices = task_test_subsample))\n",
    "    mean = predictions.mean\n",
    "    #lower, upper = predictions.confidence_region()\n",
    "\n"
   ]
  },
  {
   "cell_type": "code",
   "execution_count": 35,
   "id": "8b1a8d54",
   "metadata": {},
   "outputs": [],
   "source": [
    "#plt.plot(y_test)"
   ]
  },
  {
   "cell_type": "code",
   "execution_count": 36,
   "id": "7ccd7c8d",
   "metadata": {},
   "outputs": [],
   "source": [
    "#plt.plot(mean)"
   ]
  },
  {
   "cell_type": "code",
   "execution_count": 37,
   "id": "ee8895a0",
   "metadata": {},
   "outputs": [
    {
     "data": {
      "text/plain": [
       "tensor([0.0072], grad_fn=<AddBackward0>)"
      ]
     },
     "execution_count": 37,
     "metadata": {},
     "output_type": "execute_result"
    }
   ],
   "source": [
    "likelihood.noise\n"
   ]
  },
  {
   "cell_type": "code",
   "execution_count": 43,
   "id": "a91890d9",
   "metadata": {},
   "outputs": [
    {
     "data": {
      "text/plain": [
       "tensor([[[0.2581]],\n",
       "\n",
       "        [[0.2708]],\n",
       "\n",
       "        [[0.2291]],\n",
       "\n",
       "        [[0.3793]]], grad_fn=<SoftplusBackward0>)"
      ]
     },
     "execution_count": 43,
     "metadata": {},
     "output_type": "execute_result"
    }
   ],
   "source": [
    "model.covar_module_concentrations.base_kernel.lengthscale\n",
    "\n",
    "\n"
   ]
  },
  {
   "cell_type": "code",
   "execution_count": 44,
   "id": "09afdf28",
   "metadata": {
    "scrolled": true
   },
   "outputs": [
    {
     "data": {
      "text/plain": [
       "<matplotlib.lines.AxLine at 0x2826e1db0>"
      ]
     },
     "execution_count": 44,
     "metadata": {},
     "output_type": "execute_result"
    },
    {
     "data": {
      "image/png": "[encoded data removed]",
      "text/plain": [
       "<Figure size 640x480 with 1 Axes>"
      ]
     },
     "metadata": {},
     "output_type": "display_data"
    }
   ],
   "source": [
    "plt.scatter(mean,y_test_subsample)\n",
    "plt.axline((0,0), slope=1)"
   ]
  },
  {
   "cell_type": "code",
   "execution_count": 45,
   "id": "0bafb90f",
   "metadata": {
    "scrolled": true
   },
   "outputs": [
    {
     "data": {
      "text/plain": [
       "<matplotlib.lines.AxLine at 0x2827251e0>"
      ]
     },
     "execution_count": 45,
     "metadata": {},
     "output_type": "execute_result"
    },
    {
     "data": {
      "image/png": "[encoded data removed]",
      "text/plain": [
       "<Figure size 640x480 with 1 Axes>"
      ]
     },
     "metadata": {},
     "output_type": "display_data"
    }
   ],
   "source": [
    "plt.scatter(y_test_subsample,torch.tensor(data[\"p0Mean\"].values).float()[randperm[n_train:]][indices])\n",
    "plt.axline((0,0), slope=1)"
   ]
  },
  {
   "cell_type": "code",
   "execution_count": 46,
   "id": "96c14dc7",
   "metadata": {},
   "outputs": [
    {
     "data": {
      "text/plain": [
       "array([[1.        , 0.97354937],\n",
       "       [0.97354937, 1.        ]])"
      ]
     },
     "execution_count": 46,
     "metadata": {},
     "output_type": "execute_result"
    }
   ],
   "source": [
    "np.corrcoef(y_test_subsample,torch.tensor(data[\"p0Mean\"].values).float()[randperm[n_train:]][indices])"
   ]
  },
  {
   "cell_type": "code",
   "execution_count": 47,
   "id": "cbf6848d",
   "metadata": {},
   "outputs": [
    {
     "data": {
      "text/plain": [
       "array([[1.        , 0.97331101],\n",
       "       [0.97331101, 1.        ]])"
      ]
     },
     "execution_count": 47,
     "metadata": {},
     "output_type": "execute_result"
    }
   ],
   "source": [
    "np.corrcoef(mean,y_test_subsample)"
   ]
  },
  {
   "cell_type": "code",
   "execution_count": null,
   "id": "9c24f233",
   "metadata": {},
   "outputs": [],
   "source": []
  },
  {
   "cell_type": "code",
   "execution_count": 48,
   "id": "b9e8e770",
   "metadata": {},
   "outputs": [
    {
     "name": "stdout",
     "output_type": "stream",
     "text": [
      "0.0069695604\n",
      "0.00635518\n"
     ]
    }
   ],
   "source": [
    "from sklearn.metrics import mean_squared_error\n",
    "\n",
    "print(mean_squared_error(y_test_subsample,torch.tensor(data[\"p0Mean\"].values).float()[randperm[n_train:]][indices]))\n",
    "print(mean_squared_error(mean,y_test_subsample))\n",
    "\n"
   ]
  },
  {
   "cell_type": "code",
   "execution_count": 49,
   "id": "20548e7f",
   "metadata": {},
   "outputs": [],
   "source": [
    "#torch.save({'model_state_dict': model.state_dict(),\n",
    "#            'likelihood_state_dict': likelihood.state_dict()},'LMC_ONeil_2Latents.pth')"
   ]
  },
  {
   "cell_type": "code",
   "execution_count": 50,
   "id": "3a1696fd",
   "metadata": {},
   "outputs": [
    {
     "data": {
      "text/plain": [
       "OrderedDict([('noise_covar.raw_noise', tensor([-4.9380])),\n",
       "             ('noise_covar.raw_noise_constraint.lower_bound',\n",
       "              tensor(1.0000e-04)),\n",
       "             ('noise_covar.raw_noise_constraint.upper_bound', tensor(inf))])"
      ]
     },
     "execution_count": 50,
     "metadata": {},
     "output_type": "execute_result"
    }
   ],
   "source": [
    "likelihood.state_dict()"
   ]
  },
  {
   "cell_type": "code",
   "execution_count": 51,
   "id": "f8acc4ff",
   "metadata": {},
   "outputs": [
    {
     "data": {
      "text/plain": [
       "Parameter containing:\n",
       "tensor([-4.9380], requires_grad=True)"
      ]
     },
     "execution_count": 51,
     "metadata": {},
     "output_type": "execute_result"
    }
   ],
   "source": [
    "likelihood.raw_noise"
   ]
  },
  {
   "cell_type": "code",
   "execution_count": null,
   "id": "ab6323ec",
   "metadata": {},
   "outputs": [],
   "source": []
  },
  {
   "cell_type": "code",
   "execution_count": null,
   "id": "efec90a1",
   "metadata": {},
   "outputs": [],
   "source": []
  },
  {
   "cell_type": "code",
   "execution_count": null,
   "id": "e99b0290",
   "metadata": {},
   "outputs": [],
   "source": []
  },
  {
   "cell_type": "code",
   "execution_count": null,
   "id": "03829f6a",
   "metadata": {},
   "outputs": [],
   "source": []
  }
 ],
 "metadata": {
  "kernelspec": {
   "display_name": "Python 3 (ipykernel)",
   "language": "python",
   "name": "python3"
  },
  "language_info": {
   "codemirror_mode": {
    "name": "ipython",
    "version": 3
   },
   "file_extension": ".py",
   "mimetype": "text/x-python",
   "name": "python",
   "nbconvert_exporter": "python",
   "pygments_lexer": "ipython3",
   "version": "3.10.13"
  }
 },
 "nbformat": 4,
 "nbformat_minor": 5
}
