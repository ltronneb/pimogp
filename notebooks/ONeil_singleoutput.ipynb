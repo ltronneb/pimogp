{
 "cells": [
  {
   "cell_type": "markdown",
   "id": "8245a508",
   "metadata": {},
   "source": [
    "# Real data, v0\n",
    "\n",
    "This notebook is a first attempt at running the model on the O'Neil dataset.\n",
    "\n",
    "I'll not do anything clever with the kernels, just want to get a basic thing up and running, with the LMC, permutation invariance and SVI all working together.\n"
   ]
  },
  {
   "cell_type": "markdown",
   "id": "47076c81",
   "metadata": {},
   "source": [
    "But I'll start it off with modelling several drug combinations for a single cell line, i.e. a single-output permutation invariant GP. I'll use a basic fingerprint to represent the drugs, and then PCA to get the dimensionality down."
   ]
  },
  {
   "cell_type": "code",
   "execution_count": 3,
   "id": "3729afc3",
   "metadata": {},
   "outputs": [],
   "source": [
    "import pandas as pd\n",
    "import numpy as np\n",
    "import gauche\n",
    "from gauche.dataloader import MolPropLoader\n",
    "from sklearn.decomposition import PCA\n",
    "from sklearn.preprocessing import StandardScaler\n",
    "from scipy.stats import zscore\n",
    "loader = MolPropLoader()\n",
    "drugs = pd.read_csv(\"../synpred/data/ONeil_drug_SMILES.csv\")\n",
    "data = pd.read_csv(\"../synpred/data/Oneil_full.csv\",delimiter=\";\")"
   ]
  },
  {
   "cell_type": "code",
   "execution_count": 4,
   "id": "0f4f20c3",
   "metadata": {},
   "outputs": [
    {
     "name": "stdout",
     "output_type": "stream",
     "text": [
      "ratio variance explained:  0.724486217441052\n"
     ]
    }
   ],
   "source": [
    "# Processing drug SMILES\n",
    "loader.read_csv(\"../synpred/data/ONeil_drug_SMILES.csv\",smiles_column=\"SMILES\",label_column=\"Numeric\",validate=True)\n",
    "loader.featurize('ecfp_fingerprints')\n",
    "X = loader.features\n",
    "scaler = StandardScaler()\n",
    "X = scaler.fit_transform(X)\n",
    "pcacomponents = 20\n",
    "pca = PCA(n_components=pcacomponents)\n",
    "X = pca.fit_transform(X)\n",
    "print(\"ratio variance explained: \",pca.explained_variance_ratio_.sum())\n",
    "\n",
    "# Merging onto the main dataframe\n",
    "X = pd.DataFrame(X)\n",
    "X = X.apply(zscore)\n",
    "XA = X.add_prefix(\"A\")\n",
    "XB = X.add_prefix(\"B\")\n",
    "drugsA = pd.concat([drugs,XA],axis=1)\n",
    "drugsA = drugsA.drop(columns=[\"Target\",\"SMILES\",\"Numeric\"],axis=1)\n",
    "drugsB = pd.concat([drugs,XB],axis=1)\n",
    "drugsB = drugsB.drop(columns=[\"Target\",\"SMILES\",\"Numeric\"],axis=1)\n",
    "data = pd.merge(data,drugsA, left_on=\"DrugA\",right_on=\"Name\")\n",
    "data = pd.merge(data,drugsB, left_on=\"DrugB\",right_on=\"Name\")\n",
    "data = data.drop(columns=[\"Name_x\",\"Name_y\"])"
   ]
  },
  {
   "cell_type": "code",
   "execution_count": 5,
   "id": "842a946d",
   "metadata": {},
   "outputs": [],
   "source": [
    "data = data.sort_values([\"CellLine\",\"DrugA\",\"DrugB\"])"
   ]
  },
  {
   "cell_type": "code",
   "execution_count": 6,
   "id": "d1b16ec7",
   "metadata": {},
   "outputs": [],
   "source": [
    "# Now let's subsample this, so that we have a single cell line of data to train on.\n",
    "#k = 1*583*100\n",
    "k = 1*100*100\n",
    "data = data.head(k)"
   ]
  },
  {
   "cell_type": "code",
   "execution_count": 7,
   "id": "dbee9cb8",
   "metadata": {},
   "outputs": [
    {
     "data": {
      "text/plain": [
       "(10000, 52)"
      ]
     },
     "execution_count": 7,
     "metadata": {},
     "output_type": "execute_result"
    }
   ],
   "source": [
    "data.shape"
   ]
  },
  {
   "cell_type": "code",
   "execution_count": 8,
   "id": "92785238",
   "metadata": {},
   "outputs": [
    {
     "data": {
      "text/plain": [
       "array(['A2058'], dtype=object)"
      ]
     },
     "execution_count": 8,
     "metadata": {},
     "output_type": "execute_result"
    }
   ],
   "source": [
    "data[\"CellLine\"].unique()"
   ]
  },
  {
   "cell_type": "code",
   "execution_count": 9,
   "id": "b7a18102",
   "metadata": {},
   "outputs": [
    {
     "data": {
      "text/html": [
       "<div>\n",
       "<style scoped>\n",
       "    .dataframe tbody tr th:only-of-type {\n",
       "        vertical-align: middle;\n",
       "    }\n",
       "\n",
       "    .dataframe tbody tr th {\n",
       "        vertical-align: top;\n",
       "    }\n",
       "\n",
       "    .dataframe thead th {\n",
       "        text-align: right;\n",
       "    }\n",
       "</style>\n",
       "<table border=\"1\" class=\"dataframe\">\n",
       "  <thead>\n",
       "    <tr style=\"text-align: right;\">\n",
       "      <th></th>\n",
       "      <th>CellLine</th>\n",
       "      <th>DrugA</th>\n",
       "      <th>DrugB</th>\n",
       "      <th>DrugAconc</th>\n",
       "      <th>DrugBconc</th>\n",
       "      <th>GPMean</th>\n",
       "      <th>GPVar</th>\n",
       "      <th>fMean</th>\n",
       "      <th>fVAR</th>\n",
       "      <th>p0Mean</th>\n",
       "      <th>...</th>\n",
       "      <th>B10</th>\n",
       "      <th>B11</th>\n",
       "      <th>B12</th>\n",
       "      <th>B13</th>\n",
       "      <th>B14</th>\n",
       "      <th>B15</th>\n",
       "      <th>B16</th>\n",
       "      <th>B17</th>\n",
       "      <th>B18</th>\n",
       "      <th>B19</th>\n",
       "    </tr>\n",
       "  </thead>\n",
       "  <tbody>\n",
       "    <tr>\n",
       "      <th>0</th>\n",
       "      <td>A2058</td>\n",
       "      <td>5-FU</td>\n",
       "      <td>ABT-888</td>\n",
       "      <td>0.0</td>\n",
       "      <td>0.000000</td>\n",
       "      <td>-0.086238</td>\n",
       "      <td>0.769223</td>\n",
       "      <td>0.999311</td>\n",
       "      <td>0.000007</td>\n",
       "      <td>0.999129</td>\n",
       "      <td>...</td>\n",
       "      <td>-0.069183</td>\n",
       "      <td>-0.428406</td>\n",
       "      <td>-0.241985</td>\n",
       "      <td>0.003027</td>\n",
       "      <td>0.427459</td>\n",
       "      <td>-0.361237</td>\n",
       "      <td>-0.134498</td>\n",
       "      <td>0.377727</td>\n",
       "      <td>0.543192</td>\n",
       "      <td>-0.453688</td>\n",
       "    </tr>\n",
       "    <tr>\n",
       "      <th>1</th>\n",
       "      <td>A2058</td>\n",
       "      <td>5-FU</td>\n",
       "      <td>ABT-888</td>\n",
       "      <td>0.0</td>\n",
       "      <td>0.111111</td>\n",
       "      <td>-0.109674</td>\n",
       "      <td>0.765477</td>\n",
       "      <td>0.999055</td>\n",
       "      <td>0.000011</td>\n",
       "      <td>0.998892</td>\n",
       "      <td>...</td>\n",
       "      <td>-0.069183</td>\n",
       "      <td>-0.428406</td>\n",
       "      <td>-0.241985</td>\n",
       "      <td>0.003027</td>\n",
       "      <td>0.427459</td>\n",
       "      <td>-0.361237</td>\n",
       "      <td>-0.134498</td>\n",
       "      <td>0.377727</td>\n",
       "      <td>0.543192</td>\n",
       "      <td>-0.453688</td>\n",
       "    </tr>\n",
       "    <tr>\n",
       "      <th>2</th>\n",
       "      <td>A2058</td>\n",
       "      <td>5-FU</td>\n",
       "      <td>ABT-888</td>\n",
       "      <td>0.0</td>\n",
       "      <td>0.222222</td>\n",
       "      <td>-0.137490</td>\n",
       "      <td>0.769211</td>\n",
       "      <td>0.998608</td>\n",
       "      <td>0.000018</td>\n",
       "      <td>0.998559</td>\n",
       "      <td>...</td>\n",
       "      <td>-0.069183</td>\n",
       "      <td>-0.428406</td>\n",
       "      <td>-0.241985</td>\n",
       "      <td>0.003027</td>\n",
       "      <td>0.427459</td>\n",
       "      <td>-0.361237</td>\n",
       "      <td>-0.134498</td>\n",
       "      <td>0.377727</td>\n",
       "      <td>0.543192</td>\n",
       "      <td>-0.453688</td>\n",
       "    </tr>\n",
       "    <tr>\n",
       "      <th>3</th>\n",
       "      <td>A2058</td>\n",
       "      <td>5-FU</td>\n",
       "      <td>ABT-888</td>\n",
       "      <td>0.0</td>\n",
       "      <td>0.333333</td>\n",
       "      <td>-0.169852</td>\n",
       "      <td>0.751210</td>\n",
       "      <td>0.997828</td>\n",
       "      <td>0.000034</td>\n",
       "      <td>0.998071</td>\n",
       "      <td>...</td>\n",
       "      <td>-0.069183</td>\n",
       "      <td>-0.428406</td>\n",
       "      <td>-0.241985</td>\n",
       "      <td>0.003027</td>\n",
       "      <td>0.427459</td>\n",
       "      <td>-0.361237</td>\n",
       "      <td>-0.134498</td>\n",
       "      <td>0.377727</td>\n",
       "      <td>0.543192</td>\n",
       "      <td>-0.453688</td>\n",
       "    </tr>\n",
       "    <tr>\n",
       "      <th>4</th>\n",
       "      <td>A2058</td>\n",
       "      <td>5-FU</td>\n",
       "      <td>ABT-888</td>\n",
       "      <td>0.0</td>\n",
       "      <td>0.444444</td>\n",
       "      <td>-0.209794</td>\n",
       "      <td>0.726083</td>\n",
       "      <td>0.996413</td>\n",
       "      <td>0.000075</td>\n",
       "      <td>0.997321</td>\n",
       "      <td>...</td>\n",
       "      <td>-0.069183</td>\n",
       "      <td>-0.428406</td>\n",
       "      <td>-0.241985</td>\n",
       "      <td>0.003027</td>\n",
       "      <td>0.427459</td>\n",
       "      <td>-0.361237</td>\n",
       "      <td>-0.134498</td>\n",
       "      <td>0.377727</td>\n",
       "      <td>0.543192</td>\n",
       "      <td>-0.453688</td>\n",
       "    </tr>\n",
       "    <tr>\n",
       "      <th>...</th>\n",
       "      <td>...</td>\n",
       "      <td>...</td>\n",
       "      <td>...</td>\n",
       "      <td>...</td>\n",
       "      <td>...</td>\n",
       "      <td>...</td>\n",
       "      <td>...</td>\n",
       "      <td>...</td>\n",
       "      <td>...</td>\n",
       "      <td>...</td>\n",
       "      <td>...</td>\n",
       "      <td>...</td>\n",
       "      <td>...</td>\n",
       "      <td>...</td>\n",
       "      <td>...</td>\n",
       "      <td>...</td>\n",
       "      <td>...</td>\n",
       "      <td>...</td>\n",
       "      <td>...</td>\n",
       "      <td>...</td>\n",
       "      <td>...</td>\n",
       "    </tr>\n",
       "    <tr>\n",
       "      <th>1747295</th>\n",
       "      <td>A2058</td>\n",
       "      <td>Cyclophosphamide</td>\n",
       "      <td>Sunitinib</td>\n",
       "      <td>1.0</td>\n",
       "      <td>0.555556</td>\n",
       "      <td>0.021521</td>\n",
       "      <td>1.954363</td>\n",
       "      <td>0.986183</td>\n",
       "      <td>0.000809</td>\n",
       "      <td>0.992710</td>\n",
       "      <td>...</td>\n",
       "      <td>2.924761</td>\n",
       "      <td>-0.608525</td>\n",
       "      <td>2.777491</td>\n",
       "      <td>-0.442245</td>\n",
       "      <td>-0.899638</td>\n",
       "      <td>-0.614287</td>\n",
       "      <td>-0.271848</td>\n",
       "      <td>0.175473</td>\n",
       "      <td>0.234730</td>\n",
       "      <td>-0.289930</td>\n",
       "    </tr>\n",
       "    <tr>\n",
       "      <th>1747296</th>\n",
       "      <td>A2058</td>\n",
       "      <td>Cyclophosphamide</td>\n",
       "      <td>Sunitinib</td>\n",
       "      <td>1.0</td>\n",
       "      <td>0.666667</td>\n",
       "      <td>-0.153843</td>\n",
       "      <td>0.929997</td>\n",
       "      <td>0.976712</td>\n",
       "      <td>0.000420</td>\n",
       "      <td>0.984006</td>\n",
       "      <td>...</td>\n",
       "      <td>2.924761</td>\n",
       "      <td>-0.608525</td>\n",
       "      <td>2.777491</td>\n",
       "      <td>-0.442245</td>\n",
       "      <td>-0.899638</td>\n",
       "      <td>-0.614287</td>\n",
       "      <td>-0.271848</td>\n",
       "      <td>0.175473</td>\n",
       "      <td>0.234730</td>\n",
       "      <td>-0.289930</td>\n",
       "    </tr>\n",
       "    <tr>\n",
       "      <th>1747297</th>\n",
       "      <td>A2058</td>\n",
       "      <td>Cyclophosphamide</td>\n",
       "      <td>Sunitinib</td>\n",
       "      <td>1.0</td>\n",
       "      <td>0.777778</td>\n",
       "      <td>-0.607574</td>\n",
       "      <td>0.278840</td>\n",
       "      <td>0.880577</td>\n",
       "      <td>0.001570</td>\n",
       "      <td>0.930870</td>\n",
       "      <td>...</td>\n",
       "      <td>2.924761</td>\n",
       "      <td>-0.608525</td>\n",
       "      <td>2.777491</td>\n",
       "      <td>-0.442245</td>\n",
       "      <td>-0.899638</td>\n",
       "      <td>-0.614287</td>\n",
       "      <td>-0.271848</td>\n",
       "      <td>0.175473</td>\n",
       "      <td>0.234730</td>\n",
       "      <td>-0.289930</td>\n",
       "    </tr>\n",
       "    <tr>\n",
       "      <th>1747298</th>\n",
       "      <td>A2058</td>\n",
       "      <td>Cyclophosphamide</td>\n",
       "      <td>Sunitinib</td>\n",
       "      <td>1.0</td>\n",
       "      <td>0.888889</td>\n",
       "      <td>-0.555191</td>\n",
       "      <td>0.072605</td>\n",
       "      <td>0.570012</td>\n",
       "      <td>0.002018</td>\n",
       "      <td>0.663835</td>\n",
       "      <td>...</td>\n",
       "      <td>2.924761</td>\n",
       "      <td>-0.608525</td>\n",
       "      <td>2.777491</td>\n",
       "      <td>-0.442245</td>\n",
       "      <td>-0.899638</td>\n",
       "      <td>-0.614287</td>\n",
       "      <td>-0.271848</td>\n",
       "      <td>0.175473</td>\n",
       "      <td>0.234730</td>\n",
       "      <td>-0.289930</td>\n",
       "    </tr>\n",
       "    <tr>\n",
       "      <th>1747299</th>\n",
       "      <td>A2058</td>\n",
       "      <td>Cyclophosphamide</td>\n",
       "      <td>Sunitinib</td>\n",
       "      <td>1.0</td>\n",
       "      <td>1.000000</td>\n",
       "      <td>-1.921298</td>\n",
       "      <td>0.095013</td>\n",
       "      <td>0.061629</td>\n",
       "      <td>0.000216</td>\n",
       "      <td>0.312313</td>\n",
       "      <td>...</td>\n",
       "      <td>2.924761</td>\n",
       "      <td>-0.608525</td>\n",
       "      <td>2.777491</td>\n",
       "      <td>-0.442245</td>\n",
       "      <td>-0.899638</td>\n",
       "      <td>-0.614287</td>\n",
       "      <td>-0.271848</td>\n",
       "      <td>0.175473</td>\n",
       "      <td>0.234730</td>\n",
       "      <td>-0.289930</td>\n",
       "    </tr>\n",
       "  </tbody>\n",
       "</table>\n",
       "<p>10000 rows × 52 columns</p>\n",
       "</div>"
      ],
      "text/plain": [
       "        CellLine             DrugA      DrugB  DrugAconc  DrugBconc    GPMean  \\\n",
       "0          A2058              5-FU    ABT-888        0.0   0.000000 -0.086238   \n",
       "1          A2058              5-FU    ABT-888        0.0   0.111111 -0.109674   \n",
       "2          A2058              5-FU    ABT-888        0.0   0.222222 -0.137490   \n",
       "3          A2058              5-FU    ABT-888        0.0   0.333333 -0.169852   \n",
       "4          A2058              5-FU    ABT-888        0.0   0.444444 -0.209794   \n",
       "...          ...               ...        ...        ...        ...       ...   \n",
       "1747295    A2058  Cyclophosphamide  Sunitinib        1.0   0.555556  0.021521   \n",
       "1747296    A2058  Cyclophosphamide  Sunitinib        1.0   0.666667 -0.153843   \n",
       "1747297    A2058  Cyclophosphamide  Sunitinib        1.0   0.777778 -0.607574   \n",
       "1747298    A2058  Cyclophosphamide  Sunitinib        1.0   0.888889 -0.555191   \n",
       "1747299    A2058  Cyclophosphamide  Sunitinib        1.0   1.000000 -1.921298   \n",
       "\n",
       "            GPVar     fMean      fVAR    p0Mean  ...       B10       B11  \\\n",
       "0        0.769223  0.999311  0.000007  0.999129  ... -0.069183 -0.428406   \n",
       "1        0.765477  0.999055  0.000011  0.998892  ... -0.069183 -0.428406   \n",
       "2        0.769211  0.998608  0.000018  0.998559  ... -0.069183 -0.428406   \n",
       "3        0.751210  0.997828  0.000034  0.998071  ... -0.069183 -0.428406   \n",
       "4        0.726083  0.996413  0.000075  0.997321  ... -0.069183 -0.428406   \n",
       "...           ...       ...       ...       ...  ...       ...       ...   \n",
       "1747295  1.954363  0.986183  0.000809  0.992710  ...  2.924761 -0.608525   \n",
       "1747296  0.929997  0.976712  0.000420  0.984006  ...  2.924761 -0.608525   \n",
       "1747297  0.278840  0.880577  0.001570  0.930870  ...  2.924761 -0.608525   \n",
       "1747298  0.072605  0.570012  0.002018  0.663835  ...  2.924761 -0.608525   \n",
       "1747299  0.095013  0.061629  0.000216  0.312313  ...  2.924761 -0.608525   \n",
       "\n",
       "              B12       B13       B14       B15       B16       B17       B18  \\\n",
       "0       -0.241985  0.003027  0.427459 -0.361237 -0.134498  0.377727  0.543192   \n",
       "1       -0.241985  0.003027  0.427459 -0.361237 -0.134498  0.377727  0.543192   \n",
       "2       -0.241985  0.003027  0.427459 -0.361237 -0.134498  0.377727  0.543192   \n",
       "3       -0.241985  0.003027  0.427459 -0.361237 -0.134498  0.377727  0.543192   \n",
       "4       -0.241985  0.003027  0.427459 -0.361237 -0.134498  0.377727  0.543192   \n",
       "...           ...       ...       ...       ...       ...       ...       ...   \n",
       "1747295  2.777491 -0.442245 -0.899638 -0.614287 -0.271848  0.175473  0.234730   \n",
       "1747296  2.777491 -0.442245 -0.899638 -0.614287 -0.271848  0.175473  0.234730   \n",
       "1747297  2.777491 -0.442245 -0.899638 -0.614287 -0.271848  0.175473  0.234730   \n",
       "1747298  2.777491 -0.442245 -0.899638 -0.614287 -0.271848  0.175473  0.234730   \n",
       "1747299  2.777491 -0.442245 -0.899638 -0.614287 -0.271848  0.175473  0.234730   \n",
       "\n",
       "              B19  \n",
       "0       -0.453688  \n",
       "1       -0.453688  \n",
       "2       -0.453688  \n",
       "3       -0.453688  \n",
       "4       -0.453688  \n",
       "...           ...  \n",
       "1747295 -0.289930  \n",
       "1747296 -0.289930  \n",
       "1747297 -0.289930  \n",
       "1747298 -0.289930  \n",
       "1747299 -0.289930  \n",
       "\n",
       "[10000 rows x 52 columns]"
      ]
     },
     "execution_count": 9,
     "metadata": {},
     "output_type": "execute_result"
    }
   ],
   "source": [
    "data"
   ]
  },
  {
   "cell_type": "code",
   "execution_count": 10,
   "id": "cf971b47",
   "metadata": {},
   "outputs": [
    {
     "data": {
      "text/plain": [
       "array(['ABT-888', 'AZD1775', 'BEZ-235', 'Bortezomib', 'Dasatinib',\n",
       "       'Dinaciclib', 'Erlotinib', 'L778123', 'Lapatinib', 'MK-2206',\n",
       "       'MK-4827', 'MK-5108', 'MK-8669', 'MK-8776', 'PD325901',\n",
       "       'Sorafenib', 'Sunitinib', 'Temozolomide', 'Zolinza',\n",
       "       'geldanamycin', 'Oxaliplatin', 'SN-38', 'Topotecan'], dtype=object)"
      ]
     },
     "execution_count": 10,
     "metadata": {},
     "output_type": "execute_result"
    }
   ],
   "source": [
    "data[\"DrugB\"].unique()"
   ]
  },
  {
   "cell_type": "code",
   "execution_count": 11,
   "id": "a16c28c3",
   "metadata": {},
   "outputs": [],
   "source": [
    "# Now setting up code to run models\n",
    "from matplotlib import pyplot as plt\n",
    "import torch\n",
    "import gpytorch\n",
    "import numpy as np\n",
    "import linear_operator\n",
    "y = torch.tensor(data[\"fMean\"].values).float()\n",
    "s = torch.tensor(data[\"GPVar\"].values).float()\n",
    "conc = data[['DrugAconc','DrugBconc']]\n",
    "drugcovars = data.iloc[:,-40:]\n",
    "X = torch.tensor(pd.concat([conc,drugcovars],axis=1).values).float()\n",
    "task_indices = torch.tensor(pd.Categorical(data['CellLine']).codes).long()\n",
    "num_tasks = task_indices.max().item() + 1"
   ]
  },
  {
   "cell_type": "code",
   "execution_count": 12,
   "id": "5cbfd859",
   "metadata": {},
   "outputs": [],
   "source": [
    "\n",
    "# Now going to get it ready for minibatching\n",
    "from torch.utils.data import TensorDataset, DataLoader\n",
    "train_dataset = TensorDataset(X, y)\n",
    "train_loader = DataLoader(train_dataset, batch_size=512, shuffle=True)"
   ]
  },
  {
   "cell_type": "code",
   "execution_count": 66,
   "id": "c6e0ccd2",
   "metadata": {},
   "outputs": [
    {
     "name": "stdout",
     "output_type": "stream",
     "text": [
      "Init is run!\n"
     ]
    }
   ],
   "source": [
    "from synpred.variational.permutation_invariant_variational_strategy import PermutationInvariantVariationalStrategy\n",
    "\n",
    "\n",
    "class DrugCombModel(gpytorch.models.ApproximateGP):\n",
    "    def __init__(self):\n",
    "        print(\"Init is run!\")\n",
    "        # Permutation\n",
    "        permutation = torch.cat([torch.tensor([1]),torch.tensor([0]),torch.linspace(22,41,20),torch.linspace(2,21,20)]).long()\n",
    "        # Inducing points init from training data\n",
    "        inducing_points = X[torch.randperm(X.size(0))[:2000]]\n",
    "        #inducing_points = X\n",
    "        # Variational distribution\n",
    "        variational_distribution = gpytorch.variational.NaturalVariationalDistribution(\n",
    "            inducing_points.size(-2))\n",
    "        \n",
    "        \n",
    "        # Variational Strategy\n",
    "        #variational_strategy = PermutationInvariantVariationalStrategy(\n",
    "        variational_strategy = gpytorch.variational.VariationalStrategy(\n",
    "                self, inducing_points, variational_distribution, \n",
    "                #permutation=permutation,\n",
    "                learn_inducing_locations=True)\n",
    "\n",
    "        \n",
    "        super(DrugCombModel,self).__init__(variational_strategy)\n",
    "        \n",
    "        # Mean and covariance modules\n",
    "        # Standard zero-mean\n",
    "        self.mean_module = gpytorch.means.ZeroMean()\n",
    "        # Covar over the concentrations, simple RBF\n",
    "        self.covar_module_concentrations = gpytorch.kernels.ScaleKernel(\n",
    "            gpytorch.kernels.RBFKernel(active_dims=torch.tensor([0,1])))\n",
    "        # Covar over the drugs, RBF + ARD\n",
    "        self.covar_module_drugs = gpytorch.kernels.RBFKernel(active_dims=torch.linspace(2,41,40).long(),\n",
    "                                                            ard_num_dims=40)\n",
    "        \n",
    "    def forward(self, x):\n",
    "        mean_x = self.mean_module(x)\n",
    "        # Final covariance is a simple product.\n",
    "        covar_x = self.covar_module_concentrations(x) * self.covar_module_drugs(x)\n",
    "        return gpytorch.distributions.MultivariateNormal(mean_x, covar_x)\n",
    "\n",
    "    \n",
    "model = DrugCombModel()\n",
    "likelihood = gpytorch.likelihoods.GaussianLikelihood()"
   ]
  },
  {
   "cell_type": "code",
   "execution_count": 88,
   "id": "837a2d64",
   "metadata": {},
   "outputs": [
    {
     "data": {
      "application/vnd.jupyter.widget-view+json": {
       "model_id": "e12c50b1f5fb485194350f1c83f4dc6d",
       "version_major": 2,
       "version_minor": 0
      },
      "text/plain": [
       "Epoch:   0%|          | 0/40 [00:00<?, ?it/s]"
      ]
     },
     "metadata": {},
     "output_type": "display_data"
    },
    {
     "data": {
      "application/vnd.jupyter.widget-view+json": {
       "model_id": "",
       "version_major": 2,
       "version_minor": 0
      },
      "text/plain": [
       "Minibatch:   0%|          | 0/20 [00:00<?, ?it/s]"
      ]
     },
     "metadata": {},
     "output_type": "display_data"
    },
    {
     "data": {
      "application/vnd.jupyter.widget-view+json": {
       "model_id": "",
       "version_major": 2,
       "version_minor": 0
      },
      "text/plain": [
       "Minibatch:   0%|          | 0/20 [00:00<?, ?it/s]"
      ]
     },
     "metadata": {},
     "output_type": "display_data"
    },
    {
     "data": {
      "application/vnd.jupyter.widget-view+json": {
       "model_id": "",
       "version_major": 2,
       "version_minor": 0
      },
      "text/plain": [
       "Minibatch:   0%|          | 0/20 [00:00<?, ?it/s]"
      ]
     },
     "metadata": {},
     "output_type": "display_data"
    },
    {
     "data": {
      "application/vnd.jupyter.widget-view+json": {
       "model_id": "",
       "version_major": 2,
       "version_minor": 0
      },
      "text/plain": [
       "Minibatch:   0%|          | 0/20 [00:00<?, ?it/s]"
      ]
     },
     "metadata": {},
     "output_type": "display_data"
    },
    {
     "data": {
      "application/vnd.jupyter.widget-view+json": {
       "model_id": "",
       "version_major": 2,
       "version_minor": 0
      },
      "text/plain": [
       "Minibatch:   0%|          | 0/20 [00:00<?, ?it/s]"
      ]
     },
     "metadata": {},
     "output_type": "display_data"
    },
    {
     "data": {
      "application/vnd.jupyter.widget-view+json": {
       "model_id": "",
       "version_major": 2,
       "version_minor": 0
      },
      "text/plain": [
       "Minibatch:   0%|          | 0/20 [00:00<?, ?it/s]"
      ]
     },
     "metadata": {},
     "output_type": "display_data"
    },
    {
     "data": {
      "application/vnd.jupyter.widget-view+json": {
       "model_id": "",
       "version_major": 2,
       "version_minor": 0
      },
      "text/plain": [
       "Minibatch:   0%|          | 0/20 [00:00<?, ?it/s]"
      ]
     },
     "metadata": {},
     "output_type": "display_data"
    },
    {
     "data": {
      "application/vnd.jupyter.widget-view+json": {
       "model_id": "",
       "version_major": 2,
       "version_minor": 0
      },
      "text/plain": [
       "Minibatch:   0%|          | 0/20 [00:00<?, ?it/s]"
      ]
     },
     "metadata": {},
     "output_type": "display_data"
    },
    {
     "data": {
      "application/vnd.jupyter.widget-view+json": {
       "model_id": "",
       "version_major": 2,
       "version_minor": 0
      },
      "text/plain": [
       "Minibatch:   0%|          | 0/20 [00:00<?, ?it/s]"
      ]
     },
     "metadata": {},
     "output_type": "display_data"
    },
    {
     "data": {
      "application/vnd.jupyter.widget-view+json": {
       "model_id": "",
       "version_major": 2,
       "version_minor": 0
      },
      "text/plain": [
       "Minibatch:   0%|          | 0/20 [00:00<?, ?it/s]"
      ]
     },
     "metadata": {},
     "output_type": "display_data"
    },
    {
     "data": {
      "application/vnd.jupyter.widget-view+json": {
       "model_id": "",
       "version_major": 2,
       "version_minor": 0
      },
      "text/plain": [
       "Minibatch:   0%|          | 0/20 [00:00<?, ?it/s]"
      ]
     },
     "metadata": {},
     "output_type": "display_data"
    },
    {
     "data": {
      "application/vnd.jupyter.widget-view+json": {
       "model_id": "",
       "version_major": 2,
       "version_minor": 0
      },
      "text/plain": [
       "Minibatch:   0%|          | 0/20 [00:00<?, ?it/s]"
      ]
     },
     "metadata": {},
     "output_type": "display_data"
    },
    {
     "data": {
      "application/vnd.jupyter.widget-view+json": {
       "model_id": "",
       "version_major": 2,
       "version_minor": 0
      },
      "text/plain": [
       "Minibatch:   0%|          | 0/20 [00:00<?, ?it/s]"
      ]
     },
     "metadata": {},
     "output_type": "display_data"
    },
    {
     "data": {
      "application/vnd.jupyter.widget-view+json": {
       "model_id": "",
       "version_major": 2,
       "version_minor": 0
      },
      "text/plain": [
       "Minibatch:   0%|          | 0/20 [00:00<?, ?it/s]"
      ]
     },
     "metadata": {},
     "output_type": "display_data"
    },
    {
     "data": {
      "application/vnd.jupyter.widget-view+json": {
       "model_id": "",
       "version_major": 2,
       "version_minor": 0
      },
      "text/plain": [
       "Minibatch:   0%|          | 0/20 [00:00<?, ?it/s]"
      ]
     },
     "metadata": {},
     "output_type": "display_data"
    },
    {
     "data": {
      "application/vnd.jupyter.widget-view+json": {
       "model_id": "",
       "version_major": 2,
       "version_minor": 0
      },
      "text/plain": [
       "Minibatch:   0%|          | 0/20 [00:00<?, ?it/s]"
      ]
     },
     "metadata": {},
     "output_type": "display_data"
    },
    {
     "data": {
      "application/vnd.jupyter.widget-view+json": {
       "model_id": "",
       "version_major": 2,
       "version_minor": 0
      },
      "text/plain": [
       "Minibatch:   0%|          | 0/20 [00:00<?, ?it/s]"
      ]
     },
     "metadata": {},
     "output_type": "display_data"
    },
    {
     "data": {
      "application/vnd.jupyter.widget-view+json": {
       "model_id": "",
       "version_major": 2,
       "version_minor": 0
      },
      "text/plain": [
       "Minibatch:   0%|          | 0/20 [00:00<?, ?it/s]"
      ]
     },
     "metadata": {},
     "output_type": "display_data"
    },
    {
     "data": {
      "application/vnd.jupyter.widget-view+json": {
       "model_id": "",
       "version_major": 2,
       "version_minor": 0
      },
      "text/plain": [
       "Minibatch:   0%|          | 0/20 [00:00<?, ?it/s]"
      ]
     },
     "metadata": {},
     "output_type": "display_data"
    },
    {
     "data": {
      "application/vnd.jupyter.widget-view+json": {
       "model_id": "",
       "version_major": 2,
       "version_minor": 0
      },
      "text/plain": [
       "Minibatch:   0%|          | 0/20 [00:00<?, ?it/s]"
      ]
     },
     "metadata": {},
     "output_type": "display_data"
    },
    {
     "data": {
      "application/vnd.jupyter.widget-view+json": {
       "model_id": "",
       "version_major": 2,
       "version_minor": 0
      },
      "text/plain": [
       "Minibatch:   0%|          | 0/20 [00:00<?, ?it/s]"
      ]
     },
     "metadata": {},
     "output_type": "display_data"
    },
    {
     "data": {
      "application/vnd.jupyter.widget-view+json": {
       "model_id": "",
       "version_major": 2,
       "version_minor": 0
      },
      "text/plain": [
       "Minibatch:   0%|          | 0/20 [00:00<?, ?it/s]"
      ]
     },
     "metadata": {},
     "output_type": "display_data"
    },
    {
     "data": {
      "application/vnd.jupyter.widget-view+json": {
       "model_id": "",
       "version_major": 2,
       "version_minor": 0
      },
      "text/plain": [
       "Minibatch:   0%|          | 0/20 [00:00<?, ?it/s]"
      ]
     },
     "metadata": {},
     "output_type": "display_data"
    },
    {
     "data": {
      "application/vnd.jupyter.widget-view+json": {
       "model_id": "",
       "version_major": 2,
       "version_minor": 0
      },
      "text/plain": [
       "Minibatch:   0%|          | 0/20 [00:00<?, ?it/s]"
      ]
     },
     "metadata": {},
     "output_type": "display_data"
    },
    {
     "data": {
      "application/vnd.jupyter.widget-view+json": {
       "model_id": "",
       "version_major": 2,
       "version_minor": 0
      },
      "text/plain": [
       "Minibatch:   0%|          | 0/20 [00:00<?, ?it/s]"
      ]
     },
     "metadata": {},
     "output_type": "display_data"
    },
    {
     "data": {
      "application/vnd.jupyter.widget-view+json": {
       "model_id": "",
       "version_major": 2,
       "version_minor": 0
      },
      "text/plain": [
       "Minibatch:   0%|          | 0/20 [00:00<?, ?it/s]"
      ]
     },
     "metadata": {},
     "output_type": "display_data"
    },
    {
     "data": {
      "application/vnd.jupyter.widget-view+json": {
       "model_id": "",
       "version_major": 2,
       "version_minor": 0
      },
      "text/plain": [
       "Minibatch:   0%|          | 0/20 [00:00<?, ?it/s]"
      ]
     },
     "metadata": {},
     "output_type": "display_data"
    },
    {
     "data": {
      "application/vnd.jupyter.widget-view+json": {
       "model_id": "",
       "version_major": 2,
       "version_minor": 0
      },
      "text/plain": [
       "Minibatch:   0%|          | 0/20 [00:00<?, ?it/s]"
      ]
     },
     "metadata": {},
     "output_type": "display_data"
    },
    {
     "data": {
      "application/vnd.jupyter.widget-view+json": {
       "model_id": "",
       "version_major": 2,
       "version_minor": 0
      },
      "text/plain": [
       "Minibatch:   0%|          | 0/20 [00:00<?, ?it/s]"
      ]
     },
     "metadata": {},
     "output_type": "display_data"
    },
    {
     "data": {
      "application/vnd.jupyter.widget-view+json": {
       "model_id": "",
       "version_major": 2,
       "version_minor": 0
      },
      "text/plain": [
       "Minibatch:   0%|          | 0/20 [00:00<?, ?it/s]"
      ]
     },
     "metadata": {},
     "output_type": "display_data"
    },
    {
     "data": {
      "application/vnd.jupyter.widget-view+json": {
       "model_id": "",
       "version_major": 2,
       "version_minor": 0
      },
      "text/plain": [
       "Minibatch:   0%|          | 0/20 [00:00<?, ?it/s]"
      ]
     },
     "metadata": {},
     "output_type": "display_data"
    },
    {
     "data": {
      "application/vnd.jupyter.widget-view+json": {
       "model_id": "",
       "version_major": 2,
       "version_minor": 0
      },
      "text/plain": [
       "Minibatch:   0%|          | 0/20 [00:00<?, ?it/s]"
      ]
     },
     "metadata": {},
     "output_type": "display_data"
    },
    {
     "data": {
      "application/vnd.jupyter.widget-view+json": {
       "model_id": "",
       "version_major": 2,
       "version_minor": 0
      },
      "text/plain": [
       "Minibatch:   0%|          | 0/20 [00:00<?, ?it/s]"
      ]
     },
     "metadata": {},
     "output_type": "display_data"
    },
    {
     "data": {
      "application/vnd.jupyter.widget-view+json": {
       "model_id": "",
       "version_major": 2,
       "version_minor": 0
      },
      "text/plain": [
       "Minibatch:   0%|          | 0/20 [00:00<?, ?it/s]"
      ]
     },
     "metadata": {},
     "output_type": "display_data"
    },
    {
     "data": {
      "application/vnd.jupyter.widget-view+json": {
       "model_id": "",
       "version_major": 2,
       "version_minor": 0
      },
      "text/plain": [
       "Minibatch:   0%|          | 0/20 [00:00<?, ?it/s]"
      ]
     },
     "metadata": {},
     "output_type": "display_data"
    },
    {
     "data": {
      "application/vnd.jupyter.widget-view+json": {
       "model_id": "",
       "version_major": 2,
       "version_minor": 0
      },
      "text/plain": [
       "Minibatch:   0%|          | 0/20 [00:00<?, ?it/s]"
      ]
     },
     "metadata": {},
     "output_type": "display_data"
    },
    {
     "data": {
      "application/vnd.jupyter.widget-view+json": {
       "model_id": "",
       "version_major": 2,
       "version_minor": 0
      },
      "text/plain": [
       "Minibatch:   0%|          | 0/20 [00:00<?, ?it/s]"
      ]
     },
     "metadata": {},
     "output_type": "display_data"
    },
    {
     "data": {
      "application/vnd.jupyter.widget-view+json": {
       "model_id": "",
       "version_major": 2,
       "version_minor": 0
      },
      "text/plain": [
       "Minibatch:   0%|          | 0/20 [00:00<?, ?it/s]"
      ]
     },
     "metadata": {},
     "output_type": "display_data"
    },
    {
     "data": {
      "application/vnd.jupyter.widget-view+json": {
       "model_id": "",
       "version_major": 2,
       "version_minor": 0
      },
      "text/plain": [
       "Minibatch:   0%|          | 0/20 [00:00<?, ?it/s]"
      ]
     },
     "metadata": {},
     "output_type": "display_data"
    },
    {
     "data": {
      "application/vnd.jupyter.widget-view+json": {
       "model_id": "",
       "version_major": 2,
       "version_minor": 0
      },
      "text/plain": [
       "Minibatch:   0%|          | 0/20 [00:00<?, ?it/s]"
      ]
     },
     "metadata": {},
     "output_type": "display_data"
    }
   ],
   "source": [
    "# this is for running the notebook in our testing framework\n",
    "import os\n",
    "import tqdm.notebook\n",
    "from torch.optim.lr_scheduler import MultiStepLR\n",
    "num_epochs = 40 # Number of complete passes through the data\n",
    "\n",
    "\n",
    "model.train()\n",
    "likelihood.train()\n",
    "\n",
    "variational_ngd_optimizer = gpytorch.optim.NGD(model.variational_parameters(), lr=0.1, num_data=y.size(0))\n",
    "\n",
    "hyperparameter_optimizer = torch.optim.Adam([\n",
    "    {'params': model.hyperparameters()},\n",
    "    {'params': likelihood.parameters()},\n",
    "], lr=0.1)\n",
    "scheduler_variational = MultiStepLR(variational_ngd_optimizer, milestones=[0.5 * num_epochs, \n",
    "                                                                           0.6 * num_epochs,\n",
    "                                                                           0.7 * num_epochs,\n",
    "                                                                           0.8 * num_epochs,\n",
    "                                                                           0.9 * num_epochs], gamma=0.1)\n",
    "scheduler_hypers = MultiStepLR(hyperparameter_optimizer, milestones=[0.5 * num_epochs, \n",
    "                                                                           0.6 * num_epochs,\n",
    "                                                                           0.7 * num_epochs,\n",
    "                                                                           0.8 * num_epochs,\n",
    "                                                                           0.9 * num_epochs], gamma=0.1)\n",
    "\n",
    "\n",
    "# Our loss object. We're using the VariationalELBO, which essentially just computes the ELBO\n",
    "mll = gpytorch.mlls.VariationalELBO(likelihood, model, num_data=y.size(0))\n",
    "\n",
    "# We use more CG iterations here because the preconditioner introduced in the NeurIPS paper seems to be less\n",
    "# effective for VI.\n",
    "with gpytorch.settings.cholesky_max_tries(12):\n",
    "    epochs_iter = tqdm.notebook.tqdm(range(num_epochs), desc=\"Epoch\")\n",
    "    for i in epochs_iter:\n",
    "        # Within each iteration, we will go over each minibatch of data\n",
    "        minibatch_iter = tqdm.notebook.tqdm(train_loader, desc=\"Minibatch\", leave=False)\n",
    "        for x_batch, y_batch in minibatch_iter:\n",
    "            variational_ngd_optimizer.zero_grad()\n",
    "            hyperparameter_optimizer.zero_grad()\n",
    "            output = model(x_batch)\n",
    "            loss = -mll(output, y_batch)\n",
    "            minibatch_iter.set_postfix(loss=loss.item())\n",
    "            loss.backward()\n",
    "            variational_ngd_optimizer.step()\n",
    "            hyperparameter_optimizer.step()\n",
    "        scheduler_variational.step()\n",
    "        scheduler_hypers.step()\n",
    "        "
   ]
  },
  {
   "cell_type": "code",
   "execution_count": 89,
   "id": "d945ffdc",
   "metadata": {},
   "outputs": [
    {
     "data": {
      "text/plain": [
       "tensor(1.0000)"
      ]
     },
     "execution_count": 89,
     "metadata": {},
     "output_type": "execute_result"
    }
   ],
   "source": [
    "permutation = torch.cat([torch.tensor([1]),torch.tensor([0]),torch.linspace(22,41,20),torch.linspace(2,21,20)]).long()\n",
    "indices = torch.randperm(X.size(0))[:200]\n",
    "X_test = X[indices,:]\n",
    "X_test_flipped = torch.index_select(X_test, -1, permutation)\n",
    "y_test = y[indices]\n",
    "y_test.max()"
   ]
  },
  {
   "cell_type": "code",
   "execution_count": 90,
   "id": "d685703e",
   "metadata": {
    "scrolled": true
   },
   "outputs": [],
   "source": [
    "# Set into eval mode\n",
    "model.eval()\n",
    "likelihood.eval()\n",
    "# Make predictions\n",
    "\n",
    "with torch.no_grad(), gpytorch.settings.fast_pred_var():\n",
    "    predictions = likelihood(model(X_test))\n",
    "    mean = predictions.mean\n",
    "    lower, upper = predictions.confidence_region()\n",
    "\n"
   ]
  },
  {
   "cell_type": "code",
   "execution_count": 91,
   "id": "8b1a8d54",
   "metadata": {},
   "outputs": [
    {
     "data": {
      "text/plain": [
       "[<matplotlib.lines.Line2D at 0x124494f70>]"
      ]
     },
     "execution_count": 91,
     "metadata": {},
     "output_type": "execute_result"
    },
    {
     "data": {
      "image/png": "[encoded data removed]",
      "text/plain": [
       "<Figure size 640x480 with 1 Axes>"
      ]
     },
     "metadata": {},
     "output_type": "display_data"
    }
   ],
   "source": [
    "plt.plot(y_test)"
   ]
  },
  {
   "cell_type": "code",
   "execution_count": 92,
   "id": "7ccd7c8d",
   "metadata": {},
   "outputs": [
    {
     "data": {
      "text/plain": [
       "[<matplotlib.lines.Line2D at 0x126795000>]"
      ]
     },
     "execution_count": 92,
     "metadata": {},
     "output_type": "execute_result"
    },
    {
     "data": {
      "image/png": "[encoded data removed]",
      "text/plain": [
       "<Figure size 640x480 with 1 Axes>"
      ]
     },
     "metadata": {},
     "output_type": "display_data"
    }
   ],
   "source": [
    "plt.plot(mean)"
   ]
  },
  {
   "cell_type": "code",
   "execution_count": 93,
   "id": "ee8895a0",
   "metadata": {},
   "outputs": [
    {
     "data": {
      "text/plain": [
       "tensor([0.0073], grad_fn=<AddBackward0>)"
      ]
     },
     "execution_count": 93,
     "metadata": {},
     "output_type": "execute_result"
    }
   ],
   "source": [
    "likelihood.noise"
   ]
  },
  {
   "cell_type": "code",
   "execution_count": 94,
   "id": "a91890d9",
   "metadata": {},
   "outputs": [
    {
     "data": {
      "text/plain": [
       "tensor(-0.1307)"
      ]
     },
     "execution_count": 94,
     "metadata": {},
     "output_type": "execute_result"
    }
   ],
   "source": [
    "mean.min()\n"
   ]
  },
  {
   "cell_type": "code",
   "execution_count": 95,
   "id": "09afdf28",
   "metadata": {},
   "outputs": [
    {
     "data": {
      "text/plain": [
       "<matplotlib.lines.AxLine at 0x125763fd0>"
      ]
     },
     "execution_count": 95,
     "metadata": {},
     "output_type": "execute_result"
    },
    {
     "data": {
      "image/png": "[encoded data removed]",
      "text/plain": [
       "<Figure size 640x480 with 1 Axes>"
      ]
     },
     "metadata": {},
     "output_type": "display_data"
    }
   ],
   "source": [
    "plt.scatter(mean,y_test)\n",
    "plt.axline((0,0), slope=1)"
   ]
  },
  {
   "cell_type": "code",
   "execution_count": 96,
   "id": "0bafb90f",
   "metadata": {},
   "outputs": [
    {
     "data": {
      "text/plain": [
       "<matplotlib.lines.AxLine at 0x126b76b00>"
      ]
     },
     "execution_count": 96,
     "metadata": {},
     "output_type": "execute_result"
    },
    {
     "data": {
      "image/png": "[encoded data removed]",
      "text/plain": [
       "<Figure size 640x480 with 1 Axes>"
      ]
     },
     "metadata": {},
     "output_type": "display_data"
    }
   ],
   "source": [
    "plt.scatter(y_test,torch.tensor(data[\"p0Mean\"].values).float()[indices])\n",
    "plt.axline((0,0), slope=1)"
   ]
  },
  {
   "cell_type": "code",
   "execution_count": 97,
   "id": "96c14dc7",
   "metadata": {},
   "outputs": [
    {
     "data": {
      "text/plain": [
       "array([[1.        , 0.98407053],\n",
       "       [0.98407053, 1.        ]])"
      ]
     },
     "execution_count": 97,
     "metadata": {},
     "output_type": "execute_result"
    }
   ],
   "source": [
    "np.corrcoef(y_test,torch.tensor(data[\"p0Mean\"].values).float()[indices])"
   ]
  },
  {
   "cell_type": "code",
   "execution_count": 98,
   "id": "cbf6848d",
   "metadata": {},
   "outputs": [
    {
     "data": {
      "text/plain": [
       "array([[1.        , 0.97482169],\n",
       "       [0.97482169, 1.        ]])"
      ]
     },
     "execution_count": 98,
     "metadata": {},
     "output_type": "execute_result"
    }
   ],
   "source": [
    "np.corrcoef(mean,y_test)"
   ]
  },
  {
   "cell_type": "code",
   "execution_count": null,
   "id": "20548e7f",
   "metadata": {},
   "outputs": [],
   "source": []
  },
  {
   "cell_type": "code",
   "execution_count": null,
   "id": "01ec912d",
   "metadata": {},
   "outputs": [],
   "source": []
  }
 ],
 "metadata": {
  "kernelspec": {
   "display_name": "Python 3 (ipykernel)",
   "language": "python",
   "name": "python3"
  },
  "language_info": {
   "codemirror_mode": {
    "name": "ipython",
    "version": 3
   },
   "file_extension": ".py",
   "mimetype": "text/x-python",
   "name": "python",
   "nbconvert_exporter": "python",
   "pygments_lexer": "ipython3",
   "version": "3.10.13"
  }
 },
 "nbformat": 4,
 "nbformat_minor": 5
}
