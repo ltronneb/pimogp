{
 "cells": [
  {
   "cell_type": "markdown",
   "id": "d6376276",
   "metadata": {},
   "source": [
    "# Initial implementation of PIICM"
   ]
  },
  {
   "cell_type": "markdown",
   "id": "0363b635",
   "metadata": {},
   "source": [
    "Will make a stab at implementing the original version of PIICM in the newest version of gpytorch. There are a few ingredients that are needed\n",
    "\n",
    "1. The kernel  -- we need to construct a permutation invariant covariance function.\n",
    "    1. Needs to return objects with custom .matmul routines, custom log_det calculations etc. This was done in the original implementation by extending the `LazyTensor` class, which is no longer available. Will need to work with the `LinearOperators` instead, but hopefully should be rather straight-forward.\n",
    "2. The likelihood -- we need a multi-task normal likelihood that allows us to add a observation specific noise term\n",
    "3. Model -- putting these two together and maximizing the marginal likelihood using CG for the inverse solve and a custom log-determinant calculation involving Weyl's inequality.\n",
    "\n",
    "It needs to all play nice with the current classes, extending were needed but otherwise not interferring with gpytorch."
   ]
  },
  {
   "cell_type": "markdown",
   "id": "214fa3a7",
   "metadata": {},
   "source": [
    "## Framework of LinearOperators"
   ]
  },
  {
   "cell_type": "markdown",
   "id": "5735fe97",
   "metadata": {},
   "source": [
    "Have constructed three new classes, extending the `LinearOperator` class.\n",
    " 1. `GPattKroneckerProductLinearOperator` simple extension of `KroneckerProductLinearOperator`\n",
    " 2. `GPattKroneckerSumLinearOperator`, the result of `GPattKroneckerProductLinearOperator`+`GPattKroneckerProductLinearOperator`, essentially the prior of the PIICM\n",
    " 3. `GPaddKroneckerSumAddedDiagLinearOperator`, the result of `GPattKroneckerSumLinearOperator`+`DiagLinearOperator` -- for when the likelihood is added\n",
    " \n",
    "Can verify that these do what they are supposed to below "
   ]
  },
  {
   "cell_type": "code",
   "execution_count": 7,
   "id": "9f4940df",
   "metadata": {},
   "outputs": [
    {
     "name": "stdout",
     "output_type": "stream",
     "text": [
      "The autoreload extension is already loaded. To reload it, use:\n",
      "  %reload_ext autoreload\n"
     ]
    }
   ],
   "source": [
    "%load_ext autoreload\n",
    "%autoreload 2"
   ]
  },
  {
   "cell_type": "code",
   "execution_count": 8,
   "id": "60535071",
   "metadata": {},
   "outputs": [
    {
     "name": "stdout",
     "output_type": "stream",
     "text": [
      "<synpred.linear_operator.operators.gpatt_kronecker_product_linear_operator.GPattKroneckerProductLinearOperator object at 0x7fc85a12f790>\n",
      "<synpred.linear_operator.operators.gpatt_kronecker_sum_linear_operator.GPattKroneckerSumLinearOperator object at 0x7fc85a12e500>\n",
      "<synpred.linear_operator.operators.gpatt_kronecker_sum_added_diag_linear_operator.GPattKroneckerSumAddedDiagLinearOperator object at 0x7fc85a12f4c0>\n"
     ]
    }
   ],
   "source": [
    "import torch\n",
    "from linear_operator.operators import DenseLinearOperator, KroneckerProductLinearOperator, DiagLinearOperator\n",
    "from synpred.linear_operator.operators.gpatt_kronecker_product_linear_operator import GPattKroneckerProductLinearOperator\n",
    "\n",
    "# Generate two tensors\n",
    "a = torch.tensor([[4, 0, 2], [0, 3, -1], [2, -1, 3]], dtype=torch.float)\n",
    "b = torch.tensor([[2, 1], [1, 2]], dtype=torch.float)\n",
    "\n",
    "# The Kronecker product\n",
    "c = KroneckerProductLinearOperator(DenseLinearOperator(a),DenseLinearOperator(b))\n",
    "\n",
    "# Wrap it as a GPattKroneckerProduct\n",
    "d = GPattKroneckerProductLinearOperator(c)\n",
    "print(d)\n",
    "\n",
    "# Summing two GPattKroneckerProducts\n",
    "e = d + d\n",
    "print(e)\n",
    "\n",
    "# Adding a diagonal\n",
    "diag = DiagLinearOperator(e.diagonal())\n",
    "f = e + diag\n",
    "print(f)\n"
   ]
  },
  {
   "cell_type": "code",
   "execution_count": 9,
   "id": "5fafa3d7",
   "metadata": {},
   "outputs": [
    {
     "name": "stdout",
     "output_type": "stream",
     "text": [
      "computing log-det with Weyl's inequality!\n"
     ]
    },
    {
     "ename": "AttributeError",
     "evalue": "'GPattKroneckerSumAddedDiagLinearOperator' object has no attribute '_lazy_tensor'",
     "output_type": "error",
     "traceback": [
      "\u001b[0;31m---------------------------------------------------------------------------\u001b[0m",
      "\u001b[0;31mAttributeError\u001b[0m                            Traceback (most recent call last)",
      "Cell \u001b[0;32mIn[9], line 1\u001b[0m\n\u001b[0;32m----> 1\u001b[0m \u001b[43mf\u001b[49m\u001b[38;5;241;43m.\u001b[39;49m\u001b[43m_logdet\u001b[49m\u001b[43m(\u001b[49m\u001b[43m)\u001b[49m\n",
      "File \u001b[0;32m~/opt/anaconda3/envs/synpred/lib/python3.10/site-packages/synpred-0.0.1-py3.10.egg/synpred/linear_operator/operators/gpatt_kronecker_sum_added_diag_linear_operator.py:67\u001b[0m, in \u001b[0;36mGPattKroneckerSumAddedDiagLinearOperator._logdet\u001b[0;34m(self)\u001b[0m\n\u001b[1;32m     64\u001b[0m \u001b[38;5;28mprint\u001b[39m(\u001b[38;5;124m\"\u001b[39m\u001b[38;5;124mcomputing log-det with Weyl\u001b[39m\u001b[38;5;124m'\u001b[39m\u001b[38;5;124ms inequality!\u001b[39m\u001b[38;5;124m\"\u001b[39m)\n\u001b[1;32m     65\u001b[0m \u001b[38;5;66;03m# Compute eigenvectors for gradients\u001b[39;00m\n\u001b[1;32m     66\u001b[0m \u001b[38;5;66;03m# It suffices to eigen-decomp the second term in the KroneckerSum\u001b[39;00m\n\u001b[0;32m---> 67\u001b[0m evals_unsorted, _ \u001b[38;5;241m=\u001b[39m \u001b[38;5;28;43mself\u001b[39;49m\u001b[38;5;241;43m.\u001b[39;49m\u001b[43m_lazy_tensor\u001b[49m\u001b[38;5;241m.\u001b[39mlazy_tensors[\u001b[38;5;241m1\u001b[39m]\u001b[38;5;241m.\u001b[39msymeig(eigenvectors\u001b[38;5;241m=\u001b[39m\u001b[38;5;28;01mFalse\u001b[39;00m)\n\u001b[1;32m     68\u001b[0m evals \u001b[38;5;241m=\u001b[39m evals_unsorted\u001b[38;5;241m.\u001b[39msort(descending\u001b[38;5;241m=\u001b[39m\u001b[38;5;28;01mTrue\u001b[39;00m)[\u001b[38;5;241m0\u001b[39m]\n\u001b[1;32m     69\u001b[0m \u001b[38;5;66;03m# Clamp to zero\u001b[39;00m\n",
      "\u001b[0;31mAttributeError\u001b[0m: 'GPattKroneckerSumAddedDiagLinearOperator' object has no attribute '_lazy_tensor'"
     ]
    }
   ],
   "source": [
    "f._logdet()"
   ]
  },
  {
   "cell_type": "code",
   "execution_count": null,
   "id": "5aee449f",
   "metadata": {},
   "outputs": [],
   "source": [
    "e.evaluate_kernel().numpy()"
   ]
  },
  {
   "cell_type": "code",
   "execution_count": null,
   "id": "3e9686c8",
   "metadata": {},
   "outputs": [],
   "source": []
  },
  {
   "cell_type": "code",
   "execution_count": null,
   "id": "007210ce",
   "metadata": {},
   "outputs": [],
   "source": []
  },
  {
   "cell_type": "code",
   "execution_count": null,
   "id": "06a0f10f",
   "metadata": {},
   "outputs": [],
   "source": []
  },
  {
   "cell_type": "code",
   "execution_count": null,
   "id": "c7ffae3e",
   "metadata": {},
   "outputs": [],
   "source": [
    "from synpred.linear_operator.operators.gpatt_kronecker_product_linear_operator import *"
   ]
  },
  {
   "cell_type": "code",
   "execution_count": null,
   "id": "57320259",
   "metadata": {},
   "outputs": [],
   "source": [
    "GPattKroneckerProductLinearOperator"
   ]
  },
  {
   "cell_type": "code",
   "execution_count": null,
   "id": "aa971011",
   "metadata": {},
   "outputs": [],
   "source": []
  }
 ],
 "metadata": {
  "kernelspec": {
   "display_name": "Python 3 (ipykernel)",
   "language": "python",
   "name": "python3"
  },
  "language_info": {
   "codemirror_mode": {
    "name": "ipython",
    "version": 3
   },
   "file_extension": ".py",
   "mimetype": "text/x-python",
   "name": "python",
   "nbconvert_exporter": "python",
   "pygments_lexer": "ipython3",
   "version": "3.10.13"
  }
 },
 "nbformat": 4,
 "nbformat_minor": 5
}
