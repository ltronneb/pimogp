{
 "cells": [
  {
   "cell_type": "markdown",
   "id": "d6376276",
   "metadata": {},
   "source": [
    "# Initial implementation of PIICM"
   ]
  },
  {
   "cell_type": "markdown",
   "id": "0363b635",
   "metadata": {},
   "source": [
    "Will make a stab at implementing the original version of PIICM in the newest version of gpytorch. There are a few ingredients that are needed\n",
    "\n",
    "1. The kernel  -- we need to construct a permutation invariant covariance function.\n",
    "    1. Needs to return objects with custom .matmul routines, custom log_det calculations etc. This was done in the original implementation by extending the `LazyTensor` class, which is no longer available. Will need to work with the `LinearOperators` instead, but hopefully should be rather straight-forward.\n",
    "2. The likelihood -- we need a multi-task normal likelihood that allows us to add a observation specific noise term\n",
    "3. Model -- putting these two together and maximizing the marginal likelihood using CG for the inverse solve and a custom log-determinant calculation involving Weyl's inequality.\n",
    "\n",
    "It needs to all play nice with the current classes, extending were needed but otherwise not interferring with gpytorch."
   ]
  },
  {
   "cell_type": "markdown",
   "id": "214fa3a7",
   "metadata": {},
   "source": [
    "## Framework of LinearOperators"
   ]
  },
  {
   "cell_type": "markdown",
   "id": "5735fe97",
   "metadata": {},
   "source": [
    "Have constructed three new classes, extending the `LinearOperator` class.\n",
    " 1. `GPattKroneckerProductLinearOperator` simple extension of `KroneckerProductLinearOperator`\n",
    " 2. `GPattKroneckerSumLinearOperator`, the result of `GPattKroneckerProductLinearOperator`+`GPattKroneckerProductLinearOperator`, essentially the prior of the PIICM\n",
    " 3. `GPattKroneckerSumAddedDiagLinearOperator`, the result of `GPattKroneckerSumLinearOperator`+`DiagLinearOperator` -- for when the likelihood is added\n",
    " \n",
    "Can verify that these do what they are supposed to below "
   ]
  },
  {
   "cell_type": "code",
   "execution_count": null,
   "id": "9f4940df",
   "metadata": {},
   "outputs": [],
   "source": [
    "%load_ext autoreload\n",
    "%autoreload 2"
   ]
  },
  {
   "cell_type": "code",
   "execution_count": null,
   "id": "60535071",
   "metadata": {
    "scrolled": true
   },
   "outputs": [],
   "source": [
    "import torch\n",
    "from linear_operator.operators import DenseLinearOperator, KroneckerProductLinearOperator, DiagLinearOperator\n",
    "from synpred.linear_operator.operators.gpatt_kronecker_product_linear_operator import GPattKroneckerProductLinearOperator\n",
    "\n",
    "# Generate two tensors\n",
    "a = torch.tensor([[4, 0, 2], [0, 3, -1], [2, -1, 3]], dtype=torch.float)\n",
    "b = torch.tensor([[2, 1], [1, 2]], dtype=torch.float)\n",
    "\n",
    "# The Kronecker product\n",
    "c = KroneckerProductLinearOperator(DenseLinearOperator(a),DenseLinearOperator(b))\n",
    "\n",
    "# Wrap it as a GPattKroneckerProduct\n",
    "d = GPattKroneckerProductLinearOperator(c)\n",
    "print(d)\n",
    "\n",
    "# Summing two GPattKroneckerProducts\n",
    "e = d + d\n",
    "print(e)\n",
    "\n",
    "# Adding a diagonal\n",
    "diag = DiagLinearOperator(e.diagonal())\n",
    "f = e + diag\n",
    "print(f)\n"
   ]
  },
  {
   "cell_type": "markdown",
   "id": "c219b474",
   "metadata": {},
   "source": [
    "## The likelihood\n",
    "\n",
    "I need to make a version of the `FixedNoiseMultitaskGaussianLikelihood` which should be relatively straight forward"
   ]
  },
  {
   "cell_type": "code",
   "execution_count": null,
   "id": "7bf6c31d",
   "metadata": {},
   "outputs": [],
   "source": [
    "from synpred.likelihoods.fixed_noise_multitask_gaussian_likelihood import FixedNoiseMultitaskGaussianLikelihood\n",
    "noise = 0.1 + torch.rand(4)\n",
    "lik = FixedNoiseMultitaskGaussianLikelihood(num_tasks=4,noise=noise)\n",
    "lik.noise_covar"
   ]
  },
  {
   "cell_type": "markdown",
   "id": "9fe7958f",
   "metadata": {},
   "source": [
    "## The kernel\n",
    "Should also have been set up correctly now, we can check some things"
   ]
  },
  {
   "cell_type": "markdown",
   "id": "f536c0cc",
   "metadata": {},
   "source": [
    "## Simulated data"
   ]
  },
  {
   "cell_type": "code",
   "execution_count": 2,
   "id": "da365150",
   "metadata": {},
   "outputs": [
    {
     "name": "stdout",
     "output_type": "stream",
     "text": [
      "Intel MKL WARNING: Support of Intel(R) Streaming SIMD Extensions 4.2 (Intel(R) SSE4.2) enabled only processors has been deprecated. Intel oneAPI Math Kernel Library 2025.0 will require Intel(R) Advanced Vector Extensions (Intel(R) AVX) instructions.\n",
      "Intel MKL WARNING: Support of Intel(R) Streaming SIMD Extensions 4.2 (Intel(R) SSE4.2) enabled only processors has been deprecated. Intel oneAPI Math Kernel Library 2025.0 will require Intel(R) Advanced Vector Extensions (Intel(R) AVX) instructions.\n",
      "1.11\n",
      "2.1.1\n"
     ]
    }
   ],
   "source": [
    "# Some initial imports needed to set up everything\n",
    "import math\n",
    "import torch\n",
    "import gpytorch\n",
    "import synpred\n",
    "import numpy as np\n",
    "import pandas as pd\n",
    "from mpl_toolkits.mplot3d import Axes3D\n",
    "from matplotlib import cm\n",
    "from matplotlib import pyplot as plt\n",
    "print(gpytorch.__version__)\n",
    "print(torch.__version__)\n",
    "# Is this wrong?\n",
    "%load_ext autoreload\n",
    "%autoreload 2"
   ]
  },
  {
   "cell_type": "code",
   "execution_count": 3,
   "id": "cb3f1ca5",
   "metadata": {},
   "outputs": [],
   "source": [
    "torch.random.manual_seed(2762)\n",
    "N = 121\n",
    "N_D = 7\n",
    "N_C = 5\n",
    "N_T = N_D*N_C\n",
    "N_total = N*N_D*N_C\n",
    "\n",
    "# Output covariance\n",
    "X = torch.tensor(np.mgrid[0:1:11j, 0:1:11j].reshape(2, -1).T).float()\n",
    "K_X = gpytorch.kernels.ScaleKernel(gpytorch.kernels.RBFKernel())\n",
    "K_X.base_kernel.lengthscale = 0.75\n",
    "K_X.outputscale = 0.5\n",
    "K_X = K_X(X).evaluate() + 1e-4*torch.eye(N)\n",
    "# Task covariance\n",
    "# Drug\n",
    "d_rank = 3\n",
    "B = torch.randn(N_D,d_rank)\n",
    "v = torch.randn(N_D)**2\n",
    "K_D = B.matmul(B.t()) + torch.diag(v)\n",
    "# Cell\n",
    "c_rank = 2\n",
    "B = torch.randn(N_C,c_rank)\n",
    "v = torch.randn(N_C)**2\n",
    "K_C = B.matmul(B.t()) + torch.diag(v)\n",
    "# Task\n",
    "K_T = torch.kron(K_C,K_D)\n",
    "# Total\n",
    "K = torch.kron(K_T,K_X)\n",
    "# Add some noise\n",
    "nugget = 1e-3\n",
    "K = K + torch.eye(N_total)*nugget"
   ]
  },
  {
   "cell_type": "code",
   "execution_count": 4,
   "id": "11c13b7c",
   "metadata": {},
   "outputs": [
    {
     "name": "stdout",
     "output_type": "stream",
     "text": [
      "Intel MKL WARNING: Support of Intel(R) Streaming SIMD Extensions 4.2 (Intel(R) SSE4.2) enabled only processors has been deprecated. Intel oneAPI Math Kernel Library 2025.0 will require Intel(R) Advanced Vector Extensions (Intel(R) AVX) instructions.\n",
      "Intel MKL WARNING: Support of Intel(R) Streaming SIMD Extensions 4.2 (Intel(R) SSE4.2) enabled only processors has been deprecated. Intel oneAPI Math Kernel Library 2025.0 will require Intel(R) Advanced Vector Extensions (Intel(R) AVX) instructions.\n",
      "Intel MKL WARNING: Support of Intel(R) Streaming SIMD Extensions 4.2 (Intel(R) SSE4.2) enabled only processors has been deprecated. Intel oneAPI Math Kernel Library 2025.0 will require Intel(R) Advanced Vector Extensions (Intel(R) AVX) instructions.\n",
      "Intel MKL WARNING: Support of Intel(R) Streaming SIMD Extensions 4.2 (Intel(R) SSE4.2) enabled only processors has been deprecated. Intel oneAPI Math Kernel Library 2025.0 will require Intel(R) Advanced Vector Extensions (Intel(R) AVX) instructions.\n",
      "Intel MKL WARNING: Support of Intel(R) Streaming SIMD Extensions 4.2 (Intel(R) SSE4.2) enabled only processors has been deprecated. Intel oneAPI Math Kernel Library 2025.0 will require Intel(R) Advanced Vector Extensions (Intel(R) AVX) instructions.\n",
      "Intel MKL WARNING: Support of Intel(R) Streaming SIMD Extensions 4.2 (Intel(R) SSE4.2) enabled only processors has been deprecated. Intel oneAPI Math Kernel Library 2025.0 will require Intel(R) Advanced Vector Extensions (Intel(R) AVX) instructions.\n",
      "Intel MKL WARNING: Support of Intel(R) Streaming SIMD Extensions 4.2 (Intel(R) SSE4.2) enabled only processors has been deprecated. Intel oneAPI Math Kernel Library 2025.0 will require Intel(R) Advanced Vector Extensions (Intel(R) AVX) instructions.\n",
      "Intel MKL WARNING: Support of Intel(R) Streaming SIMD Extensions 4.2 (Intel(R) SSE4.2) enabled only processors has been deprecated. Intel oneAPI Math Kernel Library 2025.0 will require Intel(R) Advanced Vector Extensions (Intel(R) AVX) instructions.\n",
      "Intel MKL WARNING: Support of Intel(R) Streaming SIMD Extensions 4.2 (Intel(R) SSE4.2) enabled only processors has been deprecated. Intel oneAPI Math Kernel Library 2025.0 will require Intel(R) Advanced Vector Extensions (Intel(R) AVX) instructions.\n",
      "Intel MKL WARNING: Support of Intel(R) Streaming SIMD Extensions 4.2 (Intel(R) SSE4.2) enabled only processors has been deprecated. Intel oneAPI Math Kernel Library 2025.0 will require Intel(R) Advanced Vector Extensions (Intel(R) AVX) instructions.\n",
      "Intel MKL WARNING: Support of Intel(R) Streaming SIMD Extensions 4.2 (Intel(R) SSE4.2) enabled only processors has been deprecated. Intel oneAPI Math Kernel Library 2025.0 will require Intel(R) Advanced Vector Extensions (Intel(R) AVX) instructions.\n",
      "Intel MKL WARNING: Support of Intel(R) Streaming SIMD Extensions 4.2 (Intel(R) SSE4.2) enabled only processors has been deprecated. Intel oneAPI Math Kernel Library 2025.0 will require Intel(R) Advanced Vector Extensions (Intel(R) AVX) instructions.\n",
      "Intel MKL WARNING: Support of Intel(R) Streaming SIMD Extensions 4.2 (Intel(R) SSE4.2) enabled only processors has been deprecated. Intel oneAPI Math Kernel Library 2025.0 will require Intel(R) Advanced Vector Extensions (Intel(R) AVX) instructions.\n",
      "Intel MKL WARNING: Support of Intel(R) Streaming SIMD Extensions 4.2 (Intel(R) SSE4.2) enabled only processors has been deprecated. Intel oneAPI Math Kernel Library 2025.0 will require Intel(R) Advanced Vector Extensions (Intel(R) AVX) instructions.\n",
      "Intel MKL WARNING: Support of Intel(R) Streaming SIMD Extensions 4.2 (Intel(R) SSE4.2) enabled only processors has been deprecated. Intel oneAPI Math Kernel Library 2025.0 will require Intel(R) Advanced Vector Extensions (Intel(R) AVX) instructions.\n",
      "Intel MKL WARNING: Support of Intel(R) Streaming SIMD Extensions 4.2 (Intel(R) SSE4.2) enabled only processors has been deprecated. Intel oneAPI Math Kernel Library 2025.0 will require Intel(R) Advanced Vector Extensions (Intel(R) AVX) instructions.\n",
      "Intel MKL WARNING: Support of Intel(R) Streaming SIMD Extensions 4.2 (Intel(R) SSE4.2) enabled only processors has been deprecated. Intel oneAPI Math Kernel Library 2025.0 will require Intel(R) Advanced Vector Extensions (Intel(R) AVX) instructions.\n",
      "Intel MKL WARNING: Support of Intel(R) Streaming SIMD Extensions 4.2 (Intel(R) SSE4.2) enabled only processors has been deprecated. Intel oneAPI Math Kernel Library 2025.0 will require Intel(R) Advanced Vector Extensions (Intel(R) AVX) instructions.\n",
      "Intel MKL WARNING: Support of Intel(R) Streaming SIMD Extensions 4.2 (Intel(R) SSE4.2) enabled only processors has been deprecated. Intel oneAPI Math Kernel Library 2025.0 will require Intel(R) Advanced Vector Extensions (Intel(R) AVX) instructions.\n",
      "Intel MKL WARNING: Support of Intel(R) Streaming SIMD Extensions 4.2 (Intel(R) SSE4.2) enabled only processors has been deprecated. Intel oneAPI Math Kernel Library 2025.0 will require Intel(R) Advanced Vector Extensions (Intel(R) AVX) instructions.\n",
      "Intel MKL WARNING: Support of Intel(R) Streaming SIMD Extensions 4.2 (Intel(R) SSE4.2) enabled only processors has been deprecated. Intel oneAPI Math Kernel Library 2025.0 will require Intel(R) Advanced Vector Extensions (Intel(R) AVX) instructions.\n",
      "Intel MKL WARNING: Support of Intel(R) Streaming SIMD Extensions 4.2 (Intel(R) SSE4.2) enabled only processors has been deprecated. Intel oneAPI Math Kernel Library 2025.0 will require Intel(R) Advanced Vector Extensions (Intel(R) AVX) instructions.Intel MKL WARNING: Support of Intel(R) Streaming SIMD Extensions 4.2 (Intel(R) SSE4.2) enabled only processors has been deprecated. Intel oneAPI Math Kernel Library 2025.0 will require Intel(R) Advanced Vector Extensions (Intel(R) AVX) instructions.\n",
      "Intel MKL WARNING: Support of Intel(R) Streaming SIMD Extensions 4.2 (Intel(R) SSE4.2) enabled only processors has been deprecated. Intel oneAPI Math Kernel Library 2025.0 will require Intel(R) Advanced Vector Extensions (Intel(R) AVX) instructions.\n",
      "\n",
      "Intel MKL WARNING: Support of Intel(R) Streaming SIMD Extensions 4.2 (Intel(R) SSE4.2) enabled only processors has been deprecated. Intel oneAPI Math Kernel Library 2025.0 will require Intel(R) Advanced Vector Extensions (Intel(R) AVX) instructions.\n",
      "Intel MKL WARNING: Support of Intel(R) Streaming SIMD Extensions 4.2 (Intel(R) SSE4.2) enabled only processors has been deprecated. Intel oneAPI Math Kernel Library 2025.0 will require Intel(R) Advanced Vector Extensions (Intel(R) AVX) instructions.Intel MKL WARNING: Support of Intel(R) Streaming SIMD Extensions 4.2 (Intel(R) SSE4.2) enabled only processors has been deprecated. Intel oneAPI Math Kernel Library 2025.0 will require Intel(R) Advanced Vector Extensions (Intel(R) AVX) instructions.\n",
      "\n",
      "Intel MKL WARNING: Support of Intel(R) Streaming SIMD Extensions 4.2 (Intel(R) SSE4.2) enabled only processors has been deprecated. Intel oneAPI Math Kernel Library 2025.0 will require Intel(R) Advanced Vector Extensions (Intel(R) AVX) instructions.\n",
      "Intel MKL WARNING: Support of Intel(R) Streaming SIMD Extensions 4.2 (Intel(R) SSE4.2) enabled only processors has been deprecated. Intel oneAPI Math Kernel Library 2025.0 will require Intel(R) Advanced Vector Extensions (Intel(R) AVX) instructions.Intel MKL WARNING: Support of Intel(R) Streaming SIMD Extensions 4.2 (Intel(R) SSE4.2) enabled only processors has been deprecated. Intel oneAPI Math Kernel Library 2025.0 will require Intel(R) Advanced Vector Extensions (Intel(R) AVX) instructions.\n",
      "Intel MKL WARNING: Support of Intel(R) Streaming SIMD Extensions 4.2 (Intel(R) SSE4.2) enabled only processors has been deprecated. Intel oneAPI Math Kernel Library 2025.0 will require Intel(R) Advanced Vector Extensions (Intel(R) AVX) instructions.Intel MKL WARNING: Support of Intel(R) Streaming SIMD Extensions 4.2 (Intel(R) SSE4.2) enabled only processors has been deprecated. Intel oneAPI Math Kernel Library 2025.0 will require Intel(R) Advanced Vector Extensions (Intel(R) AVX) instructions.\n",
      "\n",
      "\n",
      "Intel MKL WARNING: Support of Intel(R) Streaming SIMD Extensions 4.2 (Intel(R) SSE4.2) enabled only processors has been deprecated. Intel oneAPI Math Kernel Library 2025.0 will require Intel(R) Advanced Vector Extensions (Intel(R) AVX) instructions.\n",
      "Intel MKL WARNING: Support of Intel(R) Streaming SIMD Extensions 4.2 (Intel(R) SSE4.2) enabled only processors has been deprecated. Intel oneAPI Math Kernel Library 2025.0 will require Intel(R) Advanced Vector Extensions (Intel(R) AVX) instructions.\n",
      "Intel MKL WARNING: Support of Intel(R) Streaming SIMD Extensions 4.2 (Intel(R) SSE4.2) enabled only processors has been deprecated. Intel oneAPI Math Kernel Library 2025.0 will require Intel(R) Advanced Vector Extensions (Intel(R) AVX) instructions.Intel MKL WARNING: Support of Intel(R) Streaming SIMD Extensions 4.2 (Intel(R) SSE4.2) enabled only processors has been deprecated. Intel oneAPI Math Kernel Library 2025.0 will require Intel(R) Advanced Vector Extensions (Intel(R) AVX) instructions.\n",
      "Intel MKL WARNING: Support of Intel(R) Streaming SIMD Extensions 4.2 (Intel(R) SSE4.2) enabled only processors has been deprecated. Intel oneAPI Math Kernel Library 2025.0 will require Intel(R) Advanced Vector Extensions (Intel(R) AVX) instructions.\n",
      "Intel MKL WARNING: Support of Intel(R) Streaming SIMD Extensions 4.2 (Intel(R) SSE4.2) enabled only processors has been deprecated. Intel oneAPI Math Kernel Library 2025.0 will require Intel(R) Advanced Vector Extensions (Intel(R) AVX) instructions.\n",
      "Intel MKL WARNING: Support of Intel(R) Streaming SIMD Extensions 4.2 (Intel(R) SSE4.2) enabled only processors has been deprecated. Intel oneAPI Math Kernel Library 2025.0 will require Intel(R) Advanced Vector Extensions (Intel(R) AVX) instructions.\n",
      "\n",
      "Intel MKL WARNING: Support of Intel(R) Streaming SIMD Extensions 4.2 (Intel(R) SSE4.2) enabled only processors has been deprecated. Intel oneAPI Math Kernel Library 2025.0 will require Intel(R) Advanced Vector Extensions (Intel(R) AVX) instructions.Intel MKL WARNING: Support of Intel(R) Streaming SIMD Extensions 4.2 (Intel(R) SSE4.2) enabled only processors has been deprecated. Intel oneAPI Math Kernel Library 2025.0 will require Intel(R) Advanced Vector Extensions (Intel(R) AVX) instructions.Intel MKL WARNING: Support of Intel(R) Streaming SIMD Extensions 4.2 (Intel(R) SSE4.2) enabled only processors has been deprecated. Intel oneAPI Math Kernel Library 2025.0 will require Intel(R) Advanced Vector Extensions (Intel(R) AVX) instructions.\n",
      "\n",
      "Intel MKL WARNING: Support of Intel(R) Streaming SIMD Extensions 4.2 (Intel(R) SSE4.2) enabled only processors has been deprecated. Intel oneAPI Math Kernel Library 2025.0 will require Intel(R) Advanced Vector Extensions (Intel(R) AVX) instructions.\n",
      "Intel MKL WARNING: Support of Intel(R) Streaming SIMD Extensions 4.2 (Intel(R) SSE4.2) enabled only processors has been deprecated. Intel oneAPI Math Kernel Library 2025.0 will require Intel(R) Advanced Vector Extensions (Intel(R) AVX) instructions.\n",
      "Intel MKL WARNING: Support of Intel(R) Streaming SIMD Extensions 4.2 (Intel(R) SSE4.2) enabled only processors has been deprecated. Intel oneAPI Math Kernel Library 2025.0 will require Intel(R) Advanced Vector Extensions (Intel(R) AVX) instructions.\n",
      "Intel MKL WARNING: Support of Intel(R) Streaming SIMD Extensions 4.2 (Intel(R) SSE4.2) enabled only processors has been deprecated. Intel oneAPI Math Kernel Library 2025.0 will require Intel(R) Advanced Vector Extensions (Intel(R) AVX) instructions.Intel MKL WARNING: Support of Intel(R) Streaming SIMD Extensions 4.2 (Intel(R) SSE4.2) enabled only processors has been deprecated. Intel oneAPI Math Kernel Library 2025.0 will require Intel(R) Advanced Vector Extensions (Intel(R) AVX) instructions.\n",
      "\n",
      "Intel MKL WARNING: Support of Intel(R) Streaming SIMD Extensions 4.2 (Intel(R) SSE4.2) enabled only processors has been deprecated. Intel oneAPI Math Kernel Library 2025.0 will require Intel(R) Advanced Vector Extensions (Intel(R) AVX) instructions.\n",
      "\n",
      "Intel MKL WARNING: Support of Intel(R) Streaming SIMD Extensions 4.2 (Intel(R) SSE4.2) enabled only processors has been deprecated. Intel oneAPI Math Kernel Library 2025.0 will require Intel(R) Advanced Vector Extensions (Intel(R) AVX) instructions.\n",
      "Intel MKL WARNING: Support of Intel(R) Streaming SIMD Extensions 4.2 (Intel(R) SSE4.2) enabled only processors has been deprecated. Intel oneAPI Math Kernel Library 2025.0 will require Intel(R) Advanced Vector Extensions (Intel(R) AVX) instructions.\n",
      "Intel MKL WARNING: Support of Intel(R) Streaming SIMD Extensions 4.2 (Intel(R) SSE4.2) enabled only processors has been deprecated. Intel oneAPI Math Kernel Library 2025.0 will require Intel(R) Advanced Vector Extensions (Intel(R) AVX) instructions.\n",
      "Intel MKL WARNING: Support of Intel(R) Streaming SIMD Extensions 4.2 (Intel(R) SSE4.2) enabled only processors has been deprecated. Intel oneAPI Math Kernel Library 2025.0 will require Intel(R) Advanced Vector Extensions (Intel(R) AVX) instructions.\n",
      "Intel MKL WARNING: Support of Intel(R) Streaming SIMD Extensions 4.2 (Intel(R) SSE4.2) enabled only processors has been deprecated. Intel oneAPI Math Kernel Library 2025.0 will require Intel(R) Advanced Vector Extensions (Intel(R) AVX) instructions.\n",
      "Intel MKL WARNING: Support of Intel(R) Streaming SIMD Extensions 4.2 (Intel(R) SSE4.2) enabled only processors has been deprecated. Intel oneAPI Math Kernel Library 2025.0 will require Intel(R) Advanced Vector Extensions (Intel(R) AVX) instructions.\n",
      "Intel MKL WARNING: Support of Intel(R) Streaming SIMD Extensions 4.2 (Intel(R) SSE4.2) enabled only processors has been deprecated. Intel oneAPI Math Kernel Library 2025.0 will require Intel(R) Advanced Vector Extensions (Intel(R) AVX) instructions.\n",
      "Intel MKL WARNING: Support of Intel(R) Streaming SIMD Extensions 4.2 (Intel(R) SSE4.2) enabled only processors has been deprecated. Intel oneAPI Math Kernel Library 2025.0 will require Intel(R) Advanced Vector Extensions (Intel(R) AVX) instructions.Intel MKL WARNING: Support of Intel(R) Streaming SIMD Extensions 4.2 (Intel(R) SSE4.2) enabled only processors has been deprecated. Intel oneAPI Math Kernel Library 2025.0 will require Intel(R) Advanced Vector Extensions (Intel(R) AVX) instructions.Intel MKL WARNING: Support of Intel(R) Streaming SIMD Extensions 4.2 (Intel(R) SSE4.2) enabled only processors has been deprecated. Intel oneAPI Math Kernel Library 2025.0 will require Intel(R) Advanced Vector Extensions (Intel(R) AVX) instructions.\n",
      "Intel MKL WARNING: Support of Intel(R) Streaming SIMD Extensions 4.2 (Intel(R) SSE4.2) enabled only processors has been deprecated. Intel oneAPI Math Kernel Library 2025.0 will require Intel(R) Advanced Vector Extensions (Intel(R) AVX) instructions.\n",
      "\n",
      "\n",
      "Intel MKL WARNING: Support of Intel(R) Streaming SIMD Extensions 4.2 (Intel(R) SSE4.2) enabled only processors has been deprecated. Intel oneAPI Math Kernel Library 2025.0 will require Intel(R) Advanced Vector Extensions (Intel(R) AVX) instructions.\n",
      "Intel MKL WARNING: Support of Intel(R) Streaming SIMD Extensions 4.2 (Intel(R) SSE4.2) enabled only processors has been deprecated. Intel oneAPI Math Kernel Library 2025.0 will require Intel(R) Advanced Vector Extensions (Intel(R) AVX) instructions.\n",
      "Intel MKL WARNING: Support of Intel(R) Streaming SIMD Extensions 4.2 (Intel(R) SSE4.2) enabled only processors has been deprecated. Intel oneAPI Math Kernel Library 2025.0 will require Intel(R) Advanced Vector Extensions (Intel(R) AVX) instructions.\n",
      "Intel MKL WARNING: Support of Intel(R) Streaming SIMD Extensions 4.2 (Intel(R) SSE4.2) enabled only processors has been deprecated. Intel oneAPI Math Kernel Library 2025.0 will require Intel(R) Advanced Vector Extensions (Intel(R) AVX) instructions.\n",
      "Intel MKL WARNING: Support of Intel(R) Streaming SIMD Extensions 4.2 (Intel(R) SSE4.2) enabled only processors has been deprecated. Intel oneAPI Math Kernel Library 2025.0 will require Intel(R) Advanced Vector Extensions (Intel(R) AVX) instructions.\n",
      "Intel MKL WARNING: Support of Intel(R) Streaming SIMD Extensions 4.2 (Intel(R) SSE4.2) enabled only processors has been deprecated. Intel oneAPI Math Kernel Library 2025.0 will require Intel(R) Advanced Vector Extensions (Intel(R) AVX) instructions.\n",
      "Intel MKL WARNING: Support of Intel(R) Streaming SIMD Extensions 4.2 (Intel(R) SSE4.2) enabled only processors has been deprecated. Intel oneAPI Math Kernel Library 2025.0 will require Intel(R) Advanced Vector Extensions (Intel(R) AVX) instructions.\n",
      "Intel MKL WARNING: Support of Intel(R) Streaming SIMD Extensions 4.2 (Intel(R) SSE4.2) enabled only processors has been deprecated. Intel oneAPI Math Kernel Library 2025.0 will require Intel(R) Advanced Vector Extensions (Intel(R) AVX) instructions.\n",
      "Intel MKL WARNING: Support of Intel(R) Streaming SIMD Extensions 4.2 (Intel(R) SSE4.2) enabled only processors has been deprecated. Intel oneAPI Math Kernel Library 2025.0 will require Intel(R) Advanced Vector Extensions (Intel(R) AVX) instructions.\n",
      "Intel MKL WARNING: Support of Intel(R) Streaming SIMD Extensions 4.2 (Intel(R) SSE4.2) enabled only processors has been deprecated. Intel oneAPI Math Kernel Library 2025.0 will require Intel(R) Advanced Vector Extensions (Intel(R) AVX) instructions.\n",
      "Intel MKL WARNING: Support of Intel(R) Streaming SIMD Extensions 4.2 (Intel(R) SSE4.2) enabled only processors has been deprecated. Intel oneAPI Math Kernel Library 2025.0 will require Intel(R) Advanced Vector Extensions (Intel(R) AVX) instructions.\n",
      "Intel MKL WARNING: Support of Intel(R) Streaming SIMD Extensions 4.2 (Intel(R) SSE4.2) enabled only processors has been deprecated. Intel oneAPI Math Kernel Library 2025.0 will require Intel(R) Advanced Vector Extensions (Intel(R) AVX) instructions.\n",
      "Intel MKL WARNING: Support of Intel(R) Streaming SIMD Extensions 4.2 (Intel(R) SSE4.2) enabled only processors has been deprecated. Intel oneAPI Math Kernel Library 2025.0 will require Intel(R) Advanced Vector Extensions (Intel(R) AVX) instructions.\n",
      "Intel MKL WARNING: Support of Intel(R) Streaming SIMD Extensions 4.2 (Intel(R) SSE4.2) enabled only processors has been deprecated. Intel oneAPI Math Kernel Library 2025.0 will require Intel(R) Advanced Vector Extensions (Intel(R) AVX) instructions.\n",
      "Intel MKL WARNING: Support of Intel(R) Streaming SIMD Extensions 4.2 (Intel(R) SSE4.2) enabled only processors has been deprecated. Intel oneAPI Math Kernel Library 2025.0 will require Intel(R) Advanced Vector Extensions (Intel(R) AVX) instructions.\n",
      "Intel MKL WARNING: Support of Intel(R) Streaming SIMD Extensions 4.2 (Intel(R) SSE4.2) enabled only processors has been deprecated. Intel oneAPI Math Kernel Library 2025.0 will require Intel(R) Advanced Vector Extensions (Intel(R) AVX) instructions.\n",
      "Intel MKL WARNING: Support of Intel(R) Streaming SIMD Extensions 4.2 (Intel(R) SSE4.2) enabled only processors has been deprecated. Intel oneAPI Math Kernel Library 2025.0 will require Intel(R) Advanced Vector Extensions (Intel(R) AVX) instructions.\n",
      "Intel MKL WARNING: Support of Intel(R) Streaming SIMD Extensions 4.2 (Intel(R) SSE4.2) enabled only processors has been deprecated. Intel oneAPI Math Kernel Library 2025.0 will require Intel(R) Advanced Vector Extensions (Intel(R) AVX) instructions.\n",
      "Intel MKL WARNING: Support of Intel(R) Streaming SIMD Extensions 4.2 (Intel(R) SSE4.2) enabled only processors has been deprecated. Intel oneAPI Math Kernel Library 2025.0 will require Intel(R) Advanced Vector Extensions (Intel(R) AVX) instructions.\n",
      "Intel MKL WARNING: Support of Intel(R) Streaming SIMD Extensions 4.2 (Intel(R) SSE4.2) enabled only processors has been deprecated. Intel oneAPI Math Kernel Library 2025.0 will require Intel(R) Advanced Vector Extensions (Intel(R) AVX) instructions.\n",
      "Intel MKL WARNING: Support of Intel(R) Streaming SIMD Extensions 4.2 (Intel(R) SSE4.2) enabled only processors has been deprecated. Intel oneAPI Math Kernel Library 2025.0 will require Intel(R) Advanced Vector Extensions (Intel(R) AVX) instructions.Intel MKL WARNING: Support of Intel(R) Streaming SIMD Extensions 4.2 (Intel(R) SSE4.2) enabled only processors has been deprecated. Intel oneAPI Math Kernel Library 2025.0 will require Intel(R) Advanced Vector Extensions (Intel(R) AVX) instructions.\n",
      "\n",
      "Intel MKL WARNING: Support of Intel(R) Streaming SIMD Extensions 4.2 (Intel(R) SSE4.2) enabled only processors has been deprecated. Intel oneAPI Math Kernel Library 2025.0 will require Intel(R) Advanced Vector Extensions (Intel(R) AVX) instructions.Intel MKL WARNING: Support of Intel(R) Streaming SIMD Extensions 4.2 (Intel(R) SSE4.2) enabled only processors has been deprecated. Intel oneAPI Math Kernel Library 2025.0 will require Intel(R) Advanced Vector Extensions (Intel(R) AVX) instructions.\n",
      "Intel MKL WARNING: Support of Intel(R) Streaming SIMD Extensions 4.2 (Intel(R) SSE4.2) enabled only processors has been deprecated. Intel oneAPI Math Kernel Library 2025.0 will require Intel(R) Advanced Vector Extensions (Intel(R) AVX) instructions.Intel MKL WARNING: Support of Intel(R) Streaming SIMD Extensions 4.2 (Intel(R) SSE4.2) enabled only processors has been deprecated. Intel oneAPI Math Kernel Library 2025.0 will require Intel(R) Advanced Vector Extensions (Intel(R) AVX) instructions.\n",
      "\n",
      "Intel MKL WARNING: Support of Intel(R) Streaming SIMD Extensions 4.2 (Intel(R) SSE4.2) enabled only processors has been deprecated. Intel oneAPI Math Kernel Library 2025.0 will require Intel(R) Advanced Vector Extensions (Intel(R) AVX) instructions.\n",
      "Intel MKL WARNING: Support of Intel(R) Streaming SIMD Extensions 4.2 (Intel(R) SSE4.2) enabled only processors has been deprecated. Intel oneAPI Math Kernel Library 2025.0 will require Intel(R) Advanced Vector Extensions (Intel(R) AVX) instructions.\n",
      "Intel MKL WARNING: Support of Intel(R) Streaming SIMD Extensions 4.2 (Intel(R) SSE4.2) enabled only processors has been deprecated. Intel oneAPI Math Kernel Library 2025.0 will require Intel(R) Advanced Vector Extensions (Intel(R) AVX) instructions.\n",
      "\n",
      "Intel MKL WARNING: Support of Intel(R) Streaming SIMD Extensions 4.2 (Intel(R) SSE4.2) enabled only processors has been deprecated. Intel oneAPI Math Kernel Library 2025.0 will require Intel(R) Advanced Vector Extensions (Intel(R) AVX) instructions.\n",
      "Intel MKL WARNING: Support of Intel(R) Streaming SIMD Extensions 4.2 (Intel(R) SSE4.2) enabled only processors has been deprecated. Intel oneAPI Math Kernel Library 2025.0 will require Intel(R) Advanced Vector Extensions (Intel(R) AVX) instructions.Intel MKL WARNING: Support of Intel(R) Streaming SIMD Extensions 4.2 (Intel(R) SSE4.2) enabled only processors has been deprecated. Intel oneAPI Math Kernel Library 2025.0 will require Intel(R) Advanced Vector Extensions (Intel(R) AVX) instructions.\n",
      "\n",
      "Intel MKL WARNING: Support of Intel(R) Streaming SIMD Extensions 4.2 (Intel(R) SSE4.2) enabled only processors has been deprecated. Intel oneAPI Math Kernel Library 2025.0 will require Intel(R) Advanced Vector Extensions (Intel(R) AVX) instructions.\n",
      "Intel MKL WARNING: Support of Intel(R) Streaming SIMD Extensions 4.2 (Intel(R) SSE4.2) enabled only processors has been deprecated. Intel oneAPI Math Kernel Library 2025.0 will require Intel(R) Advanced Vector Extensions (Intel(R) AVX) instructions.Intel MKL WARNING: Support of Intel(R) Streaming SIMD Extensions 4.2 (Intel(R) SSE4.2) enabled only processors has been deprecated. Intel oneAPI Math Kernel Library 2025.0 will require Intel(R) Advanced Vector Extensions (Intel(R) AVX) instructions.\n",
      "Intel MKL WARNING: Support of Intel(R) Streaming SIMD Extensions 4.2 (Intel(R) SSE4.2) enabled only processors has been deprecated. Intel oneAPI Math Kernel Library 2025.0 will require Intel(R) Advanced Vector Extensions (Intel(R) AVX) instructions.\n",
      "\n",
      "Intel MKL WARNING: Support of Intel(R) Streaming SIMD Extensions 4.2 (Intel(R) SSE4.2) enabled only processors has been deprecated. Intel oneAPI Math Kernel Library 2025.0 will require Intel(R) Advanced Vector Extensions (Intel(R) AVX) instructions.\n",
      "Intel MKL WARNING: Support of Intel(R) Streaming SIMD Extensions 4.2 (Intel(R) SSE4.2) enabled only processors has been deprecated. Intel oneAPI Math Kernel Library 2025.0 will require Intel(R) Advanced Vector Extensions (Intel(R) AVX) instructions.Intel MKL WARNING: Support of Intel(R) Streaming SIMD Extensions 4.2 (Intel(R) SSE4.2) enabled only processors has been deprecated. Intel oneAPI Math Kernel Library 2025.0 will require Intel(R) Advanced Vector Extensions (Intel(R) AVX) instructions.\n",
      "\n",
      "Intel MKL WARNING: Support of Intel(R) Streaming SIMD Extensions 4.2 (Intel(R) SSE4.2) enabled only processors has been deprecated. Intel oneAPI Math Kernel Library 2025.0 will require Intel(R) Advanced Vector Extensions (Intel(R) AVX) instructions.\n",
      "Intel MKL WARNING: Support of Intel(R) Streaming SIMD Extensions 4.2 (Intel(R) SSE4.2) enabled only processors has been deprecated. Intel oneAPI Math Kernel Library 2025.0 will require Intel(R) Advanced Vector Extensions (Intel(R) AVX) instructions.\n",
      "Intel MKL WARNING: Support of Intel(R) Streaming SIMD Extensions 4.2 (Intel(R) SSE4.2) enabled only processors has been deprecated. Intel oneAPI Math Kernel Library 2025.0 will require Intel(R) Advanced Vector Extensions (Intel(R) AVX) instructions.\n",
      "Intel MKL WARNING: Support of Intel(R) Streaming SIMD Extensions 4.2 (Intel(R) SSE4.2) enabled only processors has been deprecated. Intel oneAPI Math Kernel Library 2025.0 will require Intel(R) Advanced Vector Extensions (Intel(R) AVX) instructions.Intel MKL WARNING: Support of Intel(R) Streaming SIMD Extensions 4.2 (Intel(R) SSE4.2) enabled only processors has been deprecated. Intel oneAPI Math Kernel Library 2025.0 will require Intel(R) Advanced Vector Extensions (Intel(R) AVX) instructions.\n",
      "\n",
      "Intel MKL WARNING: Support of Intel(R) Streaming SIMD Extensions 4.2 (Intel(R) SSE4.2) enabled only processors has been deprecated. Intel oneAPI Math Kernel Library 2025.0 will require Intel(R) Advanced Vector Extensions (Intel(R) AVX) instructions.\n",
      "Intel MKL WARNING: Support of Intel(R) Streaming SIMD Extensions 4.2 (Intel(R) SSE4.2) enabled only processors has been deprecated. Intel oneAPI Math Kernel Library 2025.0 will require Intel(R) Advanced Vector Extensions (Intel(R) AVX) instructions.\n",
      "Intel MKL WARNING: Support of Intel(R) Streaming SIMD Extensions 4.2 (Intel(R) SSE4.2) enabled only processors has been deprecated. Intel oneAPI Math Kernel Library 2025.0 will require Intel(R) Advanced Vector Extensions (Intel(R) AVX) instructions.\n",
      "Intel MKL WARNING: Support of Intel(R) Streaming SIMD Extensions 4.2 (Intel(R) SSE4.2) enabled only processors has been deprecated. Intel oneAPI Math Kernel Library 2025.0 will require Intel(R) Advanced Vector Extensions (Intel(R) AVX) instructions.\n",
      "Intel MKL WARNING: Support of Intel(R) Streaming SIMD Extensions 4.2 (Intel(R) SSE4.2) enabled only processors has been deprecated. Intel oneAPI Math Kernel Library 2025.0 will require Intel(R) Advanced Vector Extensions (Intel(R) AVX) instructions.\n",
      "Intel MKL WARNING: Support of Intel(R) Streaming SIMD Extensions 4.2 (Intel(R) SSE4.2) enabled only processors has been deprecated. Intel oneAPI Math Kernel Library 2025.0 will require Intel(R) Advanced Vector Extensions (Intel(R) AVX) instructions.\n",
      "Intel MKL WARNING: Support of Intel(R) Streaming SIMD Extensions 4.2 (Intel(R) SSE4.2) enabled only processors has been deprecated. Intel oneAPI Math Kernel Library 2025.0 will require Intel(R) Advanced Vector Extensions (Intel(R) AVX) instructions.\n",
      "Intel MKL WARNING: Support of Intel(R) Streaming SIMD Extensions 4.2 (Intel(R) SSE4.2) enabled only processors has been deprecated. Intel oneAPI Math Kernel Library 2025.0 will require Intel(R) Advanced Vector Extensions (Intel(R) AVX) instructions.\n",
      "Intel MKL WARNING: Support of Intel(R) Streaming SIMD Extensions 4.2 (Intel(R) SSE4.2) enabled only processors has been deprecated. Intel oneAPI Math Kernel Library 2025.0 will require Intel(R) Advanced Vector Extensions (Intel(R) AVX) instructions.\n",
      "Intel MKL WARNING: Support of Intel(R) Streaming SIMD Extensions 4.2 (Intel(R) SSE4.2) enabled only processors has been deprecated. Intel oneAPI Math Kernel Library 2025.0 will require Intel(R) Advanced Vector Extensions (Intel(R) AVX) instructions.\n",
      "Intel MKL WARNING: Support of Intel(R) Streaming SIMD Extensions 4.2 (Intel(R) SSE4.2) enabled only processors has been deprecated. Intel oneAPI Math Kernel Library 2025.0 will require Intel(R) Advanced Vector Extensions (Intel(R) AVX) instructions.\n",
      "Intel MKL WARNING: Support of Intel(R) Streaming SIMD Extensions 4.2 (Intel(R) SSE4.2) enabled only processors has been deprecated. Intel oneAPI Math Kernel Library 2025.0 will require Intel(R) Advanced Vector Extensions (Intel(R) AVX) instructions.\n",
      "Intel MKL WARNING: Support of Intel(R) Streaming SIMD Extensions 4.2 (Intel(R) SSE4.2) enabled only processors has been deprecated. Intel oneAPI Math Kernel Library 2025.0 will require Intel(R) Advanced Vector Extensions (Intel(R) AVX) instructions.\n",
      "Intel MKL WARNING: Support of Intel(R) Streaming SIMD Extensions 4.2 (Intel(R) SSE4.2) enabled only processors has been deprecated. Intel oneAPI Math Kernel Library 2025.0 will require Intel(R) Advanced Vector Extensions (Intel(R) AVX) instructions.\n",
      "Intel MKL WARNING: Support of Intel(R) Streaming SIMD Extensions 4.2 (Intel(R) SSE4.2) enabled only processors has been deprecated. Intel oneAPI Math Kernel Library 2025.0 will require Intel(R) Advanced Vector Extensions (Intel(R) AVX) instructions.\n",
      "Intel MKL WARNING: Support of Intel(R) Streaming SIMD Extensions 4.2 (Intel(R) SSE4.2) enabled only processors has been deprecated. Intel oneAPI Math Kernel Library 2025.0 will require Intel(R) Advanced Vector Extensions (Intel(R) AVX) instructions.\n",
      "Intel MKL WARNING: Support of Intel(R) Streaming SIMD Extensions 4.2 (Intel(R) SSE4.2) enabled only processors has been deprecated. Intel oneAPI Math Kernel Library 2025.0 will require Intel(R) Advanced Vector Extensions (Intel(R) AVX) instructions.\n",
      "Intel MKL WARNING: Support of Intel(R) Streaming SIMD Extensions 4.2 (Intel(R) SSE4.2) enabled only processors has been deprecated. Intel oneAPI Math Kernel Library 2025.0 will require Intel(R) Advanced Vector Extensions (Intel(R) AVX) instructions.\n",
      "Intel MKL WARNING: Support of Intel(R) Streaming SIMD Extensions 4.2 (Intel(R) SSE4.2) enabled only processors has been deprecated. Intel oneAPI Math Kernel Library 2025.0 will require Intel(R) Advanced Vector Extensions (Intel(R) AVX) instructions.\n",
      "Intel MKL WARNING: Support of Intel(R) Streaming SIMD Extensions 4.2 (Intel(R) SSE4.2) enabled only processors has been deprecated. Intel oneAPI Math Kernel Library 2025.0 will require Intel(R) Advanced Vector Extensions (Intel(R) AVX) instructions.\n",
      "Intel MKL WARNING: Support of Intel(R) Streaming SIMD Extensions 4.2 (Intel(R) SSE4.2) enabled only processors has been deprecated. Intel oneAPI Math Kernel Library 2025.0 will require Intel(R) Advanced Vector Extensions (Intel(R) AVX) instructions.\n",
      "Intel MKL WARNING: Support of Intel(R) Streaming SIMD Extensions 4.2 (Intel(R) SSE4.2) enabled only processors has been deprecated. Intel oneAPI Math Kernel Library 2025.0 will require Intel(R) Advanced Vector Extensions (Intel(R) AVX) instructions.\n",
      "Intel MKL WARNING: Support of Intel(R) Streaming SIMD Extensions 4.2 (Intel(R) SSE4.2) enabled only processors has been deprecated. Intel oneAPI Math Kernel Library 2025.0 will require Intel(R) Advanced Vector Extensions (Intel(R) AVX) instructions.\n",
      "Intel MKL WARNING: Support of Intel(R) Streaming SIMD Extensions 4.2 (Intel(R) SSE4.2) enabled only processors has been deprecated. Intel oneAPI Math Kernel Library 2025.0 will require Intel(R) Advanced Vector Extensions (Intel(R) AVX) instructions.\n",
      "Intel MKL WARNING: Support of Intel(R) Streaming SIMD Extensions 4.2 (Intel(R) SSE4.2) enabled only processors has been deprecated. Intel oneAPI Math Kernel Library 2025.0 will require Intel(R) Advanced Vector Extensions (Intel(R) AVX) instructions.\n",
      "Intel MKL WARNING: Support of Intel(R) Streaming SIMD Extensions 4.2 (Intel(R) SSE4.2) enabled only processors has been deprecated. Intel oneAPI Math Kernel Library 2025.0 will require Intel(R) Advanced Vector Extensions (Intel(R) AVX) instructions.\n",
      "Intel MKL WARNING: Support of Intel(R) Streaming SIMD Extensions 4.2 (Intel(R) SSE4.2) enabled only processors has been deprecated. Intel oneAPI Math Kernel Library 2025.0 will require Intel(R) Advanced Vector Extensions (Intel(R) AVX) instructions.\n",
      "Intel MKL WARNING: Support of Intel(R) Streaming SIMD Extensions 4.2 (Intel(R) SSE4.2) enabled only processors has been deprecated. Intel oneAPI Math Kernel Library 2025.0 will require Intel(R) Advanced Vector Extensions (Intel(R) AVX) instructions.\n",
      "Intel MKL WARNING: Support of Intel(R) Streaming SIMD Extensions 4.2 (Intel(R) SSE4.2) enabled only processors has been deprecated. Intel oneAPI Math Kernel Library 2025.0 will require Intel(R) Advanced Vector Extensions (Intel(R) AVX) instructions.\n",
      "Intel MKL WARNING: Support of Intel(R) Streaming SIMD Extensions 4.2 (Intel(R) SSE4.2) enabled only processors has been deprecated. Intel oneAPI Math Kernel Library 2025.0 will require Intel(R) Advanced Vector Extensions (Intel(R) AVX) instructions.\n",
      "Intel MKL WARNING: Support of Intel(R) Streaming SIMD Extensions 4.2 (Intel(R) SSE4.2) enabled only processors has been deprecated. Intel oneAPI Math Kernel Library 2025.0 will require Intel(R) Advanced Vector Extensions (Intel(R) AVX) instructions.\n",
      "Intel MKL WARNING: Support of Intel(R) Streaming SIMD Extensions 4.2 (Intel(R) SSE4.2) enabled only processors has been deprecated. Intel oneAPI Math Kernel Library 2025.0 will require Intel(R) Advanced Vector Extensions (Intel(R) AVX) instructions.\n",
      "Intel MKL WARNING: Support of Intel(R) Streaming SIMD Extensions 4.2 (Intel(R) SSE4.2) enabled only processors has been deprecated. Intel oneAPI Math Kernel Library 2025.0 will require Intel(R) Advanced Vector Extensions (Intel(R) AVX) instructions.\n",
      "Intel MKL WARNING: Support of Intel(R) Streaming SIMD Extensions 4.2 (Intel(R) SSE4.2) enabled only processors has been deprecated. Intel oneAPI Math Kernel Library 2025.0 will require Intel(R) Advanced Vector Extensions (Intel(R) AVX) instructions.\n",
      "Intel MKL WARNING: Support of Intel(R) Streaming SIMD Extensions 4.2 (Intel(R) SSE4.2) enabled only processors has been deprecated. Intel oneAPI Math Kernel Library 2025.0 will require Intel(R) Advanced Vector Extensions (Intel(R) AVX) instructions.\n",
      "Intel MKL WARNING: Support of Intel(R) Streaming SIMD Extensions 4.2 (Intel(R) SSE4.2) enabled only processors has been deprecated. Intel oneAPI Math Kernel Library 2025.0 will require Intel(R) Advanced Vector Extensions (Intel(R) AVX) instructions.\n",
      "Intel MKL WARNING: Support of Intel(R) Streaming SIMD Extensions 4.2 (Intel(R) SSE4.2) enabled only processors has been deprecated. Intel oneAPI Math Kernel Library 2025.0 will require Intel(R) Advanced Vector Extensions (Intel(R) AVX) instructions.\n",
      "Intel MKL WARNING: Support of Intel(R) Streaming SIMD Extensions 4.2 (Intel(R) SSE4.2) enabled only processors has been deprecated. Intel oneAPI Math Kernel Library 2025.0 will require Intel(R) Advanced Vector Extensions (Intel(R) AVX) instructions.\n",
      "Intel MKL WARNING: Support of Intel(R) Streaming SIMD Extensions 4.2 (Intel(R) SSE4.2) enabled only processors has been deprecated. Intel oneAPI Math Kernel Library 2025.0 will require Intel(R) Advanced Vector Extensions (Intel(R) AVX) instructions.\n",
      "Intel MKL WARNING: Support of Intel(R) Streaming SIMD Extensions 4.2 (Intel(R) SSE4.2) enabled only processors has been deprecated. Intel oneAPI Math Kernel Library 2025.0 will require Intel(R) Advanced Vector Extensions (Intel(R) AVX) instructions.\n",
      "Intel MKL WARNING: Support of Intel(R) Streaming SIMD Extensions 4.2 (Intel(R) SSE4.2) enabled only processors has been deprecated. Intel oneAPI Math Kernel Library 2025.0 will require Intel(R) Advanced Vector Extensions (Intel(R) AVX) instructions.\n",
      "Intel MKL WARNING: Support of Intel(R) Streaming SIMD Extensions 4.2 (Intel(R) SSE4.2) enabled only processors has been deprecated. Intel oneAPI Math Kernel Library 2025.0 will require Intel(R) Advanced Vector Extensions (Intel(R) AVX) instructions.\n",
      "Intel MKL WARNING: Support of Intel(R) Streaming SIMD Extensions 4.2 (Intel(R) SSE4.2) enabled only processors has been deprecated. Intel oneAPI Math Kernel Library 2025.0 will require Intel(R) Advanced Vector Extensions (Intel(R) AVX) instructions.\n",
      "Intel MKL WARNING: Support of Intel(R) Streaming SIMD Extensions 4.2 (Intel(R) SSE4.2) enabled only processors has been deprecated. Intel oneAPI Math Kernel Library 2025.0 will require Intel(R) Advanced Vector Extensions (Intel(R) AVX) instructions.\n",
      "Intel MKL WARNING: Support of Intel(R) Streaming SIMD Extensions 4.2 (Intel(R) SSE4.2) enabled only processors has been deprecated. Intel oneAPI Math Kernel Library 2025.0 will require Intel(R) Advanced Vector Extensions (Intel(R) AVX) instructions.\n",
      "Intel MKL WARNING: Support of Intel(R) Streaming SIMD Extensions 4.2 (Intel(R) SSE4.2) enabled only processors has been deprecated. Intel oneAPI Math Kernel Library 2025.0 will require Intel(R) Advanced Vector Extensions (Intel(R) AVX) instructions.\n",
      "Intel MKL WARNING: Support of Intel(R) Streaming SIMD Extensions 4.2 (Intel(R) SSE4.2) enabled only processors has been deprecated. Intel oneAPI Math Kernel Library 2025.0 will require Intel(R) Advanced Vector Extensions (Intel(R) AVX) instructions.\n",
      "Intel MKL WARNING: Support of Intel(R) Streaming SIMD Extensions 4.2 (Intel(R) SSE4.2) enabled only processors has been deprecated. Intel oneAPI Math Kernel Library 2025.0 will require Intel(R) Advanced Vector Extensions (Intel(R) AVX) instructions.\n",
      "Intel MKL WARNING: Support of Intel(R) Streaming SIMD Extensions 4.2 (Intel(R) SSE4.2) enabled only processors has been deprecated. Intel oneAPI Math Kernel Library 2025.0 will require Intel(R) Advanced Vector Extensions (Intel(R) AVX) instructions.\n",
      "Intel MKL WARNING: Support of Intel(R) Streaming SIMD Extensions 4.2 (Intel(R) SSE4.2) enabled only processors has been deprecated. Intel oneAPI Math Kernel Library 2025.0 will require Intel(R) Advanced Vector Extensions (Intel(R) AVX) instructions.\n",
      "Intel MKL WARNING: Support of Intel(R) Streaming SIMD Extensions 4.2 (Intel(R) SSE4.2) enabled only processors has been deprecated. Intel oneAPI Math Kernel Library 2025.0 will require Intel(R) Advanced Vector Extensions (Intel(R) AVX) instructions.\n",
      "Intel MKL WARNING: Support of Intel(R) Streaming SIMD Extensions 4.2 (Intel(R) SSE4.2) enabled only processors has been deprecated. Intel oneAPI Math Kernel Library 2025.0 will require Intel(R) Advanced Vector Extensions (Intel(R) AVX) instructions.\n",
      "Intel MKL WARNING: Support of Intel(R) Streaming SIMD Extensions 4.2 (Intel(R) SSE4.2) enabled only processors has been deprecated. Intel oneAPI Math Kernel Library 2025.0 will require Intel(R) Advanced Vector Extensions (Intel(R) AVX) instructions.\n",
      "Intel MKL WARNING: Support of Intel(R) Streaming SIMD Extensions 4.2 (Intel(R) SSE4.2) enabled only processors has been deprecated. Intel oneAPI Math Kernel Library 2025.0 will require Intel(R) Advanced Vector Extensions (Intel(R) AVX) instructions.\n",
      "Intel MKL WARNING: Support of Intel(R) Streaming SIMD Extensions 4.2 (Intel(R) SSE4.2) enabled only processors has been deprecated. Intel oneAPI Math Kernel Library 2025.0 will require Intel(R) Advanced Vector Extensions (Intel(R) AVX) instructions.\n",
      "Intel MKL WARNING: Support of Intel(R) Streaming SIMD Extensions 4.2 (Intel(R) SSE4.2) enabled only processors has been deprecated. Intel oneAPI Math Kernel Library 2025.0 will require Intel(R) Advanced Vector Extensions (Intel(R) AVX) instructions.\n",
      "Intel MKL WARNING: Support of Intel(R) Streaming SIMD Extensions 4.2 (Intel(R) SSE4.2) enabled only processors has been deprecated. Intel oneAPI Math Kernel Library 2025.0 will require Intel(R) Advanced Vector Extensions (Intel(R) AVX) instructions.\n",
      "Intel MKL WARNING: Support of Intel(R) Streaming SIMD Extensions 4.2 (Intel(R) SSE4.2) enabled only processors has been deprecated. Intel oneAPI Math Kernel Library 2025.0 will require Intel(R) Advanced Vector Extensions (Intel(R) AVX) instructions.\n",
      "Intel MKL WARNING: Support of Intel(R) Streaming SIMD Extensions 4.2 (Intel(R) SSE4.2) enabled only processors has been deprecated. Intel oneAPI Math Kernel Library 2025.0 will require Intel(R) Advanced Vector Extensions (Intel(R) AVX) instructions.\n",
      "Intel MKL WARNING: Support of Intel(R) Streaming SIMD Extensions 4.2 (Intel(R) SSE4.2) enabled only processors has been deprecated. Intel oneAPI Math Kernel Library 2025.0 will require Intel(R) Advanced Vector Extensions (Intel(R) AVX) instructions.\n",
      "Intel MKL WARNING: Support of Intel(R) Streaming SIMD Extensions 4.2 (Intel(R) SSE4.2) enabled only processors has been deprecated. Intel oneAPI Math Kernel Library 2025.0 will require Intel(R) Advanced Vector Extensions (Intel(R) AVX) instructions.\n",
      "Intel MKL WARNING: Support of Intel(R) Streaming SIMD Extensions 4.2 (Intel(R) SSE4.2) enabled only processors has been deprecated. Intel oneAPI Math Kernel Library 2025.0 will require Intel(R) Advanced Vector Extensions (Intel(R) AVX) instructions.\n",
      "Intel MKL WARNING: Support of Intel(R) Streaming SIMD Extensions 4.2 (Intel(R) SSE4.2) enabled only processors has been deprecated. Intel oneAPI Math Kernel Library 2025.0 will require Intel(R) Advanced Vector Extensions (Intel(R) AVX) instructions.\n",
      "Intel MKL WARNING: Support of Intel(R) Streaming SIMD Extensions 4.2 (Intel(R) SSE4.2) enabled only processors has been deprecated. Intel oneAPI Math Kernel Library 2025.0 will require Intel(R) Advanced Vector Extensions (Intel(R) AVX) instructions.\n",
      "Intel MKL WARNING: Support of Intel(R) Streaming SIMD Extensions 4.2 (Intel(R) SSE4.2) enabled only processors has been deprecated. Intel oneAPI Math Kernel Library 2025.0 will require Intel(R) Advanced Vector Extensions (Intel(R) AVX) instructions.\n",
      "Intel MKL WARNING: Support of Intel(R) Streaming SIMD Extensions 4.2 (Intel(R) SSE4.2) enabled only processors has been deprecated. Intel oneAPI Math Kernel Library 2025.0 will require Intel(R) Advanced Vector Extensions (Intel(R) AVX) instructions.\n",
      "Intel MKL WARNING: Support of Intel(R) Streaming SIMD Extensions 4.2 (Intel(R) SSE4.2) enabled only processors has been deprecated. Intel oneAPI Math Kernel Library 2025.0 will require Intel(R) Advanced Vector Extensions (Intel(R) AVX) instructions.\n",
      "Intel MKL WARNING: Support of Intel(R) Streaming SIMD Extensions 4.2 (Intel(R) SSE4.2) enabled only processors has been deprecated. Intel oneAPI Math Kernel Library 2025.0 will require Intel(R) Advanced Vector Extensions (Intel(R) AVX) instructions.\n",
      "Intel MKL WARNING: Support of Intel(R) Streaming SIMD Extensions 4.2 (Intel(R) SSE4.2) enabled only processors has been deprecated. Intel oneAPI Math Kernel Library 2025.0 will require Intel(R) Advanced Vector Extensions (Intel(R) AVX) instructions.\n",
      "Intel MKL WARNING: Support of Intel(R) Streaming SIMD Extensions 4.2 (Intel(R) SSE4.2) enabled only processors has been deprecated. Intel oneAPI Math Kernel Library 2025.0 will require Intel(R) Advanced Vector Extensions (Intel(R) AVX) instructions.\n",
      "Intel MKL WARNING: Support of Intel(R) Streaming SIMD Extensions 4.2 (Intel(R) SSE4.2) enabled only processors has been deprecated. Intel oneAPI Math Kernel Library 2025.0 will require Intel(R) Advanced Vector Extensions (Intel(R) AVX) instructions.\n",
      "Intel MKL WARNING: Support of Intel(R) Streaming SIMD Extensions 4.2 (Intel(R) SSE4.2) enabled only processors has been deprecated. Intel oneAPI Math Kernel Library 2025.0 will require Intel(R) Advanced Vector Extensions (Intel(R) AVX) instructions.\n",
      "Intel MKL WARNING: Support of Intel(R) Streaming SIMD Extensions 4.2 (Intel(R) SSE4.2) enabled only processors has been deprecated. Intel oneAPI Math Kernel Library 2025.0 will require Intel(R) Advanced Vector Extensions (Intel(R) AVX) instructions.\n",
      "Intel MKL WARNING: Support of Intel(R) Streaming SIMD Extensions 4.2 (Intel(R) SSE4.2) enabled only processors has been deprecated. Intel oneAPI Math Kernel Library 2025.0 will require Intel(R) Advanced Vector Extensions (Intel(R) AVX) instructions.\n",
      "Intel MKL WARNING: Support of Intel(R) Streaming SIMD Extensions 4.2 (Intel(R) SSE4.2) enabled only processors has been deprecated. Intel oneAPI Math Kernel Library 2025.0 will require Intel(R) Advanced Vector Extensions (Intel(R) AVX) instructions.\n",
      "Intel MKL WARNING: Support of Intel(R) Streaming SIMD Extensions 4.2 (Intel(R) SSE4.2) enabled only processors has been deprecated. Intel oneAPI Math Kernel Library 2025.0 will require Intel(R) Advanced Vector Extensions (Intel(R) AVX) instructions.\n",
      "Intel MKL WARNING: Support of Intel(R) Streaming SIMD Extensions 4.2 (Intel(R) SSE4.2) enabled only processors has been deprecated. Intel oneAPI Math Kernel Library 2025.0 will require Intel(R) Advanced Vector Extensions (Intel(R) AVX) instructions.\n",
      "Intel MKL WARNING: Support of Intel(R) Streaming SIMD Extensions 4.2 (Intel(R) SSE4.2) enabled only processors has been deprecated. Intel oneAPI Math Kernel Library 2025.0 will require Intel(R) Advanced Vector Extensions (Intel(R) AVX) instructions.\n",
      "Intel MKL WARNING: Support of Intel(R) Streaming SIMD Extensions 4.2 (Intel(R) SSE4.2) enabled only processors has been deprecated. Intel oneAPI Math Kernel Library 2025.0 will require Intel(R) Advanced Vector Extensions (Intel(R) AVX) instructions.\n",
      "Intel MKL WARNING: Support of Intel(R) Streaming SIMD Extensions 4.2 (Intel(R) SSE4.2) enabled only processors has been deprecated. Intel oneAPI Math Kernel Library 2025.0 will require Intel(R) Advanced Vector Extensions (Intel(R) AVX) instructions.\n",
      "Intel MKL WARNING: Support of Intel(R) Streaming SIMD Extensions 4.2 (Intel(R) SSE4.2) enabled only processors has been deprecated. Intel oneAPI Math Kernel Library 2025.0 will require Intel(R) Advanced Vector Extensions (Intel(R) AVX) instructions.\n",
      "Intel MKL WARNING: Support of Intel(R) Streaming SIMD Extensions 4.2 (Intel(R) SSE4.2) enabled only processors has been deprecated. Intel oneAPI Math Kernel Library 2025.0 will require Intel(R) Advanced Vector Extensions (Intel(R) AVX) instructions.\n",
      "Intel MKL WARNING: Support of Intel(R) Streaming SIMD Extensions 4.2 (Intel(R) SSE4.2) enabled only processors has been deprecated. Intel oneAPI Math Kernel Library 2025.0 will require Intel(R) Advanced Vector Extensions (Intel(R) AVX) instructions.\n",
      "Intel MKL WARNING: Support of Intel(R) Streaming SIMD Extensions 4.2 (Intel(R) SSE4.2) enabled only processors has been deprecated. Intel oneAPI Math Kernel Library 2025.0 will require Intel(R) Advanced Vector Extensions (Intel(R) AVX) instructions.\n",
      "Intel MKL WARNING: Support of Intel(R) Streaming SIMD Extensions 4.2 (Intel(R) SSE4.2) enabled only processors has been deprecated. Intel oneAPI Math Kernel Library 2025.0 will require Intel(R) Advanced Vector Extensions (Intel(R) AVX) instructions.\n",
      "Intel MKL WARNING: Support of Intel(R) Streaming SIMD Extensions 4.2 (Intel(R) SSE4.2) enabled only processors has been deprecated. Intel oneAPI Math Kernel Library 2025.0 will require Intel(R) Advanced Vector Extensions (Intel(R) AVX) instructions.\n",
      "Intel MKL WARNING: Support of Intel(R) Streaming SIMD Extensions 4.2 (Intel(R) SSE4.2) enabled only processors has been deprecated. Intel oneAPI Math Kernel Library 2025.0 will require Intel(R) Advanced Vector Extensions (Intel(R) AVX) instructions.\n",
      "Intel MKL WARNING: Support of Intel(R) Streaming SIMD Extensions 4.2 (Intel(R) SSE4.2) enabled only processors has been deprecated. Intel oneAPI Math Kernel Library 2025.0 will require Intel(R) Advanced Vector Extensions (Intel(R) AVX) instructions.\n",
      "Intel MKL WARNING: Support of Intel(R) Streaming SIMD Extensions 4.2 (Intel(R) SSE4.2) enabled only processors has been deprecated. Intel oneAPI Math Kernel Library 2025.0 will require Intel(R) Advanced Vector Extensions (Intel(R) AVX) instructions.\n",
      "Intel MKL WARNING: Support of Intel(R) Streaming SIMD Extensions 4.2 (Intel(R) SSE4.2) enabled only processors has been deprecated. Intel oneAPI Math Kernel Library 2025.0 will require Intel(R) Advanced Vector Extensions (Intel(R) AVX) instructions.\n",
      "Intel MKL WARNING: Support of Intel(R) Streaming SIMD Extensions 4.2 (Intel(R) SSE4.2) enabled only processors has been deprecated. Intel oneAPI Math Kernel Library 2025.0 will require Intel(R) Advanced Vector Extensions (Intel(R) AVX) instructions.\n",
      "Intel MKL WARNING: Support of Intel(R) Streaming SIMD Extensions 4.2 (Intel(R) SSE4.2) enabled only processors has been deprecated. Intel oneAPI Math Kernel Library 2025.0 will require Intel(R) Advanced Vector Extensions (Intel(R) AVX) instructions.\n",
      "Intel MKL WARNING: Support of Intel(R) Streaming SIMD Extensions 4.2 (Intel(R) SSE4.2) enabled only processors has been deprecated. Intel oneAPI Math Kernel Library 2025.0 will require Intel(R) Advanced Vector Extensions (Intel(R) AVX) instructions.\n",
      "Intel MKL WARNING: Support of Intel(R) Streaming SIMD Extensions 4.2 (Intel(R) SSE4.2) enabled only processors has been deprecated. Intel oneAPI Math Kernel Library 2025.0 will require Intel(R) Advanced Vector Extensions (Intel(R) AVX) instructions.\n",
      "Intel MKL WARNING: Support of Intel(R) Streaming SIMD Extensions 4.2 (Intel(R) SSE4.2) enabled only processors has been deprecated. Intel oneAPI Math Kernel Library 2025.0 will require Intel(R) Advanced Vector Extensions (Intel(R) AVX) instructions.\n",
      "Intel MKL WARNING: Support of Intel(R) Streaming SIMD Extensions 4.2 (Intel(R) SSE4.2) enabled only processors has been deprecated. Intel oneAPI Math Kernel Library 2025.0 will require Intel(R) Advanced Vector Extensions (Intel(R) AVX) instructions.\n",
      "Intel MKL WARNING: Support of Intel(R) Streaming SIMD Extensions 4.2 (Intel(R) SSE4.2) enabled only processors has been deprecated. Intel oneAPI Math Kernel Library 2025.0 will require Intel(R) Advanced Vector Extensions (Intel(R) AVX) instructions.\n",
      "Intel MKL WARNING: Support of Intel(R) Streaming SIMD Extensions 4.2 (Intel(R) SSE4.2) enabled only processors has been deprecated. Intel oneAPI Math Kernel Library 2025.0 will require Intel(R) Advanced Vector Extensions (Intel(R) AVX) instructions.\n",
      "Intel MKL WARNING: Support of Intel(R) Streaming SIMD Extensions 4.2 (Intel(R) SSE4.2) enabled only processors has been deprecated. Intel oneAPI Math Kernel Library 2025.0 will require Intel(R) Advanced Vector Extensions (Intel(R) AVX) instructions.\n",
      "Intel MKL WARNING: Support of Intel(R) Streaming SIMD Extensions 4.2 (Intel(R) SSE4.2) enabled only processors has been deprecated. Intel oneAPI Math Kernel Library 2025.0 will require Intel(R) Advanced Vector Extensions (Intel(R) AVX) instructions.\n",
      "Intel MKL WARNING: Support of Intel(R) Streaming SIMD Extensions 4.2 (Intel(R) SSE4.2) enabled only processors has been deprecated. Intel oneAPI Math Kernel Library 2025.0 will require Intel(R) Advanced Vector Extensions (Intel(R) AVX) instructions.\n",
      "Intel MKL WARNING: Support of Intel(R) Streaming SIMD Extensions 4.2 (Intel(R) SSE4.2) enabled only processors has been deprecated. Intel oneAPI Math Kernel Library 2025.0 will require Intel(R) Advanced Vector Extensions (Intel(R) AVX) instructions.\n",
      "Intel MKL WARNING: Support of Intel(R) Streaming SIMD Extensions 4.2 (Intel(R) SSE4.2) enabled only processors has been deprecated. Intel oneAPI Math Kernel Library 2025.0 will require Intel(R) Advanced Vector Extensions (Intel(R) AVX) instructions.\n",
      "Intel MKL WARNING: Support of Intel(R) Streaming SIMD Extensions 4.2 (Intel(R) SSE4.2) enabled only processors has been deprecated. Intel oneAPI Math Kernel Library 2025.0 will require Intel(R) Advanced Vector Extensions (Intel(R) AVX) instructions.\n",
      "Intel MKL WARNING: Support of Intel(R) Streaming SIMD Extensions 4.2 (Intel(R) SSE4.2) enabled only processors has been deprecated. Intel oneAPI Math Kernel Library 2025.0 will require Intel(R) Advanced Vector Extensions (Intel(R) AVX) instructions.\n",
      "Intel MKL WARNING: Support of Intel(R) Streaming SIMD Extensions 4.2 (Intel(R) SSE4.2) enabled only processors has been deprecated. Intel oneAPI Math Kernel Library 2025.0 will require Intel(R) Advanced Vector Extensions (Intel(R) AVX) instructions.\n",
      "Intel MKL WARNING: Support of Intel(R) Streaming SIMD Extensions 4.2 (Intel(R) SSE4.2) enabled only processors has been deprecated. Intel oneAPI Math Kernel Library 2025.0 will require Intel(R) Advanced Vector Extensions (Intel(R) AVX) instructions.\n",
      "Intel MKL WARNING: Support of Intel(R) Streaming SIMD Extensions 4.2 (Intel(R) SSE4.2) enabled only processors has been deprecated. Intel oneAPI Math Kernel Library 2025.0 will require Intel(R) Advanced Vector Extensions (Intel(R) AVX) instructions.\n",
      "Intel MKL WARNING: Support of Intel(R) Streaming SIMD Extensions 4.2 (Intel(R) SSE4.2) enabled only processors has been deprecated. Intel oneAPI Math Kernel Library 2025.0 will require Intel(R) Advanced Vector Extensions (Intel(R) AVX) instructions.\n",
      "Intel MKL WARNING: Support of Intel(R) Streaming SIMD Extensions 4.2 (Intel(R) SSE4.2) enabled only processors has been deprecated. Intel oneAPI Math Kernel Library 2025.0 will require Intel(R) Advanced Vector Extensions (Intel(R) AVX) instructions.\n",
      "Intel MKL WARNING: Support of Intel(R) Streaming SIMD Extensions 4.2 (Intel(R) SSE4.2) enabled only processors has been deprecated. Intel oneAPI Math Kernel Library 2025.0 will require Intel(R) Advanced Vector Extensions (Intel(R) AVX) instructions.\n",
      "Intel MKL WARNING: Support of Intel(R) Streaming SIMD Extensions 4.2 (Intel(R) SSE4.2) enabled only processors has been deprecated. Intel oneAPI Math Kernel Library 2025.0 will require Intel(R) Advanced Vector Extensions (Intel(R) AVX) instructions.\n",
      "Intel MKL WARNING: Support of Intel(R) Streaming SIMD Extensions 4.2 (Intel(R) SSE4.2) enabled only processors has been deprecated. Intel oneAPI Math Kernel Library 2025.0 will require Intel(R) Advanced Vector Extensions (Intel(R) AVX) instructions.\n",
      "Intel MKL WARNING: Support of Intel(R) Streaming SIMD Extensions 4.2 (Intel(R) SSE4.2) enabled only processors has been deprecated. Intel oneAPI Math Kernel Library 2025.0 will require Intel(R) Advanced Vector Extensions (Intel(R) AVX) instructions.\n",
      "Intel MKL WARNING: Support of Intel(R) Streaming SIMD Extensions 4.2 (Intel(R) SSE4.2) enabled only processors has been deprecated. Intel oneAPI Math Kernel Library 2025.0 will require Intel(R) Advanced Vector Extensions (Intel(R) AVX) instructions.\n",
      "Intel MKL WARNING: Support of Intel(R) Streaming SIMD Extensions 4.2 (Intel(R) SSE4.2) enabled only processors has been deprecated. Intel oneAPI Math Kernel Library 2025.0 will require Intel(R) Advanced Vector Extensions (Intel(R) AVX) instructions.\n",
      "Intel MKL WARNING: Support of Intel(R) Streaming SIMD Extensions 4.2 (Intel(R) SSE4.2) enabled only processors has been deprecated. Intel oneAPI Math Kernel Library 2025.0 will require Intel(R) Advanced Vector Extensions (Intel(R) AVX) instructions.\n",
      "Intel MKL WARNING: Support of Intel(R) Streaming SIMD Extensions 4.2 (Intel(R) SSE4.2) enabled only processors has been deprecated. Intel oneAPI Math Kernel Library 2025.0 will require Intel(R) Advanced Vector Extensions (Intel(R) AVX) instructions.\n",
      "Intel MKL WARNING: Support of Intel(R) Streaming SIMD Extensions 4.2 (Intel(R) SSE4.2) enabled only processors has been deprecated. Intel oneAPI Math Kernel Library 2025.0 will require Intel(R) Advanced Vector Extensions (Intel(R) AVX) instructions.\n",
      "Intel MKL WARNING: Support of Intel(R) Streaming SIMD Extensions 4.2 (Intel(R) SSE4.2) enabled only processors has been deprecated. Intel oneAPI Math Kernel Library 2025.0 will require Intel(R) Advanced Vector Extensions (Intel(R) AVX) instructions.\n",
      "Intel MKL WARNING: Support of Intel(R) Streaming SIMD Extensions 4.2 (Intel(R) SSE4.2) enabled only processors has been deprecated. Intel oneAPI Math Kernel Library 2025.0 will require Intel(R) Advanced Vector Extensions (Intel(R) AVX) instructions.\n",
      "Intel MKL WARNING: Support of Intel(R) Streaming SIMD Extensions 4.2 (Intel(R) SSE4.2) enabled only processors has been deprecated. Intel oneAPI Math Kernel Library 2025.0 will require Intel(R) Advanced Vector Extensions (Intel(R) AVX) instructions.\n",
      "Intel MKL WARNING: Support of Intel(R) Streaming SIMD Extensions 4.2 (Intel(R) SSE4.2) enabled only processors has been deprecated. Intel oneAPI Math Kernel Library 2025.0 will require Intel(R) Advanced Vector Extensions (Intel(R) AVX) instructions.\n",
      "Intel MKL WARNING: Support of Intel(R) Streaming SIMD Extensions 4.2 (Intel(R) SSE4.2) enabled only processors has been deprecated. Intel oneAPI Math Kernel Library 2025.0 will require Intel(R) Advanced Vector Extensions (Intel(R) AVX) instructions.\n",
      "Intel MKL WARNING: Support of Intel(R) Streaming SIMD Extensions 4.2 (Intel(R) SSE4.2) enabled only processors has been deprecated. Intel oneAPI Math Kernel Library 2025.0 will require Intel(R) Advanced Vector Extensions (Intel(R) AVX) instructions.\n",
      "Intel MKL WARNING: Support of Intel(R) Streaming SIMD Extensions 4.2 (Intel(R) SSE4.2) enabled only processors has been deprecated. Intel oneAPI Math Kernel Library 2025.0 will require Intel(R) Advanced Vector Extensions (Intel(R) AVX) instructions.\n",
      "Intel MKL WARNING: Support of Intel(R) Streaming SIMD Extensions 4.2 (Intel(R) SSE4.2) enabled only processors has been deprecated. Intel oneAPI Math Kernel Library 2025.0 will require Intel(R) Advanced Vector Extensions (Intel(R) AVX) instructions.\n",
      "Intel MKL WARNING: Support of Intel(R) Streaming SIMD Extensions 4.2 (Intel(R) SSE4.2) enabled only processors has been deprecated. Intel oneAPI Math Kernel Library 2025.0 will require Intel(R) Advanced Vector Extensions (Intel(R) AVX) instructions.\n",
      "Intel MKL WARNING: Support of Intel(R) Streaming SIMD Extensions 4.2 (Intel(R) SSE4.2) enabled only processors has been deprecated. Intel oneAPI Math Kernel Library 2025.0 will require Intel(R) Advanced Vector Extensions (Intel(R) AVX) instructions.\n",
      "Intel MKL WARNING: Support of Intel(R) Streaming SIMD Extensions 4.2 (Intel(R) SSE4.2) enabled only processors has been deprecated. Intel oneAPI Math Kernel Library 2025.0 will require Intel(R) Advanced Vector Extensions (Intel(R) AVX) instructions.\n",
      "Intel MKL WARNING: Support of Intel(R) Streaming SIMD Extensions 4.2 (Intel(R) SSE4.2) enabled only processors has been deprecated. Intel oneAPI Math Kernel Library 2025.0 will require Intel(R) Advanced Vector Extensions (Intel(R) AVX) instructions.\n",
      "Intel MKL WARNING: Support of Intel(R) Streaming SIMD Extensions 4.2 (Intel(R) SSE4.2) enabled only processors has been deprecated. Intel oneAPI Math Kernel Library 2025.0 will require Intel(R) Advanced Vector Extensions (Intel(R) AVX) instructions.\n",
      "Intel MKL WARNING: Support of Intel(R) Streaming SIMD Extensions 4.2 (Intel(R) SSE4.2) enabled only processors has been deprecated. Intel oneAPI Math Kernel Library 2025.0 will require Intel(R) Advanced Vector Extensions (Intel(R) AVX) instructions.\n",
      "Intel MKL WARNING: Support of Intel(R) Streaming SIMD Extensions 4.2 (Intel(R) SSE4.2) enabled only processors has been deprecated. Intel oneAPI Math Kernel Library 2025.0 will require Intel(R) Advanced Vector Extensions (Intel(R) AVX) instructions.\n",
      "Intel MKL WARNING: Support of Intel(R) Streaming SIMD Extensions 4.2 (Intel(R) SSE4.2) enabled only processors has been deprecated. Intel oneAPI Math Kernel Library 2025.0 will require Intel(R) Advanced Vector Extensions (Intel(R) AVX) instructions.\n",
      "Intel MKL WARNING: Support of Intel(R) Streaming SIMD Extensions 4.2 (Intel(R) SSE4.2) enabled only processors has been deprecated. Intel oneAPI Math Kernel Library 2025.0 will require Intel(R) Advanced Vector Extensions (Intel(R) AVX) instructions.\n",
      "Intel MKL WARNING: Support of Intel(R) Streaming SIMD Extensions 4.2 (Intel(R) SSE4.2) enabled only processors has been deprecated. Intel oneAPI Math Kernel Library 2025.0 will require Intel(R) Advanced Vector Extensions (Intel(R) AVX) instructions.\n",
      "Intel MKL WARNING: Support of Intel(R) Streaming SIMD Extensions 4.2 (Intel(R) SSE4.2) enabled only processors has been deprecated. Intel oneAPI Math Kernel Library 2025.0 will require Intel(R) Advanced Vector Extensions (Intel(R) AVX) instructions.\n",
      "Intel MKL WARNING: Support of Intel(R) Streaming SIMD Extensions 4.2 (Intel(R) SSE4.2) enabled only processors has been deprecated. Intel oneAPI Math Kernel Library 2025.0 will require Intel(R) Advanced Vector Extensions (Intel(R) AVX) instructions.\n",
      "Intel MKL WARNING: Support of Intel(R) Streaming SIMD Extensions 4.2 (Intel(R) SSE4.2) enabled only processors has been deprecated. Intel oneAPI Math Kernel Library 2025.0 will require Intel(R) Advanced Vector Extensions (Intel(R) AVX) instructions.\n",
      "Intel MKL WARNING: Support of Intel(R) Streaming SIMD Extensions 4.2 (Intel(R) SSE4.2) enabled only processors has been deprecated. Intel oneAPI Math Kernel Library 2025.0 will require Intel(R) Advanced Vector Extensions (Intel(R) AVX) instructions.\n",
      "Intel MKL WARNING: Support of Intel(R) Streaming SIMD Extensions 4.2 (Intel(R) SSE4.2) enabled only processors has been deprecated. Intel oneAPI Math Kernel Library 2025.0 will require Intel(R) Advanced Vector Extensions (Intel(R) AVX) instructions.\n",
      "Intel MKL WARNING: Support of Intel(R) Streaming SIMD Extensions 4.2 (Intel(R) SSE4.2) enabled only processors has been deprecated. Intel oneAPI Math Kernel Library 2025.0 will require Intel(R) Advanced Vector Extensions (Intel(R) AVX) instructions.\n",
      "Intel MKL WARNING: Support of Intel(R) Streaming SIMD Extensions 4.2 (Intel(R) SSE4.2) enabled only processors has been deprecated. Intel oneAPI Math Kernel Library 2025.0 will require Intel(R) Advanced Vector Extensions (Intel(R) AVX) instructions.\n",
      "Intel MKL WARNING: Support of Intel(R) Streaming SIMD Extensions 4.2 (Intel(R) SSE4.2) enabled only processors has been deprecated. Intel oneAPI Math Kernel Library 2025.0 will require Intel(R) Advanced Vector Extensions (Intel(R) AVX) instructions.\n",
      "Intel MKL WARNING: Support of Intel(R) Streaming SIMD Extensions 4.2 (Intel(R) SSE4.2) enabled only processors has been deprecated. Intel oneAPI Math Kernel Library 2025.0 will require Intel(R) Advanced Vector Extensions (Intel(R) AVX) instructions.\n",
      "Intel MKL WARNING: Support of Intel(R) Streaming SIMD Extensions 4.2 (Intel(R) SSE4.2) enabled only processors has been deprecated. Intel oneAPI Math Kernel Library 2025.0 will require Intel(R) Advanced Vector Extensions (Intel(R) AVX) instructions.\n",
      "Intel MKL WARNING: Support of Intel(R) Streaming SIMD Extensions 4.2 (Intel(R) SSE4.2) enabled only processors has been deprecated. Intel oneAPI Math Kernel Library 2025.0 will require Intel(R) Advanced Vector Extensions (Intel(R) AVX) instructions.\n",
      "Intel MKL WARNING: Support of Intel(R) Streaming SIMD Extensions 4.2 (Intel(R) SSE4.2) enabled only processors has been deprecated. Intel oneAPI Math Kernel Library 2025.0 will require Intel(R) Advanced Vector Extensions (Intel(R) AVX) instructions.\n",
      "Intel MKL WARNING: Support of Intel(R) Streaming SIMD Extensions 4.2 (Intel(R) SSE4.2) enabled only processors has been deprecated. Intel oneAPI Math Kernel Library 2025.0 will require Intel(R) Advanced Vector Extensions (Intel(R) AVX) instructions.\n",
      "Intel MKL WARNING: Support of Intel(R) Streaming SIMD Extensions 4.2 (Intel(R) SSE4.2) enabled only processors has been deprecated. Intel oneAPI Math Kernel Library 2025.0 will require Intel(R) Advanced Vector Extensions (Intel(R) AVX) instructions.\n",
      "Intel MKL WARNING: Support of Intel(R) Streaming SIMD Extensions 4.2 (Intel(R) SSE4.2) enabled only processors has been deprecated. Intel oneAPI Math Kernel Library 2025.0 will require Intel(R) Advanced Vector Extensions (Intel(R) AVX) instructions.\n",
      "Intel MKL WARNING: Support of Intel(R) Streaming SIMD Extensions 4.2 (Intel(R) SSE4.2) enabled only processors has been deprecated. Intel oneAPI Math Kernel Library 2025.0 will require Intel(R) Advanced Vector Extensions (Intel(R) AVX) instructions.\n",
      "Intel MKL WARNING: Support of Intel(R) Streaming SIMD Extensions 4.2 (Intel(R) SSE4.2) enabled only processors has been deprecated. Intel oneAPI Math Kernel Library 2025.0 will require Intel(R) Advanced Vector Extensions (Intel(R) AVX) instructions.\n",
      "Intel MKL WARNING: Support of Intel(R) Streaming SIMD Extensions 4.2 (Intel(R) SSE4.2) enabled only processors has been deprecated. Intel oneAPI Math Kernel Library 2025.0 will require Intel(R) Advanced Vector Extensions (Intel(R) AVX) instructions.\n",
      "Intel MKL WARNING: Support of Intel(R) Streaming SIMD Extensions 4.2 (Intel(R) SSE4.2) enabled only processors has been deprecated. Intel oneAPI Math Kernel Library 2025.0 will require Intel(R) Advanced Vector Extensions (Intel(R) AVX) instructions.\n",
      "Intel MKL WARNING: Support of Intel(R) Streaming SIMD Extensions 4.2 (Intel(R) SSE4.2) enabled only processors has been deprecated. Intel oneAPI Math Kernel Library 2025.0 will require Intel(R) Advanced Vector Extensions (Intel(R) AVX) instructions.\n",
      "Intel MKL WARNING: Support of Intel(R) Streaming SIMD Extensions 4.2 (Intel(R) SSE4.2) enabled only processors has been deprecated. Intel oneAPI Math Kernel Library 2025.0 will require Intel(R) Advanced Vector Extensions (Intel(R) AVX) instructions.\n",
      "Intel MKL WARNING: Support of Intel(R) Streaming SIMD Extensions 4.2 (Intel(R) SSE4.2) enabled only processors has been deprecated. Intel oneAPI Math Kernel Library 2025.0 will require Intel(R) Advanced Vector Extensions (Intel(R) AVX) instructions.\n",
      "Intel MKL WARNING: Support of Intel(R) Streaming SIMD Extensions 4.2 (Intel(R) SSE4.2) enabled only processors has been deprecated. Intel oneAPI Math Kernel Library 2025.0 will require Intel(R) Advanced Vector Extensions (Intel(R) AVX) instructions.\n",
      "Intel MKL WARNING: Support of Intel(R) Streaming SIMD Extensions 4.2 (Intel(R) SSE4.2) enabled only processors has been deprecated. Intel oneAPI Math Kernel Library 2025.0 will require Intel(R) Advanced Vector Extensions (Intel(R) AVX) instructions.\n",
      "Intel MKL WARNING: Support of Intel(R) Streaming SIMD Extensions 4.2 (Intel(R) SSE4.2) enabled only processors has been deprecated. Intel oneAPI Math Kernel Library 2025.0 will require Intel(R) Advanced Vector Extensions (Intel(R) AVX) instructions.\n",
      "Intel MKL WARNING: Support of Intel(R) Streaming SIMD Extensions 4.2 (Intel(R) SSE4.2) enabled only processors has been deprecated. Intel oneAPI Math Kernel Library 2025.0 will require Intel(R) Advanced Vector Extensions (Intel(R) AVX) instructions.\n",
      "Intel MKL WARNING: Support of Intel(R) Streaming SIMD Extensions 4.2 (Intel(R) SSE4.2) enabled only processors has been deprecated. Intel oneAPI Math Kernel Library 2025.0 will require Intel(R) Advanced Vector Extensions (Intel(R) AVX) instructions.\n",
      "Intel MKL WARNING: Support of Intel(R) Streaming SIMD Extensions 4.2 (Intel(R) SSE4.2) enabled only processors has been deprecated. Intel oneAPI Math Kernel Library 2025.0 will require Intel(R) Advanced Vector Extensions (Intel(R) AVX) instructions.\n",
      "Intel MKL WARNING: Support of Intel(R) Streaming SIMD Extensions 4.2 (Intel(R) SSE4.2) enabled only processors has been deprecated. Intel oneAPI Math Kernel Library 2025.0 will require Intel(R) Advanced Vector Extensions (Intel(R) AVX) instructions.\n",
      "Intel MKL WARNING: Support of Intel(R) Streaming SIMD Extensions 4.2 (Intel(R) SSE4.2) enabled only processors has been deprecated. Intel oneAPI Math Kernel Library 2025.0 will require Intel(R) Advanced Vector Extensions (Intel(R) AVX) instructions.\n",
      "Intel MKL WARNING: Support of Intel(R) Streaming SIMD Extensions 4.2 (Intel(R) SSE4.2) enabled only processors has been deprecated. Intel oneAPI Math Kernel Library 2025.0 will require Intel(R) Advanced Vector Extensions (Intel(R) AVX) instructions.\n",
      "Intel MKL WARNING: Support of Intel(R) Streaming SIMD Extensions 4.2 (Intel(R) SSE4.2) enabled only processors has been deprecated. Intel oneAPI Math Kernel Library 2025.0 will require Intel(R) Advanced Vector Extensions (Intel(R) AVX) instructions.\n",
      "Intel MKL WARNING: Support of Intel(R) Streaming SIMD Extensions 4.2 (Intel(R) SSE4.2) enabled only processors has been deprecated. Intel oneAPI Math Kernel Library 2025.0 will require Intel(R) Advanced Vector Extensions (Intel(R) AVX) instructions.\n",
      "Intel MKL WARNING: Support of Intel(R) Streaming SIMD Extensions 4.2 (Intel(R) SSE4.2) enabled only processors has been deprecated. Intel oneAPI Math Kernel Library 2025.0 will require Intel(R) Advanced Vector Extensions (Intel(R) AVX) instructions.\n",
      "Intel MKL WARNING: Support of Intel(R) Streaming SIMD Extensions 4.2 (Intel(R) SSE4.2) enabled only processors has been deprecated. Intel oneAPI Math Kernel Library 2025.0 will require Intel(R) Advanced Vector Extensions (Intel(R) AVX) instructions.\n",
      "Intel MKL WARNING: Support of Intel(R) Streaming SIMD Extensions 4.2 (Intel(R) SSE4.2) enabled only processors has been deprecated. Intel oneAPI Math Kernel Library 2025.0 will require Intel(R) Advanced Vector Extensions (Intel(R) AVX) instructions.\n",
      "Intel MKL WARNING: Support of Intel(R) Streaming SIMD Extensions 4.2 (Intel(R) SSE4.2) enabled only processors has been deprecated. Intel oneAPI Math Kernel Library 2025.0 will require Intel(R) Advanced Vector Extensions (Intel(R) AVX) instructions.\n",
      "Intel MKL WARNING: Support of Intel(R) Streaming SIMD Extensions 4.2 (Intel(R) SSE4.2) enabled only processors has been deprecated. Intel oneAPI Math Kernel Library 2025.0 will require Intel(R) Advanced Vector Extensions (Intel(R) AVX) instructions.\n",
      "Intel MKL WARNING: Support of Intel(R) Streaming SIMD Extensions 4.2 (Intel(R) SSE4.2) enabled only processors has been deprecated. Intel oneAPI Math Kernel Library 2025.0 will require Intel(R) Advanced Vector Extensions (Intel(R) AVX) instructions.\n",
      "Intel MKL WARNING: Support of Intel(R) Streaming SIMD Extensions 4.2 (Intel(R) SSE4.2) enabled only processors has been deprecated. Intel oneAPI Math Kernel Library 2025.0 will require Intel(R) Advanced Vector Extensions (Intel(R) AVX) instructions.\n",
      "Intel MKL WARNING: Support of Intel(R) Streaming SIMD Extensions 4.2 (Intel(R) SSE4.2) enabled only processors has been deprecated. Intel oneAPI Math Kernel Library 2025.0 will require Intel(R) Advanced Vector Extensions (Intel(R) AVX) instructions.\n",
      "Intel MKL WARNING: Support of Intel(R) Streaming SIMD Extensions 4.2 (Intel(R) SSE4.2) enabled only processors has been deprecated. Intel oneAPI Math Kernel Library 2025.0 will require Intel(R) Advanced Vector Extensions (Intel(R) AVX) instructions.\n",
      "Intel MKL WARNING: Support of Intel(R) Streaming SIMD Extensions 4.2 (Intel(R) SSE4.2) enabled only processors has been deprecated. Intel oneAPI Math Kernel Library 2025.0 will require Intel(R) Advanced Vector Extensions (Intel(R) AVX) instructions.\n",
      "Intel MKL WARNING: Support of Intel(R) Streaming SIMD Extensions 4.2 (Intel(R) SSE4.2) enabled only processors has been deprecated. Intel oneAPI Math Kernel Library 2025.0 will require Intel(R) Advanced Vector Extensions (Intel(R) AVX) instructions.\n",
      "Intel MKL WARNING: Support of Intel(R) Streaming SIMD Extensions 4.2 (Intel(R) SSE4.2) enabled only processors has been deprecated. Intel oneAPI Math Kernel Library 2025.0 will require Intel(R) Advanced Vector Extensions (Intel(R) AVX) instructions.\n",
      "Intel MKL WARNING: Support of Intel(R) Streaming SIMD Extensions 4.2 (Intel(R) SSE4.2) enabled only processors has been deprecated. Intel oneAPI Math Kernel Library 2025.0 will require Intel(R) Advanced Vector Extensions (Intel(R) AVX) instructions.\n",
      "Intel MKL WARNING: Support of Intel(R) Streaming SIMD Extensions 4.2 (Intel(R) SSE4.2) enabled only processors has been deprecated. Intel oneAPI Math Kernel Library 2025.0 will require Intel(R) Advanced Vector Extensions (Intel(R) AVX) instructions.\n",
      "Intel MKL WARNING: Support of Intel(R) Streaming SIMD Extensions 4.2 (Intel(R) SSE4.2) enabled only processors has been deprecated. Intel oneAPI Math Kernel Library 2025.0 will require Intel(R) Advanced Vector Extensions (Intel(R) AVX) instructions.\n",
      "Intel MKL WARNING: Support of Intel(R) Streaming SIMD Extensions 4.2 (Intel(R) SSE4.2) enabled only processors has been deprecated. Intel oneAPI Math Kernel Library 2025.0 will require Intel(R) Advanced Vector Extensions (Intel(R) AVX) instructions.\n",
      "Intel MKL WARNING: Support of Intel(R) Streaming SIMD Extensions 4.2 (Intel(R) SSE4.2) enabled only processors has been deprecated. Intel oneAPI Math Kernel Library 2025.0 will require Intel(R) Advanced Vector Extensions (Intel(R) AVX) instructions.\n",
      "Intel MKL WARNING: Support of Intel(R) Streaming SIMD Extensions 4.2 (Intel(R) SSE4.2) enabled only processors has been deprecated. Intel oneAPI Math Kernel Library 2025.0 will require Intel(R) Advanced Vector Extensions (Intel(R) AVX) instructions.\n",
      "Intel MKL WARNING: Support of Intel(R) Streaming SIMD Extensions 4.2 (Intel(R) SSE4.2) enabled only processors has been deprecated. Intel oneAPI Math Kernel Library 2025.0 will require Intel(R) Advanced Vector Extensions (Intel(R) AVX) instructions.\n",
      "Intel MKL WARNING: Support of Intel(R) Streaming SIMD Extensions 4.2 (Intel(R) SSE4.2) enabled only processors has been deprecated. Intel oneAPI Math Kernel Library 2025.0 will require Intel(R) Advanced Vector Extensions (Intel(R) AVX) instructions.\n",
      "Intel MKL WARNING: Support of Intel(R) Streaming SIMD Extensions 4.2 (Intel(R) SSE4.2) enabled only processors has been deprecated. Intel oneAPI Math Kernel Library 2025.0 will require Intel(R) Advanced Vector Extensions (Intel(R) AVX) instructions.\n",
      "Intel MKL WARNING: Support of Intel(R) Streaming SIMD Extensions 4.2 (Intel(R) SSE4.2) enabled only processors has been deprecated. Intel oneAPI Math Kernel Library 2025.0 will require Intel(R) Advanced Vector Extensions (Intel(R) AVX) instructions.\n",
      "Intel MKL WARNING: Support of Intel(R) Streaming SIMD Extensions 4.2 (Intel(R) SSE4.2) enabled only processors has been deprecated. Intel oneAPI Math Kernel Library 2025.0 will require Intel(R) Advanced Vector Extensions (Intel(R) AVX) instructions.\n",
      "Intel MKL WARNING: Support of Intel(R) Streaming SIMD Extensions 4.2 (Intel(R) SSE4.2) enabled only processors has been deprecated. Intel oneAPI Math Kernel Library 2025.0 will require Intel(R) Advanced Vector Extensions (Intel(R) AVX) instructions.\n",
      "Intel MKL WARNING: Support of Intel(R) Streaming SIMD Extensions 4.2 (Intel(R) SSE4.2) enabled only processors has been deprecated. Intel oneAPI Math Kernel Library 2025.0 will require Intel(R) Advanced Vector Extensions (Intel(R) AVX) instructions.\n",
      "Intel MKL WARNING: Support of Intel(R) Streaming SIMD Extensions 4.2 (Intel(R) SSE4.2) enabled only processors has been deprecated. Intel oneAPI Math Kernel Library 2025.0 will require Intel(R) Advanced Vector Extensions (Intel(R) AVX) instructions.\n",
      "Intel MKL WARNING: Support of Intel(R) Streaming SIMD Extensions 4.2 (Intel(R) SSE4.2) enabled only processors has been deprecated. Intel oneAPI Math Kernel Library 2025.0 will require Intel(R) Advanced Vector Extensions (Intel(R) AVX) instructions.Intel MKL WARNING: Support of Intel(R) Streaming SIMD Extensions 4.2 (Intel(R) SSE4.2) enabled only processors has been deprecated. Intel oneAPI Math Kernel Library 2025.0 will require Intel(R) Advanced Vector Extensions (Intel(R) AVX) instructions.\n",
      "Intel MKL WARNING: Support of Intel(R) Streaming SIMD Extensions 4.2 (Intel(R) SSE4.2) enabled only processors has been deprecated. Intel oneAPI Math Kernel Library 2025.0 will require Intel(R) Advanced Vector Extensions (Intel(R) AVX) instructions.\n",
      "Intel MKL WARNING: Support of Intel(R) Streaming SIMD Extensions 4.2 (Intel(R) SSE4.2) enabled only processors has been deprecated. Intel oneAPI Math Kernel Library 2025.0 will require Intel(R) Advanced Vector Extensions (Intel(R) AVX) instructions.Intel MKL WARNING: Support of Intel(R) Streaming SIMD Extensions 4.2 (Intel(R) SSE4.2) enabled only processors has been deprecated. Intel oneAPI Math Kernel Library 2025.0 will require Intel(R) Advanced Vector Extensions (Intel(R) AVX) instructions.Intel MKL WARNING: Support of Intel(R) Streaming SIMD Extensions 4.2 (Intel(R) SSE4.2) enabled only processors has been deprecated. Intel oneAPI Math Kernel Library 2025.0 will require Intel(R) Advanced Vector Extensions (Intel(R) AVX) instructions.\n",
      "Intel MKL WARNING: Support of Intel(R) Streaming SIMD Extensions 4.2 (Intel(R) SSE4.2) enabled only processors has been deprecated. Intel oneAPI Math Kernel Library 2025.0 will require Intel(R) Advanced Vector Extensions (Intel(R) AVX) instructions.\n",
      "\n",
      "Intel MKL WARNING: Support of Intel(R) Streaming SIMD Extensions 4.2 (Intel(R) SSE4.2) enabled only processors has been deprecated. Intel oneAPI Math Kernel Library 2025.0 will require Intel(R) Advanced Vector Extensions (Intel(R) AVX) instructions.Intel MKL WARNING: Support of Intel(R) Streaming SIMD Extensions 4.2 (Intel(R) SSE4.2) enabled only processors has been deprecated. Intel oneAPI Math Kernel Library 2025.0 will require Intel(R) Advanced Vector Extensions (Intel(R) AVX) instructions.\n",
      "\n",
      "\n",
      "Intel MKL WARNING: Support of Intel(R) Streaming SIMD Extensions 4.2 (Intel(R) SSE4.2) enabled only processors has been deprecated. Intel oneAPI Math Kernel Library 2025.0 will require Intel(R) Advanced Vector Extensions (Intel(R) AVX) instructions.Intel MKL WARNING: Support of Intel(R) Streaming SIMD Extensions 4.2 (Intel(R) SSE4.2) enabled only processors has been deprecated. Intel oneAPI Math Kernel Library 2025.0 will require Intel(R) Advanced Vector Extensions (Intel(R) AVX) instructions.\n",
      "\n",
      "Intel MKL WARNING: Support of Intel(R) Streaming SIMD Extensions 4.2 (Intel(R) SSE4.2) enabled only processors has been deprecated. Intel oneAPI Math Kernel Library 2025.0 will require Intel(R) Advanced Vector Extensions (Intel(R) AVX) instructions.Intel MKL WARNING: Support of Intel(R) Streaming SIMD Extensions 4.2 (Intel(R) SSE4.2) enabled only processors has been deprecated. Intel oneAPI Math Kernel Library 2025.0 will require Intel(R) Advanced Vector Extensions (Intel(R) AVX) instructions.Intel MKL WARNING: Support of Intel(R) Streaming SIMD Extensions 4.2 (Intel(R) SSE4.2) enabled only processors has been deprecated. Intel oneAPI Math Kernel Library 2025.0 will require Intel(R) Advanced Vector Extensions (Intel(R) AVX) instructions.\n",
      "Intel MKL WARNING: Support of Intel(R) Streaming SIMD Extensions 4.2 (Intel(R) SSE4.2) enabled only processors has been deprecated. Intel oneAPI Math Kernel Library 2025.0 will require Intel(R) Advanced Vector Extensions (Intel(R) AVX) instructions.\n",
      "\n",
      "Intel MKL WARNING: Support of Intel(R) Streaming SIMD Extensions 4.2 (Intel(R) SSE4.2) enabled only processors has been deprecated. Intel oneAPI Math Kernel Library 2025.0 will require Intel(R) Advanced Vector Extensions (Intel(R) AVX) instructions.Intel MKL WARNING: Support of Intel(R) Streaming SIMD Extensions 4.2 (Intel(R) SSE4.2) enabled only processors has been deprecated. Intel oneAPI Math Kernel Library 2025.0 will require Intel(R) Advanced Vector Extensions (Intel(R) AVX) instructions.\n",
      "\n",
      "\n",
      "Intel MKL WARNING: Support of Intel(R) Streaming SIMD Extensions 4.2 (Intel(R) SSE4.2) enabled only processors has been deprecated. Intel oneAPI Math Kernel Library 2025.0 will require Intel(R) Advanced Vector Extensions (Intel(R) AVX) instructions.\n",
      "\n",
      "Intel MKL WARNING: Support of Intel(R) Streaming SIMD Extensions 4.2 (Intel(R) SSE4.2) enabled only processors has been deprecated. Intel oneAPI Math Kernel Library 2025.0 will require Intel(R) Advanced Vector Extensions (Intel(R) AVX) instructions.Intel MKL WARNING: Support of Intel(R) Streaming SIMD Extensions 4.2 (Intel(R) SSE4.2) enabled only processors has been deprecated. Intel oneAPI Math Kernel Library 2025.0 will require Intel(R) Advanced Vector Extensions (Intel(R) AVX) instructions.Intel MKL WARNING: Support of Intel(R) Streaming SIMD Extensions 4.2 (Intel(R) SSE4.2) enabled only processors has been deprecated. Intel oneAPI Math Kernel Library 2025.0 will require Intel(R) Advanced Vector Extensions (Intel(R) AVX) instructions.\n",
      "Intel MKL WARNING: Support of Intel(R) Streaming SIMD Extensions 4.2 (Intel(R) SSE4.2) enabled only processors has been deprecated. Intel oneAPI Math Kernel Library 2025.0 will require Intel(R) Advanced Vector Extensions (Intel(R) AVX) instructions.\n",
      "Intel MKL WARNING: Support of Intel(R) Streaming SIMD Extensions 4.2 (Intel(R) SSE4.2) enabled only processors has been deprecated. Intel oneAPI Math Kernel Library 2025.0 will require Intel(R) Advanced Vector Extensions (Intel(R) AVX) instructions.\n",
      "\n",
      "\n",
      "Intel MKL WARNING: Support of Intel(R) Streaming SIMD Extensions 4.2 (Intel(R) SSE4.2) enabled only processors has been deprecated. Intel oneAPI Math Kernel Library 2025.0 will require Intel(R) Advanced Vector Extensions (Intel(R) AVX) instructions.\n",
      "Intel MKL WARNING: Support of Intel(R) Streaming SIMD Extensions 4.2 (Intel(R) SSE4.2) enabled only processors has been deprecated. Intel oneAPI Math Kernel Library 2025.0 will require Intel(R) Advanced Vector Extensions (Intel(R) AVX) instructions.Intel MKL WARNING: Support of Intel(R) Streaming SIMD Extensions 4.2 (Intel(R) SSE4.2) enabled only processors has been deprecated. Intel oneAPI Math Kernel Library 2025.0 will require Intel(R) Advanced Vector Extensions (Intel(R) AVX) instructions.\n",
      "Intel MKL WARNING: Support of Intel(R) Streaming SIMD Extensions 4.2 (Intel(R) SSE4.2) enabled only processors has been deprecated. Intel oneAPI Math Kernel Library 2025.0 will require Intel(R) Advanced Vector Extensions (Intel(R) AVX) instructions.\n",
      "Intel MKL WARNING: Support of Intel(R) Streaming SIMD Extensions 4.2 (Intel(R) SSE4.2) enabled only processors has been deprecated. Intel oneAPI Math Kernel Library 2025.0 will require Intel(R) Advanced Vector Extensions (Intel(R) AVX) instructions.\n",
      "Intel MKL WARNING: Support of Intel(R) Streaming SIMD Extensions 4.2 (Intel(R) SSE4.2) enabled only processors has been deprecated. Intel oneAPI Math Kernel Library 2025.0 will require Intel(R) Advanced Vector Extensions (Intel(R) AVX) instructions.\n",
      "Intel MKL WARNING: Support of Intel(R) Streaming SIMD Extensions 4.2 (Intel(R) SSE4.2) enabled only processors has been deprecated. Intel oneAPI Math Kernel Library 2025.0 will require Intel(R) Advanced Vector Extensions (Intel(R) AVX) instructions.\n",
      "Intel MKL WARNING: Support of Intel(R) Streaming SIMD Extensions 4.2 (Intel(R) SSE4.2) enabled only processors has been deprecated. Intel oneAPI Math Kernel Library 2025.0 will require Intel(R) Advanced Vector Extensions (Intel(R) AVX) instructions.\n",
      "Intel MKL WARNING: Support of Intel(R) Streaming SIMD Extensions 4.2 (Intel(R) SSE4.2) enabled only processors has been deprecated. Intel oneAPI Math Kernel Library 2025.0 will require Intel(R) Advanced Vector Extensions (Intel(R) AVX) instructions.Intel MKL WARNING: Support of Intel(R) Streaming SIMD Extensions 4.2 (Intel(R) SSE4.2) enabled only processors has been deprecated. Intel oneAPI Math Kernel Library 2025.0 will require Intel(R) Advanced Vector Extensions (Intel(R) AVX) instructions.\n",
      "\n",
      "\n",
      "Intel MKL WARNING: Support of Intel(R) Streaming SIMD Extensions 4.2 (Intel(R) SSE4.2) enabled only processors has been deprecated. Intel oneAPI Math Kernel Library 2025.0 will require Intel(R) Advanced Vector Extensions (Intel(R) AVX) instructions.Intel MKL WARNING: Support of Intel(R) Streaming SIMD Extensions 4.2 (Intel(R) SSE4.2) enabled only processors has been deprecated. Intel oneAPI Math Kernel Library 2025.0 will require Intel(R) Advanced Vector Extensions (Intel(R) AVX) instructions.Intel MKL WARNING: Support of Intel(R) Streaming SIMD Extensions 4.2 (Intel(R) SSE4.2) enabled only processors has been deprecated. Intel oneAPI Math Kernel Library 2025.0 will require Intel(R) Advanced Vector Extensions (Intel(R) AVX) instructions.Intel MKL WARNING: Support of Intel(R) Streaming SIMD Extensions 4.2 (Intel(R) SSE4.2) enabled only processors has been deprecated. Intel oneAPI Math Kernel Library 2025.0 will require Intel(R) Advanced Vector Extensions (Intel(R) AVX) instructions.\n",
      "\n",
      "Intel MKL WARNING: Support of Intel(R) Streaming SIMD Extensions 4.2 (Intel(R) SSE4.2) enabled only processors has been deprecated. Intel oneAPI Math Kernel Library 2025.0 will require Intel(R) Advanced Vector Extensions (Intel(R) AVX) instructions.\n",
      "Intel MKL WARNING: Support of Intel(R) Streaming SIMD Extensions 4.2 (Intel(R) SSE4.2) enabled only processors has been deprecated. Intel oneAPI Math Kernel Library 2025.0 will require Intel(R) Advanced Vector Extensions (Intel(R) AVX) instructions.\n",
      "Intel MKL WARNING: Support of Intel(R) Streaming SIMD Extensions 4.2 (Intel(R) SSE4.2) enabled only processors has been deprecated. Intel oneAPI Math Kernel Library 2025.0 will require Intel(R) Advanced Vector Extensions (Intel(R) AVX) instructions.\n",
      "Intel MKL WARNING: Support of Intel(R) Streaming SIMD Extensions 4.2 (Intel(R) SSE4.2) enabled only processors has been deprecated. Intel oneAPI Math Kernel Library 2025.0 will require Intel(R) Advanced Vector Extensions (Intel(R) AVX) instructions.\n",
      "\n",
      "Intel MKL WARNING: Support of Intel(R) Streaming SIMD Extensions 4.2 (Intel(R) SSE4.2) enabled only processors has been deprecated. Intel oneAPI Math Kernel Library 2025.0 will require Intel(R) Advanced Vector Extensions (Intel(R) AVX) instructions.\n",
      "Intel MKL WARNING: Support of Intel(R) Streaming SIMD Extensions 4.2 (Intel(R) SSE4.2) enabled only processors has been deprecated. Intel oneAPI Math Kernel Library 2025.0 will require Intel(R) Advanced Vector Extensions (Intel(R) AVX) instructions.\n",
      "Intel MKL WARNING: Support of Intel(R) Streaming SIMD Extensions 4.2 (Intel(R) SSE4.2) enabled only processors has been deprecated. Intel oneAPI Math Kernel Library 2025.0 will require Intel(R) Advanced Vector Extensions (Intel(R) AVX) instructions.Intel MKL WARNING: Support of Intel(R) Streaming SIMD Extensions 4.2 (Intel(R) SSE4.2) enabled only processors has been deprecated. Intel oneAPI Math Kernel Library 2025.0 will require Intel(R) Advanced Vector Extensions (Intel(R) AVX) instructions.\n",
      "\n",
      "Intel MKL WARNING: Support of Intel(R) Streaming SIMD Extensions 4.2 (Intel(R) SSE4.2) enabled only processors has been deprecated. Intel oneAPI Math Kernel Library 2025.0 will require Intel(R) Advanced Vector Extensions (Intel(R) AVX) instructions.Intel MKL WARNING: Support of Intel(R) Streaming SIMD Extensions 4.2 (Intel(R) SSE4.2) enabled only processors has been deprecated. Intel oneAPI Math Kernel Library 2025.0 will require Intel(R) Advanced Vector Extensions (Intel(R) AVX) instructions.\n",
      "\n",
      "\n",
      "Intel MKL WARNING: Support of Intel(R) Streaming SIMD Extensions 4.2 (Intel(R) SSE4.2) enabled only processors has been deprecated. Intel oneAPI Math Kernel Library 2025.0 will require Intel(R) Advanced Vector Extensions (Intel(R) AVX) instructions.Intel MKL WARNING: Support of Intel(R) Streaming SIMD Extensions 4.2 (Intel(R) SSE4.2) enabled only processors has been deprecated. Intel oneAPI Math Kernel Library 2025.0 will require Intel(R) Advanced Vector Extensions (Intel(R) AVX) instructions.\n",
      "Intel MKL WARNING: Support of Intel(R) Streaming SIMD Extensions 4.2 (Intel(R) SSE4.2) enabled only processors has been deprecated. Intel oneAPI Math Kernel Library 2025.0 will require Intel(R) Advanced Vector Extensions (Intel(R) AVX) instructions.Intel MKL WARNING: Support of Intel(R) Streaming SIMD Extensions 4.2 (Intel(R) SSE4.2) enabled only processors has been deprecated. Intel oneAPI Math Kernel Library 2025.0 will require Intel(R) Advanced Vector Extensions (Intel(R) AVX) instructions.\n",
      "Intel MKL WARNING: Support of Intel(R) Streaming SIMD Extensions 4.2 (Intel(R) SSE4.2) enabled only processors has been deprecated. Intel oneAPI Math Kernel Library 2025.0 will require Intel(R) Advanced Vector Extensions (Intel(R) AVX) instructions.Intel MKL WARNING: Support of Intel(R) Streaming SIMD Extensions 4.2 (Intel(R) SSE4.2) enabled only processors has been deprecated. Intel oneAPI Math Kernel Library 2025.0 will require Intel(R) Advanced Vector Extensions (Intel(R) AVX) instructions.Intel MKL WARNING: Support of Intel(R) Streaming SIMD Extensions 4.2 (Intel(R) SSE4.2) enabled only processors has been deprecated. Intel oneAPI Math Kernel Library 2025.0 will require Intel(R) Advanced Vector Extensions (Intel(R) AVX) instructions.\n",
      "\n",
      "\n",
      "Intel MKL WARNING: Support of Intel(R) Streaming SIMD Extensions 4.2 (Intel(R) SSE4.2) enabled only processors has been deprecated. Intel oneAPI Math Kernel Library 2025.0 will require Intel(R) Advanced Vector Extensions (Intel(R) AVX) instructions.\n",
      "Intel MKL WARNING: Support of Intel(R) Streaming SIMD Extensions 4.2 (Intel(R) SSE4.2) enabled only processors has been deprecated. Intel oneAPI Math Kernel Library 2025.0 will require Intel(R) Advanced Vector Extensions (Intel(R) AVX) instructions.\n",
      "\n",
      "Intel MKL WARNING: Support of Intel(R) Streaming SIMD Extensions 4.2 (Intel(R) SSE4.2) enabled only processors has been deprecated. Intel oneAPI Math Kernel Library 2025.0 will require Intel(R) Advanced Vector Extensions (Intel(R) AVX) instructions.Intel MKL WARNING: Support of Intel(R) Streaming SIMD Extensions 4.2 (Intel(R) SSE4.2) enabled only processors has been deprecated. Intel oneAPI Math Kernel Library 2025.0 will require Intel(R) Advanced Vector Extensions (Intel(R) AVX) instructions.\n",
      "Intel MKL WARNING: Support of Intel(R) Streaming SIMD Extensions 4.2 (Intel(R) SSE4.2) enabled only processors has been deprecated. Intel oneAPI Math Kernel Library 2025.0 will require Intel(R) Advanced Vector Extensions (Intel(R) AVX) instructions.Intel MKL WARNING: Support of Intel(R) Streaming SIMD Extensions 4.2 (Intel(R) SSE4.2) enabled only processors has been deprecated. Intel oneAPI Math Kernel Library 2025.0 will require Intel(R) Advanced Vector Extensions (Intel(R) AVX) instructions.Intel MKL WARNING: Support of Intel(R) Streaming SIMD Extensions 4.2 (Intel(R) SSE4.2) enabled only processors has been deprecated. Intel oneAPI Math Kernel Library 2025.0 will require Intel(R) Advanced Vector Extensions (Intel(R) AVX) instructions.Intel MKL WARNING: Support of Intel(R) Streaming SIMD Extensions 4.2 (Intel(R) SSE4.2) enabled only processors has been deprecated. Intel oneAPI Math Kernel Library 2025.0 will require Intel(R) Advanced Vector Extensions (Intel(R) AVX) instructions.\n",
      "\n",
      "\n",
      "Intel MKL WARNING: Support of Intel(R) Streaming SIMD Extensions 4.2 (Intel(R) SSE4.2) enabled only processors has been deprecated. Intel oneAPI Math Kernel Library 2025.0 will require Intel(R) Advanced Vector Extensions (Intel(R) AVX) instructions.\n",
      "\n",
      "\n",
      "Intel MKL WARNING: Support of Intel(R) Streaming SIMD Extensions 4.2 (Intel(R) SSE4.2) enabled only processors has been deprecated. Intel oneAPI Math Kernel Library 2025.0 will require Intel(R) Advanced Vector Extensions (Intel(R) AVX) instructions.\n",
      "Intel MKL WARNING: Support of Intel(R) Streaming SIMD Extensions 4.2 (Intel(R) SSE4.2) enabled only processors has been deprecated. Intel oneAPI Math Kernel Library 2025.0 will require Intel(R) Advanced Vector Extensions (Intel(R) AVX) instructions.\n",
      "Intel MKL WARNING: Support of Intel(R) Streaming SIMD Extensions 4.2 (Intel(R) SSE4.2) enabled only processors has been deprecated. Intel oneAPI Math Kernel Library 2025.0 will require Intel(R) Advanced Vector Extensions (Intel(R) AVX) instructions.\n",
      "Intel MKL WARNING: Support of Intel(R) Streaming SIMD Extensions 4.2 (Intel(R) SSE4.2) enabled only processors has been deprecated. Intel oneAPI Math Kernel Library 2025.0 will require Intel(R) Advanced Vector Extensions (Intel(R) AVX) instructions.\n",
      "Intel MKL WARNING: Support of Intel(R) Streaming SIMD Extensions 4.2 (Intel(R) SSE4.2) enabled only processors has been deprecated. Intel oneAPI Math Kernel Library 2025.0 will require Intel(R) Advanced Vector Extensions (Intel(R) AVX) instructions.Intel MKL WARNING: Support of Intel(R) Streaming SIMD Extensions 4.2 (Intel(R) SSE4.2) enabled only processors has been deprecated. Intel oneAPI Math Kernel Library 2025.0 will require Intel(R) Advanced Vector Extensions (Intel(R) AVX) instructions.\n",
      "\n",
      "Intel MKL WARNING: Support of Intel(R) Streaming SIMD Extensions 4.2 (Intel(R) SSE4.2) enabled only processors has been deprecated. Intel oneAPI Math Kernel Library 2025.0 will require Intel(R) Advanced Vector Extensions (Intel(R) AVX) instructions.\n",
      "Intel MKL WARNING: Support of Intel(R) Streaming SIMD Extensions 4.2 (Intel(R) SSE4.2) enabled only processors has been deprecated. Intel oneAPI Math Kernel Library 2025.0 will require Intel(R) Advanced Vector Extensions (Intel(R) AVX) instructions.\n",
      "Intel MKL WARNING: Support of Intel(R) Streaming SIMD Extensions 4.2 (Intel(R) SSE4.2) enabled only processors has been deprecated. Intel oneAPI Math Kernel Library 2025.0 will require Intel(R) Advanced Vector Extensions (Intel(R) AVX) instructions.\n",
      "Intel MKL WARNING: Support of Intel(R) Streaming SIMD Extensions 4.2 (Intel(R) SSE4.2) enabled only processors has been deprecated. Intel oneAPI Math Kernel Library 2025.0 will require Intel(R) Advanced Vector Extensions (Intel(R) AVX) instructions.\n",
      "\n",
      "Intel MKL WARNING: Support of Intel(R) Streaming SIMD Extensions 4.2 (Intel(R) SSE4.2) enabled only processors has been deprecated. Intel oneAPI Math Kernel Library 2025.0 will require Intel(R) Advanced Vector Extensions (Intel(R) AVX) instructions.\n",
      "Intel MKL WARNING: Support of Intel(R) Streaming SIMD Extensions 4.2 (Intel(R) SSE4.2) enabled only processors has been deprecated. Intel oneAPI Math Kernel Library 2025.0 will require Intel(R) Advanced Vector Extensions (Intel(R) AVX) instructions.Intel MKL WARNING: Support of Intel(R) Streaming SIMD Extensions 4.2 (Intel(R) SSE4.2) enabled only processors has been deprecated. Intel oneAPI Math Kernel Library 2025.0 will require Intel(R) Advanced Vector Extensions (Intel(R) AVX) instructions.\n",
      "Intel MKL WARNING: Support of Intel(R) Streaming SIMD Extensions 4.2 (Intel(R) SSE4.2) enabled only processors has been deprecated. Intel oneAPI Math Kernel Library 2025.0 will require Intel(R) Advanced Vector Extensions (Intel(R) AVX) instructions.\n",
      "Intel MKL WARNING: Support of Intel(R) Streaming SIMD Extensions 4.2 (Intel(R) SSE4.2) enabled only processors has been deprecated. Intel oneAPI Math Kernel Library 2025.0 will require Intel(R) Advanced Vector Extensions (Intel(R) AVX) instructions.\n",
      "\n",
      "Intel MKL WARNING: Support of Intel(R) Streaming SIMD Extensions 4.2 (Intel(R) SSE4.2) enabled only processors has been deprecated. Intel oneAPI Math Kernel Library 2025.0 will require Intel(R) Advanced Vector Extensions (Intel(R) AVX) instructions.\n",
      "Intel MKL WARNING: Support of Intel(R) Streaming SIMD Extensions 4.2 (Intel(R) SSE4.2) enabled only processors has been deprecated. Intel oneAPI Math Kernel Library 2025.0 will require Intel(R) Advanced Vector Extensions (Intel(R) AVX) instructions.\n",
      "Intel MKL WARNING: Support of Intel(R) Streaming SIMD Extensions 4.2 (Intel(R) SSE4.2) enabled only processors has been deprecated. Intel oneAPI Math Kernel Library 2025.0 will require Intel(R) Advanced Vector Extensions (Intel(R) AVX) instructions.\n",
      "Intel MKL WARNING: Support of Intel(R) Streaming SIMD Extensions 4.2 (Intel(R) SSE4.2) enabled only processors has been deprecated. Intel oneAPI Math Kernel Library 2025.0 will require Intel(R) Advanced Vector Extensions (Intel(R) AVX) instructions.\n",
      "Intel MKL WARNING: Support of Intel(R) Streaming SIMD Extensions 4.2 (Intel(R) SSE4.2) enabled only processors has been deprecated. Intel oneAPI Math Kernel Library 2025.0 will require Intel(R) Advanced Vector Extensions (Intel(R) AVX) instructions.\n",
      "Intel MKL WARNING: Support of Intel(R) Streaming SIMD Extensions 4.2 (Intel(R) SSE4.2) enabled only processors has been deprecated. Intel oneAPI Math Kernel Library 2025.0 will require Intel(R) Advanced Vector Extensions (Intel(R) AVX) instructions.\n",
      "Intel MKL WARNING: Support of Intel(R) Streaming SIMD Extensions 4.2 (Intel(R) SSE4.2) enabled only processors has been deprecated. Intel oneAPI Math Kernel Library 2025.0 will require Intel(R) Advanced Vector Extensions (Intel(R) AVX) instructions.\n",
      "Intel MKL WARNING: Support of Intel(R) Streaming SIMD Extensions 4.2 (Intel(R) SSE4.2) enabled only processors has been deprecated. Intel oneAPI Math Kernel Library 2025.0 will require Intel(R) Advanced Vector Extensions (Intel(R) AVX) instructions.Intel MKL WARNING: Support of Intel(R) Streaming SIMD Extensions 4.2 (Intel(R) SSE4.2) enabled only processors has been deprecated. Intel oneAPI Math Kernel Library 2025.0 will require Intel(R) Advanced Vector Extensions (Intel(R) AVX) instructions.\n",
      "\n",
      "Intel MKL WARNING: Support of Intel(R) Streaming SIMD Extensions 4.2 (Intel(R) SSE4.2) enabled only processors has been deprecated. Intel oneAPI Math Kernel Library 2025.0 will require Intel(R) Advanced Vector Extensions (Intel(R) AVX) instructions.Intel MKL WARNING: Support of Intel(R) Streaming SIMD Extensions 4.2 (Intel(R) SSE4.2) enabled only processors has been deprecated. Intel oneAPI Math Kernel Library 2025.0 will require Intel(R) Advanced Vector Extensions (Intel(R) AVX) instructions.\n",
      "Intel MKL WARNING: Support of Intel(R) Streaming SIMD Extensions 4.2 (Intel(R) SSE4.2) enabled only processors has been deprecated. Intel oneAPI Math Kernel Library 2025.0 will require Intel(R) Advanced Vector Extensions (Intel(R) AVX) instructions.\n",
      "Intel MKL WARNING: Support of Intel(R) Streaming SIMD Extensions 4.2 (Intel(R) SSE4.2) enabled only processors has been deprecated. Intel oneAPI Math Kernel Library 2025.0 will require Intel(R) Advanced Vector Extensions (Intel(R) AVX) instructions.\n",
      "Intel MKL WARNING: Support of Intel(R) Streaming SIMD Extensions 4.2 (Intel(R) SSE4.2) enabled only processors has been deprecated. Intel oneAPI Math Kernel Library 2025.0 will require Intel(R) Advanced Vector Extensions (Intel(R) AVX) instructions.\n",
      "\n",
      "Intel MKL WARNING: Support of Intel(R) Streaming SIMD Extensions 4.2 (Intel(R) SSE4.2) enabled only processors has been deprecated. Intel oneAPI Math Kernel Library 2025.0 will require Intel(R) Advanced Vector Extensions (Intel(R) AVX) instructions.Intel MKL WARNING: Support of Intel(R) Streaming SIMD Extensions 4.2 (Intel(R) SSE4.2) enabled only processors has been deprecated. Intel oneAPI Math Kernel Library 2025.0 will require Intel(R) Advanced Vector Extensions (Intel(R) AVX) instructions.Intel MKL WARNING: Support of Intel(R) Streaming SIMD Extensions 4.2 (Intel(R) SSE4.2) enabled only processors has been deprecated. Intel oneAPI Math Kernel Library 2025.0 will require Intel(R) Advanced Vector Extensions (Intel(R) AVX) instructions.\n",
      "\n",
      "\n",
      "Intel MKL WARNING: Support of Intel(R) Streaming SIMD Extensions 4.2 (Intel(R) SSE4.2) enabled only processors has been deprecated. Intel oneAPI Math Kernel Library 2025.0 will require Intel(R) Advanced Vector Extensions (Intel(R) AVX) instructions.\n",
      "Intel MKL WARNING: Support of Intel(R) Streaming SIMD Extensions 4.2 (Intel(R) SSE4.2) enabled only processors has been deprecated. Intel oneAPI Math Kernel Library 2025.0 will require Intel(R) Advanced Vector Extensions (Intel(R) AVX) instructions.\n",
      "Intel MKL WARNING: Support of Intel(R) Streaming SIMD Extensions 4.2 (Intel(R) SSE4.2) enabled only processors has been deprecated. Intel oneAPI Math Kernel Library 2025.0 will require Intel(R) Advanced Vector Extensions (Intel(R) AVX) instructions.\n",
      "Intel MKL WARNING: Support of Intel(R) Streaming SIMD Extensions 4.2 (Intel(R) SSE4.2) enabled only processors has been deprecated. Intel oneAPI Math Kernel Library 2025.0 will require Intel(R) Advanced Vector Extensions (Intel(R) AVX) instructions.\n",
      "Intel MKL WARNING: Support of Intel(R) Streaming SIMD Extensions 4.2 (Intel(R) SSE4.2) enabled only processors has been deprecated. Intel oneAPI Math Kernel Library 2025.0 will require Intel(R) Advanced Vector Extensions (Intel(R) AVX) instructions.Intel MKL WARNING: Support of Intel(R) Streaming SIMD Extensions 4.2 (Intel(R) SSE4.2) enabled only processors has been deprecated. Intel oneAPI Math Kernel Library 2025.0 will require Intel(R) Advanced Vector Extensions (Intel(R) AVX) instructions.\n",
      "\n",
      "Intel MKL WARNING: Support of Intel(R) Streaming SIMD Extensions 4.2 (Intel(R) SSE4.2) enabled only processors has been deprecated. Intel oneAPI Math Kernel Library 2025.0 will require Intel(R) Advanced Vector Extensions (Intel(R) AVX) instructions.\n",
      "Intel MKL WARNING: Support of Intel(R) Streaming SIMD Extensions 4.2 (Intel(R) SSE4.2) enabled only processors has been deprecated. Intel oneAPI Math Kernel Library 2025.0 will require Intel(R) Advanced Vector Extensions (Intel(R) AVX) instructions.\n",
      "Intel MKL WARNING: Support of Intel(R) Streaming SIMD Extensions 4.2 (Intel(R) SSE4.2) enabled only processors has been deprecated. Intel oneAPI Math Kernel Library 2025.0 will require Intel(R) Advanced Vector Extensions (Intel(R) AVX) instructions.\n",
      "Intel MKL WARNING: Support of Intel(R) Streaming SIMD Extensions 4.2 (Intel(R) SSE4.2) enabled only processors has been deprecated. Intel oneAPI Math Kernel Library 2025.0 will require Intel(R) Advanced Vector Extensions (Intel(R) AVX) instructions.\n",
      "Intel MKL WARNING: Support of Intel(R) Streaming SIMD Extensions 4.2 (Intel(R) SSE4.2) enabled only processors has been deprecated. Intel oneAPI Math Kernel Library 2025.0 will require Intel(R) Advanced Vector Extensions (Intel(R) AVX) instructions.\n",
      "Intel MKL WARNING: Support of Intel(R) Streaming SIMD Extensions 4.2 (Intel(R) SSE4.2) enabled only processors has been deprecated. Intel oneAPI Math Kernel Library 2025.0 will require Intel(R) Advanced Vector Extensions (Intel(R) AVX) instructions.\n",
      "Intel MKL WARNING: Support of Intel(R) Streaming SIMD Extensions 4.2 (Intel(R) SSE4.2) enabled only processors has been deprecated. Intel oneAPI Math Kernel Library 2025.0 will require Intel(R) Advanced Vector Extensions (Intel(R) AVX) instructions.\n",
      "Intel MKL WARNING: Support of Intel(R) Streaming SIMD Extensions 4.2 (Intel(R) SSE4.2) enabled only processors has been deprecated. Intel oneAPI Math Kernel Library 2025.0 will require Intel(R) Advanced Vector Extensions (Intel(R) AVX) instructions.\n",
      "Intel MKL WARNING: Support of Intel(R) Streaming SIMD Extensions 4.2 (Intel(R) SSE4.2) enabled only processors has been deprecated. Intel oneAPI Math Kernel Library 2025.0 will require Intel(R) Advanced Vector Extensions (Intel(R) AVX) instructions.\n",
      "Intel MKL WARNING: Support of Intel(R) Streaming SIMD Extensions 4.2 (Intel(R) SSE4.2) enabled only processors has been deprecated. Intel oneAPI Math Kernel Library 2025.0 will require Intel(R) Advanced Vector Extensions (Intel(R) AVX) instructions.\n",
      "Intel MKL WARNING: Support of Intel(R) Streaming SIMD Extensions 4.2 (Intel(R) SSE4.2) enabled only processors has been deprecated. Intel oneAPI Math Kernel Library 2025.0 will require Intel(R) Advanced Vector Extensions (Intel(R) AVX) instructions.\n",
      "Intel MKL WARNING: Support of Intel(R) Streaming SIMD Extensions 4.2 (Intel(R) SSE4.2) enabled only processors has been deprecated. Intel oneAPI Math Kernel Library 2025.0 will require Intel(R) Advanced Vector Extensions (Intel(R) AVX) instructions.\n",
      "Intel MKL WARNING: Support of Intel(R) Streaming SIMD Extensions 4.2 (Intel(R) SSE4.2) enabled only processors has been deprecated. Intel oneAPI Math Kernel Library 2025.0 will require Intel(R) Advanced Vector Extensions (Intel(R) AVX) instructions.\n",
      "Intel MKL WARNING: Support of Intel(R) Streaming SIMD Extensions 4.2 (Intel(R) SSE4.2) enabled only processors has been deprecated. Intel oneAPI Math Kernel Library 2025.0 will require Intel(R) Advanced Vector Extensions (Intel(R) AVX) instructions.\n",
      "Intel MKL WARNING: Support of Intel(R) Streaming SIMD Extensions 4.2 (Intel(R) SSE4.2) enabled only processors has been deprecated. Intel oneAPI Math Kernel Library 2025.0 will require Intel(R) Advanced Vector Extensions (Intel(R) AVX) instructions.\n",
      "Intel MKL WARNING: Support of Intel(R) Streaming SIMD Extensions 4.2 (Intel(R) SSE4.2) enabled only processors has been deprecated. Intel oneAPI Math Kernel Library 2025.0 will require Intel(R) Advanced Vector Extensions (Intel(R) AVX) instructions.\n",
      "Intel MKL WARNING: Support of Intel(R) Streaming SIMD Extensions 4.2 (Intel(R) SSE4.2) enabled only processors has been deprecated. Intel oneAPI Math Kernel Library 2025.0 will require Intel(R) Advanced Vector Extensions (Intel(R) AVX) instructions.\n",
      "Intel MKL WARNING: Support of Intel(R) Streaming SIMD Extensions 4.2 (Intel(R) SSE4.2) enabled only processors has been deprecated. Intel oneAPI Math Kernel Library 2025.0 will require Intel(R) Advanced Vector Extensions (Intel(R) AVX) instructions.\n",
      "Intel MKL WARNING: Support of Intel(R) Streaming SIMD Extensions 4.2 (Intel(R) SSE4.2) enabled only processors has been deprecated. Intel oneAPI Math Kernel Library 2025.0 will require Intel(R) Advanced Vector Extensions (Intel(R) AVX) instructions.\n",
      "Intel MKL WARNING: Support of Intel(R) Streaming SIMD Extensions 4.2 (Intel(R) SSE4.2) enabled only processors has been deprecated. Intel oneAPI Math Kernel Library 2025.0 will require Intel(R) Advanced Vector Extensions (Intel(R) AVX) instructions.\n",
      "Intel MKL WARNING: Support of Intel(R) Streaming SIMD Extensions 4.2 (Intel(R) SSE4.2) enabled only processors has been deprecated. Intel oneAPI Math Kernel Library 2025.0 will require Intel(R) Advanced Vector Extensions (Intel(R) AVX) instructions.\n",
      "Intel MKL WARNING: Support of Intel(R) Streaming SIMD Extensions 4.2 (Intel(R) SSE4.2) enabled only processors has been deprecated. Intel oneAPI Math Kernel Library 2025.0 will require Intel(R) Advanced Vector Extensions (Intel(R) AVX) instructions.\n",
      "Intel MKL WARNING: Support of Intel(R) Streaming SIMD Extensions 4.2 (Intel(R) SSE4.2) enabled only processors has been deprecated. Intel oneAPI Math Kernel Library 2025.0 will require Intel(R) Advanced Vector Extensions (Intel(R) AVX) instructions.\n",
      "Intel MKL WARNING: Support of Intel(R) Streaming SIMD Extensions 4.2 (Intel(R) SSE4.2) enabled only processors has been deprecated. Intel oneAPI Math Kernel Library 2025.0 will require Intel(R) Advanced Vector Extensions (Intel(R) AVX) instructions.\n",
      "Intel MKL WARNING: Support of Intel(R) Streaming SIMD Extensions 4.2 (Intel(R) SSE4.2) enabled only processors has been deprecated. Intel oneAPI Math Kernel Library 2025.0 will require Intel(R) Advanced Vector Extensions (Intel(R) AVX) instructions.\n",
      "Intel MKL WARNING: Support of Intel(R) Streaming SIMD Extensions 4.2 (Intel(R) SSE4.2) enabled only processors has been deprecated. Intel oneAPI Math Kernel Library 2025.0 will require Intel(R) Advanced Vector Extensions (Intel(R) AVX) instructions.\n",
      "Intel MKL WARNING: Support of Intel(R) Streaming SIMD Extensions 4.2 (Intel(R) SSE4.2) enabled only processors has been deprecated. Intel oneAPI Math Kernel Library 2025.0 will require Intel(R) Advanced Vector Extensions (Intel(R) AVX) instructions.\n",
      "Intel MKL WARNING: Support of Intel(R) Streaming SIMD Extensions 4.2 (Intel(R) SSE4.2) enabled only processors has been deprecated. Intel oneAPI Math Kernel Library 2025.0 will require Intel(R) Advanced Vector Extensions (Intel(R) AVX) instructions.\n",
      "Intel MKL WARNING: Support of Intel(R) Streaming SIMD Extensions 4.2 (Intel(R) SSE4.2) enabled only processors has been deprecated. Intel oneAPI Math Kernel Library 2025.0 will require Intel(R) Advanced Vector Extensions (Intel(R) AVX) instructions.\n",
      "Intel MKL WARNING: Support of Intel(R) Streaming SIMD Extensions 4.2 (Intel(R) SSE4.2) enabled only processors has been deprecated. Intel oneAPI Math Kernel Library 2025.0 will require Intel(R) Advanced Vector Extensions (Intel(R) AVX) instructions.\n",
      "Intel MKL WARNING: Support of Intel(R) Streaming SIMD Extensions 4.2 (Intel(R) SSE4.2) enabled only processors has been deprecated. Intel oneAPI Math Kernel Library 2025.0 will require Intel(R) Advanced Vector Extensions (Intel(R) AVX) instructions.\n",
      "Intel MKL WARNING: Support of Intel(R) Streaming SIMD Extensions 4.2 (Intel(R) SSE4.2) enabled only processors has been deprecated. Intel oneAPI Math Kernel Library 2025.0 will require Intel(R) Advanced Vector Extensions (Intel(R) AVX) instructions.\n",
      "Intel MKL WARNING: Support of Intel(R) Streaming SIMD Extensions 4.2 (Intel(R) SSE4.2) enabled only processors has been deprecated. Intel oneAPI Math Kernel Library 2025.0 will require Intel(R) Advanced Vector Extensions (Intel(R) AVX) instructions.\n",
      "Intel MKL WARNING: Support of Intel(R) Streaming SIMD Extensions 4.2 (Intel(R) SSE4.2) enabled only processors has been deprecated. Intel oneAPI Math Kernel Library 2025.0 will require Intel(R) Advanced Vector Extensions (Intel(R) AVX) instructions.\n",
      "Intel MKL WARNING: Support of Intel(R) Streaming SIMD Extensions 4.2 (Intel(R) SSE4.2) enabled only processors has been deprecated. Intel oneAPI Math Kernel Library 2025.0 will require Intel(R) Advanced Vector Extensions (Intel(R) AVX) instructions.\n",
      "Intel MKL WARNING: Support of Intel(R) Streaming SIMD Extensions 4.2 (Intel(R) SSE4.2) enabled only processors has been deprecated. Intel oneAPI Math Kernel Library 2025.0 will require Intel(R) Advanced Vector Extensions (Intel(R) AVX) instructions.\n",
      "Intel MKL WARNING: Support of Intel(R) Streaming SIMD Extensions 4.2 (Intel(R) SSE4.2) enabled only processors has been deprecated. Intel oneAPI Math Kernel Library 2025.0 will require Intel(R) Advanced Vector Extensions (Intel(R) AVX) instructions.\n",
      "Intel MKL WARNING: Support of Intel(R) Streaming SIMD Extensions 4.2 (Intel(R) SSE4.2) enabled only processors has been deprecated. Intel oneAPI Math Kernel Library 2025.0 will require Intel(R) Advanced Vector Extensions (Intel(R) AVX) instructions.\n",
      "Intel MKL WARNING: Support of Intel(R) Streaming SIMD Extensions 4.2 (Intel(R) SSE4.2) enabled only processors has been deprecated. Intel oneAPI Math Kernel Library 2025.0 will require Intel(R) Advanced Vector Extensions (Intel(R) AVX) instructions.\n",
      "Intel MKL WARNING: Support of Intel(R) Streaming SIMD Extensions 4.2 (Intel(R) SSE4.2) enabled only processors has been deprecated. Intel oneAPI Math Kernel Library 2025.0 will require Intel(R) Advanced Vector Extensions (Intel(R) AVX) instructions.\n",
      "Intel MKL WARNING: Support of Intel(R) Streaming SIMD Extensions 4.2 (Intel(R) SSE4.2) enabled only processors has been deprecated. Intel oneAPI Math Kernel Library 2025.0 will require Intel(R) Advanced Vector Extensions (Intel(R) AVX) instructions.\n",
      "Intel MKL WARNING: Support of Intel(R) Streaming SIMD Extensions 4.2 (Intel(R) SSE4.2) enabled only processors has been deprecated. Intel oneAPI Math Kernel Library 2025.0 will require Intel(R) Advanced Vector Extensions (Intel(R) AVX) instructions.\n",
      "Intel MKL WARNING: Support of Intel(R) Streaming SIMD Extensions 4.2 (Intel(R) SSE4.2) enabled only processors has been deprecated. Intel oneAPI Math Kernel Library 2025.0 will require Intel(R) Advanced Vector Extensions (Intel(R) AVX) instructions.\n",
      "Intel MKL WARNING: Support of Intel(R) Streaming SIMD Extensions 4.2 (Intel(R) SSE4.2) enabled only processors has been deprecated. Intel oneAPI Math Kernel Library 2025.0 will require Intel(R) Advanced Vector Extensions (Intel(R) AVX) instructions.\n",
      "Intel MKL WARNING: Support of Intel(R) Streaming SIMD Extensions 4.2 (Intel(R) SSE4.2) enabled only processors has been deprecated. Intel oneAPI Math Kernel Library 2025.0 will require Intel(R) Advanced Vector Extensions (Intel(R) AVX) instructions.\n",
      "Intel MKL WARNING: Support of Intel(R) Streaming SIMD Extensions 4.2 (Intel(R) SSE4.2) enabled only processors has been deprecated. Intel oneAPI Math Kernel Library 2025.0 will require Intel(R) Advanced Vector Extensions (Intel(R) AVX) instructions.\n",
      "Intel MKL WARNING: Support of Intel(R) Streaming SIMD Extensions 4.2 (Intel(R) SSE4.2) enabled only processors has been deprecated. Intel oneAPI Math Kernel Library 2025.0 will require Intel(R) Advanced Vector Extensions (Intel(R) AVX) instructions.\n",
      "Intel MKL WARNING: Support of Intel(R) Streaming SIMD Extensions 4.2 (Intel(R) SSE4.2) enabled only processors has been deprecated. Intel oneAPI Math Kernel Library 2025.0 will require Intel(R) Advanced Vector Extensions (Intel(R) AVX) instructions.\n",
      "Intel MKL WARNING: Support of Intel(R) Streaming SIMD Extensions 4.2 (Intel(R) SSE4.2) enabled only processors has been deprecated. Intel oneAPI Math Kernel Library 2025.0 will require Intel(R) Advanced Vector Extensions (Intel(R) AVX) instructions.\n",
      "Intel MKL WARNING: Support of Intel(R) Streaming SIMD Extensions 4.2 (Intel(R) SSE4.2) enabled only processors has been deprecated. Intel oneAPI Math Kernel Library 2025.0 will require Intel(R) Advanced Vector Extensions (Intel(R) AVX) instructions.\n",
      "Intel MKL WARNING: Support of Intel(R) Streaming SIMD Extensions 4.2 (Intel(R) SSE4.2) enabled only processors has been deprecated. Intel oneAPI Math Kernel Library 2025.0 will require Intel(R) Advanced Vector Extensions (Intel(R) AVX) instructions.\n",
      "Intel MKL WARNING: Support of Intel(R) Streaming SIMD Extensions 4.2 (Intel(R) SSE4.2) enabled only processors has been deprecated. Intel oneAPI Math Kernel Library 2025.0 will require Intel(R) Advanced Vector Extensions (Intel(R) AVX) instructions.\n",
      "Intel MKL WARNING: Support of Intel(R) Streaming SIMD Extensions 4.2 (Intel(R) SSE4.2) enabled only processors has been deprecated. Intel oneAPI Math Kernel Library 2025.0 will require Intel(R) Advanced Vector Extensions (Intel(R) AVX) instructions.\n",
      "Intel MKL WARNING: Support of Intel(R) Streaming SIMD Extensions 4.2 (Intel(R) SSE4.2) enabled only processors has been deprecated. Intel oneAPI Math Kernel Library 2025.0 will require Intel(R) Advanced Vector Extensions (Intel(R) AVX) instructions.\n",
      "Intel MKL WARNING: Support of Intel(R) Streaming SIMD Extensions 4.2 (Intel(R) SSE4.2) enabled only processors has been deprecated. Intel oneAPI Math Kernel Library 2025.0 will require Intel(R) Advanced Vector Extensions (Intel(R) AVX) instructions.\n",
      "Intel MKL WARNING: Support of Intel(R) Streaming SIMD Extensions 4.2 (Intel(R) SSE4.2) enabled only processors has been deprecated. Intel oneAPI Math Kernel Library 2025.0 will require Intel(R) Advanced Vector Extensions (Intel(R) AVX) instructions.\n",
      "Intel MKL WARNING: Support of Intel(R) Streaming SIMD Extensions 4.2 (Intel(R) SSE4.2) enabled only processors has been deprecated. Intel oneAPI Math Kernel Library 2025.0 will require Intel(R) Advanced Vector Extensions (Intel(R) AVX) instructions.\n",
      "Intel MKL WARNING: Support of Intel(R) Streaming SIMD Extensions 4.2 (Intel(R) SSE4.2) enabled only processors has been deprecated. Intel oneAPI Math Kernel Library 2025.0 will require Intel(R) Advanced Vector Extensions (Intel(R) AVX) instructions.\n",
      "Intel MKL WARNING: Support of Intel(R) Streaming SIMD Extensions 4.2 (Intel(R) SSE4.2) enabled only processors has been deprecated. Intel oneAPI Math Kernel Library 2025.0 will require Intel(R) Advanced Vector Extensions (Intel(R) AVX) instructions.\n",
      "Intel MKL WARNING: Support of Intel(R) Streaming SIMD Extensions 4.2 (Intel(R) SSE4.2) enabled only processors has been deprecated. Intel oneAPI Math Kernel Library 2025.0 will require Intel(R) Advanced Vector Extensions (Intel(R) AVX) instructions.\n",
      "Intel MKL WARNING: Support of Intel(R) Streaming SIMD Extensions 4.2 (Intel(R) SSE4.2) enabled only processors has been deprecated. Intel oneAPI Math Kernel Library 2025.0 will require Intel(R) Advanced Vector Extensions (Intel(R) AVX) instructions.\n",
      "Intel MKL WARNING: Support of Intel(R) Streaming SIMD Extensions 4.2 (Intel(R) SSE4.2) enabled only processors has been deprecated. Intel oneAPI Math Kernel Library 2025.0 will require Intel(R) Advanced Vector Extensions (Intel(R) AVX) instructions.\n"
     ]
    },
    {
     "name": "stdout",
     "output_type": "stream",
     "text": [
      "Intel MKL WARNING: Support of Intel(R) Streaming SIMD Extensions 4.2 (Intel(R) SSE4.2) enabled only processors has been deprecated. Intel oneAPI Math Kernel Library 2025.0 will require Intel(R) Advanced Vector Extensions (Intel(R) AVX) instructions.\n",
      "Intel MKL WARNING: Support of Intel(R) Streaming SIMD Extensions 4.2 (Intel(R) SSE4.2) enabled only processors has been deprecated. Intel oneAPI Math Kernel Library 2025.0 will require Intel(R) Advanced Vector Extensions (Intel(R) AVX) instructions.\n",
      "Intel MKL WARNING: Support of Intel(R) Streaming SIMD Extensions 4.2 (Intel(R) SSE4.2) enabled only processors has been deprecated. Intel oneAPI Math Kernel Library 2025.0 will require Intel(R) Advanced Vector Extensions (Intel(R) AVX) instructions.\n",
      "Intel MKL WARNING: Support of Intel(R) Streaming SIMD Extensions 4.2 (Intel(R) SSE4.2) enabled only processors has been deprecated. Intel oneAPI Math Kernel Library 2025.0 will require Intel(R) Advanced Vector Extensions (Intel(R) AVX) instructions.\n",
      "Intel MKL WARNING: Support of Intel(R) Streaming SIMD Extensions 4.2 (Intel(R) SSE4.2) enabled only processors has been deprecated. Intel oneAPI Math Kernel Library 2025.0 will require Intel(R) Advanced Vector Extensions (Intel(R) AVX) instructions.\n",
      "Intel MKL WARNING: Support of Intel(R) Streaming SIMD Extensions 4.2 (Intel(R) SSE4.2) enabled only processors has been deprecated. Intel oneAPI Math Kernel Library 2025.0 will require Intel(R) Advanced Vector Extensions (Intel(R) AVX) instructions.\n",
      "Intel MKL WARNING: Support of Intel(R) Streaming SIMD Extensions 4.2 (Intel(R) SSE4.2) enabled only processors has been deprecated. Intel oneAPI Math Kernel Library 2025.0 will require Intel(R) Advanced Vector Extensions (Intel(R) AVX) instructions.\n",
      "Intel MKL WARNING: Support of Intel(R) Streaming SIMD Extensions 4.2 (Intel(R) SSE4.2) enabled only processors has been deprecated. Intel oneAPI Math Kernel Library 2025.0 will require Intel(R) Advanced Vector Extensions (Intel(R) AVX) instructions.\n",
      "Intel MKL WARNING: Support of Intel(R) Streaming SIMD Extensions 4.2 (Intel(R) SSE4.2) enabled only processors has been deprecated. Intel oneAPI Math Kernel Library 2025.0 will require Intel(R) Advanced Vector Extensions (Intel(R) AVX) instructions.\n",
      "Intel MKL WARNING: Support of Intel(R) Streaming SIMD Extensions 4.2 (Intel(R) SSE4.2) enabled only processors has been deprecated. Intel oneAPI Math Kernel Library 2025.0 will require Intel(R) Advanced Vector Extensions (Intel(R) AVX) instructions.\n",
      "Intel MKL WARNING: Support of Intel(R) Streaming SIMD Extensions 4.2 (Intel(R) SSE4.2) enabled only processors has been deprecated. Intel oneAPI Math Kernel Library 2025.0 will require Intel(R) Advanced Vector Extensions (Intel(R) AVX) instructions.\n",
      "Intel MKL WARNING: Support of Intel(R) Streaming SIMD Extensions 4.2 (Intel(R) SSE4.2) enabled only processors has been deprecated. Intel oneAPI Math Kernel Library 2025.0 will require Intel(R) Advanced Vector Extensions (Intel(R) AVX) instructions.\n",
      "Intel MKL WARNING: Support of Intel(R) Streaming SIMD Extensions 4.2 (Intel(R) SSE4.2) enabled only processors has been deprecated. Intel oneAPI Math Kernel Library 2025.0 will require Intel(R) Advanced Vector Extensions (Intel(R) AVX) instructions.\n",
      "Intel MKL WARNING: Support of Intel(R) Streaming SIMD Extensions 4.2 (Intel(R) SSE4.2) enabled only processors has been deprecated. Intel oneAPI Math Kernel Library 2025.0 will require Intel(R) Advanced Vector Extensions (Intel(R) AVX) instructions.\n",
      "Intel MKL WARNING: Support of Intel(R) Streaming SIMD Extensions 4.2 (Intel(R) SSE4.2) enabled only processors has been deprecated. Intel oneAPI Math Kernel Library 2025.0 will require Intel(R) Advanced Vector Extensions (Intel(R) AVX) instructions.\n",
      "Intel MKL WARNING: Support of Intel(R) Streaming SIMD Extensions 4.2 (Intel(R) SSE4.2) enabled only processors has been deprecated. Intel oneAPI Math Kernel Library 2025.0 will require Intel(R) Advanced Vector Extensions (Intel(R) AVX) instructions.\n",
      "Intel MKL WARNING: Support of Intel(R) Streaming SIMD Extensions 4.2 (Intel(R) SSE4.2) enabled only processors has been deprecated. Intel oneAPI Math Kernel Library 2025.0 will require Intel(R) Advanced Vector Extensions (Intel(R) AVX) instructions.\n",
      "Intel MKL WARNING: Support of Intel(R) Streaming SIMD Extensions 4.2 (Intel(R) SSE4.2) enabled only processors has been deprecated. Intel oneAPI Math Kernel Library 2025.0 will require Intel(R) Advanced Vector Extensions (Intel(R) AVX) instructions.\n",
      "Intel MKL WARNING: Support of Intel(R) Streaming SIMD Extensions 4.2 (Intel(R) SSE4.2) enabled only processors has been deprecated. Intel oneAPI Math Kernel Library 2025.0 will require Intel(R) Advanced Vector Extensions (Intel(R) AVX) instructions.\n",
      "Intel MKL WARNING: Support of Intel(R) Streaming SIMD Extensions 4.2 (Intel(R) SSE4.2) enabled only processors has been deprecated. Intel oneAPI Math Kernel Library 2025.0 will require Intel(R) Advanced Vector Extensions (Intel(R) AVX) instructions.\n",
      "Intel MKL WARNING: Support of Intel(R) Streaming SIMD Extensions 4.2 (Intel(R) SSE4.2) enabled only processors has been deprecated. Intel oneAPI Math Kernel Library 2025.0 will require Intel(R) Advanced Vector Extensions (Intel(R) AVX) instructions.\n",
      "Intel MKL WARNING: Support of Intel(R) Streaming SIMD Extensions 4.2 (Intel(R) SSE4.2) enabled only processors has been deprecated. Intel oneAPI Math Kernel Library 2025.0 will require Intel(R) Advanced Vector Extensions (Intel(R) AVX) instructions.\n",
      "Intel MKL WARNING: Support of Intel(R) Streaming SIMD Extensions 4.2 (Intel(R) SSE4.2) enabled only processors has been deprecated. Intel oneAPI Math Kernel Library 2025.0 will require Intel(R) Advanced Vector Extensions (Intel(R) AVX) instructions.\n",
      "Intel MKL WARNING: Support of Intel(R) Streaming SIMD Extensions 4.2 (Intel(R) SSE4.2) enabled only processors has been deprecated. Intel oneAPI Math Kernel Library 2025.0 will require Intel(R) Advanced Vector Extensions (Intel(R) AVX) instructions.\n",
      "Intel MKL WARNING: Support of Intel(R) Streaming SIMD Extensions 4.2 (Intel(R) SSE4.2) enabled only processors has been deprecated. Intel oneAPI Math Kernel Library 2025.0 will require Intel(R) Advanced Vector Extensions (Intel(R) AVX) instructions.\n",
      "Intel MKL WARNING: Support of Intel(R) Streaming SIMD Extensions 4.2 (Intel(R) SSE4.2) enabled only processors has been deprecated. Intel oneAPI Math Kernel Library 2025.0 will require Intel(R) Advanced Vector Extensions (Intel(R) AVX) instructions.\n",
      "Intel MKL WARNING: Support of Intel(R) Streaming SIMD Extensions 4.2 (Intel(R) SSE4.2) enabled only processors has been deprecated. Intel oneAPI Math Kernel Library 2025.0 will require Intel(R) Advanced Vector Extensions (Intel(R) AVX) instructions.\n",
      "Intel MKL WARNING: Support of Intel(R) Streaming SIMD Extensions 4.2 (Intel(R) SSE4.2) enabled only processors has been deprecated. Intel oneAPI Math Kernel Library 2025.0 will require Intel(R) Advanced Vector Extensions (Intel(R) AVX) instructions.\n",
      "Intel MKL WARNING: Support of Intel(R) Streaming SIMD Extensions 4.2 (Intel(R) SSE4.2) enabled only processors has been deprecated. Intel oneAPI Math Kernel Library 2025.0 will require Intel(R) Advanced Vector Extensions (Intel(R) AVX) instructions.\n",
      "Intel MKL WARNING: Support of Intel(R) Streaming SIMD Extensions 4.2 (Intel(R) SSE4.2) enabled only processors has been deprecated. Intel oneAPI Math Kernel Library 2025.0 will require Intel(R) Advanced Vector Extensions (Intel(R) AVX) instructions.\n",
      "Intel MKL WARNING: Support of Intel(R) Streaming SIMD Extensions 4.2 (Intel(R) SSE4.2) enabled only processors has been deprecated. Intel oneAPI Math Kernel Library 2025.0 will require Intel(R) Advanced Vector Extensions (Intel(R) AVX) instructions.\n",
      "Intel MKL WARNING: Support of Intel(R) Streaming SIMD Extensions 4.2 (Intel(R) SSE4.2) enabled only processors has been deprecated. Intel oneAPI Math Kernel Library 2025.0 will require Intel(R) Advanced Vector Extensions (Intel(R) AVX) instructions.\n",
      "Intel MKL WARNING: Support of Intel(R) Streaming SIMD Extensions 4.2 (Intel(R) SSE4.2) enabled only processors has been deprecated. Intel oneAPI Math Kernel Library 2025.0 will require Intel(R) Advanced Vector Extensions (Intel(R) AVX) instructions.\n",
      "Intel MKL WARNING: Support of Intel(R) Streaming SIMD Extensions 4.2 (Intel(R) SSE4.2) enabled only processors has been deprecated. Intel oneAPI Math Kernel Library 2025.0 will require Intel(R) Advanced Vector Extensions (Intel(R) AVX) instructions.\n",
      "Intel MKL WARNING: Support of Intel(R) Streaming SIMD Extensions 4.2 (Intel(R) SSE4.2) enabled only processors has been deprecated. Intel oneAPI Math Kernel Library 2025.0 will require Intel(R) Advanced Vector Extensions (Intel(R) AVX) instructions.\n",
      "Intel MKL WARNING: Support of Intel(R) Streaming SIMD Extensions 4.2 (Intel(R) SSE4.2) enabled only processors has been deprecated. Intel oneAPI Math Kernel Library 2025.0 will require Intel(R) Advanced Vector Extensions (Intel(R) AVX) instructions.\n",
      "Intel MKL WARNING: Support of Intel(R) Streaming SIMD Extensions 4.2 (Intel(R) SSE4.2) enabled only processors has been deprecated. Intel oneAPI Math Kernel Library 2025.0 will require Intel(R) Advanced Vector Extensions (Intel(R) AVX) instructions.\n",
      "Intel MKL WARNING: Support of Intel(R) Streaming SIMD Extensions 4.2 (Intel(R) SSE4.2) enabled only processors has been deprecated. Intel oneAPI Math Kernel Library 2025.0 will require Intel(R) Advanced Vector Extensions (Intel(R) AVX) instructions.\n",
      "Intel MKL WARNING: Support of Intel(R) Streaming SIMD Extensions 4.2 (Intel(R) SSE4.2) enabled only processors has been deprecated. Intel oneAPI Math Kernel Library 2025.0 will require Intel(R) Advanced Vector Extensions (Intel(R) AVX) instructions.\n",
      "Intel MKL WARNING: Support of Intel(R) Streaming SIMD Extensions 4.2 (Intel(R) SSE4.2) enabled only processors has been deprecated. Intel oneAPI Math Kernel Library 2025.0 will require Intel(R) Advanced Vector Extensions (Intel(R) AVX) instructions.\n",
      "Intel MKL WARNING: Support of Intel(R) Streaming SIMD Extensions 4.2 (Intel(R) SSE4.2) enabled only processors has been deprecated. Intel oneAPI Math Kernel Library 2025.0 will require Intel(R) Advanced Vector Extensions (Intel(R) AVX) instructions.\n",
      "Intel MKL WARNING: Support of Intel(R) Streaming SIMD Extensions 4.2 (Intel(R) SSE4.2) enabled only processors has been deprecated. Intel oneAPI Math Kernel Library 2025.0 will require Intel(R) Advanced Vector Extensions (Intel(R) AVX) instructions.\n",
      "Intel MKL WARNING: Support of Intel(R) Streaming SIMD Extensions 4.2 (Intel(R) SSE4.2) enabled only processors has been deprecated. Intel oneAPI Math Kernel Library 2025.0 will require Intel(R) Advanced Vector Extensions (Intel(R) AVX) instructions.\n",
      "Intel MKL WARNING: Support of Intel(R) Streaming SIMD Extensions 4.2 (Intel(R) SSE4.2) enabled only processors has been deprecated. Intel oneAPI Math Kernel Library 2025.0 will require Intel(R) Advanced Vector Extensions (Intel(R) AVX) instructions.\n",
      "Intel MKL WARNING: Support of Intel(R) Streaming SIMD Extensions 4.2 (Intel(R) SSE4.2) enabled only processors has been deprecated. Intel oneAPI Math Kernel Library 2025.0 will require Intel(R) Advanced Vector Extensions (Intel(R) AVX) instructions.\n",
      "Intel MKL WARNING: Support of Intel(R) Streaming SIMD Extensions 4.2 (Intel(R) SSE4.2) enabled only processors has been deprecated. Intel oneAPI Math Kernel Library 2025.0 will require Intel(R) Advanced Vector Extensions (Intel(R) AVX) instructions.\n",
      "Intel MKL WARNING: Support of Intel(R) Streaming SIMD Extensions 4.2 (Intel(R) SSE4.2) enabled only processors has been deprecated. Intel oneAPI Math Kernel Library 2025.0 will require Intel(R) Advanced Vector Extensions (Intel(R) AVX) instructions.\n",
      "Intel MKL WARNING: Support of Intel(R) Streaming SIMD Extensions 4.2 (Intel(R) SSE4.2) enabled only processors has been deprecated. Intel oneAPI Math Kernel Library 2025.0 will require Intel(R) Advanced Vector Extensions (Intel(R) AVX) instructions.\n",
      "Intel MKL WARNING: Support of Intel(R) Streaming SIMD Extensions 4.2 (Intel(R) SSE4.2) enabled only processors has been deprecated. Intel oneAPI Math Kernel Library 2025.0 will require Intel(R) Advanced Vector Extensions (Intel(R) AVX) instructions.\n",
      "Intel MKL WARNING: Support of Intel(R) Streaming SIMD Extensions 4.2 (Intel(R) SSE4.2) enabled only processors has been deprecated. Intel oneAPI Math Kernel Library 2025.0 will require Intel(R) Advanced Vector Extensions (Intel(R) AVX) instructions.\n",
      "Intel MKL WARNING: Support of Intel(R) Streaming SIMD Extensions 4.2 (Intel(R) SSE4.2) enabled only processors has been deprecated. Intel oneAPI Math Kernel Library 2025.0 will require Intel(R) Advanced Vector Extensions (Intel(R) AVX) instructions.\n",
      "Intel MKL WARNING: Support of Intel(R) Streaming SIMD Extensions 4.2 (Intel(R) SSE4.2) enabled only processors has been deprecated. Intel oneAPI Math Kernel Library 2025.0 will require Intel(R) Advanced Vector Extensions (Intel(R) AVX) instructions.\n",
      "Intel MKL WARNING: Support of Intel(R) Streaming SIMD Extensions 4.2 (Intel(R) SSE4.2) enabled only processors has been deprecated. Intel oneAPI Math Kernel Library 2025.0 will require Intel(R) Advanced Vector Extensions (Intel(R) AVX) instructions.\n",
      "Intel MKL WARNING: Support of Intel(R) Streaming SIMD Extensions 4.2 (Intel(R) SSE4.2) enabled only processors has been deprecated. Intel oneAPI Math Kernel Library 2025.0 will require Intel(R) Advanced Vector Extensions (Intel(R) AVX) instructions.\n",
      "Intel MKL WARNING: Support of Intel(R) Streaming SIMD Extensions 4.2 (Intel(R) SSE4.2) enabled only processors has been deprecated. Intel oneAPI Math Kernel Library 2025.0 will require Intel(R) Advanced Vector Extensions (Intel(R) AVX) instructions.\n",
      "Intel MKL WARNING: Support of Intel(R) Streaming SIMD Extensions 4.2 (Intel(R) SSE4.2) enabled only processors has been deprecated. Intel oneAPI Math Kernel Library 2025.0 will require Intel(R) Advanced Vector Extensions (Intel(R) AVX) instructions.\n",
      "Intel MKL WARNING: Support of Intel(R) Streaming SIMD Extensions 4.2 (Intel(R) SSE4.2) enabled only processors has been deprecated. Intel oneAPI Math Kernel Library 2025.0 will require Intel(R) Advanced Vector Extensions (Intel(R) AVX) instructions.\n",
      "Intel MKL WARNING: Support of Intel(R) Streaming SIMD Extensions 4.2 (Intel(R) SSE4.2) enabled only processors has been deprecated. Intel oneAPI Math Kernel Library 2025.0 will require Intel(R) Advanced Vector Extensions (Intel(R) AVX) instructions.\n",
      "Intel MKL WARNING: Support of Intel(R) Streaming SIMD Extensions 4.2 (Intel(R) SSE4.2) enabled only processors has been deprecated. Intel oneAPI Math Kernel Library 2025.0 will require Intel(R) Advanced Vector Extensions (Intel(R) AVX) instructions.\n",
      "Intel MKL WARNING: Support of Intel(R) Streaming SIMD Extensions 4.2 (Intel(R) SSE4.2) enabled only processors has been deprecated. Intel oneAPI Math Kernel Library 2025.0 will require Intel(R) Advanced Vector Extensions (Intel(R) AVX) instructions.\n",
      "Intel MKL WARNING: Support of Intel(R) Streaming SIMD Extensions 4.2 (Intel(R) SSE4.2) enabled only processors has been deprecated. Intel oneAPI Math Kernel Library 2025.0 will require Intel(R) Advanced Vector Extensions (Intel(R) AVX) instructions.\n",
      "Intel MKL WARNING: Support of Intel(R) Streaming SIMD Extensions 4.2 (Intel(R) SSE4.2) enabled only processors has been deprecated. Intel oneAPI Math Kernel Library 2025.0 will require Intel(R) Advanced Vector Extensions (Intel(R) AVX) instructions.\n",
      "Intel MKL WARNING: Support of Intel(R) Streaming SIMD Extensions 4.2 (Intel(R) SSE4.2) enabled only processors has been deprecated. Intel oneAPI Math Kernel Library 2025.0 will require Intel(R) Advanced Vector Extensions (Intel(R) AVX) instructions.\n",
      "Intel MKL WARNING: Support of Intel(R) Streaming SIMD Extensions 4.2 (Intel(R) SSE4.2) enabled only processors has been deprecated. Intel oneAPI Math Kernel Library 2025.0 will require Intel(R) Advanced Vector Extensions (Intel(R) AVX) instructions.\n",
      "Intel MKL WARNING: Support of Intel(R) Streaming SIMD Extensions 4.2 (Intel(R) SSE4.2) enabled only processors has been deprecated. Intel oneAPI Math Kernel Library 2025.0 will require Intel(R) Advanced Vector Extensions (Intel(R) AVX) instructions.\n",
      "Intel MKL WARNING: Support of Intel(R) Streaming SIMD Extensions 4.2 (Intel(R) SSE4.2) enabled only processors has been deprecated. Intel oneAPI Math Kernel Library 2025.0 will require Intel(R) Advanced Vector Extensions (Intel(R) AVX) instructions.\n",
      "Intel MKL WARNING: Support of Intel(R) Streaming SIMD Extensions 4.2 (Intel(R) SSE4.2) enabled only processors has been deprecated. Intel oneAPI Math Kernel Library 2025.0 will require Intel(R) Advanced Vector Extensions (Intel(R) AVX) instructions.\n",
      "Intel MKL WARNING: Support of Intel(R) Streaming SIMD Extensions 4.2 (Intel(R) SSE4.2) enabled only processors has been deprecated. Intel oneAPI Math Kernel Library 2025.0 will require Intel(R) Advanced Vector Extensions (Intel(R) AVX) instructions.\n",
      "Intel MKL WARNING: Support of Intel(R) Streaming SIMD Extensions 4.2 (Intel(R) SSE4.2) enabled only processors has been deprecated. Intel oneAPI Math Kernel Library 2025.0 will require Intel(R) Advanced Vector Extensions (Intel(R) AVX) instructions.\n",
      "Intel MKL WARNING: Support of Intel(R) Streaming SIMD Extensions 4.2 (Intel(R) SSE4.2) enabled only processors has been deprecated. Intel oneAPI Math Kernel Library 2025.0 will require Intel(R) Advanced Vector Extensions (Intel(R) AVX) instructions.\n",
      "Intel MKL WARNING: Support of Intel(R) Streaming SIMD Extensions 4.2 (Intel(R) SSE4.2) enabled only processors has been deprecated. Intel oneAPI Math Kernel Library 2025.0 will require Intel(R) Advanced Vector Extensions (Intel(R) AVX) instructions.\n",
      "Intel MKL WARNING: Support of Intel(R) Streaming SIMD Extensions 4.2 (Intel(R) SSE4.2) enabled only processors has been deprecated. Intel oneAPI Math Kernel Library 2025.0 will require Intel(R) Advanced Vector Extensions (Intel(R) AVX) instructions.\n",
      "Intel MKL WARNING: Support of Intel(R) Streaming SIMD Extensions 4.2 (Intel(R) SSE4.2) enabled only processors has been deprecated. Intel oneAPI Math Kernel Library 2025.0 will require Intel(R) Advanced Vector Extensions (Intel(R) AVX) instructions.\n",
      "Intel MKL WARNING: Support of Intel(R) Streaming SIMD Extensions 4.2 (Intel(R) SSE4.2) enabled only processors has been deprecated. Intel oneAPI Math Kernel Library 2025.0 will require Intel(R) Advanced Vector Extensions (Intel(R) AVX) instructions.\n",
      "Intel MKL WARNING: Support of Intel(R) Streaming SIMD Extensions 4.2 (Intel(R) SSE4.2) enabled only processors has been deprecated. Intel oneAPI Math Kernel Library 2025.0 will require Intel(R) Advanced Vector Extensions (Intel(R) AVX) instructions.\n",
      "Intel MKL WARNING: Support of Intel(R) Streaming SIMD Extensions 4.2 (Intel(R) SSE4.2) enabled only processors has been deprecated. Intel oneAPI Math Kernel Library 2025.0 will require Intel(R) Advanced Vector Extensions (Intel(R) AVX) instructions.\n",
      "Intel MKL WARNING: Support of Intel(R) Streaming SIMD Extensions 4.2 (Intel(R) SSE4.2) enabled only processors has been deprecated. Intel oneAPI Math Kernel Library 2025.0 will require Intel(R) Advanced Vector Extensions (Intel(R) AVX) instructions.\n",
      "Intel MKL WARNING: Support of Intel(R) Streaming SIMD Extensions 4.2 (Intel(R) SSE4.2) enabled only processors has been deprecated. Intel oneAPI Math Kernel Library 2025.0 will require Intel(R) Advanced Vector Extensions (Intel(R) AVX) instructions.\n",
      "Intel MKL WARNING: Support of Intel(R) Streaming SIMD Extensions 4.2 (Intel(R) SSE4.2) enabled only processors has been deprecated. Intel oneAPI Math Kernel Library 2025.0 will require Intel(R) Advanced Vector Extensions (Intel(R) AVX) instructions.\n",
      "Intel MKL WARNING: Support of Intel(R) Streaming SIMD Extensions 4.2 (Intel(R) SSE4.2) enabled only processors has been deprecated. Intel oneAPI Math Kernel Library 2025.0 will require Intel(R) Advanced Vector Extensions (Intel(R) AVX) instructions.\n",
      "Intel MKL WARNING: Support of Intel(R) Streaming SIMD Extensions 4.2 (Intel(R) SSE4.2) enabled only processors has been deprecated. Intel oneAPI Math Kernel Library 2025.0 will require Intel(R) Advanced Vector Extensions (Intel(R) AVX) instructions.\n",
      "Intel MKL WARNING: Support of Intel(R) Streaming SIMD Extensions 4.2 (Intel(R) SSE4.2) enabled only processors has been deprecated. Intel oneAPI Math Kernel Library 2025.0 will require Intel(R) Advanced Vector Extensions (Intel(R) AVX) instructions.\n",
      "Intel MKL WARNING: Support of Intel(R) Streaming SIMD Extensions 4.2 (Intel(R) SSE4.2) enabled only processors has been deprecated. Intel oneAPI Math Kernel Library 2025.0 will require Intel(R) Advanced Vector Extensions (Intel(R) AVX) instructions.\n",
      "Intel MKL WARNING: Support of Intel(R) Streaming SIMD Extensions 4.2 (Intel(R) SSE4.2) enabled only processors has been deprecated. Intel oneAPI Math Kernel Library 2025.0 will require Intel(R) Advanced Vector Extensions (Intel(R) AVX) instructions.\n",
      "Intel MKL WARNING: Support of Intel(R) Streaming SIMD Extensions 4.2 (Intel(R) SSE4.2) enabled only processors has been deprecated. Intel oneAPI Math Kernel Library 2025.0 will require Intel(R) Advanced Vector Extensions (Intel(R) AVX) instructions.\n",
      "Intel MKL WARNING: Support of Intel(R) Streaming SIMD Extensions 4.2 (Intel(R) SSE4.2) enabled only processors has been deprecated. Intel oneAPI Math Kernel Library 2025.0 will require Intel(R) Advanced Vector Extensions (Intel(R) AVX) instructions.\n",
      "Intel MKL WARNING: Support of Intel(R) Streaming SIMD Extensions 4.2 (Intel(R) SSE4.2) enabled only processors has been deprecated. Intel oneAPI Math Kernel Library 2025.0 will require Intel(R) Advanced Vector Extensions (Intel(R) AVX) instructions.\n",
      "Intel MKL WARNING: Support of Intel(R) Streaming SIMD Extensions 4.2 (Intel(R) SSE4.2) enabled only processors has been deprecated. Intel oneAPI Math Kernel Library 2025.0 will require Intel(R) Advanced Vector Extensions (Intel(R) AVX) instructions.\n",
      "Intel MKL WARNING: Support of Intel(R) Streaming SIMD Extensions 4.2 (Intel(R) SSE4.2) enabled only processors has been deprecated. Intel oneAPI Math Kernel Library 2025.0 will require Intel(R) Advanced Vector Extensions (Intel(R) AVX) instructions.\n",
      "Intel MKL WARNING: Support of Intel(R) Streaming SIMD Extensions 4.2 (Intel(R) SSE4.2) enabled only processors has been deprecated. Intel oneAPI Math Kernel Library 2025.0 will require Intel(R) Advanced Vector Extensions (Intel(R) AVX) instructions.\n",
      "Intel MKL WARNING: Support of Intel(R) Streaming SIMD Extensions 4.2 (Intel(R) SSE4.2) enabled only processors has been deprecated. Intel oneAPI Math Kernel Library 2025.0 will require Intel(R) Advanced Vector Extensions (Intel(R) AVX) instructions.\n",
      "Intel MKL WARNING: Support of Intel(R) Streaming SIMD Extensions 4.2 (Intel(R) SSE4.2) enabled only processors has been deprecated. Intel oneAPI Math Kernel Library 2025.0 will require Intel(R) Advanced Vector Extensions (Intel(R) AVX) instructions.\n",
      "Intel MKL WARNING: Support of Intel(R) Streaming SIMD Extensions 4.2 (Intel(R) SSE4.2) enabled only processors has been deprecated. Intel oneAPI Math Kernel Library 2025.0 will require Intel(R) Advanced Vector Extensions (Intel(R) AVX) instructions.\n",
      "Intel MKL WARNING: Support of Intel(R) Streaming SIMD Extensions 4.2 (Intel(R) SSE4.2) enabled only processors has been deprecated. Intel oneAPI Math Kernel Library 2025.0 will require Intel(R) Advanced Vector Extensions (Intel(R) AVX) instructions.\n",
      "Intel MKL WARNING: Support of Intel(R) Streaming SIMD Extensions 4.2 (Intel(R) SSE4.2) enabled only processors has been deprecated. Intel oneAPI Math Kernel Library 2025.0 will require Intel(R) Advanced Vector Extensions (Intel(R) AVX) instructions.\n",
      "Intel MKL WARNING: Support of Intel(R) Streaming SIMD Extensions 4.2 (Intel(R) SSE4.2) enabled only processors has been deprecated. Intel oneAPI Math Kernel Library 2025.0 will require Intel(R) Advanced Vector Extensions (Intel(R) AVX) instructions.\n",
      "Intel MKL WARNING: Support of Intel(R) Streaming SIMD Extensions 4.2 (Intel(R) SSE4.2) enabled only processors has been deprecated. Intel oneAPI Math Kernel Library 2025.0 will require Intel(R) Advanced Vector Extensions (Intel(R) AVX) instructions.\n",
      "Intel MKL WARNING: Support of Intel(R) Streaming SIMD Extensions 4.2 (Intel(R) SSE4.2) enabled only processors has been deprecated. Intel oneAPI Math Kernel Library 2025.0 will require Intel(R) Advanced Vector Extensions (Intel(R) AVX) instructions.\n",
      "Intel MKL WARNING: Support of Intel(R) Streaming SIMD Extensions 4.2 (Intel(R) SSE4.2) enabled only processors has been deprecated. Intel oneAPI Math Kernel Library 2025.0 will require Intel(R) Advanced Vector Extensions (Intel(R) AVX) instructions.\n",
      "Intel MKL WARNING: Support of Intel(R) Streaming SIMD Extensions 4.2 (Intel(R) SSE4.2) enabled only processors has been deprecated. Intel oneAPI Math Kernel Library 2025.0 will require Intel(R) Advanced Vector Extensions (Intel(R) AVX) instructions.\n",
      "Intel MKL WARNING: Support of Intel(R) Streaming SIMD Extensions 4.2 (Intel(R) SSE4.2) enabled only processors has been deprecated. Intel oneAPI Math Kernel Library 2025.0 will require Intel(R) Advanced Vector Extensions (Intel(R) AVX) instructions.\n",
      "Intel MKL WARNING: Support of Intel(R) Streaming SIMD Extensions 4.2 (Intel(R) SSE4.2) enabled only processors has been deprecated. Intel oneAPI Math Kernel Library 2025.0 will require Intel(R) Advanced Vector Extensions (Intel(R) AVX) instructions.\n",
      "Intel MKL WARNING: Support of Intel(R) Streaming SIMD Extensions 4.2 (Intel(R) SSE4.2) enabled only processors has been deprecated. Intel oneAPI Math Kernel Library 2025.0 will require Intel(R) Advanced Vector Extensions (Intel(R) AVX) instructions.\n",
      "Intel MKL WARNING: Support of Intel(R) Streaming SIMD Extensions 4.2 (Intel(R) SSE4.2) enabled only processors has been deprecated. Intel oneAPI Math Kernel Library 2025.0 will require Intel(R) Advanced Vector Extensions (Intel(R) AVX) instructions.\n",
      "Intel MKL WARNING: Support of Intel(R) Streaming SIMD Extensions 4.2 (Intel(R) SSE4.2) enabled only processors has been deprecated. Intel oneAPI Math Kernel Library 2025.0 will require Intel(R) Advanced Vector Extensions (Intel(R) AVX) instructions.\n",
      "Intel MKL WARNING: Support of Intel(R) Streaming SIMD Extensions 4.2 (Intel(R) SSE4.2) enabled only processors has been deprecated. Intel oneAPI Math Kernel Library 2025.0 will require Intel(R) Advanced Vector Extensions (Intel(R) AVX) instructions.\n",
      "Intel MKL WARNING: Support of Intel(R) Streaming SIMD Extensions 4.2 (Intel(R) SSE4.2) enabled only processors has been deprecated. Intel oneAPI Math Kernel Library 2025.0 will require Intel(R) Advanced Vector Extensions (Intel(R) AVX) instructions.\n",
      "Intel MKL WARNING: Support of Intel(R) Streaming SIMD Extensions 4.2 (Intel(R) SSE4.2) enabled only processors has been deprecated. Intel oneAPI Math Kernel Library 2025.0 will require Intel(R) Advanced Vector Extensions (Intel(R) AVX) instructions.\n",
      "Intel MKL WARNING: Support of Intel(R) Streaming SIMD Extensions 4.2 (Intel(R) SSE4.2) enabled only processors has been deprecated. Intel oneAPI Math Kernel Library 2025.0 will require Intel(R) Advanced Vector Extensions (Intel(R) AVX) instructions.\n",
      "Intel MKL WARNING: Support of Intel(R) Streaming SIMD Extensions 4.2 (Intel(R) SSE4.2) enabled only processors has been deprecated. Intel oneAPI Math Kernel Library 2025.0 will require Intel(R) Advanced Vector Extensions (Intel(R) AVX) instructions.\n",
      "Intel MKL WARNING: Support of Intel(R) Streaming SIMD Extensions 4.2 (Intel(R) SSE4.2) enabled only processors has been deprecated. Intel oneAPI Math Kernel Library 2025.0 will require Intel(R) Advanced Vector Extensions (Intel(R) AVX) instructions.\n",
      "Intel MKL WARNING: Support of Intel(R) Streaming SIMD Extensions 4.2 (Intel(R) SSE4.2) enabled only processors has been deprecated. Intel oneAPI Math Kernel Library 2025.0 will require Intel(R) Advanced Vector Extensions (Intel(R) AVX) instructions.\n",
      "Intel MKL WARNING: Support of Intel(R) Streaming SIMD Extensions 4.2 (Intel(R) SSE4.2) enabled only processors has been deprecated. Intel oneAPI Math Kernel Library 2025.0 will require Intel(R) Advanced Vector Extensions (Intel(R) AVX) instructions.\n",
      "Intel MKL WARNING: Support of Intel(R) Streaming SIMD Extensions 4.2 (Intel(R) SSE4.2) enabled only processors has been deprecated. Intel oneAPI Math Kernel Library 2025.0 will require Intel(R) Advanced Vector Extensions (Intel(R) AVX) instructions.\n",
      "Intel MKL WARNING: Support of Intel(R) Streaming SIMD Extensions 4.2 (Intel(R) SSE4.2) enabled only processors has been deprecated. Intel oneAPI Math Kernel Library 2025.0 will require Intel(R) Advanced Vector Extensions (Intel(R) AVX) instructions.\n",
      "Intel MKL WARNING: Support of Intel(R) Streaming SIMD Extensions 4.2 (Intel(R) SSE4.2) enabled only processors has been deprecated. Intel oneAPI Math Kernel Library 2025.0 will require Intel(R) Advanced Vector Extensions (Intel(R) AVX) instructions.\n",
      "Intel MKL WARNING: Support of Intel(R) Streaming SIMD Extensions 4.2 (Intel(R) SSE4.2) enabled only processors has been deprecated. Intel oneAPI Math Kernel Library 2025.0 will require Intel(R) Advanced Vector Extensions (Intel(R) AVX) instructions.\n",
      "Intel MKL WARNING: Support of Intel(R) Streaming SIMD Extensions 4.2 (Intel(R) SSE4.2) enabled only processors has been deprecated. Intel oneAPI Math Kernel Library 2025.0 will require Intel(R) Advanced Vector Extensions (Intel(R) AVX) instructions.\n",
      "Intel MKL WARNING: Support of Intel(R) Streaming SIMD Extensions 4.2 (Intel(R) SSE4.2) enabled only processors has been deprecated. Intel oneAPI Math Kernel Library 2025.0 will require Intel(R) Advanced Vector Extensions (Intel(R) AVX) instructions.\n",
      "Intel MKL WARNING: Support of Intel(R) Streaming SIMD Extensions 4.2 (Intel(R) SSE4.2) enabled only processors has been deprecated. Intel oneAPI Math Kernel Library 2025.0 will require Intel(R) Advanced Vector Extensions (Intel(R) AVX) instructions.\n",
      "Intel MKL WARNING: Support of Intel(R) Streaming SIMD Extensions 4.2 (Intel(R) SSE4.2) enabled only processors has been deprecated. Intel oneAPI Math Kernel Library 2025.0 will require Intel(R) Advanced Vector Extensions (Intel(R) AVX) instructions.Intel MKL WARNING: Support of Intel(R) Streaming SIMD Extensions 4.2 (Intel(R) SSE4.2) enabled only processors has been deprecated. Intel oneAPI Math Kernel Library 2025.0 will require Intel(R) Advanced Vector Extensions (Intel(R) AVX) instructions.\n",
      "Intel MKL WARNING: Support of Intel(R) Streaming SIMD Extensions 4.2 (Intel(R) SSE4.2) enabled only processors has been deprecated. Intel oneAPI Math Kernel Library 2025.0 will require Intel(R) Advanced Vector Extensions (Intel(R) AVX) instructions.\n",
      "Intel MKL WARNING: Support of Intel(R) Streaming SIMD Extensions 4.2 (Intel(R) SSE4.2) enabled only processors has been deprecated. Intel oneAPI Math Kernel Library 2025.0 will require Intel(R) Advanced Vector Extensions (Intel(R) AVX) instructions.\n",
      "\n",
      "Intel MKL WARNING: Support of Intel(R) Streaming SIMD Extensions 4.2 (Intel(R) SSE4.2) enabled only processors has been deprecated. Intel oneAPI Math Kernel Library 2025.0 will require Intel(R) Advanced Vector Extensions (Intel(R) AVX) instructions.\n",
      "Intel MKL WARNING: Support of Intel(R) Streaming SIMD Extensions 4.2 (Intel(R) SSE4.2) enabled only processors has been deprecated. Intel oneAPI Math Kernel Library 2025.0 will require Intel(R) Advanced Vector Extensions (Intel(R) AVX) instructions.\n",
      "Intel MKL WARNING: Support of Intel(R) Streaming SIMD Extensions 4.2 (Intel(R) SSE4.2) enabled only processors has been deprecated. Intel oneAPI Math Kernel Library 2025.0 will require Intel(R) Advanced Vector Extensions (Intel(R) AVX) instructions.\n",
      "Intel MKL WARNING: Support of Intel(R) Streaming SIMD Extensions 4.2 (Intel(R) SSE4.2) enabled only processors has been deprecated. Intel oneAPI Math Kernel Library 2025.0 will require Intel(R) Advanced Vector Extensions (Intel(R) AVX) instructions.\n",
      "Intel MKL WARNING: Support of Intel(R) Streaming SIMD Extensions 4.2 (Intel(R) SSE4.2) enabled only processors has been deprecated. Intel oneAPI Math Kernel Library 2025.0 will require Intel(R) Advanced Vector Extensions (Intel(R) AVX) instructions.\n",
      "Intel MKL WARNING: Support of Intel(R) Streaming SIMD Extensions 4.2 (Intel(R) SSE4.2) enabled only processors has been deprecated. Intel oneAPI Math Kernel Library 2025.0 will require Intel(R) Advanced Vector Extensions (Intel(R) AVX) instructions.\n",
      "Intel MKL WARNING: Support of Intel(R) Streaming SIMD Extensions 4.2 (Intel(R) SSE4.2) enabled only processors has been deprecated. Intel oneAPI Math Kernel Library 2025.0 will require Intel(R) Advanced Vector Extensions (Intel(R) AVX) instructions.\n",
      "Intel MKL WARNING: Support of Intel(R) Streaming SIMD Extensions 4.2 (Intel(R) SSE4.2) enabled only processors has been deprecated. Intel oneAPI Math Kernel Library 2025.0 will require Intel(R) Advanced Vector Extensions (Intel(R) AVX) instructions.\n",
      "Intel MKL WARNING: Support of Intel(R) Streaming SIMD Extensions 4.2 (Intel(R) SSE4.2) enabled only processors has been deprecated. Intel oneAPI Math Kernel Library 2025.0 will require Intel(R) Advanced Vector Extensions (Intel(R) AVX) instructions.\n",
      "Intel MKL WARNING: Support of Intel(R) Streaming SIMD Extensions 4.2 (Intel(R) SSE4.2) enabled only processors has been deprecated. Intel oneAPI Math Kernel Library 2025.0 will require Intel(R) Advanced Vector Extensions (Intel(R) AVX) instructions.\n"
     ]
    }
   ],
   "source": [
    "# Create instance of MVN\n",
    "m = torch.distributions.MultivariateNormal(torch.zeros(N_total), K)\n",
    "y = m.sample()\n",
    "Y = torch.zeros((N,N_T))\n",
    "for i in range(N_T):\n",
    "    Y[:,i] = y[i*N:(i*N+N)]\n",
    "y = Y + 0.0001*torch.randn(Y.shape)\n",
    "s = torch.zeros(y.shape)"
   ]
  },
  {
   "cell_type": "code",
   "execution_count": 5,
   "id": "37ab510c",
   "metadata": {},
   "outputs": [
    {
     "data": {
      "image/png": "[encoded data removed]",
      "text/plain": [
       "<Figure size 4000x6000 with 6 Axes>"
      ]
     },
     "metadata": {},
     "output_type": "display_data"
    }
   ],
   "source": [
    "# Plot\n",
    "[Xt,Yt] = np.meshgrid(X[:,0].unique().numpy(),X[:,1].unique().numpy())\n",
    "%matplotlib inline\n",
    "f, ((y1_ax, y2_ax), (y3_ax, y4_ax), (y5_ax, y6_ax)) = plt.subplots(3, 2, figsize=(40, 60))\n",
    "y1_ax.contourf(Xt,Yt,y[:,0].reshape(Xt.shape).detach().numpy(),cmap='viridis')\n",
    "y2_ax.contourf(Xt,Yt,y[:,3].reshape(Xt.shape).detach().numpy(),cmap='viridis')\n",
    "y3_ax.contourf(Xt,Yt,y[:,1].reshape(Xt.shape).detach().numpy(),cmap='viridis')\n",
    "y4_ax.contourf(Xt,Yt,y[:,4].reshape(Xt.shape).detach().numpy(),cmap='viridis')\n",
    "y5_ax.contourf(Xt,Yt,y[:,2].reshape(Xt.shape).detach().numpy(),cmap='viridis')\n",
    "y6_ax.contourf(Xt,Yt,y[:,5].reshape(Xt.shape).detach().numpy(),cmap='viridis')\n",
    "None"
   ]
  },
  {
   "cell_type": "code",
   "execution_count": 6,
   "id": "6b67a324",
   "metadata": {},
   "outputs": [],
   "source": [
    "# If we are in the symmetric setting, expand the input dimension\n",
    "symmetric = True\n",
    "if symmetric:\n",
    "    n, p = y.shape\n",
    "    p = 2*p\n",
    "    tmp = torch.full([n,p],float('nan'))\n",
    "    tmp_noise = torch.full([n,p],float('nan'))\n",
    "    for i in range(N_C):\n",
    "        orig = y[:,(i*N_D):(i*N_D+N_D)]\n",
    "        orig_noise = s[:,(i*N_D):(i*N_D+N_D)]\n",
    "        new = torch.full(orig.shape,float('nan'))\n",
    "        new_noise = torch.full(orig.shape,float('nan'))\n",
    "        combined = torch.cat([orig,new],-1)\n",
    "        combined_noise = torch.cat([orig_noise,new_noise],-1)\n",
    "        tmp[:,(i*(2*N_D)):(i*(2*N_D)+2*N_D)] = combined\n",
    "        tmp_noise[:,(i*(2*N_D)):(i*(2*N_D)+2*N_D)] = combined_noise\n",
    "    y = tmp\n",
    "    s = tmp_noise"
   ]
  },
  {
   "cell_type": "code",
   "execution_count": 7,
   "id": "45cc01af",
   "metadata": {},
   "outputs": [],
   "source": [
    "# Fill in missing values with dummy variables and mask\n",
    "# Pad with missing values and large noise\n",
    "mVAL = -999\n",
    "mVAR = 99999999999999\n",
    "missing_idx = y.isnan()\n",
    "N_missing = missing_idx.sum()\n",
    "# Train output is given a fixed dummy values\n",
    "y = y.masked_fill(missing_idx,mVAL)\n",
    "# Correspondingly these are given a large noise\n",
    "s = s.masked_fill(missing_idx,mVAR)"
   ]
  },
  {
   "cell_type": "code",
   "execution_count": 8,
   "id": "4dd54ff8",
   "metadata": {},
   "outputs": [],
   "source": [
    "# Define some constants\n",
    "if symmetric:\n",
    "    N_tasks = 2*N_T\n",
    "else:\n",
    "    N_tasks = N_T\n",
    "N_total = y.numel()\n",
    "N_obs = int(N_total-N_missing)"
   ]
  },
  {
   "cell_type": "code",
   "execution_count": 9,
   "id": "24ff0e5a",
   "metadata": {},
   "outputs": [
    {
     "data": {
      "text/plain": [
       "tensor([[ 5.5824e-01, -7.4135e+00,  1.4012e+00,  ..., -9.9900e+02,\n",
       "         -9.9900e+02, -9.9900e+02],\n",
       "        [ 1.0145e+00, -7.3223e+00,  1.8704e+00,  ..., -9.9900e+02,\n",
       "         -9.9900e+02, -9.9900e+02],\n",
       "        [ 1.4153e+00, -7.0293e+00,  2.3801e+00,  ..., -9.9900e+02,\n",
       "         -9.9900e+02, -9.9900e+02],\n",
       "        ...,\n",
       "        [ 1.3279e+00, -4.4784e+00,  5.3863e+00,  ..., -9.9900e+02,\n",
       "         -9.9900e+02, -9.9900e+02],\n",
       "        [ 1.5508e+00, -4.9222e+00,  5.4645e+00,  ..., -9.9900e+02,\n",
       "         -9.9900e+02, -9.9900e+02],\n",
       "        [ 1.5645e+00, -5.6281e+00,  5.3589e+00,  ..., -9.9900e+02,\n",
       "         -9.9900e+02, -9.9900e+02]])"
      ]
     },
     "execution_count": 9,
     "metadata": {},
     "output_type": "execute_result"
    }
   ],
   "source": [
    "y"
   ]
  },
  {
   "cell_type": "code",
   "execution_count": 10,
   "id": "0bb1f524",
   "metadata": {},
   "outputs": [],
   "source": [
    "from synpred.likelihoods.fixed_noise_multitask_gaussian_likelihood import FixedNoiseMultitaskGaussianLikelihood\n",
    "from synpred.kernels.piicm import PIICM"
   ]
  },
  {
   "cell_type": "code",
   "execution_count": 11,
   "id": "cd321758",
   "metadata": {},
   "outputs": [
    {
     "name": "stderr",
     "output_type": "stream",
     "text": [
      "/Users/leiv/opt/anaconda3/envs/synpred/lib/python3.10/site-packages/synpred-0.0.1-py3.10.egg/synpred/likelihoods/fixed_noise_multitask_gaussian_likelihood.py:79: NumericalWarning: Very small noise values detected. This will likely lead to numerical instabilities. Rounding small noise values up to 0.0001.\n"
     ]
    }
   ],
   "source": [
    "# Here now set up the model\n",
    "class MultitaskGPModel(gpytorch.models.ExactGP):\n",
    "    def __init__(self, train_x, train_y, likelihood):\n",
    "        super(MultitaskGPModel, self).__init__(train_x, train_y, likelihood)\n",
    "        self.mean_module = gpytorch.means.MultitaskMean(\n",
    "            gpytorch.means.ZeroMean(), num_tasks=N_tasks\n",
    "        )\n",
    "        self.covar_module = PIICM(\n",
    "            gpytorch.kernels.ScaleKernel(gpytorch.kernels.RBFKernel()), \n",
    "            num_combinations = N_D, num_cell_lines=N_C,  \n",
    "            drug_rank=2*d_rank, cell_linerank = c_rank,\n",
    "            symmetric=symmetric\n",
    "        )\n",
    "\n",
    "    def forward(self, x):\n",
    "        mean_x = self.mean_module(x)\n",
    "        covar_x = self.covar_module(x)\n",
    "        return gpytorch.distributions.MultitaskMultivariateNormal(mean_x, covar_x, interleaved=True)\n",
    "\n",
    "    \n",
    "likelihood = FixedNoiseMultitaskGaussianLikelihood(num_tasks=N_tasks,noise=s)\n",
    "model = MultitaskGPModel(X, y, likelihood)"
   ]
  },
  {
   "cell_type": "code",
   "execution_count": 12,
   "id": "6e53f520",
   "metadata": {},
   "outputs": [
    {
     "name": "stderr",
     "output_type": "stream",
     "text": [
      "/Users/leiv/opt/anaconda3/envs/synpred/lib/python3.10/site-packages/gpytorch/lazy/non_lazy_tensor.py:13: UserWarning: gpytorch.lazy.lazify is deprecated in favor of linear_operator.to_linear_operator\n",
      "  warnings.warn(\"gpytorch.lazy.lazify is deprecated in favor of linear_operator.to_linear_operator\")\n",
      "/Users/leiv/opt/anaconda3/envs/synpred/lib/python3.10/site-packages/linear_operator/utils/sparse.py:51: UserWarning: TypedStorage is deprecated. It will be removed in the future and UntypedStorage will be the only storage class. This should only matter to you if you are using storages directly.  To access UntypedStorage directly, use tensor.untyped_storage() instead of tensor.storage()\n",
      "  if nonzero_indices.storage():\n",
      "/Users/leiv/opt/anaconda3/envs/synpred/lib/python3.10/site-packages/linear_operator/utils/sparse.py:66: UserWarning: torch.sparse.SparseTensor(indices, values, shape, *, device=) is deprecated.  Please use torch.sparse_coo_tensor(indices, values, shape, dtype=, device=). (Triggered internally at /Users/runner/work/_temp/anaconda/conda-bld/pytorch_1699448812220/work/torch/csrc/utils/tensor_new.cpp:607.)\n",
      "  res = cls(index_tensor, value_tensor, interp_size)\n",
      "LinAlg (Verbose) - DEBUG - Running CG on a torch.Size([8470, 1]) RHS for 2000 iterations (tol=0.01). Output: torch.Size([8470, 1]).\n",
      "LinAlg (Verbose) - DEBUG - Running symeig on a NotPSDNonLazyTensor of size torch.Size([121, 121]). Assumed Hermitian. Not clamping eigenvalues to zero\n",
      "LinAlg (Verbose) - DEBUG - Running symeig on a matrix of size torch.Size([5, 5]).\n",
      "LinAlg (Verbose) - DEBUG - Running symeig on a matrix of size torch.Size([14, 14]).\n",
      "LinAlg (Verbose) - DEBUG - Running CG on a torch.Size([8470, 1]) RHS for 2000 iterations (tol=0.01). Output: torch.Size([8470, 1]).\n"
     ]
    },
    {
     "name": "stdout",
     "output_type": "stream",
     "text": [
      "test\n",
      "computing log-det with Weyl's inequality!\n",
      "8470\n",
      "Iter 1/200 - Loss: 0.863   lengthscale: 0.668   noise: 0.669  loss difference: 10.0000\n"
     ]
    },
    {
     "name": "stderr",
     "output_type": "stream",
     "text": [
      "LinAlg (Verbose) - DEBUG - Running symeig on a NotPSDNonLazyTensor of size torch.Size([121, 121]). Assumed Hermitian. Not clamping eigenvalues to zero\n",
      "LinAlg (Verbose) - DEBUG - Running symeig on a matrix of size torch.Size([5, 5]).\n",
      "LinAlg (Verbose) - DEBUG - Running symeig on a matrix of size torch.Size([14, 14]).\n",
      "LinAlg (Verbose) - DEBUG - Running CG on a torch.Size([8470, 1]) RHS for 2000 iterations (tol=0.01). Output: torch.Size([8470, 1]).\n"
     ]
    },
    {
     "name": "stdout",
     "output_type": "stream",
     "text": [
      "test\n",
      "computing log-det with Weyl's inequality!\n",
      "8470\n",
      "Iter 2/200 - Loss: 0.832   lengthscale: 0.645   noise: 0.644  loss difference: 0.0312\n"
     ]
    },
    {
     "name": "stderr",
     "output_type": "stream",
     "text": [
      "LinAlg (Verbose) - DEBUG - Running symeig on a NotPSDNonLazyTensor of size torch.Size([121, 121]). Assumed Hermitian. Not clamping eigenvalues to zero\n",
      "LinAlg (Verbose) - DEBUG - Running symeig on a matrix of size torch.Size([5, 5]).\n",
      "LinAlg (Verbose) - DEBUG - Running symeig on a matrix of size torch.Size([14, 14]).\n",
      "LinAlg (Verbose) - DEBUG - Running CG on a torch.Size([8470, 1]) RHS for 2000 iterations (tol=0.01). Output: torch.Size([8470, 1]).\n"
     ]
    },
    {
     "name": "stdout",
     "output_type": "stream",
     "text": [
      "test\n",
      "computing log-det with Weyl's inequality!\n",
      "8470\n",
      "Iter 3/200 - Loss: 0.808   lengthscale: 0.621   noise: 0.621  loss difference: 0.0240\n"
     ]
    },
    {
     "name": "stderr",
     "output_type": "stream",
     "text": [
      "LinAlg (Verbose) - DEBUG - Running symeig on a NotPSDNonLazyTensor of size torch.Size([121, 121]). Assumed Hermitian. Not clamping eigenvalues to zero\n",
      "LinAlg (Verbose) - DEBUG - Running symeig on a matrix of size torch.Size([5, 5]).\n",
      "LinAlg (Verbose) - DEBUG - Running symeig on a matrix of size torch.Size([14, 14]).\n",
      "LinAlg (Verbose) - DEBUG - Running CG on a torch.Size([8470, 1]) RHS for 2000 iterations (tol=0.01). Output: torch.Size([8470, 1]).\n"
     ]
    },
    {
     "name": "stdout",
     "output_type": "stream",
     "text": [
      "test\n",
      "computing log-det with Weyl's inequality!\n",
      "8470\n",
      "Iter 4/200 - Loss: 0.789   lengthscale: 0.599   noise: 0.598  loss difference: 0.0191\n"
     ]
    },
    {
     "name": "stderr",
     "output_type": "stream",
     "text": [
      "LinAlg (Verbose) - DEBUG - Running symeig on a NotPSDNonLazyTensor of size torch.Size([121, 121]). Assumed Hermitian. Not clamping eigenvalues to zero\n",
      "LinAlg (Verbose) - DEBUG - Running symeig on a matrix of size torch.Size([5, 5]).\n",
      "LinAlg (Verbose) - DEBUG - Running symeig on a matrix of size torch.Size([14, 14]).\n",
      "LinAlg (Verbose) - DEBUG - Running CG on a torch.Size([8470, 1]) RHS for 2000 iterations (tol=0.01). Output: torch.Size([8470, 1]).\n"
     ]
    },
    {
     "name": "stdout",
     "output_type": "stream",
     "text": [
      "test\n",
      "computing log-det with Weyl's inequality!\n",
      "8470\n",
      "Iter 5/200 - Loss: 0.773   lengthscale: 0.578   noise: 0.576  loss difference: 0.0156\n"
     ]
    },
    {
     "name": "stderr",
     "output_type": "stream",
     "text": [
      "LinAlg (Verbose) - DEBUG - Running symeig on a NotPSDNonLazyTensor of size torch.Size([121, 121]). Assumed Hermitian. Not clamping eigenvalues to zero\n",
      "LinAlg (Verbose) - DEBUG - Running symeig on a matrix of size torch.Size([5, 5]).\n",
      "LinAlg (Verbose) - DEBUG - Running symeig on a matrix of size torch.Size([14, 14]).\n",
      "LinAlg (Verbose) - DEBUG - Running CG on a torch.Size([8470, 1]) RHS for 2000 iterations (tol=0.01). Output: torch.Size([8470, 1]).\n"
     ]
    },
    {
     "name": "stdout",
     "output_type": "stream",
     "text": [
      "test\n",
      "computing log-det with Weyl's inequality!\n",
      "8470\n",
      "Iter 6/200 - Loss: 0.760   lengthscale: 0.558   noise: 0.554  loss difference: 0.0130\n"
     ]
    },
    {
     "name": "stderr",
     "output_type": "stream",
     "text": [
      "LinAlg (Verbose) - DEBUG - Running symeig on a NotPSDNonLazyTensor of size torch.Size([121, 121]). Assumed Hermitian. Not clamping eigenvalues to zero\n",
      "LinAlg (Verbose) - DEBUG - Running symeig on a matrix of size torch.Size([5, 5]).\n",
      "LinAlg (Verbose) - DEBUG - Running symeig on a matrix of size torch.Size([14, 14]).\n",
      "LinAlg (Verbose) - DEBUG - Running CG on a torch.Size([8470, 1]) RHS for 2000 iterations (tol=0.01). Output: torch.Size([8470, 1]).\n"
     ]
    },
    {
     "name": "stdout",
     "output_type": "stream",
     "text": [
      "test\n",
      "computing log-det with Weyl's inequality!\n",
      "8470\n",
      "Iter 7/200 - Loss: 0.749   lengthscale: 0.540   noise: 0.533  loss difference: 0.0110\n"
     ]
    },
    {
     "name": "stderr",
     "output_type": "stream",
     "text": [
      "LinAlg (Verbose) - DEBUG - Running symeig on a NotPSDNonLazyTensor of size torch.Size([121, 121]). Assumed Hermitian. Not clamping eigenvalues to zero\n",
      "LinAlg (Verbose) - DEBUG - Running symeig on a matrix of size torch.Size([5, 5]).\n",
      "LinAlg (Verbose) - DEBUG - Running symeig on a matrix of size torch.Size([14, 14]).\n",
      "LinAlg (Verbose) - DEBUG - Running CG on a torch.Size([8470, 1]) RHS for 2000 iterations (tol=0.01). Output: torch.Size([8470, 1]).\n"
     ]
    },
    {
     "name": "stdout",
     "output_type": "stream",
     "text": [
      "test\n",
      "computing log-det with Weyl's inequality!\n",
      "8470\n",
      "Iter 8/200 - Loss: 0.740   lengthscale: 0.523   noise: 0.512  loss difference: 0.0095\n"
     ]
    },
    {
     "name": "stderr",
     "output_type": "stream",
     "text": [
      "LinAlg (Verbose) - DEBUG - Running symeig on a NotPSDNonLazyTensor of size torch.Size([121, 121]). Assumed Hermitian. Not clamping eigenvalues to zero\n",
      "LinAlg (Verbose) - DEBUG - Running symeig on a matrix of size torch.Size([5, 5]).\n",
      "LinAlg (Verbose) - DEBUG - Running symeig on a matrix of size torch.Size([14, 14]).\n",
      "LinAlg (Verbose) - DEBUG - Running CG on a torch.Size([8470, 1]) RHS for 2000 iterations (tol=0.01). Output: torch.Size([8470, 1]).\n"
     ]
    },
    {
     "name": "stdout",
     "output_type": "stream",
     "text": [
      "test\n",
      "computing log-det with Weyl's inequality!\n",
      "8470\n",
      "Iter 9/200 - Loss: 0.731   lengthscale: 0.507   noise: 0.492  loss difference: 0.0085\n"
     ]
    },
    {
     "name": "stderr",
     "output_type": "stream",
     "text": [
      "LinAlg (Verbose) - DEBUG - Running symeig on a NotPSDNonLazyTensor of size torch.Size([121, 121]). Assumed Hermitian. Not clamping eigenvalues to zero\n",
      "LinAlg (Verbose) - DEBUG - Running symeig on a matrix of size torch.Size([5, 5]).\n",
      "LinAlg (Verbose) - DEBUG - Running symeig on a matrix of size torch.Size([14, 14]).\n",
      "LinAlg (Verbose) - DEBUG - Running CG on a torch.Size([8470, 1]) RHS for 2000 iterations (tol=0.01). Output: torch.Size([8470, 1]).\n"
     ]
    },
    {
     "name": "stdout",
     "output_type": "stream",
     "text": [
      "test\n",
      "computing log-det with Weyl's inequality!\n",
      "8470\n",
      "Iter 10/200 - Loss: 0.723   lengthscale: 0.492   noise: 0.473  loss difference: 0.0078\n"
     ]
    },
    {
     "name": "stderr",
     "output_type": "stream",
     "text": [
      "LinAlg (Verbose) - DEBUG - Running symeig on a NotPSDNonLazyTensor of size torch.Size([121, 121]). Assumed Hermitian. Not clamping eigenvalues to zero\n",
      "LinAlg (Verbose) - DEBUG - Running symeig on a matrix of size torch.Size([5, 5]).\n",
      "LinAlg (Verbose) - DEBUG - Running symeig on a matrix of size torch.Size([14, 14]).\n",
      "LinAlg (Verbose) - DEBUG - Running CG on a torch.Size([8470, 1]) RHS for 2000 iterations (tol=0.01). Output: torch.Size([8470, 1]).\n",
      "LinAlg (Verbose) - DEBUG - Running symeig on a NotPSDNonLazyTensor of size torch.Size([121, 121]). Assumed Hermitian. Not clamping eigenvalues to zero\n"
     ]
    },
    {
     "name": "stdout",
     "output_type": "stream",
     "text": [
      "test\n",
      "computing log-det with Weyl's inequality!\n",
      "8470\n",
      "Iter 11/200 - Loss: 0.716   lengthscale: 0.479   noise: 0.454  loss difference: 0.0074\n",
      "test\n",
      "computing log-det with Weyl's inequality!\n"
     ]
    },
    {
     "name": "stderr",
     "output_type": "stream",
     "text": [
      "LinAlg (Verbose) - DEBUG - Running symeig on a matrix of size torch.Size([5, 5]).\n",
      "LinAlg (Verbose) - DEBUG - Running symeig on a matrix of size torch.Size([14, 14]).\n",
      "LinAlg (Verbose) - DEBUG - Running CG on a torch.Size([8470, 1]) RHS for 2000 iterations (tol=0.01). Output: torch.Size([8470, 1]).\n"
     ]
    },
    {
     "name": "stdout",
     "output_type": "stream",
     "text": [
      "8470\n",
      "Iter 12/200 - Loss: 0.709   lengthscale: 0.467   noise: 0.436  loss difference: 0.0072\n"
     ]
    },
    {
     "name": "stderr",
     "output_type": "stream",
     "text": [
      "LinAlg (Verbose) - DEBUG - Running symeig on a NotPSDNonLazyTensor of size torch.Size([121, 121]). Assumed Hermitian. Not clamping eigenvalues to zero\n",
      "LinAlg (Verbose) - DEBUG - Running symeig on a matrix of size torch.Size([5, 5]).\n",
      "LinAlg (Verbose) - DEBUG - Running symeig on a matrix of size torch.Size([14, 14]).\n",
      "LinAlg (Verbose) - DEBUG - Running CG on a torch.Size([8470, 1]) RHS for 2000 iterations (tol=0.01). Output: torch.Size([8470, 1]).\n"
     ]
    },
    {
     "name": "stdout",
     "output_type": "stream",
     "text": [
      "test\n",
      "computing log-det with Weyl's inequality!\n",
      "8470\n",
      "Iter 13/200 - Loss: 0.702   lengthscale: 0.456   noise: 0.418  loss difference: 0.0072\n"
     ]
    },
    {
     "name": "stderr",
     "output_type": "stream",
     "text": [
      "LinAlg (Verbose) - DEBUG - Running symeig on a NotPSDNonLazyTensor of size torch.Size([121, 121]). Assumed Hermitian. Not clamping eigenvalues to zero\n",
      "LinAlg (Verbose) - DEBUG - Running symeig on a matrix of size torch.Size([5, 5]).\n",
      "LinAlg (Verbose) - DEBUG - Running symeig on a matrix of size torch.Size([14, 14]).\n",
      "LinAlg (Verbose) - DEBUG - Running CG on a torch.Size([8470, 1]) RHS for 2000 iterations (tol=0.01). Output: torch.Size([8470, 1]).\n"
     ]
    },
    {
     "name": "stdout",
     "output_type": "stream",
     "text": [
      "test\n",
      "computing log-det with Weyl's inequality!\n",
      "8470\n",
      "Iter 14/200 - Loss: 0.694   lengthscale: 0.446   noise: 0.401  loss difference: 0.0073\n"
     ]
    },
    {
     "name": "stderr",
     "output_type": "stream",
     "text": [
      "LinAlg (Verbose) - DEBUG - Running symeig on a NotPSDNonLazyTensor of size torch.Size([121, 121]). Assumed Hermitian. Not clamping eigenvalues to zero\n",
      "LinAlg (Verbose) - DEBUG - Running symeig on a matrix of size torch.Size([5, 5]).\n",
      "LinAlg (Verbose) - DEBUG - Running symeig on a matrix of size torch.Size([14, 14]).\n",
      "LinAlg (Verbose) - DEBUG - Running CG on a torch.Size([8470, 1]) RHS for 2000 iterations (tol=0.01). Output: torch.Size([8470, 1]).\n"
     ]
    },
    {
     "name": "stdout",
     "output_type": "stream",
     "text": [
      "test\n",
      "computing log-det with Weyl's inequality!\n",
      "8470\n",
      "Iter 15/200 - Loss: 0.687   lengthscale: 0.437   noise: 0.385  loss difference: 0.0074\n"
     ]
    },
    {
     "name": "stderr",
     "output_type": "stream",
     "text": [
      "LinAlg (Verbose) - DEBUG - Running symeig on a NotPSDNonLazyTensor of size torch.Size([121, 121]). Assumed Hermitian. Not clamping eigenvalues to zero\n",
      "LinAlg (Verbose) - DEBUG - Running symeig on a matrix of size torch.Size([5, 5]).\n",
      "LinAlg (Verbose) - DEBUG - Running symeig on a matrix of size torch.Size([14, 14]).\n",
      "LinAlg (Verbose) - DEBUG - Running CG on a torch.Size([8470, 1]) RHS for 2000 iterations (tol=0.01). Output: torch.Size([8470, 1]).\n"
     ]
    },
    {
     "name": "stdout",
     "output_type": "stream",
     "text": [
      "test\n",
      "computing log-det with Weyl's inequality!\n",
      "8470\n",
      "Iter 16/200 - Loss: 0.679   lengthscale: 0.428   noise: 0.369  loss difference: 0.0077\n"
     ]
    },
    {
     "name": "stderr",
     "output_type": "stream",
     "text": [
      "LinAlg (Verbose) - DEBUG - Running symeig on a NotPSDNonLazyTensor of size torch.Size([121, 121]). Assumed Hermitian. Not clamping eigenvalues to zero\n",
      "LinAlg (Verbose) - DEBUG - Running symeig on a matrix of size torch.Size([5, 5]).\n",
      "LinAlg (Verbose) - DEBUG - Running symeig on a matrix of size torch.Size([14, 14]).\n",
      "LinAlg (Verbose) - DEBUG - Running CG on a torch.Size([8470, 1]) RHS for 2000 iterations (tol=0.01). Output: torch.Size([8470, 1]).\n"
     ]
    },
    {
     "name": "stdout",
     "output_type": "stream",
     "text": [
      "test\n",
      "computing log-det with Weyl's inequality!\n",
      "8470\n",
      "Iter 17/200 - Loss: 0.671   lengthscale: 0.421   noise: 0.353  loss difference: 0.0080\n"
     ]
    },
    {
     "name": "stderr",
     "output_type": "stream",
     "text": [
      "LinAlg (Verbose) - DEBUG - Running symeig on a NotPSDNonLazyTensor of size torch.Size([121, 121]). Assumed Hermitian. Not clamping eigenvalues to zero\n",
      "LinAlg (Verbose) - DEBUG - Running symeig on a matrix of size torch.Size([5, 5]).\n",
      "LinAlg (Verbose) - DEBUG - Running symeig on a matrix of size torch.Size([14, 14]).\n",
      "LinAlg (Verbose) - DEBUG - Running CG on a torch.Size([8470, 1]) RHS for 2000 iterations (tol=0.01). Output: torch.Size([8470, 1]).\n"
     ]
    },
    {
     "name": "stdout",
     "output_type": "stream",
     "text": [
      "test\n",
      "computing log-det with Weyl's inequality!\n",
      "8470\n",
      "Iter 18/200 - Loss: 0.663   lengthscale: 0.415   noise: 0.338  loss difference: 0.0083\n"
     ]
    },
    {
     "name": "stderr",
     "output_type": "stream",
     "text": [
      "LinAlg (Verbose) - DEBUG - Running symeig on a NotPSDNonLazyTensor of size torch.Size([121, 121]). Assumed Hermitian. Not clamping eigenvalues to zero\n",
      "LinAlg (Verbose) - DEBUG - Running symeig on a matrix of size torch.Size([5, 5]).\n",
      "LinAlg (Verbose) - DEBUG - Running symeig on a matrix of size torch.Size([14, 14]).\n",
      "LinAlg (Verbose) - DEBUG - Running CG on a torch.Size([8470, 1]) RHS for 2000 iterations (tol=0.01). Output: torch.Size([8470, 1]).\n"
     ]
    },
    {
     "name": "stdout",
     "output_type": "stream",
     "text": [
      "test\n",
      "computing log-det with Weyl's inequality!\n",
      "8470\n",
      "Iter 19/200 - Loss: 0.654   lengthscale: 0.409   noise: 0.324  loss difference: 0.0087\n"
     ]
    },
    {
     "name": "stderr",
     "output_type": "stream",
     "text": [
      "LinAlg (Verbose) - DEBUG - Running symeig on a NotPSDNonLazyTensor of size torch.Size([121, 121]). Assumed Hermitian. Not clamping eigenvalues to zero\n",
      "LinAlg (Verbose) - DEBUG - Running symeig on a matrix of size torch.Size([5, 5]).\n",
      "LinAlg (Verbose) - DEBUG - Running symeig on a matrix of size torch.Size([14, 14]).\n",
      "LinAlg (Verbose) - DEBUG - Running CG on a torch.Size([8470, 1]) RHS for 2000 iterations (tol=0.01). Output: torch.Size([8470, 1]).\n"
     ]
    },
    {
     "name": "stdout",
     "output_type": "stream",
     "text": [
      "test\n",
      "computing log-det with Weyl's inequality!\n",
      "8470\n",
      "Iter 20/200 - Loss: 0.645   lengthscale: 0.404   noise: 0.310  loss difference: 0.0091\n"
     ]
    },
    {
     "name": "stderr",
     "output_type": "stream",
     "text": [
      "LinAlg (Verbose) - DEBUG - Running symeig on a NotPSDNonLazyTensor of size torch.Size([121, 121]). Assumed Hermitian. Not clamping eigenvalues to zero\n",
      "LinAlg (Verbose) - DEBUG - Running symeig on a matrix of size torch.Size([5, 5]).\n",
      "LinAlg (Verbose) - DEBUG - Running symeig on a matrix of size torch.Size([14, 14]).\n",
      "LinAlg (Verbose) - DEBUG - Running CG on a torch.Size([8470, 1]) RHS for 2000 iterations (tol=0.01). Output: torch.Size([8470, 1]).\n",
      "LinAlg (Verbose) - DEBUG - Running symeig on a NotPSDNonLazyTensor of size torch.Size([121, 121]). Assumed Hermitian. Not clamping eigenvalues to zero\n"
     ]
    },
    {
     "name": "stdout",
     "output_type": "stream",
     "text": [
      "test\n",
      "computing log-det with Weyl's inequality!\n",
      "8470\n",
      "Iter 21/200 - Loss: 0.636   lengthscale: 0.399   noise: 0.297  loss difference: 0.0094\n",
      "test\n",
      "computing log-det with Weyl's inequality!\n"
     ]
    },
    {
     "name": "stderr",
     "output_type": "stream",
     "text": [
      "LinAlg (Verbose) - DEBUG - Running symeig on a matrix of size torch.Size([5, 5]).\n",
      "LinAlg (Verbose) - DEBUG - Running symeig on a matrix of size torch.Size([14, 14]).\n",
      "LinAlg (Verbose) - DEBUG - Running CG on a torch.Size([8470, 1]) RHS for 2000 iterations (tol=0.01). Output: torch.Size([8470, 1]).\n",
      "LinAlg (Verbose) - DEBUG - Running symeig on a NotPSDNonLazyTensor of size torch.Size([121, 121]). Assumed Hermitian. Not clamping eigenvalues to zero\n"
     ]
    },
    {
     "name": "stdout",
     "output_type": "stream",
     "text": [
      "8470\n",
      "Iter 22/200 - Loss: 0.626   lengthscale: 0.396   noise: 0.284  loss difference: 0.0098\n",
      "test\n",
      "computing log-det with Weyl's inequality!\n"
     ]
    },
    {
     "name": "stderr",
     "output_type": "stream",
     "text": [
      "LinAlg (Verbose) - DEBUG - Running symeig on a matrix of size torch.Size([5, 5]).\n",
      "LinAlg (Verbose) - DEBUG - Running symeig on a matrix of size torch.Size([14, 14]).\n",
      "LinAlg (Verbose) - DEBUG - Running CG on a torch.Size([8470, 1]) RHS for 2000 iterations (tol=0.01). Output: torch.Size([8470, 1]).\n",
      "LinAlg (Verbose) - DEBUG - Running symeig on a NotPSDNonLazyTensor of size torch.Size([121, 121]). Assumed Hermitian. Not clamping eigenvalues to zero\n"
     ]
    },
    {
     "name": "stdout",
     "output_type": "stream",
     "text": [
      "8470\n",
      "Iter 23/200 - Loss: 0.616   lengthscale: 0.392   noise: 0.271  loss difference: 0.0102\n",
      "test\n",
      "computing log-det with Weyl's inequality!\n"
     ]
    },
    {
     "name": "stderr",
     "output_type": "stream",
     "text": [
      "LinAlg (Verbose) - DEBUG - Running symeig on a matrix of size torch.Size([5, 5]).\n",
      "LinAlg (Verbose) - DEBUG - Running symeig on a matrix of size torch.Size([14, 14]).\n",
      "LinAlg (Verbose) - DEBUG - Running CG on a torch.Size([8470, 1]) RHS for 2000 iterations (tol=0.01). Output: torch.Size([8470, 1]).\n"
     ]
    },
    {
     "name": "stdout",
     "output_type": "stream",
     "text": [
      "8470\n",
      "Iter 24/200 - Loss: 0.605   lengthscale: 0.389   noise: 0.259  loss difference: 0.0105\n"
     ]
    },
    {
     "name": "stderr",
     "output_type": "stream",
     "text": [
      "LinAlg (Verbose) - DEBUG - Running symeig on a NotPSDNonLazyTensor of size torch.Size([121, 121]). Assumed Hermitian. Not clamping eigenvalues to zero\n",
      "LinAlg (Verbose) - DEBUG - Running symeig on a matrix of size torch.Size([5, 5]).\n",
      "LinAlg (Verbose) - DEBUG - Running symeig on a matrix of size torch.Size([14, 14]).\n",
      "LinAlg (Verbose) - DEBUG - Running CG on a torch.Size([8470, 1]) RHS for 2000 iterations (tol=0.01). Output: torch.Size([8470, 1]).\n"
     ]
    },
    {
     "name": "stdout",
     "output_type": "stream",
     "text": [
      "test\n",
      "computing log-det with Weyl's inequality!\n",
      "8470\n",
      "Iter 25/200 - Loss: 0.594   lengthscale: 0.387   noise: 0.248  loss difference: 0.0109\n"
     ]
    },
    {
     "name": "stderr",
     "output_type": "stream",
     "text": [
      "LinAlg (Verbose) - DEBUG - Running symeig on a NotPSDNonLazyTensor of size torch.Size([121, 121]). Assumed Hermitian. Not clamping eigenvalues to zero\n",
      "LinAlg (Verbose) - DEBUG - Running symeig on a matrix of size torch.Size([5, 5]).\n",
      "LinAlg (Verbose) - DEBUG - Running symeig on a matrix of size torch.Size([14, 14]).\n",
      "LinAlg (Verbose) - DEBUG - Running CG on a torch.Size([8470, 1]) RHS for 2000 iterations (tol=0.01). Output: torch.Size([8470, 1]).\n"
     ]
    },
    {
     "name": "stdout",
     "output_type": "stream",
     "text": [
      "test\n",
      "computing log-det with Weyl's inequality!\n",
      "8470\n",
      "Iter 26/200 - Loss: 0.583   lengthscale: 0.386   noise: 0.237  loss difference: 0.0112\n"
     ]
    },
    {
     "name": "stderr",
     "output_type": "stream",
     "text": [
      "LinAlg (Verbose) - DEBUG - Running symeig on a NotPSDNonLazyTensor of size torch.Size([121, 121]). Assumed Hermitian. Not clamping eigenvalues to zero\n",
      "LinAlg (Verbose) - DEBUG - Running symeig on a matrix of size torch.Size([5, 5]).\n",
      "LinAlg (Verbose) - DEBUG - Running symeig on a matrix of size torch.Size([14, 14]).\n",
      "LinAlg (Verbose) - DEBUG - Running CG on a torch.Size([8470, 1]) RHS for 2000 iterations (tol=0.01). Output: torch.Size([8470, 1]).\n",
      "LinAlg (Verbose) - DEBUG - Running symeig on a NotPSDNonLazyTensor of size torch.Size([121, 121]). Assumed Hermitian. Not clamping eigenvalues to zero\n",
      "LinAlg (Verbose) - DEBUG - Running symeig on a matrix of size torch.Size([5, 5]).\n"
     ]
    },
    {
     "name": "stdout",
     "output_type": "stream",
     "text": [
      "test\n",
      "computing log-det with Weyl's inequality!\n",
      "8470\n",
      "Iter 27/200 - Loss: 0.571   lengthscale: 0.385   noise: 0.226  loss difference: 0.0115\n",
      "test\n",
      "computing log-det with Weyl's inequality!\n"
     ]
    },
    {
     "name": "stderr",
     "output_type": "stream",
     "text": [
      "LinAlg (Verbose) - DEBUG - Running symeig on a matrix of size torch.Size([14, 14]).\n",
      "LinAlg (Verbose) - DEBUG - Running CG on a torch.Size([8470, 1]) RHS for 2000 iterations (tol=0.01). Output: torch.Size([8470, 1]).\n",
      "LinAlg (Verbose) - DEBUG - Running symeig on a NotPSDNonLazyTensor of size torch.Size([121, 121]). Assumed Hermitian. Not clamping eigenvalues to zero\n"
     ]
    },
    {
     "name": "stdout",
     "output_type": "stream",
     "text": [
      "8470\n",
      "Iter 28/200 - Loss: 0.560   lengthscale: 0.384   noise: 0.216  loss difference: 0.0118\n",
      "test\n",
      "computing log-det with Weyl's inequality!\n"
     ]
    },
    {
     "name": "stderr",
     "output_type": "stream",
     "text": [
      "LinAlg (Verbose) - DEBUG - Running symeig on a matrix of size torch.Size([5, 5]).\n",
      "LinAlg (Verbose) - DEBUG - Running symeig on a matrix of size torch.Size([14, 14]).\n",
      "LinAlg (Verbose) - DEBUG - Running CG on a torch.Size([8470, 1]) RHS for 2000 iterations (tol=0.01). Output: torch.Size([8470, 1]).\n",
      "LinAlg (Verbose) - DEBUG - Running symeig on a NotPSDNonLazyTensor of size torch.Size([121, 121]). Assumed Hermitian. Not clamping eigenvalues to zero\n",
      "LinAlg (Verbose) - DEBUG - Running symeig on a matrix of size torch.Size([5, 5]).\n",
      "LinAlg (Verbose) - DEBUG - Running symeig on a matrix of size torch.Size([14, 14]).\n"
     ]
    },
    {
     "name": "stdout",
     "output_type": "stream",
     "text": [
      "8470\n",
      "Iter 29/200 - Loss: 0.548   lengthscale: 0.384   noise: 0.206  loss difference: 0.0121\n",
      "test\n",
      "computing log-det with Weyl's inequality!\n",
      "8470\n"
     ]
    },
    {
     "name": "stderr",
     "output_type": "stream",
     "text": [
      "LinAlg (Verbose) - DEBUG - Running CG on a torch.Size([8470, 1]) RHS for 2000 iterations (tol=0.01). Output: torch.Size([8470, 1]).\n",
      "LinAlg (Verbose) - DEBUG - Running symeig on a NotPSDNonLazyTensor of size torch.Size([121, 121]). Assumed Hermitian. Not clamping eigenvalues to zero\n",
      "LinAlg (Verbose) - DEBUG - Running symeig on a matrix of size torch.Size([5, 5]).\n",
      "LinAlg (Verbose) - DEBUG - Running symeig on a matrix of size torch.Size([14, 14]).\n"
     ]
    },
    {
     "name": "stdout",
     "output_type": "stream",
     "text": [
      "Iter 30/200 - Loss: 0.535   lengthscale: 0.385   noise: 0.197  loss difference: 0.0123\n",
      "test\n",
      "computing log-det with Weyl's inequality!\n",
      "8470\n"
     ]
    },
    {
     "name": "stderr",
     "output_type": "stream",
     "text": [
      "LinAlg (Verbose) - DEBUG - Running CG on a torch.Size([8470, 1]) RHS for 2000 iterations (tol=0.01). Output: torch.Size([8470, 1]).\n",
      "LinAlg (Verbose) - DEBUG - Running symeig on a NotPSDNonLazyTensor of size torch.Size([121, 121]). Assumed Hermitian. Not clamping eigenvalues to zero\n",
      "LinAlg (Verbose) - DEBUG - Running symeig on a matrix of size torch.Size([5, 5]).\n",
      "LinAlg (Verbose) - DEBUG - Running symeig on a matrix of size torch.Size([14, 14]).\n"
     ]
    },
    {
     "name": "stdout",
     "output_type": "stream",
     "text": [
      "Iter 31/200 - Loss: 0.523   lengthscale: 0.386   noise: 0.188  loss difference: 0.0126\n",
      "test\n",
      "computing log-det with Weyl's inequality!\n"
     ]
    },
    {
     "name": "stderr",
     "output_type": "stream",
     "text": [
      "LinAlg (Verbose) - DEBUG - Running CG on a torch.Size([8470, 1]) RHS for 2000 iterations (tol=0.01). Output: torch.Size([8470, 1]).\n",
      "LinAlg (Verbose) - DEBUG - Running symeig on a NotPSDNonLazyTensor of size torch.Size([121, 121]). Assumed Hermitian. Not clamping eigenvalues to zero\n",
      "LinAlg (Verbose) - DEBUG - Running symeig on a matrix of size torch.Size([5, 5]).\n"
     ]
    },
    {
     "name": "stdout",
     "output_type": "stream",
     "text": [
      "8470\n",
      "Iter 32/200 - Loss: 0.510   lengthscale: 0.388   noise: 0.179  loss difference: 0.0129\n",
      "test\n",
      "computing log-det with Weyl's inequality!\n"
     ]
    },
    {
     "name": "stderr",
     "output_type": "stream",
     "text": [
      "LinAlg (Verbose) - DEBUG - Running symeig on a matrix of size torch.Size([14, 14]).\n",
      "LinAlg (Verbose) - DEBUG - Running CG on a torch.Size([8470, 1]) RHS for 2000 iterations (tol=0.01). Output: torch.Size([8470, 1]).\n",
      "LinAlg (Verbose) - DEBUG - Running symeig on a NotPSDNonLazyTensor of size torch.Size([121, 121]). Assumed Hermitian. Not clamping eigenvalues to zero\n",
      "LinAlg (Verbose) - DEBUG - Running symeig on a matrix of size torch.Size([5, 5]).\n",
      "LinAlg (Verbose) - DEBUG - Running symeig on a matrix of size torch.Size([14, 14]).\n"
     ]
    },
    {
     "name": "stdout",
     "output_type": "stream",
     "text": [
      "8470\n",
      "Iter 33/200 - Loss: 0.497   lengthscale: 0.391   noise: 0.171  loss difference: 0.0132\n",
      "test\n",
      "computing log-det with Weyl's inequality!\n"
     ]
    },
    {
     "name": "stderr",
     "output_type": "stream",
     "text": [
      "LinAlg (Verbose) - DEBUG - Running CG on a torch.Size([8470, 1]) RHS for 2000 iterations (tol=0.01). Output: torch.Size([8470, 1]).\n",
      "LinAlg (Verbose) - DEBUG - Running symeig on a NotPSDNonLazyTensor of size torch.Size([121, 121]). Assumed Hermitian. Not clamping eigenvalues to zero\n"
     ]
    },
    {
     "name": "stdout",
     "output_type": "stream",
     "text": [
      "8470\n",
      "Iter 34/200 - Loss: 0.483   lengthscale: 0.395   noise: 0.163  loss difference: 0.0135\n",
      "test\n",
      "computing log-det with Weyl's inequality!\n"
     ]
    },
    {
     "name": "stderr",
     "output_type": "stream",
     "text": [
      "LinAlg (Verbose) - DEBUG - Running symeig on a matrix of size torch.Size([5, 5]).\n",
      "LinAlg (Verbose) - DEBUG - Running symeig on a matrix of size torch.Size([14, 14]).\n",
      "LinAlg (Verbose) - DEBUG - Running CG on a torch.Size([8470, 1]) RHS for 2000 iterations (tol=0.01). Output: torch.Size([8470, 1]).\n",
      "LinAlg (Verbose) - DEBUG - Running symeig on a NotPSDNonLazyTensor of size torch.Size([121, 121]). Assumed Hermitian. Not clamping eigenvalues to zero\n",
      "LinAlg (Verbose) - DEBUG - Running symeig on a matrix of size torch.Size([5, 5]).\n",
      "LinAlg (Verbose) - DEBUG - Running symeig on a matrix of size torch.Size([14, 14]).\n"
     ]
    },
    {
     "name": "stdout",
     "output_type": "stream",
     "text": [
      "8470\n",
      "Iter 35/200 - Loss: 0.470   lengthscale: 0.399   noise: 0.155  loss difference: 0.0136\n",
      "test\n",
      "computing log-det with Weyl's inequality!\n",
      "8470\n"
     ]
    },
    {
     "name": "stderr",
     "output_type": "stream",
     "text": [
      "LinAlg (Verbose) - DEBUG - Running CG on a torch.Size([8470, 1]) RHS for 2000 iterations (tol=0.01). Output: torch.Size([8470, 1]).\n",
      "LinAlg (Verbose) - DEBUG - Running symeig on a NotPSDNonLazyTensor of size torch.Size([121, 121]). Assumed Hermitian. Not clamping eigenvalues to zero\n",
      "LinAlg (Verbose) - DEBUG - Running symeig on a matrix of size torch.Size([5, 5]).\n",
      "LinAlg (Verbose) - DEBUG - Running symeig on a matrix of size torch.Size([14, 14]).\n"
     ]
    },
    {
     "name": "stdout",
     "output_type": "stream",
     "text": [
      "Iter 36/200 - Loss: 0.456   lengthscale: 0.403   noise: 0.148  loss difference: 0.0138\n",
      "test\n",
      "computing log-det with Weyl's inequality!\n",
      "8470\n",
      "Iter 37/200 - Loss: 0.442   lengthscale: 0.408   noise: 0.141  loss difference: 0.0137\n"
     ]
    },
    {
     "name": "stderr",
     "output_type": "stream",
     "text": [
      "LinAlg (Verbose) - DEBUG - Running CG on a torch.Size([8470, 1]) RHS for 2000 iterations (tol=0.01). Output: torch.Size([8470, 1]).\n",
      "LinAlg (Verbose) - DEBUG - Running symeig on a NotPSDNonLazyTensor of size torch.Size([121, 121]). Assumed Hermitian. Not clamping eigenvalues to zero\n",
      "LinAlg (Verbose) - DEBUG - Running symeig on a matrix of size torch.Size([5, 5]).\n",
      "LinAlg (Verbose) - DEBUG - Running symeig on a matrix of size torch.Size([14, 14]).\n",
      "LinAlg (Verbose) - DEBUG - Running CG on a torch.Size([8470, 1]) RHS for 2000 iterations (tol=0.01). Output: torch.Size([8470, 1]).\n"
     ]
    },
    {
     "name": "stdout",
     "output_type": "stream",
     "text": [
      "test\n",
      "computing log-det with Weyl's inequality!\n",
      "8470\n",
      "Iter 38/200 - Loss: 0.428   lengthscale: 0.413   noise: 0.134  loss difference: 0.0136\n"
     ]
    },
    {
     "name": "stderr",
     "output_type": "stream",
     "text": [
      "LinAlg (Verbose) - DEBUG - Running symeig on a NotPSDNonLazyTensor of size torch.Size([121, 121]). Assumed Hermitian. Not clamping eigenvalues to zero\n",
      "LinAlg (Verbose) - DEBUG - Running symeig on a matrix of size torch.Size([5, 5]).\n",
      "LinAlg (Verbose) - DEBUG - Running symeig on a matrix of size torch.Size([14, 14]).\n",
      "LinAlg (Verbose) - DEBUG - Running CG on a torch.Size([8470, 1]) RHS for 2000 iterations (tol=0.01). Output: torch.Size([8470, 1]).\n"
     ]
    },
    {
     "name": "stdout",
     "output_type": "stream",
     "text": [
      "test\n",
      "computing log-det with Weyl's inequality!\n",
      "8470\n",
      "Iter 39/200 - Loss: 0.415   lengthscale: 0.418   noise: 0.127  loss difference: 0.0133\n"
     ]
    },
    {
     "name": "stderr",
     "output_type": "stream",
     "text": [
      "LinAlg (Verbose) - DEBUG - Running symeig on a NotPSDNonLazyTensor of size torch.Size([121, 121]). Assumed Hermitian. Not clamping eigenvalues to zero\n",
      "LinAlg (Verbose) - DEBUG - Running symeig on a matrix of size torch.Size([5, 5]).\n",
      "LinAlg (Verbose) - DEBUG - Running symeig on a matrix of size torch.Size([14, 14]).\n",
      "LinAlg (Verbose) - DEBUG - Running CG on a torch.Size([8470, 1]) RHS for 2000 iterations (tol=0.01). Output: torch.Size([8470, 1]).\n"
     ]
    },
    {
     "name": "stdout",
     "output_type": "stream",
     "text": [
      "test\n",
      "computing log-det with Weyl's inequality!\n",
      "8470\n",
      "Iter 40/200 - Loss: 0.402   lengthscale: 0.423   noise: 0.121  loss difference: 0.0130\n"
     ]
    },
    {
     "name": "stderr",
     "output_type": "stream",
     "text": [
      "LinAlg (Verbose) - DEBUG - Running symeig on a NotPSDNonLazyTensor of size torch.Size([121, 121]). Assumed Hermitian. Not clamping eigenvalues to zero\n",
      "LinAlg (Verbose) - DEBUG - Running symeig on a matrix of size torch.Size([5, 5]).\n",
      "LinAlg (Verbose) - DEBUG - Running symeig on a matrix of size torch.Size([14, 14]).\n",
      "LinAlg (Verbose) - DEBUG - Running CG on a torch.Size([8470, 1]) RHS for 2000 iterations (tol=0.01). Output: torch.Size([8470, 1]).\n"
     ]
    },
    {
     "name": "stdout",
     "output_type": "stream",
     "text": [
      "test\n",
      "computing log-det with Weyl's inequality!\n",
      "8470\n",
      "Iter 41/200 - Loss: 0.390   lengthscale: 0.427   noise: 0.115  loss difference: 0.0126\n"
     ]
    },
    {
     "name": "stderr",
     "output_type": "stream",
     "text": [
      "LinAlg (Verbose) - DEBUG - Running symeig on a NotPSDNonLazyTensor of size torch.Size([121, 121]). Assumed Hermitian. Not clamping eigenvalues to zero\n",
      "LinAlg (Verbose) - DEBUG - Running symeig on a matrix of size torch.Size([5, 5]).\n",
      "LinAlg (Verbose) - DEBUG - Running symeig on a matrix of size torch.Size([14, 14]).\n",
      "LinAlg (Verbose) - DEBUG - Running CG on a torch.Size([8470, 1]) RHS for 2000 iterations (tol=0.01). Output: torch.Size([8470, 1]).\n"
     ]
    },
    {
     "name": "stdout",
     "output_type": "stream",
     "text": [
      "test\n",
      "computing log-det with Weyl's inequality!\n",
      "8470\n",
      "Iter 42/200 - Loss: 0.377   lengthscale: 0.431   noise: 0.110  loss difference: 0.0122\n"
     ]
    },
    {
     "name": "stderr",
     "output_type": "stream",
     "text": [
      "LinAlg (Verbose) - DEBUG - Running symeig on a NotPSDNonLazyTensor of size torch.Size([121, 121]). Assumed Hermitian. Not clamping eigenvalues to zero\n",
      "LinAlg (Verbose) - DEBUG - Running symeig on a matrix of size torch.Size([5, 5]).\n",
      "LinAlg (Verbose) - DEBUG - Running symeig on a matrix of size torch.Size([14, 14]).\n",
      "LinAlg (Verbose) - DEBUG - Running CG on a torch.Size([8470, 1]) RHS for 2000 iterations (tol=0.01). Output: torch.Size([8470, 1]).\n"
     ]
    },
    {
     "name": "stdout",
     "output_type": "stream",
     "text": [
      "test\n",
      "computing log-det with Weyl's inequality!\n",
      "8470\n",
      "Iter 43/200 - Loss: 0.365   lengthscale: 0.434   noise: 0.104  loss difference: 0.0119\n"
     ]
    },
    {
     "name": "stderr",
     "output_type": "stream",
     "text": [
      "LinAlg (Verbose) - DEBUG - Running symeig on a NotPSDNonLazyTensor of size torch.Size([121, 121]). Assumed Hermitian. Not clamping eigenvalues to zero\n",
      "LinAlg (Verbose) - DEBUG - Running symeig on a matrix of size torch.Size([5, 5]).\n",
      "LinAlg (Verbose) - DEBUG - Running symeig on a matrix of size torch.Size([14, 14]).\n",
      "LinAlg (Verbose) - DEBUG - Running CG on a torch.Size([8470, 1]) RHS for 2000 iterations (tol=0.01). Output: torch.Size([8470, 1]).\n"
     ]
    },
    {
     "name": "stdout",
     "output_type": "stream",
     "text": [
      "test\n",
      "computing log-det with Weyl's inequality!\n",
      "8470\n",
      "Iter 44/200 - Loss: 0.354   lengthscale: 0.435   noise: 0.099  loss difference: 0.0115\n"
     ]
    },
    {
     "name": "stderr",
     "output_type": "stream",
     "text": [
      "LinAlg (Verbose) - DEBUG - Running symeig on a NotPSDNonLazyTensor of size torch.Size([121, 121]). Assumed Hermitian. Not clamping eigenvalues to zero\n",
      "LinAlg (Verbose) - DEBUG - Running symeig on a matrix of size torch.Size([5, 5]).\n",
      "LinAlg (Verbose) - DEBUG - Running symeig on a matrix of size torch.Size([14, 14]).\n",
      "LinAlg (Verbose) - DEBUG - Running CG on a torch.Size([8470, 1]) RHS for 2000 iterations (tol=0.01). Output: torch.Size([8470, 1]).\n"
     ]
    },
    {
     "name": "stdout",
     "output_type": "stream",
     "text": [
      "test\n",
      "computing log-det with Weyl's inequality!\n",
      "8470\n",
      "Iter 45/200 - Loss: 0.343   lengthscale: 0.436   noise: 0.094  loss difference: 0.0112\n"
     ]
    },
    {
     "name": "stderr",
     "output_type": "stream",
     "text": [
      "LinAlg (Verbose) - DEBUG - Running symeig on a NotPSDNonLazyTensor of size torch.Size([121, 121]). Assumed Hermitian. Not clamping eigenvalues to zero\n",
      "LinAlg (Verbose) - DEBUG - Running symeig on a matrix of size torch.Size([5, 5]).\n",
      "LinAlg (Verbose) - DEBUG - Running symeig on a matrix of size torch.Size([14, 14]).\n",
      "LinAlg (Verbose) - DEBUG - Running CG on a torch.Size([8470, 1]) RHS for 2000 iterations (tol=0.01). Output: torch.Size([8470, 1]).\n"
     ]
    },
    {
     "name": "stdout",
     "output_type": "stream",
     "text": [
      "test\n",
      "computing log-det with Weyl's inequality!\n",
      "8470\n",
      "Iter 46/200 - Loss: 0.332   lengthscale: 0.435   noise: 0.090  loss difference: 0.0109\n"
     ]
    },
    {
     "name": "stderr",
     "output_type": "stream",
     "text": [
      "LinAlg (Verbose) - DEBUG - Running symeig on a NotPSDNonLazyTensor of size torch.Size([121, 121]). Assumed Hermitian. Not clamping eigenvalues to zero\n",
      "LinAlg (Verbose) - DEBUG - Running symeig on a matrix of size torch.Size([5, 5]).\n",
      "LinAlg (Verbose) - DEBUG - Running symeig on a matrix of size torch.Size([14, 14]).\n",
      "LinAlg (Verbose) - DEBUG - Running CG on a torch.Size([8470, 1]) RHS for 2000 iterations (tol=0.01). Output: torch.Size([8470, 1]).\n"
     ]
    },
    {
     "name": "stdout",
     "output_type": "stream",
     "text": [
      "test\n",
      "computing log-det with Weyl's inequality!\n",
      "8470\n",
      "Iter 47/200 - Loss: 0.321   lengthscale: 0.433   noise: 0.085  loss difference: 0.0106\n"
     ]
    },
    {
     "name": "stderr",
     "output_type": "stream",
     "text": [
      "LinAlg (Verbose) - DEBUG - Running symeig on a NotPSDNonLazyTensor of size torch.Size([121, 121]). Assumed Hermitian. Not clamping eigenvalues to zero\n",
      "LinAlg (Verbose) - DEBUG - Running symeig on a matrix of size torch.Size([5, 5]).\n",
      "LinAlg (Verbose) - DEBUG - Running symeig on a matrix of size torch.Size([14, 14]).\n",
      "LinAlg (Verbose) - DEBUG - Running CG on a torch.Size([8470, 1]) RHS for 2000 iterations (tol=0.01). Output: torch.Size([8470, 1]).\n"
     ]
    },
    {
     "name": "stdout",
     "output_type": "stream",
     "text": [
      "test\n",
      "computing log-det with Weyl's inequality!\n",
      "8470\n",
      "Iter 48/200 - Loss: 0.311   lengthscale: 0.430   noise: 0.081  loss difference: 0.0104\n"
     ]
    },
    {
     "name": "stderr",
     "output_type": "stream",
     "text": [
      "LinAlg (Verbose) - DEBUG - Running symeig on a NotPSDNonLazyTensor of size torch.Size([121, 121]). Assumed Hermitian. Not clamping eigenvalues to zero\n",
      "LinAlg (Verbose) - DEBUG - Running symeig on a matrix of size torch.Size([5, 5]).\n",
      "LinAlg (Verbose) - DEBUG - Running symeig on a matrix of size torch.Size([14, 14]).\n",
      "LinAlg (Verbose) - DEBUG - Running CG on a torch.Size([8470, 1]) RHS for 2000 iterations (tol=0.01). Output: torch.Size([8470, 1]).\n"
     ]
    },
    {
     "name": "stdout",
     "output_type": "stream",
     "text": [
      "test\n",
      "computing log-det with Weyl's inequality!\n",
      "8470\n",
      "Iter 49/200 - Loss: 0.301   lengthscale: 0.426   noise: 0.077  loss difference: 0.0101\n"
     ]
    },
    {
     "name": "stderr",
     "output_type": "stream",
     "text": [
      "LinAlg (Verbose) - DEBUG - Running symeig on a NotPSDNonLazyTensor of size torch.Size([121, 121]). Assumed Hermitian. Not clamping eigenvalues to zero\n",
      "LinAlg (Verbose) - DEBUG - Running symeig on a matrix of size torch.Size([5, 5]).\n",
      "LinAlg (Verbose) - DEBUG - Running symeig on a matrix of size torch.Size([14, 14]).\n",
      "LinAlg (Verbose) - DEBUG - Running CG on a torch.Size([8470, 1]) RHS for 2000 iterations (tol=0.01). Output: torch.Size([8470, 1]).\n"
     ]
    },
    {
     "name": "stdout",
     "output_type": "stream",
     "text": [
      "test\n",
      "computing log-det with Weyl's inequality!\n",
      "8470\n",
      "Iter 50/200 - Loss: 0.291   lengthscale: 0.421   noise: 0.073  loss difference: 0.0099\n"
     ]
    },
    {
     "name": "stderr",
     "output_type": "stream",
     "text": [
      "LinAlg (Verbose) - DEBUG - Running symeig on a NotPSDNonLazyTensor of size torch.Size([121, 121]). Assumed Hermitian. Not clamping eigenvalues to zero\n",
      "LinAlg (Verbose) - DEBUG - Running symeig on a matrix of size torch.Size([5, 5]).\n",
      "LinAlg (Verbose) - DEBUG - Running symeig on a matrix of size torch.Size([14, 14]).\n",
      "LinAlg (Verbose) - DEBUG - Running CG on a torch.Size([8470, 1]) RHS for 2000 iterations (tol=0.01). Output: torch.Size([8470, 1]).\n"
     ]
    },
    {
     "name": "stdout",
     "output_type": "stream",
     "text": [
      "test\n",
      "computing log-det with Weyl's inequality!\n",
      "8470\n",
      "Iter 51/200 - Loss: 0.281   lengthscale: 0.415   noise: 0.069  loss difference: 0.0095\n"
     ]
    },
    {
     "name": "stderr",
     "output_type": "stream",
     "text": [
      "LinAlg (Verbose) - DEBUG - Running symeig on a NotPSDNonLazyTensor of size torch.Size([121, 121]). Assumed Hermitian. Not clamping eigenvalues to zero\n",
      "LinAlg (Verbose) - DEBUG - Running symeig on a matrix of size torch.Size([5, 5]).\n",
      "LinAlg (Verbose) - DEBUG - Running symeig on a matrix of size torch.Size([14, 14]).\n",
      "LinAlg (Verbose) - DEBUG - Running CG on a torch.Size([8470, 1]) RHS for 2000 iterations (tol=0.01). Output: torch.Size([8470, 1]).\n"
     ]
    },
    {
     "name": "stdout",
     "output_type": "stream",
     "text": [
      "test\n",
      "computing log-det with Weyl's inequality!\n",
      "8470\n",
      "Iter 52/200 - Loss: 0.272   lengthscale: 0.408   noise: 0.066  loss difference: 0.0091\n"
     ]
    },
    {
     "name": "stderr",
     "output_type": "stream",
     "text": [
      "LinAlg (Verbose) - DEBUG - Running symeig on a NotPSDNonLazyTensor of size torch.Size([121, 121]). Assumed Hermitian. Not clamping eigenvalues to zero\n",
      "LinAlg (Verbose) - DEBUG - Running symeig on a matrix of size torch.Size([5, 5]).\n",
      "LinAlg (Verbose) - DEBUG - Running symeig on a matrix of size torch.Size([14, 14]).\n",
      "LinAlg (Verbose) - DEBUG - Running CG on a torch.Size([8470, 1]) RHS for 2000 iterations (tol=0.01). Output: torch.Size([8470, 1]).\n"
     ]
    },
    {
     "name": "stdout",
     "output_type": "stream",
     "text": [
      "test\n",
      "computing log-det with Weyl's inequality!\n",
      "8470\n",
      "Iter 53/200 - Loss: 0.263   lengthscale: 0.401   noise: 0.063  loss difference: 0.0087\n"
     ]
    },
    {
     "name": "stderr",
     "output_type": "stream",
     "text": [
      "LinAlg (Verbose) - DEBUG - Running symeig on a NotPSDNonLazyTensor of size torch.Size([121, 121]). Assumed Hermitian. Not clamping eigenvalues to zero\n",
      "LinAlg (Verbose) - DEBUG - Running symeig on a matrix of size torch.Size([5, 5]).\n",
      "LinAlg (Verbose) - DEBUG - Running symeig on a matrix of size torch.Size([14, 14]).\n",
      "LinAlg (Verbose) - DEBUG - Running CG on a torch.Size([8470, 1]) RHS for 2000 iterations (tol=0.01). Output: torch.Size([8470, 1]).\n"
     ]
    },
    {
     "name": "stdout",
     "output_type": "stream",
     "text": [
      "test\n",
      "computing log-det with Weyl's inequality!\n",
      "8470\n",
      "Iter 54/200 - Loss: 0.255   lengthscale: 0.393   noise: 0.060  loss difference: 0.0083\n"
     ]
    },
    {
     "name": "stderr",
     "output_type": "stream",
     "text": [
      "LinAlg (Verbose) - DEBUG - Running symeig on a NotPSDNonLazyTensor of size torch.Size([121, 121]). Assumed Hermitian. Not clamping eigenvalues to zero\n",
      "LinAlg (Verbose) - DEBUG - Running symeig on a matrix of size torch.Size([5, 5]).\n",
      "LinAlg (Verbose) - DEBUG - Running symeig on a matrix of size torch.Size([14, 14]).\n",
      "LinAlg (Verbose) - DEBUG - Running CG on a torch.Size([8470, 1]) RHS for 2000 iterations (tol=0.01). Output: torch.Size([8470, 1]).\n"
     ]
    },
    {
     "name": "stdout",
     "output_type": "stream",
     "text": [
      "test\n",
      "computing log-det with Weyl's inequality!\n",
      "8470\n",
      "Iter 55/200 - Loss: 0.247   lengthscale: 0.386   noise: 0.057  loss difference: 0.0079\n"
     ]
    },
    {
     "name": "stderr",
     "output_type": "stream",
     "text": [
      "LinAlg (Verbose) - DEBUG - Running symeig on a NotPSDNonLazyTensor of size torch.Size([121, 121]). Assumed Hermitian. Not clamping eigenvalues to zero\n",
      "LinAlg (Verbose) - DEBUG - Running symeig on a matrix of size torch.Size([5, 5]).\n",
      "LinAlg (Verbose) - DEBUG - Running symeig on a matrix of size torch.Size([14, 14]).\n",
      "LinAlg (Verbose) - DEBUG - Running CG on a torch.Size([8470, 1]) RHS for 2000 iterations (tol=0.01). Output: torch.Size([8470, 1]).\n"
     ]
    },
    {
     "name": "stdout",
     "output_type": "stream",
     "text": [
      "test\n",
      "computing log-det with Weyl's inequality!\n",
      "8470\n",
      "Iter 56/200 - Loss: 0.240   lengthscale: 0.378   noise: 0.054  loss difference: 0.0075\n"
     ]
    },
    {
     "name": "stderr",
     "output_type": "stream",
     "text": [
      "LinAlg (Verbose) - DEBUG - Running symeig on a NotPSDNonLazyTensor of size torch.Size([121, 121]). Assumed Hermitian. Not clamping eigenvalues to zero\n",
      "LinAlg (Verbose) - DEBUG - Running symeig on a matrix of size torch.Size([5, 5]).\n",
      "LinAlg (Verbose) - DEBUG - Running symeig on a matrix of size torch.Size([14, 14]).\n",
      "LinAlg (Verbose) - DEBUG - Running CG on a torch.Size([8470, 1]) RHS for 2000 iterations (tol=0.01). Output: torch.Size([8470, 1]).\n"
     ]
    },
    {
     "name": "stdout",
     "output_type": "stream",
     "text": [
      "test\n",
      "computing log-det with Weyl's inequality!\n",
      "8470\n",
      "Iter 57/200 - Loss: 0.232   lengthscale: 0.371   noise: 0.051  loss difference: 0.0073\n"
     ]
    },
    {
     "name": "stderr",
     "output_type": "stream",
     "text": [
      "LinAlg (Verbose) - DEBUG - Running symeig on a NotPSDNonLazyTensor of size torch.Size([121, 121]). Assumed Hermitian. Not clamping eigenvalues to zero\n",
      "LinAlg (Verbose) - DEBUG - Running symeig on a matrix of size torch.Size([5, 5]).\n",
      "LinAlg (Verbose) - DEBUG - Running symeig on a matrix of size torch.Size([14, 14]).\n",
      "LinAlg (Verbose) - DEBUG - Running CG on a torch.Size([8470, 1]) RHS for 2000 iterations (tol=0.01). Output: torch.Size([8470, 1]).\n"
     ]
    },
    {
     "name": "stdout",
     "output_type": "stream",
     "text": [
      "test\n",
      "computing log-det with Weyl's inequality!\n",
      "8470\n",
      "Iter 58/200 - Loss: 0.225   lengthscale: 0.364   noise: 0.049  loss difference: 0.0070\n"
     ]
    },
    {
     "name": "stderr",
     "output_type": "stream",
     "text": [
      "LinAlg (Verbose) - DEBUG - Running symeig on a NotPSDNonLazyTensor of size torch.Size([121, 121]). Assumed Hermitian. Not clamping eigenvalues to zero\n",
      "LinAlg (Verbose) - DEBUG - Running symeig on a matrix of size torch.Size([5, 5]).\n",
      "LinAlg (Verbose) - DEBUG - Running symeig on a matrix of size torch.Size([14, 14]).\n",
      "LinAlg (Verbose) - DEBUG - Running CG on a torch.Size([8470, 1]) RHS for 2000 iterations (tol=0.01). Output: torch.Size([8470, 1]).\n"
     ]
    },
    {
     "name": "stdout",
     "output_type": "stream",
     "text": [
      "test\n",
      "computing log-det with Weyl's inequality!\n",
      "8470\n",
      "Iter 59/200 - Loss: 0.219   lengthscale: 0.358   noise: 0.046  loss difference: 0.0069\n"
     ]
    },
    {
     "name": "stderr",
     "output_type": "stream",
     "text": [
      "LinAlg (Verbose) - DEBUG - Running symeig on a NotPSDNonLazyTensor of size torch.Size([121, 121]). Assumed Hermitian. Not clamping eigenvalues to zero\n",
      "LinAlg (Verbose) - DEBUG - Running symeig on a matrix of size torch.Size([5, 5]).\n",
      "LinAlg (Verbose) - DEBUG - Running symeig on a matrix of size torch.Size([14, 14]).\n",
      "LinAlg (Verbose) - DEBUG - Running CG on a torch.Size([8470, 1]) RHS for 2000 iterations (tol=0.01). Output: torch.Size([8470, 1]).\n"
     ]
    },
    {
     "name": "stdout",
     "output_type": "stream",
     "text": [
      "test\n",
      "computing log-det with Weyl's inequality!\n",
      "8470\n",
      "Iter 60/200 - Loss: 0.212   lengthscale: 0.353   noise: 0.044  loss difference: 0.0069\n"
     ]
    },
    {
     "name": "stderr",
     "output_type": "stream",
     "text": [
      "LinAlg (Verbose) - DEBUG - Running symeig on a NotPSDNonLazyTensor of size torch.Size([121, 121]). Assumed Hermitian. Not clamping eigenvalues to zero\n",
      "LinAlg (Verbose) - DEBUG - Running symeig on a matrix of size torch.Size([5, 5]).\n",
      "LinAlg (Verbose) - DEBUG - Running symeig on a matrix of size torch.Size([14, 14]).\n",
      "LinAlg (Verbose) - DEBUG - Running CG on a torch.Size([8470, 1]) RHS for 2000 iterations (tol=0.01). Output: torch.Size([8470, 1]).\n"
     ]
    },
    {
     "name": "stdout",
     "output_type": "stream",
     "text": [
      "test\n",
      "computing log-det with Weyl's inequality!\n",
      "8470\n",
      "Iter 61/200 - Loss: 0.204   lengthscale: 0.349   noise: 0.042  loss difference: 0.0073\n"
     ]
    },
    {
     "name": "stderr",
     "output_type": "stream",
     "text": [
      "LinAlg (Verbose) - DEBUG - Running symeig on a NotPSDNonLazyTensor of size torch.Size([121, 121]). Assumed Hermitian. Not clamping eigenvalues to zero\n",
      "LinAlg (Verbose) - DEBUG - Running symeig on a matrix of size torch.Size([5, 5]).\n",
      "LinAlg (Verbose) - DEBUG - Running symeig on a matrix of size torch.Size([14, 14]).\n",
      "LinAlg (Verbose) - DEBUG - Running CG on a torch.Size([8470, 1]) RHS for 2000 iterations (tol=0.01). Output: torch.Size([8470, 1]).\n"
     ]
    },
    {
     "name": "stdout",
     "output_type": "stream",
     "text": [
      "test\n",
      "computing log-det with Weyl's inequality!\n",
      "8470\n",
      "Iter 62/200 - Loss: 0.196   lengthscale: 0.347   noise: 0.040  loss difference: 0.0079\n"
     ]
    },
    {
     "name": "stderr",
     "output_type": "stream",
     "text": [
      "LinAlg (Verbose) - DEBUG - Running symeig on a NotPSDNonLazyTensor of size torch.Size([121, 121]). Assumed Hermitian. Not clamping eigenvalues to zero\n",
      "LinAlg (Verbose) - DEBUG - Running symeig on a matrix of size torch.Size([5, 5]).\n",
      "LinAlg (Verbose) - DEBUG - Running symeig on a matrix of size torch.Size([14, 14]).\n",
      "LinAlg (Verbose) - DEBUG - Running CG on a torch.Size([8470, 1]) RHS for 2000 iterations (tol=0.01). Output: torch.Size([8470, 1]).\n"
     ]
    },
    {
     "name": "stdout",
     "output_type": "stream",
     "text": [
      "test\n",
      "computing log-det with Weyl's inequality!\n",
      "8470\n",
      "Iter 63/200 - Loss: 0.188   lengthscale: 0.346   noise: 0.038  loss difference: 0.0088\n"
     ]
    },
    {
     "name": "stderr",
     "output_type": "stream",
     "text": [
      "LinAlg (Verbose) - DEBUG - Running symeig on a NotPSDNonLazyTensor of size torch.Size([121, 121]). Assumed Hermitian. Not clamping eigenvalues to zero\n",
      "LinAlg (Verbose) - DEBUG - Running symeig on a matrix of size torch.Size([5, 5]).\n",
      "LinAlg (Verbose) - DEBUG - Running symeig on a matrix of size torch.Size([14, 14]).\n",
      "LinAlg (Verbose) - DEBUG - Running CG on a torch.Size([8470, 1]) RHS for 2000 iterations (tol=0.01). Output: torch.Size([8470, 1]).\n"
     ]
    },
    {
     "name": "stdout",
     "output_type": "stream",
     "text": [
      "test\n",
      "computing log-det with Weyl's inequality!\n",
      "8470\n",
      "Iter 64/200 - Loss: 0.178   lengthscale: 0.347   noise: 0.036  loss difference: 0.0097\n"
     ]
    },
    {
     "name": "stderr",
     "output_type": "stream",
     "text": [
      "LinAlg (Verbose) - DEBUG - Running symeig on a NotPSDNonLazyTensor of size torch.Size([121, 121]). Assumed Hermitian. Not clamping eigenvalues to zero\n",
      "LinAlg (Verbose) - DEBUG - Running symeig on a matrix of size torch.Size([5, 5]).\n",
      "LinAlg (Verbose) - DEBUG - Running symeig on a matrix of size torch.Size([14, 14]).\n",
      "LinAlg (Verbose) - DEBUG - Running CG on a torch.Size([8470, 1]) RHS for 2000 iterations (tol=0.01). Output: torch.Size([8470, 1]).\n"
     ]
    },
    {
     "name": "stdout",
     "output_type": "stream",
     "text": [
      "test\n",
      "computing log-det with Weyl's inequality!\n",
      "8470\n",
      "Iter 65/200 - Loss: 0.168   lengthscale: 0.348   noise: 0.034  loss difference: 0.0103\n"
     ]
    },
    {
     "name": "stderr",
     "output_type": "stream",
     "text": [
      "LinAlg (Verbose) - DEBUG - Running symeig on a NotPSDNonLazyTensor of size torch.Size([121, 121]). Assumed Hermitian. Not clamping eigenvalues to zero\n",
      "LinAlg (Verbose) - DEBUG - Running symeig on a matrix of size torch.Size([5, 5]).\n",
      "LinAlg (Verbose) - DEBUG - Running symeig on a matrix of size torch.Size([14, 14]).\n",
      "LinAlg (Verbose) - DEBUG - Running CG on a torch.Size([8470, 1]) RHS for 2000 iterations (tol=0.01). Output: torch.Size([8470, 1]).\n"
     ]
    },
    {
     "name": "stdout",
     "output_type": "stream",
     "text": [
      "test\n",
      "computing log-det with Weyl's inequality!\n",
      "8470\n",
      "Iter 66/200 - Loss: 0.157   lengthscale: 0.350   noise: 0.032  loss difference: 0.0106\n"
     ]
    },
    {
     "name": "stderr",
     "output_type": "stream",
     "text": [
      "LinAlg (Verbose) - DEBUG - Running symeig on a NotPSDNonLazyTensor of size torch.Size([121, 121]). Assumed Hermitian. Not clamping eigenvalues to zero\n",
      "LinAlg (Verbose) - DEBUG - Running symeig on a matrix of size torch.Size([5, 5]).\n",
      "LinAlg (Verbose) - DEBUG - Running symeig on a matrix of size torch.Size([14, 14]).\n",
      "LinAlg (Verbose) - DEBUG - Running CG on a torch.Size([8470, 1]) RHS for 2000 iterations (tol=0.01). Output: torch.Size([8470, 1]).\n"
     ]
    },
    {
     "name": "stdout",
     "output_type": "stream",
     "text": [
      "test\n",
      "computing log-det with Weyl's inequality!\n",
      "8470\n",
      "Iter 67/200 - Loss: 0.147   lengthscale: 0.351   noise: 0.031  loss difference: 0.0105\n"
     ]
    },
    {
     "name": "stderr",
     "output_type": "stream",
     "text": [
      "LinAlg (Verbose) - DEBUG - Running symeig on a NotPSDNonLazyTensor of size torch.Size([121, 121]). Assumed Hermitian. Not clamping eigenvalues to zero\n",
      "LinAlg (Verbose) - DEBUG - Running symeig on a matrix of size torch.Size([5, 5]).\n",
      "LinAlg (Verbose) - DEBUG - Running symeig on a matrix of size torch.Size([14, 14]).\n",
      "LinAlg (Verbose) - DEBUG - Running CG on a torch.Size([8470, 1]) RHS for 2000 iterations (tol=0.01). Output: torch.Size([8470, 1]).\n"
     ]
    },
    {
     "name": "stdout",
     "output_type": "stream",
     "text": [
      "test\n",
      "computing log-det with Weyl's inequality!\n",
      "8470\n",
      "Iter 68/200 - Loss: 0.137   lengthscale: 0.350   noise: 0.029  loss difference: 0.0099\n"
     ]
    },
    {
     "name": "stderr",
     "output_type": "stream",
     "text": [
      "LinAlg (Verbose) - DEBUG - Running symeig on a NotPSDNonLazyTensor of size torch.Size([121, 121]). Assumed Hermitian. Not clamping eigenvalues to zero\n",
      "LinAlg (Verbose) - DEBUG - Running symeig on a matrix of size torch.Size([5, 5]).\n",
      "LinAlg (Verbose) - DEBUG - Running symeig on a matrix of size torch.Size([14, 14]).\n",
      "LinAlg (Verbose) - DEBUG - Running CG on a torch.Size([8470, 1]) RHS for 2000 iterations (tol=0.01). Output: torch.Size([8470, 1]).\n"
     ]
    },
    {
     "name": "stdout",
     "output_type": "stream",
     "text": [
      "test\n",
      "computing log-det with Weyl's inequality!\n",
      "8470\n",
      "Iter 69/200 - Loss: 0.127   lengthscale: 0.348   noise: 0.028  loss difference: 0.0091\n"
     ]
    },
    {
     "name": "stderr",
     "output_type": "stream",
     "text": [
      "LinAlg (Verbose) - DEBUG - Running symeig on a NotPSDNonLazyTensor of size torch.Size([121, 121]). Assumed Hermitian. Not clamping eigenvalues to zero\n",
      "LinAlg (Verbose) - DEBUG - Running symeig on a matrix of size torch.Size([5, 5]).\n",
      "LinAlg (Verbose) - DEBUG - Running symeig on a matrix of size torch.Size([14, 14]).\n",
      "LinAlg (Verbose) - DEBUG - Running CG on a torch.Size([8470, 1]) RHS for 2000 iterations (tol=0.01). Output: torch.Size([8470, 1]).\n"
     ]
    },
    {
     "name": "stdout",
     "output_type": "stream",
     "text": [
      "test\n",
      "computing log-det with Weyl's inequality!\n",
      "8470\n",
      "Iter 70/200 - Loss: 0.119   lengthscale: 0.345   noise: 0.027  loss difference: 0.0081\n"
     ]
    },
    {
     "name": "stderr",
     "output_type": "stream",
     "text": [
      "LinAlg (Verbose) - DEBUG - Running symeig on a NotPSDNonLazyTensor of size torch.Size([121, 121]). Assumed Hermitian. Not clamping eigenvalues to zero\n",
      "LinAlg (Verbose) - DEBUG - Running symeig on a matrix of size torch.Size([5, 5]).\n",
      "LinAlg (Verbose) - DEBUG - Running symeig on a matrix of size torch.Size([14, 14]).\n",
      "LinAlg (Verbose) - DEBUG - Running CG on a torch.Size([8470, 1]) RHS for 2000 iterations (tol=0.01). Output: torch.Size([8470, 1]).\n"
     ]
    },
    {
     "name": "stdout",
     "output_type": "stream",
     "text": [
      "test\n",
      "computing log-det with Weyl's inequality!\n",
      "8470\n",
      "Iter 71/200 - Loss: 0.112   lengthscale: 0.340   noise: 0.025  loss difference: 0.0071\n"
     ]
    },
    {
     "name": "stderr",
     "output_type": "stream",
     "text": [
      "LinAlg (Verbose) - DEBUG - Running symeig on a NotPSDNonLazyTensor of size torch.Size([121, 121]). Assumed Hermitian. Not clamping eigenvalues to zero\n",
      "LinAlg (Verbose) - DEBUG - Running symeig on a matrix of size torch.Size([5, 5]).\n",
      "LinAlg (Verbose) - DEBUG - Running symeig on a matrix of size torch.Size([14, 14]).\n",
      "LinAlg (Verbose) - DEBUG - Running CG on a torch.Size([8470, 1]) RHS for 2000 iterations (tol=0.01). Output: torch.Size([8470, 1]).\n"
     ]
    },
    {
     "name": "stdout",
     "output_type": "stream",
     "text": [
      "test\n",
      "computing log-det with Weyl's inequality!\n",
      "8470\n",
      "Iter 72/200 - Loss: 0.106   lengthscale: 0.336   noise: 0.024  loss difference: 0.0064\n"
     ]
    },
    {
     "name": "stderr",
     "output_type": "stream",
     "text": [
      "LinAlg (Verbose) - DEBUG - Running symeig on a NotPSDNonLazyTensor of size torch.Size([121, 121]). Assumed Hermitian. Not clamping eigenvalues to zero\n",
      "LinAlg (Verbose) - DEBUG - Running symeig on a matrix of size torch.Size([5, 5]).\n",
      "LinAlg (Verbose) - DEBUG - Running symeig on a matrix of size torch.Size([14, 14]).\n",
      "LinAlg (Verbose) - DEBUG - Running CG on a torch.Size([8470, 1]) RHS for 2000 iterations (tol=0.01). Output: torch.Size([8470, 1]).\n"
     ]
    },
    {
     "name": "stdout",
     "output_type": "stream",
     "text": [
      "test\n",
      "computing log-det with Weyl's inequality!\n",
      "8470\n",
      "Iter 73/200 - Loss: 0.100   lengthscale: 0.332   noise: 0.023  loss difference: 0.0060\n"
     ]
    },
    {
     "name": "stderr",
     "output_type": "stream",
     "text": [
      "LinAlg (Verbose) - DEBUG - Running symeig on a NotPSDNonLazyTensor of size torch.Size([121, 121]). Assumed Hermitian. Not clamping eigenvalues to zero\n",
      "LinAlg (Verbose) - DEBUG - Running symeig on a matrix of size torch.Size([5, 5]).\n",
      "LinAlg (Verbose) - DEBUG - Running symeig on a matrix of size torch.Size([14, 14]).\n",
      "LinAlg (Verbose) - DEBUG - Running CG on a torch.Size([8470, 1]) RHS for 2000 iterations (tol=0.01). Output: torch.Size([8470, 1]).\n"
     ]
    },
    {
     "name": "stdout",
     "output_type": "stream",
     "text": [
      "test\n",
      "computing log-det with Weyl's inequality!\n",
      "8470\n",
      "Iter 74/200 - Loss: 0.094   lengthscale: 0.329   noise: 0.022  loss difference: 0.0064\n"
     ]
    },
    {
     "name": "stderr",
     "output_type": "stream",
     "text": [
      "LinAlg (Verbose) - DEBUG - Running symeig on a NotPSDNonLazyTensor of size torch.Size([121, 121]). Assumed Hermitian. Not clamping eigenvalues to zero\n",
      "LinAlg (Verbose) - DEBUG - Running symeig on a matrix of size torch.Size([5, 5]).\n",
      "LinAlg (Verbose) - DEBUG - Running symeig on a matrix of size torch.Size([14, 14]).\n",
      "LinAlg (Verbose) - DEBUG - Running CG on a torch.Size([8470, 1]) RHS for 2000 iterations (tol=0.01). Output: torch.Size([8470, 1]).\n"
     ]
    },
    {
     "name": "stdout",
     "output_type": "stream",
     "text": [
      "test\n",
      "computing log-det with Weyl's inequality!\n",
      "8470\n",
      "Iter 75/200 - Loss: 0.087   lengthscale: 0.328   noise: 0.021  loss difference: 0.0069\n"
     ]
    },
    {
     "name": "stderr",
     "output_type": "stream",
     "text": [
      "LinAlg (Verbose) - DEBUG - Running symeig on a NotPSDNonLazyTensor of size torch.Size([121, 121]). Assumed Hermitian. Not clamping eigenvalues to zero\n",
      "LinAlg (Verbose) - DEBUG - Running symeig on a matrix of size torch.Size([5, 5]).\n",
      "LinAlg (Verbose) - DEBUG - Running symeig on a matrix of size torch.Size([14, 14]).\n",
      "LinAlg (Verbose) - DEBUG - Running CG on a torch.Size([8470, 1]) RHS for 2000 iterations (tol=0.01). Output: torch.Size([8470, 1]).\n"
     ]
    },
    {
     "name": "stdout",
     "output_type": "stream",
     "text": [
      "test\n",
      "computing log-det with Weyl's inequality!\n",
      "8470\n",
      "Iter 76/200 - Loss: 0.079   lengthscale: 0.327   noise: 0.020  loss difference: 0.0075\n"
     ]
    },
    {
     "name": "stderr",
     "output_type": "stream",
     "text": [
      "LinAlg (Verbose) - DEBUG - Running symeig on a NotPSDNonLazyTensor of size torch.Size([121, 121]). Assumed Hermitian. Not clamping eigenvalues to zero\n",
      "LinAlg (Verbose) - DEBUG - Running symeig on a matrix of size torch.Size([5, 5]).\n",
      "LinAlg (Verbose) - DEBUG - Running symeig on a matrix of size torch.Size([14, 14]).\n",
      "LinAlg (Verbose) - DEBUG - Running CG on a torch.Size([8470, 1]) RHS for 2000 iterations (tol=0.01). Output: torch.Size([8470, 1]).\n"
     ]
    },
    {
     "name": "stdout",
     "output_type": "stream",
     "text": [
      "test\n",
      "computing log-det with Weyl's inequality!\n",
      "8470\n",
      "Iter 77/200 - Loss: 0.071   lengthscale: 0.328   noise: 0.019  loss difference: 0.0080\n"
     ]
    },
    {
     "name": "stderr",
     "output_type": "stream",
     "text": [
      "LinAlg (Verbose) - DEBUG - Running symeig on a NotPSDNonLazyTensor of size torch.Size([121, 121]). Assumed Hermitian. Not clamping eigenvalues to zero\n",
      "LinAlg (Verbose) - DEBUG - Running symeig on a matrix of size torch.Size([5, 5]).\n",
      "LinAlg (Verbose) - DEBUG - Running symeig on a matrix of size torch.Size([14, 14]).\n",
      "LinAlg (Verbose) - DEBUG - Running CG on a torch.Size([8470, 1]) RHS for 2000 iterations (tol=0.01). Output: torch.Size([8470, 1]).\n"
     ]
    },
    {
     "name": "stdout",
     "output_type": "stream",
     "text": [
      "test\n",
      "computing log-det with Weyl's inequality!\n",
      "8470\n",
      "Iter 78/200 - Loss: 0.063   lengthscale: 0.329   noise: 0.018  loss difference: 0.0085\n"
     ]
    },
    {
     "name": "stderr",
     "output_type": "stream",
     "text": [
      "LinAlg (Verbose) - DEBUG - Running symeig on a NotPSDNonLazyTensor of size torch.Size([121, 121]). Assumed Hermitian. Not clamping eigenvalues to zero\n",
      "LinAlg (Verbose) - DEBUG - Running symeig on a matrix of size torch.Size([5, 5]).\n",
      "LinAlg (Verbose) - DEBUG - Running symeig on a matrix of size torch.Size([14, 14]).\n",
      "LinAlg (Verbose) - DEBUG - Running CG on a torch.Size([8470, 1]) RHS for 2000 iterations (tol=0.01). Output: torch.Size([8470, 1]).\n"
     ]
    },
    {
     "name": "stdout",
     "output_type": "stream",
     "text": [
      "test\n",
      "computing log-det with Weyl's inequality!\n",
      "8470\n",
      "Iter 79/200 - Loss: 0.053   lengthscale: 0.331   noise: 0.017  loss difference: 0.0093\n"
     ]
    },
    {
     "name": "stderr",
     "output_type": "stream",
     "text": [
      "LinAlg (Verbose) - DEBUG - Running symeig on a NotPSDNonLazyTensor of size torch.Size([121, 121]). Assumed Hermitian. Not clamping eigenvalues to zero\n",
      "LinAlg (Verbose) - DEBUG - Running symeig on a matrix of size torch.Size([5, 5]).\n",
      "LinAlg (Verbose) - DEBUG - Running symeig on a matrix of size torch.Size([14, 14]).\n",
      "LinAlg (Verbose) - DEBUG - Running CG on a torch.Size([8470, 1]) RHS for 2000 iterations (tol=0.01). Output: torch.Size([8470, 1]).\n"
     ]
    },
    {
     "name": "stdout",
     "output_type": "stream",
     "text": [
      "test\n",
      "computing log-det with Weyl's inequality!\n",
      "8470\n",
      "Iter 80/200 - Loss: 0.044   lengthscale: 0.332   noise: 0.017  loss difference: 0.0095\n"
     ]
    },
    {
     "name": "stderr",
     "output_type": "stream",
     "text": [
      "LinAlg (Verbose) - DEBUG - Running symeig on a NotPSDNonLazyTensor of size torch.Size([121, 121]). Assumed Hermitian. Not clamping eigenvalues to zero\n",
      "LinAlg (Verbose) - DEBUG - Running symeig on a matrix of size torch.Size([5, 5]).\n",
      "LinAlg (Verbose) - DEBUG - Running symeig on a matrix of size torch.Size([14, 14]).\n",
      "LinAlg (Verbose) - DEBUG - Running CG on a torch.Size([8470, 1]) RHS for 2000 iterations (tol=0.01). Output: torch.Size([8470, 1]).\n"
     ]
    },
    {
     "name": "stdout",
     "output_type": "stream",
     "text": [
      "test\n",
      "computing log-det with Weyl's inequality!\n",
      "8470\n",
      "Iter 81/200 - Loss: 0.035   lengthscale: 0.332   noise: 0.016  loss difference: 0.0088\n"
     ]
    },
    {
     "name": "stderr",
     "output_type": "stream",
     "text": [
      "LinAlg (Verbose) - DEBUG - Running symeig on a NotPSDNonLazyTensor of size torch.Size([121, 121]). Assumed Hermitian. Not clamping eigenvalues to zero\n",
      "LinAlg (Verbose) - DEBUG - Running symeig on a matrix of size torch.Size([5, 5]).\n",
      "LinAlg (Verbose) - DEBUG - Running symeig on a matrix of size torch.Size([14, 14]).\n",
      "LinAlg (Verbose) - DEBUG - Running CG on a torch.Size([8470, 1]) RHS for 2000 iterations (tol=0.01). Output: torch.Size([8470, 1]).\n"
     ]
    },
    {
     "name": "stdout",
     "output_type": "stream",
     "text": [
      "test\n",
      "computing log-det with Weyl's inequality!\n",
      "8470\n",
      "Iter 82/200 - Loss: 0.027   lengthscale: 0.332   noise: 0.015  loss difference: 0.0079\n"
     ]
    },
    {
     "name": "stderr",
     "output_type": "stream",
     "text": [
      "LinAlg (Verbose) - DEBUG - Running symeig on a NotPSDNonLazyTensor of size torch.Size([121, 121]). Assumed Hermitian. Not clamping eigenvalues to zero\n",
      "LinAlg (Verbose) - DEBUG - Running symeig on a matrix of size torch.Size([5, 5]).\n",
      "LinAlg (Verbose) - DEBUG - Running symeig on a matrix of size torch.Size([14, 14]).\n",
      "LinAlg (Verbose) - DEBUG - Running CG on a torch.Size([8470, 1]) RHS for 2000 iterations (tol=0.01). Output: torch.Size([8470, 1]).\n"
     ]
    },
    {
     "name": "stdout",
     "output_type": "stream",
     "text": [
      "test\n",
      "computing log-det with Weyl's inequality!\n",
      "8470\n",
      "Iter 83/200 - Loss: 0.020   lengthscale: 0.332   noise: 0.014  loss difference: 0.0074\n"
     ]
    },
    {
     "name": "stderr",
     "output_type": "stream",
     "text": [
      "LinAlg (Verbose) - DEBUG - Running symeig on a NotPSDNonLazyTensor of size torch.Size([121, 121]). Assumed Hermitian. Not clamping eigenvalues to zero\n",
      "LinAlg (Verbose) - DEBUG - Running symeig on a matrix of size torch.Size([5, 5]).\n",
      "LinAlg (Verbose) - DEBUG - Running symeig on a matrix of size torch.Size([14, 14]).\n",
      "LinAlg (Verbose) - DEBUG - Running CG on a torch.Size([8470, 1]) RHS for 2000 iterations (tol=0.01). Output: torch.Size([8470, 1]).\n"
     ]
    },
    {
     "name": "stdout",
     "output_type": "stream",
     "text": [
      "test\n",
      "computing log-det with Weyl's inequality!\n",
      "8470\n",
      "Iter 84/200 - Loss: 0.012   lengthscale: 0.334   noise: 0.014  loss difference: 0.0078\n"
     ]
    },
    {
     "name": "stderr",
     "output_type": "stream",
     "text": [
      "LinAlg (Verbose) - DEBUG - Running symeig on a NotPSDNonLazyTensor of size torch.Size([121, 121]). Assumed Hermitian. Not clamping eigenvalues to zero\n",
      "LinAlg (Verbose) - DEBUG - Running symeig on a matrix of size torch.Size([5, 5]).\n",
      "LinAlg (Verbose) - DEBUG - Running symeig on a matrix of size torch.Size([14, 14]).\n",
      "LinAlg (Verbose) - DEBUG - Running CG on a torch.Size([8470, 1]) RHS for 2000 iterations (tol=0.01). Output: torch.Size([8470, 1]).\n"
     ]
    },
    {
     "name": "stdout",
     "output_type": "stream",
     "text": [
      "test\n",
      "computing log-det with Weyl's inequality!\n",
      "8470\n",
      "Iter 85/200 - Loss: 0.004   lengthscale: 0.334   noise: 0.013  loss difference: 0.0082\n"
     ]
    },
    {
     "name": "stderr",
     "output_type": "stream",
     "text": [
      "LinAlg (Verbose) - DEBUG - Running symeig on a NotPSDNonLazyTensor of size torch.Size([121, 121]). Assumed Hermitian. Not clamping eigenvalues to zero\n",
      "LinAlg (Verbose) - DEBUG - Running symeig on a matrix of size torch.Size([5, 5]).\n",
      "LinAlg (Verbose) - DEBUG - Running symeig on a matrix of size torch.Size([14, 14]).\n",
      "LinAlg (Verbose) - DEBUG - Running CG on a torch.Size([8470, 1]) RHS for 2000 iterations (tol=0.01). Output: torch.Size([8470, 1]).\n"
     ]
    },
    {
     "name": "stdout",
     "output_type": "stream",
     "text": [
      "test\n",
      "computing log-det with Weyl's inequality!\n",
      "8470\n",
      "Iter 86/200 - Loss: -0.004   lengthscale: 0.333   noise: 0.013  loss difference: 0.0075\n"
     ]
    },
    {
     "name": "stderr",
     "output_type": "stream",
     "text": [
      "LinAlg (Verbose) - DEBUG - Running symeig on a NotPSDNonLazyTensor of size torch.Size([121, 121]). Assumed Hermitian. Not clamping eigenvalues to zero\n",
      "LinAlg (Verbose) - DEBUG - Running symeig on a matrix of size torch.Size([5, 5]).\n",
      "LinAlg (Verbose) - DEBUG - Running symeig on a matrix of size torch.Size([14, 14]).\n",
      "LinAlg (Verbose) - DEBUG - Running CG on a torch.Size([8470, 1]) RHS for 2000 iterations (tol=0.01). Output: torch.Size([8470, 1]).\n"
     ]
    },
    {
     "name": "stdout",
     "output_type": "stream",
     "text": [
      "test\n",
      "computing log-det with Weyl's inequality!\n",
      "8470\n",
      "Iter 87/200 - Loss: -0.010   lengthscale: 0.331   noise: 0.012  loss difference: 0.0062\n"
     ]
    },
    {
     "name": "stderr",
     "output_type": "stream",
     "text": [
      "LinAlg (Verbose) - DEBUG - Running symeig on a NotPSDNonLazyTensor of size torch.Size([121, 121]). Assumed Hermitian. Not clamping eigenvalues to zero\n",
      "LinAlg (Verbose) - DEBUG - Running symeig on a matrix of size torch.Size([5, 5]).\n",
      "LinAlg (Verbose) - DEBUG - Running symeig on a matrix of size torch.Size([14, 14]).\n",
      "LinAlg (Verbose) - DEBUG - Running CG on a torch.Size([8470, 1]) RHS for 2000 iterations (tol=0.01). Output: torch.Size([8470, 1]).\n"
     ]
    },
    {
     "name": "stdout",
     "output_type": "stream",
     "text": [
      "test\n",
      "computing log-det with Weyl's inequality!\n",
      "8470\n",
      "Iter 88/200 - Loss: -0.015   lengthscale: 0.329   noise: 0.011  loss difference: 0.0053\n"
     ]
    },
    {
     "name": "stderr",
     "output_type": "stream",
     "text": [
      "LinAlg (Verbose) - DEBUG - Running symeig on a NotPSDNonLazyTensor of size torch.Size([121, 121]). Assumed Hermitian. Not clamping eigenvalues to zero\n",
      "LinAlg (Verbose) - DEBUG - Running symeig on a matrix of size torch.Size([5, 5]).\n",
      "LinAlg (Verbose) - DEBUG - Running symeig on a matrix of size torch.Size([14, 14]).\n",
      "LinAlg (Verbose) - DEBUG - Running CG on a torch.Size([8470, 1]) RHS for 2000 iterations (tol=0.01). Output: torch.Size([8470, 1]).\n"
     ]
    },
    {
     "name": "stdout",
     "output_type": "stream",
     "text": [
      "test\n",
      "computing log-det with Weyl's inequality!\n",
      "8470\n",
      "Iter 89/200 - Loss: -0.020   lengthscale: 0.327   noise: 0.011  loss difference: 0.0051\n"
     ]
    },
    {
     "name": "stderr",
     "output_type": "stream",
     "text": [
      "LinAlg (Verbose) - DEBUG - Running symeig on a NotPSDNonLazyTensor of size torch.Size([121, 121]). Assumed Hermitian. Not clamping eigenvalues to zero\n",
      "LinAlg (Verbose) - DEBUG - Running symeig on a matrix of size torch.Size([5, 5]).\n",
      "LinAlg (Verbose) - DEBUG - Running symeig on a matrix of size torch.Size([14, 14]).\n",
      "LinAlg (Verbose) - DEBUG - Running CG on a torch.Size([8470, 1]) RHS for 2000 iterations (tol=0.01). Output: torch.Size([8470, 1]).\n"
     ]
    },
    {
     "name": "stdout",
     "output_type": "stream",
     "text": [
      "test\n",
      "computing log-det with Weyl's inequality!\n",
      "8470\n",
      "Iter 90/200 - Loss: -0.025   lengthscale: 0.325   noise: 0.011  loss difference: 0.0049\n"
     ]
    },
    {
     "name": "stderr",
     "output_type": "stream",
     "text": [
      "LinAlg (Verbose) - DEBUG - Running symeig on a NotPSDNonLazyTensor of size torch.Size([121, 121]). Assumed Hermitian. Not clamping eigenvalues to zero\n",
      "LinAlg (Verbose) - DEBUG - Running symeig on a matrix of size torch.Size([5, 5]).\n",
      "LinAlg (Verbose) - DEBUG - Running symeig on a matrix of size torch.Size([14, 14]).\n",
      "LinAlg (Verbose) - DEBUG - Running CG on a torch.Size([8470, 1]) RHS for 2000 iterations (tol=0.01). Output: torch.Size([8470, 1]).\n"
     ]
    },
    {
     "name": "stdout",
     "output_type": "stream",
     "text": [
      "test\n",
      "computing log-det with Weyl's inequality!\n",
      "8470\n",
      "Iter 91/200 - Loss: -0.030   lengthscale: 0.325   noise: 0.010  loss difference: 0.0051\n"
     ]
    },
    {
     "name": "stderr",
     "output_type": "stream",
     "text": [
      "LinAlg (Verbose) - DEBUG - Running symeig on a NotPSDNonLazyTensor of size torch.Size([121, 121]). Assumed Hermitian. Not clamping eigenvalues to zero\n",
      "LinAlg (Verbose) - DEBUG - Running symeig on a matrix of size torch.Size([5, 5]).\n",
      "LinAlg (Verbose) - DEBUG - Running symeig on a matrix of size torch.Size([14, 14]).\n",
      "LinAlg (Verbose) - DEBUG - Running CG on a torch.Size([8470, 1]) RHS for 2000 iterations (tol=0.01). Output: torch.Size([8470, 1]).\n"
     ]
    },
    {
     "name": "stdout",
     "output_type": "stream",
     "text": [
      "test\n",
      "computing log-det with Weyl's inequality!\n",
      "8470\n",
      "Iter 92/200 - Loss: -0.037   lengthscale: 0.327   noise: 0.010  loss difference: 0.0064\n"
     ]
    },
    {
     "name": "stderr",
     "output_type": "stream",
     "text": [
      "LinAlg (Verbose) - DEBUG - Running symeig on a NotPSDNonLazyTensor of size torch.Size([121, 121]). Assumed Hermitian. Not clamping eigenvalues to zero\n",
      "LinAlg (Verbose) - DEBUG - Running symeig on a matrix of size torch.Size([5, 5]).\n",
      "LinAlg (Verbose) - DEBUG - Running symeig on a matrix of size torch.Size([14, 14]).\n",
      "LinAlg (Verbose) - DEBUG - Running CG on a torch.Size([8470, 1]) RHS for 2000 iterations (tol=0.01). Output: torch.Size([8470, 1]).\n"
     ]
    },
    {
     "name": "stdout",
     "output_type": "stream",
     "text": [
      "test\n",
      "computing log-det with Weyl's inequality!\n",
      "8470\n",
      "Iter 93/200 - Loss: -0.044   lengthscale: 0.330   noise: 0.009  loss difference: 0.0076\n"
     ]
    },
    {
     "name": "stderr",
     "output_type": "stream",
     "text": [
      "LinAlg (Verbose) - DEBUG - Running symeig on a NotPSDNonLazyTensor of size torch.Size([121, 121]). Assumed Hermitian. Not clamping eigenvalues to zero\n",
      "LinAlg (Verbose) - DEBUG - Running symeig on a matrix of size torch.Size([5, 5]).\n",
      "LinAlg (Verbose) - DEBUG - Running symeig on a matrix of size torch.Size([14, 14]).\n",
      "LinAlg (Verbose) - DEBUG - Running CG on a torch.Size([8470, 1]) RHS for 2000 iterations (tol=0.01). Output: torch.Size([8470, 1]).\n"
     ]
    },
    {
     "name": "stdout",
     "output_type": "stream",
     "text": [
      "test\n",
      "computing log-det with Weyl's inequality!\n",
      "8470\n",
      "Iter 94/200 - Loss: -0.052   lengthscale: 0.332   noise: 0.009  loss difference: 0.0077\n"
     ]
    },
    {
     "name": "stderr",
     "output_type": "stream",
     "text": [
      "LinAlg (Verbose) - DEBUG - Running symeig on a NotPSDNonLazyTensor of size torch.Size([121, 121]). Assumed Hermitian. Not clamping eigenvalues to zero\n",
      "LinAlg (Verbose) - DEBUG - Running symeig on a matrix of size torch.Size([5, 5]).\n",
      "LinAlg (Verbose) - DEBUG - Running symeig on a matrix of size torch.Size([14, 14]).\n",
      "LinAlg (Verbose) - DEBUG - Running CG on a torch.Size([8470, 1]) RHS for 2000 iterations (tol=0.01). Output: torch.Size([8470, 1]).\n"
     ]
    },
    {
     "name": "stdout",
     "output_type": "stream",
     "text": [
      "test\n",
      "computing log-det with Weyl's inequality!\n",
      "8470\n",
      "Iter 95/200 - Loss: -0.059   lengthscale: 0.333   noise: 0.009  loss difference: 0.0072\n"
     ]
    },
    {
     "name": "stderr",
     "output_type": "stream",
     "text": [
      "LinAlg (Verbose) - DEBUG - Running symeig on a NotPSDNonLazyTensor of size torch.Size([121, 121]). Assumed Hermitian. Not clamping eigenvalues to zero\n",
      "LinAlg (Verbose) - DEBUG - Running symeig on a matrix of size torch.Size([5, 5]).\n",
      "LinAlg (Verbose) - DEBUG - Running symeig on a matrix of size torch.Size([14, 14]).\n",
      "LinAlg (Verbose) - DEBUG - Running CG on a torch.Size([8470, 1]) RHS for 2000 iterations (tol=0.01). Output: torch.Size([8470, 1]).\n"
     ]
    },
    {
     "name": "stdout",
     "output_type": "stream",
     "text": [
      "test\n",
      "computing log-det with Weyl's inequality!\n",
      "8470\n",
      "Iter 96/200 - Loss: -0.066   lengthscale: 0.333   noise: 0.008  loss difference: 0.0068\n"
     ]
    },
    {
     "name": "stderr",
     "output_type": "stream",
     "text": [
      "LinAlg (Verbose) - DEBUG - Running symeig on a NotPSDNonLazyTensor of size torch.Size([121, 121]). Assumed Hermitian. Not clamping eigenvalues to zero\n",
      "LinAlg (Verbose) - DEBUG - Running symeig on a matrix of size torch.Size([5, 5]).\n",
      "LinAlg (Verbose) - DEBUG - Running symeig on a matrix of size torch.Size([14, 14]).\n",
      "LinAlg (Verbose) - DEBUG - Running CG on a torch.Size([8470, 1]) RHS for 2000 iterations (tol=0.01). Output: torch.Size([8470, 1]).\n"
     ]
    },
    {
     "name": "stdout",
     "output_type": "stream",
     "text": [
      "test\n",
      "computing log-det with Weyl's inequality!\n",
      "8470\n",
      "Iter 97/200 - Loss: -0.071   lengthscale: 0.329   noise: 0.008  loss difference: 0.0049\n"
     ]
    },
    {
     "name": "stderr",
     "output_type": "stream",
     "text": [
      "LinAlg (Verbose) - DEBUG - Running symeig on a NotPSDNonLazyTensor of size torch.Size([121, 121]). Assumed Hermitian. Not clamping eigenvalues to zero\n",
      "LinAlg (Verbose) - DEBUG - Running symeig on a matrix of size torch.Size([5, 5]).\n",
      "LinAlg (Verbose) - DEBUG - Running symeig on a matrix of size torch.Size([14, 14]).\n",
      "LinAlg (Verbose) - DEBUG - Running CG on a torch.Size([8470, 1]) RHS for 2000 iterations (tol=0.01). Output: torch.Size([8470, 1]).\n"
     ]
    },
    {
     "name": "stdout",
     "output_type": "stream",
     "text": [
      "test\n",
      "computing log-det with Weyl's inequality!\n",
      "8470\n",
      "Iter 98/200 - Loss: -0.073   lengthscale: 0.324   noise: 0.008  loss difference: 0.0021\n"
     ]
    },
    {
     "name": "stderr",
     "output_type": "stream",
     "text": [
      "LinAlg (Verbose) - DEBUG - Running symeig on a NotPSDNonLazyTensor of size torch.Size([121, 121]). Assumed Hermitian. Not clamping eigenvalues to zero\n",
      "LinAlg (Verbose) - DEBUG - Running symeig on a matrix of size torch.Size([5, 5]).\n",
      "LinAlg (Verbose) - DEBUG - Running symeig on a matrix of size torch.Size([14, 14]).\n",
      "LinAlg (Verbose) - DEBUG - Running CG on a torch.Size([8470, 1]) RHS for 2000 iterations (tol=0.01). Output: torch.Size([8470, 1]).\n"
     ]
    },
    {
     "name": "stdout",
     "output_type": "stream",
     "text": [
      "test\n",
      "computing log-det with Weyl's inequality!\n",
      "8470\n",
      "Iter 99/200 - Loss: -0.075   lengthscale: 0.323   noise: 0.007  loss difference: 0.0015\n"
     ]
    },
    {
     "name": "stderr",
     "output_type": "stream",
     "text": [
      "LinAlg (Verbose) - DEBUG - Running symeig on a NotPSDNonLazyTensor of size torch.Size([121, 121]). Assumed Hermitian. Not clamping eigenvalues to zero\n",
      "LinAlg (Verbose) - DEBUG - Running symeig on a matrix of size torch.Size([5, 5]).\n",
      "LinAlg (Verbose) - DEBUG - Running symeig on a matrix of size torch.Size([14, 14]).\n",
      "LinAlg (Verbose) - DEBUG - Running CG on a torch.Size([8470, 1]) RHS for 2000 iterations (tol=0.01). Output: torch.Size([8470, 1]).\n"
     ]
    },
    {
     "name": "stdout",
     "output_type": "stream",
     "text": [
      "test\n",
      "computing log-det with Weyl's inequality!\n",
      "8470\n",
      "Iter 100/200 - Loss: -0.078   lengthscale: 0.323   noise: 0.007  loss difference: 0.0035\n"
     ]
    },
    {
     "name": "stderr",
     "output_type": "stream",
     "text": [
      "LinAlg (Verbose) - DEBUG - Running symeig on a NotPSDNonLazyTensor of size torch.Size([121, 121]). Assumed Hermitian. Not clamping eigenvalues to zero\n",
      "LinAlg (Verbose) - DEBUG - Running symeig on a matrix of size torch.Size([5, 5]).\n",
      "LinAlg (Verbose) - DEBUG - Running symeig on a matrix of size torch.Size([14, 14]).\n",
      "LinAlg (Verbose) - DEBUG - Running CG on a torch.Size([8470, 1]) RHS for 2000 iterations (tol=0.01). Output: torch.Size([8470, 1]).\n"
     ]
    },
    {
     "name": "stdout",
     "output_type": "stream",
     "text": [
      "test\n",
      "computing log-det with Weyl's inequality!\n",
      "8470\n",
      "Iter 101/200 - Loss: -0.083   lengthscale: 0.325   noise: 0.007  loss difference: 0.0047\n"
     ]
    },
    {
     "name": "stderr",
     "output_type": "stream",
     "text": [
      "LinAlg (Verbose) - DEBUG - Running symeig on a NotPSDNonLazyTensor of size torch.Size([121, 121]). Assumed Hermitian. Not clamping eigenvalues to zero\n",
      "LinAlg (Verbose) - DEBUG - Running symeig on a matrix of size torch.Size([5, 5]).\n",
      "LinAlg (Verbose) - DEBUG - Running symeig on a matrix of size torch.Size([14, 14]).\n",
      "LinAlg (Verbose) - DEBUG - Running CG on a torch.Size([8470, 1]) RHS for 2000 iterations (tol=0.01). Output: torch.Size([8470, 1]).\n"
     ]
    },
    {
     "name": "stdout",
     "output_type": "stream",
     "text": [
      "test\n",
      "computing log-det with Weyl's inequality!\n",
      "8470\n",
      "Iter 102/200 - Loss: -0.089   lengthscale: 0.327   noise: 0.007  loss difference: 0.0059\n"
     ]
    },
    {
     "name": "stderr",
     "output_type": "stream",
     "text": [
      "LinAlg (Verbose) - DEBUG - Running symeig on a NotPSDNonLazyTensor of size torch.Size([121, 121]). Assumed Hermitian. Not clamping eigenvalues to zero\n",
      "LinAlg (Verbose) - DEBUG - Running symeig on a matrix of size torch.Size([5, 5]).\n",
      "LinAlg (Verbose) - DEBUG - Running symeig on a matrix of size torch.Size([14, 14]).\n",
      "LinAlg (Verbose) - DEBUG - Running CG on a torch.Size([8470, 1]) RHS for 2000 iterations (tol=0.01). Output: torch.Size([8470, 1]).\n"
     ]
    },
    {
     "name": "stdout",
     "output_type": "stream",
     "text": [
      "test\n",
      "computing log-det with Weyl's inequality!\n",
      "8470\n",
      "Iter 103/200 - Loss: -0.095   lengthscale: 0.327   noise: 0.006  loss difference: 0.0062\n"
     ]
    },
    {
     "name": "stderr",
     "output_type": "stream",
     "text": [
      "LinAlg (Verbose) - DEBUG - Running symeig on a NotPSDNonLazyTensor of size torch.Size([121, 121]). Assumed Hermitian. Not clamping eigenvalues to zero\n",
      "LinAlg (Verbose) - DEBUG - Running symeig on a matrix of size torch.Size([5, 5]).\n",
      "LinAlg (Verbose) - DEBUG - Running symeig on a matrix of size torch.Size([14, 14]).\n",
      "LinAlg (Verbose) - DEBUG - Running CG on a torch.Size([8470, 1]) RHS for 2000 iterations (tol=0.01). Output: torch.Size([8470, 1]).\n"
     ]
    },
    {
     "name": "stdout",
     "output_type": "stream",
     "text": [
      "test\n",
      "computing log-det with Weyl's inequality!\n",
      "8470\n",
      "Iter 104/200 - Loss: -0.099   lengthscale: 0.326   noise: 0.006  loss difference: 0.0041\n"
     ]
    },
    {
     "name": "stderr",
     "output_type": "stream",
     "text": [
      "LinAlg (Verbose) - DEBUG - Running symeig on a NotPSDNonLazyTensor of size torch.Size([121, 121]). Assumed Hermitian. Not clamping eigenvalues to zero\n",
      "LinAlg (Verbose) - DEBUG - Running symeig on a matrix of size torch.Size([5, 5]).\n",
      "LinAlg (Verbose) - DEBUG - Running symeig on a matrix of size torch.Size([14, 14]).\n",
      "LinAlg (Verbose) - DEBUG - Running CG on a torch.Size([8470, 1]) RHS for 2000 iterations (tol=0.01). Output: torch.Size([8470, 1]).\n"
     ]
    },
    {
     "name": "stdout",
     "output_type": "stream",
     "text": [
      "test\n",
      "computing log-det with Weyl's inequality!\n",
      "8470\n",
      "Iter 105/200 - Loss: -0.101   lengthscale: 0.323   noise: 0.006  loss difference: 0.0022\n"
     ]
    },
    {
     "name": "stderr",
     "output_type": "stream",
     "text": [
      "LinAlg (Verbose) - DEBUG - Running symeig on a NotPSDNonLazyTensor of size torch.Size([121, 121]). Assumed Hermitian. Not clamping eigenvalues to zero\n",
      "LinAlg (Verbose) - DEBUG - Running symeig on a matrix of size torch.Size([5, 5]).\n",
      "LinAlg (Verbose) - DEBUG - Running symeig on a matrix of size torch.Size([14, 14]).\n",
      "LinAlg (Verbose) - DEBUG - Running CG on a torch.Size([8470, 1]) RHS for 2000 iterations (tol=0.01). Output: torch.Size([8470, 1]).\n"
     ]
    },
    {
     "name": "stdout",
     "output_type": "stream",
     "text": [
      "test\n",
      "computing log-det with Weyl's inequality!\n",
      "8470\n",
      "Iter 106/200 - Loss: -0.103   lengthscale: 0.321   noise: 0.006  loss difference: 0.0016\n"
     ]
    },
    {
     "name": "stderr",
     "output_type": "stream",
     "text": [
      "LinAlg (Verbose) - DEBUG - Running symeig on a NotPSDNonLazyTensor of size torch.Size([121, 121]). Assumed Hermitian. Not clamping eigenvalues to zero\n",
      "LinAlg (Verbose) - DEBUG - Running symeig on a matrix of size torch.Size([5, 5]).\n",
      "LinAlg (Verbose) - DEBUG - Running symeig on a matrix of size torch.Size([14, 14]).\n",
      "LinAlg (Verbose) - DEBUG - Running CG on a torch.Size([8470, 1]) RHS for 2000 iterations (tol=0.01). Output: torch.Size([8470, 1]).\n"
     ]
    },
    {
     "name": "stdout",
     "output_type": "stream",
     "text": [
      "test\n",
      "computing log-det with Weyl's inequality!\n",
      "8470\n",
      "Iter 107/200 - Loss: -0.105   lengthscale: 0.321   noise: 0.005  loss difference: 0.0018\n"
     ]
    },
    {
     "name": "stderr",
     "output_type": "stream",
     "text": [
      "LinAlg (Verbose) - DEBUG - Running symeig on a NotPSDNonLazyTensor of size torch.Size([121, 121]). Assumed Hermitian. Not clamping eigenvalues to zero\n",
      "LinAlg (Verbose) - DEBUG - Running symeig on a matrix of size torch.Size([5, 5]).\n",
      "LinAlg (Verbose) - DEBUG - Running symeig on a matrix of size torch.Size([14, 14]).\n",
      "LinAlg (Verbose) - DEBUG - Running CG on a torch.Size([8470, 1]) RHS for 2000 iterations (tol=0.01). Output: torch.Size([8470, 1]).\n"
     ]
    },
    {
     "name": "stdout",
     "output_type": "stream",
     "text": [
      "test\n",
      "computing log-det with Weyl's inequality!\n",
      "8470\n",
      "Iter 108/200 - Loss: -0.108   lengthscale: 0.323   noise: 0.005  loss difference: 0.0036\n"
     ]
    },
    {
     "name": "stderr",
     "output_type": "stream",
     "text": [
      "LinAlg (Verbose) - DEBUG - Running symeig on a NotPSDNonLazyTensor of size torch.Size([121, 121]). Assumed Hermitian. Not clamping eigenvalues to zero\n",
      "LinAlg (Verbose) - DEBUG - Running symeig on a matrix of size torch.Size([5, 5]).\n",
      "LinAlg (Verbose) - DEBUG - Running symeig on a matrix of size torch.Size([14, 14]).\n",
      "LinAlg (Verbose) - DEBUG - Running CG on a torch.Size([8470, 1]) RHS for 2000 iterations (tol=0.01). Output: torch.Size([8470, 1]).\n"
     ]
    },
    {
     "name": "stdout",
     "output_type": "stream",
     "text": [
      "test\n",
      "computing log-det with Weyl's inequality!\n",
      "8470\n",
      "Iter 109/200 - Loss: -0.113   lengthscale: 0.322   noise: 0.005  loss difference: 0.0044\n"
     ]
    },
    {
     "name": "stderr",
     "output_type": "stream",
     "text": [
      "LinAlg (Verbose) - DEBUG - Running symeig on a NotPSDNonLazyTensor of size torch.Size([121, 121]). Assumed Hermitian. Not clamping eigenvalues to zero\n",
      "LinAlg (Verbose) - DEBUG - Running symeig on a matrix of size torch.Size([5, 5]).\n",
      "LinAlg (Verbose) - DEBUG - Running symeig on a matrix of size torch.Size([14, 14]).\n",
      "LinAlg (Verbose) - DEBUG - Running CG on a torch.Size([8470, 1]) RHS for 2000 iterations (tol=0.01). Output: torch.Size([8470, 1]).\n"
     ]
    },
    {
     "name": "stdout",
     "output_type": "stream",
     "text": [
      "test\n",
      "computing log-det with Weyl's inequality!\n",
      "8470\n",
      "Iter 110/200 - Loss: -0.115   lengthscale: 0.321   noise: 0.005  loss difference: 0.0026\n"
     ]
    },
    {
     "name": "stderr",
     "output_type": "stream",
     "text": [
      "LinAlg (Verbose) - DEBUG - Running symeig on a NotPSDNonLazyTensor of size torch.Size([121, 121]). Assumed Hermitian. Not clamping eigenvalues to zero\n",
      "LinAlg (Verbose) - DEBUG - Running symeig on a matrix of size torch.Size([5, 5]).\n",
      "LinAlg (Verbose) - DEBUG - Running symeig on a matrix of size torch.Size([14, 14]).\n",
      "LinAlg (Verbose) - DEBUG - Running CG on a torch.Size([8470, 1]) RHS for 2000 iterations (tol=0.01). Output: torch.Size([8470, 1]).\n"
     ]
    },
    {
     "name": "stdout",
     "output_type": "stream",
     "text": [
      "test\n",
      "computing log-det with Weyl's inequality!\n",
      "8470\n",
      "Iter 111/200 - Loss: -0.117   lengthscale: 0.320   noise: 0.005  loss difference: 0.0015\n"
     ]
    },
    {
     "name": "stderr",
     "output_type": "stream",
     "text": [
      "LinAlg (Verbose) - DEBUG - Running symeig on a NotPSDNonLazyTensor of size torch.Size([121, 121]). Assumed Hermitian. Not clamping eigenvalues to zero\n",
      "LinAlg (Verbose) - DEBUG - Running symeig on a matrix of size torch.Size([5, 5]).\n",
      "LinAlg (Verbose) - DEBUG - Running symeig on a matrix of size torch.Size([14, 14]).\n",
      "LinAlg (Verbose) - DEBUG - Running CG on a torch.Size([8470, 1]) RHS for 2000 iterations (tol=0.01). Output: torch.Size([8470, 1]).\n"
     ]
    },
    {
     "name": "stdout",
     "output_type": "stream",
     "text": [
      "test\n",
      "computing log-det with Weyl's inequality!\n",
      "8470\n",
      "Iter 112/200 - Loss: -0.118   lengthscale: 0.318   noise: 0.005  loss difference: 0.0015\n"
     ]
    },
    {
     "name": "stderr",
     "output_type": "stream",
     "text": [
      "LinAlg (Verbose) - DEBUG - Running symeig on a NotPSDNonLazyTensor of size torch.Size([121, 121]). Assumed Hermitian. Not clamping eigenvalues to zero\n",
      "LinAlg (Verbose) - DEBUG - Running symeig on a matrix of size torch.Size([5, 5]).\n",
      "LinAlg (Verbose) - DEBUG - Running symeig on a matrix of size torch.Size([14, 14]).\n",
      "LinAlg (Verbose) - DEBUG - Running CG on a torch.Size([8470, 1]) RHS for 2000 iterations (tol=0.01). Output: torch.Size([8470, 1]).\n"
     ]
    },
    {
     "name": "stdout",
     "output_type": "stream",
     "text": [
      "test\n",
      "computing log-det with Weyl's inequality!\n",
      "8470\n",
      "Iter 113/200 - Loss: -0.119   lengthscale: 0.315   noise: 0.004  loss difference: 0.0008\n"
     ]
    },
    {
     "name": "stderr",
     "output_type": "stream",
     "text": [
      "LinAlg (Verbose) - DEBUG - Running symeig on a NotPSDNonLazyTensor of size torch.Size([121, 121]). Assumed Hermitian. Not clamping eigenvalues to zero\n",
      "LinAlg (Verbose) - DEBUG - Running symeig on a matrix of size torch.Size([5, 5]).\n",
      "LinAlg (Verbose) - DEBUG - Running symeig on a matrix of size torch.Size([14, 14]).\n"
     ]
    },
    {
     "name": "stdout",
     "output_type": "stream",
     "text": [
      "test\n",
      "computing log-det with Weyl's inequality!\n",
      "8470\n",
      "Iter 114/200 - Loss: -0.119   lengthscale: 0.311   noise: 0.004  loss difference: 0.0001\n",
      "Model converged!\n"
     ]
    }
   ],
   "source": [
    "max_iter = 200\n",
    "\n",
    "# Find optimal model hyperparameters\n",
    "model.train()\n",
    "likelihood.train()\n",
    "\n",
    "# Use the adam optimizer\n",
    "optimizer = torch.optim.Adam(model.parameters(), lr=0.05)  # Includes GaussianLikelihood parameters\n",
    "# Loss\n",
    "mll = gpytorch.mlls.ExactMarginalLogLikelihood(likelihood,model)\n",
    "# Keeping track of loss\n",
    "m = []\n",
    "eps = 1e-4\n",
    "diff = 10\n",
    "\n",
    "with gpytorch.settings.verbose_linalg(True), gpytorch.settings.max_preconditioner_size(0):\n",
    "    with gpytorch.settings.max_cg_iterations(2000):\n",
    "            with gpytorch.settings.cg_tolerance(0.01):\n",
    "                for i in range(max_iter):\n",
    "                    optimizer.zero_grad()\n",
    "                    output = model(X)\n",
    "                    loss = -mll(output,y)\n",
    "                    loss.backward()\n",
    "                    optimizer.step()\n",
    "                    m.append(loss.item())\n",
    "                    if i > 0:\n",
    "                        diff = abs(m[i]-m[i-1])\n",
    "                    print('Iter %d/%d - Loss: %.3f   lengthscale: %.3f   noise: %.3f  loss difference: %.4f' % (\n",
    "                        i + 1, max_iter, loss.item(),\n",
    "                        model.covar_module.data_covar_module.base_kernel.lengthscale.item(),\n",
    "                        model.likelihood.global_noise.item(),\n",
    "                        diff\n",
    "                    ))\n",
    "                    if diff < eps:\n",
    "                        print('Model converged!')\n",
    "                        break\n",
    "\n",
    "    \n",
    "    \n"
   ]
  },
  {
   "cell_type": "code",
   "execution_count": 13,
   "id": "e70b118a",
   "metadata": {},
   "outputs": [
    {
     "name": "stderr",
     "output_type": "stream",
     "text": [
      "/Users/leiv/opt/anaconda3/envs/synpred/lib/python3.10/site-packages/gpytorch/models/exact_gp.py:284: GPInputWarning: The input matches the stored training data. Did you forget to call model.train()?\n",
      "  warnings.warn(\n",
      "LinAlg (Verbose) - DEBUG - Running CG on a torch.Size([8470, 1]) RHS for 4000 iterations (tol=0.01). Output: torch.Size([8470, 1]).\n"
     ]
    }
   ],
   "source": [
    "# Evaluate model\n",
    "model.eval()\n",
    "likelihood.eval()\n",
    "\n",
    "\n",
    "# Test points are regularly spaced along [0,1]\n",
    "# Make predictions by feeding model through likelihood\n",
    "with torch.no_grad(), gpytorch.settings.max_cg_iterations(4000):\n",
    "    with gpytorch.settings.skip_posterior_variances(True), gpytorch.settings.verbose_linalg(True):\n",
    "        with gpytorch.settings.max_preconditioner_size(0):\n",
    "            predictions = likelihood(model(X))\n",
    "            mean = predictions.mean\n",
    "            #lower, upper = predictions.confidence_region()"
   ]
  },
  {
   "cell_type": "code",
   "execution_count": 14,
   "id": "4ec8e94d",
   "metadata": {},
   "outputs": [],
   "source": [
    "if symmetric:\n",
    "    n, p = mean.shape\n",
    "    p = int(p/2)\n",
    "    tmp = torch.full([n,p],float('nan'))\n",
    "    for i in range(N_C):\n",
    "        tmp[:,(i*N_D):(i*N_D+N_D)] = mean[:,(i*(2*N_D)):(i*(2*N_D)+N_D)]"
   ]
  },
  {
   "cell_type": "code",
   "execution_count": 15,
   "id": "ca6bff6c",
   "metadata": {},
   "outputs": [
    {
     "name": "stdout",
     "output_type": "stream",
     "text": [
      "62\n",
      "69\n"
     ]
    },
    {
     "data": {
      "image/png": "[encoded data removed]",
      "text/plain": [
       "<Figure size 1000x500 with 2 Axes>"
      ]
     },
     "metadata": {},
     "output_type": "display_data"
    }
   ],
   "source": [
    "# Plot\n",
    "[Xt,Yt] = np.meshgrid(X[:,0].unique().numpy(),X[:,1].unique().numpy())\n",
    "%matplotlib inline\n",
    "#f, ((y1_ax, y2_ax), (y3_ax, y4_ax), (y5_ax, y6_ax)) = plt.subplots(3, 2, figsize=(40, 60))\n",
    "f, (y1_ax, y2_ax) = plt.subplots(1, 2, figsize=(10, 5))\n",
    "cell = 4\n",
    "drug = 6\n",
    "task = (cell*2*N_D) + drug\n",
    "print(task)\n",
    "task_reflected = task + N_D\n",
    "print(task_reflected)\n",
    "y1_ax.contourf(Xt,Yt,mean[:,task].reshape(Xt.shape).detach().numpy(),cmap='viridis')\n",
    "y2_ax.contourf(Xt,Yt,mean[:,task_reflected].reshape(Xt.shape).detach().numpy(),cmap='viridis')\n",
    "#task = 1\n",
    "#task_reflected = task + N_D\n",
    "#y3_ax.contourf(Xt,Yt,mean[:,task].reshape(Xt.shape).detach().numpy(),cmap='viridis')\n",
    "#y4_ax.contourf(Xt,Yt,mean[:,task_reflected].reshape(Xt.shape).detach().numpy(),cmap='viridis')\n",
    "#task = 2\n",
    "#task_reflected = task + N_D\n",
    "#y5_ax.contourf(Xt,Yt,mean[:,task].reshape(Xt.shape).detach().numpy(),cmap='viridis')\n",
    "#y6_ax.contourf(Xt,Yt,mean[:,task_reflected].reshape(Xt.shape).detach().numpy(),cmap='viridis')\n",
    "None"
   ]
  },
  {
   "cell_type": "code",
   "execution_count": null,
   "id": "589c2843",
   "metadata": {},
   "outputs": [],
   "source": []
  }
 ],
 "metadata": {
  "kernelspec": {
   "display_name": "Python 3 (ipykernel)",
   "language": "python",
   "name": "python3"
  },
  "language_info": {
   "codemirror_mode": {
    "name": "ipython",
    "version": 3
   },
   "file_extension": ".py",
   "mimetype": "text/x-python",
   "name": "python",
   "nbconvert_exporter": "python",
   "pygments_lexer": "ipython3",
   "version": "3.10.13"
  }
 },
 "nbformat": 4,
 "nbformat_minor": 5
}
