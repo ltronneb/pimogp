{
 "cells": [
  {
   "cell_type": "markdown",
   "id": "d6376276",
   "metadata": {},
   "source": [
    "# Initial implementation of PIICM"
   ]
  },
  {
   "cell_type": "markdown",
   "id": "0363b635",
   "metadata": {},
   "source": [
    "Will make a stab at implementing the original version of PIICM in the newest version of gpytorch. There are a few ingredients that are needed\n",
    "\n",
    "1. The kernel  -- we need to construct a permutation invariant covariance function.\n",
    "    1. Needs to return objects with custom .matmul routines, custom log_det calculations etc. This was done in the original implementation by extending the `LazyTensor` class, which is no longer available. Will need to work with the `LinearOperators` instead, but hopefully should be rather straight-forward.\n",
    "2. The likelihood -- we need a multi-task normal likelihood that allows us to add a observation specific noise term\n",
    "3. Model -- putting these two together and maximizing the marginal likelihood using CG for the inverse solve and a custom log-determinant calculation involving Weyl's inequality.\n",
    "\n",
    "It needs to all play nice with the current classes, extending were needed but otherwise not interferring with gpytorch."
   ]
  },
  {
   "cell_type": "markdown",
   "id": "214fa3a7",
   "metadata": {},
   "source": [
    "## Framework of LinearOperators"
   ]
  },
  {
   "cell_type": "markdown",
   "id": "5735fe97",
   "metadata": {},
   "source": [
    "Have constructed three new classes, extending the `LinearOperator` class.\n",
    " 1. `GPattKroneckerProductLinearOperator` simple extension of `KroneckerProductLinearOperator`\n",
    " 2. `GPattKroneckerSumLinearOperator`, the result of `GPattKroneckerProductLinearOperator`+`GPattKroneckerProductLinearOperator`, essentially the prior of the PIICM\n",
    " 3. `GPaddKroneckerSumAddedDiagLinearOperator`, the result of `GPattKroneckerSumLinearOperator`+`DiagLinearOperator` -- for when the likelihood is added\n",
    " \n",
    "Can verify that these do what they are supposed to below "
   ]
  },
  {
   "cell_type": "code",
   "execution_count": null,
   "id": "9f4940df",
   "metadata": {},
   "outputs": [],
   "source": []
  },
  {
   "cell_type": "code",
   "execution_count": 18,
   "id": "60535071",
   "metadata": {},
   "outputs": [
    {
     "name": "stdout",
     "output_type": "stream",
     "text": [
      "<synpred.linear_operator.operators.gpatt_kronecker_product_linear_operator.GPattKroneckerProductLinearOperator object at 0x7f7c8a923ca0>\n",
      "<synpred.linear_operator.operators.gpatt_kronecker_sum_linear_operator.GPattKroneckerSumLinearOperator object at 0x7f7c9c4b51e0>\n",
      "None\n"
     ]
    }
   ],
   "source": [
    "import torch\n",
    "from linear_operator.operators import DenseLinearOperator, KroneckerProductLinearOperator, DiagLinearOperator\n",
    "from synpred.linear_operator.operators.gpatt_kronecker_product_linear_operator import GPattKroneckerProductLinearOperator\n",
    "a = torch.tensor([[4, 0, 2], [0, 3, -1], [2, -1, 3]], dtype=torch.float)\n",
    "b = torch.tensor([[2, 1], [1, 2]], dtype=torch.float)\n",
    "\n",
    "c = KroneckerProductLinearOperator(DenseLinearOperator(a),DenseLinearOperator(b))\n",
    "d = GPattKroneckerProductLinearOperator(c)\n",
    "print(d)\n",
    "e = d + d\n",
    "print(e)\n",
    "diag = DiagLinearOperator(e.diagonal())\n",
    "f = e + diag\n",
    "print(f)\n"
   ]
  },
  {
   "cell_type": "code",
   "execution_count": null,
   "id": "5fafa3d7",
   "metadata": {},
   "outputs": [],
   "source": []
  },
  {
   "cell_type": "code",
   "execution_count": null,
   "id": "5aee449f",
   "metadata": {},
   "outputs": [],
   "source": [
    "e.evaluate_kernel().numpy()"
   ]
  },
  {
   "cell_type": "code",
   "execution_count": null,
   "id": "3e9686c8",
   "metadata": {},
   "outputs": [],
   "source": []
  },
  {
   "cell_type": "code",
   "execution_count": null,
   "id": "007210ce",
   "metadata": {},
   "outputs": [],
   "source": []
  },
  {
   "cell_type": "code",
   "execution_count": null,
   "id": "06a0f10f",
   "metadata": {},
   "outputs": [],
   "source": []
  },
  {
   "cell_type": "code",
   "execution_count": null,
   "id": "c7ffae3e",
   "metadata": {},
   "outputs": [],
   "source": [
    "from synpred.linear_operator.operators.gpatt_kronecker_product_linear_operator import *"
   ]
  },
  {
   "cell_type": "code",
   "execution_count": null,
   "id": "57320259",
   "metadata": {},
   "outputs": [],
   "source": [
    "GPattKroneckerProductLinearOperator"
   ]
  },
  {
   "cell_type": "code",
   "execution_count": null,
   "id": "aa971011",
   "metadata": {},
   "outputs": [],
   "source": []
  }
 ],
 "metadata": {
  "kernelspec": {
   "display_name": "Python 3 (ipykernel)",
   "language": "python",
   "name": "python3"
  },
  "language_info": {
   "codemirror_mode": {
    "name": "ipython",
    "version": 3
   },
   "file_extension": ".py",
   "mimetype": "text/x-python",
   "name": "python",
   "nbconvert_exporter": "python",
   "pygments_lexer": "ipython3",
   "version": "3.10.13"
  }
 },
 "nbformat": 4,
 "nbformat_minor": 5
}
