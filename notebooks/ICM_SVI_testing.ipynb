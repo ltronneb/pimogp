{
 "cells": [
  {
   "cell_type": "markdown",
   "id": "40e71a2d",
   "metadata": {},
   "source": [
    "# Intrinsic Model of Coregionalization -- Stochastic Variational Inference\n"
   ]
  },
  {
   "cell_type": "markdown",
   "id": "31424a27",
   "metadata": {},
   "source": [
    "Point of this notebook is to implement a stochastic variational inference version of the ICM. This follows directly from Titsias 2009 formulation and the SVI version from Hensman 2015\n",
    "\n",
    "## The ICM\n",
    "\n",
    "The ICM model is a multi-output GP with a specific covariance structure. It can be constructed from a *Linear model of coregionalization (LMC)* by assuming that the j-th output $f_j(x)$ is a linear combination of $p$ latent functions $\\{u_k(x)\\}_{k=1}^r$ like so:\n",
    "\n",
    "$$\n",
    "f_j(x) = a_{j1} u_1(x) + a_{j2}u_2(x) + \\cdots a_{jr}u_r(x), \n",
    "$$\n",
    "where $\\{a_{jk}\\}_{k=1}^r$ are parameters to be learned. The latent functions are given independent GP priors, $u_k \\sim \\mathcal{GP}(0,\\kappa_k(\\cdot,\\cdot))$, and the ICM corresponds to the special case where all the latents have the same kernel function, $\\kappa_k = \\kappa \\ \\forall k$.\n",
    "\n",
    "Assuming we have $m$ distinct outputs, the model can be written on matrix form as \n",
    "\n",
    "\n",
    "\\begin{align}\n",
    "\\begin{bmatrix}\n",
    "f_1(x) \\\\\n",
    "\\vdots \\\\\n",
    "f_m(x) \n",
    "\\end{bmatrix} &=\n",
    "\\begin{bmatrix}\n",
    "a_{11} & a_{12} & \\cdots & a_{1r} \\\\\n",
    "a_{21} & a_{22} & \\cdots & a_{2r} \\\\\n",
    "\\vdots & \\vdots & \\ddots & \\vdots \\\\\n",
    "a_{m1} & a_{m2} & \\cdots & a_{mr} \\\\\n",
    "\\end{bmatrix}\n",
    "\\begin{bmatrix}\n",
    "u_1(x) \\\\\n",
    "u_2(x) \\\\\n",
    "\\vdots \\\\\n",
    "u_r(x) \\\\\n",
    "\\end{bmatrix}\n",
    "\\end{align}\n",
    "or more concisely as:\n",
    "\n",
    "\\begin{align}\n",
    "\\mathbf{f}(x) = A \\mathbf{u}(x).\n",
    "\\end{align}\n",
    "\n",
    "This structure ensures that the covariance between two outputs can be written as\n",
    "\n",
    "\\begin{align}\n",
    "\\text{Cov}[f_i(x),f_j(x')] &= \\text{Cov}\\left[\\sum_{k=1}^r a_{ik}u_k(x),\\sum_{k=1}^r a_{jk}u_k(x)\\right] \\\\\n",
    "&= \\sum_{k=1}^r a_{ik}a_{jk}\\text{Cov}[u_k(x),u_k(x')] \\\\\n",
    "&= \\sum_{k=1}^r a_{ik}a_{jk}\\kappa(x,x').\n",
    "\\end{align}\n",
    "\n",
    "Where $\\sum_{k=1}^r a_{ik}a_{jk}$ is simply the dot-product between the $i$-th and $j$-th row of the matrix $A$. Thus taking the covariance over the entire vector $\\mathbf{f}(x)$ we obtain:\n",
    "\n",
    "\\begin{align}\n",
    "\\text{Cov}[\\mathbf{f}(x),\\mathbf{f}(x')] &= AA^T\\kappa(x,x') \\\\\n",
    "&= B\\kappa(x,x'),\n",
    "\\end{align}\n",
    "where the matrix $B=AA^T$ is called the *coregionalization* matrix. If furthermore each output $f_j(x)$ has been observed on the same set of inputs $X=\\{x_1,\\ldots,x_n\\}, then the covariance can be written as \n",
    "\n",
    "\\begin{align}\n",
    "\\text{Cov}[\\mathbf{f}(X),\\mathbf{f}(X')] &= B \\otimes K_{ff},\n",
    "\\end{align}\n",
    "where $K_{ff}=\\kappa(X,X)$. This structure yields significant computational speedups for the ICM.\n",
    "\n",
    "Finally, we usually assume our observations are noisy evaluations of the latent function, i.e. $y_{ij} = f_j(x_i) + \\epsilon_{ij}$, with usually $\\epsilon_{ij}\\sim N(0,\\sigma^2)$.\n",
    "\n",
    "\n",
    "## Variational inference in the ICM\n",
    "\n",
    "Variational inference follows the standard Titsias 2009 approach by choosing a set of inducing point locations $Z=\\{z_1,\\ldots,z_q\\}$ and modifying the model structure by a set of inducing variables $\\mathbf{u}$ usually taken as the function $f$ evaluated at each location. For multi-output GPs, considering inducing points as observations of each output $f_j$ will lead to a lower bound that is computationally quite difficult to evaluate. It is common to instead take as inducing variables the set of evaluations of the latent functions, i.e. $\\mathbf{u}=\\{u_k(Z)\\}_{k=1}^r$. This will lead to a computationally quite cheap lower bound due to the independence assumption between each latent function. Furthermore, since all functions have the same length scale, we use the same set of inducing point locations for each latent function.\n",
    "\n",
    "Starting from the usual model we modify it with inducing variables: $p(\\mathbf{y},\\mathbf{f},\\mathbf{u})=p(\\mathbf{y}\\vert \\mathbf{f})p(\\mathbf{f}\\vert\\mathbf{u})p(\\mathbf{u})$, which fundamentally doesn't change the model as if we were to integrate out the inducing variables, we would be back to the original model.\n",
    "\n",
    "The distribution for $\\mathbf{y}\\vert\\mathbf{f}$ and $\\mathbf{u}$ are easily available, \n",
    "\\begin{align}\n",
    "p(\\mathbf{y} \\vert \\mathbf{f}) &= \\mathcal{N}(\\mathbf{f},\\sigma^2I) & \\text{likelihood} \\\\\n",
    "p(\\mathbf{u}) &= \\mathcal{N}(0,I\\otimes K_{uu}) & \\text{prior on inducing variables},\n",
    "\\end{align}\n",
    "but the conditional prior on $\\mathbf{f}\\vert\\mathbf{u}$ requires a little more work. Starting from the joint distribution\n",
    "\n",
    "$$\n",
    "p(\\mathbf{f},\\mathbf{u}) = \\mathcal{N}\\left(\\begin{bmatrix}0\\\\0\\end{bmatrix},\\begin{bmatrix}B\\otimes K_{ff} & A \\otimes K_{fu} \\\\ A^T\\otimes K_{uf} & I \\otimes K_{uu}\\end{bmatrix}\\right),\n",
    "$$\n",
    "one can with a little algebra show that \n",
    "$$\n",
    "p(\\mathbf{f} \\vert\\mathbf{u}) = \\mathcal{N}\\left((A\\otimes(K_{fu}K_{uu}^{-1})\\mathbf{u},B\\otimes(K_{ff}-K_{fu}K_{uu}^{-1}K_{uf}))\\right).\n",
    "$$\n",
    "\n",
    "Which completes the specification of the joint model over $p(\\mathbf{y},\\mathbf{f},\\mathbf{u})$.\n",
    "\n",
    "We wish to learn parameters in this model by maximizing a lower bound over the marginal likelihood. Introducing the variational distribution $\\phi(\\mathbf{u})$ and applying Jensen's inequality we can write the log marginal likelihood as\n",
    "\\begin{align}\n",
    "\\log p(\\mathbf{y}) &= \\log \\int p(\\mathbf{y}\\vert\\mathbf{f})p(\\mathbf{f}\\vert\\mathbf{u})p(\\mathbf{u})\\text{d}\\mathbf{f}\\text{d}\\mathbf{u} \\\\\n",
    "&=\\log \\int p(\\mathbf{f}\\vert\\mathbf{u})\\phi(\\mathbf{u})\\frac{p(\\mathbf{y}\\vert\\mathbf{f})p(\\mathbf{u})}{\\phi(\\mathbf{u})}\\text{d}\\mathbf{f}\\text{d}\\mathbf{u} \\\\ \n",
    "&\\geq \\int p(\\mathbf{f}\\vert\\mathbf{u})\\phi(\\mathbf{u})\\log\\frac{p(\\mathbf{y}\\vert\\mathbf{f})p(\\mathbf{u})}{\\phi(\\mathbf{u})}\\text{d}\\mathbf{f}\\text{d}\\mathbf{u} \\\\\n",
    "&=\\int \\phi(\\mathbf{u})\\left[\\int p(\\mathbf{f}\\vert\\mathbf{u})\\log p(\\mathbf{y}\\vert \\mathbf{f})\\text{d}\\mathbf{f}+\\log\\frac{p(\\mathbf{u})}{\\phi(\\mathbf{u})}\\right]\\text{d}\\mathbf{u}.\n",
    "\\end{align}\n",
    "\n",
    "The interior integral wrt $\\mathbf{f}$ can be written as\n",
    "\\begin{align}\n",
    "\\log G(\\mathbf{u},\\mathbf{y})=\\int p(\\mathbf{f}\\vert\\mathbf{u})\\log p(\\mathbf{y}\\vert \\mathbf{f})\\text{d}\\mathbf{f} = \\log \\mathcal{N}(\\mathbf{y}\\vert \\boldsymbol{\\alpha},\\sigma^2I) - \\frac{1}{2\\sigma^2}\\text{Tr}(B)\\text{Tr}(K_{ff}-K_{fu}K_{uu}^{-1}K_{uf}),\n",
    "\\end{align}\n",
    "where $\\boldsymbol{\\alpha}=(A\\otimes (K_{fu}K_{uu}^{-1}))\\mathbf{u}$.\n",
    "\n",
    "\n",
    "Plugging this back into the bound and reversing Jensen's inequality we get \n",
    "\\begin{align}\n",
    "\\log p(\\mathbf{y}) &\\geq \\int \\phi(\\mathbf{u})\\log \\frac{\\mathcal{N}(\\mathbf{y}\\vert \\boldsymbol{\\alpha},\\sigma^2I)p(\\mathbf{u})}{\\phi(\\mathbf{u})}\\text{d}\\mathbf{u}-\\frac{1}{2\\sigma^2}\\text{Tr}(B)\\text{Tr}(K_{ff}-K_{fu}K_{uu}^{-1}K_{uf}) \\\\\n",
    "&\\leq \\log \\int \\mathcal{N}(\\mathbf{y}\\vert \\boldsymbol{\\alpha},\\sigma^2I)p(\\mathbf{u})-\\frac{1}{2\\sigma^2}\\text{Tr}(B)\\text{Tr}(K_{ff}-K_{fu}K_{uu}^{-1}K_{uf}).\n",
    "\\end{align}\n",
    "\n",
    "This bound is reached when $\\phi(\\mathbf{u})\\propto  \\mathcal{N}(\\mathbf{y}\\vert \\boldsymbol{\\alpha},\\sigma^2I)p(\\mathbf{u})$\n",
    "\n",
    "\n",
    "\n",
    "\n",
    "\n",
    "\n"
   ]
  },
  {
   "cell_type": "markdown",
   "id": "db8dea2c",
   "metadata": {},
   "source": [
    "Inspecting $\\mathcal{N}(\\mathbf{y}\\vert \\boldsymbol{\\alpha},\\sigma^2I)p(\\mathbf{u})$ one can with a great deal of algebra write it as:\n",
    "\n",
    "\\begin{align}\n",
    "\\mathcal{N}(\\mathbf{y}\\vert \\boldsymbol{\\alpha},\\sigma^2I)p(\\mathbf{u})=\n",
    "\\mathcal{N}(\\mathbf{u}\\vert C^{-1}d,C^{-1})\\mathcal{N}(\\mathbf{y}\\vert 0,B\\otimes K_{fu}K_{uu}^{-1}K_{uf}+\\sigma^2I),\n",
    "\\end{align}\n",
    "where $C=I\\otimes K_{uu}^{-1}+\\sigma^{-2}(A^T\\otimes K_{uu}^{-1}K_{uf}(A\\otimes K_{fu}K_{uu}^{-1}))$, and $d=\\sigma^{-2}(A^T\\otimes K_{uu}^{-1}K_{uf})\\mathbf{y}$.\n",
    "\n",
    "Integrating over $\\mathbf{u}$ in the bound yields now:\n",
    "\n",
    "\\begin{align}\n",
    "\\log p(\\mathbf{y}) \\geq \\mathcal{N}(\\mathbf{y}\\vert 0,B\\otimes K_{fu}K_{uu}^{-1}K_{uf}+\\sigma^2I) -\\frac{1}{2\\sigma^2}\\text{Tr}(B)\\text{Tr}(K_{ff}-K_{fu}K_{uu}^{-1}K_{uf})\n",
    "\\end{align}\n",
    "\n",
    "Computing the bound itself requires the following quantities\n",
    "\n",
    "\\begin{gather}\n",
    "\\text{(Quadratic form)} & \\mathbf{y}^T\\left[(B\\otimes K_{fu}K_{uu}^{-1}K_{uf})+\\sigma^2I\\right]^{-1}\\mathbf{y} = \\mathbf{y}^T\\left[\\sigma^{-2}I-\\sigma^{-2}D^T(I+DD^T)^{-1}D\\right]\\mathbf{y} \\\\\n",
    "\\text{(Determinant)} & \\vert (B\\otimes K_{fu}K_{uu}^{-1}K_{uf})+\\sigma^2I \\vert = \\vert I + DD^T) \\vert \\vert \\sigma^2I \\vert ,\n",
    "\\end{gather}\n",
    "\n",
    "where $D=A^T\\otimes L^{-1}K_{uf}\\sigma^{-1}$, $DD^T=A^TA \\otimes L^{-1}K_{uf}K_{fu}L^{-T}\\sigma^{-2}$ and $L$ from $K_{uu}=LL^T$. Both of these can be done via the eigendecomposition of $DD^T$.\n",
    "\n",
    "Note that the complexity here isn't terrible. We need to get hold of and invert L (which is $q \\times q$) and we need to eigendecomp $DD^T$ but this is on the form of a Kronecker product so we simply eigen-decomp $A^TA$ and $L^{-1}K_{uf}K_{fu}L^{-T}\\sigma^{-2}$ which are $r \\times r$ and $q \\times q$ respectively. \n",
    "\n",
    "Predicting for some new input now is also straight forward and has nice formulas.\n",
    "\n",
    "However, while this would all probably work out well, it does rely on having every observed every input on every output. And while it might be possible to get around this now by the same techniques we used for PIICM, it's hard to tell what we are really gaining then.\n",
    "\n",
    "Instead we should pursue **Stochastic Variational inference (SVI)**, following Hensman 2015 -- which is also **the** way `gpytorch` implements basic variational inference for GPs. (The Titsias bound of using the optimal variational distribution is still available, but via a bit of a hack with adding loss in the marginal likelihood calculation.)"
   ]
  },
  {
   "cell_type": "markdown",
   "id": "9c479846",
   "metadata": {},
   "source": [
    "## Stochastic Variational inference for the ICM"
   ]
  },
  {
   "cell_type": "markdown",
   "id": "c9800aa0",
   "metadata": {},
   "source": [
    "Instead of finding the optimal variational distribution $\\phi^*(\\mathbf{u})$ and margincalising them out, stochastic variational inference instead explicitly keeps them in the model as global parameters. We start in the same way by modifying the original model by $p(\\mathbf{y},\\mathbf{f},\\mathbf{u})=p(\\mathbf{y}\\vert\\mathbf{f})p(\\mathbf{f}\\vert\\mathbf{u})p(\\mathbf{u})$, then we introduce a variational distribution $\\phi(\\mathbf{u})=\\mathcal{N}(\\mathbf{m},S)$ and bound the marginal likelihood\n",
    "\n",
    "\\begin{align}\n",
    "\\log p(\\mathbf{y}) &= \\log \\int p(\\mathbf{y}\\vert\\mathbf{f})p(\\mathbf{f}\\vert\\mathbf{u})p(\\mathbf{u})\\text{d}\\mathbf{f}\\text{d}\\mathbf{u} \\\\\n",
    "&=\\log \\int p(\\mathbf{f}\\vert\\mathbf{u})\\phi(\\mathbf{u})\\frac{p(\\mathbf{y}\\vert\\mathbf{f})p(\\mathbf{u})}{\\phi(\\mathbf{u})}\\text{d}\\mathbf{f}\\text{d}\\mathbf{u} \\\\ \n",
    "&\\geq \\int p(\\mathbf{f}\\vert\\mathbf{u})\\phi(\\mathbf{u})\\log\\frac{p(\\mathbf{y}\\vert\\mathbf{f})p(\\mathbf{u})}{\\phi(\\mathbf{u})}\\text{d}\\mathbf{f}\\text{d}\\mathbf{u} \\\\\n",
    "&=\\int \\phi(\\mathbf{u})\\left[\\int p(\\mathbf{f}\\vert\\mathbf{u})\\log p(\\mathbf{y}\\vert \\mathbf{f})\\text{d}\\mathbf{f}+\\log\\frac{p(\\mathbf{u})}{\\phi(\\mathbf{u})}\\right]\\text{d}\\mathbf{u} \\\\\n",
    "&= \\int \\phi(\\mathbf{u})\\log \\frac{\\mathcal{N}(\\mathbf{y}\\vert \\boldsymbol{\\alpha},\\sigma^2I)p(\\mathbf{u})}{\\phi(\\mathbf{u})}\\text{d}\\mathbf{u}-\\frac{1}{2\\sigma^2}\\text{Tr}(B)\\text{Tr}(K_{ff}-K_{fu}K_{uu}^{-1}K_{uf}) \\\\\n",
    "&= \\int \\phi(\\mathbf{u})\\log \\mathcal{N}(\\mathbf{y}\\vert \\boldsymbol{\\alpha},\\sigma^2I)\\text{d}\\mathbf{u}+ \\int \\phi(\\mathbf{u})\\log\\frac{p(\\mathbf{u})}{\\phi(\\mathbf{u})}\\text{d}\\mathbf{u}-\\frac{1}{2\\sigma^2}\\text{Tr}(B)\\text{Tr}(K_{ff}-K_{fu}K_{uu}^{-1}K_{uf}) \\\\\n",
    "&= \\int \\phi(\\mathbf{u})\\log \\mathcal{N}(\\mathbf{y}\\vert \\boldsymbol{\\alpha},\\sigma^2I)\\text{d}\\mathbf{u}- \\text{KL}(\\phi(\\mathbf{u}) \\Vert p(\\mathbf{u}))-\\frac{1}{2\\sigma^2}\\text{Tr}(B)\\text{Tr}(K_{ff}-K_{fu}K_{uu}^{-1}K_{uf})\n",
    "\\end{align}\n",
    "where again $\\boldsymbol{\\alpha}=(A\\otimes (K_{fu}K_{uu}^{-1}))\\mathbf{u}$.\n",
    "\n",
    "<font color='red'>I need to look at $\\int p(\\mathbf{f}\\vert\\mathbf{u})\\log p(\\mathbf{y}\\vert \\mathbf{f})\\text{d}\\mathbf{f}$ again. Particularly the case where I don't have every observed $y_{ij}$ at every $f_{ij}$! It might just be ignoring the diagonal terms of the trace in this case, all else equal. </font> \n",
    "\n",
    "<font color='green'>Yes, it simply amounts to ignoring diagonal terms where we don't have observations. For this reason, the trace term needs to go inside the summation over the observations, $y_i$. We can further index this by outputs and sum first over the $m$ outputs, and then over $n$ observations within each output. Furthermore, we can make $n$ depend on the number of observations in that specific output. </font> \n",
    "\n",
    "Now, this bound is seperable in the observations $y_{ij}$ and we can write\n",
    "\n",
    "\\begin{align}\n",
    "&\\int \\phi(\\mathbf{u})\\log \\mathcal{N}(\\mathbf{y}\\vert \\boldsymbol{\\alpha},\\sigma^2I)\\text{d}\\mathbf{u} \\\\\n",
    "=& \\sum_{j=1}^m\\sum_{i=1}^n \\log \\mathcal{N}(y_{ij}\\vert \\tilde{\\boldsymbol{\\alpha}}_{ij}\\mathbf{m}, \\sigma^2) - \\frac{1}{2\\sigma^2}\\tilde{\\boldsymbol{\\alpha}}_{ij}S\\tilde{\\boldsymbol{\\alpha}}_{ij}^T,\n",
    "\\end{align}\n",
    "where $\\tilde{\\boldsymbol{\\alpha}}_{ij}=(A_{j\\cdot}\\otimes K_{fu,i\\cdot}K_{uu}^{-1})$, $A_{j\\cdot}$ denotes the $j$-th row of $A$ and $K_{fu,i\\cdot}$ the $i$-th row of $K_{fu}$.\n",
    "\n",
    "Putting this all together now, the bound becomes:\n",
    "\n",
    "\\begin{align}\n",
    "\\log p(\\mathbf{y}) \\geq \\sum_{j=1}^m\\sum_{i=1}^n \\left\\{ \\log \\mathcal{N}(y_{ij}\\vert \\tilde{\\boldsymbol{\\alpha}}_{ij}\\mathbf{m}, \\sigma^2) - \\frac{1}{2\\sigma^2}\\tilde{\\boldsymbol{\\alpha}}_{ij}S\\tilde{\\boldsymbol{\\alpha}}_{ij}^T - \\frac{1}{2\\sigma^2}B_{jj}[K_{ff}-K_{fu}K_{uu}^{-1}K_{uf}]_{ii}\\right\\}- \\text{KL}(\\phi(\\mathbf{u}) \\Vert p(\\mathbf{u})).\n",
    "\\end{align}\n",
    "\n",
    "Finally, we can make some speedups as well regarding $\\phi(\\mathbf{u})$ and assume e.g. independence between latent functions, i.e. $\\phi(\\mathbf{u})=\\prod_{k=1}^r\\phi_k(\\mathbf{u}_k)$, where each $\\phi_k(\\mathbf{u}_k)=\\mathcal{N}(\\mathbf{u}_k\\vert \\mathbf{m_K},S_K)$"
   ]
  },
  {
   "cell_type": "markdown",
   "id": "afb26534",
   "metadata": {},
   "source": [
    "\n",
    "## Modifying the coregionalization matrix\n",
    "\n",
    "\n",
    "The structure of the coregionalization matrix as a general PSD matrix $AA^T$ invites placing e.g. a kernel function directly over the outputs. But training the variational models need an explicit representation of the matrix A, the entries of which is usually learned during training. One way to combine these two things is to use the eigen decomposition of the output kernel as parameters in the matrix A.\n",
    "\n",
    "Specifically, let $K_O$ denote the $m\\times m$ covariance matrix corresponding to some kernel function over the outputs. Then, taking the eigen decomposition one can write $K_O = UDU^T=(UD^{1/2})(UD^{1/2})^T$ where $U$ is an $m\\times m$ orthonormal matrix of eigenvectors, and $D$ a $m \\times m$ diagonal matrix of eigenvalues. Setting $A=(UD^{1/2})$ yields the desired structure, and parameters $a_{ij}$ can be learned as functions of the kernel hyperparameters by differentiating through the eigen decomposition.\n",
    "\n",
    "This requires $m$ latent functions, but a low-rank version with $r<m$ latent functions can easily be constructed by truncating the eigen decomposition. \n",
    "\n",
    "For prediction purposes, when we wish to predict at a new output, we do the usual thing of calculating the cross-covariance $k_*$ with entries $k(t_*,t_i)$ for $i=1,\\ldots,m$, where $t_i$ are covariates over the outputs. Then we find the projection of $k_*$ onto the columns of $A$, $a_* \\equiv\\text{proj}_A(b)=(A^TA)^{-1}A^Tk_*$, and $a_*$ is used as LMC parameters for this output. Essentially it is the point in the space spanned by $A$ closest to $k_*$.\n"
   ]
  },
  {
   "cell_type": "markdown",
   "id": "820cb418",
   "metadata": {},
   "source": [
    "## Implementation"
   ]
  },
  {
   "cell_type": "markdown",
   "id": "32b236fc",
   "metadata": {},
   "source": [
    "The natural starting place for implementing this model is the variational LMC-implementation already in place in `gpytorch`. By simply demaning that each latent function has the same length scale, we will have an ICM model in place. Furthermore, we should look at modifying the parameters $A$ so that we can define them implicitly via the eigen-decomposition from a covariance function over the outputs. Should also note that possibly, the current implementation of the LMC is not the most optimal when using it as an ICM -- it might be doing more matrix inverses than strictly necessary for example."
   ]
  },
  {
   "cell_type": "markdown",
   "id": "7b386f81",
   "metadata": {},
   "source": [
    "### Simulate some data"
   ]
  },
  {
   "cell_type": "markdown",
   "id": "c899d13e",
   "metadata": {},
   "source": [
    "Before moving on to an implementation, it makes sense to try and simulate some data first."
   ]
  },
  {
   "cell_type": "code",
   "execution_count": null,
   "id": "a3a13620",
   "metadata": {},
   "outputs": [],
   "source": [
    "# Some imports\n",
    "%matplotlib inline\n",
    "from matplotlib import pyplot as plt\n",
    "import torch\n",
    "import gpytorch\n",
    "import numpy as np"
   ]
  },
  {
   "cell_type": "code",
   "execution_count": null,
   "id": "d2316f30",
   "metadata": {},
   "outputs": [],
   "source": [
    "r = 10 # Number of latents\n",
    "n = 2000 # Number of observations per output\n",
    "# Easiest way to sample from a GP using gpytorch?\n",
    "x = torch.linspace(0,1,n)\n",
    "u = torch.zeros(x.size(dim=0),r)\n",
    "\n",
    "\n",
    "mean = gpytorch.means.ZeroMean()\n",
    "kernel = gpytorch.kernels.RBFKernel()\n",
    "kernel.lengthscale = 0.2\n",
    "m = mean(x)\n",
    "K = kernel(x)\n",
    "for i in range(r):\n",
    "    GP = gpytorch.distributions.MultivariateNormal(m,K)\n",
    "    u[:,i] = GP.rsample().detach()"
   ]
  },
  {
   "cell_type": "code",
   "execution_count": null,
   "id": "1677ed86",
   "metadata": {},
   "outputs": [],
   "source": [
    "plt.plot(x,u[:,0])\n",
    "plt.plot(x,u[:,1])\n",
    "plt.plot(x,u[:,2])\n",
    "plt.plot(x,u[:,3])"
   ]
  },
  {
   "cell_type": "code",
   "execution_count": null,
   "id": "cc96b966",
   "metadata": {},
   "outputs": [],
   "source": [
    "# Now creating outputs as linear combinations of these latent functions\n",
    "m = 50 # num_outputs\n",
    "A = torch.randn(m,r)\n",
    "f = A.matmul(u.t()).t()\n",
    "for i in range(m):\n",
    "    plt.plot(x,f[:,i])"
   ]
  },
  {
   "cell_type": "code",
   "execution_count": null,
   "id": "ddd0398d",
   "metadata": {},
   "outputs": [],
   "source": [
    "# Now generate some corresponding data\n",
    "sigma = 0.5\n",
    "y = f + sigma*torch.randn(f.size())"
   ]
  },
  {
   "cell_type": "code",
   "execution_count": null,
   "id": "7c103f33",
   "metadata": {},
   "outputs": [],
   "source": [
    "for i in range(m):\n",
    "    plt.plot(x,y[:,i],\".\")"
   ]
  },
  {
   "cell_type": "code",
   "execution_count": null,
   "id": "53e3a936",
   "metadata": {
    "scrolled": true
   },
   "outputs": [],
   "source": [
    "# Now going to get it ready for minibatching\n",
    "from torch.utils.data import TensorDataset, DataLoader\n",
    "\n",
    "# Get everything into long format\n",
    "y_long = y.t().reshape(-1)\n",
    "x_long = x.repeat(m)\n",
    "task_indices = torch.arange(0,m).unsqueeze(1).repeat(1,n).reshape(-1).long()\n",
    "\n",
    "# For first task, will remove some central observations \n",
    "#y_long[1000:2000] = float('nan')\n",
    "#x_long = x_long[~y_long.isnan()]\n",
    "#task_indices = task_indices[~y_long.isnan()]\n",
    "#y_long = y_long[~y_long.isnan()]\n",
    "\n",
    "train_dataset = TensorDataset(x_long, y_long,task_indices)\n",
    "train_loader = DataLoader(train_dataset, batch_size=500, shuffle=True)\n",
    "\n",
    "# We also make a version for test here\n",
    "test_x = torch.linspace(0, 1, 51).repeat(m)\n",
    "test_indices = torch.arange(0,m).unsqueeze(1).repeat(1,51).reshape(-1).long()"
   ]
  },
  {
   "cell_type": "markdown",
   "id": "529ad414",
   "metadata": {},
   "source": [
    "So now we have generated data from $m=10$ outputs $f_{ij}$ at $n=100$ inputs using $r=4$ latent functions. Time to set up the LMC "
   ]
  },
  {
   "cell_type": "code",
   "execution_count": null,
   "id": "5dccdef1",
   "metadata": {},
   "outputs": [],
   "source": [
    "class LMC(gpytorch.models.ApproximateGP):\n",
    "    def __init__(self):\n",
    "        # Different set of inducing points for each latent function\n",
    "        inducing_points = torch.rand(r,30,1)\n",
    "        # We have to mark the CholeskyVariationalDistribution as batch\n",
    "        # so that we learn a variational distribution for each latent\n",
    "        # note that this doesn't assume the same inducing locations for each latent\n",
    "        # which would speedup the ICM, but isn't technically needed.\n",
    "        variational_distribution = gpytorch.variational.CholeskyVariationalDistribution(\n",
    "            inducing_points.size(-2), batch_shape=torch.Size([r])\n",
    "        )\n",
    "        \n",
    "        # We have to wrap the VariationalStrategy in a LMCVariationalStrategy\n",
    "        # so that the output will be a MultitaskMultivariateNormal rather than a batch output\n",
    "        variational_strategy = gpytorch.variational.LMCVariationalStrategy(\n",
    "            gpytorch.variational.VariationalStrategy(\n",
    "                self, inducing_points, variational_distribution, learn_inducing_locations=True\n",
    "            ),\n",
    "            num_tasks=m,\n",
    "            num_latents=r,\n",
    "            latent_dim=-1\n",
    "        )\n",
    "        \n",
    "        super().__init__(variational_strategy)\n",
    "        \n",
    "        # The mean and covariance modules should be marked as batch\n",
    "        # so we learn a different set of hyperparameters\n",
    "        # For the ICM model, we do not set them as batch.\n",
    "        self.mean_module = gpytorch.means.ZeroMean()\n",
    "        self.covar_module = gpytorch.kernels.RBFKernel()\n",
    "        \n",
    "    def forward(self, x):\n",
    "        # The forward function should be written as if we were dealing with each output\n",
    "        # dimension in batch\n",
    "        mean_x = self.mean_module(x)\n",
    "        covar_x = self.covar_module(x)\n",
    "        return gpytorch.distributions.MultivariateNormal(mean_x, covar_x)\n",
    "\n",
    "    \n",
    "    \n",
    "\n",
    "model = LMC()\n",
    "#likelihood = gpytorch.likelihoods.MultitaskGaussianLikelihood(num_tasks=m)\n",
    "likelihood = gpytorch.likelihoods.GaussianLikelihood()"
   ]
  },
  {
   "cell_type": "markdown",
   "id": "d6c29a58",
   "metadata": {},
   "source": [
    "And training the LMC"
   ]
  },
  {
   "cell_type": "code",
   "execution_count": null,
   "id": "d2237b1c",
   "metadata": {},
   "outputs": [],
   "source": [
    "# this is for running the notebook in our testing framework\n",
    "import os\n",
    "import tqdm.notebook\n",
    "num_epochs = 4\n",
    "\n",
    "\n",
    "model.train()\n",
    "likelihood.train()\n",
    "\n",
    "optimizer = torch.optim.Adam([\n",
    "    {'params': model.parameters()},\n",
    "    {'params': likelihood.parameters()},\n",
    "], lr=0.01)\n",
    "\n",
    "# Uncomment to keep the LMC coefficients fixed at true values\n",
    "#model.variational_strategy.lmc_coefficients = torch.nn.Parameter(A.t())\n",
    "#optimizer = torch.optim.Adam([\n",
    "#    {'params': list(set(model.parameters()) - {model.variational_strategy.lmc_coefficients, })},\n",
    "#    {'params': likelihood.parameters()},\n",
    "#], lr=0.01)\n",
    "\n",
    "\n",
    "# Our loss object. We're using the VariationalELBO, which essentially just computes the ELBO\n",
    "#mll = gpytorch.mlls.VariationalELBO(likelihood, model, num_data=y.size(0))\n",
    "mll = gpytorch.mlls.VariationalELBO(likelihood, model, num_data=y_long.size(0))\n",
    "\n",
    "# We use more CG iterations here because the preconditioner introduced in the NeurIPS paper seems to be less\n",
    "# effective for VI.\n",
    "epochs_iter = tqdm.notebook.tqdm(range(num_epochs), desc=\"Epoch\")\n",
    "for i in epochs_iter:\n",
    "    # Within each iteration, we will go over each minibatch of data\n",
    "    minibatch_iter = tqdm.notebook.tqdm(train_loader, desc=\"Minibatch\", leave=False)\n",
    "    for x_batch, y_batch, task_batch in minibatch_iter:\n",
    "        optimizer.zero_grad()\n",
    "        output = model(x_batch,task_indices=task_batch)\n",
    "        loss = -mll(output, y_batch)\n",
    "        minibatch_iter.set_postfix(loss=loss.item())\n",
    "        loss.backward()\n",
    "        optimizer.step()\n",
    "        \n",
    "    #optimizer.zero_grad()\n",
    "    #output = model(x)\n",
    "    #loss = -mll(output, y)\n",
    "    #epochs_iter.set_postfix(loss=loss.item())\n",
    "    #loss.backward()\n",
    "    #optimizer.step()"
   ]
  },
  {
   "cell_type": "markdown",
   "id": "aec0d84a",
   "metadata": {},
   "source": [
    "Finally predicting on some new inputs `test_x`"
   ]
  },
  {
   "cell_type": "code",
   "execution_count": null,
   "id": "56bcbe2b",
   "metadata": {},
   "outputs": [],
   "source": [
    "model(test_x)"
   ]
  },
  {
   "cell_type": "code",
   "execution_count": null,
   "id": "a04e76cc",
   "metadata": {},
   "outputs": [],
   "source": [
    "# Set into eval mode\n",
    "model.eval()\n",
    "likelihood.eval()\n",
    "# Make predictions\n",
    "with torch.no_grad(), gpytorch.settings.fast_pred_var():\n",
    "    #test_x = torch.linspace(0, 1, 51)\n",
    "    predictions = likelihood(model(test_x,task_indices=test_indices))\n",
    "    mean = predictions.mean\n",
    "    lower, upper = predictions.confidence_region()"
   ]
  },
  {
   "cell_type": "markdown",
   "id": "e05a1a3f",
   "metadata": {},
   "source": [
    "We can then plot some of these tasks to inspect the model fit"
   ]
  },
  {
   "cell_type": "code",
   "execution_count": null,
   "id": "e38335bc",
   "metadata": {},
   "outputs": [],
   "source": [
    "mean[0:51].shape"
   ]
  },
  {
   "cell_type": "code",
   "execution_count": null,
   "id": "b66713b1",
   "metadata": {
    "scrolled": true
   },
   "outputs": [],
   "source": [
    "task = 40\n",
    "plt.plot(x,y[:,task],'k.',alpha=0.1)\n",
    "plt.plot(test_x[task*51:task*51+51],mean[task*51:task*51+51],\"b\")\n",
    "plt.plot(x,f[:,task],\"r\")\n",
    "plt.fill_between(test_x[task*51:task*51+51], lower[task*51:task*51+51], upper[task*51:task*51+51], alpha=1)"
   ]
  },
  {
   "cell_type": "markdown",
   "id": "446d37ef",
   "metadata": {},
   "source": [
    "What about parameters, to we recover the correct parameters?"
   ]
  },
  {
   "cell_type": "code",
   "execution_count": null,
   "id": "85a88847",
   "metadata": {},
   "outputs": [],
   "source": [
    "print(model.covar_module.lengthscale) # Rememeber true length scale is 0.2"
   ]
  },
  {
   "cell_type": "code",
   "execution_count": null,
   "id": "0a51d7e9",
   "metadata": {},
   "outputs": [],
   "source": [
    "print(model.variational_strategy.lmc_coefficients.detach())\n",
    "print(A.t())"
   ]
  },
  {
   "cell_type": "markdown",
   "id": "d1683fde",
   "metadata": {},
   "source": [
    "It does not appear like we are estimating the correct A matrix. Could this be because the representation is a little bit different inside `LMCVariationalStrategy`? Surely it must be. Setting the number of latent functions to 1, `r=1`, we still do not find the correct parameters. They don't even have the correct sign!"
   ]
  },
  {
   "cell_type": "markdown",
   "id": "d71dcb23",
   "metadata": {},
   "source": [
    "No! The reason is because of an inherent identifiability issue. If we are free-form learning the latent functions $u_k(x)$ as well as the matrix $A$ there is no guarantee we converge to the same function values. In a sense the matrix $A$ is too free. This can be checked by initializing $\\hat{A}=A$ and not optimizing over these parameters."
   ]
  },
  {
   "cell_type": "code",
   "execution_count": null,
   "id": "86e5a1d5",
   "metadata": {},
   "outputs": [],
   "source": [
    "latent = model.variational_strategy.base_variational_strategy(test_x.unsqueeze(-1))"
   ]
  },
  {
   "cell_type": "code",
   "execution_count": null,
   "id": "9a189973",
   "metadata": {},
   "outputs": [],
   "source": [
    "plt.plot(test_x,latent.mean[0,:].detach(),\"b--\")\n",
    "plt.plot(x,u[:,0],\"b\")\n",
    "plt.plot(test_x,latent.mean[1,:].detach(),\"r--\")\n",
    "plt.plot(x,u[:,1],\"r\")"
   ]
  },
  {
   "cell_type": "code",
   "execution_count": null,
   "id": "0c9eeccd",
   "metadata": {},
   "outputs": [],
   "source": [
    "model.variational_strategy.variational_distribution.covariance_matrix.shape"
   ]
  },
  {
   "cell_type": "markdown",
   "id": "bea03967",
   "metadata": {},
   "source": [
    "## Modifying the variational strategy"
   ]
  },
  {
   "cell_type": "markdown",
   "id": "f59357db",
   "metadata": {},
   "source": [
    "Okay, so the above code works well, and implements an ICM model with SVI and minibatching. The generic `GaussianLikelihood` means that we can easily incorporate observation specific noise like we have in the real synergy data -- or even *task specific* noises etc.\n",
    "\n",
    "We need to make two more changes to get a new version of PIICM up and running:\n",
    "\n",
    "    1. Instead of learning the matrix A \"free-form\", we want to learn it via a kernel over the outputs.\n",
    "        i. A will be calculated from the (truncated) eigen decomposition of this kernel\n",
    "        ii. We can experiment with the kernel used (i.e. MKL perhaps for the milestone)\n",
    "    2. Each latent function u(x) should be permutation invariant\n",
    "    \n",
    "I will tackle 1. first, as I think it might be the easiest option to go for.\n",
    "\n",
    "Looking at the original code, for the `LMCVariationalStrategy`, the LMC parameters are initialized in the `__init__` by \n",
    "\n",
    "```{python}\n",
    "# LCM coefficients\n",
    "lmc_coefficients = torch.randn(*batch_shape, self.num_tasks)\n",
    "self.register_parameter(\"lmc_coefficients\", torch.nn.Parameter(lmc_coefficients))\n",
    "```\n",
    "\n",
    "I think in principle, I just need to modify this to initialize from the eigendecomposition of the kernel.\n",
    "\n",
    "The easiest would probably be to have the option to pass a covariance over the outputs via the initialization. When setting up the model one could do something like:\n",
    "\n",
    "```{python}\n",
    "output_kernel = RBF(whatever)\n",
    "\n",
    "variational_strategy = gpytorch.variational.ModifiedLMCVariationalStrategy(\n",
    "            gpytorch.variational.VariationalStrategy(\n",
    "                self, inducing_points, variational_distribution, learn_inducing_locations=True\n",
    "            ),\n",
    "            output_kernel,\n",
    "            output_covars\n",
    "            num_tasks=m,\n",
    "            num_latents=r,\n",
    "            latent_dim=-1\n",
    "        )\n",
    "```\n",
    "and then inside variational strategy:\n",
    "\n",
    "```\n",
    "def __init__( ...\n",
    "    \n",
    "    # LCM coefficients\n",
    "    self.output_kernel = output_kernel\n",
    "    self.output_covars = output_covars\n",
    "    ...\n",
    "    \n",
    "@property\n",
    "def lmc_coefficients(self) -> Tensor:\n",
    "        evals, evecs = self.output_kernel(self.output_covars).symeig(eigenvectors=True)\n",
    "        evecs = evecs[:, -self.num_latents:]\n",
    "        evals = linear_operator.operators.DiagLinearOperator(evals[-self.num_latents:])\n",
    "        return evecs.matmul(evals.sqrt()).t().evaluate()\n",
    "```\n",
    "\n",
    "This seems to work. I still need to work on predicting at new outputs though. I should first convince myself that the projection onto the truncated eigenbasis is the correct thing to do.\n",
    "\n",
    "<font color='green'> Okay, I think I'm sufficiently convinced. I'll add this in the `ModifiedLMCVariationalStrategy.call()`, and hope it is not too hacky for it to extend to downstream applications such as BO. </font> \n",
    "\n",
    "Perhaps the easiest way to do this within the call is to check if output_covars are passed as an argument, and then set up the corresponding LMC coefficients like normally.\n",
    "\n",
    "<font color='green'> Yeah, this is also solved now. </font>\n",
    "\n",
    "I've modified the `__call__` of the `ModifiedLMCVariationalStrategy` with an optional additional argument, `task_covars: Optional[Tensor] = None`, that allows me to pass additional task covarites to predict at new outputs. The corresponding LMC-coefficients are generated by the aforementioned projection onto the columns of $A$, and we simply reshape them as before to multiply with the covariance coming from the latent GPs:\n",
    "\n",
    "```\n",
    "            if task_covars is None:\n",
    "                lmc_coefficients = self.lmc_coefficients.expand(*latent_dist.batch_shape,\n",
    "                                                                self.lmc_coefficients.size(-1))\n",
    "            else:\n",
    "                k_star = self.output_kernel(task_covars,self.output_covars)\n",
    "                anew = torch.linalg.solve(self.lmc_coefficients.matmul(self.lmc_coefficients.t()), self.lmc_coefficients.matmul(k_star.evaluate().unsqueeze(-1))).squeeze(-1).t()\n",
    "                lmc_coefficients = anew.expand(*latent_dist.batch_shape, anew.size(-1))\n",
    "```\n",
    "\n",
    "<font color='red'> Now we have a standard ICM model up and running, with a covariance function over the outputs, and using Stochastic Variational inference for the fitting. We need to make each latent function invariant at this point.</font>\n",
    "\n",
    "\n",
    "<font color='green'> Not done yet! I think this might be more about modifying the kernel function for each underlying latent, and can be done efficiently in a nother notebook. Addiationally, a whole new set of plotting functions are needed to see if predictions work, so will do this later.</font>\n",
    "\n",
    "\n",
    "<font color='red'> Regarding the \"LMC_ness\" of the model, if I have `r` latent functions mapped to `m` outputs, my A matrix will look like a `r x m` matrix. When computing the covariance matrix (in the \"all-outputs\" case) the LMCStrategy creates `RootLinearOperator` of each row of the A matrix, i.e. a set of `r` RootLinearOperators, each constructed by $K_i^A=A_{i\\cdot}A_{i\\cdot}^T$, where $A_{i\\cdot}$ denotes the $i$-th row of A. Then it forms the covariance by taking the Kronecker product of $K_i$ and the latent_covariance from the latent functions $K_i^X$ and sums them $K=\\sum_{i=1}^r K_i^X \\otimes K_i^A$ Now, this is fine, but in a real LMC we would want to group things together that have the same length-scale but keep things separate if not. I think this can be achieved by simply using a block-diagonal A matrix with Q blocks corresponding to the number of different length scales. I also think there is probably some nuance in setting up an LMC with the correct covariance structure, and then approximating it using variational inference. I need to think about this.</font>\n",
    "\n",
    "<font color='red'> Okay, I've given it some thought. The LMC model is sort of *de-facto* defined by it's covariance structure as a sum of Kronecker-product type things (in the completely observed case). With SVI, we don't have this exactly, because each latent GP has its own distribution over its own inducing points. But this can be explained with it being approximately true, and true when we have enough data. Because then the SVI bound will be almost exactly equal to the Titsias bound, and the \"free-form\" parameters $\\mu_i, S_i$ will be approximately close to the ones given by Titsias.  **Also, this is about prediction, so we don't really care too much** </font>\n",
    "\n",
    "\n",
    "<font color='Green'> So what needs to be done to extend this to an approximate LCM is to have A on a block-diagonal form, with $R$ blocks, each block $A_i$ an $r \\times r$ block coming from the truncated eigen-decomp of a kernel over covariates. Furthermore, I need a way to pass a list of $R$ covariances so that all the $r$ latent functions within the same block gets the same covariance function.</font>\n",
    "\n",
    "I've wrapped this up into `ModifiedLMCVariationalStrategy` as a member of `synpred.variational.modified_lmc_variational_strategy`. Will try it below"
   ]
  },
  {
   "cell_type": "code",
   "execution_count": 13,
   "id": "54baa594",
   "metadata": {},
   "outputs": [
    {
     "data": {
      "text/plain": [
       "torch.Size([2, 10])"
      ]
     },
     "execution_count": 13,
     "metadata": {},
     "output_type": "execute_result"
    }
   ],
   "source": [
    "torch.stack([torch.cat([1+0.1*torch.randn(int(m/2.)),-1+0.1*torch.randn(int(m/2.))]),\n",
    "            torch.cat([5+0.1*torch.randn(int(m/2.)),-0+0.1*torch.randn(int(m/2.))])],dim=0).shape"
   ]
  },
  {
   "cell_type": "code",
   "execution_count": 16,
   "id": "506dbf70",
   "metadata": {},
   "outputs": [
    {
     "data": {
      "text/plain": [
       "tensor([[1., 0.],\n",
       "        [0., 1.]])"
      ]
     },
     "execution_count": 16,
     "metadata": {},
     "output_type": "execute_result"
    }
   ],
   "source": []
  },
  {
   "cell_type": "code",
   "execution_count": 51,
   "id": "4da086ee",
   "metadata": {
    "scrolled": true
   },
   "outputs": [
    {
     "data": {
      "image/png": "[encoded data removed]",
      "text/plain": [
       "<Figure size 640x480 with 1 Axes>"
      ]
     },
     "metadata": {},
     "output_type": "display_data"
    }
   ],
   "source": [
    "# Code starts as before, with some imports and generating data\n",
    "# Some imports\n",
    "%matplotlib inline\n",
    "from matplotlib import pyplot as plt\n",
    "import torch\n",
    "import gpytorch\n",
    "import numpy as np\n",
    "import linear_operator\n",
    "r = 4 # Number of latents\n",
    "n = 1000 # Number of observations per output\n",
    "# Easiest way to sample from a GP using gpytorch?\n",
    "x = torch.linspace(0,1,n)\n",
    "u = torch.zeros(x.size(dim=0),r)\n",
    "\n",
    "\n",
    "mean = gpytorch.means.ZeroMean()\n",
    "kernel = gpytorch.kernels.RBFKernel()\n",
    "kernel.lengthscale = 0.2\n",
    "m = mean(x)\n",
    "K = kernel(x)\n",
    "for i in range(r):\n",
    "    GP = gpytorch.distributions.MultivariateNormal(m,K)\n",
    "    u[:,i] = GP.rsample().detach()\n",
    "    \n",
    "# Now creating outputs as linear combinations of these latent functions\n",
    "# but now the lmc-parameters A is coming from another kernel over some covariates\n",
    "\n",
    "m = 10 # num_outputs\n",
    "#covar_outputs = torch.cat([1+0.1*torch.randn(int(m/2.)),-1+0.8*torch.randn(int(m/2.))])\n",
    "covar_outputs = torch.cat([1+0.1*torch.randn(int(m/2.)),-1+0.1*torch.randn(int(m/2.))])\n",
    "# These are just some really dumb covariates which will give some clustering structure\n",
    "covar_kernel = gpytorch.kernels.RBFKernel()\n",
    "covar_kernel.lengthscale = 0.4\n",
    "covar_kernel = covar_kernel(covar_outputs)\n",
    "evals, evecs = covar_kernel.symeig(eigenvectors=True)\n",
    "evecs = evecs[:, -r:]\n",
    "evals = linear_operator.operators.DiagLinearOperator(evals[-r:])\n",
    "A = evecs.matmul(evals.sqrt()).evaluate().detach()\n",
    "\n",
    "f = A.matmul(u.t()).t()\n",
    "for i in range(m):\n",
    "    plt.plot(x,f[:,i])\n",
    "    \n",
    "# Now generate some corresponding data\n",
    "sigma = 0.1\n",
    "y = f + sigma*torch.randn(f.size())\n",
    "\n",
    "# Now going to get it ready for minibatching\n",
    "from torch.utils.data import TensorDataset, DataLoader\n",
    "\n",
    "# Get everything into long format\n",
    "y_long = y.t().reshape(-1)\n",
    "x_long = x.repeat(m)\n",
    "task_indices = torch.arange(0,m).unsqueeze(1).repeat(1,n).reshape(-1).long()\n",
    "\n",
    "# For last task, will remove some central observations \n",
    "#y_long[-5000:] = float('nan')\n",
    "#x_long = x_long[~y_long.isnan()]\n",
    "#task_indices = task_indices[~y_long.isnan()]\n",
    "#y_long = y_long[~y_long.isnan()]\n",
    "\n",
    "train_dataset = TensorDataset(x_long, y_long,task_indices)\n",
    "train_loader = DataLoader(train_dataset, batch_size=200, shuffle=True)\n",
    "\n",
    "# We also make a version for test here\n",
    "test_x = torch.linspace(0, 1, 51).repeat(m)\n",
    "test_indices = torch.arange(0,m).unsqueeze(1).repeat(1,51).reshape(-1).long()"
   ]
  },
  {
   "cell_type": "code",
   "execution_count": 52,
   "id": "c5d42fa7",
   "metadata": {},
   "outputs": [
    {
     "data": {
      "text/plain": [
       "<matplotlib.colorbar.Colorbar at 0x1691ab370>"
      ]
     },
     "execution_count": 52,
     "metadata": {},
     "output_type": "execute_result"
    },
    {
     "data": {
      "image/png": "[encoded data removed]",
      "text/plain": [
       "<Figure size 480x480 with 2 Axes>"
      ]
     },
     "metadata": {},
     "output_type": "display_data"
    },
    {
     "data": {
      "image/png": "[encoded data removed]",
      "text/plain": [
       "<Figure size 400x1000 with 2 Axes>"
      ]
     },
     "metadata": {},
     "output_type": "display_data"
    }
   ],
   "source": [
    "plt.matshow(A.matmul(A.t()))\n",
    "plt.colorbar()\n",
    "plt.matshow(A)\n",
    "plt.colorbar()"
   ]
  },
  {
   "cell_type": "code",
   "execution_count": 58,
   "id": "0593497a",
   "metadata": {},
   "outputs": [
    {
     "name": "stdout",
     "output_type": "stream",
     "text": [
      "Init is run!\n"
     ]
    }
   ],
   "source": [
    "from synpred.variational.outputcovariance_lmc_variational_strategy import OutputCovarianceLMCVariationalStrategy\n",
    "\n",
    "class ModifiedLMC(gpytorch.models.ApproximateGP):\n",
    "    def __init__(self,output_covars):\n",
    "        print(\"Init is run!\")\n",
    "        # Different set of inducing points for each latent function\n",
    "        inducing_points = torch.rand(r,30,1)\n",
    "        # Same set of inducing points for each latent function\n",
    "        #inducing_points = torch.linspace(0,1,30).unsqueeze(-1).repeat(r,1,1)\n",
    "        # We have to mark the CholeskyVariationalDistribution as batch\n",
    "        # so that we learn a variational distribution for each latent\n",
    "        variational_distribution = gpytorch.variational.CholeskyVariationalDistribution(\n",
    "            inducing_points.size(-2), batch_shape=torch.Size([r])\n",
    "        )\n",
    "        #variational_distribution = gpytorch.variational.MeanFieldVariationalDistribution(\n",
    "        #    inducing_points.size(-2), batch_shape=torch.Size([r])\n",
    "        #)\n",
    "        \n",
    "        # Covariance over the outputs, and initialized by covariates\n",
    "        output_kernel = gpytorch.kernels.RBFKernel()\n",
    "        \n",
    "        # We have to wrap the VariationalStrategy in a ModifiedLMCVariationalStrategy\n",
    "        # so that the output will be a MultitaskMultivariateNormal rather than a batch output\n",
    "        variational_strategy = OutputCovarianceLMCVariationalStrategy(\n",
    "            gpytorch.variational.VariationalStrategy(\n",
    "                self, inducing_points, variational_distribution, learn_inducing_locations=True\n",
    "            ),\n",
    "            output_kernel,\n",
    "            output_covars,\n",
    "            num_tasks=m,\n",
    "            num_latents=r,\n",
    "            latent_dim=-1\n",
    "        )\n",
    "        \n",
    "        super(ModifiedLMC,self).__init__(variational_strategy)\n",
    "        \n",
    "        # The mean and covariance modules could be marked as batch\n",
    "        # so we learn a different set of hyperparameters\n",
    "        # For the ICM model, we do not set them as batch as we want the same kernel for each latent\n",
    "        self.mean_module = gpytorch.means.ZeroMean()\n",
    "        self.covar_module = gpytorch.kernels.RBFKernel()\n",
    "        \n",
    "    def forward(self, x):\n",
    "        # The forward function should be written as if we were dealing with each output\n",
    "        # dimension in batch\n",
    "        mean_x = self.mean_module(x)\n",
    "        covar_x = self.covar_module(x)\n",
    "        return gpytorch.distributions.MultivariateNormal(mean_x, covar_x)\n",
    "\n",
    "    \n",
    "output_covars = torch.stack([torch.cat([1+0.1*torch.randn(int(m/2.)),-1+0.1*torch.randn(int(m/2.))]),\n",
    "            torch.cat([5+0.1*torch.randn(int(m/2.)),-0+0.1*torch.randn(int(m/2.))])],dim=-1)\n",
    "\n",
    "model = ModifiedLMC(output_covars)\n",
    "likelihood = gpytorch.likelihoods.GaussianLikelihood()"
   ]
  },
  {
   "cell_type": "code",
   "execution_count": 74,
   "id": "18c3a0a2",
   "metadata": {},
   "outputs": [
    {
     "data": {
      "text/plain": [
       "torch.Size([10, 2])"
      ]
     },
     "execution_count": 74,
     "metadata": {},
     "output_type": "execute_result"
    }
   ],
   "source": [
    "output_covars.shape"
   ]
  },
  {
   "cell_type": "code",
   "execution_count": 59,
   "id": "719d6edd",
   "metadata": {},
   "outputs": [
    {
     "data": {
      "text/plain": [
       "tensor([[ 1.1685,  4.9118],\n",
       "        [ 0.9065,  4.9804],\n",
       "        [ 0.9734,  5.0840],\n",
       "        [ 1.0522,  5.0905],\n",
       "        [ 0.9647,  5.0414],\n",
       "        [-0.9910,  0.1534],\n",
       "        [-1.0404,  0.0404],\n",
       "        [-0.8069, -0.0152],\n",
       "        [-1.0532, -0.0418],\n",
       "        [-0.9684, -0.0939]])"
      ]
     },
     "execution_count": 59,
     "metadata": {},
     "output_type": "execute_result"
    }
   ],
   "source": [
    "model.variational_strategy.output_covars"
   ]
  },
  {
   "cell_type": "code",
   "execution_count": 60,
   "id": "97e14fd2",
   "metadata": {},
   "outputs": [],
   "source": [
    "evals, evecs = model.variational_strategy.output_kernel(model.variational_strategy.output_covars).symeig(eigenvectors=True)"
   ]
  },
  {
   "cell_type": "code",
   "execution_count": 73,
   "id": "0cdf9b96",
   "metadata": {},
   "outputs": [
    {
     "data": {
      "text/plain": [
       "torch.Size([4, 10])"
      ]
     },
     "execution_count": 73,
     "metadata": {},
     "output_type": "execute_result"
    }
   ],
   "source": [
    "model.variational_strategy.lmc_coefficients.shape"
   ]
  },
  {
   "cell_type": "code",
   "execution_count": 62,
   "id": "390903a3",
   "metadata": {},
   "outputs": [
    {
     "ename": "NameError",
     "evalue": "name 'self' is not defined",
     "output_type": "error",
     "traceback": [
      "\u001b[0;31m---------------------------------------------------------------------------\u001b[0m",
      "\u001b[0;31mNameError\u001b[0m                                 Traceback (most recent call last)",
      "Cell \u001b[0;32mIn[62], line 1\u001b[0m\n\u001b[0;32m----> 1\u001b[0m evecs \u001b[38;5;241m=\u001b[39m evecs[:, \u001b[38;5;241m-\u001b[39m\u001b[38;5;28;43mself\u001b[39;49m\u001b[38;5;241m.\u001b[39mnum_latents:]\n\u001b[1;32m      2\u001b[0m evals \u001b[38;5;241m=\u001b[39m linear_operator\u001b[38;5;241m.\u001b[39moperators\u001b[38;5;241m.\u001b[39mDiagLinearOperator(evals[\u001b[38;5;241m-\u001b[39m\u001b[38;5;28mself\u001b[39m\u001b[38;5;241m.\u001b[39mnum_latents:])\n",
      "\u001b[0;31mNameError\u001b[0m: name 'self' is not defined"
     ]
    }
   ],
   "source": [
    "evecs = evecs[:, -self.num_latents:]\n",
    "evals = linear_operator.operators.DiagLinearOperator(evals[-self.num_latents:])"
   ]
  },
  {
   "cell_type": "code",
   "execution_count": 63,
   "id": "3d51bea3",
   "metadata": {},
   "outputs": [
    {
     "data": {
      "text/plain": [
       "tensor([[ 1.6460e-13,  5.6522e-13, -2.7135e-13, -4.2620e-13, -5.5525e-14,\n",
       "          1.4266e-01,  1.0457e-01, -2.0904e-01,  4.9519e-02, -9.0489e-02],\n",
       "        [ 2.6816e-01, -1.0403e-01, -8.8826e-02,  4.9299e-03, -7.2247e-02,\n",
       "          1.8340e-13, -5.8869e-14,  1.6868e-13, -1.6191e-13, -1.3169e-13],\n",
       "        [ 2.7008e-11,  2.7604e-11,  2.8014e-11,  2.8004e-11,  2.8049e-11,\n",
       "         -9.7818e-01, -9.9422e-01, -9.7140e-01, -9.9081e-01, -9.8923e-01],\n",
       "        [-9.6273e-01, -9.8679e-01, -9.9465e-01, -9.9351e-01, -9.9734e-01,\n",
       "         -2.7846e-11, -2.8031e-11, -2.7429e-11, -2.7879e-11, -2.7827e-11]],\n",
       "       grad_fn=<MmBackward0>)"
      ]
     },
     "execution_count": 63,
     "metadata": {},
     "output_type": "execute_result"
    }
   ],
   "source": [
    "model.variational_strategy.lmc_coefficients"
   ]
  },
  {
   "cell_type": "code",
   "execution_count": 64,
   "id": "a8b18c35",
   "metadata": {},
   "outputs": [
    {
     "ename": "RuntimeError",
     "evalue": "Shape mismatch: objects cannot be broadcast to a single shape",
     "output_type": "error",
     "traceback": [
      "\u001b[0;31m---------------------------------------------------------------------------\u001b[0m",
      "\u001b[0;31mRuntimeError\u001b[0m                              Traceback (most recent call last)",
      "Cell \u001b[0;32mIn[64], line 1\u001b[0m\n\u001b[0;32m----> 1\u001b[0m output \u001b[38;5;241m=\u001b[39m \u001b[43mmodel\u001b[49m\u001b[43m(\u001b[49m\u001b[43mx_batch\u001b[49m\u001b[43m,\u001b[49m\u001b[43mtask_indices\u001b[49m\u001b[38;5;241;43m=\u001b[39;49m\u001b[43mtask_batch\u001b[49m\u001b[43m)\u001b[49m\n",
      "File \u001b[0;32m~/opt/anaconda3/envs/synpred/lib/python3.10/site-packages/gpytorch/models/approximate_gp.py:108\u001b[0m, in \u001b[0;36mApproximateGP.__call__\u001b[0;34m(self, inputs, prior, **kwargs)\u001b[0m\n\u001b[1;32m    106\u001b[0m \u001b[38;5;28;01mif\u001b[39;00m inputs\u001b[38;5;241m.\u001b[39mdim() \u001b[38;5;241m==\u001b[39m \u001b[38;5;241m1\u001b[39m:\n\u001b[1;32m    107\u001b[0m     inputs \u001b[38;5;241m=\u001b[39m inputs\u001b[38;5;241m.\u001b[39munsqueeze(\u001b[38;5;241m-\u001b[39m\u001b[38;5;241m1\u001b[39m)\n\u001b[0;32m--> 108\u001b[0m \u001b[38;5;28;01mreturn\u001b[39;00m \u001b[38;5;28;43mself\u001b[39;49m\u001b[38;5;241;43m.\u001b[39;49m\u001b[43mvariational_strategy\u001b[49m\u001b[43m(\u001b[49m\u001b[43minputs\u001b[49m\u001b[43m,\u001b[49m\u001b[43m \u001b[49m\u001b[43mprior\u001b[49m\u001b[38;5;241;43m=\u001b[39;49m\u001b[43mprior\u001b[49m\u001b[43m,\u001b[49m\u001b[43m \u001b[49m\u001b[38;5;241;43m*\u001b[39;49m\u001b[38;5;241;43m*\u001b[39;49m\u001b[43mkwargs\u001b[49m\u001b[43m)\u001b[49m\n",
      "File \u001b[0;32m~/opt/anaconda3/envs/synpred/lib/python3.10/site-packages/synpred-0.0.1-py3.10.egg/synpred/variational/outputcovariance_lmc_variational_strategy.py:248\u001b[0m, in \u001b[0;36mOutputCovarianceLMCVariationalStrategy.__call__\u001b[0;34m(self, x, prior, task_indices, task_covars, **kwargs)\u001b[0m\n\u001b[1;32m    244\u001b[0m \u001b[38;5;28;01melse\u001b[39;00m:\n\u001b[1;32m    245\u001b[0m     \u001b[38;5;66;03m# Each data point will get a single output corresponding to a single task\u001b[39;00m\n\u001b[1;32m    246\u001b[0m     \u001b[38;5;66;03m# Therefore, we will select the appropriate lmc coefficients for each task\u001b[39;00m\n\u001b[1;32m    247\u001b[0m     \u001b[38;5;28;01mif\u001b[39;00m task_covars \u001b[38;5;129;01mis\u001b[39;00m \u001b[38;5;28;01mNone\u001b[39;00m:\n\u001b[0;32m--> 248\u001b[0m         lmc_coefficients \u001b[38;5;241m=\u001b[39m \u001b[43m_select_lmc_coefficients\u001b[49m\u001b[43m(\u001b[49m\u001b[38;5;28;43mself\u001b[39;49m\u001b[38;5;241;43m.\u001b[39;49m\u001b[43mlmc_coefficients\u001b[49m\u001b[43m,\u001b[49m\u001b[43m \u001b[49m\u001b[43mtask_indices\u001b[49m\u001b[43m)\u001b[49m\n\u001b[1;32m    249\u001b[0m         \u001b[38;5;28mprint\u001b[39m(lmc_coefficients\u001b[38;5;241m.\u001b[39mshape)\n\u001b[1;32m    250\u001b[0m     \u001b[38;5;28;01melse\u001b[39;00m:\n",
      "File \u001b[0;32m~/opt/anaconda3/envs/synpred/lib/python3.10/site-packages/synpred-0.0.1-py3.10.egg/synpred/variational/outputcovariance_lmc_variational_strategy.py:24\u001b[0m, in \u001b[0;36m_select_lmc_coefficients\u001b[0;34m(lmc_coefficients, indices)\u001b[0m\n\u001b[1;32m     16\u001b[0m \u001b[38;5;28;01mdef\u001b[39;00m \u001b[38;5;21m_select_lmc_coefficients\u001b[39m(lmc_coefficients: torch\u001b[38;5;241m.\u001b[39mTensor, indices: torch\u001b[38;5;241m.\u001b[39mLongTensor) \u001b[38;5;241m-\u001b[39m\u001b[38;5;241m>\u001b[39m torch\u001b[38;5;241m.\u001b[39mTensor:\n\u001b[1;32m     17\u001b[0m \u001b[38;5;250m    \u001b[39m\u001b[38;5;124;03m\"\"\"\u001b[39;00m\n\u001b[1;32m     18\u001b[0m \u001b[38;5;124;03m    Given a list of indices for ... x N datapoints,\u001b[39;00m\n\u001b[1;32m     19\u001b[0m \u001b[38;5;124;03m      select the row from lmc_coefficient that corresponds to each datapoint\u001b[39;00m\n\u001b[0;32m   (...)\u001b[0m\n\u001b[1;32m     22\u001b[0m \u001b[38;5;124;03m    indices: torch.Tesnor ... x N\u001b[39;00m\n\u001b[1;32m     23\u001b[0m \u001b[38;5;124;03m    \"\"\"\u001b[39;00m\n\u001b[0;32m---> 24\u001b[0m     batch_shape \u001b[38;5;241m=\u001b[39m \u001b[43mtorch\u001b[49m\u001b[38;5;241;43m.\u001b[39;49m\u001b[43mbroadcast_shapes\u001b[49m\u001b[43m(\u001b[49m\u001b[43mlmc_coefficients\u001b[49m\u001b[38;5;241;43m.\u001b[39;49m\u001b[43mshape\u001b[49m\u001b[43m[\u001b[49m\u001b[43m:\u001b[49m\u001b[38;5;241;43m-\u001b[39;49m\u001b[38;5;241;43m1\u001b[39;49m\u001b[43m]\u001b[49m\u001b[43m,\u001b[49m\u001b[43m \u001b[49m\u001b[43mindices\u001b[49m\u001b[38;5;241;43m.\u001b[39;49m\u001b[43mshape\u001b[49m\u001b[43m[\u001b[49m\u001b[43m:\u001b[49m\u001b[38;5;241;43m-\u001b[39;49m\u001b[38;5;241;43m1\u001b[39;49m\u001b[43m]\u001b[49m\u001b[43m)\u001b[49m\n\u001b[1;32m     26\u001b[0m     \u001b[38;5;66;03m# We will use the left_interp helper to do the indexing\u001b[39;00m\n\u001b[1;32m     27\u001b[0m     lmc_coefficients \u001b[38;5;241m=\u001b[39m lmc_coefficients\u001b[38;5;241m.\u001b[39mexpand(\u001b[38;5;241m*\u001b[39mbatch_shape, lmc_coefficients\u001b[38;5;241m.\u001b[39mshape[\u001b[38;5;241m-\u001b[39m\u001b[38;5;241m1\u001b[39m])[\u001b[38;5;241m.\u001b[39m\u001b[38;5;241m.\u001b[39m\u001b[38;5;241m.\u001b[39m, \u001b[38;5;28;01mNone\u001b[39;00m]\n",
      "File \u001b[0;32m~/opt/anaconda3/envs/synpred/lib/python3.10/site-packages/torch/functional.py:124\u001b[0m, in \u001b[0;36mbroadcast_shapes\u001b[0;34m(*shapes)\u001b[0m\n\u001b[1;32m    122\u001b[0m             \u001b[38;5;28;01mcontinue\u001b[39;00m\n\u001b[1;32m    123\u001b[0m         \u001b[38;5;28;01mif\u001b[39;00m result[i] \u001b[38;5;241m!=\u001b[39m \u001b[38;5;241m1\u001b[39m:\n\u001b[0;32m--> 124\u001b[0m             \u001b[38;5;28;01mraise\u001b[39;00m \u001b[38;5;167;01mRuntimeError\u001b[39;00m(\u001b[38;5;124m\"\u001b[39m\u001b[38;5;124mShape mismatch: objects cannot be broadcast to a single shape\u001b[39m\u001b[38;5;124m\"\u001b[39m)\n\u001b[1;32m    125\u001b[0m         result[i] \u001b[38;5;241m=\u001b[39m shape[i]\n\u001b[1;32m    126\u001b[0m \u001b[38;5;28;01melse\u001b[39;00m:\n",
      "\u001b[0;31mRuntimeError\u001b[0m: Shape mismatch: objects cannot be broadcast to a single shape"
     ]
    }
   ],
   "source": [
    "output = model(x_batch,task_indices=task_batch)"
   ]
  },
  {
   "cell_type": "code",
   "execution_count": 65,
   "id": "f72f9432",
   "metadata": {},
   "outputs": [],
   "source": [
    "lmc_coefficients = model.variational_strategy.lmc_coefficients"
   ]
  },
  {
   "cell_type": "code",
   "execution_count": 66,
   "id": "7c553dd0",
   "metadata": {},
   "outputs": [
    {
     "ename": "RuntimeError",
     "evalue": "Shape mismatch: objects cannot be broadcast to a single shape",
     "output_type": "error",
     "traceback": [
      "\u001b[0;31m---------------------------------------------------------------------------\u001b[0m",
      "\u001b[0;31mRuntimeError\u001b[0m                              Traceback (most recent call last)",
      "Cell \u001b[0;32mIn[66], line 1\u001b[0m\n\u001b[0;32m----> 1\u001b[0m batch_shape \u001b[38;5;241m=\u001b[39m \u001b[43mtorch\u001b[49m\u001b[38;5;241;43m.\u001b[39;49m\u001b[43mbroadcast_shapes\u001b[49m\u001b[43m(\u001b[49m\u001b[43mlmc_coefficients\u001b[49m\u001b[38;5;241;43m.\u001b[39;49m\u001b[43mshape\u001b[49m\u001b[43m[\u001b[49m\u001b[43m:\u001b[49m\u001b[38;5;241;43m-\u001b[39;49m\u001b[38;5;241;43m1\u001b[39;49m\u001b[43m]\u001b[49m\u001b[43m,\u001b[49m\u001b[43m \u001b[49m\u001b[43mtask_batch\u001b[49m\u001b[38;5;241;43m.\u001b[39;49m\u001b[43mshape\u001b[49m\u001b[43m[\u001b[49m\u001b[43m:\u001b[49m\u001b[38;5;241;43m-\u001b[39;49m\u001b[38;5;241;43m1\u001b[39;49m\u001b[43m]\u001b[49m\u001b[43m)\u001b[49m\n",
      "File \u001b[0;32m~/opt/anaconda3/envs/synpred/lib/python3.10/site-packages/torch/functional.py:124\u001b[0m, in \u001b[0;36mbroadcast_shapes\u001b[0;34m(*shapes)\u001b[0m\n\u001b[1;32m    122\u001b[0m             \u001b[38;5;28;01mcontinue\u001b[39;00m\n\u001b[1;32m    123\u001b[0m         \u001b[38;5;28;01mif\u001b[39;00m result[i] \u001b[38;5;241m!=\u001b[39m \u001b[38;5;241m1\u001b[39m:\n\u001b[0;32m--> 124\u001b[0m             \u001b[38;5;28;01mraise\u001b[39;00m \u001b[38;5;167;01mRuntimeError\u001b[39;00m(\u001b[38;5;124m\"\u001b[39m\u001b[38;5;124mShape mismatch: objects cannot be broadcast to a single shape\u001b[39m\u001b[38;5;124m\"\u001b[39m)\n\u001b[1;32m    125\u001b[0m         result[i] \u001b[38;5;241m=\u001b[39m shape[i]\n\u001b[1;32m    126\u001b[0m \u001b[38;5;28;01melse\u001b[39;00m:\n",
      "\u001b[0;31mRuntimeError\u001b[0m: Shape mismatch: objects cannot be broadcast to a single shape"
     ]
    }
   ],
   "source": [
    "batch_shape = torch.broadcast_shapes(lmc_coefficients.shape[:-1], task_batch.shape[:-1])"
   ]
  },
  {
   "cell_type": "code",
   "execution_count": 67,
   "id": "abf34472",
   "metadata": {},
   "outputs": [
    {
     "ename": "RuntimeError",
     "evalue": "The expanded size of the tensor (2) must match the existing size (4) at non-singleton dimension 0.  Target sizes: [2, 10].  Tensor sizes: [4, 10]",
     "output_type": "error",
     "traceback": [
      "\u001b[0;31m---------------------------------------------------------------------------\u001b[0m",
      "\u001b[0;31mRuntimeError\u001b[0m                              Traceback (most recent call last)",
      "Cell \u001b[0;32mIn[67], line 1\u001b[0m\n\u001b[0;32m----> 1\u001b[0m lmc_coefficients \u001b[38;5;241m=\u001b[39m \u001b[43mlmc_coefficients\u001b[49m\u001b[38;5;241;43m.\u001b[39;49m\u001b[43mexpand\u001b[49m\u001b[43m(\u001b[49m\u001b[38;5;241;43m*\u001b[39;49m\u001b[43mbatch_shape\u001b[49m\u001b[43m,\u001b[49m\u001b[43m \u001b[49m\u001b[43mlmc_coefficients\u001b[49m\u001b[38;5;241;43m.\u001b[39;49m\u001b[43mshape\u001b[49m\u001b[43m[\u001b[49m\u001b[38;5;241;43m-\u001b[39;49m\u001b[38;5;241;43m1\u001b[39;49m\u001b[43m]\u001b[49m\u001b[43m)\u001b[49m[\u001b[38;5;241m.\u001b[39m\u001b[38;5;241m.\u001b[39m\u001b[38;5;241m.\u001b[39m, \u001b[38;5;28;01mNone\u001b[39;00m]\n",
      "\u001b[0;31mRuntimeError\u001b[0m: The expanded size of the tensor (2) must match the existing size (4) at non-singleton dimension 0.  Target sizes: [2, 10].  Tensor sizes: [4, 10]"
     ]
    }
   ],
   "source": [
    "lmc_coefficients = lmc_coefficients.expand(*batch_shape, lmc_coefficients.shape[-1])[..., None]"
   ]
  },
  {
   "cell_type": "code",
   "execution_count": 68,
   "id": "2b1d0561",
   "metadata": {},
   "outputs": [
    {
     "ename": "RuntimeError",
     "evalue": "expand(torch.LongTensor{[2, 200, 1]}, size=[2, 1]): the number of sizes provided (2) must be greater or equal to the number of dimensions in the tensor (3)",
     "output_type": "error",
     "traceback": [
      "\u001b[0;31m---------------------------------------------------------------------------\u001b[0m",
      "\u001b[0;31mRuntimeError\u001b[0m                              Traceback (most recent call last)",
      "Cell \u001b[0;32mIn[68], line 1\u001b[0m\n\u001b[0;32m----> 1\u001b[0m task_batch \u001b[38;5;241m=\u001b[39m \u001b[43mtask_batch\u001b[49m\u001b[38;5;241;43m.\u001b[39;49m\u001b[43mexpand\u001b[49m\u001b[43m(\u001b[49m\u001b[38;5;241;43m*\u001b[39;49m\u001b[43mbatch_shape\u001b[49m\u001b[43m,\u001b[49m\u001b[43m \u001b[49m\u001b[43mtask_batch\u001b[49m\u001b[38;5;241;43m.\u001b[39;49m\u001b[43mshape\u001b[49m\u001b[43m[\u001b[49m\u001b[38;5;241;43m-\u001b[39;49m\u001b[38;5;241;43m1\u001b[39;49m\u001b[43m]\u001b[49m\u001b[43m)\u001b[49m[\u001b[38;5;241m.\u001b[39m\u001b[38;5;241m.\u001b[39m\u001b[38;5;241m.\u001b[39m, \u001b[38;5;28;01mNone\u001b[39;00m]\n",
      "\u001b[0;31mRuntimeError\u001b[0m: expand(torch.LongTensor{[2, 200, 1]}, size=[2, 1]): the number of sizes provided (2) must be greater or equal to the number of dimensions in the tensor (3)"
     ]
    }
   ],
   "source": [
    "task_batch = task_batch.expand(*batch_shape, task_batch.shape[-1])[..., None]"
   ]
  },
  {
   "cell_type": "code",
   "execution_count": 69,
   "id": "1a9393d4",
   "metadata": {},
   "outputs": [
    {
     "data": {
      "text/plain": [
       "tensor([[[9],\n",
       "         [4],\n",
       "         [8],\n",
       "         [5],\n",
       "         [1],\n",
       "         [9],\n",
       "         [3],\n",
       "         [2],\n",
       "         [5],\n",
       "         [2],\n",
       "         [2],\n",
       "         [0],\n",
       "         [5],\n",
       "         [9],\n",
       "         [9],\n",
       "         [9],\n",
       "         [8],\n",
       "         [4],\n",
       "         [2],\n",
       "         [1],\n",
       "         [7],\n",
       "         [4],\n",
       "         [9],\n",
       "         [5],\n",
       "         [0],\n",
       "         [6],\n",
       "         [4],\n",
       "         [4],\n",
       "         [2],\n",
       "         [6],\n",
       "         [4],\n",
       "         [5],\n",
       "         [0],\n",
       "         [7],\n",
       "         [5],\n",
       "         [6],\n",
       "         [5],\n",
       "         [0],\n",
       "         [2],\n",
       "         [8],\n",
       "         [5],\n",
       "         [8],\n",
       "         [5],\n",
       "         [2],\n",
       "         [1],\n",
       "         [2],\n",
       "         [2],\n",
       "         [7],\n",
       "         [4],\n",
       "         [9],\n",
       "         [6],\n",
       "         [4],\n",
       "         [4],\n",
       "         [7],\n",
       "         [2],\n",
       "         [7],\n",
       "         [5],\n",
       "         [8],\n",
       "         [6],\n",
       "         [1],\n",
       "         [3],\n",
       "         [8],\n",
       "         [5],\n",
       "         [2],\n",
       "         [0],\n",
       "         [0],\n",
       "         [5],\n",
       "         [0],\n",
       "         [8],\n",
       "         [6],\n",
       "         [6],\n",
       "         [2],\n",
       "         [1],\n",
       "         [6],\n",
       "         [3],\n",
       "         [5],\n",
       "         [5],\n",
       "         [0],\n",
       "         [2],\n",
       "         [4],\n",
       "         [3],\n",
       "         [0],\n",
       "         [0],\n",
       "         [1],\n",
       "         [7],\n",
       "         [2],\n",
       "         [4],\n",
       "         [7],\n",
       "         [7],\n",
       "         [4],\n",
       "         [8],\n",
       "         [0],\n",
       "         [8],\n",
       "         [3],\n",
       "         [3],\n",
       "         [0],\n",
       "         [4],\n",
       "         [9],\n",
       "         [1],\n",
       "         [6],\n",
       "         [2],\n",
       "         [8],\n",
       "         [6],\n",
       "         [8],\n",
       "         [7],\n",
       "         [4],\n",
       "         [0],\n",
       "         [7],\n",
       "         [6],\n",
       "         [2],\n",
       "         [3],\n",
       "         [9],\n",
       "         [1],\n",
       "         [7],\n",
       "         [3],\n",
       "         [4],\n",
       "         [9],\n",
       "         [8],\n",
       "         [4],\n",
       "         [4],\n",
       "         [1],\n",
       "         [3],\n",
       "         [1],\n",
       "         [2],\n",
       "         [7],\n",
       "         [0],\n",
       "         [0],\n",
       "         [3],\n",
       "         [0],\n",
       "         [2],\n",
       "         [0],\n",
       "         [0],\n",
       "         [0],\n",
       "         [7],\n",
       "         [9],\n",
       "         [7],\n",
       "         [8],\n",
       "         [9],\n",
       "         [8],\n",
       "         [5],\n",
       "         [5],\n",
       "         [4],\n",
       "         [0],\n",
       "         [4],\n",
       "         [6],\n",
       "         [0],\n",
       "         [5],\n",
       "         [2],\n",
       "         [6],\n",
       "         [7],\n",
       "         [8],\n",
       "         [8],\n",
       "         [8],\n",
       "         [1],\n",
       "         [8],\n",
       "         [8],\n",
       "         [1],\n",
       "         [7],\n",
       "         [1],\n",
       "         [6],\n",
       "         [0],\n",
       "         [3],\n",
       "         [8],\n",
       "         [7],\n",
       "         [3],\n",
       "         [2],\n",
       "         [9],\n",
       "         [3],\n",
       "         [6],\n",
       "         [9],\n",
       "         [1],\n",
       "         [1],\n",
       "         [0],\n",
       "         [4],\n",
       "         [6],\n",
       "         [5],\n",
       "         [5],\n",
       "         [5],\n",
       "         [5],\n",
       "         [2],\n",
       "         [1],\n",
       "         [0],\n",
       "         [5],\n",
       "         [3],\n",
       "         [0],\n",
       "         [1],\n",
       "         [8],\n",
       "         [2],\n",
       "         [7],\n",
       "         [7],\n",
       "         [6],\n",
       "         [9],\n",
       "         [6],\n",
       "         [2],\n",
       "         [2],\n",
       "         [9],\n",
       "         [3],\n",
       "         [4],\n",
       "         [5],\n",
       "         [4]],\n",
       "\n",
       "        [[9],\n",
       "         [4],\n",
       "         [8],\n",
       "         [5],\n",
       "         [1],\n",
       "         [9],\n",
       "         [3],\n",
       "         [2],\n",
       "         [5],\n",
       "         [2],\n",
       "         [2],\n",
       "         [0],\n",
       "         [5],\n",
       "         [9],\n",
       "         [9],\n",
       "         [9],\n",
       "         [8],\n",
       "         [4],\n",
       "         [2],\n",
       "         [1],\n",
       "         [7],\n",
       "         [4],\n",
       "         [9],\n",
       "         [5],\n",
       "         [0],\n",
       "         [6],\n",
       "         [4],\n",
       "         [4],\n",
       "         [2],\n",
       "         [6],\n",
       "         [4],\n",
       "         [5],\n",
       "         [0],\n",
       "         [7],\n",
       "         [5],\n",
       "         [6],\n",
       "         [5],\n",
       "         [0],\n",
       "         [2],\n",
       "         [8],\n",
       "         [5],\n",
       "         [8],\n",
       "         [5],\n",
       "         [2],\n",
       "         [1],\n",
       "         [2],\n",
       "         [2],\n",
       "         [7],\n",
       "         [4],\n",
       "         [9],\n",
       "         [6],\n",
       "         [4],\n",
       "         [4],\n",
       "         [7],\n",
       "         [2],\n",
       "         [7],\n",
       "         [5],\n",
       "         [8],\n",
       "         [6],\n",
       "         [1],\n",
       "         [3],\n",
       "         [8],\n",
       "         [5],\n",
       "         [2],\n",
       "         [0],\n",
       "         [0],\n",
       "         [5],\n",
       "         [0],\n",
       "         [8],\n",
       "         [6],\n",
       "         [6],\n",
       "         [2],\n",
       "         [1],\n",
       "         [6],\n",
       "         [3],\n",
       "         [5],\n",
       "         [5],\n",
       "         [0],\n",
       "         [2],\n",
       "         [4],\n",
       "         [3],\n",
       "         [0],\n",
       "         [0],\n",
       "         [1],\n",
       "         [7],\n",
       "         [2],\n",
       "         [4],\n",
       "         [7],\n",
       "         [7],\n",
       "         [4],\n",
       "         [8],\n",
       "         [0],\n",
       "         [8],\n",
       "         [3],\n",
       "         [3],\n",
       "         [0],\n",
       "         [4],\n",
       "         [9],\n",
       "         [1],\n",
       "         [6],\n",
       "         [2],\n",
       "         [8],\n",
       "         [6],\n",
       "         [8],\n",
       "         [7],\n",
       "         [4],\n",
       "         [0],\n",
       "         [7],\n",
       "         [6],\n",
       "         [2],\n",
       "         [3],\n",
       "         [9],\n",
       "         [1],\n",
       "         [7],\n",
       "         [3],\n",
       "         [4],\n",
       "         [9],\n",
       "         [8],\n",
       "         [4],\n",
       "         [4],\n",
       "         [1],\n",
       "         [3],\n",
       "         [1],\n",
       "         [2],\n",
       "         [7],\n",
       "         [0],\n",
       "         [0],\n",
       "         [3],\n",
       "         [0],\n",
       "         [2],\n",
       "         [0],\n",
       "         [0],\n",
       "         [0],\n",
       "         [7],\n",
       "         [9],\n",
       "         [7],\n",
       "         [8],\n",
       "         [9],\n",
       "         [8],\n",
       "         [5],\n",
       "         [5],\n",
       "         [4],\n",
       "         [0],\n",
       "         [4],\n",
       "         [6],\n",
       "         [0],\n",
       "         [5],\n",
       "         [2],\n",
       "         [6],\n",
       "         [7],\n",
       "         [8],\n",
       "         [8],\n",
       "         [8],\n",
       "         [1],\n",
       "         [8],\n",
       "         [8],\n",
       "         [1],\n",
       "         [7],\n",
       "         [1],\n",
       "         [6],\n",
       "         [0],\n",
       "         [3],\n",
       "         [8],\n",
       "         [7],\n",
       "         [3],\n",
       "         [2],\n",
       "         [9],\n",
       "         [3],\n",
       "         [6],\n",
       "         [9],\n",
       "         [1],\n",
       "         [1],\n",
       "         [0],\n",
       "         [4],\n",
       "         [6],\n",
       "         [5],\n",
       "         [5],\n",
       "         [5],\n",
       "         [5],\n",
       "         [2],\n",
       "         [1],\n",
       "         [0],\n",
       "         [5],\n",
       "         [3],\n",
       "         [0],\n",
       "         [1],\n",
       "         [8],\n",
       "         [2],\n",
       "         [7],\n",
       "         [7],\n",
       "         [6],\n",
       "         [9],\n",
       "         [6],\n",
       "         [2],\n",
       "         [2],\n",
       "         [9],\n",
       "         [3],\n",
       "         [4],\n",
       "         [5],\n",
       "         [4]]])"
      ]
     },
     "execution_count": 69,
     "metadata": {},
     "output_type": "execute_result"
    }
   ],
   "source": [
    "task_batch"
   ]
  },
  {
   "cell_type": "code",
   "execution_count": null,
   "id": "cc487b29",
   "metadata": {},
   "outputs": [],
   "source": []
  },
  {
   "cell_type": "code",
   "execution_count": null,
   "id": "2195fa64",
   "metadata": {},
   "outputs": [],
   "source": []
  },
  {
   "cell_type": "code",
   "execution_count": null,
   "id": "400d5422",
   "metadata": {},
   "outputs": [],
   "source": []
  },
  {
   "cell_type": "code",
   "execution_count": 70,
   "id": "4eb2f983",
   "metadata": {
    "scrolled": false
   },
   "outputs": [
    {
     "data": {
      "application/vnd.jupyter.widget-view+json": {
       "model_id": "d6495607ff504deea62e8885ffa790ec",
       "version_major": 2,
       "version_minor": 0
      },
      "text/plain": [
       "Epoch:   0%|          | 0/1 [00:00<?, ?it/s]"
      ]
     },
     "metadata": {},
     "output_type": "display_data"
    },
    {
     "data": {
      "application/vnd.jupyter.widget-view+json": {
       "model_id": "",
       "version_major": 2,
       "version_minor": 0
      },
      "text/plain": [
       "Minibatch:   0%|          | 0/50 [00:00<?, ?it/s]"
      ]
     },
     "metadata": {},
     "output_type": "display_data"
    },
    {
     "name": "stdout",
     "output_type": "stream",
     "text": [
      "torch.Size([4, 200])\n",
      "torch.Size([4, 200])\n",
      "torch.Size([4, 200])\n",
      "torch.Size([4, 200])\n",
      "torch.Size([4, 200])\n",
      "torch.Size([4, 200])\n",
      "torch.Size([4, 200])\n",
      "torch.Size([4, 200])\n",
      "torch.Size([4, 200])\n",
      "torch.Size([4, 200])\n",
      "torch.Size([4, 200])\n",
      "torch.Size([4, 200])\n",
      "torch.Size([4, 200])\n",
      "torch.Size([4, 200])\n",
      "torch.Size([4, 200])\n",
      "torch.Size([4, 200])\n",
      "torch.Size([4, 200])\n",
      "torch.Size([4, 200])\n",
      "torch.Size([4, 200])\n",
      "torch.Size([4, 200])\n",
      "torch.Size([4, 200])\n",
      "torch.Size([4, 200])\n",
      "torch.Size([4, 200])\n",
      "torch.Size([4, 200])\n",
      "torch.Size([4, 200])\n",
      "torch.Size([4, 200])\n",
      "torch.Size([4, 200])\n",
      "torch.Size([4, 200])\n",
      "torch.Size([4, 200])\n",
      "torch.Size([4, 200])\n",
      "torch.Size([4, 200])\n",
      "torch.Size([4, 200])\n",
      "torch.Size([4, 200])\n",
      "torch.Size([4, 200])\n",
      "torch.Size([4, 200])\n",
      "torch.Size([4, 200])\n",
      "torch.Size([4, 200])\n",
      "torch.Size([4, 200])\n",
      "torch.Size([4, 200])\n",
      "torch.Size([4, 200])\n",
      "torch.Size([4, 200])\n",
      "torch.Size([4, 200])\n",
      "torch.Size([4, 200])\n",
      "torch.Size([4, 200])\n",
      "torch.Size([4, 200])\n",
      "torch.Size([4, 200])\n",
      "torch.Size([4, 200])\n",
      "torch.Size([4, 200])\n",
      "torch.Size([4, 200])\n",
      "torch.Size([4, 200])\n"
     ]
    }
   ],
   "source": [
    "# this is for running the notebook in our testing framework\n",
    "import os\n",
    "import tqdm.notebook\n",
    "num_epochs = 1 # Number of complete passes through the data\n",
    "\n",
    "\n",
    "model.train()\n",
    "likelihood.train()\n",
    "\n",
    "optimizer = torch.optim.Adam([\n",
    "    {'params': model.parameters()},\n",
    "    {'params': likelihood.parameters()},\n",
    "], lr=0.01)\n",
    "\n",
    "# Uncomment to keep the LMC coefficients fixed at true values\n",
    "#model.variational_strategy.lmc_coefficients = torch.nn.Parameter(A.t())\n",
    "#optimizer = torch.optim.Adam([\n",
    "#    {'params': list(set(model.parameters()) - {model.variational_strategy.lmc_coefficients, })},\n",
    "#    {'params': likelihood.parameters()},\n",
    "#], lr=0.01)\n",
    "\n",
    "\n",
    "# Our loss object. We're using the VariationalELBO, which essentially just computes the ELBO\n",
    "#mll = gpytorch.mlls.VariationalELBO(likelihood, model, num_data=y.size(0))\n",
    "mll = gpytorch.mlls.VariationalELBO(likelihood, model, num_data=y_long.size(0))\n",
    "\n",
    "# We use more CG iterations here because the preconditioner introduced in the NeurIPS paper seems to be less\n",
    "# effective for VI.\n",
    "epochs_iter = tqdm.notebook.tqdm(range(num_epochs), desc=\"Epoch\")\n",
    "for i in epochs_iter:\n",
    "    # Within each iteration, we will go over each minibatch of data\n",
    "    minibatch_iter = tqdm.notebook.tqdm(train_loader, desc=\"Minibatch\", leave=False)\n",
    "    for x_batch, y_batch, task_batch in minibatch_iter:\n",
    "        optimizer.zero_grad()\n",
    "        output = model(x_batch,task_indices=task_batch)\n",
    "        loss = -mll(output, y_batch)\n",
    "        minibatch_iter.set_postfix(loss=loss.item())\n",
    "        loss.backward()\n",
    "        optimizer.step()\n",
    "        \n",
    "    #optimizer.zero_grad()\n",
    "    #output = model(x)\n",
    "    #loss = -mll(output, y)\n",
    "    #epochs_iter.set_postfix(loss=loss.item())\n",
    "    #loss.backward()\n",
    "    #optimizer.step()"
   ]
  },
  {
   "cell_type": "code",
   "execution_count": null,
   "id": "df215fb2",
   "metadata": {},
   "outputs": [],
   "source": [
    "covar_outputs"
   ]
  },
  {
   "cell_type": "code",
   "execution_count": null,
   "id": "9a6fd25c",
   "metadata": {},
   "outputs": [],
   "source": []
  },
  {
   "cell_type": "code",
   "execution_count": null,
   "id": "2d3ed36d",
   "metadata": {
    "scrolled": false
   },
   "outputs": [],
   "source": [
    "#newoutput = torch.tensor([0.9971,0])\n",
    "newoutput = torch.linspace(-1,1,10)\n",
    "\n",
    "test_x = torch.linspace(0, 1, 51).repeat(newoutput.size(-1))\n",
    "test_indices = torch.arange(0,newoutput.size(-1)).unsqueeze(1).repeat(1,51).reshape(-1).long()"
   ]
  },
  {
   "cell_type": "code",
   "execution_count": null,
   "id": "092aced9",
   "metadata": {},
   "outputs": [],
   "source": [
    "# Set into eval mode\n",
    "model.eval()\n",
    "likelihood.eval()\n",
    "# Make predictions\n",
    "\n",
    "with torch.no_grad(), gpytorch.settings.fast_pred_var():\n",
    "    predictions = likelihood(model(test_x,task_indices=test_indices,task_covars=newoutput))\n",
    "    mean = predictions.mean\n",
    "    lower, upper = predictions.confidence_region()"
   ]
  },
  {
   "cell_type": "code",
   "execution_count": null,
   "id": "55eb2f54",
   "metadata": {
    "scrolled": false
   },
   "outputs": [],
   "source": [
    "task = 0\n",
    "plt.plot(test_x[task*51:task*51+51],mean[task*51:task*51+51],\"b\")\n",
    "plt.fill_between(test_x[task*51:task*51+51], lower[task*51:task*51+51], upper[task*51:task*51+51])"
   ]
  },
  {
   "cell_type": "code",
   "execution_count": null,
   "id": "3f7bc099",
   "metadata": {},
   "outputs": [],
   "source": [
    "mean.shape"
   ]
  },
  {
   "cell_type": "code",
   "execution_count": null,
   "id": "d0ae3a7c",
   "metadata": {},
   "outputs": [],
   "source": [
    "task = 0\n",
    "plt.plot(x,y[:,task],'k.',alpha=0.1)\n",
    "plt.plot(test_x[task*51:task*51+51],mean[task*51:task*51+51],\"b\")\n",
    "plt.plot(x,f[:,task],\"r\")\n",
    "plt.fill_between(test_x[task*51:task*51+51], lower[task*51:task*51+51], upper[task*51:task*51+51], alpha=1)"
   ]
  },
  {
   "cell_type": "code",
   "execution_count": null,
   "id": "e30842c6",
   "metadata": {},
   "outputs": [],
   "source": [
    "lower.shape"
   ]
  },
  {
   "cell_type": "code",
   "execution_count": null,
   "id": "a92ed088",
   "metadata": {},
   "outputs": [],
   "source": [
    "test_x"
   ]
  },
  {
   "cell_type": "code",
   "execution_count": null,
   "id": "bf98581e",
   "metadata": {},
   "outputs": [],
   "source": [
    "model.variational_strategy.output_kernel.lengthscale.detach().numpy()"
   ]
  },
  {
   "cell_type": "code",
   "execution_count": null,
   "id": "158d3608",
   "metadata": {},
   "outputs": [],
   "source": [
    "model.variational_strategy.base_variational_strategy.inducing_points\n"
   ]
  },
  {
   "cell_type": "code",
   "execution_count": null,
   "id": "f30c19fd",
   "metadata": {},
   "outputs": [],
   "source": [
    "plt.matshow(model.variational_strategy.lmc_coefficients.t().matmul(model.variational_strategy.lmc_coefficients).detach())\n",
    "\n",
    "plt.colorbar()\n",
    "plt.matshow(A.matmul(A.t()))\n",
    "plt.colorbar()"
   ]
  },
  {
   "cell_type": "code",
   "execution_count": null,
   "id": "925741f1",
   "metadata": {},
   "outputs": [],
   "source": [
    "model.variational_strategy.base_variational_strategy.variational_distribution.mean"
   ]
  },
  {
   "cell_type": "code",
   "execution_count": null,
   "id": "37a59377",
   "metadata": {},
   "outputs": [],
   "source": [
    "model.variational_strategy.lmc_coefficients.shape"
   ]
  },
  {
   "cell_type": "code",
   "execution_count": null,
   "id": "330a23ce",
   "metadata": {},
   "outputs": [],
   "source": [
    "x_batch.unsqueeze(-1)"
   ]
  },
  {
   "cell_type": "code",
   "execution_count": null,
   "id": "5a5e0193",
   "metadata": {},
   "outputs": [],
   "source": [
    "x_batch.shape"
   ]
  },
  {
   "cell_type": "code",
   "execution_count": null,
   "id": "202a25a9",
   "metadata": {},
   "outputs": [],
   "source": [
    "latent_dist = model.variational_strategy.base_variational_strategy(x_batch.unsqueeze(-1))\n",
    "num_batch = len(latent_dist.batch_shape)\n",
    "latent_dim = num_batch + model.variational_strategy.latent_dim\n",
    "num_dim = num_batch + len(latent_dist.event_shape)"
   ]
  },
  {
   "cell_type": "code",
   "execution_count": null,
   "id": "9dc1248a",
   "metadata": {},
   "outputs": [],
   "source": []
  },
  {
   "cell_type": "code",
   "execution_count": null,
   "id": "05289141",
   "metadata": {},
   "outputs": [],
   "source": [
    "lmc_coefficients = model.variational_strategy.lmc_coefficients.expand(*latent_dist.batch_shape,model.variational_strategy.lmc_coefficients.size(-1))"
   ]
  },
  {
   "cell_type": "code",
   "execution_count": null,
   "id": "8fa5e9d5",
   "metadata": {},
   "outputs": [],
   "source": [
    "k_star = model.variational_strategy.output_kernel(newoutput,model.variational_strategy.output_covars)\n",
    "anew = torch.linalg.solve(model.variational_strategy.lmc_coefficients.matmul(model.variational_strategy.lmc_coefficients.t()),\n",
    "                          model.variational_strategy.lmc_coefficients.matmul(k_star.evaluate().unsqueeze(-1))).squeeze(-1).t()\n",
    "lmc_coefficients = anew.expand(*latent_dist.batch_shape, anew.size(-1))"
   ]
  },
  {
   "cell_type": "code",
   "execution_count": null,
   "id": "d8838cd8",
   "metadata": {
    "scrolled": true
   },
   "outputs": [],
   "source": [
    "model.variational_strategy.lmc_coefficients.size(-1)"
   ]
  },
  {
   "cell_type": "code",
   "execution_count": null,
   "id": "67d82d3a",
   "metadata": {},
   "outputs": [],
   "source": [
    "anew.size(-1)"
   ]
  },
  {
   "cell_type": "code",
   "execution_count": null,
   "id": "46f94376",
   "metadata": {},
   "outputs": [],
   "source": [
    "latent_mean = latent_dist.mean.permute(*range(0, latent_dim), *range(latent_dim + 1, num_dim), latent_dim)\n",
    "mean = latent_mean @ lmc_coefficients.permute(\n",
    "                *range(0, latent_dim), *range(latent_dim + 1, num_dim - 1), latent_dim, -1\n",
    "            )"
   ]
  },
  {
   "cell_type": "code",
   "execution_count": null,
   "id": "bc110138",
   "metadata": {},
   "outputs": [],
   "source": [
    "mean.shape"
   ]
  },
  {
   "cell_type": "code",
   "execution_count": null,
   "id": "b06e21ff",
   "metadata": {},
   "outputs": [],
   "source": [
    "latent_covar = latent_dist.lazy_covariance_matrix\n",
    "lmc_factor = linear_operator.operators.RootLinearOperator(lmc_coefficients.unsqueeze(-1))"
   ]
  },
  {
   "cell_type": "code",
   "execution_count": null,
   "id": "9f5c3fd0",
   "metadata": {},
   "outputs": [],
   "source": [
    "lmc_factor.shape"
   ]
  },
  {
   "cell_type": "code",
   "execution_count": null,
   "id": "afcccb43",
   "metadata": {},
   "outputs": [],
   "source": [
    "lmc_coefficients.unsqueeze(-1).shape"
   ]
  },
  {
   "cell_type": "code",
   "execution_count": null,
   "id": "644715ae",
   "metadata": {},
   "outputs": [],
   "source": [
    "lmc_coefficients.shape"
   ]
  },
  {
   "cell_type": "code",
   "execution_count": null,
   "id": "99e915b5",
   "metadata": {},
   "outputs": [],
   "source": [
    "lmc_factor.shape"
   ]
  },
  {
   "cell_type": "code",
   "execution_count": null,
   "id": "febf2fc9",
   "metadata": {},
   "outputs": [],
   "source": [
    "covar = linear_operator.operators.KroneckerProductLinearOperator(latent_covar, lmc_factor).sum(latent_dim)"
   ]
  },
  {
   "cell_type": "code",
   "execution_count": null,
   "id": "fd291025",
   "metadata": {},
   "outputs": [],
   "source": [
    "covar.shape"
   ]
  },
  {
   "cell_type": "code",
   "execution_count": null,
   "id": "9a1aaab2",
   "metadata": {},
   "outputs": [],
   "source": [
    "linear_operator.operators.KroneckerProductLinearOperator(latent_covar, lmc_factor).sum(latent_dim).shape"
   ]
  },
  {
   "cell_type": "code",
   "execution_count": null,
   "id": "f2ee884b",
   "metadata": {
    "scrolled": true
   },
   "outputs": [],
   "source": [
    "latent_covar.evaluate()[0,0:5,0:5]"
   ]
  },
  {
   "cell_type": "code",
   "execution_count": null,
   "id": "ed8320e2",
   "metadata": {
    "scrolled": true
   },
   "outputs": [],
   "source": [
    "latent_covar.evaluate()[1,0:5,0:5]"
   ]
  },
  {
   "cell_type": "code",
   "execution_count": null,
   "id": "f4550bd2",
   "metadata": {},
   "outputs": [],
   "source": [
    "latent_covar.shape"
   ]
  },
  {
   "cell_type": "code",
   "execution_count": null,
   "id": "831aa5e1",
   "metadata": {},
   "outputs": [],
   "source": [
    "model.variational_strategy.base_variational_strategy.inducing_points"
   ]
  },
  {
   "cell_type": "code",
   "execution_count": null,
   "id": "0accaf73",
   "metadata": {
    "scrolled": true
   },
   "outputs": [],
   "source": [
    "model.variational_strategy.base_variational_strategy.variational_distribution[0,:].covariance_matrix[0:5,0:5]"
   ]
  },
  {
   "cell_type": "code",
   "execution_count": null,
   "id": "92b6dcbf",
   "metadata": {},
   "outputs": [],
   "source": [
    "model.variational_strategy.base_variational_strategy.variational_distribution[1,:].covariance_matrix[0:5,0:5]"
   ]
  },
  {
   "cell_type": "code",
   "execution_count": null,
   "id": "ef9923f6",
   "metadata": {},
   "outputs": [],
   "source": [
    "plt.matshow(model.variational_strategy.base_variational_strategy.variational_distribution[0,:].covariance_matrix)\n",
    "plt.matshow(model.variational_strategy.base_variational_strategy.variational_distribution[1,:].covariance_matrix)\n",
    "plt.matshow(model.variational_strategy.base_variational_strategy.variational_distribution[2,:].covariance_matrix)\n",
    "plt.matshow(model.variational_strategy.base_variational_strategy.variational_distribution[3,:].covariance_matrix)\n"
   ]
  },
  {
   "cell_type": "code",
   "execution_count": null,
   "id": "ee9ef67e",
   "metadata": {},
   "outputs": [],
   "source": [
    "model.variational_strategy.base_variational_strategy"
   ]
  },
  {
   "cell_type": "code",
   "execution_count": null,
   "id": "2fae2821",
   "metadata": {},
   "outputs": [],
   "source": []
  },
  {
   "cell_type": "code",
   "execution_count": null,
   "id": "38f1a9bd",
   "metadata": {},
   "outputs": [],
   "source": [
    "lmc_coefficients = model.variational_strategy.lmc_coefficients"
   ]
  },
  {
   "cell_type": "code",
   "execution_count": null,
   "id": "088168fb",
   "metadata": {},
   "outputs": [],
   "source": [
    "covar_outputs"
   ]
  },
  {
   "cell_type": "code",
   "execution_count": null,
   "id": "7be4cf91",
   "metadata": {},
   "outputs": [],
   "source": [
    "# A new test case\n",
    "#newoutput = torch.tensor([-1.3099])\n",
    "newoutput = covar_outputs\n",
    "k_star = model.variational_strategy.output_kernel(newoutput,model.variational_strategy.output_covars)"
   ]
  },
  {
   "cell_type": "code",
   "execution_count": null,
   "id": "c107f755",
   "metadata": {},
   "outputs": [],
   "source": [
    "k_star.evaluate()"
   ]
  },
  {
   "cell_type": "code",
   "execution_count": null,
   "id": "24b40f96",
   "metadata": {},
   "outputs": [],
   "source": [
    "k_star.shape"
   ]
  },
  {
   "cell_type": "code",
   "execution_count": null,
   "id": "6e3bdac1",
   "metadata": {},
   "outputs": [],
   "source": [
    "anew = torch.linalg.solve(lmc_coefficients.matmul(lmc_coefficients.t()),lmc_coefficients.matmul(k_star.evaluate().unsqueeze(-1)))"
   ]
  },
  {
   "cell_type": "code",
   "execution_count": null,
   "id": "f42e4c5f",
   "metadata": {},
   "outputs": [],
   "source": [
    "anew.squeeze(-1).t()"
   ]
  },
  {
   "cell_type": "code",
   "execution_count": null,
   "id": "fbec3b19",
   "metadata": {},
   "outputs": [],
   "source": [
    "lmc_coefficients"
   ]
  },
  {
   "cell_type": "code",
   "execution_count": null,
   "id": "39b268f4",
   "metadata": {},
   "outputs": [],
   "source": [
    "model.variational_strategy.base_variational_strategy"
   ]
  },
  {
   "cell_type": "code",
   "execution_count": null,
   "id": "251a5a8a",
   "metadata": {},
   "outputs": [],
   "source": []
  },
  {
   "cell_type": "code",
   "execution_count": null,
   "id": "2b9e5ce7",
   "metadata": {},
   "outputs": [],
   "source": []
  },
  {
   "cell_type": "code",
   "execution_count": null,
   "id": "2e645a12",
   "metadata": {},
   "outputs": [],
   "source": []
  }
 ],
 "metadata": {
  "kernelspec": {
   "display_name": "Python 3 (ipykernel)",
   "language": "python",
   "name": "python3"
  },
  "language_info": {
   "codemirror_mode": {
    "name": "ipython",
    "version": 3
   },
   "file_extension": ".py",
   "mimetype": "text/x-python",
   "name": "python",
   "nbconvert_exporter": "python",
   "pygments_lexer": "ipython3",
   "version": "3.10.13"
  }
 },
 "nbformat": 4,
 "nbformat_minor": 5
}
