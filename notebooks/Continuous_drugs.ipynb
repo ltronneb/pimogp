{
 "cells": [
  {
   "cell_type": "markdown",
   "id": "e6225dbb",
   "metadata": {},
   "source": [
    "# Utilizing continuous drug representations"
   ]
  },
  {
   "cell_type": "markdown",
   "id": "cd482eb7",
   "metadata": {},
   "source": [
    "In this notebook, the model is tested in its ability to predict on held out drugs or drug pairs by using a continuous representation of the drugs."
   ]
  },
  {
   "cell_type": "code",
   "execution_count": null,
   "id": "8403f49d",
   "metadata": {},
   "outputs": [],
   "source": [
    "import pandas as pd\n",
    "import numpy as np\n",
    "from sklearn.decomposition import PCA\n",
    "from sklearn.preprocessing import StandardScaler\n",
    "from scipy.stats import zscore\n",
    "\n",
    "drugs = pd.read_csv(\"../synpred/data/ONeil_drug_representation.csv\")\n",
    "data = pd.read_csv(\"../synpred/data/Oneil_full.csv\",delimiter=\";\")"
   ]
  },
  {
   "cell_type": "code",
   "execution_count": 110,
   "id": "1b8d6a1a",
   "metadata": {},
   "outputs": [],
   "source": [
    "X = drugs.iloc[:,2:]\n",
    "X = X.apply(zscore)\n",
    "drugs = drugs.iloc[:,0:1]\n",
    "XA = X.add_prefix(\"A\")\n",
    "XB = X.add_prefix(\"B\") \n",
    "\n",
    "drugsA = pd.concat([drugs,XA],axis=1)\n",
    "drugsB = pd.concat([drugs,XB],axis=1)\n",
    "\n",
    "data = pd.merge(data,drugsA,left_on=\"DrugA\",right_on=\"Name\")\n",
    "data = pd.merge(data,drugsB,left_on=\"DrugB\",right_on=\"Name\")\n",
    "data = data.drop(columns=[\"Name_x\",\"Name_y\"])\n",
    "data.dropna(inplace = True)"
   ]
  },
  {
   "cell_type": "code",
   "execution_count": 111,
   "id": "1a180c8c",
   "metadata": {
    "scrolled": true
   },
   "outputs": [
    {
     "name": "stdout",
     "output_type": "stream",
     "text": [
      "['A2058']\n"
     ]
    }
   ],
   "source": [
    "# Sort the data, and pull out a single cell line\n",
    "data = data.sort_values([\"CellLine\",\"DrugA\",\"DrugB\"])\n",
    "k = 1*289*100 # We have 289 unique drug combinations, with 100 concentrations each. This pulls out first cell line\n",
    "data = data.head(k)\n",
    "print(data[\"CellLine\"].unique()) # Should be a single value here"
   ]
  },
  {
   "cell_type": "code",
   "execution_count": 112,
   "id": "6554aa53",
   "metadata": {
    "scrolled": true
   },
   "outputs": [],
   "source": [
    "# Normalize data per experiment\n",
    "#data['GPMean'] = data.groupby([\"CellLine\",\"DrugA\",\"DrugB\"])['GPMean'].transform(lambda x: (x - x.mean()) / x.std())\n",
    "\n",
    "# Normalize total data\n",
    "#data['GPMean'] = data['GPMean'].transform(lambda x: (x - x.mean()) / x.std())"
   ]
  },
  {
   "cell_type": "code",
   "execution_count": 113,
   "id": "f59be244",
   "metadata": {},
   "outputs": [],
   "source": [
    "# Now splitting the dataset into a test and train set\n",
    "from sklearn.model_selection import train_test_split\n",
    "k = np.floor(289*0.8)\n",
    "data[\"combination\"] = data.DrugA.map(str) + \"_\" + data.DrugB\n",
    "train_combinations, test_combinations = train_test_split(pd.DataFrame(data.combination.unique()), test_size=0.2)\n",
    "train = data[data[\"combination\"].isin(train_combinations[0].tolist())]\n",
    "test = data[data[\"combination\"].isin(test_combinations[0].tolist())]\n",
    "# Now drop the combination column\n",
    "train = train.drop(columns=[\"combination\"])\n",
    "test = test.drop(columns=[\"combination\"])"
   ]
  },
  {
   "cell_type": "code",
   "execution_count": 114,
   "id": "d019c5b8",
   "metadata": {},
   "outputs": [],
   "source": [
    "# Now setting up the actual datasets\n",
    "from matplotlib import pyplot as plt\n",
    "import torch\n",
    "import gpytorch\n",
    "import numpy as np\n",
    "import linear_operator\n",
    "y_train = torch.tensor(train[\"GPMean\"].values).float()\n",
    "y_test = torch.tensor(test[\"GPMean\"].values).float()\n",
    "conc_train = train[['DrugAconc','DrugBconc']]\n",
    "conc_test = test[['DrugAconc','DrugBconc']]\n",
    "drugcovars_train = train.iloc[:,-(50*2):]\n",
    "drugcovars_test = test.iloc[:,-(50*2):]\n",
    "X_train = torch.tensor(pd.concat([conc_train,drugcovars_train],axis=1).values).float()\n",
    "X_test = torch.tensor(pd.concat([conc_test,drugcovars_test],axis=1).values).float()\n",
    "\n",
    "# Noise vectors\n",
    "y_noise = torch.tensor(train[\"GPVar\"].values).float()"
   ]
  },
  {
   "cell_type": "code",
   "execution_count": 115,
   "id": "c2592301",
   "metadata": {},
   "outputs": [],
   "source": [
    "# Setting up minibatching\n",
    "from torch.utils.data import TensorDataset, DataLoader, WeightedRandomSampler\n",
    "train_dataset = TensorDataset(X_train, y_train, y_noise)\n",
    "sampler = WeightedRandomSampler(y_train.abs(),len(y_train),replacement=True)\n",
    "train_loader = DataLoader(train_dataset, batch_size=256, sampler=sampler)\n",
    "#train_loader = DataLoader(train_dataset, batch_size=256, shuffle=True)"
   ]
  },
  {
   "cell_type": "code",
   "execution_count": 154,
   "id": "c1023b9d",
   "metadata": {},
   "outputs": [],
   "source": [
    "# Setting up the models\n",
    "from synpred.variational.permutation_invariant_variational_strategy import PermutationInvariantVariationalStrategy\n",
    "\n",
    "\n",
    "### Model 4 -- RBF + ARD\n",
    "class DrugCombModel(gpytorch.models.ApproximateGP):\n",
    "    def __init__(self):\n",
    "        # Permutation\n",
    "        permutation = torch.cat([torch.tensor([1]),torch.tensor([0]),\n",
    "                                 torch.linspace((2+50),1+(2*50),50),torch.linspace(2,1+50,50)]).long()\n",
    "        # Inducing points init from training data\n",
    "        #ind_indices = torch.randperm(X_train.size(0))\n",
    "        #inducing_points = torch.stack([X_train[ind_indices[:500]]],\n",
    "        #                               dim=0)\n",
    "        # Inducing points where the action is!\n",
    "        p = y_train.abs().div(y_train.abs().sum())\n",
    "        idx = p.multinomial(num_samples=500, replacement=False)\n",
    "        inducing_points = torch.stack([X_train[idx]],\n",
    "                                       dim=0).squeeze(0)\n",
    "        \n",
    "        # Variational distribution\n",
    "        variational_distribution = gpytorch.variational.NaturalVariationalDistribution(\n",
    "            inducing_points.size(-2))\n",
    "        \n",
    "        \n",
    "        # Variational Strategy\n",
    "        variational_strategy = PermutationInvariantVariationalStrategy(\n",
    "            self, inducing_points, variational_distribution, \n",
    "            permutation=permutation,\n",
    "            learn_inducing_locations=True)\n",
    "\n",
    "        \n",
    "        super(DrugCombModel,self).__init__(variational_strategy)\n",
    "        \n",
    "        # Mean and covariance modules\n",
    "        # Standard zero-mean\n",
    "        self.mean_module = gpytorch.means.ZeroMean()\n",
    "        # Covar over the concentrations, simple RBF\n",
    "        self.covar_module_concentrations = gpytorch.kernels.ScaleKernel(\n",
    "                                            gpytorch.kernels.RBFKernel(active_dims=torch.tensor([0,1]))\n",
    "                                            ) \n",
    "        # Covar over the drugs, RBF + ARD\n",
    "        self.covar_module_drugs = gpytorch.kernels.RBFKernel(active_dims=torch.linspace(2,2*50+1,2*50).long(),\n",
    "                                                            ard_num_dims=2*50)\n",
    "        \n",
    "    def forward(self, x):\n",
    "        mean_x = self.mean_module(x)\n",
    "        # Final covariance is a simple product.\n",
    "        covar_x = self.covar_module_concentrations(x) * self.covar_module_drugs(x)\n",
    "        return gpytorch.distributions.MultivariateNormal(mean_x, covar_x)\n",
    "\n",
    "\n",
    "    \n",
    "model = DrugCombModel()\n",
    "likelihood = gpytorch.likelihoods.GaussianLikelihood()\n",
    "#likelihood = gpytorch.likelihoods.FixedNoiseGaussianLikelihood(noise=y_noise, learn_additional_noise=True)"
   ]
  },
  {
   "cell_type": "code",
   "execution_count": 155,
   "id": "4525a21f",
   "metadata": {},
   "outputs": [
    {
     "name": "stdout",
     "output_type": "stream",
     "text": [
      "Old loss:  2.5203304290771484\n",
      "New loss:  2.520296573638916\n",
      "Old loss:  2.520296573638916\n",
      "New loss:  2.5202951431274414\n",
      "Old loss:  2.5202951431274414\n",
      "New loss:  2.5202560424804688\n",
      "Old loss:  2.5202560424804688\n",
      "New loss:  2.5202229022979736\n"
     ]
    }
   ],
   "source": [
    "# Check that initialization is decent\n",
    "init_loss = []\n",
    "#models = []\n",
    "#likelihoods = []\n",
    "#ind = torch.randperm(X_train.size(0))\n",
    "p = y_train.abs().div(y_train.abs().sum())\n",
    "idx = p.multinomial(num_samples=1000, replacement=False)\n",
    "X_mll = X_train[idx]\n",
    "y_mll = y_train[idx]\n",
    "y_noise_mll = y_noise[idx]\n",
    "model = DrugCombModel()\n",
    "#likelihood = gpytorch.likelihoods.FixedNoiseGaussianLikelihood(noise=y_noise_mll, learn_additional_noise=True)\n",
    "likelihood = gpytorch.likelihoods.GaussianLikelihood()\n",
    "model.train()\n",
    "likelihood.train()\n",
    "mll = gpytorch.mlls.VariationalELBO(likelihood, model, num_data=y_train.size(0))\n",
    "output = model(X_mll)\n",
    "loss = -mll(output, y_mll)\n",
    "for i in range(100):\n",
    "    # Now continue in \n",
    "    newmodel = DrugCombModel()\n",
    "    #newlikelihood = gpytorch.likelihoods.FixedNoiseGaussianLikelihood(noise=y_noise_mll,learn_additional_noise=True)\n",
    "    newlikelihood = gpytorch.likelihoods.GaussianLikelihood()\n",
    "    newmodel.train()\n",
    "    newlikelihood.train()\n",
    "    newmll = gpytorch.mlls.VariationalELBO(newlikelihood, newmodel, num_data=y_mll.size(0))\n",
    "    newoutput = newmodel(X_mll)\n",
    "    newloss = -newmll(newoutput, y_mll)\n",
    "    # If this loss is better overwrite\n",
    "    if newloss.item() < loss.item():\n",
    "        print(\"Old loss: \", loss.item())\n",
    "        print(\"New loss: \", newloss.item())\n",
    "        model = newmodel\n",
    "        likelihood = newlikelihood\n",
    "        loss = newloss\n",
    "        \n",
    "    else:\n",
    "        # Delete everthing\n",
    "        import gc\n",
    "        del newmodel\n",
    "        del newlikelihood\n",
    "        del newloss\n",
    "        del newmll\n",
    "        del newoutput\n",
    "        gc.collect()\n"
   ]
  },
  {
   "cell_type": "code",
   "execution_count": 156,
   "id": "f686a860",
   "metadata": {},
   "outputs": [
    {
     "data": {
      "application/vnd.jupyter.widget-view+json": {
       "model_id": "dd7980bbb9574c01a849356862902302",
       "version_major": 2,
       "version_minor": 0
      },
      "text/plain": [
       "Epoch:   0%|          | 0/40 [00:00<?, ?it/s]"
      ]
     },
     "metadata": {},
     "output_type": "display_data"
    },
    {
     "data": {
      "application/vnd.jupyter.widget-view+json": {
       "model_id": "",
       "version_major": 2,
       "version_minor": 0
      },
      "text/plain": [
       "Minibatch:   0%|          | 0/91 [00:00<?, ?it/s]"
      ]
     },
     "metadata": {},
     "output_type": "display_data"
    },
    {
     "data": {
      "application/vnd.jupyter.widget-view+json": {
       "model_id": "",
       "version_major": 2,
       "version_minor": 0
      },
      "text/plain": [
       "Minibatch:   0%|          | 0/91 [00:00<?, ?it/s]"
      ]
     },
     "metadata": {},
     "output_type": "display_data"
    },
    {
     "data": {
      "application/vnd.jupyter.widget-view+json": {
       "model_id": "",
       "version_major": 2,
       "version_minor": 0
      },
      "text/plain": [
       "Minibatch:   0%|          | 0/91 [00:00<?, ?it/s]"
      ]
     },
     "metadata": {},
     "output_type": "display_data"
    },
    {
     "data": {
      "application/vnd.jupyter.widget-view+json": {
       "model_id": "",
       "version_major": 2,
       "version_minor": 0
      },
      "text/plain": [
       "Minibatch:   0%|          | 0/91 [00:00<?, ?it/s]"
      ]
     },
     "metadata": {},
     "output_type": "display_data"
    },
    {
     "data": {
      "application/vnd.jupyter.widget-view+json": {
       "model_id": "",
       "version_major": 2,
       "version_minor": 0
      },
      "text/plain": [
       "Minibatch:   0%|          | 0/91 [00:00<?, ?it/s]"
      ]
     },
     "metadata": {},
     "output_type": "display_data"
    },
    {
     "data": {
      "application/vnd.jupyter.widget-view+json": {
       "model_id": "",
       "version_major": 2,
       "version_minor": 0
      },
      "text/plain": [
       "Minibatch:   0%|          | 0/91 [00:00<?, ?it/s]"
      ]
     },
     "metadata": {},
     "output_type": "display_data"
    },
    {
     "data": {
      "application/vnd.jupyter.widget-view+json": {
       "model_id": "",
       "version_major": 2,
       "version_minor": 0
      },
      "text/plain": [
       "Minibatch:   0%|          | 0/91 [00:00<?, ?it/s]"
      ]
     },
     "metadata": {},
     "output_type": "display_data"
    },
    {
     "data": {
      "application/vnd.jupyter.widget-view+json": {
       "model_id": "",
       "version_major": 2,
       "version_minor": 0
      },
      "text/plain": [
       "Minibatch:   0%|          | 0/91 [00:00<?, ?it/s]"
      ]
     },
     "metadata": {},
     "output_type": "display_data"
    },
    {
     "data": {
      "application/vnd.jupyter.widget-view+json": {
       "model_id": "",
       "version_major": 2,
       "version_minor": 0
      },
      "text/plain": [
       "Minibatch:   0%|          | 0/91 [00:00<?, ?it/s]"
      ]
     },
     "metadata": {},
     "output_type": "display_data"
    },
    {
     "data": {
      "application/vnd.jupyter.widget-view+json": {
       "model_id": "",
       "version_major": 2,
       "version_minor": 0
      },
      "text/plain": [
       "Minibatch:   0%|          | 0/91 [00:00<?, ?it/s]"
      ]
     },
     "metadata": {},
     "output_type": "display_data"
    },
    {
     "data": {
      "application/vnd.jupyter.widget-view+json": {
       "model_id": "",
       "version_major": 2,
       "version_minor": 0
      },
      "text/plain": [
       "Minibatch:   0%|          | 0/91 [00:00<?, ?it/s]"
      ]
     },
     "metadata": {},
     "output_type": "display_data"
    },
    {
     "data": {
      "application/vnd.jupyter.widget-view+json": {
       "model_id": "",
       "version_major": 2,
       "version_minor": 0
      },
      "text/plain": [
       "Minibatch:   0%|          | 0/91 [00:00<?, ?it/s]"
      ]
     },
     "metadata": {},
     "output_type": "display_data"
    },
    {
     "data": {
      "application/vnd.jupyter.widget-view+json": {
       "model_id": "",
       "version_major": 2,
       "version_minor": 0
      },
      "text/plain": [
       "Minibatch:   0%|          | 0/91 [00:00<?, ?it/s]"
      ]
     },
     "metadata": {},
     "output_type": "display_data"
    },
    {
     "data": {
      "application/vnd.jupyter.widget-view+json": {
       "model_id": "",
       "version_major": 2,
       "version_minor": 0
      },
      "text/plain": [
       "Minibatch:   0%|          | 0/91 [00:00<?, ?it/s]"
      ]
     },
     "metadata": {},
     "output_type": "display_data"
    },
    {
     "data": {
      "application/vnd.jupyter.widget-view+json": {
       "model_id": "",
       "version_major": 2,
       "version_minor": 0
      },
      "text/plain": [
       "Minibatch:   0%|          | 0/91 [00:00<?, ?it/s]"
      ]
     },
     "metadata": {},
     "output_type": "display_data"
    },
    {
     "data": {
      "application/vnd.jupyter.widget-view+json": {
       "model_id": "",
       "version_major": 2,
       "version_minor": 0
      },
      "text/plain": [
       "Minibatch:   0%|          | 0/91 [00:00<?, ?it/s]"
      ]
     },
     "metadata": {},
     "output_type": "display_data"
    },
    {
     "data": {
      "application/vnd.jupyter.widget-view+json": {
       "model_id": "",
       "version_major": 2,
       "version_minor": 0
      },
      "text/plain": [
       "Minibatch:   0%|          | 0/91 [00:00<?, ?it/s]"
      ]
     },
     "metadata": {},
     "output_type": "display_data"
    },
    {
     "data": {
      "application/vnd.jupyter.widget-view+json": {
       "model_id": "",
       "version_major": 2,
       "version_minor": 0
      },
      "text/plain": [
       "Minibatch:   0%|          | 0/91 [00:00<?, ?it/s]"
      ]
     },
     "metadata": {},
     "output_type": "display_data"
    },
    {
     "data": {
      "application/vnd.jupyter.widget-view+json": {
       "model_id": "",
       "version_major": 2,
       "version_minor": 0
      },
      "text/plain": [
       "Minibatch:   0%|          | 0/91 [00:00<?, ?it/s]"
      ]
     },
     "metadata": {},
     "output_type": "display_data"
    },
    {
     "data": {
      "application/vnd.jupyter.widget-view+json": {
       "model_id": "",
       "version_major": 2,
       "version_minor": 0
      },
      "text/plain": [
       "Minibatch:   0%|          | 0/91 [00:00<?, ?it/s]"
      ]
     },
     "metadata": {},
     "output_type": "display_data"
    },
    {
     "data": {
      "application/vnd.jupyter.widget-view+json": {
       "model_id": "",
       "version_major": 2,
       "version_minor": 0
      },
      "text/plain": [
       "Minibatch:   0%|          | 0/91 [00:00<?, ?it/s]"
      ]
     },
     "metadata": {},
     "output_type": "display_data"
    },
    {
     "data": {
      "application/vnd.jupyter.widget-view+json": {
       "model_id": "",
       "version_major": 2,
       "version_minor": 0
      },
      "text/plain": [
       "Minibatch:   0%|          | 0/91 [00:00<?, ?it/s]"
      ]
     },
     "metadata": {},
     "output_type": "display_data"
    },
    {
     "data": {
      "application/vnd.jupyter.widget-view+json": {
       "model_id": "",
       "version_major": 2,
       "version_minor": 0
      },
      "text/plain": [
       "Minibatch:   0%|          | 0/91 [00:00<?, ?it/s]"
      ]
     },
     "metadata": {},
     "output_type": "display_data"
    },
    {
     "data": {
      "application/vnd.jupyter.widget-view+json": {
       "model_id": "",
       "version_major": 2,
       "version_minor": 0
      },
      "text/plain": [
       "Minibatch:   0%|          | 0/91 [00:00<?, ?it/s]"
      ]
     },
     "metadata": {},
     "output_type": "display_data"
    },
    {
     "data": {
      "application/vnd.jupyter.widget-view+json": {
       "model_id": "",
       "version_major": 2,
       "version_minor": 0
      },
      "text/plain": [
       "Minibatch:   0%|          | 0/91 [00:00<?, ?it/s]"
      ]
     },
     "metadata": {},
     "output_type": "display_data"
    },
    {
     "data": {
      "application/vnd.jupyter.widget-view+json": {
       "model_id": "",
       "version_major": 2,
       "version_minor": 0
      },
      "text/plain": [
       "Minibatch:   0%|          | 0/91 [00:00<?, ?it/s]"
      ]
     },
     "metadata": {},
     "output_type": "display_data"
    },
    {
     "data": {
      "application/vnd.jupyter.widget-view+json": {
       "model_id": "",
       "version_major": 2,
       "version_minor": 0
      },
      "text/plain": [
       "Minibatch:   0%|          | 0/91 [00:00<?, ?it/s]"
      ]
     },
     "metadata": {},
     "output_type": "display_data"
    },
    {
     "data": {
      "application/vnd.jupyter.widget-view+json": {
       "model_id": "",
       "version_major": 2,
       "version_minor": 0
      },
      "text/plain": [
       "Minibatch:   0%|          | 0/91 [00:00<?, ?it/s]"
      ]
     },
     "metadata": {},
     "output_type": "display_data"
    },
    {
     "data": {
      "application/vnd.jupyter.widget-view+json": {
       "model_id": "",
       "version_major": 2,
       "version_minor": 0
      },
      "text/plain": [
       "Minibatch:   0%|          | 0/91 [00:00<?, ?it/s]"
      ]
     },
     "metadata": {},
     "output_type": "display_data"
    },
    {
     "data": {
      "application/vnd.jupyter.widget-view+json": {
       "model_id": "",
       "version_major": 2,
       "version_minor": 0
      },
      "text/plain": [
       "Minibatch:   0%|          | 0/91 [00:00<?, ?it/s]"
      ]
     },
     "metadata": {},
     "output_type": "display_data"
    },
    {
     "data": {
      "application/vnd.jupyter.widget-view+json": {
       "model_id": "",
       "version_major": 2,
       "version_minor": 0
      },
      "text/plain": [
       "Minibatch:   0%|          | 0/91 [00:00<?, ?it/s]"
      ]
     },
     "metadata": {},
     "output_type": "display_data"
    },
    {
     "data": {
      "application/vnd.jupyter.widget-view+json": {
       "model_id": "",
       "version_major": 2,
       "version_minor": 0
      },
      "text/plain": [
       "Minibatch:   0%|          | 0/91 [00:00<?, ?it/s]"
      ]
     },
     "metadata": {},
     "output_type": "display_data"
    },
    {
     "data": {
      "application/vnd.jupyter.widget-view+json": {
       "model_id": "",
       "version_major": 2,
       "version_minor": 0
      },
      "text/plain": [
       "Minibatch:   0%|          | 0/91 [00:00<?, ?it/s]"
      ]
     },
     "metadata": {},
     "output_type": "display_data"
    },
    {
     "data": {
      "application/vnd.jupyter.widget-view+json": {
       "model_id": "",
       "version_major": 2,
       "version_minor": 0
      },
      "text/plain": [
       "Minibatch:   0%|          | 0/91 [00:00<?, ?it/s]"
      ]
     },
     "metadata": {},
     "output_type": "display_data"
    },
    {
     "data": {
      "application/vnd.jupyter.widget-view+json": {
       "model_id": "",
       "version_major": 2,
       "version_minor": 0
      },
      "text/plain": [
       "Minibatch:   0%|          | 0/91 [00:00<?, ?it/s]"
      ]
     },
     "metadata": {},
     "output_type": "display_data"
    },
    {
     "data": {
      "application/vnd.jupyter.widget-view+json": {
       "model_id": "",
       "version_major": 2,
       "version_minor": 0
      },
      "text/plain": [
       "Minibatch:   0%|          | 0/91 [00:00<?, ?it/s]"
      ]
     },
     "metadata": {},
     "output_type": "display_data"
    },
    {
     "data": {
      "application/vnd.jupyter.widget-view+json": {
       "model_id": "",
       "version_major": 2,
       "version_minor": 0
      },
      "text/plain": [
       "Minibatch:   0%|          | 0/91 [00:00<?, ?it/s]"
      ]
     },
     "metadata": {},
     "output_type": "display_data"
    },
    {
     "data": {
      "application/vnd.jupyter.widget-view+json": {
       "model_id": "",
       "version_major": 2,
       "version_minor": 0
      },
      "text/plain": [
       "Minibatch:   0%|          | 0/91 [00:00<?, ?it/s]"
      ]
     },
     "metadata": {},
     "output_type": "display_data"
    },
    {
     "data": {
      "application/vnd.jupyter.widget-view+json": {
       "model_id": "",
       "version_major": 2,
       "version_minor": 0
      },
      "text/plain": [
       "Minibatch:   0%|          | 0/91 [00:00<?, ?it/s]"
      ]
     },
     "metadata": {},
     "output_type": "display_data"
    },
    {
     "data": {
      "application/vnd.jupyter.widget-view+json": {
       "model_id": "",
       "version_major": 2,
       "version_minor": 0
      },
      "text/plain": [
       "Minibatch:   0%|          | 0/91 [00:00<?, ?it/s]"
      ]
     },
     "metadata": {},
     "output_type": "display_data"
    }
   ],
   "source": [
    "# this is for running the notebook in our testing framework\n",
    "import os\n",
    "import tqdm.notebook\n",
    "from torch.optim.lr_scheduler import MultiStepLR\n",
    "num_epochs = 40 # Number of complete passes through the data\n",
    "\n",
    "# Will train all models in the same loop\n",
    "\n",
    "model.train()\n",
    "likelihood.train()\n",
    "hyperparameter_optimizer = torch.optim.Adam([\n",
    "    {'params': model.hyperparameters()},\n",
    "    {'params': likelihood.parameters()},\n",
    "], lr=0.01)\n",
    "variational_ngd_optimizer = gpytorch.optim.NGD(\n",
    "    model.variational_parameters(), \n",
    "    num_data=y_train.size(0), lr=0.01)\n",
    "\n",
    "scheduler_hypers = MultiStepLR(hyperparameter_optimizer, milestones=[#0.25 * num_epochs,\n",
    "                                                                     0.50 * num_epochs,\n",
    "                                                                     0.75 * num_epochs\n",
    "                                                                     ], gamma=0.1)\n",
    "scheduler_variational = MultiStepLR(variational_ngd_optimizer, milestones=[#0.25 * num_epochs,\n",
    "                                                                     0.50 * num_epochs,\n",
    "                                                                     0.75 * num_epochs\n",
    "                                                                     ], gamma=0.1)\n",
    "# Tracking loss\n",
    "train_loss = []\n",
    "\n",
    "\n",
    "# Our loss object. We're using the VariationalELBO, which essentially just computes the ELBO\n",
    "mll = gpytorch.mlls.VariationalELBO(likelihood, model, num_data=y_train.size(0))\n",
    "\n",
    "# We use more CG iterations here because the preconditioner introduced in the NeurIPS paper seems to be less\n",
    "# effective for VI.\n",
    "with gpytorch.settings.cholesky_max_tries(12):\n",
    "    epochs_iter = tqdm.notebook.tqdm(range(num_epochs), desc=\"Epoch\")\n",
    "    for i in epochs_iter:\n",
    "        # Within each iteration, we will go over each minibatch of data\n",
    "        minibatch_iter = tqdm.notebook.tqdm(train_loader, desc=\"Minibatch\", leave=False)\n",
    "        for x_batch, y_batch, y_noise_batch in minibatch_iter:\n",
    "            # Zero gradients\n",
    "            hyperparameter_optimizer.zero_grad()\n",
    "            variational_ngd_optimizer.zero_grad()\n",
    "            # Get outputs\n",
    "            output = model(x_batch)\n",
    "            # Compute loss\n",
    "            #loss = -mll(output, y_batch, noise=y_noise_batch)\n",
    "            loss = -mll(output, y_batch)\n",
    "            # Call backward on loss\n",
    "            loss.backward()\n",
    "            # Take a step\n",
    "            hyperparameter_optimizer.step()\n",
    "            variational_ngd_optimizer.step()\n",
    "            \n",
    "            \n",
    "            # Update counter\n",
    "            minibatch_iter.set_postfix(loss=loss.item())\n",
    "            \n",
    "            # Track loss\n",
    "            train_loss.append(loss.item())\n",
    "            \n",
    "            \n",
    "        # Step learning rate scheduler\n",
    "        scheduler_hypers.step()\n",
    "        scheduler_variational.step()\n",
    "        "
   ]
  },
  {
   "cell_type": "code",
   "execution_count": 157,
   "id": "016cfac7",
   "metadata": {},
   "outputs": [
    {
     "data": {
      "text/plain": [
       "[<matplotlib.lines.Line2D at 0x3005b6a10>]"
      ]
     },
     "execution_count": 157,
     "metadata": {},
     "output_type": "execute_result"
    },
    {
     "data": {
      "image/png": "[encoded data removed]",
      "text/plain": [
       "<Figure size 640x480 with 1 Axes>"
      ]
     },
     "metadata": {},
     "output_type": "display_data"
    }
   ],
   "source": [
    "plt.plot(torch.tensor(train_loss), \"r-\")"
   ]
  },
  {
   "cell_type": "code",
   "execution_count": 158,
   "id": "43dc8bb4",
   "metadata": {},
   "outputs": [],
   "source": [
    "# Set into eval mode\n",
    "model.eval()\n",
    "\n",
    "likelihood.eval()\n",
    "\n",
    "# Make predictions\n",
    "\n",
    "with torch.no_grad(), gpytorch.settings.fast_pred_var(), gpytorch.settings.cholesky_max_tries(12):\n",
    "    predictions = likelihood(model(X_test))\n",
    "    \n",
    "    mean = predictions.mean\n",
    "    \n",
    "    #lower, upper = predictions.confidence_region()\n",
    "\n"
   ]
  },
  {
   "cell_type": "code",
   "execution_count": 159,
   "id": "2c0c7526",
   "metadata": {},
   "outputs": [
    {
     "data": {
      "text/plain": [
       "tensor([-0.0972, -0.1509, -0.2044,  ..., -0.0376,  0.3272,  0.5327])"
      ]
     },
     "execution_count": 159,
     "metadata": {},
     "output_type": "execute_result"
    }
   ],
   "source": [
    "mean"
   ]
  },
  {
   "cell_type": "code",
   "execution_count": 160,
   "id": "d1473aca",
   "metadata": {},
   "outputs": [],
   "source": [
    "mean_trunc = torch.mean(mean,dim=0)"
   ]
  },
  {
   "cell_type": "code",
   "execution_count": 161,
   "id": "06e08ccb",
   "metadata": {},
   "outputs": [
    {
     "data": {
      "text/plain": [
       "tensor(-0.1602)"
      ]
     },
     "execution_count": 161,
     "metadata": {},
     "output_type": "execute_result"
    }
   ],
   "source": [
    "mean_trunc"
   ]
  },
  {
   "cell_type": "code",
   "execution_count": 162,
   "id": "391fc700",
   "metadata": {},
   "outputs": [],
   "source": [
    "mean_trunc[mean_trunc < 0] = 0\n",
    "mean_trunc[mean_trunc > 1] = 1\n"
   ]
  },
  {
   "cell_type": "code",
   "execution_count": 163,
   "id": "2a963c4a",
   "metadata": {},
   "outputs": [
    {
     "data": {
      "text/plain": [
       "tensor(0.)"
      ]
     },
     "execution_count": 163,
     "metadata": {},
     "output_type": "execute_result"
    }
   ],
   "source": [
    "mean_trunc.max()"
   ]
  },
  {
   "cell_type": "code",
   "execution_count": 164,
   "id": "eb398877",
   "metadata": {},
   "outputs": [
    {
     "name": "stdout",
     "output_type": "stream",
     "text": [
      "[[1.         0.56471797]\n",
      " [0.56471797 1.        ]]\n",
      "[[1.         0.13064883]\n",
      " [0.13064883 1.        ]]\n"
     ]
    }
   ],
   "source": [
    "print(np.corrcoef(mean,y_test))\n",
    "print(np.corrcoef(test[\"p0Mean\"].values,y_test))"
   ]
  },
  {
   "cell_type": "code",
   "execution_count": 165,
   "id": "f77c2fda",
   "metadata": {},
   "outputs": [
    {
     "data": {
      "text/plain": [
       "tensor([-0.0377, -0.0400, -0.0466,  ...,  1.1003,  1.8069,  1.5118])"
      ]
     },
     "execution_count": 165,
     "metadata": {},
     "output_type": "execute_result"
    }
   ],
   "source": [
    "y_test"
   ]
  },
  {
   "cell_type": "code",
   "execution_count": 166,
   "id": "5dd0a9de",
   "metadata": {},
   "outputs": [
    {
     "data": {
      "text/plain": [
       "<matplotlib.collections.PathCollection at 0x30070d000>"
      ]
     },
     "execution_count": 166,
     "metadata": {},
     "output_type": "execute_result"
    },
    {
     "data": {
      "image/png": "[encoded data removed]",
      "text/plain": [
       "<Figure size 640x480 with 1 Axes>"
      ]
     },
     "metadata": {},
     "output_type": "display_data"
    }
   ],
   "source": [
    "plt.scatter(mean.numpy(),y_test)"
   ]
  },
  {
   "cell_type": "code",
   "execution_count": null,
   "id": "44eefd20",
   "metadata": {},
   "outputs": [],
   "source": []
  },
  {
   "cell_type": "code",
   "execution_count": 167,
   "id": "2c795294",
   "metadata": {},
   "outputs": [
    {
     "data": {
      "text/plain": [
       "<matplotlib.collections.PathCollection at 0x3007979a0>"
      ]
     },
     "execution_count": 167,
     "metadata": {},
     "output_type": "execute_result"
    },
    {
     "data": {
      "image/png": "[encoded data removed]",
      "text/plain": [
       "<Figure size 640x480 with 1 Axes>"
      ]
     },
     "metadata": {},
     "output_type": "display_data"
    }
   ],
   "source": [
    "plt.scatter(test[\"p0Mean\"].values,y_test)"
   ]
  },
  {
   "cell_type": "code",
   "execution_count": 168,
   "id": "9cf6c04b",
   "metadata": {},
   "outputs": [],
   "source": [
    "b1 = test[\"b1\"]\n",
    "b2 = test[\"b2\"]\n",
    "p0 = test[\"p0Mean\"]\n",
    "Delta_hat = -p0/(1+np.exp(b1*mean.numpy()+np.log(p0/(1-p0)))) + (1-p0)/(1+np.exp(-b2*mean.numpy()-np.log(p0/(1-p0))))\n",
    "f_hat = p0 + Delta_hat"
   ]
  },
  {
   "cell_type": "code",
   "execution_count": 169,
   "id": "696fa808",
   "metadata": {},
   "outputs": [
    {
     "data": {
      "text/plain": [
       "<matplotlib.collections.PathCollection at 0x300e5c910>"
      ]
     },
     "execution_count": 169,
     "metadata": {},
     "output_type": "execute_result"
    },
    {
     "data": {
      "image/png": "[encoded data removed]",
      "text/plain": [
       "<Figure size 640x480 with 1 Axes>"
      ]
     },
     "metadata": {},
     "output_type": "display_data"
    }
   ],
   "source": [
    "plt.scatter(f_hat,test[\"fMean\"])"
   ]
  },
  {
   "cell_type": "code",
   "execution_count": 170,
   "id": "a566a658",
   "metadata": {},
   "outputs": [
    {
     "name": "stdout",
     "output_type": "stream",
     "text": [
      "[[1.         0.98408627]\n",
      " [0.98408627 1.        ]]\n"
     ]
    }
   ],
   "source": [
    "print(np.corrcoef(f_hat,test[\"fMean\"]))"
   ]
  },
  {
   "cell_type": "code",
   "execution_count": 171,
   "id": "ea8274d9",
   "metadata": {},
   "outputs": [
    {
     "data": {
      "text/plain": [
       "<matplotlib.collections.PathCollection at 0x300eac7f0>"
      ]
     },
     "execution_count": 171,
     "metadata": {},
     "output_type": "execute_result"
    },
    {
     "data": {
      "image/png": "[encoded data removed]",
      "text/plain": [
       "<Figure size 640x480 with 1 Axes>"
      ]
     },
     "metadata": {},
     "output_type": "display_data"
    }
   ],
   "source": [
    "plt.scatter(test[\"p0Mean\"],test[\"fMean\"])"
   ]
  },
  {
   "cell_type": "code",
   "execution_count": 153,
   "id": "d1175337",
   "metadata": {},
   "outputs": [
    {
     "name": "stdout",
     "output_type": "stream",
     "text": [
      "[[1.         0.97742444]\n",
      " [0.97742444 1.        ]]\n"
     ]
    }
   ],
   "source": [
    "print(np.corrcoef(test[\"p0Mean\"],test[\"fMean\"]))"
   ]
  },
  {
   "cell_type": "code",
   "execution_count": null,
   "id": "30350727",
   "metadata": {},
   "outputs": [],
   "source": []
  }
 ],
 "metadata": {
  "kernelspec": {
   "display_name": "Python 3 (ipykernel)",
   "language": "python",
   "name": "python3"
  },
  "language_info": {
   "codemirror_mode": {
    "name": "ipython",
    "version": 3
   },
   "file_extension": ".py",
   "mimetype": "text/x-python",
   "name": "python",
   "nbconvert_exporter": "python",
   "pygments_lexer": "ipython3",
   "version": "3.11.5"
  }
 },
 "nbformat": 4,
 "nbformat_minor": 5
}
